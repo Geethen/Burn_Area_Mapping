{
 "cells": [
  {
   "cell_type": "code",
   "execution_count": 1,
   "metadata": {},
   "outputs": [
    {
     "name": "stderr",
     "output_type": "stream",
     "text": [
      "*** Earth Engine *** Share your feedback by taking our Annual Developer Satisfaction Survey: https://google.qualtrics.com/jfe/form/SV_0JLhFqfSY1uiEaW?source=Init\n"
     ]
    }
   ],
   "source": [
    "import os\n",
    "import ee\n",
    "try:\n",
    "    ee.Initialize()\n",
    "except:\n",
    "    ee.Authenticate()\n",
    "    ee.Initialize()\n",
    "\n",
    "import geemap\n",
    "\n",
    "from geeml.utils import eeprint"
   ]
  },
  {
   "cell_type": "code",
   "execution_count": 2,
   "metadata": {},
   "outputs": [
    {
     "data": {
      "text/html": [
       "\n",
       "            <style>\n",
       "                .geemap-dark {\n",
       "                    --jp-widgets-color: white;\n",
       "                    --jp-widgets-label-color: white;\n",
       "                    --jp-ui-font-color1: white;\n",
       "                    --jp-layout-color2: #454545;\n",
       "                    background-color: #383838;\n",
       "                }\n",
       "\n",
       "                .geemap-dark .jupyter-button {\n",
       "                    --jp-layout-color3: #383838;\n",
       "                }\n",
       "\n",
       "                .geemap-colab {\n",
       "                    background-color: var(--colab-primary-surface-color, white);\n",
       "                }\n",
       "\n",
       "                .geemap-colab .jupyter-button {\n",
       "                    --jp-layout-color3: var(--colab-primary-surface-color, white);\n",
       "                }\n",
       "            </style>\n",
       "            "
      ],
      "text/plain": [
       "<IPython.core.display.HTML object>"
      ]
     },
     "metadata": {},
     "output_type": "display_data"
    }
   ],
   "source": [
    "import ee\n",
    "service_account = 'github-action@ee-geethensingh.iam.gserviceaccount.com'\n",
    "credentials = ee.ServiceAccountCredentials(service_account, r\"C:\\Users\\coach\\myfiles\\postdoc\\Fire\\code\\secret.json\")\n",
    "ee.Initialize(credentials)"
   ]
  },
  {
   "cell_type": "code",
   "execution_count": 3,
   "metadata": {},
   "outputs": [
    {
     "data": {
      "text/html": [
       "\n",
       "            <style>\n",
       "                .geemap-dark {\n",
       "                    --jp-widgets-color: white;\n",
       "                    --jp-widgets-label-color: white;\n",
       "                    --jp-ui-font-color1: white;\n",
       "                    --jp-layout-color2: #454545;\n",
       "                    background-color: #383838;\n",
       "                }\n",
       "\n",
       "                .geemap-dark .jupyter-button {\n",
       "                    --jp-layout-color3: #383838;\n",
       "                }\n",
       "\n",
       "                .geemap-colab {\n",
       "                    background-color: var(--colab-primary-surface-color, white);\n",
       "                }\n",
       "\n",
       "                .geemap-colab .jupyter-button {\n",
       "                    --jp-layout-color3: var(--colab-primary-surface-color, white);\n",
       "                }\n",
       "            </style>\n",
       "            "
      ],
      "text/plain": [
       "<IPython.core.display.HTML object>"
      ]
     },
     "metadata": {},
     "output_type": "display_data"
    },
    {
     "data": {
      "text/plain": [
       "'C:\\\\Users\\\\coach\\\\myfiles\\\\postdoc\\\\Fire\\\\code\\\\Burn_Area_Mapping\\\\src'"
      ]
     },
     "execution_count": 3,
     "metadata": {},
     "output_type": "execute_result"
    }
   ],
   "source": [
    "os.chdir(r\"C:\\Users\\coach\\myfiles\\postdoc\\Fire\\code\\Burn_Area_Mapping\\src\")\n",
    "os.getcwd()"
   ]
  },
  {
   "cell_type": "code",
   "execution_count": 4,
   "metadata": {},
   "outputs": [
    {
     "data": {
      "text/html": [
       "\n",
       "            <style>\n",
       "                .geemap-dark {\n",
       "                    --jp-widgets-color: white;\n",
       "                    --jp-widgets-label-color: white;\n",
       "                    --jp-ui-font-color1: white;\n",
       "                    --jp-layout-color2: #454545;\n",
       "                    background-color: #383838;\n",
       "                }\n",
       "\n",
       "                .geemap-dark .jupyter-button {\n",
       "                    --jp-layout-color3: #383838;\n",
       "                }\n",
       "\n",
       "                .geemap-colab {\n",
       "                    background-color: var(--colab-primary-surface-color, white);\n",
       "                }\n",
       "\n",
       "                .geemap-colab .jupyter-button {\n",
       "                    --jp-layout-color3: var(--colab-primary-surface-color, white);\n",
       "                }\n",
       "            </style>\n",
       "            "
      ],
      "text/plain": [
       "<IPython.core.display.HTML object>"
      ]
     },
     "metadata": {},
     "output_type": "display_data"
    }
   ],
   "source": [
    "from components.data_extraction import extractDataset\n",
    "%load_ext autoreload\n"
   ]
  },
  {
   "cell_type": "code",
   "execution_count": 13,
   "metadata": {},
   "outputs": [
    {
     "data": {
      "text/html": [
       "\n",
       "            <style>\n",
       "                .geemap-dark {\n",
       "                    --jp-widgets-color: white;\n",
       "                    --jp-widgets-label-color: white;\n",
       "                    --jp-ui-font-color1: white;\n",
       "                    --jp-layout-color2: #454545;\n",
       "                    background-color: #383838;\n",
       "                }\n",
       "\n",
       "                .geemap-dark .jupyter-button {\n",
       "                    --jp-layout-color3: #383838;\n",
       "                }\n",
       "\n",
       "                .geemap-colab {\n",
       "                    background-color: var(--colab-primary-surface-color, white);\n",
       "                }\n",
       "\n",
       "                .geemap-colab .jupyter-button {\n",
       "                    --jp-layout-color3: var(--colab-primary-surface-color, white);\n",
       "                }\n",
       "            </style>\n",
       "            "
      ],
      "text/plain": [
       "<IPython.core.display.HTML object>"
      ]
     },
     "metadata": {},
     "output_type": "display_data"
    }
   ],
   "source": [
    "%autoreload 2"
   ]
  },
  {
   "cell_type": "code",
   "execution_count": 5,
   "metadata": {},
   "outputs": [
    {
     "data": {
      "text/html": [
       "\n",
       "            <style>\n",
       "                .geemap-dark {\n",
       "                    --jp-widgets-color: white;\n",
       "                    --jp-widgets-label-color: white;\n",
       "                    --jp-ui-font-color1: white;\n",
       "                    --jp-layout-color2: #454545;\n",
       "                    background-color: #383838;\n",
       "                }\n",
       "\n",
       "                .geemap-dark .jupyter-button {\n",
       "                    --jp-layout-color3: #383838;\n",
       "                }\n",
       "\n",
       "                .geemap-colab {\n",
       "                    background-color: var(--colab-primary-surface-color, white);\n",
       "                }\n",
       "\n",
       "                .geemap-colab .jupyter-button {\n",
       "                    --jp-layout-color3: var(--colab-primary-surface-color, white);\n",
       "                }\n",
       "            </style>\n",
       "            "
      ],
      "text/plain": [
       "<IPython.core.display.HTML object>"
      ]
     },
     "metadata": {},
     "output_type": "display_data"
    },
    {
     "data": {
      "application/vnd.jupyter.widget-view+json": {
       "model_id": "bfec3966400049edb97417053f343661",
       "version_major": 2,
       "version_minor": 0
      },
      "text/plain": [
       "Map(center=[-31.374999751707104, 29.510986261502627], controls=(WidgetControl(options=['position', 'transparen…"
      ]
     },
     "execution_count": 5,
     "metadata": {},
     "output_type": "execute_result"
    }
   ],
   "source": [
    "Map = geemap.Map()\n",
    "fc = ee.FeatureCollection(\"projects/ee-geethensingh/assets/postdoc/proj_fired_south_africa_to2021182_events\")\n",
    "Map.addLayer(ee.Feature(fc.first()), {'color': 'red'}, \"Fire Test\")\n",
    "Map.centerObject(fc.first(), 12)\n",
    "Map"
   ]
  },
  {
   "cell_type": "markdown",
   "metadata": {},
   "source": [
    "## Step 1: Data extraction"
   ]
  },
  {
   "cell_type": "code",
   "execution_count": 6,
   "metadata": {},
   "outputs": [
    {
     "data": {
      "text/html": [
       "\n",
       "            <style>\n",
       "                .geemap-dark {\n",
       "                    --jp-widgets-color: white;\n",
       "                    --jp-widgets-label-color: white;\n",
       "                    --jp-ui-font-color1: white;\n",
       "                    --jp-layout-color2: #454545;\n",
       "                    background-color: #383838;\n",
       "                }\n",
       "\n",
       "                .geemap-dark .jupyter-button {\n",
       "                    --jp-layout-color3: #383838;\n",
       "                }\n",
       "\n",
       "                .geemap-colab {\n",
       "                    background-color: var(--colab-primary-surface-color, white);\n",
       "                }\n",
       "\n",
       "                .geemap-colab .jupyter-button {\n",
       "                    --jp-layout-color3: var(--colab-primary-surface-color, white);\n",
       "                }\n",
       "            </style>\n",
       "            "
      ],
      "text/plain": [
       "<IPython.core.display.HTML object>"
      ]
     },
     "metadata": {},
     "output_type": "display_data"
    }
   ],
   "source": [
    "# Filter fire events to period and area of interest\n",
    "fireEvents = fc.map(lambda ft: ft.set('system:time_start', ee.Date(ft.get('ig_date')))\n",
    "                    .set('system:time_end', ee.Date(ft.get('last_date')))).filterDate('2017-01-01', '2022-01-01')"
   ]
  },
  {
   "cell_type": "code",
   "execution_count": null,
   "metadata": {},
   "outputs": [
    {
     "data": {
      "text/html": [
       "\n",
       "            <style>\n",
       "                .geemap-dark {\n",
       "                    --jp-widgets-color: white;\n",
       "                    --jp-widgets-label-color: white;\n",
       "                    --jp-ui-font-color1: white;\n",
       "                    --jp-layout-color2: #454545;\n",
       "                    background-color: #383838;\n",
       "                }\n",
       "\n",
       "                .geemap-dark .jupyter-button {\n",
       "                    --jp-layout-color3: #383838;\n",
       "                }\n",
       "\n",
       "                .geemap-colab {\n",
       "                    background-color: var(--colab-primary-surface-color, white);\n",
       "                }\n",
       "\n",
       "                .geemap-colab .jupyter-button {\n",
       "                    --jp-layout-color3: var(--colab-primary-surface-color, white);\n",
       "                }\n",
       "            </style>\n",
       "            "
      ],
      "text/plain": [
       "<IPython.core.display.HTML object>"
      ]
     },
     "metadata": {},
     "output_type": "display_data"
    },
    {
     "data": {
      "application/vnd.jupyter.widget-view+json": {
       "model_id": "1a3f11a9c3aa4d27abd96b2a95b764c9",
       "version_major": 2,
       "version_minor": 0
      },
      "text/plain": [
       "  0%|          | 0/76 [00:00<?, ?it/s]"
      ]
     },
     "metadata": {},
     "output_type": "display_data"
    },
    {
     "name": "stdout",
     "output_type": "stream",
     "text": [
      "  temporal_variance_p25 temporal_variance_p5 temporal_variance_p50  \\\n",
      "0                  None                 None                  None   \n",
      "\n",
      "  temporal_variance_p75 temporal_variance_p95  \\\n",
      "0                  None                  None   \n",
      "\n",
      "                                              scenes  label  \n",
      "0  [1_20201230T080239_20201230T082138_T35HLD, 1_2...      0  \n"
     ]
    },
    {
     "ename": "KeyboardInterrupt",
     "evalue": "",
     "output_type": "error",
     "traceback": [
      "\u001b[1;31m---------------------------------------------------------------------------\u001b[0m",
      "\u001b[1;31mKeyboardInterrupt\u001b[0m                         Traceback (most recent call last)",
      "Cell \u001b[1;32mIn[14], line 2\u001b[0m\n\u001b[0;32m      1\u001b[0m \u001b[38;5;66;03m# Get Sentinel-2 features for South Africa\u001b[39;00m\n\u001b[1;32m----> 2\u001b[0m \u001b[43mextractDataset\u001b[49m\u001b[43m(\u001b[49m\u001b[38;5;124;43m'\u001b[39;49m\u001b[38;5;124;43mSentinel-2\u001b[39;49m\u001b[38;5;124;43m'\u001b[39;49m\u001b[43m,\u001b[49m\u001b[43m \u001b[49m\u001b[38;5;124;43m'\u001b[39;49m\u001b[38;5;124;43mSouth Africa\u001b[39;49m\u001b[38;5;124;43m'\u001b[39;49m\u001b[43m,\u001b[49m\u001b[43m \u001b[49m\u001b[43mee\u001b[49m\u001b[38;5;241;43m.\u001b[39;49m\u001b[43mDate\u001b[49m\u001b[43m(\u001b[49m\u001b[38;5;124;43m'\u001b[39;49m\u001b[38;5;124;43m2021-01-01\u001b[39;49m\u001b[38;5;124;43m'\u001b[39;49m\u001b[43m)\u001b[49m\u001b[43m,\u001b[49m\u001b[43m \u001b[49m\u001b[43mee\u001b[49m\u001b[38;5;241;43m.\u001b[39;49m\u001b[43mDate\u001b[49m\u001b[43m(\u001b[49m\u001b[38;5;124;43m'\u001b[39;49m\u001b[38;5;124;43m2021-01-02\u001b[39;49m\u001b[38;5;124;43m'\u001b[39;49m\u001b[43m)\u001b[49m\u001b[43m,\u001b[49m\u001b[43m \u001b[49m\u001b[43mfireEvents\u001b[49m\u001b[43m,\u001b[49m\u001b[43m \u001b[49m\u001b[38;5;241;43m5\u001b[39;49m\u001b[43m,\u001b[49m\u001b[43m \u001b[49m\u001b[38;5;124;43m'\u001b[39;49m\u001b[38;5;124;43mextract_s2_2021010120220101.csv\u001b[39;49m\u001b[38;5;124;43m'\u001b[39;49m\u001b[43m)\u001b[49m\n\u001b[0;32m      3\u001b[0m \u001b[38;5;66;03m# Get Landsat-8 features for South Africa (24 hrs to extract data for 1 year. 1 day = 9 Landsat images = 4 mins)\u001b[39;00m\n\u001b[0;32m      4\u001b[0m \u001b[38;5;66;03m# extractDataset('LANDSAT_8', 'South Africa', ee.Date('2020-01-01'), ee.Date('2020-01-02'), fireEvents, 16, 'extract_l8_2013010120220101.csv')\u001b[39;00m\n",
      "File \u001b[1;32m~\\myfiles\\postdoc\\Fire\\code\\Burn_Area_Mapping\\src\\components\\data_extraction.py:102\u001b[0m, in \u001b[0;36mextractDataset\u001b[1;34m(sensor, country, startDate, endDate, fireEvents, returnInterval, filename)\u001b[0m\n\u001b[0;32m    100\u001b[0m xImage \u001b[38;5;241m=\u001b[39m ee\u001b[38;5;241m.\u001b[39mImage(xListImages\u001b[38;5;241m.\u001b[39mget(idx))\n\u001b[0;32m    101\u001b[0m \u001b[38;5;66;03m# get Ximages and labelled y image\u001b[39;00m\n\u001b[1;32m--> 102\u001b[0m xImages, yImage \u001b[38;5;241m=\u001b[39m \u001b[43mgetImages\u001b[49m\u001b[43m(\u001b[49m\u001b[43mxImage\u001b[49m\u001b[43m,\u001b[49m\u001b[43m \u001b[49m\u001b[43mfireEvents\u001b[49m\u001b[43m,\u001b[49m\u001b[43m \u001b[49m\u001b[43mreturnInterval\u001b[49m\u001b[38;5;241;43m=\u001b[39;49m\u001b[43m \u001b[49m\u001b[43mreturnInterval\u001b[49m\u001b[43m)\u001b[49m\n\u001b[0;32m    103\u001b[0m \u001b[38;5;66;03m# convert to geodataframe\u001b[39;00m\n\u001b[0;32m    104\u001b[0m \u001b[38;5;28;01mtry\u001b[39;00m:\n",
      "File \u001b[1;32m~\\myfiles\\postdoc\\Fire\\code\\Burn_Area_Mapping\\src\\components\\data_extraction.py:64\u001b[0m, in \u001b[0;36mgetImages\u001b[1;34m(image, featureCollection, returnInterval)\u001b[0m\n\u001b[0;32m     61\u001b[0m endDate \u001b[38;5;241m=\u001b[39m fireEvents\u001b[38;5;241m.\u001b[39maggregate_max(\u001b[38;5;124m'\u001b[39m\u001b[38;5;124msystem:time_end\u001b[39m\u001b[38;5;124m'\u001b[39m)\n\u001b[0;32m     62\u001b[0m \u001b[38;5;66;03m# If there are no fire events from two months prior to image, start and end date will be assigned None, overwrite this with\u001b[39;00m\n\u001b[0;32m     63\u001b[0m \u001b[38;5;66;03m# current image date. This will return False for the dateRange function.\u001b[39;00m\n\u001b[1;32m---> 64\u001b[0m \u001b[38;5;28;01mif\u001b[39;00m startDate\u001b[38;5;241m.\u001b[39mgetInfo() \u001b[38;5;129;01mis\u001b[39;00m \u001b[38;5;28;01mNone\u001b[39;00m \u001b[38;5;129;01mor\u001b[39;00m \u001b[43mendDate\u001b[49m\u001b[38;5;241;43m.\u001b[39;49m\u001b[43mgetInfo\u001b[49m\u001b[43m(\u001b[49m\u001b[43m)\u001b[49m \u001b[38;5;129;01mis\u001b[39;00m \u001b[38;5;28;01mNone\u001b[39;00m:\n\u001b[0;32m     65\u001b[0m     startDate \u001b[38;5;241m=\u001b[39m image\u001b[38;5;241m.\u001b[39mdate()\n\u001b[0;32m     66\u001b[0m     endDate \u001b[38;5;241m=\u001b[39m image\u001b[38;5;241m.\u001b[39mdate()\n",
      "File \u001b[1;32mc:\\ProgramData\\Anaconda3\\envs\\erthy\\Lib\\site-packages\\ee\\computedobject.py:107\u001b[0m, in \u001b[0;36mComputedObject.getInfo\u001b[1;34m(self)\u001b[0m\n\u001b[0;32m    101\u001b[0m \u001b[38;5;28;01mdef\u001b[39;00m \u001b[38;5;21mgetInfo\u001b[39m(\u001b[38;5;28mself\u001b[39m) \u001b[38;5;241m-\u001b[39m\u001b[38;5;241m>\u001b[39m Optional[Any]:\n\u001b[0;32m    102\u001b[0m \u001b[38;5;250m  \u001b[39m\u001b[38;5;124;03m\"\"\"Fetch and return information about this object.\u001b[39;00m\n\u001b[0;32m    103\u001b[0m \n\u001b[0;32m    104\u001b[0m \u001b[38;5;124;03m  Returns:\u001b[39;00m\n\u001b[0;32m    105\u001b[0m \u001b[38;5;124;03m    The object can evaluate to anything.\u001b[39;00m\n\u001b[0;32m    106\u001b[0m \u001b[38;5;124;03m  \"\"\"\u001b[39;00m\n\u001b[1;32m--> 107\u001b[0m   \u001b[38;5;28;01mreturn\u001b[39;00m \u001b[43mdata\u001b[49m\u001b[38;5;241;43m.\u001b[39;49m\u001b[43mcomputeValue\u001b[49m\u001b[43m(\u001b[49m\u001b[38;5;28;43mself\u001b[39;49m\u001b[43m)\u001b[49m\n",
      "File \u001b[1;32mc:\\ProgramData\\Anaconda3\\envs\\erthy\\Lib\\site-packages\\ee\\data.py:1126\u001b[0m, in \u001b[0;36mcomputeValue\u001b[1;34m(obj)\u001b[0m\n\u001b[0;32m   1123\u001b[0m body \u001b[38;5;241m=\u001b[39m {\u001b[38;5;124m'\u001b[39m\u001b[38;5;124mexpression\u001b[39m\u001b[38;5;124m'\u001b[39m: serializer\u001b[38;5;241m.\u001b[39mencode(obj, for_cloud_api\u001b[38;5;241m=\u001b[39m\u001b[38;5;28;01mTrue\u001b[39;00m)}\n\u001b[0;32m   1124\u001b[0m _maybe_populate_workload_tag(body)\n\u001b[1;32m-> 1126\u001b[0m \u001b[38;5;28;01mreturn\u001b[39;00m \u001b[43m_execute_cloud_call\u001b[49m\u001b[43m(\u001b[49m\n\u001b[0;32m   1127\u001b[0m \u001b[43m    \u001b[49m\u001b[43m_get_cloud_projects\u001b[49m\u001b[43m(\u001b[49m\u001b[43m)\u001b[49m\n\u001b[0;32m   1128\u001b[0m \u001b[43m    \u001b[49m\u001b[38;5;241;43m.\u001b[39;49m\u001b[43mvalue\u001b[49m\u001b[43m(\u001b[49m\u001b[43m)\u001b[49m\n\u001b[0;32m   1129\u001b[0m \u001b[43m    \u001b[49m\u001b[38;5;241;43m.\u001b[39;49m\u001b[43mcompute\u001b[49m\u001b[43m(\u001b[49m\u001b[43mbody\u001b[49m\u001b[38;5;241;43m=\u001b[39;49m\u001b[43mbody\u001b[49m\u001b[43m,\u001b[49m\u001b[43m \u001b[49m\u001b[43mproject\u001b[49m\u001b[38;5;241;43m=\u001b[39;49m\u001b[43m_get_projects_path\u001b[49m\u001b[43m(\u001b[49m\u001b[43m)\u001b[49m\u001b[43m,\u001b[49m\u001b[43m \u001b[49m\u001b[43mprettyPrint\u001b[49m\u001b[38;5;241;43m=\u001b[39;49m\u001b[38;5;28;43;01mFalse\u001b[39;49;00m\u001b[43m)\u001b[49m\n\u001b[0;32m   1130\u001b[0m \u001b[43m\u001b[49m\u001b[43m)\u001b[49m[\u001b[38;5;124m'\u001b[39m\u001b[38;5;124mresult\u001b[39m\u001b[38;5;124m'\u001b[39m]\n",
      "File \u001b[1;32mc:\\ProgramData\\Anaconda3\\envs\\erthy\\Lib\\site-packages\\ee\\data.py:406\u001b[0m, in \u001b[0;36m_execute_cloud_call\u001b[1;34m(call, num_retries)\u001b[0m\n\u001b[0;32m    404\u001b[0m num_retries \u001b[38;5;241m=\u001b[39m _max_retries \u001b[38;5;28;01mif\u001b[39;00m num_retries \u001b[38;5;129;01mis\u001b[39;00m \u001b[38;5;28;01mNone\u001b[39;00m \u001b[38;5;28;01melse\u001b[39;00m num_retries\n\u001b[0;32m    405\u001b[0m \u001b[38;5;28;01mtry\u001b[39;00m:\n\u001b[1;32m--> 406\u001b[0m   \u001b[38;5;28;01mreturn\u001b[39;00m \u001b[43mcall\u001b[49m\u001b[38;5;241;43m.\u001b[39;49m\u001b[43mexecute\u001b[49m\u001b[43m(\u001b[49m\u001b[43mnum_retries\u001b[49m\u001b[38;5;241;43m=\u001b[39;49m\u001b[43mnum_retries\u001b[49m\u001b[43m)\u001b[49m\n\u001b[0;32m    407\u001b[0m \u001b[38;5;28;01mexcept\u001b[39;00m googleapiclient\u001b[38;5;241m.\u001b[39merrors\u001b[38;5;241m.\u001b[39mHttpError \u001b[38;5;28;01mas\u001b[39;00m e:\n\u001b[0;32m    408\u001b[0m   \u001b[38;5;28;01mraise\u001b[39;00m _translate_cloud_exception(e)\n",
      "File \u001b[1;32mc:\\ProgramData\\Anaconda3\\envs\\erthy\\Lib\\site-packages\\googleapiclient\\_helpers.py:130\u001b[0m, in \u001b[0;36mpositional.<locals>.positional_decorator.<locals>.positional_wrapper\u001b[1;34m(*args, **kwargs)\u001b[0m\n\u001b[0;32m    128\u001b[0m     \u001b[38;5;28;01melif\u001b[39;00m positional_parameters_enforcement \u001b[38;5;241m==\u001b[39m POSITIONAL_WARNING:\n\u001b[0;32m    129\u001b[0m         logger\u001b[38;5;241m.\u001b[39mwarning(message)\n\u001b[1;32m--> 130\u001b[0m \u001b[38;5;28;01mreturn\u001b[39;00m \u001b[43mwrapped\u001b[49m\u001b[43m(\u001b[49m\u001b[38;5;241;43m*\u001b[39;49m\u001b[43margs\u001b[49m\u001b[43m,\u001b[49m\u001b[43m \u001b[49m\u001b[38;5;241;43m*\u001b[39;49m\u001b[38;5;241;43m*\u001b[39;49m\u001b[43mkwargs\u001b[49m\u001b[43m)\u001b[49m\n",
      "File \u001b[1;32mc:\\ProgramData\\Anaconda3\\envs\\erthy\\Lib\\site-packages\\googleapiclient\\http.py:923\u001b[0m, in \u001b[0;36mHttpRequest.execute\u001b[1;34m(self, http, num_retries)\u001b[0m\n\u001b[0;32m    920\u001b[0m     \u001b[38;5;28mself\u001b[39m\u001b[38;5;241m.\u001b[39mheaders[\u001b[38;5;124m\"\u001b[39m\u001b[38;5;124mcontent-length\u001b[39m\u001b[38;5;124m\"\u001b[39m] \u001b[38;5;241m=\u001b[39m \u001b[38;5;28mstr\u001b[39m(\u001b[38;5;28mlen\u001b[39m(\u001b[38;5;28mself\u001b[39m\u001b[38;5;241m.\u001b[39mbody))\n\u001b[0;32m    922\u001b[0m \u001b[38;5;66;03m# Handle retries for server-side errors.\u001b[39;00m\n\u001b[1;32m--> 923\u001b[0m resp, content \u001b[38;5;241m=\u001b[39m \u001b[43m_retry_request\u001b[49m\u001b[43m(\u001b[49m\n\u001b[0;32m    924\u001b[0m \u001b[43m    \u001b[49m\u001b[43mhttp\u001b[49m\u001b[43m,\u001b[49m\n\u001b[0;32m    925\u001b[0m \u001b[43m    \u001b[49m\u001b[43mnum_retries\u001b[49m\u001b[43m,\u001b[49m\n\u001b[0;32m    926\u001b[0m \u001b[43m    \u001b[49m\u001b[38;5;124;43m\"\u001b[39;49m\u001b[38;5;124;43mrequest\u001b[39;49m\u001b[38;5;124;43m\"\u001b[39;49m\u001b[43m,\u001b[49m\n\u001b[0;32m    927\u001b[0m \u001b[43m    \u001b[49m\u001b[38;5;28;43mself\u001b[39;49m\u001b[38;5;241;43m.\u001b[39;49m\u001b[43m_sleep\u001b[49m\u001b[43m,\u001b[49m\n\u001b[0;32m    928\u001b[0m \u001b[43m    \u001b[49m\u001b[38;5;28;43mself\u001b[39;49m\u001b[38;5;241;43m.\u001b[39;49m\u001b[43m_rand\u001b[49m\u001b[43m,\u001b[49m\n\u001b[0;32m    929\u001b[0m \u001b[43m    \u001b[49m\u001b[38;5;28;43mstr\u001b[39;49m\u001b[43m(\u001b[49m\u001b[38;5;28;43mself\u001b[39;49m\u001b[38;5;241;43m.\u001b[39;49m\u001b[43muri\u001b[49m\u001b[43m)\u001b[49m\u001b[43m,\u001b[49m\n\u001b[0;32m    930\u001b[0m \u001b[43m    \u001b[49m\u001b[43mmethod\u001b[49m\u001b[38;5;241;43m=\u001b[39;49m\u001b[38;5;28;43mstr\u001b[39;49m\u001b[43m(\u001b[49m\u001b[38;5;28;43mself\u001b[39;49m\u001b[38;5;241;43m.\u001b[39;49m\u001b[43mmethod\u001b[49m\u001b[43m)\u001b[49m\u001b[43m,\u001b[49m\n\u001b[0;32m    931\u001b[0m \u001b[43m    \u001b[49m\u001b[43mbody\u001b[49m\u001b[38;5;241;43m=\u001b[39;49m\u001b[38;5;28;43mself\u001b[39;49m\u001b[38;5;241;43m.\u001b[39;49m\u001b[43mbody\u001b[49m\u001b[43m,\u001b[49m\n\u001b[0;32m    932\u001b[0m \u001b[43m    \u001b[49m\u001b[43mheaders\u001b[49m\u001b[38;5;241;43m=\u001b[39;49m\u001b[38;5;28;43mself\u001b[39;49m\u001b[38;5;241;43m.\u001b[39;49m\u001b[43mheaders\u001b[49m\u001b[43m,\u001b[49m\n\u001b[0;32m    933\u001b[0m \u001b[43m\u001b[49m\u001b[43m)\u001b[49m\n\u001b[0;32m    935\u001b[0m \u001b[38;5;28;01mfor\u001b[39;00m callback \u001b[38;5;129;01min\u001b[39;00m \u001b[38;5;28mself\u001b[39m\u001b[38;5;241m.\u001b[39mresponse_callbacks:\n\u001b[0;32m    936\u001b[0m     callback(resp)\n",
      "File \u001b[1;32mc:\\ProgramData\\Anaconda3\\envs\\erthy\\Lib\\site-packages\\googleapiclient\\http.py:191\u001b[0m, in \u001b[0;36m_retry_request\u001b[1;34m(http, num_retries, req_type, sleep, rand, uri, method, *args, **kwargs)\u001b[0m\n\u001b[0;32m    189\u001b[0m \u001b[38;5;28;01mtry\u001b[39;00m:\n\u001b[0;32m    190\u001b[0m     exception \u001b[38;5;241m=\u001b[39m \u001b[38;5;28;01mNone\u001b[39;00m\n\u001b[1;32m--> 191\u001b[0m     resp, content \u001b[38;5;241m=\u001b[39m \u001b[43mhttp\u001b[49m\u001b[38;5;241;43m.\u001b[39;49m\u001b[43mrequest\u001b[49m\u001b[43m(\u001b[49m\u001b[43muri\u001b[49m\u001b[43m,\u001b[49m\u001b[43m \u001b[49m\u001b[43mmethod\u001b[49m\u001b[43m,\u001b[49m\u001b[43m \u001b[49m\u001b[38;5;241;43m*\u001b[39;49m\u001b[43margs\u001b[49m\u001b[43m,\u001b[49m\u001b[43m \u001b[49m\u001b[38;5;241;43m*\u001b[39;49m\u001b[38;5;241;43m*\u001b[39;49m\u001b[43mkwargs\u001b[49m\u001b[43m)\u001b[49m\n\u001b[0;32m    192\u001b[0m \u001b[38;5;66;03m# Retry on SSL errors and socket timeout errors.\u001b[39;00m\n\u001b[0;32m    193\u001b[0m \u001b[38;5;28;01mexcept\u001b[39;00m _ssl_SSLError \u001b[38;5;28;01mas\u001b[39;00m ssl_error:\n",
      "File \u001b[1;32mc:\\ProgramData\\Anaconda3\\envs\\erthy\\Lib\\site-packages\\google_auth_httplib2.py:218\u001b[0m, in \u001b[0;36mAuthorizedHttp.request\u001b[1;34m(self, uri, method, body, headers, redirections, connection_type, **kwargs)\u001b[0m\n\u001b[0;32m    215\u001b[0m     body_stream_position \u001b[38;5;241m=\u001b[39m body\u001b[38;5;241m.\u001b[39mtell()\n\u001b[0;32m    217\u001b[0m \u001b[38;5;66;03m# Make the request.\u001b[39;00m\n\u001b[1;32m--> 218\u001b[0m response, content \u001b[38;5;241m=\u001b[39m \u001b[38;5;28;43mself\u001b[39;49m\u001b[38;5;241;43m.\u001b[39;49m\u001b[43mhttp\u001b[49m\u001b[38;5;241;43m.\u001b[39;49m\u001b[43mrequest\u001b[49m\u001b[43m(\u001b[49m\n\u001b[0;32m    219\u001b[0m \u001b[43m    \u001b[49m\u001b[43muri\u001b[49m\u001b[43m,\u001b[49m\n\u001b[0;32m    220\u001b[0m \u001b[43m    \u001b[49m\u001b[43mmethod\u001b[49m\u001b[43m,\u001b[49m\n\u001b[0;32m    221\u001b[0m \u001b[43m    \u001b[49m\u001b[43mbody\u001b[49m\u001b[38;5;241;43m=\u001b[39;49m\u001b[43mbody\u001b[49m\u001b[43m,\u001b[49m\n\u001b[0;32m    222\u001b[0m \u001b[43m    \u001b[49m\u001b[43mheaders\u001b[49m\u001b[38;5;241;43m=\u001b[39;49m\u001b[43mrequest_headers\u001b[49m\u001b[43m,\u001b[49m\n\u001b[0;32m    223\u001b[0m \u001b[43m    \u001b[49m\u001b[43mredirections\u001b[49m\u001b[38;5;241;43m=\u001b[39;49m\u001b[43mredirections\u001b[49m\u001b[43m,\u001b[49m\n\u001b[0;32m    224\u001b[0m \u001b[43m    \u001b[49m\u001b[43mconnection_type\u001b[49m\u001b[38;5;241;43m=\u001b[39;49m\u001b[43mconnection_type\u001b[49m\u001b[43m,\u001b[49m\n\u001b[0;32m    225\u001b[0m \u001b[43m    \u001b[49m\u001b[38;5;241;43m*\u001b[39;49m\u001b[38;5;241;43m*\u001b[39;49m\u001b[43mkwargs\u001b[49m\n\u001b[0;32m    226\u001b[0m \u001b[43m\u001b[49m\u001b[43m)\u001b[49m\n\u001b[0;32m    228\u001b[0m \u001b[38;5;66;03m# If the response indicated that the credentials needed to be\u001b[39;00m\n\u001b[0;32m    229\u001b[0m \u001b[38;5;66;03m# refreshed, then refresh the credentials and re-attempt the\u001b[39;00m\n\u001b[0;32m    230\u001b[0m \u001b[38;5;66;03m# request.\u001b[39;00m\n\u001b[0;32m    231\u001b[0m \u001b[38;5;66;03m# A stored token may expire between the time it is retrieved and\u001b[39;00m\n\u001b[0;32m    232\u001b[0m \u001b[38;5;66;03m# the time the request is made, so we may need to try twice.\u001b[39;00m\n\u001b[0;32m    233\u001b[0m \u001b[38;5;28;01mif\u001b[39;00m (\n\u001b[0;32m    234\u001b[0m     response\u001b[38;5;241m.\u001b[39mstatus \u001b[38;5;129;01min\u001b[39;00m \u001b[38;5;28mself\u001b[39m\u001b[38;5;241m.\u001b[39m_refresh_status_codes\n\u001b[0;32m    235\u001b[0m     \u001b[38;5;129;01mand\u001b[39;00m _credential_refresh_attempt \u001b[38;5;241m<\u001b[39m \u001b[38;5;28mself\u001b[39m\u001b[38;5;241m.\u001b[39m_max_refresh_attempts\n\u001b[0;32m    236\u001b[0m ):\n",
      "File \u001b[1;32mc:\\ProgramData\\Anaconda3\\envs\\erthy\\Lib\\site-packages\\ee\\_cloud_api_utils.py:70\u001b[0m, in \u001b[0;36m_Http.request\u001b[1;34m(***failed resolving arguments***)\u001b[0m\n\u001b[0;32m     63\u001b[0m \u001b[38;5;28;01mdel\u001b[39;00m redirections  \u001b[38;5;66;03m# Ignored\u001b[39;00m\n\u001b[0;32m     65\u001b[0m \u001b[38;5;28;01mtry\u001b[39;00m:\n\u001b[0;32m     66\u001b[0m   \u001b[38;5;66;03m# googleapiclient is expecting an httplib2 object, and doesn't include\u001b[39;00m\n\u001b[0;32m     67\u001b[0m   \u001b[38;5;66;03m# requests error in the list of transient errors. Therefore, transient\u001b[39;00m\n\u001b[0;32m     68\u001b[0m   \u001b[38;5;66;03m# requests errors should be converted to kinds that googleapiclient\u001b[39;00m\n\u001b[0;32m     69\u001b[0m   \u001b[38;5;66;03m# consider transient.\u001b[39;00m\n\u001b[1;32m---> 70\u001b[0m   response \u001b[38;5;241m=\u001b[39m \u001b[38;5;28;43mself\u001b[39;49m\u001b[38;5;241;43m.\u001b[39;49m\u001b[43m_session\u001b[49m\u001b[38;5;241;43m.\u001b[39;49m\u001b[43mrequest\u001b[49m\u001b[43m(\u001b[49m\n\u001b[0;32m     71\u001b[0m \u001b[43m      \u001b[49m\u001b[43mmethod\u001b[49m\u001b[43m,\u001b[49m\u001b[43m \u001b[49m\u001b[43muri\u001b[49m\u001b[43m,\u001b[49m\u001b[43m \u001b[49m\u001b[43mdata\u001b[49m\u001b[38;5;241;43m=\u001b[39;49m\u001b[43mbody\u001b[49m\u001b[43m,\u001b[49m\u001b[43m \u001b[49m\u001b[43mheaders\u001b[49m\u001b[38;5;241;43m=\u001b[39;49m\u001b[43mheaders\u001b[49m\u001b[43m,\u001b[49m\u001b[43m \u001b[49m\u001b[43mtimeout\u001b[49m\u001b[38;5;241;43m=\u001b[39;49m\u001b[38;5;28;43mself\u001b[39;49m\u001b[38;5;241;43m.\u001b[39;49m\u001b[43m_timeout\u001b[49m\n\u001b[0;32m     72\u001b[0m \u001b[43m  \u001b[49m\u001b[43m)\u001b[49m\n\u001b[0;32m     73\u001b[0m \u001b[38;5;28;01mexcept\u001b[39;00m requests\u001b[38;5;241m.\u001b[39mexceptions\u001b[38;5;241m.\u001b[39mConnectionError \u001b[38;5;28;01mas\u001b[39;00m connection_error:\n\u001b[0;32m     74\u001b[0m   \u001b[38;5;28;01mraise\u001b[39;00m \u001b[38;5;167;01mConnectionError\u001b[39;00m(connection_error) \u001b[38;5;28;01mfrom\u001b[39;00m \u001b[38;5;21;01mconnection_error\u001b[39;00m\n",
      "File \u001b[1;32mc:\\ProgramData\\Anaconda3\\envs\\erthy\\Lib\\site-packages\\requests\\sessions.py:589\u001b[0m, in \u001b[0;36mSession.request\u001b[1;34m(self, method, url, params, data, headers, cookies, files, auth, timeout, allow_redirects, proxies, hooks, stream, verify, cert, json)\u001b[0m\n\u001b[0;32m    584\u001b[0m send_kwargs \u001b[38;5;241m=\u001b[39m {\n\u001b[0;32m    585\u001b[0m     \u001b[38;5;124m\"\u001b[39m\u001b[38;5;124mtimeout\u001b[39m\u001b[38;5;124m\"\u001b[39m: timeout,\n\u001b[0;32m    586\u001b[0m     \u001b[38;5;124m\"\u001b[39m\u001b[38;5;124mallow_redirects\u001b[39m\u001b[38;5;124m\"\u001b[39m: allow_redirects,\n\u001b[0;32m    587\u001b[0m }\n\u001b[0;32m    588\u001b[0m send_kwargs\u001b[38;5;241m.\u001b[39mupdate(settings)\n\u001b[1;32m--> 589\u001b[0m resp \u001b[38;5;241m=\u001b[39m \u001b[38;5;28;43mself\u001b[39;49m\u001b[38;5;241;43m.\u001b[39;49m\u001b[43msend\u001b[49m\u001b[43m(\u001b[49m\u001b[43mprep\u001b[49m\u001b[43m,\u001b[49m\u001b[43m \u001b[49m\u001b[38;5;241;43m*\u001b[39;49m\u001b[38;5;241;43m*\u001b[39;49m\u001b[43msend_kwargs\u001b[49m\u001b[43m)\u001b[49m\n\u001b[0;32m    591\u001b[0m \u001b[38;5;28;01mreturn\u001b[39;00m resp\n",
      "File \u001b[1;32mc:\\ProgramData\\Anaconda3\\envs\\erthy\\Lib\\site-packages\\requests\\sessions.py:703\u001b[0m, in \u001b[0;36mSession.send\u001b[1;34m(self, request, **kwargs)\u001b[0m\n\u001b[0;32m    700\u001b[0m start \u001b[38;5;241m=\u001b[39m preferred_clock()\n\u001b[0;32m    702\u001b[0m \u001b[38;5;66;03m# Send the request\u001b[39;00m\n\u001b[1;32m--> 703\u001b[0m r \u001b[38;5;241m=\u001b[39m \u001b[43madapter\u001b[49m\u001b[38;5;241;43m.\u001b[39;49m\u001b[43msend\u001b[49m\u001b[43m(\u001b[49m\u001b[43mrequest\u001b[49m\u001b[43m,\u001b[49m\u001b[43m \u001b[49m\u001b[38;5;241;43m*\u001b[39;49m\u001b[38;5;241;43m*\u001b[39;49m\u001b[43mkwargs\u001b[49m\u001b[43m)\u001b[49m\n\u001b[0;32m    705\u001b[0m \u001b[38;5;66;03m# Total elapsed time of the request (approximately)\u001b[39;00m\n\u001b[0;32m    706\u001b[0m elapsed \u001b[38;5;241m=\u001b[39m preferred_clock() \u001b[38;5;241m-\u001b[39m start\n",
      "File \u001b[1;32mc:\\ProgramData\\Anaconda3\\envs\\erthy\\Lib\\site-packages\\requests\\adapters.py:667\u001b[0m, in \u001b[0;36mHTTPAdapter.send\u001b[1;34m(self, request, stream, timeout, verify, cert, proxies)\u001b[0m\n\u001b[0;32m    664\u001b[0m     timeout \u001b[38;5;241m=\u001b[39m TimeoutSauce(connect\u001b[38;5;241m=\u001b[39mtimeout, read\u001b[38;5;241m=\u001b[39mtimeout)\n\u001b[0;32m    666\u001b[0m \u001b[38;5;28;01mtry\u001b[39;00m:\n\u001b[1;32m--> 667\u001b[0m     resp \u001b[38;5;241m=\u001b[39m \u001b[43mconn\u001b[49m\u001b[38;5;241;43m.\u001b[39;49m\u001b[43murlopen\u001b[49m\u001b[43m(\u001b[49m\n\u001b[0;32m    668\u001b[0m \u001b[43m        \u001b[49m\u001b[43mmethod\u001b[49m\u001b[38;5;241;43m=\u001b[39;49m\u001b[43mrequest\u001b[49m\u001b[38;5;241;43m.\u001b[39;49m\u001b[43mmethod\u001b[49m\u001b[43m,\u001b[49m\n\u001b[0;32m    669\u001b[0m \u001b[43m        \u001b[49m\u001b[43murl\u001b[49m\u001b[38;5;241;43m=\u001b[39;49m\u001b[43murl\u001b[49m\u001b[43m,\u001b[49m\n\u001b[0;32m    670\u001b[0m \u001b[43m        \u001b[49m\u001b[43mbody\u001b[49m\u001b[38;5;241;43m=\u001b[39;49m\u001b[43mrequest\u001b[49m\u001b[38;5;241;43m.\u001b[39;49m\u001b[43mbody\u001b[49m\u001b[43m,\u001b[49m\n\u001b[0;32m    671\u001b[0m \u001b[43m        \u001b[49m\u001b[43mheaders\u001b[49m\u001b[38;5;241;43m=\u001b[39;49m\u001b[43mrequest\u001b[49m\u001b[38;5;241;43m.\u001b[39;49m\u001b[43mheaders\u001b[49m\u001b[43m,\u001b[49m\n\u001b[0;32m    672\u001b[0m \u001b[43m        \u001b[49m\u001b[43mredirect\u001b[49m\u001b[38;5;241;43m=\u001b[39;49m\u001b[38;5;28;43;01mFalse\u001b[39;49;00m\u001b[43m,\u001b[49m\n\u001b[0;32m    673\u001b[0m \u001b[43m        \u001b[49m\u001b[43massert_same_host\u001b[49m\u001b[38;5;241;43m=\u001b[39;49m\u001b[38;5;28;43;01mFalse\u001b[39;49;00m\u001b[43m,\u001b[49m\n\u001b[0;32m    674\u001b[0m \u001b[43m        \u001b[49m\u001b[43mpreload_content\u001b[49m\u001b[38;5;241;43m=\u001b[39;49m\u001b[38;5;28;43;01mFalse\u001b[39;49;00m\u001b[43m,\u001b[49m\n\u001b[0;32m    675\u001b[0m \u001b[43m        \u001b[49m\u001b[43mdecode_content\u001b[49m\u001b[38;5;241;43m=\u001b[39;49m\u001b[38;5;28;43;01mFalse\u001b[39;49;00m\u001b[43m,\u001b[49m\n\u001b[0;32m    676\u001b[0m \u001b[43m        \u001b[49m\u001b[43mretries\u001b[49m\u001b[38;5;241;43m=\u001b[39;49m\u001b[38;5;28;43mself\u001b[39;49m\u001b[38;5;241;43m.\u001b[39;49m\u001b[43mmax_retries\u001b[49m\u001b[43m,\u001b[49m\n\u001b[0;32m    677\u001b[0m \u001b[43m        \u001b[49m\u001b[43mtimeout\u001b[49m\u001b[38;5;241;43m=\u001b[39;49m\u001b[43mtimeout\u001b[49m\u001b[43m,\u001b[49m\n\u001b[0;32m    678\u001b[0m \u001b[43m        \u001b[49m\u001b[43mchunked\u001b[49m\u001b[38;5;241;43m=\u001b[39;49m\u001b[43mchunked\u001b[49m\u001b[43m,\u001b[49m\n\u001b[0;32m    679\u001b[0m \u001b[43m    \u001b[49m\u001b[43m)\u001b[49m\n\u001b[0;32m    681\u001b[0m \u001b[38;5;28;01mexcept\u001b[39;00m (ProtocolError, \u001b[38;5;167;01mOSError\u001b[39;00m) \u001b[38;5;28;01mas\u001b[39;00m err:\n\u001b[0;32m    682\u001b[0m     \u001b[38;5;28;01mraise\u001b[39;00m \u001b[38;5;167;01mConnectionError\u001b[39;00m(err, request\u001b[38;5;241m=\u001b[39mrequest)\n",
      "File \u001b[1;32mc:\\ProgramData\\Anaconda3\\envs\\erthy\\Lib\\site-packages\\urllib3\\connectionpool.py:789\u001b[0m, in \u001b[0;36mHTTPConnectionPool.urlopen\u001b[1;34m(self, method, url, body, headers, retries, redirect, assert_same_host, timeout, pool_timeout, release_conn, chunked, body_pos, preload_content, decode_content, **response_kw)\u001b[0m\n\u001b[0;32m    786\u001b[0m response_conn \u001b[38;5;241m=\u001b[39m conn \u001b[38;5;28;01mif\u001b[39;00m \u001b[38;5;129;01mnot\u001b[39;00m release_conn \u001b[38;5;28;01melse\u001b[39;00m \u001b[38;5;28;01mNone\u001b[39;00m\n\u001b[0;32m    788\u001b[0m \u001b[38;5;66;03m# Make the request on the HTTPConnection object\u001b[39;00m\n\u001b[1;32m--> 789\u001b[0m response \u001b[38;5;241m=\u001b[39m \u001b[38;5;28;43mself\u001b[39;49m\u001b[38;5;241;43m.\u001b[39;49m\u001b[43m_make_request\u001b[49m\u001b[43m(\u001b[49m\n\u001b[0;32m    790\u001b[0m \u001b[43m    \u001b[49m\u001b[43mconn\u001b[49m\u001b[43m,\u001b[49m\n\u001b[0;32m    791\u001b[0m \u001b[43m    \u001b[49m\u001b[43mmethod\u001b[49m\u001b[43m,\u001b[49m\n\u001b[0;32m    792\u001b[0m \u001b[43m    \u001b[49m\u001b[43murl\u001b[49m\u001b[43m,\u001b[49m\n\u001b[0;32m    793\u001b[0m \u001b[43m    \u001b[49m\u001b[43mtimeout\u001b[49m\u001b[38;5;241;43m=\u001b[39;49m\u001b[43mtimeout_obj\u001b[49m\u001b[43m,\u001b[49m\n\u001b[0;32m    794\u001b[0m \u001b[43m    \u001b[49m\u001b[43mbody\u001b[49m\u001b[38;5;241;43m=\u001b[39;49m\u001b[43mbody\u001b[49m\u001b[43m,\u001b[49m\n\u001b[0;32m    795\u001b[0m \u001b[43m    \u001b[49m\u001b[43mheaders\u001b[49m\u001b[38;5;241;43m=\u001b[39;49m\u001b[43mheaders\u001b[49m\u001b[43m,\u001b[49m\n\u001b[0;32m    796\u001b[0m \u001b[43m    \u001b[49m\u001b[43mchunked\u001b[49m\u001b[38;5;241;43m=\u001b[39;49m\u001b[43mchunked\u001b[49m\u001b[43m,\u001b[49m\n\u001b[0;32m    797\u001b[0m \u001b[43m    \u001b[49m\u001b[43mretries\u001b[49m\u001b[38;5;241;43m=\u001b[39;49m\u001b[43mretries\u001b[49m\u001b[43m,\u001b[49m\n\u001b[0;32m    798\u001b[0m \u001b[43m    \u001b[49m\u001b[43mresponse_conn\u001b[49m\u001b[38;5;241;43m=\u001b[39;49m\u001b[43mresponse_conn\u001b[49m\u001b[43m,\u001b[49m\n\u001b[0;32m    799\u001b[0m \u001b[43m    \u001b[49m\u001b[43mpreload_content\u001b[49m\u001b[38;5;241;43m=\u001b[39;49m\u001b[43mpreload_content\u001b[49m\u001b[43m,\u001b[49m\n\u001b[0;32m    800\u001b[0m \u001b[43m    \u001b[49m\u001b[43mdecode_content\u001b[49m\u001b[38;5;241;43m=\u001b[39;49m\u001b[43mdecode_content\u001b[49m\u001b[43m,\u001b[49m\n\u001b[0;32m    801\u001b[0m \u001b[43m    \u001b[49m\u001b[38;5;241;43m*\u001b[39;49m\u001b[38;5;241;43m*\u001b[39;49m\u001b[43mresponse_kw\u001b[49m\u001b[43m,\u001b[49m\n\u001b[0;32m    802\u001b[0m \u001b[43m\u001b[49m\u001b[43m)\u001b[49m\n\u001b[0;32m    804\u001b[0m \u001b[38;5;66;03m# Everything went great!\u001b[39;00m\n\u001b[0;32m    805\u001b[0m clean_exit \u001b[38;5;241m=\u001b[39m \u001b[38;5;28;01mTrue\u001b[39;00m\n",
      "File \u001b[1;32mc:\\ProgramData\\Anaconda3\\envs\\erthy\\Lib\\site-packages\\urllib3\\connectionpool.py:536\u001b[0m, in \u001b[0;36mHTTPConnectionPool._make_request\u001b[1;34m(self, conn, method, url, body, headers, retries, timeout, chunked, response_conn, preload_content, decode_content, enforce_content_length)\u001b[0m\n\u001b[0;32m    534\u001b[0m \u001b[38;5;66;03m# Receive the response from the server\u001b[39;00m\n\u001b[0;32m    535\u001b[0m \u001b[38;5;28;01mtry\u001b[39;00m:\n\u001b[1;32m--> 536\u001b[0m     response \u001b[38;5;241m=\u001b[39m \u001b[43mconn\u001b[49m\u001b[38;5;241;43m.\u001b[39;49m\u001b[43mgetresponse\u001b[49m\u001b[43m(\u001b[49m\u001b[43m)\u001b[49m\n\u001b[0;32m    537\u001b[0m \u001b[38;5;28;01mexcept\u001b[39;00m (BaseSSLError, \u001b[38;5;167;01mOSError\u001b[39;00m) \u001b[38;5;28;01mas\u001b[39;00m e:\n\u001b[0;32m    538\u001b[0m     \u001b[38;5;28mself\u001b[39m\u001b[38;5;241m.\u001b[39m_raise_timeout(err\u001b[38;5;241m=\u001b[39me, url\u001b[38;5;241m=\u001b[39murl, timeout_value\u001b[38;5;241m=\u001b[39mread_timeout)\n",
      "File \u001b[1;32mc:\\ProgramData\\Anaconda3\\envs\\erthy\\Lib\\site-packages\\urllib3\\connection.py:507\u001b[0m, in \u001b[0;36mHTTPConnection.getresponse\u001b[1;34m(self)\u001b[0m\n\u001b[0;32m    504\u001b[0m \u001b[38;5;28;01mfrom\u001b[39;00m \u001b[38;5;21;01m.\u001b[39;00m\u001b[38;5;21;01mresponse\u001b[39;00m \u001b[38;5;28;01mimport\u001b[39;00m HTTPResponse\n\u001b[0;32m    506\u001b[0m \u001b[38;5;66;03m# Get the response from http.client.HTTPConnection\u001b[39;00m\n\u001b[1;32m--> 507\u001b[0m httplib_response \u001b[38;5;241m=\u001b[39m \u001b[38;5;28;43msuper\u001b[39;49m\u001b[43m(\u001b[49m\u001b[43m)\u001b[49m\u001b[38;5;241;43m.\u001b[39;49m\u001b[43mgetresponse\u001b[49m\u001b[43m(\u001b[49m\u001b[43m)\u001b[49m\n\u001b[0;32m    509\u001b[0m \u001b[38;5;28;01mtry\u001b[39;00m:\n\u001b[0;32m    510\u001b[0m     assert_header_parsing(httplib_response\u001b[38;5;241m.\u001b[39mmsg)\n",
      "File \u001b[1;32mc:\\ProgramData\\Anaconda3\\envs\\erthy\\Lib\\http\\client.py:1428\u001b[0m, in \u001b[0;36mHTTPConnection.getresponse\u001b[1;34m(self)\u001b[0m\n\u001b[0;32m   1426\u001b[0m \u001b[38;5;28;01mtry\u001b[39;00m:\n\u001b[0;32m   1427\u001b[0m     \u001b[38;5;28;01mtry\u001b[39;00m:\n\u001b[1;32m-> 1428\u001b[0m         \u001b[43mresponse\u001b[49m\u001b[38;5;241;43m.\u001b[39;49m\u001b[43mbegin\u001b[49m\u001b[43m(\u001b[49m\u001b[43m)\u001b[49m\n\u001b[0;32m   1429\u001b[0m     \u001b[38;5;28;01mexcept\u001b[39;00m \u001b[38;5;167;01mConnectionError\u001b[39;00m:\n\u001b[0;32m   1430\u001b[0m         \u001b[38;5;28mself\u001b[39m\u001b[38;5;241m.\u001b[39mclose()\n",
      "File \u001b[1;32mc:\\ProgramData\\Anaconda3\\envs\\erthy\\Lib\\http\\client.py:331\u001b[0m, in \u001b[0;36mHTTPResponse.begin\u001b[1;34m(self)\u001b[0m\n\u001b[0;32m    329\u001b[0m \u001b[38;5;66;03m# read until we get a non-100 response\u001b[39;00m\n\u001b[0;32m    330\u001b[0m \u001b[38;5;28;01mwhile\u001b[39;00m \u001b[38;5;28;01mTrue\u001b[39;00m:\n\u001b[1;32m--> 331\u001b[0m     version, status, reason \u001b[38;5;241m=\u001b[39m \u001b[38;5;28;43mself\u001b[39;49m\u001b[38;5;241;43m.\u001b[39;49m\u001b[43m_read_status\u001b[49m\u001b[43m(\u001b[49m\u001b[43m)\u001b[49m\n\u001b[0;32m    332\u001b[0m     \u001b[38;5;28;01mif\u001b[39;00m status \u001b[38;5;241m!=\u001b[39m CONTINUE:\n\u001b[0;32m    333\u001b[0m         \u001b[38;5;28;01mbreak\u001b[39;00m\n",
      "File \u001b[1;32mc:\\ProgramData\\Anaconda3\\envs\\erthy\\Lib\\http\\client.py:292\u001b[0m, in \u001b[0;36mHTTPResponse._read_status\u001b[1;34m(self)\u001b[0m\n\u001b[0;32m    291\u001b[0m \u001b[38;5;28;01mdef\u001b[39;00m \u001b[38;5;21m_read_status\u001b[39m(\u001b[38;5;28mself\u001b[39m):\n\u001b[1;32m--> 292\u001b[0m     line \u001b[38;5;241m=\u001b[39m \u001b[38;5;28mstr\u001b[39m(\u001b[38;5;28;43mself\u001b[39;49m\u001b[38;5;241;43m.\u001b[39;49m\u001b[43mfp\u001b[49m\u001b[38;5;241;43m.\u001b[39;49m\u001b[43mreadline\u001b[49m\u001b[43m(\u001b[49m\u001b[43m_MAXLINE\u001b[49m\u001b[43m \u001b[49m\u001b[38;5;241;43m+\u001b[39;49m\u001b[43m \u001b[49m\u001b[38;5;241;43m1\u001b[39;49m\u001b[43m)\u001b[49m, \u001b[38;5;124m\"\u001b[39m\u001b[38;5;124miso-8859-1\u001b[39m\u001b[38;5;124m\"\u001b[39m)\n\u001b[0;32m    293\u001b[0m     \u001b[38;5;28;01mif\u001b[39;00m \u001b[38;5;28mlen\u001b[39m(line) \u001b[38;5;241m>\u001b[39m _MAXLINE:\n\u001b[0;32m    294\u001b[0m         \u001b[38;5;28;01mraise\u001b[39;00m LineTooLong(\u001b[38;5;124m\"\u001b[39m\u001b[38;5;124mstatus line\u001b[39m\u001b[38;5;124m\"\u001b[39m)\n",
      "File \u001b[1;32mc:\\ProgramData\\Anaconda3\\envs\\erthy\\Lib\\socket.py:720\u001b[0m, in \u001b[0;36mSocketIO.readinto\u001b[1;34m(self, b)\u001b[0m\n\u001b[0;32m    718\u001b[0m \u001b[38;5;28;01mwhile\u001b[39;00m \u001b[38;5;28;01mTrue\u001b[39;00m:\n\u001b[0;32m    719\u001b[0m     \u001b[38;5;28;01mtry\u001b[39;00m:\n\u001b[1;32m--> 720\u001b[0m         \u001b[38;5;28;01mreturn\u001b[39;00m \u001b[38;5;28;43mself\u001b[39;49m\u001b[38;5;241;43m.\u001b[39;49m\u001b[43m_sock\u001b[49m\u001b[38;5;241;43m.\u001b[39;49m\u001b[43mrecv_into\u001b[49m\u001b[43m(\u001b[49m\u001b[43mb\u001b[49m\u001b[43m)\u001b[49m\n\u001b[0;32m    721\u001b[0m     \u001b[38;5;28;01mexcept\u001b[39;00m timeout:\n\u001b[0;32m    722\u001b[0m         \u001b[38;5;28mself\u001b[39m\u001b[38;5;241m.\u001b[39m_timeout_occurred \u001b[38;5;241m=\u001b[39m \u001b[38;5;28;01mTrue\u001b[39;00m\n",
      "File \u001b[1;32mc:\\ProgramData\\Anaconda3\\envs\\erthy\\Lib\\ssl.py:1251\u001b[0m, in \u001b[0;36mSSLSocket.recv_into\u001b[1;34m(self, buffer, nbytes, flags)\u001b[0m\n\u001b[0;32m   1247\u001b[0m     \u001b[38;5;28;01mif\u001b[39;00m flags \u001b[38;5;241m!=\u001b[39m \u001b[38;5;241m0\u001b[39m:\n\u001b[0;32m   1248\u001b[0m         \u001b[38;5;28;01mraise\u001b[39;00m \u001b[38;5;167;01mValueError\u001b[39;00m(\n\u001b[0;32m   1249\u001b[0m           \u001b[38;5;124m\"\u001b[39m\u001b[38;5;124mnon-zero flags not allowed in calls to recv_into() on \u001b[39m\u001b[38;5;132;01m%s\u001b[39;00m\u001b[38;5;124m\"\u001b[39m \u001b[38;5;241m%\u001b[39m\n\u001b[0;32m   1250\u001b[0m           \u001b[38;5;28mself\u001b[39m\u001b[38;5;241m.\u001b[39m\u001b[38;5;18m__class__\u001b[39m)\n\u001b[1;32m-> 1251\u001b[0m     \u001b[38;5;28;01mreturn\u001b[39;00m \u001b[38;5;28;43mself\u001b[39;49m\u001b[38;5;241;43m.\u001b[39;49m\u001b[43mread\u001b[49m\u001b[43m(\u001b[49m\u001b[43mnbytes\u001b[49m\u001b[43m,\u001b[49m\u001b[43m \u001b[49m\u001b[43mbuffer\u001b[49m\u001b[43m)\u001b[49m\n\u001b[0;32m   1252\u001b[0m \u001b[38;5;28;01melse\u001b[39;00m:\n\u001b[0;32m   1253\u001b[0m     \u001b[38;5;28;01mreturn\u001b[39;00m \u001b[38;5;28msuper\u001b[39m()\u001b[38;5;241m.\u001b[39mrecv_into(buffer, nbytes, flags)\n",
      "File \u001b[1;32mc:\\ProgramData\\Anaconda3\\envs\\erthy\\Lib\\ssl.py:1103\u001b[0m, in \u001b[0;36mSSLSocket.read\u001b[1;34m(self, len, buffer)\u001b[0m\n\u001b[0;32m   1101\u001b[0m \u001b[38;5;28;01mtry\u001b[39;00m:\n\u001b[0;32m   1102\u001b[0m     \u001b[38;5;28;01mif\u001b[39;00m buffer \u001b[38;5;129;01mis\u001b[39;00m \u001b[38;5;129;01mnot\u001b[39;00m \u001b[38;5;28;01mNone\u001b[39;00m:\n\u001b[1;32m-> 1103\u001b[0m         \u001b[38;5;28;01mreturn\u001b[39;00m \u001b[38;5;28;43mself\u001b[39;49m\u001b[38;5;241;43m.\u001b[39;49m\u001b[43m_sslobj\u001b[49m\u001b[38;5;241;43m.\u001b[39;49m\u001b[43mread\u001b[49m\u001b[43m(\u001b[49m\u001b[38;5;28;43mlen\u001b[39;49m\u001b[43m,\u001b[49m\u001b[43m \u001b[49m\u001b[43mbuffer\u001b[49m\u001b[43m)\u001b[49m\n\u001b[0;32m   1104\u001b[0m     \u001b[38;5;28;01melse\u001b[39;00m:\n\u001b[0;32m   1105\u001b[0m         \u001b[38;5;28;01mreturn\u001b[39;00m \u001b[38;5;28mself\u001b[39m\u001b[38;5;241m.\u001b[39m_sslobj\u001b[38;5;241m.\u001b[39mread(\u001b[38;5;28mlen\u001b[39m)\n",
      "\u001b[1;31mKeyboardInterrupt\u001b[0m: "
     ]
    }
   ],
   "source": [
    "# Get Sentinel-2 features for South Africa - error with or before getstats function. returns None values\n",
    "extractDataset('Sentinel-2', 'South Africa', ee.Date('2021-01-01'), ee.Date('2021-01-02'), fireEvents, 5, 'extract_s2_2021010120220101.csv')\n",
    "# Get Landsat-8 features for South Africa (24 hrs to extract data for 1 year. 1 day = 9 Landsat images = 4 mins)\n",
    "# extractDataset('LANDSAT_8', 'South Africa', ee.Date('2020-01-01'), ee.Date('2020-01-02'), fireEvents, 16, 'extract_l8_2013010120220101.csv')"
   ]
  },
  {
   "cell_type": "markdown",
   "metadata": {},
   "source": []
  },
  {
   "cell_type": "markdown",
   "metadata": {},
   "source": [
    "## Step 2: train and evaluation"
   ]
  },
  {
   "cell_type": "code",
   "execution_count": 10,
   "metadata": {},
   "outputs": [
    {
     "data": {
      "text/html": [
       "\n",
       "            <style>\n",
       "                .geemap-dark {\n",
       "                    --jp-widgets-color: white;\n",
       "                    --jp-widgets-label-color: white;\n",
       "                    --jp-ui-font-color1: white;\n",
       "                    --jp-layout-color2: #454545;\n",
       "                    background-color: #383838;\n",
       "                }\n",
       "\n",
       "                .geemap-dark .jupyter-button {\n",
       "                    --jp-layout-color3: #383838;\n",
       "                }\n",
       "\n",
       "                .geemap-colab {\n",
       "                    background-color: var(--colab-primary-surface-color, white);\n",
       "                }\n",
       "\n",
       "                .geemap-colab .jupyter-button {\n",
       "                    --jp-layout-color3: var(--colab-primary-surface-color, white);\n",
       "                }\n",
       "            </style>\n",
       "            "
      ],
      "text/plain": [
       "<IPython.core.display.HTML object>"
      ]
     },
     "metadata": {},
     "output_type": "display_data"
    },
    {
     "ename": "ModuleNotFoundError",
     "evalue": "No module named 'utils'",
     "output_type": "error",
     "traceback": [
      "\u001b[1;31m---------------------------------------------------------------------------\u001b[0m",
      "\u001b[1;31mModuleNotFoundError\u001b[0m                       Traceback (most recent call last)",
      "Cell \u001b[1;32mIn[10], line 2\u001b[0m\n\u001b[0;32m      1\u001b[0m \u001b[38;5;28;01mfrom\u001b[39;00m \u001b[38;5;21;01mdata_ingestion\u001b[39;00m \u001b[38;5;28;01mimport\u001b[39;00m dataIngestion\n\u001b[1;32m----> 2\u001b[0m \u001b[38;5;28;01mfrom\u001b[39;00m \u001b[38;5;21;01mdata_transformation\u001b[39;00m \u001b[38;5;28;01mimport\u001b[39;00m dataTransformation\n\u001b[0;32m      3\u001b[0m \u001b[38;5;28;01mfrom\u001b[39;00m \u001b[38;5;21;01mmodel_trainer\u001b[39;00m \u001b[38;5;28;01mimport\u001b[39;00m modelTrainer\n",
      "File \u001b[1;32m~\\myfiles\\postdoc\\Fire\\code\\Burn_Area_Mapping\\src\\components\\data_transformation.py:6\u001b[0m\n\u001b[0;32m      3\u001b[0m \u001b[38;5;28;01mimport\u001b[39;00m \u001b[38;5;21;01mee\u001b[39;00m\n\u001b[0;32m      5\u001b[0m \u001b[38;5;28;01mfrom\u001b[39;00m \u001b[38;5;21;01mexception\u001b[39;00m \u001b[38;5;28;01mimport\u001b[39;00m customException\n\u001b[1;32m----> 6\u001b[0m \u001b[38;5;28;01mfrom\u001b[39;00m \u001b[38;5;21;01mutils\u001b[39;00m \u001b[38;5;28;01mimport\u001b[39;00m save_object\n\u001b[0;32m      8\u001b[0m \u001b[38;5;28;01mtry\u001b[39;00m:\n\u001b[0;32m      9\u001b[0m     service_account \u001b[38;5;241m=\u001b[39m \u001b[38;5;124m'\u001b[39m\u001b[38;5;124mbam-981@ee-geethensingh.iam.gserviceaccount.com\u001b[39m\u001b[38;5;124m'\u001b[39m\n",
      "\u001b[1;31mModuleNotFoundError\u001b[0m: No module named 'utils'"
     ]
    }
   ],
   "source": [
    "from data_ingestion import dataIngestion\n",
    "from data_transformation import dataTransformation\n",
    "from model_trainer import modelTrainer"
   ]
  },
  {
   "cell_type": "code",
   "execution_count": 8,
   "metadata": {},
   "outputs": [
    {
     "data": {
      "text/html": [
       "\n",
       "            <style>\n",
       "                .geemap-dark {\n",
       "                    --jp-widgets-color: white;\n",
       "                    --jp-widgets-label-color: white;\n",
       "                    --jp-ui-font-color1: white;\n",
       "                    --jp-layout-color2: #454545;\n",
       "                    background-color: #383838;\n",
       "                }\n",
       "\n",
       "                .geemap-dark .jupyter-button {\n",
       "                    --jp-layout-color3: #383838;\n",
       "                }\n",
       "\n",
       "                .geemap-colab {\n",
       "                    background-color: var(--colab-primary-surface-color, white);\n",
       "                }\n",
       "\n",
       "                .geemap-colab .jupyter-button {\n",
       "                    --jp-layout-color3: var(--colab-primary-surface-color, white);\n",
       "                }\n",
       "            </style>\n",
       "            "
      ],
      "text/plain": [
       "<IPython.core.display.HTML object>"
      ]
     },
     "metadata": {},
     "output_type": "display_data"
    },
    {
     "name": "stdout",
     "output_type": "stream",
     "text": [
      "Naive Baseline Accuracy: 0.74\n",
      "No best model found, metric < 0.6\n"
     ]
    },
    {
     "name": "stderr",
     "output_type": "stream",
     "text": [
      "WARNING:dvclive:Error in save_dvc_exp:  output 'artifacts' is already tracked by SCM (e.g. Git).\n",
      "    You can remove it from Git, then add to DVC.\n",
      "        To stop tracking from Git:\n",
      "            git rm -r --cached 'artifacts'\n",
      "            git commit -m \"stop tracking artifacts\" \n"
     ]
    },
    {
     "name": "stdout",
     "output_type": "stream",
     "text": [
      "classification report               precision    recall  f1-score   support\n",
      "\n",
      "         0.0       0.79      0.93      0.86       206\n",
      "         1.0       0.59      0.28      0.38        71\n",
      "\n",
      "    accuracy                           0.77       277\n",
      "   macro avg       0.69      0.61      0.62       277\n",
      "weighted avg       0.74      0.77      0.73       277\n",
      "\n",
      "Confusion Matrix:\n"
     ]
    },
    {
     "data": {
      "text/plain": [
       "0.380952380952381"
      ]
     },
     "execution_count": 8,
     "metadata": {},
     "output_type": "execute_result"
    },
    {
     "data": {
      "image/png": "[encoded data removed]",
      "text/plain": [
       "<Figure size 432x288 with 1 Axes>"
      ]
     },
     "metadata": {
      "needs_background": "light"
     },
     "output_type": "display_data"
    }
   ],
   "source": [
    "obj = dataIngestion()\n",
    "train_path, calibration_path, test_path = obj.initiate_data_ingestion()\n",
    "data_transformation = dataTransformation()\n",
    "train_arr, cal_arr, test_arr = data_transformation.initiate_data_transformation(train_path, calibration_path, test_path)\n",
    "\n",
    "model_trainer = modelTrainer()\n",
    "model_trainer.initiate_model_trainer(train_arr, cal_arr, test_arr)"
   ]
  },
  {
   "cell_type": "markdown",
   "metadata": {},
   "source": [
    "## Step 3: Inference"
   ]
  },
  {
   "cell_type": "code",
   "execution_count": null,
   "metadata": {},
   "outputs": [],
   "source": [
    "from src.utils import load_object\n",
    "import pandas as pd\n",
    "\n",
    "from mapie.classification import MapieClassifier\n",
    "\n",
    "# model = load_object(r\"C:\\Users\\coach\\myfiles\\postdoc\\Fire\\code\\Burn_Area_Mapping\\src\\components\\artifacts\\model.pkl\")\n",
    "df = pd.read_csv(r\"C:\\Users\\coach\\myfiles\\postdoc\\Fire\\code\\Burn_Area_Mapping\\src\\components\\artifacts\\train.csv\")\n",
    "\n",
    "\n",
    "X_train = df.drop(['scenes', 'label'], axis=1)\n",
    "y_train = df[['label']]\n",
    "\n",
    "# from catboost import CatBoostClassifier\n",
    "from sklearn.ensemble import RandomForestClassifier\n",
    "model = RandomForestClassifier(random_state= 42, verbose= False).fit(X_train, y_train)\n",
    "print(model.predict(dfPredict))\n",
    "\n",
    "mapie_score = MapieClassifier(estimator = model, cv=\"prefit\", method=\"lac\", random_state= 42)\n",
    "mapie_score.fit(X_train, y_train)\n",
    "mapie_score.predict(dfPredict, alpha =0.05)"
   ]
  },
  {
   "cell_type": "code",
   "execution_count": 25,
   "metadata": {},
   "outputs": [
    {
     "data": {
      "text/html": [
       "\n",
       "            <style>\n",
       "                .geemap-dark {\n",
       "                    --jp-widgets-color: white;\n",
       "                    --jp-widgets-label-color: white;\n",
       "                    --jp-ui-font-color1: white;\n",
       "                    --jp-layout-color2: #454545;\n",
       "                    background-color: #383838;\n",
       "                }\n",
       "\n",
       "                .geemap-dark .jupyter-button {\n",
       "                    --jp-layout-color3: #383838;\n",
       "                }\n",
       "\n",
       "                .geemap-colab {\n",
       "                    background-color: var(--colab-primary-surface-color, white);\n",
       "                }\n",
       "\n",
       "                .geemap-colab .jupyter-button {\n",
       "                    --jp-layout-color3: var(--colab-primary-surface-color, white);\n",
       "                }\n",
       "            </style>\n",
       "            "
      ],
      "text/plain": [
       "<IPython.core.display.HTML object>"
      ]
     },
     "metadata": {},
     "output_type": "display_data"
    },
    {
     "name": "stdout",
     "output_type": "stream",
     "text": [
      "Number of new scenes: 55\n",
      "input dates 2024-03-01 2024-04-02\n"
     ]
    },
    {
     "data": {
      "application/vnd.jupyter.widget-view+json": {
       "model_id": "9e0ca101352b4e67be0460043bc98bb2",
       "version_major": 2,
       "version_minor": 0
      },
      "text/plain": [
       "  0%|          | 0/55 [00:00<?, ?it/s]"
      ]
     },
     "metadata": {},
     "output_type": "display_data"
    },
    {
     "data": {
      "text/plain": [
       "0    2_LC08_160092_20240310\n",
       "0    2_LC08_167079_20240311\n",
       "0    2_LC08_167080_20240311\n",
       "0    2_LC08_168077_20240302\n",
       "0    2_LC08_168078_20240302\n",
       "0    2_LC08_168080_20240302\n",
       "0    2_LC08_168081_20240302\n",
       "0    2_LC08_168082_20240302\n",
       "0    2_LC08_169075_20240309\n",
       "0    2_LC08_169078_20240309\n",
       "0    2_LC08_169079_20240309\n",
       "0    2_LC08_169080_20240309\n",
       "0    2_LC08_169082_20240309\n",
       "0    2_LC08_171076_20240307\n",
       "0    2_LC08_171078_20240307\n",
       "0    2_LC08_171079_20240307\n",
       "0    2_LC08_171080_20240307\n",
       "0    2_LC08_171081_20240307\n",
       "0    2_LC08_171082_20240307\n",
       "0    2_LC08_173077_20240305\n",
       "0    2_LC08_173078_20240305\n",
       "0    2_LC08_173079_20240305\n",
       "0    2_LC08_173080_20240305\n",
       "0    2_LC08_173081_20240305\n",
       "0    2_LC08_173082_20240305\n",
       "0    2_LC08_175077_20240303\n",
       "0    2_LC08_175078_20240303\n",
       "0    2_LC08_175082_20240303\n",
       "0    2_LC08_176077_20240310\n",
       "0    2_LC08_176078_20240310\n",
       "0    2_LC08_177081_20240301\n",
       "Name: scenes, dtype: object"
      ]
     },
     "execution_count": 25,
     "metadata": {},
     "output_type": "execute_result"
    }
   ],
   "source": [
    "from inference import Inference\n",
    "\n",
    "inference_pipeline = Inference()\n",
    "sceneList = inference_pipeline.initiate_inference_pipeline('LANDSAT_8', 'South Africa')\n",
    "sceneList"
   ]
  },
  {
   "cell_type": "code",
   "execution_count": 43,
   "metadata": {},
   "outputs": [
    {
     "name": "stdout",
     "output_type": "stream",
     "text": [
      "Deleted file: C:\\Users\\coach\\myfiles\\postdoc\\Fire\\code\\Burn_Area_Mapping\\src\\components\\logs\\03_06_2024_14_13_35.log\\03_06_2024_14_13_35.log\n",
      "Deleted file: C:\\Users\\coach\\myfiles\\postdoc\\Fire\\code\\Burn_Area_Mapping\\src\\components\\logs\\03_06_2024_23_25_28.log\\03_06_2024_23_25_28.log\n",
      "Deleted file: C:\\Users\\coach\\myfiles\\postdoc\\Fire\\code\\Burn_Area_Mapping\\src\\components\\logs\\03_07_2024_09_11_34.log\\03_07_2024_09_11_34.log\n",
      "Deleted file: C:\\Users\\coach\\myfiles\\postdoc\\Fire\\code\\Burn_Area_Mapping\\src\\components\\logs\\03_07_2024_20_08_47.log\\03_07_2024_20_08_47.log\n",
      "Deleted file: C:\\Users\\coach\\myfiles\\postdoc\\Fire\\code\\Burn_Area_Mapping\\src\\components\\logs\\03_08_2024_09_41_30.log\\03_08_2024_09_41_30.log\n",
      "Deleted file: C:\\Users\\coach\\myfiles\\postdoc\\Fire\\code\\Burn_Area_Mapping\\src\\components\\logs\\03_08_2024_10_15_57.log\\03_08_2024_10_15_57.log\n",
      "Deleted file: C:\\Users\\coach\\myfiles\\postdoc\\Fire\\code\\Burn_Area_Mapping\\src\\components\\logs\\03_08_2024_10_19_03.log\\03_08_2024_10_19_03.log\n",
      "Deleted file: C:\\Users\\coach\\myfiles\\postdoc\\Fire\\code\\Burn_Area_Mapping\\src\\components\\logs\\03_08_2024_10_47_13.log\\03_08_2024_10_47_13.log\n",
      "Deleted file: C:\\Users\\coach\\myfiles\\postdoc\\Fire\\code\\Burn_Area_Mapping\\src\\components\\logs\\03_10_2024_17_35_31.log\\03_10_2024_17_35_31.log\n"
     ]
    }
   ],
   "source": [
    "# Example usage:\n",
    "# Delete logs older than March 1, 2024\n",
    "delete_old_logs(r'C:\\Users\\coach\\myfiles\\postdoc\\Fire\\code\\Burn_Area_Mapping', datetime.datetime(2024, 3, 11))\n",
    "# Or, delete logs older than one month (default behavior)\n",
    "delete_old_logs(r'C:\\Users\\coach\\myfiles\\postdoc\\Fire\\code\\Burn_Area_Mapping')"
   ]
  },
  {
   "cell_type": "markdown",
   "metadata": {},
   "source": [
    "## Stage 2: Semantic Segmentation"
   ]
  },
  {
   "cell_type": "code",
   "execution_count": 2,
   "metadata": {},
   "outputs": [
    {
     "data": {
      "text/html": [
       "<p>To authorize access needed by Earth Engine, open the following\n",
       "        URL in a web browser and follow the instructions:</p>\n",
       "        <p><a href=https://code.earthengine.google.com/client-auth?scopes=https%3A//www.googleapis.com/auth/earthengine%20https%3A//www.googleapis.com/auth/cloud-platform%20https%3A//www.googleapis.com/auth/devstorage.full_control&request_id=Ugs0fWp5W_FIxH2ydwP1MLAngUk7U2DxOIMFcAq2kXQ&tc=l033DxvXvo71wJgm6KmMSa8bPpA50C3v77Nzj5ub0KI&cc=7TEC8Ti6D1WkQ67p6PL73QJ96f_5RIYZKrf4iEqWQQg>https://code.earthengine.google.com/client-auth?scopes=https%3A//www.googleapis.com/auth/earthengine%20https%3A//www.googleapis.com/auth/cloud-platform%20https%3A//www.googleapis.com/auth/devstorage.full_control&request_id=Ugs0fWp5W_FIxH2ydwP1MLAngUk7U2DxOIMFcAq2kXQ&tc=l033DxvXvo71wJgm6KmMSa8bPpA50C3v77Nzj5ub0KI&cc=7TEC8Ti6D1WkQ67p6PL73QJ96f_5RIYZKrf4iEqWQQg</a></p>\n",
       "        <p>The authorization workflow will generate a code, which you should paste in the box below.</p>\n",
       "        "
      ],
      "text/plain": [
       "<IPython.core.display.HTML object>"
      ]
     },
     "metadata": {},
     "output_type": "display_data"
    },
    {
     "name": "stdout",
     "output_type": "stream",
     "text": [
      "\n",
      "Successfully saved authorization token.\n"
     ]
    }
   ],
   "source": [
    "import os\n",
    "import ee\n",
    "try:\n",
    "    ee.Initialize()\n",
    "except:\n",
    "    ee.Authenticate()\n",
    "    ee.Initialize()\n",
    "\n",
    "import geemap\n",
    "\n",
    "from geeml.utils import eeprint"
   ]
  },
  {
   "cell_type": "code",
   "execution_count": 3,
   "metadata": {},
   "outputs": [
    {
     "data": {
      "text/html": [
       "\n",
       "            <style>\n",
       "                .geemap-dark {\n",
       "                    --jp-widgets-color: white;\n",
       "                    --jp-widgets-label-color: white;\n",
       "                    --jp-ui-font-color1: white;\n",
       "                    --jp-layout-color2: #454545;\n",
       "                    background-color: #383838;\n",
       "                }\n",
       "\n",
       "                .geemap-dark .jupyter-button {\n",
       "                    --jp-layout-color3: #383838;\n",
       "                }\n",
       "\n",
       "                .geemap-colab {\n",
       "                    background-color: var(--colab-primary-surface-color, white);\n",
       "                }\n",
       "\n",
       "                .geemap-colab .jupyter-button {\n",
       "                    --jp-layout-color3: var(--colab-primary-surface-color, white);\n",
       "                }\n",
       "            </style>\n",
       "            "
      ],
      "text/plain": [
       "<IPython.core.display.HTML object>"
      ]
     },
     "metadata": {},
     "output_type": "display_data"
    }
   ],
   "source": [
    "import os\n",
    "os.getcwd()\n",
    "os.chdir(\"C:/Users/coach/myfiles/postdoc/Fire/code/Burn_Area_Mapping\")\n",
    "\n",
    "%load_ext autoreload"
   ]
  },
  {
   "cell_type": "code",
   "execution_count": 4,
   "metadata": {},
   "outputs": [
    {
     "data": {
      "text/html": [
       "\n",
       "            <style>\n",
       "                .geemap-dark {\n",
       "                    --jp-widgets-color: white;\n",
       "                    --jp-widgets-label-color: white;\n",
       "                    --jp-ui-font-color1: white;\n",
       "                    --jp-layout-color2: #454545;\n",
       "                    background-color: #383838;\n",
       "                }\n",
       "\n",
       "                .geemap-dark .jupyter-button {\n",
       "                    --jp-layout-color3: #383838;\n",
       "                }\n",
       "\n",
       "                .geemap-colab {\n",
       "                    background-color: var(--colab-primary-surface-color, white);\n",
       "                }\n",
       "\n",
       "                .geemap-colab .jupyter-button {\n",
       "                    --jp-layout-color3: var(--colab-primary-surface-color, white);\n",
       "                }\n",
       "            </style>\n",
       "            "
      ],
      "text/plain": [
       "<IPython.core.display.HTML object>"
      ]
     },
     "metadata": {},
     "output_type": "display_data"
    },
    {
     "data": {
      "text/plain": [
       "'C:\\\\Users\\\\coach\\\\myfiles\\\\postdoc\\\\Fire\\\\code\\\\Burn_Area_Mapping'"
      ]
     },
     "execution_count": 4,
     "metadata": {},
     "output_type": "execute_result"
    }
   ],
   "source": [
    "os.getcwd()"
   ]
  },
  {
   "cell_type": "code",
   "execution_count": null,
   "metadata": {},
   "outputs": [],
   "source": [
    "%autoreload 2\n",
    "from stage_2.inference import segment\n",
    "\n",
    "# perform inference\n",
    "segment().main()"
   ]
  },
  {
   "cell_type": "code",
   "execution_count": 7,
   "metadata": {},
   "outputs": [
    {
     "data": {
      "text/html": [
       "\n",
       "            <style>\n",
       "                .geemap-dark {\n",
       "                    --jp-widgets-color: white;\n",
       "                    --jp-widgets-label-color: white;\n",
       "                    --jp-ui-font-color1: white;\n",
       "                    --jp-layout-color2: #454545;\n",
       "                    background-color: #383838;\n",
       "                }\n",
       "\n",
       "                .geemap-dark .jupyter-button {\n",
       "                    --jp-layout-color3: #383838;\n",
       "                }\n",
       "\n",
       "                .geemap-colab {\n",
       "                    background-color: var(--colab-primary-surface-color, white);\n",
       "                }\n",
       "\n",
       "                .geemap-colab .jupyter-button {\n",
       "                    --jp-layout-color3: var(--colab-primary-surface-color, white);\n",
       "                }\n",
       "            </style>\n",
       "            "
      ],
      "text/plain": [
       "<IPython.core.display.HTML object>"
      ]
     },
     "metadata": {},
     "output_type": "display_data"
    }
   ],
   "source": [
    "supportedSensors = {'Sentinel-1': 'COPERNICUS/S1_GRD',\n",
    "                    'Sentinel-2': \"COPERNICUS/S2_SR_HARMONIZED\",\n",
    "                    'LANDSAT_8': \"LANDSAT/LC08/C02/T1_L2\",\n",
    "                    'LANDSAT_9': \"LANDSAT/LC09/C02/T1_L2\"}"
   ]
  },
  {
   "cell_type": "code",
   "execution_count": 7,
   "metadata": {},
   "outputs": [
    {
     "data": {
      "text/plain": [
       "0    2_LC08_160092_20240310\n",
       "0    2_LC08_167079_20240311\n",
       "0    2_LC08_167080_20240311\n",
       "0    2_LC08_168077_20240302\n",
       "0    2_LC08_168078_20240302\n",
       "0    2_LC08_168080_20240302\n",
       "0    2_LC08_168081_20240302\n",
       "0    2_LC08_168082_20240302\n",
       "0    2_LC08_169075_20240309\n",
       "0    2_LC08_169078_20240309\n",
       "0    2_LC08_169079_20240309\n",
       "0    2_LC08_169080_20240309\n",
       "0    2_LC08_169082_20240309\n",
       "0    2_LC08_171076_20240307\n",
       "0    2_LC08_171078_20240307\n",
       "0    2_LC08_171079_20240307\n",
       "0    2_LC08_171080_20240307\n",
       "0    2_LC08_171081_20240307\n",
       "0    2_LC08_171082_20240307\n",
       "0    2_LC08_173077_20240305\n",
       "0    2_LC08_173078_20240305\n",
       "0    2_LC08_173079_20240305\n",
       "0    2_LC08_173080_20240305\n",
       "0    2_LC08_173081_20240305\n",
       "0    2_LC08_173082_20240305\n",
       "0    2_LC08_175077_20240303\n",
       "0    2_LC08_175078_20240303\n",
       "0    2_LC08_175082_20240303\n",
       "0    2_LC08_176077_20240310\n",
       "0    2_LC08_176078_20240310\n",
       "0    2_LC08_177081_20240301\n",
       "Name: scenes, dtype: object"
      ]
     },
     "execution_count": 7,
     "metadata": {},
     "output_type": "execute_result"
    }
   ],
   "source": [
    "from src.utils import load_object\n",
    "import pandas as pd\n",
    "\n",
    "downloadList = pd.read_pickle(r\"C:\\Users\\coach\\myfiles\\postdoc\\Fire\\code\\Burn_Area_Mapping\\src\\components\\artifacts\\downloadList.pkl\")\n",
    "downloadList"
   ]
  },
  {
   "cell_type": "code",
   "execution_count": null,
   "metadata": {},
   "outputs": [
    {
     "data": {
      "text/html": [
       "\n",
       "            <style>\n",
       "                .geemap-dark {\n",
       "                    --jp-widgets-color: white;\n",
       "                    --jp-widgets-label-color: white;\n",
       "                    --jp-ui-font-color1: white;\n",
       "                    --jp-layout-color2: #454545;\n",
       "                    background-color: #383838;\n",
       "                }\n",
       "\n",
       "                .geemap-dark .jupyter-button {\n",
       "                    --jp-layout-color3: #383838;\n",
       "                }\n",
       "\n",
       "                .geemap-colab {\n",
       "                    background-color: var(--colab-primary-surface-color, white);\n",
       "                }\n",
       "\n",
       "                .geemap-colab .jupyter-button {\n",
       "                    --jp-layout-color3: var(--colab-primary-surface-color, white);\n",
       "                }\n",
       "            </style>\n",
       "            "
      ],
      "text/plain": [
       "<IPython.core.display.HTML object>"
      ]
     },
     "metadata": {},
     "output_type": "display_data"
    },
    {
     "name": "stdout",
     "output_type": "stream",
     "text": [
      "LANDSAT/LC08/C02/T1_L2/LC08_175082_20240303\n"
     ]
    }
   ],
   "source": [
    "def getImage(sensor: str, pre: bool, event: ee.Feature, dateBuffer: int)->ee.Image:\n",
    "    \"\"\"\n",
    "    Get the temporally closest pre-fire and post-fire optical or radar images after preprocessing both\n",
    "    the optical images.\n",
    "\n",
    "    Args:\n",
    "        event (ee.Feature): A fire event delineating the boundary of burnt area\n",
    "        dateBuffer (int): The temporal window to locate a relevant image. In units of weeks.\n",
    "\n",
    "    Returns:\n",
    "        A pre-fire and post-fire optical or radar image\n",
    "    \"\"\"\n",
    "    # Filter images that intersect the geometry using the optimised filterBounds. Thereafter, use the\n",
    "    # ee.filter.contains that is not as optimised as filterBounds\n",
    "    images = supportedSensors.get(sensor).filterBounds(event.geometry())\n",
    "    eventDate = ee.Date(event.get('Ig_Date'))\n",
    "    if pre:\n",
    "        startDate = eventDate.advance(dateBuffer*-1, 'week')\n",
    "        endDate = eventDate\n",
    "        outImage = cloudMask1(images.filterDate(startDate, endDate).sort('system:time_start', False)).reduce(ee.Reducer.firstNonNull()).regexpRename('.{6}$','')\n",
    "        # .filter(ee.Filter.contains('.geo', event.geometry())).sort('system:time_start', False).first()\n",
    "\n",
    "    else:\n",
    "        # postfire\n",
    "        startDate = eventDate\n",
    "        endDate = eventDate.advance(dateBuffer, 'week')\n",
    "        outImage = cloudMask2(images.filterDate(startDate, endDate))#.reduce(ee.Reducer.firstNonNull()).regexpRename('.{6}$','')#.qualityMosaic('nbr')\n",
    "        # .filter(ee.Filter.contains('.geo', event.geometry())).sort('system:time_start', True).first()\n",
    "    \n",
    "    return outImage\n",
    "\n",
    "    # Given a fire event get pre and post fire image from multi-sensors\n",
    "def getOpticalRadarPairs(sensor:str, dnbr:bool, event: ee.Feature, dateBuffer: int = 4)-> ee.Image:\n",
    "    \"\"\"\n",
    "    Get optical-radar pairs for a given fire event. First image after fire event and image before fire event\n",
    "\n",
    "    Args:\n",
    "        sensor(str): The name of the sensor. One of ['Sentinel-1', 'Sentinel-2', 'Landsat_8', 'Landsat_9']\n",
    "        event(ee.Feature): A fire event\n",
    "        dateBuffer(int): The temporal-search window. \n",
    "    \n",
    "    Returns:\n",
    "        An image with optical-radar pairs\n",
    "\n",
    "    \"\"\"\n",
    "    # Post-fire image\n",
    "    if sensor != 'any':\n",
    "        postOpticalImage = getImage(sensor, False, event, dateBuffer= dateBuffer)\n",
    "    else:\n",
    "        s2post = getImage('Sentinel-2', False, event, dateBuffer= dateBuffer)\n",
    "        l8post = getImage('LANDSAT_8', False, event, dateBuffer= dateBuffer)\n",
    "        l9post = getImage('LANDSAT_9', False, event, dateBuffer= dateBuffer)\n",
    "        # get the earliest optical image (between L8, L9 and S2) that was captured after the fire event\n",
    "        postOpticalImage = ee.ImageCollection.fromImages([s2post, l8post, l9post]).sort('system:time_start', True).first()\n",
    "    # pre-process post-fire image\n",
    "    # postOpticalImage = ee.Image(preprocessOptical(postOpticalImage, sensor).copyProperties(postOpticalImage))\n",
    "\n",
    "    # if sensor == 'Sentinel-1':\n",
    "    #     # RADAR\n",
    "    #     s1post = getImage('Sentinel-1', False, event, dateBuffer= dateBuffer)\n",
    "    #     # preprocess pre-fire radar image\n",
    "    #     parameters.update({'STOP_DATE': s1post.date().advance(1, 'day'), 'START_DATE': s1post.date(), 'ROI': event.geometry()})\n",
    "    #     s1post = wp.s1_preproc(parameters).select('V.')\n",
    "    \n",
    "    # pre-fire\n",
    "    if sensor != 'any':\n",
    "        # If only one sensor is to be used\n",
    "        preOpticalImage = getImage(sensor, True, event, dateBuffer= dateBuffer)\n",
    "    else:\n",
    "        # If any optical sensor is to be used\n",
    "        s2pre = getImage('Sentinel-2', True, event, dateBuffer= dateBuffer)\n",
    "        l8pre = getImage('LANDSAT_8', True, event, dateBuffer= dateBuffer)\n",
    "        l9pre = getImage('LANDSAT_9', True, event, dateBuffer= dateBuffer)\n",
    "        # get the earliest optical image (between L8, L9 and S2) that was captured after the fire event\n",
    "        preOpticalImage = ee.ImageCollection.fromImages([s2pre, l8pre, l9pre]).sort('system:time_start', True).first()\n",
    "    \n",
    "    # elif multisensor:\n",
    "    #     # if multisensor data is to be used, add radar to optical\n",
    "    #     # RADAR\n",
    "    #     s1pre = getImage('Sentinel-1', True, event, dateBuffer= dateBuffer)\n",
    "    #     # preprocess pre-fire radar image\n",
    "    #     parameters.update({'STOP_DATE': s1pre.date().advance(1, 'day'), 'START_DATE': s1pre.date(), 'ROI': event.geometry()})\n",
    "    #     s1pre = wp.s1_preproc(parameters).select('V.')\n",
    "\n",
    "    # pre-process pre-fire image\n",
    "    # preOpticalImage = ee.Image(preprocessOptical(preOpticalImage, sensor).copyProperties(preOpticalImage))\n",
    "\n",
    "    if dnbr:\n",
    "        postOpticalImage = qualityMosaicPercentile(postOpticalImage.map(lambda img: img.addBands(\n",
    "            preOpticalImage.normalizedDifference(['B8A', 'B12']).subtract(img.normalizedDifference(['B8A', 'B12'])).rename('dnbr'))), 'dnbr', 95) \n",
    "    \n",
    "    return postOpticalImage\n",
    "    # return preOpticalImage.regexpRename('$', '_pre'), s1pre, postOpticalImage.regexpRename('$', '_post'), s1post\n",
    "    "
   ]
  },
  {
   "cell_type": "code",
   "execution_count": 40,
   "metadata": {},
   "outputs": [
    {
     "data": {
      "text/html": [
       "\n",
       "            <style>\n",
       "                .geemap-dark {\n",
       "                    --jp-widgets-color: white;\n",
       "                    --jp-widgets-label-color: white;\n",
       "                    --jp-ui-font-color1: white;\n",
       "                    --jp-layout-color2: #454545;\n",
       "                    background-color: #383838;\n",
       "                }\n",
       "\n",
       "                .geemap-dark .jupyter-button {\n",
       "                    --jp-layout-color3: #383838;\n",
       "                }\n",
       "\n",
       "                .geemap-colab {\n",
       "                    background-color: var(--colab-primary-surface-color, white);\n",
       "                }\n",
       "\n",
       "                .geemap-colab .jupyter-button {\n",
       "                    --jp-layout-color3: var(--colab-primary-surface-color, white);\n",
       "                }\n",
       "            </style>\n",
       "            "
      ],
      "text/plain": [
       "<IPython.core.display.HTML object>"
      ]
     },
     "metadata": {},
     "output_type": "display_data"
    },
    {
     "data": {
      "text/html": [
       "<div id=\"b90be83c-6162-4b1f-aa98-469dad54d825\" style=\"height: auto; width:100%;\"></div>"
      ],
      "text/plain": [
       "<IPython.core.display.HTML object>"
      ]
     },
     "metadata": {},
     "output_type": "display_data"
    },
    {
     "data": {
      "text/html": [
       "\n",
       "        <script src=\"/static/components/requirejs/require.js\"></script> <!-- Needed in Colab -->\n",
       "        <script>\n",
       "            require([\"https://rawgit.com/caldwell/renderjson/master/renderjson.js\"], function() {\n",
       "              renderjson.set_show_to_level(1)\n",
       "              document.getElementById('b90be83c-6162-4b1f-aa98-469dad54d825').appendChild(renderjson({\"type\": \"Feature\", \"geometry\": {\"type\": \"MultiPolygon\", \"coordinates\": [[[[19.13081880779507, -33.58861119982918], [19.130943637820337, -33.58882078860213], [19.131122083128492, -33.58903035868184], [19.131425267950565, -33.58923997097167], [19.13185337398277, -33.58945395392525], [19.132205638698004, -33.58961895248358], [19.132606892410074, -33.58981074099773], [19.1329369313457, -33.590082750354114], [19.133240117413038, -33.590252135493735], [19.133364948122374, -33.59046171483483], [19.133708323474895, -33.59079170467002], [19.13387778860845, -33.59094776046557], [19.13399372892461, -33.59121534030507], [19.134399520270552, -33.59140704714758], [19.134827538463007, -33.5914248763275], [19.13513081654699, -33.59149176398042], [19.135380479068292, -33.5914695223187], [19.135380479068296, -33.591215315873654], [19.135282410306747, -33.59105031443544], [19.135331399324595, -33.59090316410258], [19.135509755683554, -33.59075605131641], [19.135456321344662, -33.59050183465805], [19.13515748833579, -33.59029228610562], [19.1349925587288, -33.590189703911975], [19.135050529029197, -33.59001586794411], [19.135157488335786, -33.58991331510694], [19.135157488335782, -33.589681392018605], [19.13493014314, -33.58928457376081], [19.13464918237911, -33.58892782481663], [19.134274598548934, -33.58854878645566], [19.133793056033554, -33.5883615318492], [19.13359238323358, -33.588151901824496], [19.133543303688313, -33.58785766573667], [19.133235672134067, -33.587763992443655], [19.13291016897093, -33.58781307348288], [19.13288785187321, -33.58760346313867], [19.132455299567596, -33.58747860244154], [19.132103034653323, -33.587581142004126], [19.13187560030855, -33.5878130809651], [19.1317998493661, -33.5880225791075], [19.13190236262066, -33.58823219874894], [19.13187560030855, -33.588379336111736], [19.13185337398277, -33.58861119999053], [19.131777532324453, -33.58878065823146], [19.131501109548406, -33.588758396747046], [19.131220150967092, -33.58873603715115], [19.13081880779507, -33.58861119982918]]], [[[19.1402943778065, -33.35121764043259], [19.14040587445195, -33.351832935537146], [19.140700174926614, -33.35239031721794], [19.140593214281445, -33.352760457399135], [19.14044152798241, -33.35331785616839], [19.14048171758888, -33.35384400922639], [19.14044152798241, -33.354557494076545], [19.141257568222823, -33.35526647452862], [19.141997766555598, -33.35576140414035], [19.141850615863312, -33.35585509795338], [19.141480562026135, -33.35625636626562], [19.141663366224357, -33.35687616657452], [19.142185107057514, -33.35737111777005], [19.142515062409906, -33.357710003130435], [19.142479408712767, -33.35808013306511], [19.142144917296687, -33.358173768314394], [19.142555161482377, -33.35832986976677], [19.142813809659067, -33.35842349836515], [19.143148210857333, -33.358918456906814], [19.1434781669258, -33.35931981517967], [19.143848313150954, -33.35968986707228], [19.143848313150954, -33.35996634780436], [19.14418271512854, -33.3602472960486], [19.14458851580472, -33.360372106211756], [19.144998762248647, -33.3604924959025], [19.145217221809933, -33.360773459526555], [19.14536890974126, -33.36095625866121], [19.145516061599736, -33.36120597277857], [19.14573896681975, -33.36148243134721], [19.146144768917623, -33.36170095473415], [19.146479172623984, -33.361883793161], [19.146626324850125, -33.36216466028739], [19.146439073197186, -33.36247239295237], [19.14622052231251, -33.36262841661934], [19.14618042290906, -33.363123372602665], [19.14610911492905, -33.363524717593585], [19.145810274740356, -33.36423370079342], [19.145516061599736, -33.3644522340701], [19.145217221809933, -33.364822348608115], [19.145110260076088, -33.365009619638656], [19.145181567895794, -33.365223607704316], [19.145440217602474, -33.365348455065714], [19.145516061599736, -33.365749818471315], [19.145516061599736, -33.366093128984424], [19.145738966819746, -33.365999553791696], [19.14588611880078, -33.36664605451144], [19.14603327083056, -33.367390719545085], [19.14603327083056, -33.36772965506887], [19.14603327083056, -33.36809974627349], [19.14603327083056, -33.368501075233446], [19.14610911492905, -33.36884439637075], [19.146367674453018, -33.36945975497565], [19.146590670822924, -33.36983433261484], [19.146773477124988, -33.37004840983948], [19.1469607289188, -33.370449702101794], [19.147255033738624, -33.3708510614194], [19.14755378417577, -33.370851052314684], [19.147625183110446, -33.37060574849751], [19.147700936757616, -33.37041851722375], [19.14784808938816, -33.370418454782154], [19.14821823925364, -33.37066817140774], [19.148329737888695, -33.37082429857877], [19.148588298704055, -33.37088221089886], [19.14888714075999, -33.37088226573183], [19.149034293782968, -33.37097583283426], [19.148811296187613, -33.36856351726691], [19.149034293782968, -33.368130992741136], [19.14918135613138, -33.36794812659034], [19.149257200766833, -33.367484423699295], [19.148958449185514, -33.36720344645297], [19.148624043614568, -33.36686460342098], [19.14840549165587, -33.36649450325168], [19.148035432357553, -33.364050871055674], [19.14795958793041, -33.36315460372567], [19.147995242067395, -33.36272209927699], [19.148182585098777, -33.362722060746734], [19.1484411458286, -33.36299858850494], [19.1486641432384, -33.3631234298012], [19.148958449185514, -33.36315463337238], [19.149217101089537, -33.362998557204435], [19.14955150710623, -33.362811274551106], [19.149997412427187, -33.362441184390136], [19.15018022012939, -33.36207101771841], [19.150514626869736, -33.36182578430346], [19.1510319326368, -33.36179454267713], [19.15106758701995, -33.361638504744576], [19.150920433324732, -33.36129961693778], [19.150403218410702, -33.36123720246377], [19.150108911508084, -33.3608982890989], [19.14992156766558, -33.36067980707176], [19.14936425422164, -33.36077347491941], [19.149145701899325, -33.36098745293202], [19.148811296187613, -33.36117473554994], [19.148329737888695, -33.36133083410896], [19.14784808938816, -33.36111238060697], [19.147442376458155, -33.36052373274632], [19.147107881304358, -33.36021610680046], [19.146773477124988, -33.35993962281598], [19.146514826642246, -33.35996635992957], [19.146180422909065, -33.360184878067955], [19.14529306576912, -33.36006003312057], [19.144258558911066, -33.35931978445663], [19.143995464505604, -33.358668793705554], [19.143625318157767, -33.35780371691076], [19.143589664371436, -33.35709023648176], [19.143036804244566, -33.35656851634564], [19.14266665869614, -33.355948660843865], [19.142332257860744, -33.35536011450721], [19.14181496221957, -33.354709045803254], [19.141480562026135, -33.353629974194554], [19.141480562026132, -33.35304135733372], [19.141333411505425, -33.352452779466084], [19.140998920953496, -33.35195778465478], [19.140700174926614, -33.35155651166509], [19.1402943778065, -33.35121764043259]]], [[[19.0997790530363, -33.61683735486116], [19.099908319174308, -33.61676154064758], [19.10034982002019, -33.61634239493577], [19.10062177823232, -33.61620416317951], [19.100835861533913, -33.61606143835998], [19.101081059613897, -33.615860788476155], [19.101250512159606, -33.61569130920307], [19.10139764927355, -33.61541487338146], [19.10139764927355, -33.61520526499897], [19.10137533377712, -33.61498680202594], [19.101286162516203, -33.61465681561331], [19.101263937738846, -33.614531999402914], [19.101290698185185, -33.61437140314231], [19.10130403305228, -33.61430455717833], [19.101415519814196, -33.6142019757478], [19.101584972489782, -33.61407270609576], [19.101897117553168, -33.61380067628246], [19.10203536495859, -33.61363568289018], [19.102124536372585, -33.61350640178362], [19.10229398932344, -33.6132967891924], [19.10233852969777, -33.61326558342484], [19.10250798273169, -33.61313631206254], [19.10273095689901, -33.61296239452628], [19.102846888996826, -33.612824152413125], [19.102967266098094, -33.61266357300493], [19.103056437702428, -33.612525409380304], [19.10317681486147, -33.61234254420907], [19.103248206605983, -33.612253352147306], [19.10328830210167, -33.61222219778225], [19.1033150626721, -33.612186511668696], [19.103355248887738, -33.61216866464163], [19.103430994924988, -33.61214637323154], [19.10360044838285, -33.61210180050713], [19.1037654569256, -33.6120616377952], [19.10387249933411, -33.612021520446525], [19.10394824546107, -33.61198582462351], [19.103992876718067, -33.61195016303325], [19.10405528791437, -33.61188329178129], [19.10412214410403, -33.61180304672714], [19.104184646032767, -33.611722756777716], [19.104251502242217, -33.611637988728695], [19.10433622912207, -33.61159345758468], [19.104465496609613, -33.61157117165212], [19.10482672006527, -33.61158454112716], [19.104893576372955, -33.611597877549016], [19.10497385838417, -33.611597886282176], [19.105045250422346, -33.611602357186555], [19.105112106763467, -33.61159784876322], [19.10515673813935, -33.611597876107936], [19.105259245178456, -33.611588990426256], [19.10536628795291, -33.61157115700108], [19.105446570050958, -33.61157560596995], [19.10554907715804, -33.61158448242929], [19.105665010003676, -33.61159787572661], [19.105803258601593, -33.61160236008382], [19.105968267976138, -33.611602324051084], [19.1061822631841, -33.61158451476842], [19.106369588452125, -33.61156668804154], [19.106498856541005, -33.611544399665306], [19.1066950719658, -33.61149530204173], [19.10702055572173, -33.61136158242111], [19.107346130434514, -33.61120547999859], [19.10737733627092, -33.611187667915864], [19.10737733627092, -33.611160859901545], [19.107381781288506, -33.61113860491585], [19.10742187716338, -33.61112521159699], [19.10745761873819, -33.61112517758081], [19.10747539881203, -33.61114306077102], [19.107791993104986, -33.61104940838885], [19.10813979351782, -33.611000357787816], [19.108327119624153, -33.61097364669026], [19.108309248800857, -33.61092452959237], [19.1084386081778, -33.61087993941207], [19.108478704149515, -33.610924602263005], [19.108594637771688, -33.610871054735235], [19.108679365493057, -33.61085768690199], [19.108871136863062, -33.61078635255053], [19.10903161164547, -33.61072388149607], [19.109169861307336, -33.610683791378555], [19.109758511438997, -33.61060350386137], [19.110128629356506, -33.61053657420577], [19.110168725483014, -33.61050985822766], [19.110231137560536, -33.61045638808183], [19.110271324411674, -33.61041625361784], [19.11031586559863, -33.610353796368464], [19.11035605245754, -33.61027797276085], [19.110369387601157, -33.61022444713708], [19.11035605245754, -33.61013085788789], [19.110164280437136, -33.609462011814756], [19.110128629356506, -33.60931039296112], [19.110088442518453, -33.60918104358942], [19.110088442518453, -33.60893582155082], [19.11007955242837, -33.6088153703618], [19.11004390135464, -33.608694999399276], [19.109936857435684, -33.608472054101], [19.109874445400095, -33.608365002641186], [19.109807497616, -33.608200041948486], [19.109785272405382, -33.60813319863458], [19.109771846564414, -33.6080796699033], [19.109798607531616, -33.60801273256671], [19.10983425858538, -33.60771847514633], [19.10983425858538, -33.60762480908434], [19.109816478415713, -33.6075267460236], [19.109771846564414, -33.60733050595077], [19.109749530640475, -33.6071834143293], [19.109687118631587, -33.60692471779676], [19.109682673590598, -33.60679541248115], [19.109691563672627, -33.60672409185447], [19.109767401522568, -33.606594792753306], [19.109798607531616, -33.60646990809854], [19.10980305257379, -33.606340580369015], [19.109789717447413, -33.60625142763627], [19.109776291606313, -33.606144443943165], [19.10973175047425, -33.605939304697], [19.109691563672627, -33.60567170944044], [19.10969156367263, -33.60540419178911], [19.109682673590598, -33.605301663601935], [19.109664802711965, -33.605230257367346], [19.109638132468053, -33.605069712834215], [19.1095846105549, -33.60495827604849], [19.109508772736625, -33.604842343799454], [19.109464231631776, -33.604753156803795], [19.10945080580065, -33.60461492072364], [19.109446360762053, -33.60448117127987], [19.10949090186509, -33.604249300505906], [19.10962026159124, -33.60408431232362], [19.109718324634922, -33.60391486478613], [19.109803052573792, -33.6037141578102], [19.10983425858538, -33.603558101277464], [19.109852129470926, -33.603375308372485], [19.1098967613304, -33.60317467173264], [19.110003714524368, -33.603049774783955], [19.11012409359581, -33.60296508665335], [19.11021780242114, -33.60291599108413], [19.110271324411677, -33.602871422230706], [19.11036938760116, -33.60283125309884], [19.110463005763673, -33.60272427533016], [19.110547733846612, -33.60256378135496], [19.110552178896388, -33.602434448818954], [19.11050763768541, -33.60223374296299], [19.11048087667488, -33.60206432647487], [19.11044967061721, -33.60197958663574], [19.110583384961355, -33.60186365494475], [19.11066811306759, -33.60183688220715], [19.110757286242055, -33.601796816749435], [19.11091785243108, -33.601689754479985], [19.111051657633556, -33.60155152061703], [19.111145275941894, -33.601440018350075], [19.11120324310214, -33.60123050494902], [19.111279081213826, -33.60104322024581], [19.11138603474532, -33.60084257705121], [19.111461872888643, -33.60073103544661], [19.11166253559913, -33.6005883722731], [19.111996913177066, -33.60041004183841], [19.11238490397453, -33.60023161797521], [19.112830771775183, -33.600022072273774], [19.113450633094565, -33.59970101140169], [19.113588884150825, -33.5996341068406], [19.113762786624022, -33.59955385894487], [19.11404817914733, -33.59950037633952], [19.114257733216238, -33.59949141033293], [19.114565442229573, -33.599500318737], [19.114993441151217, -33.599531541966364], [19.115091596113245, -33.59948699563336], [19.11529670558261, -33.59932642800531], [19.11544829251874, -33.59927293451047], [19.115599879507226, -33.59926401524198], [19.115684608582857, -33.599264049378704], [19.115760447469548, -33.59925505912205], [19.11583628636935, -33.59924171006326], [19.115885273225476, -33.59923281513936], [19.11595222193768, -33.599188236744425], [19.116027970154178, -33.59909455300704], [19.11617955734286, -33.59884483227659], [19.116295493001843, -33.598715532564235], [19.11639809336409, -33.59867537392513], [19.116487267703704, -33.598653150348014], [19.11656310672907, -33.59862187237384], [19.11662551971671, -33.59859956526559], [19.116714694102527, -33.598541648989034], [19.116942120619136, -33.598323151743536], [19.117075836942757, -33.598211652950454], [19.11729437341006, -33.598086767350054], [19.117561897029265, -33.59795750903373], [19.11773580107664, -33.59781483426101], [19.117976654213717, -33.59766763094641], [19.118012305932236, -33.59759630643922], [19.118088054504074, -33.59744916399562], [19.118132687201623, -33.597368920502966], [19.11824862337619, -33.59727966982623], [19.118426972824977, -33.59721729135182], [19.118551799338803, -33.59721724999671], [19.118730239627627, -33.59723956514674], [19.118823859574285, -33.59721728758546], [19.119015544662947, -33.59710137673101], [19.11914935233472, -33.59695869134761], [19.119488271474104, -33.596637583515], [19.119604208006287, -33.596543972606845], [19.11976024157204, -33.596494944609425], [19.119876178175943, -33.59644582613251], [19.11998766966503, -33.59634330281006], [19.120063509294592, -33.596187261897455], [19.11993414648936, -33.59611590329201], [19.119952017786275, -33.59597315426606], [19.119787003148478, -33.59587952938161], [19.119639859856836, -33.595692253076635], [19.11959976286482, -33.595540672073014], [19.119742370282918, -33.59541582353814], [19.119849416594082, -33.59531326973788], [19.120036747701327, -33.595219599883904], [19.12017944597846, -33.59511702397277], [19.120375576807476, -33.59505912122059], [19.120558462987713, -33.59503680719006], [19.120678844954412, -33.59503681659376], [19.12079478180051, -33.595059083665056], [19.120888402186797, -33.595161648652265], [19.120839324055453, -33.59535782562206], [19.120897292495833, -33.59544700676611], [19.12108462404946, -33.595415839370446], [19.12118268965486, -33.595264223092926], [19.121285291158106, -33.59509921649171], [19.121316497986125, -33.59501445483755], [19.121285291158106, -33.59490742729351], [19.12113814736514, -33.59478709736149], [19.12105341723789, -33.59465325748848], [19.121075643019157, -33.59447049896236], [19.121106940549787, -33.59439024569644], [19.121169354182726, -33.59435008951239], [19.12131649798612, -33.59430552321108], [19.121503739000698, -33.59428769341556], [19.121731167995257, -33.59417174068487], [19.121945170894055, -33.5940692002436], [19.122128057726844, -33.59405132509085], [19.12235548704409, -33.5939977935176], [19.122355487044086, -33.593935371159375], [19.122475869502495, -33.593699012592054], [19.122636349258993, -33.59356974157555], [19.122948509314732, -33.59340471736034], [19.123149177273312, -33.59323086253072], [19.123412259274406, -33.59303461438113], [19.12357273937226, -33.59285632480426], [19.123755626881266, -33.59245494573778], [19.12378238870071, -33.592325658446384], [19.12396963076428, -33.59216069109344], [19.124188170657188, -33.59216960211148], [19.124464588850557, -33.592223132536226], [19.12468757418187, -33.59223198992877], [19.12491500482116, -33.592138401092825], [19.1248882429329, -33.591942167979475], [19.125160216367934, -33.59199566693188], [19.1253965376511, -33.59188864873013], [19.125726571194544, -33.59174148604559], [19.126136800149148, -33.59171918088358], [19.12632404321332, -33.59161663299405], [19.126390902795716, -33.59151408072909], [19.12643109112489, -33.59128666849921], [19.12651582228688, -33.59113956186778], [19.12662722473878, -33.59094781033199], [19.12662722473878, -33.59082296377061], [19.126582681898363, -33.59064906346154], [19.12650684114581, -33.59048403054874], [19.126582681898363, -33.59026999861477], [19.126957259203685, -33.58987761445654], [19.127148947833966, -33.58967245283603], [19.127465556307808, -33.589516410119685], [19.127893658499648, -33.589262274517324], [19.12824592005535, -33.58899024029864], [19.128522340793193, -33.588990222353495], [19.128825614548916, -33.588843051656475], [19.129151114701717, -33.58851311502287], [19.129454298170362, -33.58852649987967], [19.130337269045615, -33.588464061755644], [19.13054238561904, -33.588294580878134], [19.1306404533289, -33.58793791536897], [19.130667215566174, -33.58745628431092], [19.130667215566177, -33.58712187272542], [19.1306404533289, -33.58689002236191], [19.130466544185833, -33.58663580015476], [19.13008751865386, -33.58674285795492], [19.129971579362735, -33.586586781495285], [19.129985005820558, -33.58641734541124], [19.130426446208464, -33.5861319515715], [19.1307920455486, -33.58588228459005], [19.13103281510564, -33.58559689018011], [19.131233486743298, -33.58536503264124], [19.13159917747115, -33.58512423086892], [19.131813185159814, -33.58491458532187], [19.13190236262066, -33.58468278431304], [19.131929124934402, -33.584495504815536], [19.13202728367188, -33.58434829851533], [19.132143132782886, -33.58427253385272], [19.132446409025487, -33.58429478345665], [19.132745149482307, -33.58430369289595], [19.132985920103714, -33.58423238380823], [19.133329295161825, -33.583884603032736], [19.1333025327633, -33.58334053359633], [19.133186592628405, -33.5830150237532], [19.133101860185977, -33.58267613383612], [19.13301268248307, -33.582529017967865], [19.132985920103714, -33.582350620955964], [19.13315093968224, -33.58206967780318], [19.133338185721694, -33.58190921298761], [19.133414027647845, -33.58164606227212], [19.13348977886697, -33.581396414434494], [19.133779629460008, -33.581093209003484], [19.134007064784527, -33.580892512556034], [19.134613529315004, -33.580406509830134], [19.134916716531933, -33.58014788671248], [19.135028211823453, -33.579831244316985], [19.135041547714557, -33.5795280739953], [19.13517980554805, -33.57926497367211], [19.135371588467365, -33.57910443659261], [19.135496419778335, -33.57888592364785], [19.135496419778335, -33.57872536879834], [19.135438449419514, -33.578190294970845], [19.135425113516447, -33.57788710719323], [19.13555439014476, -33.577615075315556], [19.135665885596975, -33.57722711275985], [19.135879895254046, -33.57699524329823], [19.13605825183408, -33.57674110751003], [19.13616974741325, -33.57654043269448], [19.13636144004098, -33.57634420851847], [19.136437282485474, -33.57619710482367], [19.13648636235182, -33.57587159473006], [19.13667360980315, -33.57557729331235], [19.136762788244113, -33.57525178611674], [19.136820758776402, -33.57500200634135], [19.137034768991864, -33.57477021431012], [19.137141819498776, -33.574560622953804], [19.137128483544384, -33.574319775020896], [19.13716858212955, -33.574047762936374], [19.137445008447795, -33.573722253797385], [19.13763234702545, -33.57359746036122], [19.1379087736332, -33.57345916255896], [19.137935536310323, -33.573303122476155], [19.137948963009954, -33.57311137695146], [19.137824040286457, -33.57291518313295], [19.137734861631756, -33.57283048811768], [19.137908773633196, -33.572652071111015], [19.137953408336283, -33.57246035211681], [19.13793109098418, -33.5723801014724], [19.137850802958464, -33.57229094094345], [19.1377036536429, -33.57211252894361], [19.1380782403753, -33.571849463738864], [19.13826104317035, -33.571523947162305], [19.138301232579078, -33.57129205533326], [19.13839041134781, -33.5712341181211], [19.13844384604083, -33.571064679741305], [19.138448382093166, -33.57077482046451], [19.1384037473402, -33.57050729952254], [19.138274469879857, -33.57047606490379], [19.137980171016103, -33.57032890864265], [19.13778394164194, -33.570128232739], [19.137592157677414, -33.570039045270576], [19.137645682995018, -33.569793830476286], [19.137467325775404, -33.569321144146], [19.137382592513138, -33.56908931249567], [19.137070512971793, -33.56892426273788], [19.1370258783577, -33.568763753912194], [19.137079403606855, -33.568554154343914], [19.136874284000744, -33.56834905176993], [19.136896601299586, -33.5681840898851], [19.13694114517991, -33.56807702270155], [19.137066067654334, -33.56808148254824], [19.137369256551487, -33.56817515623605], [19.137708098966762, -33.568322273238365], [19.137797277616073, -33.56856310230323], [19.138122784374488, -33.56878605285424], [19.13843940070959, -33.56895103186044], [19.13859099560229, -33.56900905276169], [19.138729254544284, -33.569111568800096], [19.139438240544738, -33.569182878208416], [19.1402943778065, -33.56948614556823], [19.140628867826965, -33.5695975856445], [19.14103012917441, -33.56961098943637], [19.14135119294677, -33.56964223400008], [19.14157863215983, -33.5696020794196], [19.141872933412763, -33.56943705890876], [19.14247487261919, -33.5689643871317], [19.14297883289932, -33.568679052919826], [19.143411304760676, -33.56854975855043], [19.143273135080968, -33.56843374523673], [19.14315719233629, -33.56830447037583], [19.143206182224706, -33.568166256823304], [19.14319284608788, -33.56792992350943], [19.143308788841868, -33.567755995475956], [19.14361198200834, -33.567733746866786], [19.14375024251566, -33.56773812203931], [19.143830440887406, -33.5677961200815], [19.14400880066656, -33.56787642197129], [19.144089089807206, -33.56792988092666], [19.14416937896237, -33.56798786393217], [19.144249668132055, -33.568041404884504], [19.144289767361226, -33.56819745042789], [19.144164933573737, -33.56849174450121], [19.144396819619725, -33.568460497657945], [19.14461083349184, -33.56836687878012], [19.145074606170542, -33.568259881628336], [19.145569497151037, -33.56820639023138], [19.145756839160093, -33.56819295881752], [19.14591732736529, -33.568126077911046], [19.146109114929054, -33.56806364996139], [19.14627849408091, -33.56796556938769], [19.146523808189283, -33.56762222540097], [19.146813576581945, -33.5672966935628], [19.147116862863378, -33.567033652789334], [19.147491366819143, -33.566770570542566], [19.147821416836223, -33.56658328332921], [19.148004223644342, -33.566538658431206], [19.148071086500618, -33.56632017935998], [19.14820934839541, -33.566315747536635], [19.148302974584805, -33.56644052638969], [19.14833862874932, -33.5665431562249], [19.148178139669998, -33.566779491034396], [19.14820934839542, -33.56689541706753], [19.148360946624745, -33.567354673564466], [19.148187030527602, -33.56768462436972], [19.14792837922252, -33.5677381745684], [19.1478615163877, -33.5678808924945], [19.147874852664668, -33.568005681066076], [19.147790117415077, -33.56810823753865], [19.14754489333083, -33.5682822013003], [19.14754489333083, -33.56859880577351], [19.14781243526297, -33.568629955928124], [19.147923933796278, -33.56881726587036], [19.14784808938816, -33.56910265230167], [19.14784808938816, -33.56925869110897], [19.148133503938613, -33.569352373386806], [19.148472445295567, -33.56935235742775], [19.148833614086758, -33.56937017074282], [19.14930628205097, -33.56960654505564], [19.14989035882006, -33.56961994888588], [19.150193647199313, -33.56954411688214], [19.1505725991978, -33.569793832140725], [19.150701970961837, -33.5700167694291], [19.15059047173239, -33.57025307527207], [19.15087588804187, -33.5705206304946], [19.15151793932152, -33.57099334225746], [19.15212442778002, -33.57130986339002], [19.152521254033548, -33.57141695595406], [19.152971607804755, -33.57168450845376], [19.153408625587943, -33.571795939631656], [19.153916953019113, -33.57211252399363], [19.15429599890902, -33.5721258897006], [19.154675045121152, -33.57223737908659], [19.154978246033075, -33.572491536584835], [19.155678276214825, -33.57291519430543], [19.1566994730688, -33.57330758860335], [19.157475351984747, -33.573436889826574], [19.157890055826407, -33.57364201110059], [19.1583805155158, -33.573847175618006], [19.158665936811232, -33.57412809258795], [19.159138615200007, -33.57453826138654], [19.159553229860613, -33.57466319390484], [19.159762805470013, -33.57468096508796], [19.15985652481113, -33.57483703494131], [19.15983865190525, -33.57505998846423], [19.16032022263413, -33.5752784851733], [19.160556562640945, -33.575095647303684], [19.160908850107614, -33.57495741078426], [19.161220946369717, -33.57497085502959], [19.161577679922154, -33.57489498761243], [19.161653526665308, -33.57473447171983], [19.162005814996196, -33.57466318040017], [19.1623937588925, -33.57445803942897], [19.162714747337937, -33.574319792144976], [19.162866350496667, -33.57418160669425], [19.163214194204002, -33.57411464248402], [19.163726978378314, -33.574043308239034], [19.163869690709667, -33.574150322942245], [19.163896454947253, -33.57430197567654], [19.16365122200984, -33.574435744484184], [19.163365797531945, -33.57447585511603], [19.163169556968228, -33.5744669770166], [19.162875332373034, -33.57455611595834], [19.162411541174574, -33.574805807524996], [19.162201964323604, -33.57497079282173], [19.162072679951518, -33.57509569849106], [19.161929968193302, -33.57513137872879], [19.161644544813466, -33.57513579048469], [19.161314575290827, -33.57526963339501], [19.161051561539967, -33.575403365266524], [19.160739374670502, -33.57546576643351], [19.160596663337806, -33.57554602235274], [19.160792902772712, -33.57571100722104], [19.16102924302942, -33.57590723928735], [19.16121205525226, -33.57603653909637], [19.161417186078626, -33.5761213067046], [19.161760492369197, -33.57628626292912], [19.16205925252414, -33.57646015921365], [19.162496279201935, -33.576540444303696], [19.162933306306638, -33.576651897709624], [19.163120564885293, -33.57683920190899], [19.1636289033696, -33.57699524038372], [19.164444895354492, -33.57715579576172], [19.165011209545327, -33.577392103882175], [19.164917579850773, -33.57764181924628], [19.164748102895306, -33.577722088728535], [19.163820607823887, -33.577325262520624], [19.163365797531945, -33.57723163116085], [19.16295108861016, -33.57716916155595], [19.1628574593465, -33.5772182028903], [19.162933306306638, -33.57751693887657], [19.162893114674244, -33.5779717652571], [19.163026935586174, -33.57827503213546], [19.163254295139133, -33.578399903088226], [19.163290041224613, -33.57868079424422], [19.163307823542308, -33.5791400657028], [19.163517400911243, -33.57951911228266], [19.163762633775335, -33.57964399541869], [19.163802825485813, -33.580054193344886], [19.163780506838016, -33.580526869428446], [19.163838480888877, -33.58096834545523], [19.163780506838016, -33.581454375379174], [19.163802825485813, -33.58180212936457], [19.163820607823883, -33.58224362109134], [19.16365122200984, -33.58276533284665], [19.16349961858522, -33.58322013070583], [19.16319632116394, -33.583661636752055], [19.16300906255359, -33.58361259377355], [19.162741511506443, -33.58347435036591], [19.162309020884557, -33.58355010479872], [19.161929968193302, -33.5836616271752], [19.161626762561887, -33.58381766548579], [19.161381530868532, -33.584134242294525], [19.161136208583983, -33.584227966787346], [19.160908850107614, -33.5845444762793], [19.160739374670506, -33.58487449630894], [19.160471824981137, -33.58503057876955], [19.160168620338542, -33.585191053868186], [19.159847542995394, -33.58540957152282], [19.159602312278068, -33.58572614257675], [19.159374863856613, -33.58578862970947], [19.159111851247168, -33.58588222209559], [19.15894237649151, -33.58605615100324], [19.15907165995829, -33.586497625253806], [19.158844302532188, -33.58659126487627], [19.158790774663384, -33.586796381872276], [19.158978031507033, -33.58711294583523], [19.15928123534181, -33.58775954208132], [19.15952655660828, -33.58780414227815], [19.159811887910482, -33.58789776218631], [19.160039336554377, -33.58800920196381], [19.160244466842652, -33.58810283347797], [19.160396069163966, -33.58827674483535], [19.160244466842652, -33.58849970074519], [19.159847542995394, -33.5885309401871], [19.15999914518208, -33.58890994521077], [19.160190938806114, -33.5890793930144], [19.160396069163962, -33.58920871198899], [19.160565453745367, -33.58936480620927], [19.160717056175542, -33.58950746488308], [19.160792902772712, -33.5897259854255], [19.160565453745367, -33.58986865402419], [19.160338095559258, -33.58996229629578], [19.16032022263413, -33.590229868564506], [19.16051201639594, -33.59040375280871], [19.160641300316822, -33.59059554061194], [19.160717056175542, -33.591634507660565], [19.16148405094596, -33.59200901748984], [19.161550915823273, -33.59245494061132], [19.161038134143244, -33.592735896151126], [19.160623427379562, -33.592624442146914], [19.16030244043522, -33.592860701083445], [19.160057118742827, -33.59273585229213], [19.159678158686074, -33.59276709792698], [19.15943283733637, -33.593021252777724], [19.15926345318425, -33.593163993784884], [19.159111851247168, -33.59306582697302], [19.1588844030754, -33.59306581903566], [19.15861685449665, -33.59316391996272], [19.158581199509953, -33.59341369240587], [19.15835375160838, -33.59366786085999], [19.15861685449665, -33.59412265392551], [19.158884403075405, -33.59435898511843], [19.15907165995829, -33.59468900411622], [19.159223261881735, -33.59517948720069], [19.159544338776318, -33.59521071211157], [19.159829760815295, -33.59525529304836], [19.16005711874282, -33.59544698788143], [19.160190938806114, -33.59574575750729], [19.160150747420186, -33.59616942264283], [19.159963490085076, -33.59648597712018], [19.160039336554377, -33.59675357120624], [19.160208721000597, -33.59690964895623], [19.160396069163966, -33.59710133166464], [19.160132965228012, -33.597288599184374], [19.15986541590162, -33.59751160691247], [19.15971825930411, -33.597730052420566], [19.159753914381557, -33.59793517323678], [19.159963490085076, -33.59806006205379], [19.160150747420186, -33.59826515976468], [19.160190938806114, -33.59875570055434], [19.15999914518208, -33.599179293381404], [19.160057118742824, -33.59955827953293], [19.160244466842652, -33.59985709517427], [19.160489697912325, -33.600013105101475], [19.160792902772712, -33.59996857333209], [19.16107832560896, -33.59988824297686], [19.161305684171513, -33.599874933772234], [19.161229928213043, -33.600155860489615], [19.16143496832188, -33.60029848779857], [19.1615687887976, -33.60026726946457], [19.161814020593642, -33.600392193412226], [19.162005814996196, -33.600851447540265], [19.16215741791469, -33.6010387268005], [19.162081571086087, -33.601275099526056], [19.16211722635199, -33.60204648052593], [19.162438305324958, -33.60203311994692], [19.162723729211258, -33.60236307573819], [19.162817358446933, -33.60272424487022], [19.16310269184897, -33.6031478609882], [19.163441644578246, -33.603308409148184], [19.1636289033696, -33.603607132287095], [19.16359324798323, -33.603763226354744], [19.16359324798323, -33.60398620941135], [19.16359324798323, -33.60431616090309], [19.163459426901962, -33.60456592449002], [19.16340589848066, -33.60477100589314], [19.163347924485823, -33.604913736291124], [19.163535273964133, -33.60527484380229], [19.16399008442827, -33.605529052819236], [19.164007866773776, -33.605809942614215], [19.16403018543292, -33.606126609984784], [19.164404794312702, -33.60636291172564], [19.16469012872665, -33.60628266696292], [19.165029082657846, -33.606188980136224], [19.16557752445228, -33.60642529797555], [19.1658450771942, -33.60638070431757], [19.166050210143883, -33.60659925991274], [19.166072438178134, -33.60688461124582], [19.16627757123191, -33.60724581145877], [19.16712931443397, -33.6074955090462], [19.167450306273683, -33.60737065518965], [19.167735733354164, -33.60716550072339], [19.168190548082595, -33.607339434702006], [19.168453656753705, -33.60733944987983], [19.168529413934177, -33.60760700959763], [19.16830205170402, -33.60778090885828], [19.168132573468583, -33.607905739519985], [19.168226203834845, -33.60822231206908], [19.16849375815782, -33.608503283969625], [19.16881484170153, -33.6087574238354], [19.16921168277078, -33.6087574626462], [19.16941681726085, -33.608882276317956], [19.16938116141396, -33.60911860246662], [19.1697021548654, -33.60908738479962], [19.169929608532616, -33.60897595295797], [19.17013918899815, -33.60894474893803], [19.170874898861648, -33.609671585997184], [19.17083479724473, -33.60987664098197], [19.170857116243752, -33.61011296221327], [19.17112013575076, -33.61015762368151], [19.17180240852579, -33.610741732773306], [19.172181469566002, -33.6109156081454], [19.172199252236343, -33.61113415462748], [19.17200754419979, -33.611294695641874], [19.171517069586177, -33.611214395798584], [19.171329716772142, -33.611027138346316], [19.17076348532846, -33.61082201018954], [19.170536031238655, -33.61061684189136], [19.1703264505878, -33.61058564794319], [19.170232819783212, -33.610456370288496], [19.16985376038825, -33.61026908385225], [19.16956842268729, -33.61036274374558], [19.169474792040855, -33.610206662987046], [19.16945691875107, -33.60998812600719], [19.16934096920317, -33.609796405111254], [19.169305313362308, -33.609528839705554], [19.16917158130247, -33.60943525361988], [19.169042204191623, -33.60957791099641], [19.168850497503406, -33.60967152701523], [19.168605261854633, -33.60960912792596], [19.168395682105675, -33.609435204112664], [19.16803894312186, -33.609466473548316], [19.16761978425124, -33.609341588050846], [19.16745030627368, -33.609515499197904], [19.16720507139068, -33.609796425096356], [19.167619784251237, -33.61031813182531], [19.167566255332776, -33.610616924886706], [19.16782936363757, -33.61077297983574], [19.168208421321918, -33.611027113157654], [19.168435783504602, -33.611183220775025], [19.16877464954148, -33.61137045682876], [19.16906007746488, -33.611450746295205], [19.169019976010134, -33.611704879388206], [19.168926254750914, -33.61200369623574], [19.170268475697775, -33.61280627876923], [19.171686458372022, -33.613278942798836], [19.172408833761317, -33.613323543292466], [19.172747793525534, -33.61335478940234], [19.173010814139765, -33.613515274000214], [19.17314463807123, -33.613751630536306], [19.173465634213017, -33.61414402013898], [19.173844696656452, -33.61433127674159], [19.174183566775394, -33.61430013439414], [19.175053107761926, -33.61456766192964], [19.175793271374616, -33.614585459569064], [19.17613223369061, -33.614696926235275], [19.176529081223403, -33.61464793087014], [19.17685007978102, -33.61464792458136], [19.17738075313882, -33.61461668146093], [19.17770184303285, -33.614398233424204], [19.177871234148615, -33.61426888843115], [19.17832605913628, -33.61409500701538], [19.178647149704414, -33.614130659040974], [19.1791019754757, -33.614032569638916], [19.179423066596957, -33.61397014616546], [19.17974406721763, -33.61392557525218], [19.18001162839587, -33.61405036997244], [19.180408479347495, -33.61395672238254], [19.180577962210645, -33.61381404185241], [19.180613618945316, -33.6134840992934], [19.180765228146385, -33.613229934350066], [19.18133156290798, -33.61271261762755], [19.181692667468923, -33.612271206445904], [19.18155893172595, -33.611892219479174], [19.18150540114795, -33.61156218845133], [19.181523274916504, -33.61137048899724], [19.18186215081482, -33.61121436758481], [19.182241220327565, -33.61097805784954], [19.18271383281106, -33.610804184848675], [19.182976949977462, -33.61080415808907], [19.183262296181343, -33.610915657244156], [19.18350753981968, -33.61107173192043], [19.183752783591284, -33.61126348369416], [19.184056004154616, -33.61096468979227], [19.184056004154616, -33.61083537634832], [19.18426559119806, -33.610853221743824], [19.18460446915597, -33.61083536662662], [19.18484971352351, -33.61071053282457], [19.18483193035365, -33.61041176340407], [19.184947883892207, -33.60979641236542], [19.185228785545675, -33.609479819315986], [19.18551413317294, -33.60911861232354], [19.185647960818578, -33.60880645365603], [19.185870886008523, -33.60844087061683], [19.185946646120502, -33.608097495003264], [19.186080473894275, -33.60784329168318], [19.186307845104537, -33.60724581664564], [19.185853012067785, -33.60721461319939], [19.185268888444565, -33.60715218827123], [19.18500132414809, -33.60712095019985], [19.184796273285563, -33.60697823602571], [19.184680319785933, -33.60604630253883], [19.184359224921643, -33.606001696253365], [19.184417201626502, -33.60647440662716], [19.184493052225005, -33.607245798547794], [19.18451083538152, -33.60740186027659], [19.184435075510407, -33.6076069605005], [19.1841898313681, -33.60773187666007], [19.18390439384749, -33.60765606737319], [19.18379297708932, -33.60759361685062], [19.183699343483195, -33.60725915428931], [19.183699343483195, -33.606866758565324], [19.183565516415147, -33.606536766169704], [19.18348975670269, -33.60618899147521], [19.183565516415147, -33.6060151293605], [19.183904393847495, -33.605876841029605], [19.1841898313681, -33.605765373876025], [19.18455102894705, -33.605778721027136], [19.18504151775728, -33.60571632968665], [19.185210911630353, -33.60560489259765], [19.18551413317294, -33.60549780462576], [19.185701401157296, -33.60557365682189], [19.186120576868777, -33.60568515021079], [19.186932163848482, -33.605685108695546], [19.186874186820816, -33.60541760163256], [19.18751628962196, -33.60519909399092], [19.187819512711595, -33.60515004161137], [19.188122736004598, -33.60516782654259], [19.18850172004121, -33.605069788038115], [19.188822817849143, -33.60506974102332], [19.189237459888062, -33.60515005113276], [19.189522900777305, -33.60529268605914], [19.190013394982795, -33.604931516845596], [19.19069560562094, -33.60439201697594], [19.19098104742993, -33.604142253561214], [19.191507200810122, -33.60373203054751], [19.19192638190238, -33.60422249679616], [19.192055674850046, -33.604347347582745], [19.19226526560151, -33.60444098079283], [19.192376684447403, -33.604360787227684], [19.19241687871205, -33.60422255356796], [19.193174854293744, -33.60431615820155], [19.193473635297018, -33.60437862374245], [19.1942495776504, -33.60407982337955], [19.194797964277452, -33.60363839829019], [19.195025430599475, -33.6035447589153], [19.19506553436652, -33.603339619479364], [19.19521714841382, -33.603196905033386], [19.195462398533017, -33.60333964476194], [19.19581915920954, -33.60362052344882], [19.196028751701217, -33.60396834266574], [19.19612238785866, -33.60436074763128], [19.19574330671261, -33.604708579296364], [19.195894920986483, -33.605136645312996], [19.19725945173125, -33.60420472766619], [19.197790058317892, -33.60390590239051], [19.19824045741877, -33.6036205240219], [19.19884682742154, -33.60338426214151], [19.19909207950207, -33.6032593981866], [19.199109953965205, -33.60305421081367], [19.199150058093178, -33.60270643762026], [19.198829043702016, -33.601591640430925], [19.198695302894876, -33.60056605863094], [19.193759078856754, -33.59937103883749], [19.193683226704454, -33.599228316927274], [19.19396857966391, -33.5983142552963], [19.19423170337872, -33.59754278077915], [19.194347659326347, -33.5967847200584], [19.194704328393442, -33.5965975055376], [19.19519482820978, -33.596423593070085], [19.1951413867501, -33.59603119610934], [19.195025430599475, -33.59587065099364], [19.195047750795176, -33.59566547241999], [19.195194828209782, -33.59552726128459], [19.195422294730868, -33.59549158407646], [19.195689865188303, -33.59524187185919], [19.19572552311469, -33.59473799209256], [19.195480272853214, -33.59475136435307], [19.195270680614986, -33.59467556292817], [19.19517704463336, -33.59439024368045], [19.19498977272813, -33.59434563805218], [19.194610692528776, -33.59439018338], [19.1942495776504, -33.5942653516902], [19.19423170337872, -33.593935396666325], [19.19457503469005, -33.5938060657202], [19.19470432839344, -33.59352517855719], [19.19491392036991, -33.59323979315508], [19.19497189842726, -33.59262444793323], [19.194873816616273, -33.59228104698661], [19.194722202683767, -33.59193324264388], [19.194686544836266, -33.59125546000136], [19.194347659326347, -33.591081584963135], [19.194173725416025, -33.590733737301456], [19.193379999686577, -33.5902477000517], [19.192662127316066, -33.589962358507755], [19.19211365254172, -33.58991771928606], [19.19197982298294, -33.58971258003949], [19.19175689478199, -33.58969481366121], [19.191582961866246, -33.58963235104904], [19.191413565606172, -33.589079433603516], [19.191034488398916, -33.589128482743085], [19.191168317678304, -33.588749421142566], [19.191319930421585, -33.588120748345595], [19.191355588004132, -33.58720660103045], [19.191605281892382, -33.58682761295802], [19.19226526560151, -33.58599371339839], [19.192434662180165, -33.58594466798825], [19.19279586634438, -33.58605611249468], [19.193076772871606, -33.58618101211519], [19.19334434194467, -33.58596253580276], [19.193379999686577, -33.58580642354837], [19.193455851788123, -33.585601351949464], [19.193420103308064, -33.585378414321646], [19.193152624922394, -33.585173244104766], [19.193192728523748, -33.58481208272873], [19.19334434194467, -33.58478085429021], [19.19387494395121, -33.58438845166815], [19.194401100692478, -33.584419655322], [19.194931794668495, -33.58435277134549], [19.194797964277456, -33.58394698841463], [19.194668670547347, -33.58400942012366], [19.193928475993893, -33.58410308594283], [19.194044431863954, -33.5838043340204], [19.19423170337872, -33.58351889137571], [19.194307464890443, -33.58334499473512], [19.19442342085745, -33.58303291983355], [19.19459290897527, -33.5827475323534], [19.194552714517613, -33.58236849188306], [19.194762306423993, -33.5821009268284], [19.194628566815396, -33.58185118967522], [19.19395079613559, -33.58158363414649], [19.193192728523748, -33.58114220709656], [19.19322838625373, -33.580602645784], [19.192095778354293, -33.58044659419134], [19.19200214302864, -33.5806517317542], [19.19175689478199, -33.58098167326176], [19.191244078677723, -33.58098169365381], [19.190789240676395, -33.58096830110603], [19.190717925603327, -33.580696286899304], [19.19063762811085, -33.580446599251395], [19.190659948090378, -33.58025043224198], [19.190717925603327, -33.580116634260136], [19.190793686527382, -33.57996057715597], [19.190896304038734, -33.579746514744194], [19.19095428158196, -33.57954142057562], [19.191043470837442, -33.57938090649129], [19.191021150839003, -33.579157935003984], [19.191132660110497, -33.57889483210441], [19.191253061120413, -33.57849354855693], [19.191377908019057, -33.5784266520673], [19.19153396669078, -33.57846675130556], [19.19224294554285, -33.57880120822989], [19.192332135052148, -33.57916681729296], [19.192488194052686, -33.57899738591018], [19.192541725931537, -33.57835527835205], [19.192242945542848, -33.57833297378287], [19.191948611213565, -33.57823043558546], [19.191872850096264, -33.57811002658799], [19.191805980713433, -33.57791385199385], [19.19182821001871, -33.57777558787895], [19.191703362995906, -33.57759726358512], [19.19166770538597, -33.577409979246205], [19.1917123454477, -33.577222644520255], [19.191814872435415, -33.577075530376256], [19.19190406186042, -33.57675893172384], [19.191814872435415, -33.5763843480884], [19.192037800664906, -33.57610345121279], [19.191739020608644, -33.576009843898156], [19.191480434931048, -33.57601875097651], [19.19150275495213, -33.57569321929485], [19.19159194431566, -33.575376616501096], [19.19192638190238, -33.57402101292831], [19.19189517013669, -33.57327190310344], [19.192060120713467, -33.57314256945529], [19.192309814990182, -33.57304002303184], [19.19286718174468, -33.57286164992424], [19.193237278003625, -33.57283493971426], [19.193955242017605, -33.57272340288332], [19.193999791572434, -33.57260301648282], [19.1935628250486, -33.57237564917527], [19.19396857966391, -33.572108099986885], [19.194450186910384, -33.57172459849492], [19.1946285668154, -33.571537349586194], [19.195377654303694, -33.571581917723755], [19.19587269148176, -33.57132331415879], [19.19641218825911, -33.571358978316795], [19.19674662940215, -33.57135894789099], [19.19741995834362, -33.57165767847677], [19.19822702891374, -33.57180928827357], [19.199359652122762, -33.57198324716967], [19.1991768244249, -33.572255258989514], [19.199225911159385, -33.572433565635954], [19.199560354375066, -33.57234890372455], [19.199885815223112, -33.572357786110516], [19.20024257937567, -33.57239791071111], [19.200443191284375, -33.57221062596479], [19.200492278155664, -33.5713233180155], [19.2003227878351, -33.57049837518207], [19.19867298251977, -33.56931222517069], [19.19874874477306, -33.56882176937836], [19.198512475464426, -33.568692398954916], [19.19859712954589, -33.568522974694076], [19.19873540698623, -33.56814395402771], [19.19877551108113, -33.56779170189987], [19.199123291763033, -33.56775597471769], [19.199390864402115, -33.56757315787482], [19.199653991260902, -33.567305606248624], [19.199529142084078, -33.56716296508966], [19.199538033957456, -33.56695338831352], [19.19947116344459, -33.56656985505601], [19.1991768244249, -33.56640045288455], [19.198976213075344, -33.56651191644669], [19.19882015184252, -33.56648514064721], [19.19884682742154, -33.5663157211155], [19.198730961057375, -33.566293434864136], [19.19864621621773, -33.566213192497536], [19.198628341772846, -33.56616408340659], [19.198739852915125, -33.56590991491122], [19.19892268043711, -33.565691429611654], [19.19886914780519, -33.5655620980415], [19.198726515128563, -33.565566557191445], [19.19857934583616, -33.56565579508823], [19.19843217659144, -33.56569593442813], [19.198253795191064, -33.565611138328535], [19.198191370790806, -33.56546398766744], [19.198441068443334, -33.56529900622659], [19.198704194751926, -33.56501368786892], [19.199078741705165, -33.5647104121152], [19.19923924896061, -33.564746098212304], [19.19938197253162, -33.56477731738088], [19.19940429294156, -33.56452758512724], [19.19949792979523, -33.564474073969464], [19.19958712073097, -33.564407212502815], [19.19963167083869, -33.564233277501415], [19.199711969923726, -33.56407721085461], [19.19970743325188, -33.56397916501765], [19.199622778963484, -33.56380523175129], [19.19951126760445, -33.563729445961236], [19.199408738877004, -33.56354217738382], [19.199337331715014, -33.56331027425482], [19.19938197253162, -33.563145287425534], [19.19929722757051, -33.5628777728734], [19.199448843031355, -33.56241846168579], [19.199448843031355, -33.56210634414267], [19.199667329074703, -33.56188336575571], [19.19991258159818, -33.56168274015683], [19.19997056029401, -33.561593497154405], [19.200166726139724, -33.561584644883595], [19.200331770457566, -33.56163366827834], [19.200438745338804, -33.561812001988294], [19.200639448067722, -33.56202160194847], [19.200871272532627, -33.56219553080048], [19.200982784225378, -33.56240060386464], [19.20125924986637, -33.56239613738086], [19.201263695819964, -33.56211966057322], [19.201129954296242, -33.56198592289416], [19.20111207975365, -33.56166935398592], [19.201067529500808, -33.561441940068036], [19.201281570368515, -33.561218931722856], [19.201397437383026, -33.56096479370564], [19.201665011361, -33.5607685610091], [19.20187905250997, -33.56076859930893], [19.20214218080911, -33.5606035916978], [19.202356222182647, -33.56056349361784], [19.202753001985517, -33.56071062619762], [19.202904618598883, -33.56096922093112], [19.203118660331164, -33.56100939160964], [19.20314542689655, -33.56089340915974], [19.203297043640685, -33.56079530905113], [19.203582402640823, -33.560884567773044], [19.203582402640823, -33.56121897217312], [19.20368946902092, -33.561334863432236], [19.20373846550833, -33.56152216598281], [19.203417447877424, -33.56186103384497], [19.203381789347326, -33.56215534723001], [19.203386235321663, -33.56233375938247], [19.203381789347326, -33.56260126885303], [19.203484318970673, -33.56269494040646], [19.203537852146034, -33.562940151278056], [19.20392129504037, -33.562957988122015], [19.204117553324473, -33.5630248578383], [19.20426917039246, -33.56298917934676], [19.204327058909296, -33.56290003307692], [19.204349379561954, -33.562806396083396], [19.204536655324944, -33.56270833035597], [19.20465261390285, -33.562645887683196], [19.204732913874345, -33.562628067603484], [19.20486665645717, -33.5625388384353], [19.20499595308917, -33.56252993317879], [19.205152016441264, -33.56250760358259], [19.20520999580488, -33.56242288331444], [19.205361613236654, -33.562240071786086], [19.205415146632756, -33.56197702260314], [19.205352721249437, -33.561865485363526], [19.205201103820624, -33.5618432661127], [19.204960294435413, -33.56193240573703], [19.204558975987883, -33.56199483009013], [19.204915743805767, -33.56137059678258], [19.205040594461167, -33.561165432432134], [19.204367254231748, -33.56136164461337], [19.204175532556352, -33.56118326274792], [19.204300383008775, -33.56090235175068], [19.204313720958844, -33.56068390968874], [19.204425233495435, -33.56047430515318], [19.20452331736834, -33.5603449871765], [19.204523317368338, -33.56014875193216], [19.204661505876395, -33.560055107607575], [19.20484878176777, -33.55997932898553], [19.205076253121216, -33.55993476814168], [19.205254637197864, -33.5599971882843], [19.205308079846834, -33.56012201285648], [19.205441913333168, -33.56006402044286], [19.205522122709244, -33.55992580899658], [19.205602422834065, -33.55970731217499], [19.205655956258475, -33.55935502119783], [19.205780807116803, -33.55887795106479], [19.205856570554054, -33.55787021044963], [19.205994850201357, -33.55608654268319], [19.205981421467364, -33.55570303827194], [19.205713844951617, -33.55486920780935], [19.205330400547588, -33.554592773606956], [19.20492908177386, -33.554347498056146], [19.204612509289625, -33.55436530969437], [19.204411804807727, -33.554271670278446], [19.204344933578213, -33.55404872814867], [19.204411804807727, -33.5536028146622], [19.204683826545455, -33.553486872355336], [19.20443412546454, -33.55268427892851], [19.204255741709353, -33.55218040506822], [19.204322612925765, -33.55148920844356], [19.20421119114865, -33.55051709507491], [19.204077358024076, -33.55053938898047], [19.20387674451239, -33.55076240035459], [19.20364936449254, -33.55115478614359], [19.203426339826844, -33.551003194656445], [19.203537852146034, -33.550557261258106], [19.203649364492538, -33.54999543108422], [19.20387674451239, -33.548929710715825], [19.204300383008775, -33.547658854173314], [19.204411804807727, -33.547204038462674], [19.204278062358515, -33.54711033663309], [19.204255741709353, -33.54695878316399], [19.204389574886378, -33.54674475175301], [19.20455897598788, -33.54667784547535], [19.20469271851961, -33.5466421590005], [19.20515201644126, -33.54579049432015], [19.205165445150804, -33.54566117131855], [19.205053932432918, -33.54549168068614], [19.20509848307609, -33.545108207982935], [19.205027165755315, -33.54469799858727], [19.20484878176777, -33.54372594875647], [19.20469271851961, -33.54346727545527], [19.204313720958847, -33.542504113006146], [19.20407735802408, -33.541888803652064], [19.203885636470783, -33.54149632853822], [19.20367159437774, -33.54147850966224], [19.203640381804544, -33.54109508092312], [19.203573510688365, -33.5408765458948], [19.203346130820016, -33.54054210223713], [19.203181085408133, -33.540533203442735], [19.20303400540764, -33.54046630739681], [19.202833301621858, -33.540287909868674], [19.20263268865864, -33.540270072314414], [19.20244087698006, -33.54046634905913], [19.202494410032646, -33.541037049064464], [19.202396326597036, -33.54147848313836], [19.202338347591866, -33.54164350283307], [19.202137644113, -33.54171040894788], [19.201959351992016, -33.54195115679443], [19.202012794254024, -33.54215629824556], [19.201745310805247, -33.54241941244883], [19.201375207608965, -33.54245952490502], [19.201228037458705, -33.542615568869316], [19.200996122078166, -33.54264231821458], [19.200724193279147, -33.54279393979917], [19.20053682835213, -33.54283855025109], [19.200376320638295, -33.54272708220423], [19.199917027538607, -33.54298122334212], [19.199627224901068, -33.54299907423467], [19.19953803395746, -33.54294107105869], [19.199493393125522, -33.54266467703205], [19.199582584060366, -33.54243723469023], [19.199604904480168, -33.54217856287783], [19.199671775012725, -33.54193339343506], [19.19973864555511, -33.54165243959264], [19.199805606840815, -33.54135361963792], [19.19971641586218, -33.541095059908486], [19.19933733171501, -33.54056891014401], [19.20126814177359, -33.53923113411759], [19.201709652406223, -33.5389368137507], [19.201691777840843, -33.53865142906214], [19.20135288710222, -33.53866925602358], [19.201103187849473, -33.53868264922157], [19.200019647114246, -33.53806281622931], [19.19980107016803, -33.53813422963463], [19.19853025917155, -33.537469788340914], [19.196786733321368, -33.53660922185341], [19.196621781024746, -33.536760797427426], [19.196376530278748, -33.53673850109524], [19.19622046993965, -33.536573485204734], [19.195975219410585, -33.535057448008864], [19.195975219410585, -33.53455355148686], [19.195547142778175, -33.5334878478267], [19.19329525584653, -33.53007658121555], [19.192274157332502, -33.52861400671206], [19.192162647779906, -33.52773556758397], [19.191761340642476, -33.526482553010936], [19.19122184940113, -33.52580926146198], [19.190526209692894, -33.525733394392105], [19.190102584052877, -33.5256977744489], [19.18983057105381, -33.525662047318946], [19.189295437218757, -33.52605453366746], [19.189001195537454, -33.52640677138566], [19.189001195537458, -33.52683930707678], [19.1891349334842, -33.528292942530875], [19.189112613579894, -33.529100029107376], [19.18897887563975, -33.52967525801837], [19.188800497960237, -33.53034863354677], [19.188421513673237, -33.530741014473364], [19.187926484640045, -33.53149013681594], [19.185759378034476, -33.53332728091533], [19.1850593009354, -33.534424260243604], [19.18445285866464, -33.534963805375774], [19.18382418829567, -33.53556128980903], [19.18317310846135, -33.536140969318055], [19.183217747684214, -33.536439704098015], [19.183445117452923, -33.536368393333916], [19.18404711258523, -33.53601163633756], [19.18514848902806, -33.535320478202216], [19.185505241574834, -33.5350573895777], [19.185817354919088, -33.53475867084225], [19.186200873559194, -33.53434838394552], [19.186490667609192, -33.53395599276204], [19.186807318176854, -33.53392030950681], [19.187074883542962, -33.53404963123278], [19.187364678153426, -33.534031824624684], [19.18763668966941, -33.533786586638726], [19.18785961584042, -33.5335636113439], [19.18819405066858, -33.53350565822319], [19.188171821541832, -33.53371523054627], [19.188127181829383, -33.53399166102274], [19.187926484640045, -33.53438409170545], [19.187614369839057, -33.534629338570866], [19.187052563740338, -33.53492808859226], [19.186067045749763, -33.535396335716435], [19.18583967466069, -33.53563713088684], [19.18548292184976, -33.53627471812085], [19.184845267730978, -33.536693879284414], [19.18435033334628, -33.53706845037956], [19.183971262061654, -33.53738504788268], [19.183712680827064, -33.53776855852417], [19.183231085013848, -33.537938026038496], [19.182905545407134, -33.537964760567235], [19.182535457605535, -33.537964735716145], [19.18205386304892, -33.53823678977935], [19.18155893172595, -33.538589053092345], [19.18134934593989, -33.53883431056144], [19.18115763400531, -33.53904832082738], [19.180653721433995, -33.5392444713972], [19.180203339843043, -33.53983311066744], [19.17981093481493, -33.540225542962496], [19.17936509053412, -33.540702632865326], [19.17895925830313, -33.540992483356916], [19.178678360554557, -33.54113068948652], [19.17826363748699, -33.54110399116328], [19.17685906193728, -33.540863153698275], [19.176497870522276, -33.540475180868576], [19.176248184991156, -33.54032808719073], [19.17607425805154, -33.540189838253404], [19.17595830679581, -33.5400650103375], [19.17596275250068, -33.539962446810804], [19.176145570810508, -33.53987771671141], [19.176252630698894, -33.53970376157424], [19.17623475713949, -33.53959679204668], [19.17613223369061, -33.53952542828603], [19.176257076406678, -33.53949424506732], [19.176471105533206, -33.53957448831671], [19.176636050474237, -33.53960574292717], [19.17677876691039, -33.53953878801502], [19.17689916409166, -33.53951654321674], [19.177041880611256, -33.53941396457806], [19.177340650941527, -33.53930243425035], [19.17765275863466, -33.539186545655795], [19.177835577631004, -33.5391152231318], [19.177911427122233, -33.53902154356163], [19.177987185897166, -33.53887884474246], [19.177906890669053, -33.5386737686613], [19.177692860859764, -33.53862470838349], [19.177452066104824, -33.538606837225274], [19.177095410658886, -33.538446351344696], [19.176613821917048, -33.538147580573686], [19.176297178507415, -33.537862209136684], [19.17598507175438, -33.53760803057402], [19.17596275250068, -33.53745191286259], [19.177247018675782, -33.53695251688127], [19.17779547539319, -33.53672958256126], [19.178219089483857, -33.53656456952012], [19.179021680048827, -33.53609639428052], [19.179222373278183, -33.535958115786734], [19.17991354983091, -33.53524022615819], [19.180065158796474, -33.535525619239735], [19.180586853711645, -33.535877853240386], [19.18192457296255, -33.536635936871974], [19.181991440883294, -33.53604734501912], [19.180613618945316, -33.534856748591864], [19.180832095895195, -33.53480768287094], [19.1811219772276, -33.53457135934782], [19.181353791697973, -33.53440637135705], [19.18183538550702, -33.53387572887593], [19.182276877193765, -33.533416422146026], [19.182758471988485, -33.53287244517194], [19.182892208087118, -33.53250678228963], [19.183280170019515, -33.53251571580087], [19.18352096788808, -33.532493429363726], [19.18353430522668, -33.53238639211002], [19.183623493018057, -33.53232841570571], [19.18352096788808, -33.53221698533816], [19.18335148391897, -33.53209209274564], [19.183195428072228, -33.532007420189395], [19.183150788851574, -33.53186022263729], [19.183235530790483, -33.53170414557086], [19.18342733433839, -33.531387592385464], [19.183436225895566, -33.53128949376183], [19.18340501471604, -33.53119584493917], [19.183141897300022, -33.53117357420623], [19.182967967699252, -33.53116013476079], [19.182820894260256, -33.53110668485257], [19.18275393548651, -33.530999673881986], [19.18271383281106, -33.530865899009214], [19.182646964783235, -33.53078561296346], [19.182446270029217, -33.53074099863063], [19.182294660262947, -33.53062952839756], [19.182281322961, -33.5304778892973], [19.182383847809295, -33.53018361607171], [19.182544349145136, -33.52991609233657], [19.182513138027307, -33.529657474911374], [19.182419504686777, -33.52937207783283], [19.18249535494951, -33.52910009360315], [19.18266474786701, -33.529086699175735], [19.182758471988485, -33.529077774077734], [19.18286544271821, -33.52907775216089], [19.182976949977462, -33.52907330090765], [19.183110686140854, -33.52904652924257], [19.183253404627596, -33.52897520486592], [19.18330239890554, -33.52872101574962], [19.18340946049439, -33.52867646639645], [19.183511985599036, -33.52864078921572], [19.18362349301806, -33.528636337428146], [19.183708235045728, -33.528685375576025], [19.183743892027874, -33.52877008691749], [19.18380631443596, -33.528877086098205], [19.1840426668006, -33.528823589554754], [19.18418084906575, -33.5284713533947], [19.184158620136458, -33.52808779537213], [19.18427901928901, -33.527998652902156], [19.184479624127693, -33.52798971801499], [19.184658000101635, -33.528007546416696], [19.18480071907762, -33.527806878496044], [19.184863141631833, -33.52778017549886], [19.184938901574775, -33.52749479123189], [19.185019198055127, -33.52715585641675], [19.184987986766146, -33.5270042797516], [19.185050409346253, -33.526808081643836], [19.185112831934983, -33.526589585495856], [19.185112831934983, -33.52625511932495], [19.184863141631833, -33.526214980240646], [19.18474274232351, -33.52617930555782], [19.184809610661848, -33.52559518340605], [19.184934455781367, -33.525604145714624], [19.185130705846433, -33.52559969382962], [19.185286762362185, -33.52560414919937], [19.185487367648566, -33.52543468547172], [19.18672702137867, -33.52360642758159], [19.185389287893162, -33.523017835265634], [19.18502364384937, -33.52308472132086], [19.184930009988, -33.52306244719702], [19.184894352912174, -33.523222932394475], [19.184778399387362, -33.523236323825785], [19.184671428204254, -33.52325864379498], [19.18459557757578, -33.523218463000475], [19.18454649242706, -33.52310701655538], [19.184528709269138, -33.52290638045873], [19.184493052225005, -33.52271461380185], [19.18455992052636, -33.52268785692709], [19.1846892113678, -33.52274136462304], [19.18472042263612, -33.52258529355454], [19.184591131785755, -33.522348952822945], [19.184430629721962, -33.52237573338795], [19.184261145411277, -33.52238461603263], [19.18412287239124, -33.522393600335334], [19.18394903314268, -33.522353398696104], [19.183837525643234, -33.5222330243803], [19.183757229373057, -33.52206362845006], [19.183690361190607, -33.52189413821327], [19.183717126608446, -33.521702408210984], [19.18382418829567, -33.521622147047076], [19.18395792471014, -33.52168012873507], [19.184069432239337, -33.52168900923945], [19.18435033334628, -33.5216087953431], [19.184698102949834, -33.52118066961595], [19.18495677547934, -33.52088193029806], [19.185117277730157, -33.520712468576754], [19.185063746730034, -33.52062328995553], [19.18491667260816, -33.52059657403475], [19.18455992052636, -33.520547492117515], [19.18398469014384, -33.52050287746414], [19.183538751006296, -33.52046281148949], [19.18315532535754, -33.520391418569275], [19.18245071579812, -33.520155138685226], [19.182169815873692, -33.520061477564056], [19.181960229803725, -33.52002576073577], [19.181777409133907, -33.5198741767229], [19.181866596577965, -33.519691370317254], [19.181777409133904, -33.519325738058946], [19.18179972867573, -33.51896001939709], [19.18191123567154, -33.518745988492036], [19.182049417283928, -33.5183269040631], [19.18218324390227, -33.51785864926275], [19.1823392993989, -33.51762234051945], [19.182303642527756, -33.51729684208674], [19.18191123567154, -33.51716746323672], [19.181465298583515, -33.5171942809131], [19.181286923871788, -33.51740832580702], [19.18100602467228, -33.51751083096126], [19.180667149417427, -33.5177560917474], [19.180265761761092, -33.51786760472665], [19.1800205198857, -33.51779175634888], [19.179717302035602, -33.51783191955204], [19.179222373278183, -33.51756885327759], [19.17889683656608, -33.51731461905003], [19.178504432675954, -33.51721213376743], [19.178080818316854, -33.517127398894885], [19.177443174665697, -33.51698024053012], [19.17692592910619, -33.51688654514582], [19.176578074770248, -33.5168776413255], [19.176475551243144, -33.51695346956124], [19.1763730277394, -33.517189763704195], [19.176511207653014, -33.51728786621134], [19.17653352693392, -33.517417191108684], [19.176243648554735, -33.51752869361686], [19.176007391009176, -33.5175420791288], [19.17582901845906, -33.517493037307766], [19.175717512968987, -33.51729685246859], [19.175414298016978, -33.51709169496513], [19.175400870190195, -33.51695345684816], [19.175325111850675, -33.5167929392905], [19.17506644484983, -33.516766213239414], [19.17498624087137, -33.51689549492328], [19.174932711074703, -33.5170828002762], [19.17489705478994, -33.51726115441631], [19.174772212451355, -33.51733248991852], [19.174504654387512, -33.51730570525865], [19.174357492983837, -33.51722096930306], [19.174303963262023, -33.517064956864296], [19.174156801924056, -33.51683752731767], [19.174415468401605, -33.51656998225585], [19.17421477731593, -33.516351449923064], [19.17400964063425, -33.51624003133979], [19.17408104379412, -33.51611067684183], [19.17397843010796, -33.516061681292754], [19.173889244226455, -33.515972434851506], [19.17404538757691, -33.51591452257727], [19.174156801924052, -33.515803038861314], [19.174237096482884, -33.51563358319781], [19.17425941565093, -33.515548870148805], [19.174437787578515, -33.515495299051054], [19.17458485828007, -33.515557750732505], [19.17469636348931, -33.51562466125361], [19.174718682680165, -33.51579406602891], [19.174932711074703, -33.51588776653696], [19.175142293874295, -33.51609286021746], [19.175325111850672, -33.516137407976316], [19.175334003247936, -33.51595017030721], [19.17440204060465, -33.514514332209984], [19.175097655451648, -33.513840995283594], [19.175008469348132, -33.513568973267496], [19.17478554953093, -33.513296962130674], [19.17440204060465, -33.51346648846543], [19.174245987858633, -33.513243516808956], [19.1743128546391, -33.513016049792306], [19.173688644103926, -33.51326130148768], [19.173933882529123, -33.51387669495426], [19.173822377508994, -33.51413977934208], [19.173505826792994, -33.51384103107479], [19.173082217140948, -33.51363586819132], [19.172676390577497, -33.5135422454578], [19.172498019349003, -33.51327914367846], [19.172408833761317, -33.512757431273435], [19.172698709668037, -33.51217775947627], [19.17256488586939, -33.511838888115626], [19.172252781707453, -33.51129935414481], [19.172252781707453, -33.511071886266976], [19.172341967264156, -33.510889067997965], [19.173126764635363, -33.5103629168693], [19.173621777416315, -33.51019348687603], [19.17375551080148, -33.509952676954995], [19.173933882529123, -33.509578148126444], [19.174268307027134, -33.509261513017826], [19.173416641005264, -33.50828944113376], [19.172903845751346, -33.50816009070283], [19.172836888452466, -33.50789699825016], [19.17283688845247, -33.50758047496526], [19.17256488586939, -33.50698289324534], [19.17229741984756, -33.50647453438867], [19.172119048769545, -33.50604647629818], [19.17180240852579, -33.50595287711339], [19.17180240852579, -33.505729922918775], [19.171940677762365, -33.505596111705785], [19.172185915233527, -33.50554262612811], [19.172252781707453, -33.5053910247279], [19.171913913044612, -33.50494510865816], [19.171445666833787, -33.50443676705931], [19.171378800480024, -33.50389719089423], [19.17131193413622, -33.50300090717298], [19.171222748784068, -33.50245691034571], [19.170995294461576, -33.50161865555754], [19.17095074717857, -33.500178355211354], [19.17070551038198, -33.49944704111854], [19.169180472577942, -33.499464874172986], [19.168306497333113, -33.49955853057138], [19.16875686700681, -33.503558314448746], [19.168667682162432, -33.50367423002455], [19.168172674843987, -33.50325960506319], [19.167722305756993, -33.50296079638757], [19.167365658035866, -33.503000902189115], [19.16738788613535, -33.50328187439641], [19.16664773637861, -33.50331749037796], [19.16687065215491, -33.50281367470682], [19.167120332472283, -33.50267990105572], [19.167008919871616, -33.50208232521411], [19.167566255332776, -33.501618583687744], [19.167298701563247, -33.50140903747385], [19.16694196345229, -33.501092437294254], [19.166447048766027, -33.50088732475766], [19.166380183157383, -33.50036557460452], [19.16651391438465, -33.49980374717136], [19.166669964442498, -33.499496054239465], [19.166580780013245, -33.498568627045245], [19.166268680014003, -33.49817622332163], [19.16624636124332, -33.497765940115876], [19.166019000171136, -33.49737355663646], [19.166041228203827, -33.497074835595974], [19.166134858133248, -33.49682955286985], [19.166134858133248, -33.496138386893705], [19.166268680014003, -33.49565233175963], [19.166447048766027, -33.49541151719715], [19.166625417589053, -33.49505480669203], [19.16671460202718, -33.494644618363246], [19.16694196345229, -33.49462676868664], [19.16707578557407, -33.494791716512985], [19.167254154647306, -33.49513062374454], [19.167454751894336, -33.495019185343075], [19.16727647346819, -33.493409437340304], [19.167098104386064, -33.492307966586914], [19.166870652154905, -33.49150539909198], [19.166469367546714, -33.4900651026128], [19.166134858133248, -33.48950320778226], [19.16561762559907, -33.48901720625781], [19.164944344150992, -33.48819675368542], [19.164453786536193, -33.48765271429849], [19.164092605103402, -33.487746367707764], [19.163758188191327, -33.48772847791772], [19.163463872483003, -33.48772854059737], [19.16321863978261, -33.48789798681051], [19.163040272316533, -33.4879336724316], [19.162478406190548, -33.48738966064962], [19.16191663149604, -33.48740746208856], [19.161559897673225, -33.48774636861394], [19.161247710448848, -33.48761707663454], [19.16095339639216, -33.487670557623126], [19.160507480118692, -33.487483288614975], [19.160440615397423, -33.487202317645895], [19.160574435575526, -33.48703735353886], [19.16108721672376, -33.48696153732227], [19.161492942068815, -33.48671629816429], [19.162300039019566, -33.48673862928582], [19.162995725824157, -33.48669842524997], [19.161965623447127, -33.486212400356344], [19.16066361880799, -33.48552122079722], [19.16003489100737, -33.485222481647604], [19.159901070990802, -33.48576654176175], [19.16016862033854, -33.48615891881044], [19.160101755667952, -33.4866226250295], [19.160012572547593, -33.48701506784136], [19.15958897565024, -33.486832208366415], [19.15913861520001, -33.48630606240483], [19.158554435590514, -33.485895809765346], [19.15833143323258, -33.4853518262713], [19.157546661784398, -33.48537413160347], [19.156761891715618, -33.48516452531652], [19.156021668819353, -33.48503521886842], [19.155308210874303, -33.48475426733359], [19.1549247186279, -33.48445555728633], [19.154590308577603, -33.4842860706613], [19.153916953019113, -33.48423258087526], [19.153524571004887, -33.484058688693956], [19.153399734626074, -33.48363506801806], [19.153533461969246, -33.483354121381105], [19.153939271174117, -33.48285021795916], [19.153065234995633, -33.48251133778377], [19.15254801759103, -33.48235977324155], [19.15219129125522, -33.481784502867804], [19.151946064745996, -33.48142777390762], [19.15093386041697, -33.480941755988006], [19.15059936263819, -33.4806608651993], [19.149814604800067, -33.48045570176227], [19.149408799353235, -33.4802327961675], [19.148985212528828, -33.479858194004095], [19.14878453285477, -33.479724442039455], [19.148445681983095, -33.479202671991544], [19.148245002552425, -33.47869883575252], [19.148200366814333, -33.478248446920624], [19.14705889098563, -33.477334373071564], [19.146719950706174, -33.47688397565158], [19.14631868421587, -33.47666105719292], [19.145556160943233, -33.47609915097506], [19.145038861545448, -33.47589409863755], [19.144097980582995, -33.47551948623111], [19.143629854263096, -33.47525642670022], [19.143852758536415, -33.47467674622018], [19.143558455970478, -33.47460090261762], [19.143224054463126, -33.474600954477665], [19.14268453091283, -33.47482832623814], [19.141899696329233, -33.47477037975285], [19.14165447549734, -33.47452959216007], [19.14176588176302, -33.47432448322257], [19.141971003633213, -33.47406134549542], [19.142327721768666, -33.474155057782916], [19.142573033694575, -33.47406137453768], [19.142506080943946, -33.473798293336834], [19.142327721768666, -33.473651149483004], [19.14210481826129, -33.47348172350906], [19.141993321188718, -33.47325877092642], [19.14197100363321, -33.47310712642891], [19.14268453091283, -33.47320075601487], [19.14302337739085, -33.47349954425598], [19.143246372081652, -33.47409702657777], [19.143830440887406, -33.4742487001034], [19.144704458923176, -33.47424866843967], [19.145912881959173, -33.47434226875411], [19.14651927205439, -33.47432445186762], [19.14651927205439, -33.47411490596384], [19.146274048671174, -33.473856264832484], [19.146474727212237, -33.47378040693775], [19.146430091651865, -33.47346387058083], [19.146296366442968, -33.47314279046184], [19.146385546818657, -33.47271471767639], [19.146764586295653, -33.472023548000564], [19.146742268500358, -33.471555396839335], [19.146969710474846, -33.471368058530736], [19.146991937558766, -33.47058327681025], [19.147103435886322, -33.470244343766325], [19.147549338753276, -33.470788356722466], [19.14768315506203, -33.471238781825335], [19.147910597517846, -33.47159100458396], [19.1479328246488, -33.47188979889438], [19.147888279665015, -33.47226438753235], [19.147865961813313, -33.47265674956459], [19.14788827966501, -33.4729956241656], [19.148178139670005, -33.47308929303109], [19.14869535199792, -33.47288415209278], [19.14885139582834, -33.47263889067423], [19.149052075532566, -33.47249180700977], [19.149814604800067, -33.47258538102637], [19.150354137005593, -33.47277270556509], [19.150465636175852, -33.47282619497389], [19.15097840570563, -33.4729020262988], [19.151406530611457, -33.47308927600065], [19.151562575392333, -33.473276604754275], [19.152012928194427, -33.47359318745222], [19.152797689906446, -33.47378041888779], [19.15351114383455, -33.474230815279526], [19.15380545298503, -33.475202909263764], [19.15424247158574, -33.47575139074886], [19.154724036277877, -33.47605908827868], [19.15505853715288, -33.47602333178581], [19.155508893487156, -33.476032289276795], [19.155977032302054, -33.47618388264542], [19.156315979626534, -33.47638905401686], [19.156146505932114, -33.47662978988911], [19.156159933181783, -33.477044485314984], [19.156204478992716, -33.47755728287841], [19.156101960126964, -33.477891709855456], [19.15607964186374, -33.478239580649046], [19.155977032302058, -33.47846254588024], [19.155820985975843, -33.4784803238829], [19.155531120997296, -33.47837779984449], [19.155473148024182, -33.47824850414809], [19.1552725561519, -33.478087911052455], [19.15505853715288, -33.47811026028094], [19.154799881857056, -33.47851154559598], [19.15455465391259, -33.478605157515815], [19.15433165355335, -33.478587364342886], [19.15398381676327, -33.478400079162064], [19.153680616527556, -33.47823957885484], [19.153555780105048, -33.47810128916254], [19.15356911655259, -33.47789176662243], [19.15351114383455, -33.477717844595006], [19.153332780245453, -33.47770444139277], [19.1532793437619, -33.477838206306636], [19.15307421667487, -33.477940802896505], [19.153043007608424, -33.47821278928247], [19.1529627168516, -33.47844470193822], [19.153141080292603, -33.47855616082697], [19.153671725560258, -33.478658661738045], [19.15408642586639, -33.478725598170065], [19.154724036277877, -33.47907338281585], [19.15540628405673, -33.47928740421973], [19.155945823032447, -33.47953715457216], [19.156414053030492, -33.479911746585884], [19.15656120853921, -33.48015694456635], [19.15682875588621, -33.48036206895867], [19.157042775734304, -33.48056718579271], [19.157332641694726, -33.480763388413465], [19.15760463502686, -33.48078124449082], [19.157983684049594, -33.480830312629244], [19.15841172495562, -33.48015694847949], [19.15802823004252, -33.47985823291905], [19.157702708713945, -33.47962187263411], [19.157560089076192, -33.47948363607894], [19.157345978255172, -33.479390004761605], [19.157796427622845, -33.47851151104605], [19.156503235432265, -33.47785605983933], [19.156552317514496, -33.47747254267253], [19.156967020498683, -33.477624186770264], [19.157479797506284, -33.47774459192324], [19.15770270871395, -33.47761527009787], [19.157783000323946, -33.47730316696229], [19.158117412766757, -33.4772407390713], [19.15839838836334, -33.47741457622555], [19.15933920880942, -33.4778560485722], [19.15949979263221, -33.47784717293208], [19.159798551276403, -33.47793188022958], [19.1598430974503, -33.47808793448078], [19.16000368145416, -33.478212759485295], [19.160248912391737, -33.47825736569842], [19.16032911373385, -33.47844468413101], [19.16093116861214, -33.47874344225147], [19.16104257970022, -33.478417888898285], [19.161189736733704, -33.47832430098616], [19.161412740517928, -33.47835105240453], [19.161818466158326, -33.47841790952127], [19.162447196466793, -33.47865871488393], [19.162424968612534, -33.47905109998397], [19.16265677343264, -33.478903965574425], [19.162714747337937, -33.47881031084583], [19.16319632116394, -33.478895083024945], [19.16329893238337, -33.47910013487894], [19.163530828382385, -33.479202681056535], [19.163892009361913, -33.479443525457256], [19.164083713928875, -33.479639679412564], [19.164270972988824, -33.47983588458129], [19.164819504581253, -33.48023273642171], [19.165100393662115, -33.48010788047249], [19.16558197005434, -33.479639740573624], [19.165742465391272, -33.479363228402946], [19.166268680014003, -33.47868995204419], [19.166870652154905, -33.477838256149475], [19.167164970101823, -33.47721843967918], [19.1671738613375, -33.47678142478992], [19.16707578557407, -33.47655844234737], [19.16683944212502, -33.47629541376596], [19.16680378648306, -33.47600555842347], [19.167075785574067, -33.47577369297398], [19.167240727064552, -33.47539017463904], [19.167445860653075, -33.474948771877685], [19.16757968292528, -33.474810463465865], [19.167793707916875, -33.47467669970567], [19.167972077275756, -33.47457415986201], [19.16803894312186, -33.47438687043468], [19.168105808977938, -33.47420855458647], [19.168328816206373, -33.47419956381633], [19.168409018995867, -33.47410597203344], [19.168498203788815, -33.473949937677254], [19.168542841555524, -33.47383840511952], [19.168734548112248, -33.473762628568586], [19.168823732969926, -33.47361993107242], [19.168921809115673, -33.47334795351661], [19.16900210273847, -33.47291094865165], [19.169126943473202, -33.472460560381464], [19.169314204640425, -33.472059218260405], [19.169452473110578, -33.47162223967114], [19.169550549393772, -33.4712164692485], [19.169439136189347, -33.47116298909683], [19.169349951209327, -33.471104965763764], [19.16943913618935, -33.470957819242045], [19.16958620525413, -33.470627859820794], [19.16980921321853, -33.46947741599109], [19.169523784818523, -33.46913848826925], [19.16926965752427, -33.46823781214392], [19.1691269434732, -33.467916726408944], [19.169010994010584, -33.4677696127972], [19.16887281640374, -33.46766705598089], [19.168805859706083, -33.46763132701601], [19.16875686700681, -33.46741282404766], [19.168605261854633, -33.467287960054854], [19.16835104435361, -33.46710960225361], [19.168092472096756, -33.46689562962923], [19.167753515848347, -33.46650768973596], [19.167597465413277, -33.4661241743091], [19.167561809711025, -33.46578085215078], [19.167521708390254, -33.4655132483101], [19.167566255332776, -33.46538838358485], [19.16813701909599, -33.465201110941116], [19.1676733131761, -33.46436724490685], [19.167164970101823, -33.463479902693585], [19.166879543384745, -33.46296711857106], [19.16670117446059, -33.462605926240826], [19.166250806852034, -33.4621199173687], [19.16595204389972, -33.46182111425617], [19.165760338532973, -33.46150898031447], [19.165595306860823, -33.46150012316677], [19.165417029174446, -33.46131280992935], [19.165296635072178, -33.460875805375665], [19.165029082657846, -33.46059934094516], [19.164966662856816, -33.4603272992281], [19.164547506860128, -33.46011327412101], [19.16450286949139, -33.45992599974389], [19.16412835125582, -33.459654029641186], [19.16402573984625, -33.459390961064315], [19.163905346118057, -33.45907877543349], [19.163923219186433, -33.45846789342621], [19.164248745043995, -33.45738433083266], [19.164774867185397, -33.4573575388261], [19.165029082657846, -33.457223768476744], [19.164966662856816, -33.45663518277868], [19.16448953271745, -33.455489198885], [19.164311164744948, -33.455440140985324], [19.164221980785342, -33.45573890289624], [19.16405694968009, -33.45582366626611], [19.163740405855737, -33.45581472859976], [19.163784952422244, -33.455573909491804], [19.163784952422244, -33.45523950057605], [19.16398119325579, -33.45462857568154], [19.163276613760694, -33.45364317352201], [19.161916631496037, -33.45162319154993], [19.16329448680397, -33.451351177704545], [19.16323206724478, -33.45086515876397], [19.162398204462953, -33.45085176473705], [19.16232235759353, -33.451150549215114], [19.161979050871697, -33.451248568218745], [19.161649081102254, -33.451012252047384], [19.161229928213043, -33.450740281275294], [19.160810775716744, -33.45078931301564], [19.16045404277619, -33.45066448890947], [19.160168620338542, -33.450539632153145], [19.159678158686074, -33.450499502897735], [19.159468583116368, -33.45031665323014], [19.15930355376507, -33.44983952124789], [19.15904943227186, -33.449790445286354], [19.15861685449665, -33.4498528950244], [19.15819770445132, -33.449991103456775], [19.15798812957619, -33.44956752991047], [19.15913861520001, -33.44924197128755], [19.159018132062243, -33.448929915593865], [19.160186493257605, -33.44876932726873], [19.160186493257605, -33.44822085331381], [19.16027567641267, -33.447748220680275], [19.16061898182675, -33.44785971655667], [19.161038134143244, -33.44789534864982], [19.16129234749286, -33.44790874846053], [19.16154647026124, -33.447645618721545], [19.16178281091624, -33.44729787008067], [19.161666863354725, -33.44695000591575], [19.161412740517928, -33.44658436127368], [19.161292347492864, -33.44656209355689], [19.16099358785025, -33.44662449452407], [19.160034891007374, -33.44656208374222], [19.159736132205172, -33.44693668921412], [19.159107314984126, -33.447097201928834], [19.158572308445013, -33.44612507596005], [19.158050548403168, -33.44588873265258], [19.157747345403823, -33.44573713128169], [19.15701601190708, -33.44461795496394], [19.156150951440406, -33.44212082807843], [19.1567039185826, -33.44203611710622], [19.157288005046304, -33.44333369252573], [19.157930156283932, -33.44315533220047], [19.158706037338426, -33.4420494892045], [19.158286887209407, -33.44114872681933], [19.157778554799396, -33.441585733696094], [19.15704722125153, -33.441572356176465], [19.15709185787587, -33.44130035434621], [19.156315979626534, -33.43915556591686], [19.158228913878375, -33.43835737041576], [19.158010447934828, -33.43715336418428], [19.160186493257605, -33.43571308448969], [19.165167259079745, -33.4328280574988], [19.16916713566481, -33.430326522427606], [19.173817931825287, -33.42700897663919], [19.17708642849791, -33.424788325054905], [19.17667179762564, -33.421533162762415], [19.167994305405305, -33.41183019328983], [19.165639944338437, -33.40707677302392], [19.16366900434189, -33.40373241147478], [19.16007943720483, -33.39969244540933], [19.158527671672672, -33.3981451508137], [19.15810852171105, -33.39699474115668], [19.156735127905232, -33.39494350915425], [19.156494344408703, -33.38826376372833], [19.155776440203198, -33.38546791843304], [19.155116419347653, -33.38449140312], [19.151959401145362, -33.384888245832734], [19.152490045005834, -33.383818113003805], [19.152548017591027, -33.38262305439878], [19.151473393978893, -33.38326962806093], [19.15093386041697, -33.38317152687706], [19.150635107710237, -33.380277560199346], [19.15057713537403, -33.37882832145023], [19.151830119739802, -33.37693320492068], [19.150336264480487, -33.37812830867213], [19.149680787850148, -33.37633128255126], [19.147825862261435, -33.37728100105554], [19.146572798449036, -33.37773142563374], [19.145975299094143, -33.3769332371319], [19.145016634559216, -33.37737913455659], [19.1457345214154, -33.378578617050636], [19.14621163149424, -33.38192300033208], [19.14412029824545, -33.38406777590718], [19.145854910238466, -33.38626615775272], [19.14734875044996, -33.38531632137191], [19.148004223644342, -33.385766702972546], [19.14896289462209, -33.38651581016544], [19.150215874444328, -33.38836192053715], [19.14980117774158, -33.389160111018136], [19.149382035984427, -33.389860200293185], [19.14961837019506, -33.39150553969304], [19.15093386041697, -33.39240626728306], [19.151353003635258, -33.39300379699919], [19.15261043565677, -33.39305288596528], [19.153386307459506, -33.39380202374612], [19.153386307459506, -33.395099592842], [19.153328334765252, -33.396299113778596], [19.152967162328157, -33.39784191870236], [19.153983816763265, -33.39834138285772], [19.154041789542767, -33.39899237868756], [19.15380545298503, -33.39954088120423], [19.15386342574134, -33.40053974497844], [19.154041789542767, -33.40178823448457], [19.152967162328157, -33.40238575229647], [19.151772147248025, -33.40168572208974], [19.15117464091016, -33.40143601433263], [19.150697525507894, -33.402336695739166], [19.150215874444328, -33.40328209280962], [19.147825862261435, -33.40099008130287], [19.14746913971025, -33.39983962608716], [19.146809131166854, -33.397944527622066], [19.146452409431497, -33.397445075148376], [19.145194994814776, -33.39794447574407], [19.1444859996141, -33.39831459545444], [19.14494079064723, -33.39982626151271], [19.144864946748186, -33.40033011987321], [19.144410155792716, -33.40096331922574], [19.14365661728553, -33.40121306766178], [19.14259979665328, -33.401275450346425], [19.141391382635685, -33.40077161213424], [19.14025427893842, -33.39982624668555], [19.14010712882467, -33.39888092499976], [19.137538723087143, -33.396040470773045], [19.13748519778247, -33.39484992457493], [19.135572262074586, -33.393801996940084], [19.134854300953837, -33.39130493798269], [19.133900105756148, -33.38981107504375], [19.1331241772945, -33.388709716149904], [19.1328254365815, -33.387563749282805], [19.133324849881962, -33.3852093358162], [19.13326687980778, -33.384500323545474], [19.133039444864046, -33.38427737795669], [19.13271838711914, -33.38418374815699], [19.132606892410074, -33.38394742956412], [19.13266486239769, -33.383755636357876], [19.132437518483556, -33.38348808438348], [19.132174431099223, -33.38328301340199], [19.132210083966616, -33.38298425408773], [19.132361676724972, -33.38262300332304], [19.13264263603221, -33.38235552799277], [19.13311528673894, -33.38219497072547], [19.133249007971106, -33.38186500045802], [19.13338281996374, -33.381597487966495], [19.133681561053425, -33.38159742494568], [19.134118559846726, -33.381485981233986], [19.134118559846726, -33.381062350521745], [19.13436377650637, -33.380790347392534], [19.13434599534556, -33.38049161107071], [19.13443961860843, -33.38028646412971], [19.1348186478732, -33.379894060931846], [19.134947924324287, -33.379483856709015], [19.135023766526505, -33.379198463200765], [19.134965796229622, -33.37844037189411], [19.135117389932834, -33.377936519016906], [19.135362607146202, -33.37761991918565], [19.135402796291803, -33.37721418201101], [19.135590043284683, -33.376991220643866], [19.13581747954006, -33.37704027227446], [19.135893321891338, -33.37722755962524], [19.135875449948536, -33.377481710552786], [19.136214291220426, -33.37760654930594], [19.136553223472394, -33.37758870181726], [19.13678066022273, -33.37745049047507], [19.136874284000744, -33.377668980512546], [19.137043750346955, -33.37778043081795], [19.13746288045396, -33.377967714072284], [19.138501816793177, -33.37823082579983], [19.13440841085194, -33.374908826539816], [19.13455555907188, -33.37558209710436], [19.13402049136497, -33.37540824252728], [19.133480888304057, -33.37513619851977], [19.13273181366046, -33.3754349386653], [19.1322858349794, -33.375831836624144], [19.13264263603221, -33.3766567347935], [19.133360502842162, -33.3771071617243], [19.133601273798742, -33.37735685114975], [19.133240117413038, -33.377557498759636], [19.133449680615232, -33.377878592868896], [19.13383759960142, -33.378302141358496], [19.1337216593262, -33.37860538546768], [19.133538858406293, -33.3790513234649], [19.133333740441735, -33.37917616331495], [19.132852198951134, -33.37887740622858], [19.132834327131228, -33.37872579791581], [19.132624764220783, -33.37860095016553], [19.132455299567596, -33.37885066139127], [19.132134242247062, -33.37885064778669], [19.132018302418654, -33.37805694478686], [19.131536762361467, -33.37710711898831], [19.131269230254325, -33.376157379099986], [19.13100160758972, -33.37528338988114], [19.130939192564473, -33.374734908848005], [19.130729630552974, -33.374284550450696], [19.130702868311918, -33.37376277484691], [19.1315100000715, -33.3733882772571], [19.13171956245324, -33.37286205605617], [19.12690373518078, -33.36889343681613], [19.126667413089496, -33.369468699204475], [19.12690373518078, -33.369919039971734], [19.127474537468405, -33.37061910129396], [19.128009597244844, -33.371238955104914], [19.1282503652841, -33.37186323786746], [19.127804481848603, -33.37201481036674], [19.127742067275488, -33.37248750559846], [19.128009597244844, -33.37283979250197], [19.1282503652841, -33.37308951506491], [19.128129981248044, -33.373339161958015], [19.128607072356967, -33.37381186134038], [19.128758754597424, -33.37390993145174], [19.12926705377734, -33.374034840719204], [19.12959699949803, -33.37371380462139], [19.129985005820558, -33.37428451434926], [19.130016213264643, -33.374886521986106], [19.12950782250272, -33.37531009121568], [19.129026285183297, -33.37585862088992], [19.128549102902053, -33.376259902887874], [19.12830833469976, -33.37683064494767], [19.127742067275488, -33.37643382618844], [19.127175709859486, -33.375332443023964], [19.126814558729908, -33.37503365561224], [19.126127819015796, -33.374560970079806], [19.125860290188214, -33.37476168509433], [19.12556155439193, -33.37468588402434], [19.125084375860162, -33.37440936149649], [19.124785640589923, -33.37418642432341], [19.12502196167217, -33.37351309591548], [19.124634050434604, -33.37318756006196], [19.124094458850895, -33.37259009762274], [19.123706548430167, -33.372041580715056], [19.123318638351176, -33.371716113339545], [19.12298860661198, -33.37156450139916], [19.123082318182917, -33.370641437438486], [19.123586165635224, -33.36976745514533], [19.123586165635224, -33.36931704826733], [19.123559403827706, -33.36894698684162], [19.12415696362558, -33.36844755985743], [19.124620714857908, -33.36697159027781], [19.12197646848654, -33.36493823676343], [19.120344370046222, -33.365776596998224], [19.121512720039735, -33.36763599810837], [19.12113814736514, -33.36748437156641], [19.120808117261298, -33.367573612267144], [19.120522720345317, -33.36740860605187], [19.120241859479776, -33.36723471502538], [19.119791448291835, -33.366886844885826], [19.119416877083346, -33.36656135210446], [19.119149352334723, -33.366235875101026], [19.119091384124793, -33.36590142934372], [19.11888182774893, -33.36546441421999], [19.118565225448506, -33.36488921098539], [19.118150558425288, -33.364465555577794], [19.11775811740696, -33.363939430686294], [19.117160566303227, -33.36332847935279], [19.11674590060601, -33.36284248216461], [19.11630891904258, -33.362365308087675], [19.115876383017845, -33.361981897450086], [19.115684608582853, -33.36210673815966], [19.11545718271769, -33.36198185284944], [19.114788331823608, -33.361170340693086], [19.114293384632727, -33.36038101020537], [19.114204210738894, -33.3598191771996], [19.114578777501244, -33.35959623688868], [19.114338016944483, -33.35820053479878], [19.114097165803816, -33.35743808588399], [19.11375380574344, -33.35686285416531], [19.113981230725635, -33.356590780075116], [19.11442719086551, -33.356028999553246], [19.114980105866934, -33.355502792948975], [19.115475053832473, -33.35516389400746], [19.11543042140506, -33.35499002817985], [19.115220866776045, -33.35471800027556], [19.115368008587335, -33.35431664290754], [19.115546356866172, -33.35387964662307], [19.116117144418624, -33.353393622597196], [19.11674590060601, -33.35283175007536], [19.117579768229717, -33.35226995512831], [19.118195100412308, -33.352145124699064], [19.118748020158602, -33.35213172010955], [19.119153797471633, -33.35207371803519], [19.119465955055922, -33.35197117401286], [19.119853861738072, -33.352020228325344], [19.120223988171084, -33.35223428567933], [19.120553927119232, -33.35198454263124], [19.121031100740282, -33.35183296686681], [19.12118268965486, -33.35165902488413], [19.12124065814049, -33.35125775714696], [19.121031100740282, -33.35090988207323], [19.120808117261298, -33.35072260816202], [19.120629766846456, -33.35047290420293], [19.12067439980208, -33.34989772581619], [19.120839324055456, -33.34968364972328], [19.1212138964756, -33.34954989292123], [19.121258529490497, -33.34928678186553], [19.121004339088135, -33.3491485829853], [19.12139224712729, -33.34878736763472], [19.12164643775379, -33.34873832304191], [19.121780246226102, -33.34866251983945], [19.121811453089222, -33.34844845855332], [19.122047772575115, -33.348127452731845], [19.121780246226102, -33.34802485146393], [19.121766820018223, -33.3478242436217], [19.121900628527143, -33.34728910746683], [19.122123612559864, -33.3468521520862], [19.122391139117635, -33.34674062937775], [19.122734505928047, -33.34665149568435], [19.123019813560788, -33.346575645248116], [19.123140286918787, -33.34621445601504], [19.123274005127346, -33.34565261319407], [19.12306444675885, -33.345478694591264], [19.122377712891126, -33.34557681845228], [19.12268987276343, -33.34482767558553], [19.123439021072983, -33.34440406744882], [19.123514770579458, -33.34413211543453], [19.123496989855816, -33.34371740379386], [19.123336419067627, -33.343432037141554], [19.123109079961445, -33.343119865268136], [19.122886095429447, -33.34299499359893], [19.12223056873283, -33.34302176801598], [19.12225733045956, -33.34207199954111], [19.12146808699905, -33.34223252386241], [19.1212585294905, -33.342121010075246], [19.121329833462724, -33.341648402662464], [19.121093514362453, -33.341184607551405], [19.12148142248025, -33.34107313531776], [19.122181581169475, -33.340747617622654], [19.12224399495485, -33.34058711636558], [19.122021010861125, -33.34042208055321], [19.121677644607423, -33.34032403250094], [19.121361040293902, -33.340283895254316], [19.12113814736514, -33.33981119382642], [19.121093514362453, -33.33938762309095], [19.121196115844903, -33.339013011213744], [19.121454751518257, -33.338968459422524], [19.121945170894058, -33.33908886607683], [19.12215481944735, -33.33907544643521], [19.122408919796616, -33.33920032243741], [19.122828126727057, -33.33948567802076], [19.122248440123045, -33.33405449770387], [19.121539391005243, -33.33236901760256], [19.12124065814049, -33.33023307517312], [19.120883957032348, -33.32981393974466], [19.119751351286, -33.32933677814127], [19.119283160047235, -33.32852526363882], [19.1184180825659, -33.328422702348156], [19.118239733120724, -33.32770029430641], [19.117940911781268, -33.32697791713189], [19.117775988615385, -33.32620206269387], [19.117807195194278, -33.32520316620037], [19.118150558425288, -33.32436489128492], [19.117998879839426, -33.32370492538293], [19.116308919042577, -33.32349094227623], [19.116192983380053, -33.32323227978338], [19.115965557251496, -33.322969169055334], [19.115711369910994, -33.32269274742463], [19.11538587969848, -33.3221308442353], [19.115189660380977, -33.321845525179086], [19.114815093097096, -33.32144416400125], [19.114565442229573, -33.321207835945074], [19.114413764882343, -33.32128367682811], [19.114618874034843, -33.32175628798114], [19.114855280368474, -33.322228947642806], [19.115118357405233, -33.32248763001309], [19.11552413136461, -33.323062820950156], [19.11564006685048, -33.323379463857236], [19.112933371327163, -33.32320552759082], [19.112835307563884, -33.32309848800027], [19.11267918574365, -33.322755157582], [19.112335826793654, -33.3224430104093], [19.111930055784182, -33.322157612501044], [19.11176059910002, -33.322148689592524], [19.111707076927527, -33.32233155510929], [19.111921165656728, -33.32269717506449], [19.11213960884076, -33.32298259473941], [19.11232693665797, -33.32320549828682], [19.11240277496412, -33.323419578545554], [19.108830950140433, -33.32411519228049], [19.108278042897986, -33.324405021588326], [19.108023860016157, -33.324329238258535], [19.108010524943992, -33.32419098712611], [19.107832179732195, -33.323990316728874], [19.10771180129106, -33.32344186609947], [19.10700722068015, -33.32280420496666], [19.1068600816769, -33.32242074668918], [19.106561268095145, -33.32176968312359], [19.10606633020129, -33.320708457882645], [19.10297171107083, -33.320958152319854], [19.10299847162186, -33.32109188532699], [19.1030787532848, -33.321256864166145], [19.10337747377155, -33.32138175379629], [19.103243761630445, -33.32163147696745], [19.103136719376025, -33.321867804515726], [19.1030787532848, -33.32229584364547], [19.102869204568478, -33.32236718016966], [19.10270419636437, -33.32224239582372], [19.10197286333746, -33.32176968085071], [19.10162951279177, -33.32214428001729], [19.10101420388993, -33.322955777893256], [19.101357553951512, -33.323129743016935], [19.10152256164658, -33.3233660382124], [19.101732109716494, -33.32361578841279], [19.101807946185634, -33.32407954242449], [19.101959528449928, -33.32424002751624], [19.102285008678244, -33.32448973488457], [19.102418811239364, -33.32469040639229], [19.10267299086164, -33.324828639277364], [19.103034122121205, -33.32500256909338], [19.10322589101496, -33.32520317644982], [19.103034122121205, -33.32550195792305], [19.102601599211177, -33.32572940585316], [19.102570393715787, -33.325925544396775], [19.102855778939873, -33.32612627690698], [19.103047547755306, -33.326175293275156], [19.103212556089158, -33.32648745125354], [19.103497941732922, -33.32641609721757], [19.103707490750924, -33.326202078413566], [19.103885834280064, -33.326014793967786], [19.10431835846189, -33.326063796225114], [19.1044387359687, -33.326291253846655], [19.104630505479104, -33.32663906956912], [19.104559204222735, -33.327151846176115], [19.104661711121683, -33.327526387256086], [19.104470032311628, -33.32773599693798], [19.1040954741981, -33.32766458656888], [19.103988431734955, -33.327325734554414], [19.10368962011646, -33.32717415462101], [19.1033150626721, -33.326964513659696], [19.10297171107083, -33.326875352032914], [19.102570393715787, -33.326902126516984], [19.10227167378118, -33.32697790771887], [19.102062034738687, -33.326799525355106], [19.101821281068535, -33.326487448505645], [19.101584972489782, -33.32617532264621], [19.10104540927406, -33.32598802383512], [19.10137533377712, -33.32671488176386], [19.101540341478913, -33.326964526863925], [19.101553767067063, -33.32742383628917], [19.10152256164658, -33.32757543622837], [19.101495801186026, -33.3278742048831], [19.1013129229639, -33.32793659827193], [19.101165785878525, -33.32779842360514], [19.101121245623876, -33.327575401909414], [19.10110337509528, -33.327325706747274], [19.10095623808056, -33.32720089131633], [19.100777895748237, -33.32691550936536], [19.10052371722968, -33.32676391471199], [19.100345284360984, -33.32672819680337], [19.100104531638074, -33.32646510379638], [19.09985035351189, -33.326175276655576], [19.099417833757627, -33.325827443816486], [19.099208286799406, -33.3256402110194], [19.09886493842973, -33.325479688590846], [19.098686506239765, -33.32527901253272], [19.098414549234608, -33.325314651726664], [19.098013236071978, -33.325528711531184], [19.09769664886944, -33.32555098854395], [19.097594052894138, -33.32579179730067], [19.09769664886944, -33.32592559818335], [19.09784822970477, -33.32616633758493], [19.098294173389572, -33.326478475915735], [19.098039996318835, -33.326527536736386], [19.097714428545782, -33.32648740573606], [19.097415711937067, -33.32643838718253], [19.09704115987986, -33.32626442722776], [19.09705449461699, -33.3265632644219], [19.09681818862163, -33.32677723893945], [19.096546142070174, -33.32668810213866], [19.09626520587979, -33.326549819047706], [19.096113625595308, -33.32637596559616], [19.096037790116707, -33.32615295883473], [19.095890654811935, -33.32575166745474], [19.095756944966503, -33.32526559739373], [19.095560734460324, -33.32498022900429], [19.094963213690114, -33.324418409281186], [19.093964384308734, -33.32369155184804], [19.09358974450902, -33.32356674014549], [19.093291030730413, -33.32361577235734], [19.09279610789736, -33.3232947135578], [19.092421469103922, -33.3230539279054], [19.092211925512764, -33.32294246769285], [19.092140535576412, -33.322657043587576], [19.091913121969135, -33.32236720940071], [19.09163227948148, -33.32217989130851], [19.091137267825353, -33.32205505406147], [19.091003468729767, -33.3218053572277], [19.090526418594777, -33.32136835191692], [19.0904639186254, -33.3211187072939], [19.09012057715429, -33.320757453740356], [19.090285580590955, -33.32057023314102], [19.090049278272527, -33.32039628435297], [19.08983964511414, -33.32044534092879], [19.089612232710987, -33.32050777942027], [19.089389355971893, -33.32045872110841], [19.089166388636333, -33.320258070791176], [19.088970181104163, -33.320035104360954], [19.088524246978004, -33.3200574390617], [19.088328039736023, -33.32018222554135], [19.088283500795153, -33.32045869439105], [19.08792673587975, -33.320307090711474], [19.087743863359442, -33.320021706468495], [19.087266816805336, -33.31974526756576], [19.086655882309433, -33.319709583887764], [19.08623671008169, -33.31936175119092], [19.086147541923626, -33.31883562896628], [19.086205505759796, -33.31833620546825], [19.08650430537617, -33.31801068645769], [19.0844441887075, -33.319183435488085], [19.083668257205552, -33.319633798288784], [19.08318667965513, -33.319807688970634], [19.082678343337694, -33.319959266227045], [19.081634913254913, -33.32011092818313], [19.080765374988676, -33.31980768748653], [19.079958336915404, -33.31945986860667], [19.07885241509498, -33.31888463815578], [19.07730510894826, -33.31727491152388], [19.075896047424134, -33.31891138589731], [19.075445682069976, -33.31875981878273], [19.074848189020834, -33.318585901470065], [19.07461189512524, -33.31828709198566], [19.074339862505024, -33.31783672484066], [19.07392514688302, -33.31751128853708], [19.073563949130953, -33.31703860346098], [19.072935255321738, -33.31668632024587], [19.072310916380015, -33.31686022055451], [19.071918516688203, -33.31653914675837], [19.071771389572618, -33.316088818125934], [19.071084736558912, -33.315665198645874], [19.07066557942453, -33.31486254811394], [19.0700055959811, -33.31471541057381], [19.06893099343605, -33.31414014880906], [19.067704732525524, -33.31351591768353], [19.067138362439934, -33.313538202060926], [19.06671920914565, -33.313239397136805], [19.066661247923705, -33.31294071082818], [19.066540880904007, -33.31261512884385], [19.066001361322858, -33.31249025905699], [19.065791739825443, -33.31211572013877], [19.065345829615055, -33.31156729573494], [19.064569932438037, -33.31041681226481], [19.06406161804855, -33.309569627892834], [19.063941251756322, -33.309070195562796], [19.064150781646223, -33.30877139062826], [19.06441836325581, -33.30896762967175], [19.06471714779902, -33.309368966789606], [19.065283423991893, -33.30954282375135], [19.065822942672764, -33.309417977917576], [19.065885348374195, -33.30899433651781], [19.066063767050178, -33.30861977818284], [19.066362552736276, -33.30844591059582], [19.066389311027336, -33.30784394087822], [19.066001361322858, -33.30712153797252], [19.065105005639563, -33.30637242479089], [19.063762833960883, -33.30597112814614], [19.063254520525703, -33.30562329337245], [19.062893331722808, -33.305346838575936], [19.061907910073863, -33.30532456119699], [19.061368305601828, -33.3052219302595], [19.06098036042874, -33.3051238781598], [19.061042765427086, -33.30532453824979], [19.061132019103276, -33.305645606545355], [19.060864439540193, -33.305748181713966], [19.060503252746965, -33.30562327948551], [19.060235673575743, -33.30542264391916], [19.060235673575743, -33.305074797751644], [19.06008410592258, -33.304624416801374], [19.059575796840946, -33.30442374361685], [19.059428583241814, -33.30400014185648], [19.058652696752343, -33.30369700019304], [19.05844316954491, -33.303474030298446], [19.057395262930484, -33.3031262100559], [19.056677339986162, -33.30262680812155], [19.056530218085864, -33.302301278394154], [19.05578109447047, -33.302100627414426], [19.055451114051337, -33.30235029640471], [19.056048580158865, -33.30255097813286], [19.05599062037702, -33.30284969207865], [19.055633882174025, -33.30314848716933], [19.05411332633048, -33.30373265843598], [19.051986335000002, -33.30264909717726], [19.05188384058877, -33.304142855440375], [19.051277400707594, -33.30414283764885], [19.050523751147058, -33.304267714409406], [19.04941346059897, -33.30309946695004], [19.046069182400803, -33.30049976158751], [19.04618065489543, -33.300067216991316], [19.044744757153754, -33.29943849658451], [19.039402835523184, -33.30288092400343], [19.03672282985408, -33.3046957698591], [19.036896792076075, -33.306256447711945], [19.036343886323817, -33.30618516089984], [19.03527816614268, -33.306256458540005], [19.034948110876925, -33.30684505470469], [19.03464490287159, -33.30767891553626], [19.032384137111432, -33.31190613891043], [19.032410893275497, -33.31206221926585], [19.032731967375668, -33.31218704814229], [19.032772147004724, -33.31245461772246], [19.032816680187207, -33.31270433531104], [19.03287917176886, -33.31307447688932], [19.032986105860978, -33.313627349258645], [19.032923704962563, -33.31426503234296], [19.033008417812347, -33.31493832846551], [19.03351678596498, -33.31500972986249], [19.034092000048158, -33.31506320060655], [19.03430160600433, -33.315295103597435], [19.034600369497454, -33.31533071342211], [19.035046247645308, -33.3153664577989], [19.035536750427983, -33.31549125272711], [19.035875604012244, -33.31568750111343], [19.03629926207201, -33.315736493652516], [19.036535625540346, -33.31593271600562], [19.036829855613103, -33.31612893062943], [19.036999373586518, -33.31636081827582], [19.037427386362555, -33.31661050796337], [19.03770383985301, -33.31667744373337], [19.038065098080597, -33.316820051017274], [19.038172124177287, -33.31694492361814], [19.03878743405533, -33.3173730117367], [19.03944292508224, -33.317671798615805], [19.039804094085376, -33.317957139330325], [19.039701511898887, -33.318135505721834], [19.039465237372404, -33.31826038451656], [19.039340342982772, -33.31843873707431], [19.039295809117046, -33.31888016395139], [19.039465237372408, -33.31929041931405], [19.03963466569518, -33.319611488559715], [19.03897917437305, -33.32033828489876], [19.038573381579404, -33.320391837493105], [19.038488667620776, -33.320570174888175], [19.03897917437305, -33.3210472928976], [19.037980293523095, -33.32204173405236], [19.03740507417923, -33.32241623167444], [19.037106399415123, -33.32257235601012], [19.03693688139905, -33.32253667135029], [19.036914569241446, -33.322130924535884], [19.036896792076075, -33.32189902791558], [19.036660428407007, -33.321809826928], [19.036513313403802, -33.32156013403491], [19.036491001268427, -33.32135056902095], [19.036383975594678, -33.321100794995296], [19.036214548566228, -33.32104735541672], [19.03608965513076, -33.32108297602578], [19.03610752296206, -33.32151104778846], [19.035938096043758, -33.321528888772164], [19.03579089059085, -33.321386211213635], [19.035599151710148, -33.32122567071093], [19.035429724994433, -33.321082963542395], [19.035108648855463, -33.32099380783262], [19.034939222335254, -33.32081545839167], [19.034769795882582, -33.32057019913646], [19.03438631912888, -33.32048102165029], [19.034007286982273, -33.320231331603914], [19.033730835895486, -33.320177756384844], [19.033623810916758, -33.32033834102339], [19.03373083589549, -33.320570220019434], [19.034109867795483, -33.320868916102825], [19.034515656330225, -33.32111865593795], [19.034493344299694, -33.32131483009255], [19.034301606004327, -33.32131483390375], [19.034239114213413, -33.321421916817506], [19.034301606004327, -33.321720657307885], [19.03447103227034, -33.32164927571967], [19.0348678419104, -33.32186330721697], [19.035006158500583, -33.32211307653195], [19.0348678419104, -33.32239840548154], [19.033432073013806, -33.321528928395296], [19.03221915592016, -33.32053452943786], [19.031764392264677, -33.32048096735026], [19.033396337576942, -33.325925548911044], [19.03375314788598, -33.327374779573454], [19.03420346940791, -33.32904692421852], [19.034341695082574, -33.32992537754575], [19.0369279928158, -33.33116945923381], [19.03841728660021, -33.33181602694757], [19.03837719713775, -33.33213708179404], [19.037356096219934, -33.332070179102125], [19.037356096219934, -33.33256966328086], [19.03679865488057, -33.33284167743779], [19.036557846978315, -33.332970976625305], [19.036834390603484, -33.33330538876161], [19.037846601666775, -33.33376470175722], [19.038836502879597, -33.33410800691546], [19.039839739360193, -33.333974297862056], [19.041859733841815, -33.33375577122653], [19.042020274427394, -33.33355512618045], [19.04234135577997, -33.33334108439994], [19.04276048522022, -33.333323252838674], [19.042961116035137, -33.33357290981872], [19.04320637191543, -33.33394747431251], [19.043910939149125, -33.33409466401364], [19.044356827047192, -33.33422840299948], [19.044544125499776, -33.3342953116929], [19.04451736857294, -33.33458512249996], [19.044874097501495, -33.33494184392943], [19.04564107024284, -33.335147012126065], [19.04606020292528, -33.335410111194264], [19.046720149528113, -33.33541009852232], [19.04732213854344, -33.335543821476804], [19.047803766647487, -33.33582925523665], [19.04849491753084, -33.33586940285194], [19.049422349442487, -33.335945168633664], [19.05069327456344, -33.336243942131915], [19.05132647096814, -33.33636435810982], [19.051683114879317, -33.336984170880484], [19.05124619891824, -33.3375861172627], [19.050822526009522, -33.33776002324362], [19.05040338865519, -33.338455649696904], [19.04988166707765, -33.339209271690514], [19.049984251711685, -33.33945892676345], [19.049823708130837, -33.3397443603931], [19.04986379866911, -33.340109992338604], [19.04996193887142, -33.34071196253467], [19.05056393245369, -33.340863542501886], [19.051143613981477, -33.34094384699287], [19.051602933465446, -33.34111325789058], [19.051906153529295, -33.34141200153277], [19.051964112758313, -33.34176431500504], [19.051544883582427, -33.34200061453302], [19.051143613981477, -33.34234846233089], [19.050822526009522, -33.34276763994579], [19.0508850202315, -33.34333837442079], [19.051165926883407, -33.343721807305], [19.05118370464349, -33.34394035672645], [19.05112574552021, -33.34417223471625], [19.050902797979916, -33.34457353579447], [19.05070216343357, -33.344725105483796], [19.0507422540542, -33.34532709291066], [19.050965201510806, -33.3462100229355], [19.051165926883407, -33.347146446325574], [19.051602933465446, -33.34801594639987], [19.051803568434284, -33.34861793513152], [19.052405564608417, -33.350156320002675], [19.052606199953598, -33.35099465146196], [19.052686472258646, -33.35372807019077], [19.052619533318477, -33.354548522403], [19.052418897967044, -33.355199591950765], [19.05275332050608, -33.35621622487775], [19.053060985844656, -33.35675581939663], [19.052891552193337, -33.3573756204138], [19.052485836875828, -33.35788396423322], [19.052619533318477, -33.35831202572456], [19.05309218776634, -33.35856616954271], [19.05380566023566, -33.35907452553124], [19.05360057986306, -33.35932871834233], [19.05275332050608, -33.35975231174229], [19.0521468793926, -33.360175965023856], [19.051910597976942, -33.361139086855715], [19.052053273841114, -33.36221822917961], [19.05133535985143, -33.36306097679207], [19.051366561647292, -33.36396614482361], [19.05133980429314, -33.3655090014198], [19.052570553612796, -33.36831827273844], [19.054719770229465, -33.37078413981572], [19.05651234939981, -33.37258113113238], [19.05896036632639, -33.37193457331162], [19.059633757107317, -33.372103993875825], [19.060003832232088, -33.372848735979424], [19.058822132681502, -33.37504705777774], [19.058313825094793, -33.37552859444032], [19.058518998427218, -33.376291076381754], [19.059196742334134, -33.37696889981942], [19.059669404035585, -33.37767794309278], [19.059566817082064, -33.37841364721047], [19.059803193423857, -33.37914492795499], [19.059803193423853, -33.379515021530636], [19.06011086382275, -33.37999663004704], [19.060347149759345, -33.380870618152294], [19.060619173538004, -33.382368862534264], [19.060213450906314, -33.38245363098437], [19.060044014427824, -33.382823732051584], [19.060280300327626, -33.383586232863216], [19.060855550459266, -33.384264000460895], [19.06146644843906, -33.38573550847371], [19.06207290273475, -33.386863678185996], [19.062581214772244, -33.38785358216935], [19.062920089798, -33.38841986181139], [19.062411777359593, -33.38940975266303], [19.062211137426313, -33.390341716302196], [19.062014851433975, -33.392129876775336], [19.061297011466113, -33.39257572868967], [19.060347149759345, -33.39356570441913], [19.05987448731151, -33.39424349212914], [19.059433118472093, -33.39447084582565], [19.0592993291992, -33.39503720785554], [19.05960255470942, -33.39540278953854], [19.058889072590596, -33.39551878418377], [19.05855020074631, -33.39529132668607], [19.058113187076813, -33.39520663953603], [19.057685062867634, -33.39550986467955], [19.05774311358282, -33.395790725856244], [19.057783204862584, -33.39615192244143], [19.057529051609528, -33.39644623945529], [19.05731054523937, -33.396562204015815], [19.05703852355848, -33.39659343411075], [19.056606046629895, -33.39667816120658], [19.056191348105642, -33.39669593315974], [19.05574091267412, -33.397017035255935], [19.055856832178115, -33.39807385947942], [19.055299457385402, -33.398938907440844], [19.055063174229947, -33.39885417050039], [19.05482680050119, -33.39893892290991], [19.054523578368595, -33.39964343988329], [19.053234954727717, -33.40023646599518], [19.052864794743837, -33.400802815417705], [19.05212012198965, -33.401128314849345], [19.05133091540976, -33.40171690112171], [19.050764566935186, -33.40238576044143], [19.050764566935186, -33.40275586241376], [19.050661982113947, -33.40351836012609], [19.049712234685593, -33.40402673797667], [19.04999314056708, -33.40421402579686], [19.051923931320147, -33.404347749097376], [19.052472412811976, -33.4045439918501], [19.052552685091932, -33.40500330228655], [19.052276221980957, -33.40556069308535], [19.051923931320147, -33.405792504659225], [19.05168765002761, -33.40565872802107], [19.05145127816264, -33.40552941575654], [19.049975362856483, -33.40502553446698], [19.049721123535324, -33.405034478120534], [19.049386703367038, -33.40496316861122], [19.04917718069353, -33.40486503101033], [19.048793690975337, -33.40486950827672], [19.0487669337822, -33.40496310499855], [19.04862870342809, -33.40512813357483], [19.04853056353191, -33.40526635814993], [19.047567396930067, -33.405101361009784], [19.046207411926545, -33.40468221745063], [19.043906494784704, -33.403959876493055], [19.043603280399275, -33.40395093859831], [19.043603280399275, -33.40406683405922], [19.043424871078496, -33.40409810472699], [19.043161837645613, -33.4040668824836], [19.043059254650778, -33.40394203698711], [19.042912137436893, -33.40381271572585], [19.042724839701048, -33.4036744360028], [19.042403758059613, -33.40363881865274], [19.042332376382927, -33.40347382421646], [19.041957872203895, -33.40329096871438], [19.041645679821784, -33.40318840596251], [19.041239975188155, -33.403166124783816], [19.041092767901517, -33.4030145564941], [19.040869825601217, -33.403032361105105], [19.04055328038748, -33.403023466715894], [19.040513100023308, -33.402854014268854], [19.04020544372618, -33.40262658439867], [19.039327010032668, -33.402724692629675], [19.038943529170265, -33.40277372478991], [19.038814190622393, -33.402742470358696], [19.038791878366357, -33.402657806893764], [19.038778545433427, -33.40251953978615], [19.038720587995147, -33.402390245638834], [19.038689296423765, -33.402238669503014], [19.038560048653316, -33.40202456471218], [19.038453022459077, -33.40185515807202], [19.038238970151333, -33.40175704736878], [19.038051674470367, -33.40178823407547], [19.03801158504235, -33.40184619473332], [19.03782428946147, -33.40186402695242], [19.03767708335576, -33.40192207589916], [19.03750765581224, -33.4019711188167], [19.037498767217066, -33.402082576279746], [19.03739174128975, -33.40216730853002], [19.037195557392895, -33.402207404881445], [19.03696808214172, -33.402198469527356], [19.036927992815798, -33.40227431775597], [19.03693688139905, -33.402381307353735], [19.036950304974102, -33.40248831956487], [19.037048351504744, -33.40258644592252], [19.037088531541862, -33.402697952612165], [19.036959193557813, -33.40282274011365], [19.03683883489411, -33.40299663448718], [19.036526646265745, -33.40283173405625], [19.036357219180452, -33.402800486096254], [19.036250193540376, -33.40266668823595], [19.036120855811276, -33.402635512336005], [19.036054010170076, -33.402537383221045], [19.03579986984992, -33.40250167910489], [19.035639331610344, -33.40263545237266], [19.035679420814773, -33.402880763021166], [19.03581764696945, -33.403126008677816], [19.035973740994724, -33.403224080943524], [19.036054010170076, -33.403536217812764], [19.036250193540372, -33.40381719532619], [19.03611196724508, -33.40388403996927], [19.035915783938556, -33.40383502584436], [19.035661643701037, -33.40378596916006], [19.035402968640255, -33.403866224842616], [19.035229097728887, -33.40398216231828], [19.03524687482454, -33.404294315516566], [19.03558137459976, -33.40445922299304], [19.03578644631118, -33.40475354428213], [19.035287054691445, -33.40473571224102], [19.035032914829785, -33.40458856172465], [19.034952645847238, -33.40442356713634], [19.03495264584724, -33.40424518477979], [19.034618146566817, -33.40414712655377], [19.03428373824894, -33.40425859498058], [19.03402959898729, -33.404356675810185], [19.03363269943091, -33.40444145106553], [19.03341864954986, -33.40460645641725], [19.033026285514087, -33.40465547697338], [19.03288806026744, -33.40480260677644], [19.032986105860978, -33.40519501708269], [19.033003973561776, -33.40559189462383], [19.033280424175516, -33.40596648311026], [19.033597054676285, -33.40619827512052], [19.033298291888702, -33.40641232073682], [19.03314219884615, -33.40662641301334], [19.03306193022081, -33.406902834665765], [19.033102109881096, -33.40716592803634], [19.033378560558702, -33.407397822630145], [19.033712968164114, -33.4075449378431], [19.03393146245369, -33.40777233554515], [19.034087555786257, -33.40805331394565], [19.034341695082574, -33.40821826332362], [19.034636014336254, -33.408267374948586], [19.03495264584724, -33.40821831954222], [19.035166605801596, -33.408383290354806], [19.035483237707837, -33.40856165254963], [19.03570173290757, -33.40864635893963], [19.035973740994724, -33.408904990760774], [19.036370642737207, -33.409038718992996], [19.036664872695823, -33.40926620962352], [19.03652664626574, -33.40936874493582], [19.03642859985537, -33.409448999470754], [19.036272505663113, -33.40961396280071], [19.03607187799987, -33.40956491932543], [19.035737377838725, -33.4093330982161], [19.0352067856609, -33.40911901791059], [19.034618146566817, -33.40889163539529], [19.034265870494323, -33.408989699732864], [19.034301606004327, -33.40938207755167], [19.03509087176559, -33.40971208364924], [19.03536732373714, -33.41004205010587], [19.03509087176559, -33.4102694549124], [19.034537877662608, -33.410104509360394], [19.03410542353338, -33.41014011441989], [19.03339633757694, -33.41026945098997], [19.032963884609764, -33.41046570241526], [19.030212539900955, -33.41246779868515], [19.022698970124786, -33.41120585380152], [19.02222634943925, -33.41117466239255], [19.021851772299332, -33.410974034719494], [19.021379061864156, -33.41091161183563], [19.020710266383908, -33.41059941437198], [19.020001202844192, -33.41040322434208], [19.019533029284016, -33.41034971684812], [19.01917632164851, -33.41034976779965], [19.018899880240355, -33.410452257951164], [19.018645659511925, -33.41023823250778], [19.018155176284257, -33.40997516480317], [19.01760220429019, -33.409680858668445], [19.01687536964315, -33.40949808974497], [19.016759460764746, -33.409573825108815], [19.016719373350984, -33.409707617434876], [19.01685759331857, -33.4098235495114], [19.017290120530614, -33.409903820812865], [19.01758442793499, -33.410086606463466], [19.017660249536828, -33.41019816095605], [19.01774051524259, -33.41036308678769], [19.017463984078752, -33.410363124441425], [19.017290120530614, -33.41024715323992], [19.017093945940214, -33.41024715418521], [19.016977946306227, -33.41025159960357], [19.01691554776727, -33.41031407673031], [19.01699581333143, -33.41035420051093], [19.017035900771447, -33.41044338924634], [19.017093945940214, -33.41050582758178], [19.01724994237083, -33.41057714823828], [19.017490739299873, -33.41063066521194], [19.017740515242593, -33.41062621054934], [19.017762735694912, -33.410773376084514], [19.017722648185867, -33.4109070844038], [19.017660249536828, -33.41108546071572], [19.01760220429019, -33.41123264734319], [19.017722648185867, -33.41144668224399], [19.01791882306843, -33.41148237192033], [19.018230997988585, -33.41153141904798], [19.018449484291672, -33.41144668528724], [19.01878388011019, -33.411415466795724], [19.019020233810178, -33.411348591377894], [19.01903810092181, -33.41148234878702], [19.01903810092181, -33.411611682943544], [19.01906041213842, -33.41179444158048], [19.019176321648505, -33.411843505023946], [19.019078188555735, -33.41200404882831], [19.01899792259571, -33.41233404099472], [19.020946530465096, -33.41338635767505], [19.024094705260183, -33.414550177373584], [19.025254087682416, -33.415308219301345], [19.025766890714614, -33.41530829055225], [19.026159248034748, -33.41532159933072], [19.026337650107966, -33.41517446265696], [19.02663196380933, -33.415357281589486], [19.026614096376946, -33.41546875031805], [19.02657391733124, -33.415620434866824], [19.026533828986956, -33.415767571464684], [19.026649740544837, -33.415994988233194], [19.026868231196758, -33.41620902806235], [19.027122456866742, -33.41620895069587], [19.027416771113288, -33.41625807157995], [19.027617394686025, -33.41609306967114], [19.02769321808635, -33.41601280218399], [19.027773485695963, -33.416191136912595], [19.027911709276303, -33.416342727021046], [19.028223800872478, -33.41628929405048], [19.02844229233592, -33.41620899272701], [19.028500248371902, -33.416128755164955], [19.028540427600234, -33.41599495774147], [19.028794563575143, -33.4159816204605], [19.029088878982684, -33.416061810285214], [19.02924941474562, -33.41624019260204], [19.029053234609666, -33.41634275670211], [19.028852519659274, -33.41668613913152], [19.028736607498935, -33.417047314294486], [19.0287544750208, -33.41735941990684], [19.02863856288727, -33.41758682093547], [19.02828629177767, -33.417586869390526], [19.028125756379406, -33.417671582163536], [19.027911709276303, -33.41773848530012], [19.0277511740199, -33.4177027777503], [19.02755499457727, -33.41778753579522], [19.02745685954111, -33.4179836817065], [19.027242812775825, -33.41806401856036], [19.026966366096595, -33.41803275583953], [19.026631963809326, -33.41763590140915], [19.026217203758478, -33.417359426849686], [19.025784667413813, -33.417078513413244], [19.025472577614366, -33.41701605143344], [19.025178264718683, -33.41698044332261], [19.024803684965512, -33.41698038856369], [19.02464315088704, -33.4170160544897], [19.024487061030708, -33.417114235384965], [19.024509372534826, -33.41735945573646], [19.024389017402548, -33.41757346558109], [19.024152660701308, -33.417671592604066], [19.023778081855745, -33.41753784281325], [19.023644303776962, -33.4172925677114], [19.02322963734998, -33.41714538629671], [19.022578615507463, -33.41648992287363], [19.022364571208595, -33.416472081826704], [19.022270881513553, -33.41885771284493], [19.02265888214746, -33.41911635242745], [19.022953193291116, -33.419606858048155], [19.02301114857589, -33.419852111576354], [19.022975504714363, -33.420266741443655], [19.02291301459287, -33.4207394462596], [19.02287292659527, -33.42119870773259], [19.02277479264431, -33.42155993726751], [19.02277479264431, -33.42198795023205], [19.022658882147454, -33.42228226684118], [19.02277479264431, -33.42241604375075], [19.023051236586596, -33.422482917981526], [19.02328759267262, -33.4225319962324], [19.02354172549571, -33.42259441046136], [19.023564036949992, -33.422844150869835], [19.023564036949992, -33.42300470485827], [19.023604215710066, -33.42320529219742], [19.023760305240803, -33.42336582971788], [19.023938615606095, -33.42343275994591], [19.02411257258625, -33.42361551942201], [19.02411257258625, -33.423860798510496], [19.024232927639925, -33.42403919593936], [19.024371150064805, -33.42418632602888], [19.02430875043434, -33.424351329146525], [19.0244113289015, -33.42485966063165], [19.0242731064635, -33.425024649143126], [19.023974259548762, -33.42485963029922], [19.0237424379296, -33.424779343556864], [19.023644303776962, -33.42487748222675], [19.02370225915641, -33.425060329833215], [19.02385834872331, -33.42525654988924], [19.02403674982699, -33.42542145755404], [19.02411257258625, -33.42564894366125], [19.02403674982699, -33.425992280604305], [19.02454510722274, -33.42625537377175], [19.024232927639925, -33.42638909137993], [19.02380039332248, -33.426322245679756], [19.02348377013825, -33.42635347971831], [19.022935326013997, -33.42635346488081], [19.02246270506437, -33.42642030218995], [19.02207026047452, -33.42612605037316], [19.02163772836835, -33.42589419332952], [19.021044663991766, -33.42559983576171], [19.020968841782473, -33.425238661190505], [19.020612132934875, -33.42497557436769], [19.020496223030904, -33.424547478683074], [19.019943247972012, -33.42405702177867], [19.01966680606201, -33.42369581763115], [19.019198632872403, -33.42362890593442], [19.019038100921815, -33.4238251210462], [19.018962279072582, -33.424123877480575], [19.019078188555735, -33.42448505452099], [19.019354630080574, -33.4247124901357], [19.019470630367486, -33.42494433314483], [19.019590984099928, -33.42517177647119], [19.019787250546493, -33.4253724353123], [19.020139514582212, -33.42566672356258], [19.02057204515542, -33.425929825954704], [19.021321106803036, -33.42625533960641], [19.02116510886894, -33.42655410351488], [19.021557461922168, -33.42684837236111], [19.021989993946235, -33.42730769641231], [19.022306616012408, -33.427798162139105], [19.021713550697605, -33.42803004856629], [19.02140137320435, -33.428324387725816], [19.023876216039405, -33.430491479643905], [19.025254087682416, -33.430723344459444], [19.025138085809193, -33.4332516684656], [19.026168136392492, -33.43360844476275], [19.029151279317215, -33.434134620677696], [19.030725348932073, -33.43459386144484], [19.03217906704224, -33.43515572048422], [19.032651698827863, -33.43538310334426], [19.03320015552405, -33.43554810490093], [19.034341695082574, -33.43574427734529], [19.037570057383594, -33.43633739397804], [19.03882752355644, -33.43627045883563], [19.039340342982772, -33.43660044331418], [19.041306821643794, -33.43685910324857], [19.04201583008269, -33.43669854102052], [19.043077122774548, -33.43669853250499], [19.04366568286362, -33.436894759436605], [19.044807250486585, -33.43676102608306], [19.045828369259116, -33.43676102117175], [19.046461558454848, -33.436859092694164], [19.046733573411327, -33.437189020405434], [19.047678869815808, -33.437090945804016], [19.049449106676654, -33.43728715185022], [19.04996193887142, -33.43786236368442], [19.05078687981734, -33.43786683974209], [19.051081210424552, -33.4376706326342], [19.051415631918054, -33.43773750153315], [19.05179014439184, -33.437786549499094], [19.053110056309723, -33.437915929345806], [19.05387704382936, -33.437947134736575], [19.055272699785437, -33.437786613366406], [19.056316156718157, -33.43753683423503], [19.05692260373491, -33.43745657422536], [19.05768959807948, -33.43717571556088], [19.05796606468385, -33.43697944755122], [19.05853677649247, -33.436881372994975], [19.05898712415649, -33.43683232655829], [19.05944200752356, -33.43680109697718], [19.05991466949515, -33.43676547555043], [19.060779721164128, -33.43661832159931], [19.061390619036054, -33.436667352191094], [19.061939112639287, -33.43655136778672], [19.062295856084724, -33.436618279854216], [19.06282648189479, -33.43685020239601], [19.063098416538235, -33.43683237126422], [19.06316091254965, -33.436979486093435], [19.06386542191657, -33.4366539719413], [19.064320219744413, -33.436453331183806], [19.064833069726877, -33.43627493866532], [19.065323515975496, -33.43632397159167], [19.06577387075401, -33.43612782179517], [19.066188578531946, -33.43612783243679], [19.066523011801475, -33.43683683178249], [19.066875314447323, -33.43757256226063], [19.0667771703754, -33.4379337176811], [19.066875314447323, -33.438259226277445], [19.06724984041358, -33.43849112383925], [19.06719187912018, -33.438705163534976], [19.067405945907698, -33.439146624957694], [19.067508534732152, -33.43944093629812], [19.067820655258213, -33.43990017584832], [19.06794102263575, -33.44027923928466], [19.067918708861644, -33.44042639298064], [19.068074814598273, -33.44075635358973], [19.0682130512188, -33.440921324228626], [19.06827545726676, -33.44141184095943], [19.06794102263575, -33.44164370305445], [19.067860747478196, -33.44192019162452], [19.067606588264496, -33.442004915565725], [19.067347984593273, -33.44225018076947], [19.06713391783459, -33.44269162015277], [19.066839666921386, -33.443021560441224], [19.06638477572364, -33.44324899986877], [19.066228761305947, -33.443627985543], [19.06667911703199, -33.44379302447171], [19.0670715119521, -33.44405608751253], [19.067740380123094, -33.443922334973344], [19.067860747478196, -33.443775171412376], [19.06829332644204, -33.44334711645003], [19.068172868259573, -33.443137472167486], [19.068155089795734, -33.44278965302417], [19.068547486061068, -33.442495355087296], [19.068944327307886, -33.442936819920185], [19.069020158042598, -33.443610150475365], [19.069256448874526, -33.444234487665085], [19.069336724292217, -33.44493898480127], [19.069537367548513, -33.44542060090408], [19.069648846143142, -33.445777321807135], [19.069947634316854, -33.445960088628574], [19.070241978060324, -33.44599131267802], [19.070750299747328, -33.44594229850151], [19.070910760447177, -33.44607158876721], [19.070928629731743, -33.44620534184448], [19.07071456119371, -33.44628567626091], [19.070438177098673, -33.44651753688598], [19.070317718316506, -33.446842993768186], [19.0699253204388, -33.447239858754074], [19.06976930473834, -33.44763226022418], [19.0700055959811, -33.44806032697632], [19.069809397139686, -33.44838587537752], [19.06988522802666, -33.44869799729191], [19.06984504491145, -33.44904578051426], [19.069492830542774, -33.44940700469899], [19.069060250374243, -33.449732480695644], [19.068609892157482, -33.45012940566307], [19.067842969027243, -33.45104796048515], [19.067405945907698, -33.45183275270788], [19.06937690736002, -33.45409798102883], [19.070714561193714, -33.4552484017876], [19.070594193041266, -33.455774571977734], [19.070750299747328, -33.45659509693264], [19.070438177098673, -33.457152492841814], [19.070121519332996, -33.458070998737156], [19.06957310600451, -33.45886028116273], [19.06910043341626, -33.46010440996967], [19.06862776134664, -33.460434347807954], [19.068114906841917, -33.460728662062046], [19.067526313169292, -33.46125487052525], [19.06697345854163, -33.461941539340685], [19.065519712772712, -33.46325701482091], [19.064181984374482, -33.46470171630489], [19.063040455804273, -33.46516102010647], [19.06280416838598, -33.4657496441902], [19.062451869075396, -33.4662446000973], [19.062255673678276, -33.466931291203835], [19.062059478370756, -33.46784984854547], [19.061783009129723, -33.46798357840743], [19.061702735121614, -33.46890223383086], [19.061783009129723, -33.469785064279826], [19.06161357203189, -33.47069028393903], [19.061448579547438, -33.470886517298005], [19.060530010673265, -33.47089983672901], [19.059892356137635, -33.47091767139168], [19.059749677663543, -33.47111834597237], [19.059883467076826, -33.47143939909727], [19.06005734802408, -33.471996812883084], [19.06035612953455, -33.47234014943692], [19.060886752948235, -33.4727236416775], [19.06093128906287, -33.47298227373695], [19.060962582262274, -33.47330330150755], [19.061007118384772, -33.47357535731426], [19.061007118384776, -33.47379831912288], [19.061377285398386, -33.47390972301102], [19.06167153257336, -33.47400782594212], [19.062438535404794, -33.47404353755678], [19.0646858543262, -33.47421748679877], [19.065662393162714, -33.47440023216127], [19.06605034256156, -33.47453852110593], [19.06631348075598, -33.47481047942699], [19.06659439750997, -33.474921967851785], [19.066803928692234, -33.47502899336257], [19.066964478628194, -33.475425895703374], [19.06700910607865, -33.47592079088026], [19.06715623156802, -33.477659904468965], [19.067263264939605, -33.479706626064484], [19.067098270287232, -33.47971993559112], [19.06700910607865, -33.47985369910965], [19.066937720301368, -33.48009902983348], [19.067098270287232, -33.48032196940817], [19.067187434514285, -33.48088824169766], [19.067628902022435, -33.48097747390078], [19.068016853193814, -33.4810755447426], [19.068681278212, -33.481222703127365], [19.068694612076097, -33.48148132121243], [19.06844489698908, -33.48153034469724], [19.06820860660236, -33.48157047931036], [19.068106017611104, -33.48169089358597], [19.068132776010533, -33.48255598194267], [19.068016853193814, -33.48347010937115], [19.073336545276874, -33.483840158913864], [19.081889080726658, -33.49103714295336], [19.082397416117725, -33.49365020758215], [19.082415285877335, -33.51549534313075], [19.082566861380677, -33.516538756814256], [19.082607045679207, -33.51716746646083], [19.082986030059566, -33.51828676168308], [19.083208994218054, -33.52036915623828], [19.083815479080013, -33.52084178541911], [19.083967055073266, -33.52101569812142], [19.084212334351186, -33.52110932476402], [19.084457523058056, -33.52096663236065], [19.084649283763788, -33.52089081285375], [19.08532706873554, -33.52093546383157], [19.085251235139477, -33.5212341711379], [19.085478645257357, -33.52150622155961], [19.08536716257996, -33.522166129297034], [19.085251235139477, -33.52237128864969], [19.085385032462035, -33.52262540338117], [19.085822073766742, -33.522732431378614], [19.08616096703679, -33.52308022426099], [19.08604948418398, -33.523396869295574], [19.085973650461593, -33.52396317345569], [19.08620106095831, -33.524529483232286], [19.08695468223603, -33.52551044083362], [19.087520987579506, -33.526014345815376], [19.087806362937332, -33.5260946503896], [19.088185351862162, -33.52650039643835], [19.088091738482795, -33.52667433756439], [19.088033774394642, -33.5269596447043], [19.087694879661733, -33.52697750660973], [19.08739163441173, -33.52702211815225], [19.08712412928037, -33.527008766964904], [19.08689671829975, -33.526879388345364], [19.086499860571625, -33.52684820451033], [19.086178746241345, -33.52692850186574], [19.085799759069285, -33.5270845261014], [19.085500959938294, -33.52727625595318], [19.08514873281182, -33.52803876506081], [19.08486780399024, -33.528243943504606], [19.085010490772902, -33.528792366454915], [19.08512197335859, -33.52989821964523], [19.085371698082955, -33.530709757852684], [19.085567903988, -33.53090155496444], [19.085509940237042, -33.531231463171004], [19.085964760863416, -33.53172643106374], [19.08616541183786, -33.532150116150575], [19.086388377631717, -33.53267180945094], [19.08647310103503, -33.53330943662516], [19.08664699269729, -33.53383112163293], [19.086250135197613, -33.534165551818646], [19.08537169808295, -33.534299340035005], [19.085001601194474, -33.53465608727435], [19.08446196784167, -33.534937044067824], [19.083913536314363, -33.53506631198263], [19.083431958491303, -33.535565754088715], [19.08278093579054, -33.536426344995256], [19.08233945279085, -33.53631041975072], [19.08200056250919, -33.53647543506967], [19.082054081031757, -33.537041725573715], [19.082054081031757, -33.537371683597], [19.08163046850031, -33.53777299121316], [19.08148778283089, -33.53810296138994], [19.082027321769647, -33.53878967515943], [19.08151898681307, -33.538811972931455], [19.081148893215847, -33.53862467742854], [19.080582596199125, -33.53892788737501], [19.081037411652623, -33.53977961613483], [19.08310195689413, -33.541763870702084], [19.082789825323406, -33.540769534385994], [19.082580286382928, -33.540073891607236], [19.082763066015836, -33.539900003268684], [19.083035103934886, -33.539873205711125], [19.083614738483554, -33.54012298530682], [19.084493262747962, -33.54072495434205], [19.085001601194474, -33.54105488330396], [19.085795314271955, -33.54245950755114], [19.08582207376674, -33.54327551049877], [19.08619217135548, -33.546557441311485], [19.08604948418398, -33.546936434843055], [19.08630365424496, -33.5472173722054], [19.08656226926002, -33.54752508541234], [19.08627689472046, -33.54778370617556], [19.08616541183786, -33.548140441042456], [19.085768554778824, -33.54804230749107], [19.08502826993029, -33.548140445390395], [19.084805395545715, -33.548350013320004], [19.08472067246824, -33.549246277864505], [19.08460465449074, -33.549553943977386], [19.084408539731502, -33.55000431329431], [19.08435048542572, -33.55026299337013], [19.08327584720414, -33.55061972416371], [19.08321788375971, -33.551136951025526], [19.083556774993795, -33.55104328474094], [19.08386890711707, -33.55120824609005], [19.083614738483554, -33.55168094426742], [19.08287899279073, -33.55179686705836], [19.082566861380673, -33.55177459779662], [19.08267834333769, -33.552104598469825], [19.082508898031126, -33.552198172179835], [19.081715190973437, -33.55212689355641], [19.081701856707298, -33.55231861826797], [19.08188463596944, -33.5524836206186], [19.082508898031126, -33.55252816039708], [19.083088622585283, -33.552599542990876], [19.083400754371297, -33.552862591982084], [19.08373964574842, -33.5529785183523], [19.08385557278463, -33.55337988932221], [19.084305946893263, -33.553473520747694], [19.08481872990738, -33.553544860502804], [19.085353828201427, -33.554088848164454], [19.085893371954125, -33.554325183375205], [19.08645967591219, -33.55449018417904], [19.087141908524412, -33.55470417912844], [19.08750756242426, -33.55486922573133], [19.087480802825507, -33.55527052771773], [19.087650250075296, -33.555435494518214], [19.087284596055223, -33.555694146660656], [19.08612078240876, -33.55578781256344], [19.085157622393258, -33.55623813034178], [19.08442187408096, -33.556612700393266], [19.08385557278463, -33.556782192891404], [19.082807695099213, -33.556782139871494], [19.08263824974204, -33.55713442382105], [19.08337399502599, -33.55734846407785], [19.083909091536373, -33.557513422291414], [19.08450659710003, -33.55737071863523], [19.084961416673885, -33.55744206847735], [19.085469755669337, -33.55770072649272], [19.085469755669337, -33.558102033636715], [19.085665961618748, -33.558503335260404], [19.085527719414916, -33.55869067961568], [19.08481872990738, -33.5585969790954], [19.08487224877806, -33.558811030747435], [19.084564560716828, -33.558976009059606], [19.084363910483237, -33.55909200088002], [19.083686127017604, -33.558953740985274], [19.083739645748416, -33.559212391888714], [19.08382436863411, -33.55952004778542], [19.08204074675518, -33.55909194683604], [19.08124704055566, -33.55902505242545], [19.08153241178283, -33.55970731400771], [19.08130500373629, -33.5601799926033], [19.08164389347354, -33.56048763199044], [19.081929264962298, -33.560911260303854], [19.082098710042068, -33.56112535033982], [19.081871301698083, -33.56154890014831], [19.082241395912806, -33.56180753636703], [19.082691768343402, -33.56185663717869], [19.083258068118635, -33.56192799042695], [19.08226815518815, -33.5626592623371], [19.08206750601812, -33.56294014341882], [19.082183432606822, -33.56372054615546], [19.082379637068275, -33.56440718328954], [19.0826650090419, -33.565067178821046], [19.083003899843465, -33.56523211597053], [19.08325806811863, -33.565504188999114], [19.08382436863411, -33.56567804838037], [19.084292521837543, -33.56582073042926], [19.084390669889668, -33.566106146044085], [19.08422122391342, -33.566364769557474], [19.08422122391342, -33.56655203611499], [19.084649283763785, -33.56671706595586], [19.085184381848695, -33.566837468077935], [19.08566596161875, -33.56693110066824], [19.085893371954125, -33.56714513904509], [19.08600929956628, -33.567310055928715], [19.08626346960371, -33.56735469571855], [19.085835408159674, -33.567653474050395], [19.085157622393258, -33.567854078877566], [19.084787525687524, -33.56811275975308], [19.084591320135658, -33.56842040366602], [19.08422122391342, -33.568701297118906], [19.083940295692987, -33.56879494822127], [19.08384214774285, -33.56895103900191], [19.083757424853673, -33.56916060873771], [19.08379760926264, -33.56938803357412], [19.08377084989283, -33.56964669734147], [19.083342790910166, -33.56955300687441], [19.083003899843465, -33.56938800201808], [19.08277649102417, -33.56962434468786], [19.082549082324277, -33.56988298361176], [19.081956024218343, -33.569597634511354], [19.08167509746696, -33.56952623263877], [19.08147444857175, -33.569575324593416], [19.080970559012126, -33.56980274169129], [19.080609355371934, -33.569833977371104], [19.08042204119706, -33.56991418243836], [19.080404262228743, -33.57015051796924], [19.080582596199125, -33.57036456724769], [19.08068065270144, -33.57069458382755], [19.08062722505774, -33.5709085424377], [19.080225837622873, -33.57091746769238], [19.080092132602942, -33.57101562168356], [19.08003407887581, -33.57123410178835], [19.079909263388856, -33.571300972564295], [19.0798334307414, -33.57131437392617], [19.079793337409235, -33.5714704234763], [19.079855745131493, -33.571506141139906], [19.07995389217802, -33.571506132451034], [19.079958336915404, -33.57160868033923], [19.079985096049604, -33.57185387585141], [19.080292780857324, -33.57181825196915], [19.080595930430793, -33.57180934907934], [19.08089472617869, -33.57188958518063], [19.081015097201597, -33.57191186783903], [19.08111768926035, -33.57195648308695], [19.081229170844257, -33.57204567314843], [19.081322782741612, -33.57213927419499], [19.081452134098196, -33.57216604865042], [19.081612598773077, -33.572121468256945], [19.081657227737892, -33.57194305886818], [19.081822227954635, -33.57194308884849], [19.08187574645516, -33.572067926489105], [19.082000562509194, -33.572108093419], [19.08202287701102, -33.57220614607338], [19.082049636272856, -33.57228201651613], [19.081960468976284, -33.572451398182984], [19.08167065271194, -33.5723488377036], [19.081452134098196, -33.572389013281615], [19.08133176295376, -33.57251828147155], [19.081238060345267, -33.572643216803364], [19.08103741165262, -33.57259859811808], [19.08087241173502, -33.57254064587491], [19.080716392079687, -33.5724648070716], [19.080582596199125, -33.57243808199209], [19.080546947540984, -33.572536158098316], [19.08051120817673, -33.57267884149609], [19.080279355926013, -33.57256736826975], [19.08020805866262, -33.57268774510371], [19.080328429494536, -33.57305344237797], [19.08056028177155, -33.57326298538826], [19.080783244680926, -33.573490398590735], [19.080796669627873, -33.57365091444588], [19.080943799816993, -33.57375795130585], [19.08092148537079, -33.57379359448405], [19.080952689312138, -33.573847117787544], [19.081099819554293, -33.573864969544005], [19.0812960235247, -33.57387837281177], [19.08143426437833, -33.573891717169694], [19.08158139478416, -33.57386941874865], [19.081643893473537, -33.57374007866798], [19.081568060522134, -33.57337000420512], [19.081697321242718, -33.57324960396556], [19.08185343196092, -33.57335660712571], [19.08196935849231, -33.57366434467759], [19.082071950777205, -33.57383376584628], [19.082223526160377, -33.57397201348086], [19.082531212559143, -33.574199407653076], [19.082807695099213, -33.574480314390186], [19.082936956189805, -33.57475235305315], [19.082847788710556, -33.57495299485153], [19.082718527646573, -33.57508672284772], [19.08266056427672, -33.5752160790865], [19.082709547405663, -33.57539889501559], [19.082535657322993, -33.57547918432963], [19.08233056326722, -33.57555054325619], [19.08199611775084, -33.575363206642145], [19.08179991346315, -33.575207146318746], [19.081710746218015, -33.57515364860531], [19.08162157899124, -33.575189333896674], [19.08163046850031, -33.57531420482084], [19.081492227584032, -33.57537210941607], [19.081394170897855, -33.57538551703315], [19.081376301180388, -33.57557726190687], [19.081407505154527, -33.575804706483694], [19.08128268927147, -33.57584031445022], [19.081184541923577, -33.57593403371357], [19.08128268927147, -33.57602764715937], [19.081411949906837, -33.57608561396958], [19.081478893324746, -33.57614800104231], [19.081594819755864, -33.57617921551203], [19.081679542222023, -33.57619705693945], [19.081755375192945, -33.57619262105061], [19.08185343196092, -33.57623721416141], [19.082013987493895, -33.576433425686105], [19.082183432606822, -33.576607322550004], [19.082410841114726, -33.576651946359455], [19.08263824974204, -33.57674107794941], [19.08286565848875, -33.57698191535057], [19.083119826682807, -33.57700861452609], [19.083253623347378, -33.57716466080744], [19.083186679655128, -33.57728960513664], [19.083017234149697, -33.57734754935568], [19.082740751475875, -33.57722716409745], [19.082647139271973, -33.5770086031302], [19.08248658350426, -33.57705320033984], [19.08234389755273, -33.57718256682691], [19.082317138272707, -33.5773386208525], [19.082544637560293, -33.577369818850684], [19.082687323577954, -33.57752584705396], [19.0828388991765, -33.577646315646064], [19.082789825323403, -33.57782015849255], [19.082883528267683, -33.577998555127785], [19.08297714052267, -33.578127850912644], [19.083066308028553, -33.57822149189816], [19.083244643095377, -33.578181381446775], [19.08349881151178, -33.57820371781013], [19.08355677499379, -33.578297313973934], [19.08357464480123, -33.57846673634998], [19.08334723568234, -33.57870306586579], [19.08331158679658, -33.578890397833135], [19.083110937143168, -33.57907762433021], [19.08313769647223, -33.579278289081806], [19.083035103934883, -33.579416564989714], [19.083066308028553, -33.57960829373493], [19.083186679655128, -33.57972427125629], [19.08339630959858, -33.579844611805854], [19.08359251460941, -33.579875857005824], [19.083761960339828, -33.579889237736765], [19.083904646758437, -33.5799605225237], [19.0838377029656, -33.58018352674036], [19.083851128007232, -33.580339586349936], [19.083904646758434, -33.580513522668674], [19.083989369676388, -33.58073200853351], [19.083989369676388, -33.58086577418545], [19.083793164485854, -33.5809460022676], [19.08364149784373, -33.58089252128884], [19.083583534350385, -33.580647228158526], [19.08331158679658, -33.5806383417868], [19.0832045494473, -33.58071858631936], [19.083320476340333, -33.58091482236504], [19.083574644801228, -33.5811199515987], [19.0838377029656, -33.5815524444565], [19.08404733322402, -33.58160153719774], [19.084569005501535, -33.58194935845547], [19.084635949407332, -33.58224808564696], [19.08465372854936, -33.58235507513136], [19.084774100616876, -33.58250674840687], [19.084841044554345, -33.582814357935725], [19.08488113835383, -33.58300169874158], [19.084823174694698, -33.58326472600069], [19.08475632146991, -33.5835947344374], [19.084635949407332, -33.5838934590168], [19.084417429297762, -33.5841833164752], [19.084225668694607, -33.58453118020501], [19.084216779132277, -33.58468272817922], [19.08434159586083, -33.58476746696323], [19.08447539290264, -33.58479870109565], [19.08461363477092, -33.58486114440404], [19.08478308090057, -33.58491910580981], [19.085050584588046, -33.584954769087766], [19.085286974894817, -33.5849948988622], [19.085505404732608, -33.584994868388335], [19.08571948059401, -33.58498598922996], [19.085808648664063, -33.585075175494914], [19.085955780555253, -33.58517774133028], [19.086129672010124, -33.58525794216964], [19.086316988652705, -33.58531148773474], [19.086459675912195, -33.58536055032431], [19.086620233151603, -33.585454145995044], [19.086678197050936, -33.58556122142449], [19.08667819705094, -33.58583762056871], [19.086892182780808, -33.58611411737884], [19.087075054942204, -33.58627020823469], [19.087266816805336, -33.58637272730253], [19.087471913196453, -33.58651540133623], [19.087703769295356, -33.58660017329493], [19.087908865892974, -33.58658679763455], [19.08817201739701, -33.586586784977804], [19.08839489351124, -33.58651545857559], [19.088555451466636, -33.58640397350952], [19.0886089707983, -33.58629244829249], [19.088711564654222, -33.58613640845505], [19.088943421415248, -33.586042754691846], [19.0892243528757, -33.585926796110506], [19.089420560522704, -33.585757388771746], [19.08954093391266, -33.58569944638865], [19.089491859301273, -33.58554785159523], [19.089491859301273, -33.585422979536624], [19.089621213094812, -33.585365003253024], [19.089795106018222, -33.58526241248826], [19.08987538524736, -33.58512416101416], [19.089830755436786, -33.58502162472161], [19.08974603137812, -33.58498150259967], [19.089768346278483, -33.584901276206615], [19.08987538524736, -33.58478976910811], [19.09005816795435, -33.584687240716306], [19.090191966758837, -33.58473179288321], [19.09026780121819, -33.58490124871967], [19.090459473780314, -33.58490572215666], [19.090655681985215, -33.58489236153938], [19.09085633512781, -33.584861099083234], [19.09103022854559, -33.58478532357897], [19.0911863426226, -33.58475408989831], [19.091337921190313, -33.584687220069895], [19.091667929050768, -33.584812020653054], [19.091922102400517, -33.584856619217284], [19.092069236363244, -33.58492355509889], [19.09223868540298, -33.58500823669186], [19.0925017488182, -33.58501719513203], [19.092831757562077, -33.58508407930026], [19.092876296969173, -33.585213361928844], [19.09285851749044, -33.58536500626887], [19.092983336703455, -33.58549875721898], [19.093219640616912, -33.585476445596996], [19.09332223556134, -33.58539624641185], [19.09347835046131, -33.58528028172213], [19.09363881958307, -33.5852222734522], [19.093875214564434, -33.585240171055126], [19.09398660871376, -33.585320372371825], [19.094026794069425, -33.585458656330154], [19.094120408727246, -33.5855166043304], [19.0942230038841, -33.585463056566105], [19.0942230038841, -33.58563695272527], [19.094294303450326, -33.58569500530611], [19.094276523913628, -33.58589115044415], [19.094477178727022, -33.58598030772134], [19.094731353718412, -33.58600712902652], [19.09489626819264, -33.58592241613239], [19.095141553642847, -33.58592679962159], [19.095239613434355, -33.58602944347739], [19.095458138988143, -33.58609625199565], [19.095614254654347, -33.58628357188794], [19.095886209911395, -33.586319233832256], [19.096051215535404, -33.58631923084085], [19.096185016183515, -33.58627016268423], [19.096220666125852, -33.586337108715334], [19.0963499312084, -33.586421775058696], [19.0963232617777, -33.586533294284195], [19.09643021164741, -33.586591249724954], [19.09654169716295, -33.586537762513245], [19.096760223370186, -33.58652436587762], [19.096934119147676, -33.586546633093455], [19.097139220099127, -33.58661796420528], [19.097330986401154, -33.58671609956392], [19.097594052894138, -33.58673836812432], [19.0977590591651, -33.58681864495902], [19.097861564466594, -33.58697025781538], [19.09808898118175, -33.58708178596128], [19.09816481701742, -33.58710851039865], [19.09825843256482, -33.587121868871336], [19.09832093365368, -33.58711740699921], [19.09840565938207, -33.58717981039162], [19.098361028696537, -33.587318048837915], [19.098294173389572, -33.587434004943965], [19.09805777600918, -33.58738494538995], [19.098004255514926, -33.5875320874518], [19.098084536258778, -33.58767482409867], [19.098151482246315, -33.58779961767932], [19.09808898118175, -33.5878353369052], [19.09790619510097, -33.587866559635245], [19.097839339863775, -33.58798695696273], [19.097924065498542, -33.58813408362892], [19.097937400262687, -33.58822325984995], [19.097874989941495, -33.58832583838671], [19.097705538707523, -33.588361513667756], [19.097692203950476, -33.58850421641805], [19.097750169325924, -33.58858446129964], [19.097821469469686, -33.58866915871196], [19.097928510419873, -33.58872717779081], [19.098102406663656, -33.5887494408322], [19.098142501686414, -33.58882077415063], [19.098151482246315, -33.58890998635207], [19.098129166915992, -33.589008058318726], [19.098146946609976, -33.58911067217048], [19.09788387978321, -33.58928902810619], [19.097674333562413, -33.5893023945154], [19.097625258033492, -33.58944956512746], [19.097701093788466, -33.58953427822488], [19.09770553870752, -33.58965464790734], [19.09762970295178, -33.589712646864164], [19.097460251813196, -33.58971706541276], [19.097366636437275, -33.58984189533425], [19.097335431316445, -33.589953394233625], [19.097411267020966, -33.59007824721171], [19.09750043748946, -33.59015852890641], [19.097598497812104, -33.590207615843546], [19.0975584028394, -33.590278912254924], [19.097536087539446, -33.59036809961139], [19.097674333562413, -33.590408224081344], [19.097741188774297, -33.590497412410876], [19.097834894943347, -33.59049742996128], [19.097941845184156, -33.590537530284756], [19.097982030904827, -33.59064898746125], [19.09820046712176, -33.59065797220409], [19.098240652866284, -33.59078727802017], [19.098253987640113, -33.59089430049495], [19.098222782455732, -33.59097454191761], [19.098093516817485, -33.591117233338174], [19.09807120149013, -33.59118857097362], [19.097964160504887, -33.591201950469404], [19.097915084943324, -33.59134911853533], [19.09779470923624, -33.591344638245374], [19.097701093788466, -33.59138926999274], [19.097750169325924, -33.59145168314253], [19.097745633693762, -33.591509655057294], [19.097741188774293, -33.59157205412737], [19.097660908093694, -33.591612172635216], [19.097562847757008, -33.59161219211628], [19.09744247214724, -33.59163452603807], [19.097339876231775, -33.59168799327944], [19.097295336367946, -33.59177718895095], [19.09728635582569, -33.59188423475004], [19.09721061085544, -33.59193769444038], [19.097232835426187, -33.592049219824695], [19.0972150557695, -33.59220076981874], [19.097326541485913, -33.59237915250193], [19.097299781282867, -33.59244157510697], [19.09735774660611, -33.5925129329106], [19.097478122192484, -33.59252629636779], [19.09763414787012, -33.592544170158895], [19.097714428545782, -33.59261106185996], [19.097745633693762, -33.59271358581631], [19.097821469469686, -33.592829550671375], [19.0978303593103, -33.592945505496964], [19.097910640022125, -33.59300787273568], [19.09801768099422, -33.59305692180935], [19.09809796174055, -33.5931773583482], [19.09804888616392, -33.593288826654245], [19.09799092074873, -33.593418163753554], [19.09820944768286, -33.593560789583705], [19.098298618314683, -33.593641066178755], [19.098329823504496, -33.593770402309524], [19.09848584948706, -33.593810563693765], [19.098628540739785, -33.59374814748738], [19.098708821598624, -33.593703504759276], [19.098784657542133, -33.593707934843465], [19.098820307697174, -33.593770431501966], [19.098802437262865, -33.593881854380996], [19.098775676969197, -33.59402011128775], [19.098695486810875, -33.594051332689496], [19.098592890600425, -33.594082510692054], [19.098490294414134, -33.594318903671265], [19.098517054690276, -33.59445264926238], [19.098592890600425, -33.59455520377949], [19.098610761026155, -33.59464438983299], [19.098521590330467, -33.59474251537286], [19.09843232894024, -33.59484953828113], [19.098307508165043, -33.59489413282874], [19.0982183375314, -33.59500114104708], [19.098307508165043, -33.59510370562974], [19.09830750816504, -33.59520618886703], [19.098374363474058, -33.59524635003846], [19.098414549234608, -33.595322186589854], [19.098343158281054, -33.59536672620279], [19.098231672304543, -33.59547375855529], [19.098169261941205, -33.59563431713488], [19.09819157727358, -33.59575470573721], [19.098267413127104, -33.595839410780094], [19.098347603206665, -33.59584388582846], [19.098410104308318, -33.59590629068219], [19.098374363474058, -33.595964304911504], [19.098329823504496, -33.596044532348216], [19.098463624852414, -33.5961114323765], [19.098659745953217, -33.596267496237346], [19.098797992332614, -33.596294288985355], [19.09891392338535, -33.596361161263864], [19.09890503352262, -33.596463663462416], [19.09891836831678, -33.59653950683681], [19.098851512924334, -33.59663760657278], [19.098713266527966, -33.59662422068034], [19.09861965088288, -33.59654844093107], [19.098534925112894, -33.596691092485926], [19.098410104308318, -33.596802555146546], [19.09840112374309, -33.597012158718314], [19.098347603206665, -33.597141522586725], [19.098418994160944, -33.59727521475189], [19.09886040278597, -33.59756065480942], [19.098936238755844, -33.59820718778001], [19.0990388350471, -33.59830974260218], [19.099110135401663, -33.59837666206736], [19.099047724912563, -33.5984925565832], [19.09879354740241, -33.598653120914705], [19.098691041881718, -33.59874226880745], [19.098735581888185, -33.598920626251555], [19.09864641116698, -33.599090138876015], [19.098717711457354, -33.599558336579264], [19.098985314432387, -33.59962073717413], [19.099070040289902, -33.59981694117574], [19.09899420429675, -33.6000710932648], [19.099163656031713, -33.600249496799954], [19.099337552768233, -33.600320847236965], [19.09938662848994, -33.60045908150525], [19.099484689236913, -33.60059278686817], [19.09963182575525, -33.60069982484386], [19.099792387857185, -33.600690893038156], [19.099908319174308, -33.60078901172257], [19.099801277738, -33.60084253116818], [19.09968534644933, -33.600958494801695], [19.099698771980396, -33.60106549018574], [19.1002918542991, -33.60205537384282], [19.10043001048273, -33.602215901182355], [19.100697614508498, -33.60221595203596], [19.100867066905284, -33.60225157247091], [19.100929477654738, -33.60234967724747], [19.101134580485784, -33.602465632179275], [19.10123717729415, -33.602675257277774], [19.101250512159606, -33.602942801175026], [19.10121930676081, -33.603179129523255], [19.101174675787327, -33.603357481688434], [19.101366443864233, -33.603446613561026], [19.1015671019422, -33.603669613027826], [19.101602752324656, -33.60380340341269], [19.10158941744843, -33.603977251911836], [19.10158052753118, -33.604191346578666], [19.1016206228737, -33.60436521805294], [19.101513581017258, -33.60443658477882], [19.101451170184276, -33.60457928440974], [19.10158052753118, -33.6046684255776], [19.10161173295581, -33.60478433765465], [19.10150469110155, -33.60489139660598], [19.10139764927355, -33.60502962452065], [19.10152700660459, -33.605306108239716], [19.10161173295581, -33.60547556665397], [19.10182572602959, -33.605502262261545], [19.10194165788701, -33.605582524657024], [19.101803410511273, -33.60567622551528], [19.10167414381176, -33.60578321341899], [19.101749980270828, -33.60596157360283], [19.101843596587763, -33.606077553610604], [19.10197286333746, -33.60620239826723], [19.10185693147175, -33.60632280037618], [19.10178118570758, -33.60647437013103], [19.101928323000433, -33.60671519632462], [19.102120091408484, -33.60684889413422], [19.101981843976233, -33.606920307993995], [19.101843596587763, -33.60686680124617], [19.10170534924308, -33.606795448407816], [19.101513581017258, -33.60684004332713], [19.101419964771118, -33.606938131728626], [19.101513581017258, -33.60703174175685], [19.10167414381176, -33.607156605598114], [19.10161173295581, -33.607299301897235], [19.1015582120254, -33.607424131147866], [19.101495801186022, -33.607361724880384], [19.101366443864233, -33.60740630710975], [19.1012281966707, -33.60740633713043], [19.101165785878525, -33.60737953981176], [19.1011969912735, -33.60727258247097], [19.101134580485784, -33.60719232997425], [19.101090040234315, -33.60707632902632], [19.100898272278894, -33.60698720265389], [19.100737709769884, -33.60684005007192], [19.100666409149238, -33.60693811202014], [19.10054149702131, -33.606991605699996], [19.10035870991237, -33.60696042097548], [19.100238333530594, -33.60704065814863], [19.100100086694546, -33.60704956822653], [19.099899429291305, -33.60689351781031], [19.09968534644933, -33.606848905739355], [19.09952487509982, -33.606657161862636], [19.099199306217738, -33.60664827237462], [19.098971888923284, -33.606759739659], [19.098811417836362, -33.60673296697258], [19.098691041881718, -33.60677315209429], [19.098771232039216, -33.60691586769826], [19.098731136958627, -33.60703172843826], [19.09879354740241, -33.60717892627155], [19.098789102472246, -33.607277007157045], [19.09867761638168, -33.60732605323176], [19.0986329856683, -33.60732158130418], [19.098606316097865, -33.607281428960626], [19.09855279553624, -33.60732607478631], [19.098592890600425, -33.60748662068428], [19.098530480185367, -33.60756681467367], [19.098459089212827, -33.6075802657968], [19.09840565938207, -33.60763821975655], [19.098414549234608, -33.60772290512918], [19.098829197558167, -33.60855229831875], [19.098980869500274, -33.60881986877818], [19.098945128619214, -33.60916768308754], [19.098579555816233, -33.609363866963605], [19.09820046712176, -33.60961360556669], [19.098062220931883, -33.60958682297388], [19.097946290105675, -33.609716183659636], [19.097937400262687, -33.610037177072115], [19.09807120149013, -33.61053218617256], [19.098155927169966, -33.610714961247425], [19.098111296510016, -33.61104938631828], [19.09819157727358, -33.61125449778527], [19.098173706865044, -33.61137494787976], [19.098004255514923, -33.61153102421372], [19.098044441241353, -33.6116424537554], [19.098115741433265, -33.61170936116394], [19.09817824250166, -33.61180744229363], [19.098280747901757, -33.611874384681606], [19.09828519282673, -33.61265918606823], [19.098365473622334, -33.612708211743055], [19.09832093365368, -33.61285980800714], [19.098410104308318, -33.61295346580147], [19.098405659382074, -33.613060422384315], [19.098334268429966, -33.61317197996366], [19.098410104308318, -33.61334580629184], [19.098459089212827, -33.613470712883085], [19.098561685391786, -33.61361781676306], [19.098512609762942, -33.61396568770817], [19.09835658377079, -33.61404593750102], [19.098383344038734, -33.61416189132916], [19.098490294414134, -33.614313479629494], [19.098517054690276, -33.61461223748418], [19.098392233890813, -33.6147638181271], [19.098508164835646, -33.61500015165297], [19.098329823504493, -33.615022453307915], [19.09819602219765, -33.61516518786976], [19.098075646412966, -33.61530339433167], [19.098075646412966, -33.61551300528165], [19.09801768099422, -33.615704732174656], [19.098222782455732, -33.61586967785125], [19.09857057524751, -33.616083714610554], [19.098891698728874, -33.61622199525502], [19.098971888923284, -33.616306720357], [19.09943116856747, -33.61655640437304], [19.099658586101462, -33.61669911502036], [19.0997790530363, -33.61683735486116]], [[19.130207903223898, -33.391585859087336], [19.13019012223033, -33.39107304565763], [19.129967134116658, -33.39063158809943], [19.129574773286937, -33.39074307718281], [19.129632742876584, -33.3913094014608], [19.1299091644831, -33.391505572755555], [19.130207903223898, -33.391585859087336]], [[19.059508856824728, -33.41594591366146], [19.059807637953398, -33.41607079003759], [19.06015095532375, -33.41619559700695], [19.06033826068913, -33.41629375466801], [19.060904621816487, -33.416605813840775], [19.060641486933292, -33.41537514170004], [19.060454181435617, -33.415437608292464], [19.06011086382275, -33.415468810652506], [19.059620332819566, -33.41540636321541], [19.059129893081597, -33.41534389868712], [19.059357289428235, -33.41556689688713], [19.05924136897799, -33.41578540818224], [19.059508856824728, -33.41594591366146]], [[19.054322942124866, -33.432961858450454], [19.0547420833178, -33.433086712936515], [19.05512113388635, -33.43308666744409], [19.055344083623638, -33.43299308436237], [19.055419911957795, -33.43289938209613], [19.055344083623634, -33.43273887689201], [19.054777729839387, -33.432297413969245], [19.05447450774154, -33.43194962661539], [19.053908245810515, -33.4320789396071], [19.053720943254273, -33.43226623648792], [19.05349354989779, -33.43261399109365], [19.0536451152209, -33.43293065385819], [19.054024164818575, -33.43296184291895], [19.054322942124866, -33.432961858450454]], [[19.072859423898365, -33.4100063708697], [19.073238490440996, -33.41007329461244], [19.073617466609043, -33.410260555737224], [19.073920702207694, -33.41038543233335], [19.074295234295597, -33.41083134996185], [19.07437106597126, -33.4103853902884], [19.074674302099307, -33.410322937772726], [19.074901706658142, -33.410322974217195], [19.075583921053205, -33.41045230456785], [19.076185950526916, -33.41013566341093], [19.07641335588167, -33.408873776388525], [19.075508089164533, -33.408998626187525], [19.07459847037038, -33.40887378429233], [19.073541635065773, -33.40887378279007], [19.071873979436447, -33.40874444024239], [19.071726852336056, -33.40893619546079], [19.071575189927525, -33.40924833855357], [19.071499358743267, -33.409564913853806], [19.07194981068659, -33.40988150854032], [19.07225295440584, -33.41000640637202], [19.072859423898365, -33.4100063708697]], [[19.062304745195465, -33.43194961761282], [19.06253214322349, -33.43239107580984], [19.062607972827994, -33.432801322699035], [19.06275954137186, -33.43324279304955], [19.06317424624267, -33.433719905568225], [19.06362904333926, -33.43416130868404], [19.064008101757718, -33.43454033666074], [19.064462899736487, -33.43488820943706], [19.06484195889008, -33.43526722908673], [19.06521648308641, -33.435454489223716], [19.06563572562279, -33.43561049880553], [19.066090525322647, -33.43564179411325], [19.064387160510385, -33.429488214499386], [19.064008101757718, -33.429644274812446], [19.063629043339265, -33.429836013531094], [19.063325905691688, -33.43002326957861], [19.062946847874844, -33.43024623598752], [19.062304745195462, -33.43065651205519], [19.06173847292676, -33.43087938890175], [19.061283587126358, -33.43112914648939], [19.0615511669506, -33.43144573798551], [19.06204160945445, -33.43166421390339], [19.062304745195465, -33.43194961761282]], [[19.04959631684577, -33.43201208226048], [19.04997536285648, -33.43211011811178], [19.05058180089149, -33.4323286149989], [19.05095631263521, -33.43248916819376], [19.051375450531406, -33.43258280923356], [19.05179014439184, -33.432645264070416], [19.05224502011876, -33.43273891203852], [19.052583886976567, -33.43280129044239], [19.052775633491947, -33.43264526175475], [19.05285146137131, -33.432422271096684], [19.052396584999784, -33.432297394663564], [19.052093364588377, -33.43217257896172], [19.0515627520612, -33.4321726156298], [19.05125953224074, -33.431980802890926], [19.05088048509172, -33.43157062743456], [19.05069327456344, -33.43141453076722], [19.0505059734144, -33.43122276670245], [19.050354318500553, -33.430941866584696], [19.050086836370333, -33.430750139965696], [19.05001100898102, -33.43091067167844], [19.05001100898102, -33.43109789456952], [19.04974788078819, -33.43122281568208], [19.049520489543454, -33.43128965345802], [19.048989880208705, -33.4311291504562], [19.048762489367242, -33.431129156465005], [19.048347707741108, -33.4310979307286], [19.04812031724137, -33.43125401016637], [19.04812031724137, -33.431539377756486], [19.048347707741108, -33.43173112800725], [19.048989880208705, -33.431887188104966], [19.04959631684577, -33.43201208226048]], [[19.071535097361934, -33.41594588838474], [19.07168666904918, -33.41600833067966], [19.072101382519577, -33.41629373475715], [19.07248044839614, -33.416480965350196], [19.0731224755437, -33.41660587965964], [19.07372894625844, -33.41667273878459], [19.074219493340976, -33.416605811358416], [19.074750043133715, -33.4165746340411], [19.075316423218197, -33.41632489787615], [19.07581132609104, -33.416356161387576], [19.07641335588167, -33.41632490360175], [19.077019740510067, -33.41635615702262], [19.077095572664078, -33.416101987258855], [19.077211497920434, -33.41575417288778], [19.077095572664078, -33.41543752892017], [19.07683251859832, -33.41508971756674], [19.07690826001118, -33.414746392515895], [19.077059924293373, -33.41452342912529], [19.075962989988163, -33.41379664835987], [19.075240591376502, -33.41379659575025], [19.07486605846849, -33.41414439923241], [19.074674302099307, -33.41446100696504], [19.074295234295594, -33.414679485478146], [19.073991998433826, -33.414933707818285], [19.073349969992496, -33.414964878212004], [19.072707851799, -33.41484005600773], [19.07225295440584, -33.4147463766609], [19.07168666904918, -33.41467954436215], [19.07108020120578, -33.414746419553374], [19.070741319755154, -33.414840076977676], [19.070777058310984, -33.41528147737609], [19.071231863440207, -33.4156293308333], [19.071535097361934, -33.41594588838474]], [[19.116986662483605, -33.3398825639135], [19.117338915310256, -33.34020358521817], [19.11774478203871, -33.34049792964016], [19.117985544463867, -33.340854665120396], [19.11831992686026, -33.341148919442], [19.118895163151688, -33.3416751275773], [19.11961754343096, -33.341920395355466], [19.11955957515929, -33.34170633120779], [19.119635414715006, -33.34165731893115], [19.11955957515929, -33.3416261012156], [19.11943030321948, -33.34156809715851], [19.119229636957346, -33.34134961730618], [19.119060177454696, -33.34124259816611], [19.11883719497528, -33.34104193339741], [19.118672271472985, -33.340792199502225], [19.11846706971, -33.34060939908213], [19.118484940947265, -33.34034631825701], [19.11837789496842, -33.340252697564374], [19.11831992686026, -33.34011440658558], [19.118337798091538, -33.339864765040794], [19.118467069709997, -33.33966410115855], [19.118596432083454, -33.3394634224715], [19.118618748457486, -33.339262712169166], [19.118542909077195, -33.33903086990616], [19.118413637436422, -33.3388123962151], [19.1182085265111, -33.33859832327578], [19.11800786080687, -33.33856709645648], [19.117874053482684, -33.338674150202635], [19.117655516726966, -33.338642963367235], [19.117156121186483, -33.338611698638466], [19.11580498921414, -33.3385804938115], [19.115747021445593, -33.33866079910028], [19.116135015560268, -33.33899964507489], [19.116433744954467, -33.339276088523015], [19.116986662483605, -33.3398825639135]], [[19.10980305257379, -33.34431933336566], [19.110083997473396, -33.344319328011146], [19.110302530456643, -33.34439513483965], [19.110601255877484, -33.34455127609646], [19.11084201438193, -33.34467607003607], [19.11102489658979, -33.34487677884182], [19.11108286373411, -33.34502834577844], [19.111265655327067, -33.345278046310774], [19.11160012331767, -33.34537168256623], [19.111693741743196, -33.345202264239084], [19.11195237181921, -33.345108587914694], [19.112286840333944, -33.34520222200866], [19.11256325104037, -33.34537171705921], [19.112674740672304, -33.34532264345496], [19.112879849011453, -33.345153212084085], [19.113174131112824, -33.34500158321418], [19.113192002134593, -33.34478311773614], [19.112969022635994, -33.34447541752613], [19.112804010622778, -33.3441321054148], [19.112692611673708, -33.343949296862384], [19.11252759976454, -33.34379315899173], [19.112175350800676, -33.3436549388534], [19.111898849623294, -33.34346764127713], [19.111417240869695, -33.34326704747328], [19.110935723360843, -33.34316002551856], [19.11030253045664, -33.343110939738146], [19.110119648550388, -33.34320460017586], [19.110119648550388, -33.34328483191934], [19.11004390135464, -33.34348554683846], [19.1098967613304, -33.343699516142195], [19.10971387959361, -33.34376200681578], [19.109285795112562, -33.34379316993845], [19.10934376202669, -33.344011696547135], [19.1095846105549, -33.34414992148323], [19.10980305257379, -33.34431933336566]], [[19.05394833673151, -33.42895310390031], [19.05417137656184, -33.42904673202014], [19.054514689419097, -33.42917160925328], [19.05492938632064, -33.42917159563245], [19.055419911957795, -33.429140420363346], [19.055914882645727, -33.4291403449374], [19.056177923925656, -33.429015507034656], [19.056177923925652, -33.42885498374411], [19.05564730633698, -33.4286677296672], [19.05523260874049, -33.428475989529865], [19.055005214581396, -33.42816385695805], [19.05561165974304, -33.42816379955311], [19.05625375240736, -33.428226308447634], [19.05689584603361, -33.42831987934182], [19.057087594479157, -33.42819507268008], [19.057087594479157, -33.42797208591458], [19.05689584603361, -33.42772236296982], [19.056632713609098, -33.42746823614656], [19.05682001743832, -33.42724524890192], [19.056935937234154, -33.42683500070527], [19.056935937234154, -33.42658531121293], [19.056218105762973, -33.42664772587647], [19.055914882645727, -33.426678986971204], [19.05564730633698, -33.42680380339118], [19.055384174679016, -33.42693310499169], [19.05508095215189, -33.42718282243097], [19.054777729839387, -33.42731214386234], [19.054438861245178, -33.427276462105475], [19.05417137656184, -33.427374561210435], [19.05417137656184, -33.4275618701506], [19.05417137656184, -33.427878473362206], [19.054024164818575, -33.42813266780808], [19.053720943254273, -33.42831991754908], [19.053529196315452, -33.42851163256793], [19.053266156662083, -33.42857408406643], [19.053301803060823, -33.42879256630231], [19.053605024328295, -33.42888623703151], [19.05394833673151, -33.42895310390031]], [[19.06922969040528, -33.402238662178306], [19.0689264581056, -33.40274699860085], [19.069457092093433, -33.40306359611825], [19.069907541902637, -33.40299664673651], [19.070968812947978, -33.4029342718], [19.071423618279482, -33.403188395484065], [19.072404617052715, -33.40337571853768], [19.07278359248832, -33.403629848918385], [19.073086827500987, -33.40375474490708], [19.07376903902792, -33.403567459288155], [19.07414366169193, -33.40356743339334], [19.075356516135106, -33.403692328742096], [19.07565975295519, -33.40381713308501], [19.07603873124859, -33.40369228511247], [19.077247146303645, -33.40337568709437], [19.077702048958187, -33.40293422898086], [19.078232603027836, -33.40249277692173], [19.079062042939384, -33.40217623351075], [19.078607229562525, -33.40205138140389], [19.078455564737467, -33.40205133990307], [19.078081029042714, -33.402113756784395], [19.07762621669778, -33.402238630940175], [19.077095572664074, -33.40230549942789], [19.076489097221057, -33.402305541932655], [19.07581132609104, -33.40217622069888], [19.075508089164533, -33.40173475331452], [19.075204943158866, -33.40135574271096], [19.074977538440333, -33.401039118812925], [19.074219493340973, -33.4005977136895], [19.073465894243398, -33.400156251292], [19.072935255321738, -33.40028112144117], [19.072707851799, -33.400347998666696], [19.07248044839614, -33.400789403582955], [19.072101382519577, -33.40091425357233], [19.071423618279482, -33.400789428041605], [19.070817150806082, -33.40053523981627], [19.070286515143486, -33.40021863772661], [19.06922969040528, -33.39983965055594], [19.068774887389083, -33.3999689386077], [19.06869905669755, -33.40053528702539], [19.068774887389083, -33.40123084675972], [19.069381351988522, -33.401797180753825], [19.06922969040528, -33.402238662178306]], [[19.108657049624814, -33.34869378594908], [19.10912087520168, -33.3486491814499], [19.10954442376679, -33.34897468637008], [19.10993241239216, -33.34897463052874], [19.11036049750536, -33.348849790512155], [19.110672648833916, -33.348956784665056], [19.111047212578715, -33.34915748994314], [19.111524285150416, -33.3493314100059], [19.11191672059307, -33.349251154437155], [19.112286840333947, -33.34915746343714], [19.112656869671625, -33.34914409432009], [19.113062641353896, -33.34909955831154], [19.113120608767737, -33.348894426900216], [19.113597774312097, -33.34888099081586], [19.113709264207085, -33.34877403493207], [19.1135442519153, -33.348680409153964], [19.11322765346445, -33.3485421402699], [19.112879849011456, -33.34843068577344], [19.112639089387404, -33.34838605044607], [19.112246653297934, -33.34822999721751], [19.11222887303036, -33.34793566453962], [19.112228873030357, -33.34759678005998], [19.11234027186157, -33.34741398117066], [19.11256325104037, -33.3473024769368], [19.112879849011456, -33.34738278662375], [19.113192002134593, -33.34738275049721], [19.113285620900104, -33.34732035937504], [19.113209873157086, -33.34716429012413], [19.112986893649396, -33.34702604265362], [19.112821881629458, -33.34680757695109], [19.112879849011456, -33.34659353618004], [19.112857532929215, -33.3463750373035], [19.112804010622774, -33.3461921768057], [19.1125989023191, -33.346174352356655], [19.112268969349078, -33.34616097071927], [19.111693741743196, -33.346129724528765], [19.111118514892407, -33.34609855733871], [19.11052541788314, -33.34603609342052], [19.110101868369135, -33.34597369620614], [19.10954442376679, -33.345755236152534], [19.1091386553431, -33.34555452926489], [19.108692791300523, -33.3453851003986], [19.108193315254297, -33.34527804193513], [19.107805418885217, -33.345353848995714], [19.107600312922607, -33.345523355701864], [19.107564571336123, -33.34580428264021], [19.107676059695482, -33.34609856325828], [19.107970429015165, -33.34656230386373], [19.10825128202374, -33.34707065525225], [19.108304803773862, -33.34742733546142], [19.108064046664662, -33.34781532912436], [19.10778754808324, -33.34798473027476], [19.10737733627092, -33.34819881942928], [19.107247977207766, -33.34847970789081], [19.107676059695482, -33.348649158450016], [19.10826915284466, -33.34877396741391], [19.108657049624814, -33.34869378594908]], [[19.08810507294549, -33.50613569355187], [19.08855545146664, -33.50588151431441], [19.08938935597189, -33.505881476471274], [19.090147336915738, -33.505943911543696], [19.09097679962683, -33.50606880095192], [19.09226544529484, -33.50606882437518], [19.09332223556134, -33.506260548296225], [19.09400447895047, -33.506639545441246], [19.095061273441456, -33.506951688609995], [19.095667684142743, -33.50688930369739], [19.09619835089443, -33.50682688415272], [19.097330986401154, -33.506826839975346], [19.09808898118175, -33.50682688959255], [19.098847067993585, -33.50714345620117], [19.099301902570893, -33.50714340754799], [19.099752292682684, -33.50688927239635], [19.100889291662423, -33.50688931685481], [19.10171868412285, -33.50701856739072], [19.102325194799068, -33.50720589760395], [19.103159034962495, -33.507522450152514], [19.103836758052413, -33.50808878607977], [19.104746438081076, -33.50815120219934], [19.10542869934537, -33.508213649556915], [19.105807703603165, -33.50872197338848], [19.106333937680642, -33.50808873811545], [19.10648552151533, -33.50746000067327], [19.106864526689222, -33.50613567832798], [19.10603512445843, -33.50594398598223], [19.105731957153893, -33.505819116481405], [19.10542869934537, -33.505881545374386], [19.104746438081076, -33.505756688995525], [19.104443271670437, -33.50581910064763], [19.103836758052413, -33.505819065462155], [19.103310617695886, -33.5056942530775], [19.102704196364375, -33.50550246303205], [19.102325194799068, -33.50588147557901], [19.102021939355613, -33.50600637907716], [19.101642938382668, -33.50581908074306], [19.100661964199993, -33.50569422767124], [19.099979710384147, -33.50544008500627], [19.099377738617573, -33.505123497793186], [19.099074485222925, -33.50556493591311], [19.098392233890817, -33.5057566563457], [19.097937400262683, -33.50600639188611], [19.09733098640115, -33.50632292734425], [19.0963499312084, -33.506322935142514], [19.09536452404258, -33.50626056536378], [19.09491413846671, -33.506135655804826], [19.094004478950474, -33.505694270820875], [19.09362548495057, -33.5053775987017], [19.093094821336077, -33.50512345308815], [19.092644438109655, -33.50487380154058], [19.091962196853977, -33.504681996745646], [19.091128378121454, -33.504682037595245], [19.09037474959903, -33.50493620799805], [19.08954093391266, -33.504936154130554], [19.089086109538254, -33.50481134307027], [19.08847961730629, -33.50461963110301], [19.087953495505996, -33.504619620821806], [19.087347004856486, -33.50474445980766], [19.087119593759056, -33.505185908122165], [19.08658902880212, -33.50544009328322], [19.08620995056132, -33.50588148950276], [19.086664771921765, -33.506135650851135], [19.087422838818945, -33.50613568662883], [19.08810507294549, -33.50613569355187]], [[19.04586845942243, -33.32371832988254], [19.046171675417565, -33.323214407090575], [19.0469253173027, -33.32289780748135], [19.046791531938947, -33.32279081087579], [19.047830523780295, -33.32279081050902], [19.048285304592316, -33.32275965047673], [19.048548431884715, -33.32248761906744], [19.049021081833413, -33.322318166407975], [19.049417905020704, -33.32234939798367], [19.050229511626164, -33.322318182161986], [19.050269602202484, -33.32283542368578], [19.050363298066326, -33.323406201062845], [19.05087159621788, -33.32358012330588], [19.05132647096814, -33.323718294147234], [19.051968557206557, -33.32444515349481], [19.05285590582877, -33.3232768624314], [19.05397962942132, -33.324507604127646], [19.054318497652183, -33.325573289667126], [19.055254921855543, -33.326567720831235], [19.055339639140346, -33.325716020023435], [19.05517020458748, -33.32486427214842], [19.05508548733618, -33.324155323466044], [19.055424356441907, -33.32422665133636], [19.05627153037869, -33.32394127875549], [19.05661493562278, -33.323798559608576], [19.057377394208377, -33.32351316646176], [19.057716355830312, -33.32365591073372], [19.05763163807577, -33.32444072224409], [19.057207958849947, -33.325149687368054], [19.05754682963375, -33.32600136213895], [19.057974953704928, -33.326425023657265], [19.05814438936639, -33.327138491859856], [19.05814438936639, -33.32791883162208], [19.05890694137568, -33.328699152876645], [19.059334976099695, -33.329198527214096], [19.060351684999322, -33.32905582636628], [19.060351684999322, -33.32848510168182], [19.060182157761517, -33.32813279799721], [19.059673848563747, -33.32741939452483], [19.059419694190623, -33.327138413053454], [19.059419694190623, -33.32663902791486], [19.059419694190623, -33.3260727415872], [19.059504412298278, -33.325573278240704], [19.059928003087382, -33.32507838788192], [19.060182157761517, -33.32457893935305], [19.060351684999322, -33.32415527364811], [19.060779721164128, -33.32365587719484], [19.060436403290932, -33.322590180217496], [19.060182157761517, -33.32138618975574], [19.060182157761517, -33.320177827953465], [19.059758566721573, -33.31882667774535], [19.055464447504804, -33.31898719468465], [19.05357382236923, -33.31949111068203], [19.052289555335555, -33.31734623529447], [19.051683114879317, -33.31683797453828], [19.05085372776798, -33.31601746891653], [19.050398944223215, -33.31545116004083], [19.050024342265008, -33.3150096661055], [19.050247289347325, -33.314501349714874], [19.050024342265008, -33.31412681419134], [19.049417905020707, -33.31393507359916], [19.04889174022958, -33.31418923949395], [19.04609593942493, -33.318670633503224], [19.04602011274396, -33.319174511142855], [19.045565243642688, -33.319678390734765], [19.044735868407592, -33.31980766517697], [19.04496325710485, -33.32258572312061], [19.044887521326647, -33.32353100637483], [19.04586845942243, -33.32371832988254]], [[19.112063861295766, -33.571376819507854], [19.11211738351183, -33.57149718439461], [19.11245176143679, -33.57163539476343], [19.112545470759947, -33.57165325710355], [19.112951242339108, -33.57171565317327], [19.11326784059038, -33.57172902372795], [19.113468504127603, -33.571898533010774], [19.11356212295215, -33.572161556644524], [19.11370926420709, -33.57242467105847], [19.113709264207085, -33.572607461600164], [19.113637870756012, -33.572701124921466], [19.11367361283807, -33.57287055748783], [19.113802883083025, -33.57307128789821], [19.113802883083025, -33.57322734157105], [19.113932244082086, -33.57339679631012], [19.114230971976745, -33.57333437146076], [19.114378113456066, -33.573240705752035], [19.114730364189363, -33.57316487969129], [19.114971215677645, -33.5732719430876], [19.115060389727375, -33.57337895881337], [19.11524762807591, -33.57334774328408], [19.115412641008405, -33.57333430804136], [19.115506260247834, -33.573209455093405], [19.11554191176577, -33.57305790991794], [19.115376989500966, -33.57299540200426], [19.11524762807591, -33.572919646945635], [19.115100486304982, -33.572826000493166], [19.115136137789953, -33.57262534342924], [19.11526549918215, -33.57245587183696], [19.115394769896167, -33.572393439340686], [19.115506260247834, -33.57217943721929], [19.115506260247834, -33.57208582112323], [19.115506260247834, -33.57189850639581], [19.115506260247834, -33.57177807196607], [19.115376989500966, -33.57174688818536], [19.11524762807591, -33.571684458301235], [19.11521197658188, -33.57162203646347], [19.115154008891658, -33.57154623159701], [19.11517187999408, -33.57148381852632], [19.11508261520546, -33.5713589632691], [19.115006867152122, -33.5713589658507], [19.11489537692734, -33.57137676854155], [19.114801757818242, -33.57122068931779], [19.114801757818242, -33.57118951098737], [19.114801757818242, -33.57109589367105], [19.11476601564426, -33.57092645891505], [19.11463674511547, -33.57088186416731], [19.11450747462477, -33.570819417650135], [19.114413764882343, -33.57075696907875], [19.11424884304158, -33.57058751101866], [19.114190875478606, -33.57051170425229], [19.114137353009433, -33.57037348839473], [19.11410161088958, -33.570279900626346], [19.114025863005626, -33.57018620138597], [19.113914373030156, -33.57014164519821], [19.11382075413042, -33.57012376891062], [19.113637870756012, -33.57007917644467], [19.1135442519153, -33.57004797273277], [19.113414981746583, -33.569985523560895], [19.113080512371113, -33.57003456511614], [19.112804010622778, -33.57006579507536], [19.112768359327365, -33.57023527922337], [19.11256325104037, -33.570373491311884], [19.11234027186157, -33.57032443899286], [19.11211738351183, -33.57024863499856], [19.111876533590998, -33.5702352588483], [19.111747263914058, -33.57029324555469], [19.111693741743196, -33.57052514357595], [19.111693741743196, -33.57071238154733], [19.111898849623294, -33.570944285960934], [19.11195237181921, -33.57111368203808], [19.112063861295766, -33.571376819507854]], [[19.14377700554535, -33.417252441824125], [19.14418271512854, -33.41814871697238], [19.143812659346718, -33.41892014419146], [19.14410696208116, -33.41975847000689], [19.144775766677725, -33.42049862935157], [19.145257411848895, -33.42114523788383], [19.145663213506957, -33.421827420704155], [19.145627468834505, -33.42293776151512], [19.145070070050448, -33.423495133992404], [19.145257411848895, -33.42414617975039], [19.14588611880078, -33.42485520147956], [19.14655057138606, -33.42590753668621], [19.146884975397747, -33.4268350151162], [19.147625183110446, -33.42794532117913], [19.148218239253634, -33.428038956137684], [19.148846950392876, -33.42840910897416], [19.14925720076683, -33.42899766058955], [19.14888714075999, -33.42964422667794], [19.148846950392873, -33.43017041544809], [19.149257200766836, -33.43072781699666], [19.14910560223208, -33.431374421390316], [19.148699797431867, -33.43177569698735], [19.147183725586224, -33.432208257688416], [19.148182585098777, -33.432489150742306], [19.1494043539122, -33.43211460320967], [19.150697525507894, -33.43180689472485], [19.152070900717547, -33.432395565725976], [19.154362862710013, -33.432609594028], [19.15599490505337, -33.43220825054361], [19.156436371310438, -33.43168207570065], [19.156512126456, -33.4313744362037], [19.156512126456, -33.430973051026726], [19.156476471637387, -33.43054053972641], [19.156066214616484, -33.43020162848402], [19.15628921584289, -33.429581840812126], [19.156659281997058, -33.42955065836825], [19.15706953956314, -33.42946140894061], [19.15680643758664, -33.429367767657354], [19.156476471637387, -33.428997659680135], [19.156142060423864, -33.428779162664085], [19.1558477497314, -33.42862312172986], [19.15510308285383, -33.4284403217859], [19.15510308285383, -33.42794534734785], [19.154585863084858, -33.42717390520878], [19.1542157079265, -33.42720517433477], [19.153475489255847, -33.42664774935544], [19.15281111705528, -33.42646050206264], [19.152552463063444, -33.426027901612166], [19.152400863406704, -33.425412547437446], [19.152400863406708, -33.42507365442555], [19.153105425743497, -33.42463667680777], [19.15284677158083, -33.42405257761273], [19.15255246306344, -33.42365127629996], [19.151995055602754, -33.42333909867419], [19.151330685609793, -33.422072672063514], [19.150661780430838, -33.42148855062112], [19.150514626869736, -33.42111398541201], [19.150291719256085, -33.420837516297425], [19.149921567665583, -33.4206502905881], [19.149845813640276, -33.420373805343885], [19.1495871613708, -33.420280155885365], [19.149069948006098, -33.420248951447554], [19.148958449185514, -33.41997248493484], [19.149069948006098, -33.41960234210171], [19.149069948006098, -33.41907617079933], [19.147219379660992, -33.41718996793133], [19.144958662955464, -33.41425591028044], [19.144071308256155, -33.414099842651474], [19.143518356807366, -33.41443869859186], [19.143183864608208, -33.41493366798193], [19.143478166925796, -33.41574081201972], [19.14377700554535, -33.41669502264216], [19.14377700554535, -33.417252441824125]], [[19.043166282002282, -33.42336584426781], [19.043242108176035, -33.423807329987355], [19.043317843662095, -33.42421751110529], [19.043277753738455, -33.42449847045009], [19.043166282002282, -33.42465897979243], [19.04324210817604, -33.42487745319516], [19.043545322304674, -33.42531894308667], [19.043656794139938, -33.425635513014065], [19.043960008563413, -33.426076996593714], [19.044263223202435, -33.42658531076858], [19.044602083730087, -33.42696434863444], [19.044869653127044, -33.42727649114202], [19.045172868412575, -33.42756187717317], [19.045319986406184, -33.42772238167364], [19.04569902862215, -33.4277848456594], [19.045926417832614, -33.42778484963788], [19.046269814771733, -33.42778481716132], [19.047063547105626, -33.42806576185132], [19.047402409856396, -33.42819508340482], [19.047968753876177, -33.428319937748505], [19.048463715944553, -33.4284135153075], [19.04880257980597, -33.428382301688345], [19.04918162511281, -33.42816382480628], [19.049560580053292, -33.42806575784836], [19.049444662254594, -33.427847239466736], [19.049368925681662, -33.42759308682356], [19.049484843459815, -33.427312134147186], [19.049484843459815, -33.42699552319152], [19.04940901617728, -33.42667899951226], [19.048878406980922, -33.42648724569335], [19.04812031724137, -33.426268719509515], [19.047402409856396, -33.42607701890377], [19.046644413438184, -33.42598331458543], [19.046229633868908, -33.425920918708165], [19.046042425378346, -33.425604344558685], [19.04641693314343, -33.42569793930962], [19.047023366128116, -33.42573362334337], [19.047781453921065, -33.42585846204228], [19.048387888843195, -33.425889687072534], [19.04891405301398, -33.42585849370708], [19.04895414346693, -33.42560432512913], [19.048838225832704, -33.42513164752774], [19.048762489367242, -33.42469016785299], [19.048762489367242, -33.42431116281654], [19.04842353483534, -33.424025764620055], [19.048160498322073, -33.4237091938591], [19.04751388269908, -33.423584374083305], [19.047063547105626, -33.42345946536394], [19.04664441343818, -33.42317409029858], [19.04679597633341, -33.423080479000966], [19.04736676394946, -33.423111689083896], [19.04796875387618, -33.42323650759857], [19.048387888843195, -33.42323656713424], [19.04857518906416, -33.4232365047148], [19.048650925496435, -33.42298680799616], [19.048535007944466, -33.422919911787105], [19.048084671274523, -33.422763854399676], [19.04736676394946, -33.422670207331564], [19.047175019859864, -33.42260776216934], [19.046720149528113, -33.422607846788324], [19.046568586659795, -33.42250968398261], [19.046381287318756, -33.42226003110125], [19.046078071174733, -33.42197462827619], [19.046002244496933, -33.421849773871735], [19.04581494540437, -33.42165805402344], [19.045587556253295, -33.42143948274451], [19.045284340673113, -33.421341400686465], [19.044945479603612, -33.421689230393895], [19.044223042488564, -33.42188101602367], [19.043656794139938, -33.4219434290284], [19.043201927558357, -33.42219757938869], [19.042787242036823, -33.4222912378314], [19.04275159651542, -33.422540921974196], [19.04297898415479, -33.4227014794659], [19.043090455841998, -33.42301806034453], [19.043166282002282, -33.42336584426781]], [[19.11604139618673, -33.50897615962961], [19.116081492853965, -33.50922140531431], [19.116081492853965, -33.50949782475908], [19.11615279598617, -33.50974755653926], [19.116192983380053, -33.50999278553082], [19.116487267703707, -33.51030045021858], [19.11667459737747, -33.51045651278166], [19.11700453366064, -33.51067501740121], [19.11708037277535, -33.51088911894464], [19.1171917728384, -33.511013913889116], [19.117414754482702, -33.51107637228175], [19.117597548714116, -33.51101395040269], [19.11800786080687, -33.5107642593496], [19.118413637436422, -33.51061258678171], [19.11885951136154, -33.51045657239254], [19.11893081494473, -33.51042535650348], [19.119523923315256, -33.510456570854565], [19.119894049470503, -33.51045652613908], [19.120375576807476, -33.51036289067545], [19.120558462987713, -33.51042532060644], [19.120821543439906, -33.51061258122791], [19.120857195389156, -33.510675047580285], [19.121410118483453, -33.51082666790326], [19.12167319944499, -33.51085785802429], [19.122003139480153, -33.51113437120257], [19.122226123564815, -33.511384079633295], [19.122596251993837, -33.5114776955027], [19.12281923637901, -33.511754152380846], [19.12300203285713, -33.51206179793843], [19.123265114770287, -33.51228032394161], [19.123447911433544, -33.51246318171977], [19.123670896250097, -33.51273963207998], [19.12392953337769, -33.51302051402351], [19.12411677550383, -33.513203399404446], [19.124335315469743, -33.51360467848477], [19.12452255776839, -33.5138543971077], [19.124705354953583, -33.513943578852334], [19.124781195396114, -33.51379195678671], [19.124705354953587, -33.51360470809127], [19.12459839817944, -33.51332818044986], [19.124522557768394, -33.51317212620216], [19.1244110651304, -33.5130830018763], [19.124188170657185, -33.51298935358386], [19.12411677550383, -33.512802051138344], [19.124041025893785, -33.512619229567704], [19.124005282968547, -33.512556781151126], [19.123853693081816, -33.5124631904905], [19.12370654843017, -33.51228032249945], [19.123447911433544, -33.51209302556468], [19.123412259274406, -33.511999365635056], [19.123265114770287, -33.511816577839625], [19.123189274588853, -33.51156684730524], [19.123189274588853, -33.51132163810621], [19.123077782288423, -33.511165588967], [19.122631904086887, -33.51104513032312], [19.122413455684228, -33.510857832437644], [19.12207897945721, -33.51076420385409], [19.121855995447106, -33.51055021699414], [19.121708851463264, -33.51045656820287], [19.121410118483453, -33.510300517339765], [19.121262974648737, -33.51021131230858], [19.121115830863236, -33.51008646473765], [19.120933035168672, -33.50999282381049], [19.120745703679614, -33.50977873887686], [19.1207100517394, -33.50968515673049], [19.120558462987713, -33.509560275626455], [19.120451416503943, -33.50956023697508], [19.120005540964122, -33.509560270073415], [19.119711163566606, -33.509346224112726], [19.11955957515929, -33.509069797104445], [19.119412431943775, -33.50878887288704], [19.11918944928565, -33.50841871749367], [19.119078048716084, -33.50817349202514], [19.119006654391956, -33.507923775244365], [19.118783671939703, -33.50780336473429], [19.118672271472985, -33.50780335969655], [19.118484940947265, -33.50783456766547], [19.118302146346604, -33.5079237437424], [19.117856182270266, -33.507892580544336], [19.117709039625126, -33.507834646025806], [19.117709039625126, -33.50767857202964], [19.117709039625126, -33.50761609297059], [19.117744782038713, -33.50749127644993], [19.11752624534731, -33.507433290176174], [19.117303263646395, -33.50767853055368], [19.11708037277535, -33.507803407412396], [19.116968882023922, -33.50780341495068], [19.116968882023922, -33.50807983743775], [19.116968882023922, -33.50835634145777], [19.116821739676045, -33.50851234851598], [19.11671024899029, -33.508512356082], [19.11641596451717, -33.50838751169251], [19.11608149285396, -33.508173506728895], [19.115822860343073, -33.50811104843923], [19.115671273277574, -33.508293858656344], [19.115858511886728, -33.50851242143517], [19.115970002356185, -33.508695241687015], [19.11604139618673, -33.50897615962961]], [[19.08742283881895, -33.4935164103855], [19.08870702911631, -33.494082755238246], [19.088934441045442, -33.494082766090514], [19.089692511906318, -33.49421209216797], [19.09007159318846, -33.49484080022149], [19.09045058409029, -33.49534469257718], [19.09143162598063, -33.49585296608382], [19.091962196853977, -33.495536426906426], [19.092644438109655, -33.495598842475296], [19.093398070566767, -33.49572365287255], [19.093777064368552, -33.49597787962265], [19.09453514367452, -33.49591539990397], [19.09521294407167, -33.49566126745539], [19.09589509971252, -33.495723674074334], [19.096653182707026, -33.49591542851822], [19.09680476317929, -33.4962944668212], [19.096956434416786, -33.496985615062584], [19.09808898118175, -33.49698562128963], [19.098543814968075, -33.49692318617311], [19.099301902570893, -33.497177320577364], [19.10013129201329, -33.49768124059647], [19.101268382694226, -33.498185092850605], [19.10187035706965, -33.4986265185363], [19.102249358240066, -33.498688945636175], [19.102855778939873, -33.49894317475013], [19.103159034962495, -33.498943162948464], [19.10436743474363, -33.49976359389157], [19.105352862247567, -33.50077135578463], [19.10610651666994, -33.501591868253165], [19.106864526689222, -33.502474730309], [19.107622538022266, -33.503799161132335], [19.10815321930873, -33.50487373885694], [19.10845194326301, -33.506198089474005], [19.10875520316765, -33.50632293395989], [19.10921004806107, -33.506322924057486], [19.109664802711965, -33.50594391823805], [19.109816478415713, -33.50556492225392], [19.10974064055727, -33.50487373755598], [19.109816478415713, -33.504303000782215], [19.10989222557212, -33.50379912206554], [19.11004390135464, -33.50335763533581], [19.110271324411677, -33.50285376706399], [19.11004390135464, -33.50253719340879], [19.10951321777586, -33.502033281978996], [19.10966480271196, -33.50146699736153], [19.109513217775852, -33.501212827163876], [19.11004390135464, -33.50052170560545], [19.1106458878133, -33.50014266900539], [19.110797473141478, -33.49950944377469], [19.111176482049114, -33.49875144516825], [19.111479743840604, -33.49806026936688], [19.11163132945729, -33.49736462790108], [19.11163132945729, -33.496669033729034], [19.111403905694182, -33.495853028880234], [19.110949058522106, -33.49547398264354], [19.110271324411677, -33.49490324001414], [19.109968063456808, -33.49433691249754], [19.10943747068501, -33.49395790614825], [19.108603618546514, -33.49345401818006], [19.107925797352106, -33.493075005515884], [19.10701611070783, -33.49295014583173], [19.106258100425798, -33.492695957114265], [19.10535286224757, -33.49275842258973], [19.105125441747255, -33.49319984113183], [19.10512544174725, -33.49370816957469], [19.105201278805605, -33.49414965471636], [19.105504536456348, -33.49484074251041], [19.10542869934537, -33.49541153837992], [19.105277115877115, -33.495473987288], [19.10436743474363, -33.49547401212597], [19.103159034962495, -33.49509491253676], [19.102855778939876, -33.49541157222791], [19.10247677724298, -33.49572367261711], [19.102249358240066, -33.49604026299236], [19.10187035706965, -33.49648170482248], [19.10073770976988, -33.496798321988535], [19.099979710384147, -33.496606591585284], [19.099226066537412, -33.49616510184277], [19.098771232039216, -33.49572365680722], [19.098922903961146, -33.495282217977824], [19.098922903961146, -33.49471592152106], [19.098771232039216, -33.494212076947335], [19.09808898118175, -33.49377062684602], [19.097255150710613, -33.49395791443034], [19.096956434416782, -33.49414959863092], [19.0963499312084, -33.49452420029946], [19.095667684142743, -33.49439931427509], [19.09491413846671, -33.49408274031997], [19.09415605850049, -33.49370817396573], [19.093549649905498, -33.49332911548281], [19.092943242155837, -33.49319986367974], [19.092189610486926, -33.4930749564628], [19.091507369944978, -33.49301252918479], [19.09105254351191, -33.49275841906046], [19.090526418594777, -33.49250866251831], [19.089844180663878, -33.492379361792345], [19.08916194380452, -33.4919379041086], [19.08847961730629, -33.49187546604573], [19.08810507294549, -33.491875498463926], [19.087650250075296, -33.492446253289664], [19.08628578432502, -33.492633561413754], [19.08560799785469, -33.49275836725247], [19.08560799785469, -33.493329151570116], [19.085986984859183, -33.49345398717922], [19.086740605764984, -33.49326226370361], [19.08742283881895, -33.4935164103855]], [[19.104915892049167, -33.33759061926944], [19.105138867445618, -33.33797853006419], [19.106806560103532, -33.337389951023454], [19.109156526200255, -33.33655609670586], [19.111805231153944, -33.33567318704567], [19.112804010622778, -33.33531645442207], [19.11319200213459, -33.33503998843143], [19.11333914326534, -33.334732324252094], [19.113860850594715, -33.33452718830597], [19.114525254984745, -33.334250691451935], [19.11495334458339, -33.33406341539958], [19.115470608732785, -33.33388058530615], [19.115804989214144, -33.33366211984404], [19.11617511223605, -33.33359967819287], [19.11674590060601, -33.3338494253024], [19.11717399237041, -33.333911841349234], [19.11759754871412, -33.333911810184276], [19.117949892747518, -33.333849388035404], [19.118137132328258, -33.33380037610672], [19.118172784059787, -33.333648742125], [19.118172784059787, -33.333430213730594], [19.117985544463867, -33.333323204262435], [19.117615419916014, -33.33326080155117], [19.117133804886752, -33.333292006263974], [19.11658088717233, -33.33313598112798], [19.11667459737747, -33.3328415968951], [19.11676377177325, -33.33272127463653], [19.116857391300815, -33.33253394319672], [19.116763771773247, -33.3323645317353], [19.116545235570012, -33.33228426809098], [19.116228634953767, -33.33208362281423], [19.116023525048902, -33.3318205388389], [19.11552413136461, -33.33149946445691], [19.115283279572836, -33.331156133266596], [19.115154008891658, -33.33087965694101], [19.11508261520546, -33.330647739129795], [19.11508261520546, -33.33030442851756], [19.11487750583617, -33.32998336009674], [19.11471258382107, -33.329858519235884], [19.11452525498474, -33.32950179658234], [19.114578777501244, -33.32919408632192], [19.114360242385967, -33.328881992666275], [19.114173004416145, -33.32866792150979], [19.1137493606612, -33.328529725498164], [19.113508600559697, -33.32837364816822], [19.11309838338906, -33.328204200408514], [19.112674740672304, -33.328034741722696], [19.112433981160887, -33.32778497374129], [19.112211002047854, -33.3275085416733], [19.111934500847983, -33.327553185827774], [19.1117650441621, -33.32764677804524], [19.111395015577394, -33.32769137136127], [19.11087775623599, -33.327365831486226], [19.110619126794322, -33.32730792186668], [19.11045411566598, -33.32742826829821], [19.11052541788314, -33.32775382109994], [19.111136385830356, -33.32896222415852], [19.111658090538096, -33.33012154942239], [19.112063861295766, -33.330986662406055], [19.112304620603872, -33.331731306122535], [19.11254547075994, -33.33256515627566], [19.11272826296296, -33.3334480647772], [19.112545470759944, -33.33391182040347], [19.11234027186157, -33.33431316714052], [19.111876533590998, -33.33458964252631], [19.11143511181982, -33.33475907263164], [19.110859885308596, -33.33494632362078], [19.110083997473392, -33.335178191958946], [19.10984323938564, -33.33491508072387], [19.109562294640508, -33.33415705142681], [19.109268014965167, -33.33333656359485], [19.10886224679769, -33.33256513701707], [19.108692791300523, -33.33200780645533], [19.108822060075884, -33.331588594750066], [19.108674920462303, -33.33138801388792], [19.10845194326301, -33.33140583073826], [19.108081826763147, -33.33134338639703], [19.107899036499408, -33.331156060495], [19.107751897196188, -33.331124867871644], [19.107488824582564, -33.33112489606105], [19.107176675524506, -33.331124894118986], [19.107029536464253, -33.33114268704654], [19.106766464285062, -33.33120514260567], [19.10639634921124, -33.33128099233457], [19.106195688914926, -33.33146819342376], [19.10604855018474, -33.33152623011197], [19.105843354331732, -33.33131219642234], [19.105678435718623, -33.33101786350477], [19.1053439722537, -33.3311249041436], [19.105268135170594, -33.33129431623281], [19.105138867445618, -33.331637658563515], [19.1052147045063, -33.33190079880572], [19.105415364352336, -33.33219505389006], [19.105508981454882, -33.33244035517802], [19.105620469290177, -33.332703430719725], [19.105656120003477, -33.33301105807846], [19.105455460046905, -33.33318497900396], [19.10532610155231, -33.33335440543063], [19.105268135170594, -33.33346143065156], [19.105308321565865, -33.333599688407], [19.105584727865512, -33.33381822584585], [19.10582557432424, -33.33442019835838], [19.106195688914926, -33.33491509959126], [19.10648996652385, -33.33531641819383], [19.106806560103532, -33.335780156466264], [19.1069715698567, -33.33609234939495], [19.106989349910776, -33.336324216912516], [19.106601454609287, -33.336306332381284], [19.10624921041353, -33.33630636131468], [19.105807703603165, -33.336074508600426], [19.105361842955823, -33.3359987106073], [19.105196833810194, -33.33624389904846], [19.105103216774513, -33.33656943470539], [19.104880241396252, -33.336770073163756], [19.104750883071908, -33.336819178239814], [19.104603744828083, -33.33694400997878], [19.104456606633804, -33.33695743103653], [19.104287152843828, -33.33714469132509], [19.104287152843828, -33.33742111403349], [19.104416511030887, -33.337559369507986], [19.10454577854218, -33.33763966629073], [19.104915892049167, -33.33759061926944]], [[19.08640171204206, -33.45009817492164], [19.086629122763206, -33.450668932664136], [19.086553288939474, -33.45129766474066], [19.086553288939474, -33.45167667306115], [19.086553288939474, -33.451930882123264], [19.08647754583929, -33.45237227277412], [19.086629122763206, -33.452497165630504], [19.086856533603566, -33.452688903698395], [19.087008110659895, -33.45313035773433], [19.087083944563126, -33.45331763286942], [19.086856533603566, -33.45363422424386], [19.086553288939474, -33.45395085691861], [19.086401712042058, -33.454267404096456], [19.08640171204206, -33.45464648352183], [19.08693236748031, -33.45489613227117], [19.08730691082906, -33.455150359499356], [19.087761733339434, -33.45540004381297], [19.08814072222529, -33.45540001875988], [19.08844396799865, -33.45546690743513], [19.088671379789993, -33.4554000685695], [19.088823048190918, -33.45533762490234], [19.089202038003286, -33.45533759592503], [19.089728161316465, -33.4552751836863], [19.08987983008647, -33.45540005009742], [19.09033465529202, -33.45552937574799], [19.09033465529202, -33.45584592529743], [19.090258820820996, -33.456095635059754], [19.08987983008647, -33.45609566918613], [19.089728161316465, -33.456287435342816], [19.089728161316465, -33.456853728289026], [19.089955664491335, -33.45723273786661], [19.090258820821, -33.45741997269872], [19.09033465529202, -33.45773663474848], [19.090334655292015, -33.458053177158455], [19.090107242629724, -33.458240442563465], [19.089879830086467, -33.4583698025227], [19.08995566449133, -33.458811249459266], [19.09010724262972, -33.4593775310668], [19.09033465529202, -33.45988140987509], [19.090637902597297, -33.46013558461326], [19.0906379025973, -33.46038976755755], [19.090941059403, -33.4605770723142], [19.091168472501703, -33.460768774112864], [19.091395885719407, -33.460893676114836], [19.091471720388856, -33.46114336047383], [19.091471720388856, -33.46139753995296], [19.091244307131475, -33.46158925144717], [19.091016893993093, -33.46183894739128], [19.090713646423314, -33.46203070559764], [19.090486233562643, -33.46215553498227], [19.09033465529202, -33.46247214393531], [19.090410489776268, -33.46265947571861], [19.09048623356264, -33.46316334709813], [19.090941059403, -33.462784294464946], [19.091471720388856, -33.462721881777355], [19.09207368122479, -33.46265948070183], [19.09260434359328, -33.46221802324289], [19.093059171649795, -33.46171409780827], [19.093964384308734, -33.46108088261816], [19.094494958271916, -33.46032290035472], [19.095025623594047, -33.45975656278335], [19.09532887417035, -33.45950236002895], [19.096158256050607, -33.45937753536156], [19.096840503884806, -33.459252662115176], [19.09676466827964, -33.458681920460094], [19.096537252255757, -33.458053194568485], [19.09684050388481, -33.457674201068684], [19.096537252255757, -33.45717030520695], [19.096158256050607, -33.45634981863099], [19.096461416703395, -33.45622049322848], [19.09684050388481, -33.45609563219315], [19.096992084422265, -33.45597075773057], [19.096992084422265, -33.45552934663878], [19.097143665012464, -33.455275153132106], [19.097598497812104, -33.45521277124943], [19.098655301024422, -33.45515031455027], [19.098958554127485, -33.455400025783604], [19.099564970253404, -33.455779035278795], [19.100398805142614, -33.45609562306338], [19.101455615141557, -33.456287399305474], [19.102289453644023, -33.456287433631836], [19.10289142942757, -33.45634984809488], [19.104180110333726, -33.456474675120745], [19.104634950468753, -33.456474694330474], [19.105464350043036, -33.45647466844858], [19.10576760787629, -33.456599565011146], [19.106828875877397, -33.4567288783695], [19.106980459883648, -33.456220505837855], [19.107355020469075, -33.455529334210894], [19.10788570143105, -33.45508788800526], [19.108795299168378, -33.454267388067045], [19.109022721576842, -33.45369667745347], [19.109174306343117, -33.45313038860421], [19.108567876878084, -33.452559602536724], [19.10826470781807, -33.452876178869936], [19.10773402639639, -33.45306789556672], [19.106904622516677, -33.45293861240968], [19.10667729192368, -33.45325521016907], [19.10622244966341, -33.45350937936686], [19.10554018716019, -33.453446918111254], [19.10531276656241, -33.4527513130643], [19.10569177071968, -33.45205570903907], [19.10576760787629, -33.45173911056962], [19.10569177071968, -33.45111036204265], [19.105085346082966, -33.4509186781724], [19.104634950468753, -33.45073137518685], [19.104255947228005, -33.45104792070751], [19.103952781157712, -33.451489364697665], [19.103649524583936, -33.451489403738705], [19.10319468547495, -33.45142693471106], [19.10319468547495, -33.45091862949147], [19.103118848764925, -33.45066893653066], [19.10259270927331, -33.45047721319031], [19.10228945364402, -33.450352372557525], [19.101910452438787, -33.45066891281557], [19.101683033730925, -33.45098552527778], [19.10107661466043, -33.45111036477112], [19.10032305963156, -33.45079381486799], [19.10009564175107, -33.45041471695722], [19.09986822398915, -33.45016502276813], [19.099564970253404, -33.44991084739908], [19.099261807441504, -33.449785980226494], [19.098882718153725, -33.44984849172965], [19.098731136958627, -33.44991085148696], [19.098352138845094, -33.44997326440426], [19.097901750179865, -33.45009819773686], [19.09706792006702, -33.45009818859293], [19.096385671876593, -33.449848416722915], [19.096385671876593, -33.44959429461481], [19.096385671876593, -33.449152853702735], [19.096688832687686, -33.44845720445337], [19.096461416703395, -33.448457252134254], [19.096086865466788, -33.44833236946524], [19.095935285244384, -33.448519605726396], [19.095859449796848, -33.448711421369694], [19.095480454181626, -33.44883626296579], [19.09517720349974, -33.44896551877961], [19.09487404374115, -33.44896551373143], [19.094798208478487, -33.44889867252558], [19.09419179898856, -33.44851966598896], [19.09381715899303, -33.44789089659126], [19.09381715899303, -33.44751188461803], [19.09381715899303, -33.44707042978829], [19.093362330143897, -33.4466914108522], [19.092755922655396, -33.446566596238554], [19.092225260101916, -33.44643721662653], [19.091770432917688, -33.446628980325436], [19.091395885719407, -33.44675384187521], [19.09056206807335, -33.44662896483831], [19.090183077074276, -33.44649965208279], [19.08987983008647, -33.44631239728982], [19.08995566449133, -33.445870887767626], [19.090031408198392, -33.445429473282125], [19.089576583310357, -33.445304645270554], [19.089429450191652, -33.44567916247805], [19.089277872289806, -33.445933371237246], [19.088595636320132, -33.445995816381604], [19.087913310711947, -33.44587094084941], [19.08798914477336, -33.44542950987214], [19.08806497884802, -33.4451128830007], [19.08798914477336, -33.44485869837889], [19.087685899317755, -33.4447338746221], [19.08730691082906, -33.44460899268009], [19.086856533603566, -33.444671434358426], [19.086629122763206, -33.44498804560201], [19.086629122763206, -33.445367078226106], [19.086704956600197, -33.44567917697204], [19.086780699740082, -33.446058263628615], [19.086856533603566, -33.44643725171717], [19.086856533603566, -33.44675383506128], [19.086780699740082, -33.44707045773883], [19.08640171204206, -33.44744948994419], [19.086250135197613, -33.44782849700067], [19.08647754583929, -33.448207494951795], [19.08647754583929, -33.44845718231934], [19.085871057253, -33.44883624896879], [19.085871057253, -33.44927770985412], [19.08571948059401, -33.44959426914131], [19.086098467695923, -33.44971914398216], [19.08617430144014, -33.449719103341], [19.08640171204206, -33.45009817492164]], [[19.080096577341745, -33.33335000456251], [19.08031954001221, -33.33327418410375], [19.08048898446187, -33.33331878243414], [19.080613800116048, -33.333416901782535], [19.080810003866134, -33.3334881782911], [19.080948244564542, -33.33346589449355], [19.08119796688297, -33.33326524291099], [19.08131833799021, -33.333234002561674], [19.081541301290073, -33.33327859458161], [19.081701856707298, -33.333287570801815], [19.081840097690524, -33.33317604710689], [19.08192482020467, -33.333171581556115], [19.08205852579071, -33.333274142720605], [19.08222797092106, -33.33337671812363], [19.082326118505478, -33.33355065874306], [19.082419730639998, -33.333635338695764], [19.082598065440614, -33.33368891268574], [19.08291473235043, -33.333653215684706], [19.083168900573288, -33.33365763033999], [19.083320476340337, -33.333706710703666], [19.083467607386964, -33.333568453976156], [19.08357464480123, -33.33342576098862], [19.083628163518288, -33.333332146142034], [19.083632608293385, -33.33314933494286], [19.083601404158934, -33.332997670522694], [19.08355233021946, -33.3328594834598], [19.08357908957579, -33.33274801497709], [19.083619273968214, -33.33262311489291], [19.083815479080013, -33.332605312186615], [19.083922425870465, -33.332623130122485], [19.084069647831278, -33.33257409620055], [19.084207798860323, -33.33258299866863], [19.084332706296127, -33.33264992290214], [19.084453078274493, -33.33260977193504], [19.08454224608409, -33.33250274118348], [19.08463141391203, -33.332337729974036], [19.08472067246824, -33.33216833290601], [19.084747431896705, -33.33200333711285], [19.084689377545534, -33.33193197952029], [19.08455567114756, -33.33187849407875], [19.084417429297766, -33.3318294402019], [19.084439743924072, -33.33174919300598], [19.084586875350716, -33.3316733681599], [19.084698357827474, -33.33155297756459], [19.084796415261554, -33.33140585252477], [19.08494354680926, -33.33132111975605], [19.085095213907007, -33.331285399616206], [19.085344938615957, -33.33130767230431], [19.08544744099001, -33.33131217436895], [19.085572348782993, -33.33127204418225], [19.08577744437297, -33.33133893156958], [19.085906797059423, -33.331347828021315], [19.08605837378388, -33.33129430614772], [19.08616985663898, -33.33128096822098], [19.086294673929775, -33.33141471087378], [19.08648199064361, -33.33148607020499], [19.086620233151606, -33.33150839908391], [19.086638012374987, -33.33158862768623], [19.0864596759122, -33.33164656616844], [19.086486435447974, -33.331740213748915], [19.086553288939474, -33.33181602796708], [19.08650430537617, -33.331958738997905], [19.086629122763206, -33.33213264519575], [19.086642547891273, -33.33225752411956], [19.086580048481025, -33.33244032014388], [19.08659347360758, -33.33253394074863], [19.08667819705094, -33.3326989569797], [19.08681643962146, -33.332730191880174], [19.0869233871521, -33.33269893397656], [19.08702153579969, -33.332627589084794], [19.08717311291366, -33.33255625117069], [19.087338115230178, -33.332480470991165], [19.08764580525902, -33.3324849504953], [19.08777062297442, -33.3325740696636], [19.0880694236686, -33.33258746518389], [19.088292390440827, -33.33256960889617], [19.08847961730629, -33.332565182920156], [19.088698139462146, -33.33263652661352], [19.08906379467295, -33.33270337967025], [19.089268891913076, -33.332698917044574], [19.08947407996099, -33.332623099801], [19.08959445336578, -33.33258747954618], [19.08972816131646, -33.332600874212346], [19.089790661179983, -33.33263209817972], [19.089830755436786, -33.33272123216246], [19.0898530703415, -33.332841644301936], [19.089946684100585, -33.33289514061257], [19.089960109331265, -33.33299321261064], [19.08991103467251, -33.33322063625563], [19.089955664491328, -33.33327861630874], [19.08995566449133, -33.33328306985461], [19.089951128940424, -33.33331430554046], [19.09001362883603, -33.33330981812273], [19.090147336915738, -33.33337673666869], [19.090258820820996, -33.333341043606964], [19.09031234036257, -33.33330095258276], [19.090526418594777, -33.33349266482209], [19.090490678408, -33.333586342128584], [19.090423824310164, -33.33362640767068], [19.09047289902684, -33.33364871242554], [19.09044169440043, -33.33374241118041], [19.090633367039274, -33.333867250653306], [19.090700311880525, -33.33387170569463], [19.090718091271, -33.33391630215763], [19.09090096504373, -33.33396089133751], [19.090954484664405, -33.33404558056554], [19.09085633512781, -33.33415709161327], [19.09073596137337, -33.334165992444504], [19.090673552085025, -33.334219536944275], [19.09066910723779, -33.33422395446763], [19.09066910723779, -33.334228407958264], [19.090651237138168, -33.33423735042634], [19.090611142805642, -33.33459406201759], [19.090780591276935, -33.334772408587334], [19.09107930333075, -33.33486159769754], [19.09133347633629, -33.33479028155125], [19.091525240079807, -33.33473671698508], [19.091757098342487, -33.33470110975368], [19.09194886227289, -33.33457620680919], [19.091957751993572, -33.33453611507039], [19.091966641714432, -33.33453610440765], [19.092194055349704, -33.3345584377565], [19.092336744540187, -33.33462079027095], [19.09258647341409, -33.33456733172766], [19.092862962360048, -33.33439787158865], [19.09315278609939, -33.33413029506253], [19.093224176201915, -33.33409462062747], [19.093291030730413, -33.33396977317071], [19.09333566089627, -33.333911795598624], [19.09341140519229, -33.33373794908786], [19.093478350461307, -33.333635354167356], [19.093460480246215, -33.33362194723727], [19.093478350461307, -33.3335862835445], [19.093362330143897, -33.33349709612686], [19.09334455064529, -33.33334553438868], [19.09339362569168, -33.333234068115594], [19.093478350461307, -33.333149347748915], [19.093518445058255, -33.33299328903572], [19.093496129965388, -33.332698945558924], [19.09346492512198, -33.33260980359738], [19.093411405192292, -33.33256965019693], [19.09339362569168, -33.33251614695143], [19.093393625691675, -33.332337758610166], [19.093415850067558, -33.33224862001793], [19.09342927540537, -33.33223964123772], [19.093576409878025, -33.3322128773218], [19.093736969747766, -33.33226645234369], [19.093852899453257, -33.33220398814083], [19.093946514073664, -33.33223075931593], [19.093986608713763, -33.33212377067904], [19.093995589187955, -33.3321148384533], [19.094107074079993, -33.332105862921814], [19.094227448767658, -33.33203007362805], [19.094231893651266, -33.33194978103072], [19.094316618584138, -33.331878502643015], [19.09441467818979, -33.331780363096875], [19.094468198242897, -33.331602045599766], [19.09426754343364, -33.33149496768017], [19.094133834086804, -33.3312764675252], [19.094044573595912, -33.331040181045154], [19.09403123895098, -33.33085285818092], [19.094062443835004, -33.33066117833304], [19.09406688871692, -33.330496183804456], [19.094084758956924, -33.33040253990556], [19.094013368713174, -33.33018848320992], [19.0940089238318, -33.33000123045227], [19.093977718951614, -33.329876374578845], [19.093986608713763, -33.329800569734594], [19.093928643839337, -33.32978272969192], [19.093884104324495, -33.32972473524078], [19.09374141462636, -33.32972918403247], [19.093469369997795, -33.32969794105264], [19.09337575548006, -33.329675703869874], [19.093166211429086, -33.329528547350236], [19.092965557220342, -33.32937692569085], [19.0927782377103, -33.32929221619726], [19.09270684768097, -33.32925209576305], [19.092617678194465, -33.329127211367435], [19.09261323332736, -33.3291138143368], [19.092528508726254, -33.32892653136707], [19.09243489441104, -33.32860102840666], [19.092363504438083, -33.328391500913305], [19.092234240539735, -33.32809714557308], [19.092158405737266, -33.327954469236595], [19.092118311265708, -33.32788760071001], [19.092069236363244, -33.32783403573306], [19.09205590177887, -33.32781174137543], [19.092020161466316, -33.32778500691559], [19.091975622146915, -33.327744907162526], [19.091850712511754, -33.327655719905366], [19.091672373908217, -33.32758879547344], [19.091502925089223, -33.327490683763436], [19.091342366044383, -33.327383736087505], [19.091297826794424, -33.32720977449356], [19.09121310244968, -33.32703592907228], [19.091177452917695, -33.32681741819765], [19.091172917354037, -33.32678621982097], [19.09111050800294, -33.32657657881709], [19.09097679962683, -33.3262688989046], [19.090709201575667, -33.3261707890909], [19.09043715884446, -33.32605045529865], [19.090142892073896, -33.32601027430118], [19.089960109331262, -33.32608162543529], [19.08982631059818, -33.32604151789491], [19.089621213094812, -33.325961270306315], [19.089625657931318, -33.32580962695903], [19.08937593075887, -33.325653576737025], [19.08917527830008, -33.32563126440948], [19.089059349842188, -33.3257249027906], [19.08891666172798, -33.32585421689652], [19.088666934963257, -33.32594783066596], [19.088488597666693, -33.325831904380586], [19.088399429045886, -33.32571599890157], [19.088314705266487, -33.32548407990786], [19.0880426640352, -33.32540382230313], [19.08781525257323, -33.325381551257735], [19.087543211654985, -33.325417259480666], [19.08728904086781, -33.32543058055854], [19.086999221040525, -33.32529235561992], [19.086704956600197, -33.32517199137918], [19.086499860571625, -33.32526560485536], [19.086361618101993, -33.325283439157886], [19.086205505759796, -33.32520323744031], [19.08604948418398, -33.325069408140074], [19.085960225354224, -33.32491334419076], [19.085848833263174, -33.324891033542485], [19.085683831513144, -33.3250605113611], [19.08562133224104, -33.32492675563707], [19.085692721105556, -33.32473948374631], [19.085986984859183, -33.32474388356723], [19.08633041377111, -33.32457443813699], [19.086334858573917, -33.324462959394786], [19.08622337567642, -33.324248975720096], [19.085884482357603, -33.32420431993704], [19.085567903988, -33.32418210051634], [19.085523274620382, -33.32404830940541], [19.08548318076152, -33.32381638597859], [19.085260215433053, -33.32370044330624], [19.08487224877806, -33.323392785864854], [19.08446650333519, -33.32351768608001], [19.084216779132277, -33.32362465255688], [19.08396261029473, -33.32379410415127], [19.083775294669394, -33.323905592894896], [19.083775294669394, -33.3240393801021], [19.083770849892826, -33.32423111599286], [19.08381094359331, -33.324382702720214], [19.08390020198054, -33.32457448580113], [19.083851128007232, -33.32469041375235], [19.08389122171514, -33.324864352269586], [19.08384214774285, -33.32499364202175], [19.083686127017604, -33.32489552213296], [19.08350779176905, -33.324797398870054], [19.08328482745678, -33.3246636367051], [19.083275847204135, -33.32465920660159], [19.0830172341497, -33.324445157822105], [19.082905752105454, -33.32407057316773], [19.08309306735486, -33.32382529804257], [19.083351680454555, -33.32348646379118], [19.083351680454555, -33.323174346077586], [19.083275847204135, -33.322866599122285], [19.0830172341497, -33.322558924987824], [19.0830172341497, -33.32227806557434], [19.08309306735486, -33.322032756644184], [19.083128716222635, -33.321658223280465], [19.082981585291098, -33.32144419552689], [19.08279427008991, -33.32141298426005], [19.082571306144892, -33.32147536287667], [19.082424175402696, -33.32165825308573], [19.08194259923544, -33.32178306026416], [19.08134954196017, -33.321475361036164], [19.08142537487329, -33.32116323636656], [19.08146102360378, -33.32104283783649], [19.08146102360378, -33.320824332001706], [19.08142537487329, -33.320699499105075], [19.08131389323886, -33.3206682860587], [19.08038639255214, -33.32128811786501], [19.08005639327625, -33.321751871474305], [19.079610468321448, -33.3223716972879], [19.079053153483077, -33.32283540817941], [19.078682971286344, -33.323205562493726], [19.07764853097398, -33.323392804154594], [19.078094453905805, -33.32416426392612], [19.078647322784747, -33.32475285841365], [19.07927611561577, -33.32509175460449], [19.07949898715456, -33.32540386985313], [19.07990481865198, -33.32574277329429], [19.08005639327625, -33.326144067923416], [19.079944911994463, -33.32657657198327], [19.079757688816112, -33.32704477325318], [19.079904818651976, -33.327446108187075], [19.080127781223624, -33.32778500362562], [19.080127781223624, -33.32806147918811], [19.080051948537868, -33.32869913454977], [19.078986210440448, -33.32884179991169], [19.07847787905648, -33.32877050057654], [19.0781791756865, -33.329234206320216], [19.07745677336972, -33.32972922009169], [19.07711788691288, -33.330295472714035], [19.07656492928194, -33.33093760915163], [19.07652483625288, -33.33175358942827], [19.076609557725902, -33.332319962457895], [19.077117886912877, -33.33256966188097], [19.07758603286182, -33.33292635993629], [19.078179175686504, -33.333100231147846], [19.078477879056482, -33.333349965776144], [19.079070932395872, -33.33349266764228], [19.07949898715456, -33.333421313219425], [19.079623893232004, -33.333064561907825], [19.079922597599776, -33.33303782980717], [19.079980651311942, -33.33312700538813], [19.08001629992344, -33.33318501619569], [19.079989540787302, -33.33325631888138], [19.080096577341745, -33.33335000456251]]]]}, \"id\": \"0000000000000000119c\", \"properties\": {\"Area_ha\": 27527.3477538, \"DATE_EXTIN\": \"05/02/2024\", \"DATE_START\": \"22/01/2024\", \"DATE_WITHD\": \"05/02/2024\", \"FIREWEB\": \"FWATV24012201\", \"FIRE_CODE\": \"WATV/01/2024/23\", \"ID\": 430, \"IGNITIONCA\": \"People - Other\", \"LAND_UNIT\": \"Witzenberg Landscape Unit\", \"LOCAL_DESC\": \"Kluitjieskraal\", \"MONTH\": 1, \"POLIC_CASE\": \"OB22/04/2024\", \"REPORT_OFF\": \"Thobani Mbonane\", \"RESCODE_LU\": \"Central\", \"RES_CENTRE\": \"\", \"RES_CODE\": \"WATV\", \"RES_NAME\": \"Waterval Nature Reserve\", \"YEAR\": 2024, \"Yr_mnth\": \"2024-01\", \"area\": 275396877.66991395}}))\n",
       "            });\n",
       "        </script>\n",
       "    "
      ],
      "text/plain": [
       "<IPython.core.display.HTML object>"
      ]
     },
     "metadata": {},
     "output_type": "display_data"
    },
    {
     "data": {
      "text/html": [
       "<div><style>:root {\n",
       "  --font-color-primary: var(--jp-content-font-color0, rgba(0, 0, 0, 1));\n",
       "  --font-color-secondary: var(--jp-content-font-color2, rgba(0, 0, 0, 0.6));\n",
       "  --font-color-accent: rgba(123, 31, 162, 1);\n",
       "  --border-color: var(--jp-border-color2, #e0e0e0);\n",
       "  --background-color: var(--jp-layout-color0, white);\n",
       "  --background-color-row-even: var(--jp-layout-color1, white);\n",
       "  --background-color-row-odd: var(--jp-layout-color2, #eeeeee);\n",
       "}\n",
       "\n",
       "html[theme=\"dark\"],\n",
       "body[data-theme=\"dark\"],\n",
       "body.vscode-dark {\n",
       "  --font-color-primary: rgba(255, 255, 255, 1);\n",
       "  --font-color-secondary: rgba(255, 255, 255, 0.6);\n",
       "  --font-color-accent: rgb(173, 132, 190);\n",
       "  --border-color: #2e2e2e;\n",
       "  --background-color: #111111;\n",
       "  --background-color-row-even: #111111;\n",
       "  --background-color-row-odd: #313131;\n",
       "}\n",
       "\n",
       ".ee {\n",
       "  padding: 1em;\n",
       "  line-height: 1.5em;\n",
       "  min-width: 300px;\n",
       "  max-width: 1200px;\n",
       "  overflow-y: scroll;\n",
       "  max-height: 600px;\n",
       "  border: 1px solid var(--border-color);\n",
       "  font-family: monospace;\n",
       "}\n",
       "\n",
       ".ee li {\n",
       "  list-style-type: none;\n",
       "}\n",
       "\n",
       ".ee ul {\n",
       "  padding-left: 1.5em !important;\n",
       "  margin: 0;\n",
       "}\n",
       "\n",
       ".ee > ul {\n",
       "  padding-left: 0 !important;\n",
       "}\n",
       "\n",
       ".ee-open,\n",
       ".ee-shut {\n",
       "  color: var(--font-color-secondary);\n",
       "  cursor: pointer;\n",
       "  margin: 0;\n",
       "}\n",
       "\n",
       ".ee-open:hover,\n",
       ".ee-shut:hover {\n",
       "  color: var(--font-color-primary);\n",
       "}\n",
       "\n",
       ".ee-k {\n",
       "  color: var(--font-color-accent);\n",
       "  margin-right: 6px;\n",
       "}\n",
       "\n",
       ".ee-v {\n",
       "  color: var(--font-color-primary);\n",
       "}\n",
       "\n",
       ".ee-toggle {\n",
       "  display: none;\n",
       "}\n",
       "\n",
       ".ee-shut + ul {\n",
       "  display: none;\n",
       "}\n",
       "\n",
       ".ee-open + ul {\n",
       "  display: block;\n",
       "}\n",
       "\n",
       ".ee-shut::before {\n",
       "  display: inline-block;\n",
       "  content: \"▼\";\n",
       "  margin-right: 6px;\n",
       "  transform: rotate(-90deg);\n",
       "  transition: transform 0.2s;\n",
       "}\n",
       "\n",
       ".ee-open::before {\n",
       "  transform: rotate(0deg);\n",
       "  display: inline-block;\n",
       "  content: \"▼\";\n",
       "  margin-right: 6px;\n",
       "  transition: transform 0.2s;\n",
       "}\n",
       "</style><div class='ee'><ul><li><label class='ee-shut'>Image COPERNICUS/S2_SR_HARMONIZED/20240219T082009_20240219T084413_T34HCJ (26 bands)<input type='checkbox' class='ee-toggle'></label><ul><li><span class='ee-k'>type:</span><span class='ee-v'>Image</span></li><li><span class='ee-k'>id:</span><span class='ee-v'>COPERNICUS/S2_SR_HARMONIZED/20240219T082009_20240219T084413_T34HCJ</span></li><li><span class='ee-k'>version:</span><span class='ee-v'>1731403193008256</span></li><li><label class='ee-shut'>bands: List (26 elements)<input type='checkbox' class='ee-toggle'></label><ul><li><label class='ee-shut'>0: \"B1\", unsigned int16, EPSG:32734, 1830x1830 px<input type='checkbox' class='ee-toggle'></label><ul><li><span class='ee-k'>id:</span><span class='ee-v'>B1</span></li><li><span class='ee-k'>crs:</span><span class='ee-v'>EPSG:32734</span></li><li><label class='ee-shut'>crs_transform: [60, 0, 300000, 0, -60, 6400000]<input type='checkbox' class='ee-toggle'></label><ul><li><span class='ee-k'>0:</span><span class='ee-v'>60</span></li><li><span class='ee-k'>1:</span><span class='ee-v'>0</span></li><li><span class='ee-k'>2:</span><span class='ee-v'>300000</span></li><li><span class='ee-k'>3:</span><span class='ee-v'>0</span></li><li><span class='ee-k'>4:</span><span class='ee-v'>-60</span></li><li><span class='ee-k'>5:</span><span class='ee-v'>6400000</span></li></ul></li><li><label class='ee-shut'>data_type: unsigned int16<input type='checkbox' class='ee-toggle'></label><ul><li><span class='ee-k'>type:</span><span class='ee-v'>PixelType</span></li><li><span class='ee-k'>max:</span><span class='ee-v'>65535</span></li><li><span class='ee-k'>min:</span><span class='ee-v'>0</span></li><li><span class='ee-k'>precision:</span><span class='ee-v'>int</span></li></ul></li><li><label class='ee-shut'>dimensions: [1830, 1830]<input type='checkbox' class='ee-toggle'></label><ul><li><span class='ee-k'>0:</span><span class='ee-v'>1830</span></li><li><span class='ee-k'>1:</span><span class='ee-v'>1830</span></li></ul></li></ul></li><li><label class='ee-shut'>1: \"B2\", unsigned int16, EPSG:32734, 10980x10980 px<input type='checkbox' class='ee-toggle'></label><ul><li><span class='ee-k'>id:</span><span class='ee-v'>B2</span></li><li><span class='ee-k'>crs:</span><span class='ee-v'>EPSG:32734</span></li><li><label class='ee-shut'>crs_transform: [10, 0, 300000, 0, -10, 6400000]<input type='checkbox' class='ee-toggle'></label><ul><li><span class='ee-k'>0:</span><span class='ee-v'>10</span></li><li><span class='ee-k'>1:</span><span class='ee-v'>0</span></li><li><span class='ee-k'>2:</span><span class='ee-v'>300000</span></li><li><span class='ee-k'>3:</span><span class='ee-v'>0</span></li><li><span class='ee-k'>4:</span><span class='ee-v'>-10</span></li><li><span class='ee-k'>5:</span><span class='ee-v'>6400000</span></li></ul></li><li><label class='ee-shut'>data_type: unsigned int16<input type='checkbox' class='ee-toggle'></label><ul><li><span class='ee-k'>type:</span><span class='ee-v'>PixelType</span></li><li><span class='ee-k'>max:</span><span class='ee-v'>65535</span></li><li><span class='ee-k'>min:</span><span class='ee-v'>0</span></li><li><span class='ee-k'>precision:</span><span class='ee-v'>int</span></li></ul></li><li><label class='ee-shut'>dimensions: [10980, 10980]<input type='checkbox' class='ee-toggle'></label><ul><li><span class='ee-k'>0:</span><span class='ee-v'>10980</span></li><li><span class='ee-k'>1:</span><span class='ee-v'>10980</span></li></ul></li></ul></li><li><label class='ee-shut'>2: \"B3\", unsigned int16, EPSG:32734, 10980x10980 px<input type='checkbox' class='ee-toggle'></label><ul><li><span class='ee-k'>id:</span><span class='ee-v'>B3</span></li><li><span class='ee-k'>crs:</span><span class='ee-v'>EPSG:32734</span></li><li><label class='ee-shut'>crs_transform: [10, 0, 300000, 0, -10, 6400000]<input type='checkbox' class='ee-toggle'></label><ul><li><span class='ee-k'>0:</span><span class='ee-v'>10</span></li><li><span class='ee-k'>1:</span><span class='ee-v'>0</span></li><li><span class='ee-k'>2:</span><span class='ee-v'>300000</span></li><li><span class='ee-k'>3:</span><span class='ee-v'>0</span></li><li><span class='ee-k'>4:</span><span class='ee-v'>-10</span></li><li><span class='ee-k'>5:</span><span class='ee-v'>6400000</span></li></ul></li><li><label class='ee-shut'>data_type: unsigned int16<input type='checkbox' class='ee-toggle'></label><ul><li><span class='ee-k'>type:</span><span class='ee-v'>PixelType</span></li><li><span class='ee-k'>max:</span><span class='ee-v'>65535</span></li><li><span class='ee-k'>min:</span><span class='ee-v'>0</span></li><li><span class='ee-k'>precision:</span><span class='ee-v'>int</span></li></ul></li><li><label class='ee-shut'>dimensions: [10980, 10980]<input type='checkbox' class='ee-toggle'></label><ul><li><span class='ee-k'>0:</span><span class='ee-v'>10980</span></li><li><span class='ee-k'>1:</span><span class='ee-v'>10980</span></li></ul></li></ul></li><li><label class='ee-shut'>3: \"B4\", unsigned int16, EPSG:32734, 10980x10980 px<input type='checkbox' class='ee-toggle'></label><ul><li><span class='ee-k'>id:</span><span class='ee-v'>B4</span></li><li><span class='ee-k'>crs:</span><span class='ee-v'>EPSG:32734</span></li><li><label class='ee-shut'>crs_transform: [10, 0, 300000, 0, -10, 6400000]<input type='checkbox' class='ee-toggle'></label><ul><li><span class='ee-k'>0:</span><span class='ee-v'>10</span></li><li><span class='ee-k'>1:</span><span class='ee-v'>0</span></li><li><span class='ee-k'>2:</span><span class='ee-v'>300000</span></li><li><span class='ee-k'>3:</span><span class='ee-v'>0</span></li><li><span class='ee-k'>4:</span><span class='ee-v'>-10</span></li><li><span class='ee-k'>5:</span><span class='ee-v'>6400000</span></li></ul></li><li><label class='ee-shut'>data_type: unsigned int16<input type='checkbox' class='ee-toggle'></label><ul><li><span class='ee-k'>type:</span><span class='ee-v'>PixelType</span></li><li><span class='ee-k'>max:</span><span class='ee-v'>65535</span></li><li><span class='ee-k'>min:</span><span class='ee-v'>0</span></li><li><span class='ee-k'>precision:</span><span class='ee-v'>int</span></li></ul></li><li><label class='ee-shut'>dimensions: [10980, 10980]<input type='checkbox' class='ee-toggle'></label><ul><li><span class='ee-k'>0:</span><span class='ee-v'>10980</span></li><li><span class='ee-k'>1:</span><span class='ee-v'>10980</span></li></ul></li></ul></li><li><label class='ee-shut'>4: \"B5\", unsigned int16, EPSG:32734, 5490x5490 px<input type='checkbox' class='ee-toggle'></label><ul><li><span class='ee-k'>id:</span><span class='ee-v'>B5</span></li><li><span class='ee-k'>crs:</span><span class='ee-v'>EPSG:32734</span></li><li><label class='ee-shut'>crs_transform: [20, 0, 300000, 0, -20, 6400000]<input type='checkbox' class='ee-toggle'></label><ul><li><span class='ee-k'>0:</span><span class='ee-v'>20</span></li><li><span class='ee-k'>1:</span><span class='ee-v'>0</span></li><li><span class='ee-k'>2:</span><span class='ee-v'>300000</span></li><li><span class='ee-k'>3:</span><span class='ee-v'>0</span></li><li><span class='ee-k'>4:</span><span class='ee-v'>-20</span></li><li><span class='ee-k'>5:</span><span class='ee-v'>6400000</span></li></ul></li><li><label class='ee-shut'>data_type: unsigned int16<input type='checkbox' class='ee-toggle'></label><ul><li><span class='ee-k'>type:</span><span class='ee-v'>PixelType</span></li><li><span class='ee-k'>max:</span><span class='ee-v'>65535</span></li><li><span class='ee-k'>min:</span><span class='ee-v'>0</span></li><li><span class='ee-k'>precision:</span><span class='ee-v'>int</span></li></ul></li><li><label class='ee-shut'>dimensions: [5490, 5490]<input type='checkbox' class='ee-toggle'></label><ul><li><span class='ee-k'>0:</span><span class='ee-v'>5490</span></li><li><span class='ee-k'>1:</span><span class='ee-v'>5490</span></li></ul></li></ul></li><li><label class='ee-shut'>5: \"B6\", unsigned int16, EPSG:32734, 5490x5490 px<input type='checkbox' class='ee-toggle'></label><ul><li><span class='ee-k'>id:</span><span class='ee-v'>B6</span></li><li><span class='ee-k'>crs:</span><span class='ee-v'>EPSG:32734</span></li><li><label class='ee-shut'>crs_transform: [20, 0, 300000, 0, -20, 6400000]<input type='checkbox' class='ee-toggle'></label><ul><li><span class='ee-k'>0:</span><span class='ee-v'>20</span></li><li><span class='ee-k'>1:</span><span class='ee-v'>0</span></li><li><span class='ee-k'>2:</span><span class='ee-v'>300000</span></li><li><span class='ee-k'>3:</span><span class='ee-v'>0</span></li><li><span class='ee-k'>4:</span><span class='ee-v'>-20</span></li><li><span class='ee-k'>5:</span><span class='ee-v'>6400000</span></li></ul></li><li><label class='ee-shut'>data_type: unsigned int16<input type='checkbox' class='ee-toggle'></label><ul><li><span class='ee-k'>type:</span><span class='ee-v'>PixelType</span></li><li><span class='ee-k'>max:</span><span class='ee-v'>65535</span></li><li><span class='ee-k'>min:</span><span class='ee-v'>0</span></li><li><span class='ee-k'>precision:</span><span class='ee-v'>int</span></li></ul></li><li><label class='ee-shut'>dimensions: [5490, 5490]<input type='checkbox' class='ee-toggle'></label><ul><li><span class='ee-k'>0:</span><span class='ee-v'>5490</span></li><li><span class='ee-k'>1:</span><span class='ee-v'>5490</span></li></ul></li></ul></li><li><label class='ee-shut'>6: \"B7\", unsigned int16, EPSG:32734, 5490x5490 px<input type='checkbox' class='ee-toggle'></label><ul><li><span class='ee-k'>id:</span><span class='ee-v'>B7</span></li><li><span class='ee-k'>crs:</span><span class='ee-v'>EPSG:32734</span></li><li><label class='ee-shut'>crs_transform: [20, 0, 300000, 0, -20, 6400000]<input type='checkbox' class='ee-toggle'></label><ul><li><span class='ee-k'>0:</span><span class='ee-v'>20</span></li><li><span class='ee-k'>1:</span><span class='ee-v'>0</span></li><li><span class='ee-k'>2:</span><span class='ee-v'>300000</span></li><li><span class='ee-k'>3:</span><span class='ee-v'>0</span></li><li><span class='ee-k'>4:</span><span class='ee-v'>-20</span></li><li><span class='ee-k'>5:</span><span class='ee-v'>6400000</span></li></ul></li><li><label class='ee-shut'>data_type: unsigned int16<input type='checkbox' class='ee-toggle'></label><ul><li><span class='ee-k'>type:</span><span class='ee-v'>PixelType</span></li><li><span class='ee-k'>max:</span><span class='ee-v'>65535</span></li><li><span class='ee-k'>min:</span><span class='ee-v'>0</span></li><li><span class='ee-k'>precision:</span><span class='ee-v'>int</span></li></ul></li><li><label class='ee-shut'>dimensions: [5490, 5490]<input type='checkbox' class='ee-toggle'></label><ul><li><span class='ee-k'>0:</span><span class='ee-v'>5490</span></li><li><span class='ee-k'>1:</span><span class='ee-v'>5490</span></li></ul></li></ul></li><li><label class='ee-shut'>7: \"B8\", unsigned int16, EPSG:32734, 10980x10980 px<input type='checkbox' class='ee-toggle'></label><ul><li><span class='ee-k'>id:</span><span class='ee-v'>B8</span></li><li><span class='ee-k'>crs:</span><span class='ee-v'>EPSG:32734</span></li><li><label class='ee-shut'>crs_transform: [10, 0, 300000, 0, -10, 6400000]<input type='checkbox' class='ee-toggle'></label><ul><li><span class='ee-k'>0:</span><span class='ee-v'>10</span></li><li><span class='ee-k'>1:</span><span class='ee-v'>0</span></li><li><span class='ee-k'>2:</span><span class='ee-v'>300000</span></li><li><span class='ee-k'>3:</span><span class='ee-v'>0</span></li><li><span class='ee-k'>4:</span><span class='ee-v'>-10</span></li><li><span class='ee-k'>5:</span><span class='ee-v'>6400000</span></li></ul></li><li><label class='ee-shut'>data_type: unsigned int16<input type='checkbox' class='ee-toggle'></label><ul><li><span class='ee-k'>type:</span><span class='ee-v'>PixelType</span></li><li><span class='ee-k'>max:</span><span class='ee-v'>65535</span></li><li><span class='ee-k'>min:</span><span class='ee-v'>0</span></li><li><span class='ee-k'>precision:</span><span class='ee-v'>int</span></li></ul></li><li><label class='ee-shut'>dimensions: [10980, 10980]<input type='checkbox' class='ee-toggle'></label><ul><li><span class='ee-k'>0:</span><span class='ee-v'>10980</span></li><li><span class='ee-k'>1:</span><span class='ee-v'>10980</span></li></ul></li></ul></li><li><label class='ee-shut'>8: \"B8A\", unsigned int16, EPSG:32734, 5490x5490 px<input type='checkbox' class='ee-toggle'></label><ul><li><span class='ee-k'>id:</span><span class='ee-v'>B8A</span></li><li><span class='ee-k'>crs:</span><span class='ee-v'>EPSG:32734</span></li><li><label class='ee-shut'>crs_transform: [20, 0, 300000, 0, -20, 6400000]<input type='checkbox' class='ee-toggle'></label><ul><li><span class='ee-k'>0:</span><span class='ee-v'>20</span></li><li><span class='ee-k'>1:</span><span class='ee-v'>0</span></li><li><span class='ee-k'>2:</span><span class='ee-v'>300000</span></li><li><span class='ee-k'>3:</span><span class='ee-v'>0</span></li><li><span class='ee-k'>4:</span><span class='ee-v'>-20</span></li><li><span class='ee-k'>5:</span><span class='ee-v'>6400000</span></li></ul></li><li><label class='ee-shut'>data_type: unsigned int16<input type='checkbox' class='ee-toggle'></label><ul><li><span class='ee-k'>type:</span><span class='ee-v'>PixelType</span></li><li><span class='ee-k'>max:</span><span class='ee-v'>65535</span></li><li><span class='ee-k'>min:</span><span class='ee-v'>0</span></li><li><span class='ee-k'>precision:</span><span class='ee-v'>int</span></li></ul></li><li><label class='ee-shut'>dimensions: [5490, 5490]<input type='checkbox' class='ee-toggle'></label><ul><li><span class='ee-k'>0:</span><span class='ee-v'>5490</span></li><li><span class='ee-k'>1:</span><span class='ee-v'>5490</span></li></ul></li></ul></li><li><label class='ee-shut'>9: \"B9\", unsigned int16, EPSG:32734, 1830x1830 px<input type='checkbox' class='ee-toggle'></label><ul><li><span class='ee-k'>id:</span><span class='ee-v'>B9</span></li><li><span class='ee-k'>crs:</span><span class='ee-v'>EPSG:32734</span></li><li><label class='ee-shut'>crs_transform: [60, 0, 300000, 0, -60, 6400000]<input type='checkbox' class='ee-toggle'></label><ul><li><span class='ee-k'>0:</span><span class='ee-v'>60</span></li><li><span class='ee-k'>1:</span><span class='ee-v'>0</span></li><li><span class='ee-k'>2:</span><span class='ee-v'>300000</span></li><li><span class='ee-k'>3:</span><span class='ee-v'>0</span></li><li><span class='ee-k'>4:</span><span class='ee-v'>-60</span></li><li><span class='ee-k'>5:</span><span class='ee-v'>6400000</span></li></ul></li><li><label class='ee-shut'>data_type: unsigned int16<input type='checkbox' class='ee-toggle'></label><ul><li><span class='ee-k'>type:</span><span class='ee-v'>PixelType</span></li><li><span class='ee-k'>max:</span><span class='ee-v'>65535</span></li><li><span class='ee-k'>min:</span><span class='ee-v'>0</span></li><li><span class='ee-k'>precision:</span><span class='ee-v'>int</span></li></ul></li><li><label class='ee-shut'>dimensions: [1830, 1830]<input type='checkbox' class='ee-toggle'></label><ul><li><span class='ee-k'>0:</span><span class='ee-v'>1830</span></li><li><span class='ee-k'>1:</span><span class='ee-v'>1830</span></li></ul></li></ul></li><li><label class='ee-shut'>10: \"B11\", unsigned int16, EPSG:32734, 5490x5490 px<input type='checkbox' class='ee-toggle'></label><ul><li><span class='ee-k'>id:</span><span class='ee-v'>B11</span></li><li><span class='ee-k'>crs:</span><span class='ee-v'>EPSG:32734</span></li><li><label class='ee-shut'>crs_transform: [20, 0, 300000, 0, -20, 6400000]<input type='checkbox' class='ee-toggle'></label><ul><li><span class='ee-k'>0:</span><span class='ee-v'>20</span></li><li><span class='ee-k'>1:</span><span class='ee-v'>0</span></li><li><span class='ee-k'>2:</span><span class='ee-v'>300000</span></li><li><span class='ee-k'>3:</span><span class='ee-v'>0</span></li><li><span class='ee-k'>4:</span><span class='ee-v'>-20</span></li><li><span class='ee-k'>5:</span><span class='ee-v'>6400000</span></li></ul></li><li><label class='ee-shut'>data_type: unsigned int16<input type='checkbox' class='ee-toggle'></label><ul><li><span class='ee-k'>type:</span><span class='ee-v'>PixelType</span></li><li><span class='ee-k'>max:</span><span class='ee-v'>65535</span></li><li><span class='ee-k'>min:</span><span class='ee-v'>0</span></li><li><span class='ee-k'>precision:</span><span class='ee-v'>int</span></li></ul></li><li><label class='ee-shut'>dimensions: [5490, 5490]<input type='checkbox' class='ee-toggle'></label><ul><li><span class='ee-k'>0:</span><span class='ee-v'>5490</span></li><li><span class='ee-k'>1:</span><span class='ee-v'>5490</span></li></ul></li></ul></li><li><label class='ee-shut'>11: \"B12\", unsigned int16, EPSG:32734, 5490x5490 px<input type='checkbox' class='ee-toggle'></label><ul><li><span class='ee-k'>id:</span><span class='ee-v'>B12</span></li><li><span class='ee-k'>crs:</span><span class='ee-v'>EPSG:32734</span></li><li><label class='ee-shut'>crs_transform: [20, 0, 300000, 0, -20, 6400000]<input type='checkbox' class='ee-toggle'></label><ul><li><span class='ee-k'>0:</span><span class='ee-v'>20</span></li><li><span class='ee-k'>1:</span><span class='ee-v'>0</span></li><li><span class='ee-k'>2:</span><span class='ee-v'>300000</span></li><li><span class='ee-k'>3:</span><span class='ee-v'>0</span></li><li><span class='ee-k'>4:</span><span class='ee-v'>-20</span></li><li><span class='ee-k'>5:</span><span class='ee-v'>6400000</span></li></ul></li><li><label class='ee-shut'>data_type: unsigned int16<input type='checkbox' class='ee-toggle'></label><ul><li><span class='ee-k'>type:</span><span class='ee-v'>PixelType</span></li><li><span class='ee-k'>max:</span><span class='ee-v'>65535</span></li><li><span class='ee-k'>min:</span><span class='ee-v'>0</span></li><li><span class='ee-k'>precision:</span><span class='ee-v'>int</span></li></ul></li><li><label class='ee-shut'>dimensions: [5490, 5490]<input type='checkbox' class='ee-toggle'></label><ul><li><span class='ee-k'>0:</span><span class='ee-v'>5490</span></li><li><span class='ee-k'>1:</span><span class='ee-v'>5490</span></li></ul></li></ul></li><li><label class='ee-shut'>12: \"AOT\", unsigned int16, EPSG:32734, 10980x10980 px<input type='checkbox' class='ee-toggle'></label><ul><li><span class='ee-k'>id:</span><span class='ee-v'>AOT</span></li><li><span class='ee-k'>crs:</span><span class='ee-v'>EPSG:32734</span></li><li><label class='ee-shut'>crs_transform: [10, 0, 300000, 0, -10, 6400000]<input type='checkbox' class='ee-toggle'></label><ul><li><span class='ee-k'>0:</span><span class='ee-v'>10</span></li><li><span class='ee-k'>1:</span><span class='ee-v'>0</span></li><li><span class='ee-k'>2:</span><span class='ee-v'>300000</span></li><li><span class='ee-k'>3:</span><span class='ee-v'>0</span></li><li><span class='ee-k'>4:</span><span class='ee-v'>-10</span></li><li><span class='ee-k'>5:</span><span class='ee-v'>6400000</span></li></ul></li><li><label class='ee-shut'>data_type: unsigned int16<input type='checkbox' class='ee-toggle'></label><ul><li><span class='ee-k'>type:</span><span class='ee-v'>PixelType</span></li><li><span class='ee-k'>max:</span><span class='ee-v'>65535</span></li><li><span class='ee-k'>min:</span><span class='ee-v'>0</span></li><li><span class='ee-k'>precision:</span><span class='ee-v'>int</span></li></ul></li><li><label class='ee-shut'>dimensions: [10980, 10980]<input type='checkbox' class='ee-toggle'></label><ul><li><span class='ee-k'>0:</span><span class='ee-v'>10980</span></li><li><span class='ee-k'>1:</span><span class='ee-v'>10980</span></li></ul></li></ul></li><li><label class='ee-shut'>13: \"WVP\", unsigned int16, EPSG:32734, 10980x10980 px<input type='checkbox' class='ee-toggle'></label><ul><li><span class='ee-k'>id:</span><span class='ee-v'>WVP</span></li><li><span class='ee-k'>crs:</span><span class='ee-v'>EPSG:32734</span></li><li><label class='ee-shut'>crs_transform: [10, 0, 300000, 0, -10, 6400000]<input type='checkbox' class='ee-toggle'></label><ul><li><span class='ee-k'>0:</span><span class='ee-v'>10</span></li><li><span class='ee-k'>1:</span><span class='ee-v'>0</span></li><li><span class='ee-k'>2:</span><span class='ee-v'>300000</span></li><li><span class='ee-k'>3:</span><span class='ee-v'>0</span></li><li><span class='ee-k'>4:</span><span class='ee-v'>-10</span></li><li><span class='ee-k'>5:</span><span class='ee-v'>6400000</span></li></ul></li><li><label class='ee-shut'>data_type: unsigned int16<input type='checkbox' class='ee-toggle'></label><ul><li><span class='ee-k'>type:</span><span class='ee-v'>PixelType</span></li><li><span class='ee-k'>max:</span><span class='ee-v'>65535</span></li><li><span class='ee-k'>min:</span><span class='ee-v'>0</span></li><li><span class='ee-k'>precision:</span><span class='ee-v'>int</span></li></ul></li><li><label class='ee-shut'>dimensions: [10980, 10980]<input type='checkbox' class='ee-toggle'></label><ul><li><span class='ee-k'>0:</span><span class='ee-v'>10980</span></li><li><span class='ee-k'>1:</span><span class='ee-v'>10980</span></li></ul></li></ul></li><li><label class='ee-shut'>14: \"SCL\", unsigned int8, EPSG:32734, 5490x5490 px<input type='checkbox' class='ee-toggle'></label><ul><li><span class='ee-k'>id:</span><span class='ee-v'>SCL</span></li><li><span class='ee-k'>crs:</span><span class='ee-v'>EPSG:32734</span></li><li><label class='ee-shut'>crs_transform: [20, 0, 300000, 0, -20, 6400000]<input type='checkbox' class='ee-toggle'></label><ul><li><span class='ee-k'>0:</span><span class='ee-v'>20</span></li><li><span class='ee-k'>1:</span><span class='ee-v'>0</span></li><li><span class='ee-k'>2:</span><span class='ee-v'>300000</span></li><li><span class='ee-k'>3:</span><span class='ee-v'>0</span></li><li><span class='ee-k'>4:</span><span class='ee-v'>-20</span></li><li><span class='ee-k'>5:</span><span class='ee-v'>6400000</span></li></ul></li><li><label class='ee-shut'>data_type: unsigned int8<input type='checkbox' class='ee-toggle'></label><ul><li><span class='ee-k'>type:</span><span class='ee-v'>PixelType</span></li><li><span class='ee-k'>max:</span><span class='ee-v'>255</span></li><li><span class='ee-k'>min:</span><span class='ee-v'>0</span></li><li><span class='ee-k'>precision:</span><span class='ee-v'>int</span></li></ul></li><li><label class='ee-shut'>dimensions: [5490, 5490]<input type='checkbox' class='ee-toggle'></label><ul><li><span class='ee-k'>0:</span><span class='ee-v'>5490</span></li><li><span class='ee-k'>1:</span><span class='ee-v'>5490</span></li></ul></li></ul></li><li><label class='ee-shut'>15: \"TCI_R\", unsigned int8, EPSG:32734, 10980x10980 px<input type='checkbox' class='ee-toggle'></label><ul><li><span class='ee-k'>id:</span><span class='ee-v'>TCI_R</span></li><li><span class='ee-k'>crs:</span><span class='ee-v'>EPSG:32734</span></li><li><label class='ee-shut'>crs_transform: [10, 0, 300000, 0, -10, 6400000]<input type='checkbox' class='ee-toggle'></label><ul><li><span class='ee-k'>0:</span><span class='ee-v'>10</span></li><li><span class='ee-k'>1:</span><span class='ee-v'>0</span></li><li><span class='ee-k'>2:</span><span class='ee-v'>300000</span></li><li><span class='ee-k'>3:</span><span class='ee-v'>0</span></li><li><span class='ee-k'>4:</span><span class='ee-v'>-10</span></li><li><span class='ee-k'>5:</span><span class='ee-v'>6400000</span></li></ul></li><li><label class='ee-shut'>data_type: unsigned int8<input type='checkbox' class='ee-toggle'></label><ul><li><span class='ee-k'>type:</span><span class='ee-v'>PixelType</span></li><li><span class='ee-k'>max:</span><span class='ee-v'>255</span></li><li><span class='ee-k'>min:</span><span class='ee-v'>0</span></li><li><span class='ee-k'>precision:</span><span class='ee-v'>int</span></li></ul></li><li><label class='ee-shut'>dimensions: [10980, 10980]<input type='checkbox' class='ee-toggle'></label><ul><li><span class='ee-k'>0:</span><span class='ee-v'>10980</span></li><li><span class='ee-k'>1:</span><span class='ee-v'>10980</span></li></ul></li></ul></li><li><label class='ee-shut'>16: \"TCI_G\", unsigned int8, EPSG:32734, 10980x10980 px<input type='checkbox' class='ee-toggle'></label><ul><li><span class='ee-k'>id:</span><span class='ee-v'>TCI_G</span></li><li><span class='ee-k'>crs:</span><span class='ee-v'>EPSG:32734</span></li><li><label class='ee-shut'>crs_transform: [10, 0, 300000, 0, -10, 6400000]<input type='checkbox' class='ee-toggle'></label><ul><li><span class='ee-k'>0:</span><span class='ee-v'>10</span></li><li><span class='ee-k'>1:</span><span class='ee-v'>0</span></li><li><span class='ee-k'>2:</span><span class='ee-v'>300000</span></li><li><span class='ee-k'>3:</span><span class='ee-v'>0</span></li><li><span class='ee-k'>4:</span><span class='ee-v'>-10</span></li><li><span class='ee-k'>5:</span><span class='ee-v'>6400000</span></li></ul></li><li><label class='ee-shut'>data_type: unsigned int8<input type='checkbox' class='ee-toggle'></label><ul><li><span class='ee-k'>type:</span><span class='ee-v'>PixelType</span></li><li><span class='ee-k'>max:</span><span class='ee-v'>255</span></li><li><span class='ee-k'>min:</span><span class='ee-v'>0</span></li><li><span class='ee-k'>precision:</span><span class='ee-v'>int</span></li></ul></li><li><label class='ee-shut'>dimensions: [10980, 10980]<input type='checkbox' class='ee-toggle'></label><ul><li><span class='ee-k'>0:</span><span class='ee-v'>10980</span></li><li><span class='ee-k'>1:</span><span class='ee-v'>10980</span></li></ul></li></ul></li><li><label class='ee-shut'>17: \"TCI_B\", unsigned int8, EPSG:32734, 10980x10980 px<input type='checkbox' class='ee-toggle'></label><ul><li><span class='ee-k'>id:</span><span class='ee-v'>TCI_B</span></li><li><span class='ee-k'>crs:</span><span class='ee-v'>EPSG:32734</span></li><li><label class='ee-shut'>crs_transform: [10, 0, 300000, 0, -10, 6400000]<input type='checkbox' class='ee-toggle'></label><ul><li><span class='ee-k'>0:</span><span class='ee-v'>10</span></li><li><span class='ee-k'>1:</span><span class='ee-v'>0</span></li><li><span class='ee-k'>2:</span><span class='ee-v'>300000</span></li><li><span class='ee-k'>3:</span><span class='ee-v'>0</span></li><li><span class='ee-k'>4:</span><span class='ee-v'>-10</span></li><li><span class='ee-k'>5:</span><span class='ee-v'>6400000</span></li></ul></li><li><label class='ee-shut'>data_type: unsigned int8<input type='checkbox' class='ee-toggle'></label><ul><li><span class='ee-k'>type:</span><span class='ee-v'>PixelType</span></li><li><span class='ee-k'>max:</span><span class='ee-v'>255</span></li><li><span class='ee-k'>min:</span><span class='ee-v'>0</span></li><li><span class='ee-k'>precision:</span><span class='ee-v'>int</span></li></ul></li><li><label class='ee-shut'>dimensions: [10980, 10980]<input type='checkbox' class='ee-toggle'></label><ul><li><span class='ee-k'>0:</span><span class='ee-v'>10980</span></li><li><span class='ee-k'>1:</span><span class='ee-v'>10980</span></li></ul></li></ul></li><li><label class='ee-shut'>18: \"MSK_CLDPRB\", unsigned int8, EPSG:32734, 5490x5490 px<input type='checkbox' class='ee-toggle'></label><ul><li><span class='ee-k'>id:</span><span class='ee-v'>MSK_CLDPRB</span></li><li><span class='ee-k'>crs:</span><span class='ee-v'>EPSG:32734</span></li><li><label class='ee-shut'>crs_transform: [20, 0, 300000, 0, -20, 6400000]<input type='checkbox' class='ee-toggle'></label><ul><li><span class='ee-k'>0:</span><span class='ee-v'>20</span></li><li><span class='ee-k'>1:</span><span class='ee-v'>0</span></li><li><span class='ee-k'>2:</span><span class='ee-v'>300000</span></li><li><span class='ee-k'>3:</span><span class='ee-v'>0</span></li><li><span class='ee-k'>4:</span><span class='ee-v'>-20</span></li><li><span class='ee-k'>5:</span><span class='ee-v'>6400000</span></li></ul></li><li><label class='ee-shut'>data_type: unsigned int8<input type='checkbox' class='ee-toggle'></label><ul><li><span class='ee-k'>type:</span><span class='ee-v'>PixelType</span></li><li><span class='ee-k'>max:</span><span class='ee-v'>255</span></li><li><span class='ee-k'>min:</span><span class='ee-v'>0</span></li><li><span class='ee-k'>precision:</span><span class='ee-v'>int</span></li></ul></li><li><label class='ee-shut'>dimensions: [5490, 5490]<input type='checkbox' class='ee-toggle'></label><ul><li><span class='ee-k'>0:</span><span class='ee-v'>5490</span></li><li><span class='ee-k'>1:</span><span class='ee-v'>5490</span></li></ul></li></ul></li><li><label class='ee-shut'>19: \"MSK_SNWPRB\", unsigned int8, EPSG:32734, 5490x5490 px<input type='checkbox' class='ee-toggle'></label><ul><li><span class='ee-k'>id:</span><span class='ee-v'>MSK_SNWPRB</span></li><li><span class='ee-k'>crs:</span><span class='ee-v'>EPSG:32734</span></li><li><label class='ee-shut'>crs_transform: [20, 0, 300000, 0, -20, 6400000]<input type='checkbox' class='ee-toggle'></label><ul><li><span class='ee-k'>0:</span><span class='ee-v'>20</span></li><li><span class='ee-k'>1:</span><span class='ee-v'>0</span></li><li><span class='ee-k'>2:</span><span class='ee-v'>300000</span></li><li><span class='ee-k'>3:</span><span class='ee-v'>0</span></li><li><span class='ee-k'>4:</span><span class='ee-v'>-20</span></li><li><span class='ee-k'>5:</span><span class='ee-v'>6400000</span></li></ul></li><li><label class='ee-shut'>data_type: unsigned int8<input type='checkbox' class='ee-toggle'></label><ul><li><span class='ee-k'>type:</span><span class='ee-v'>PixelType</span></li><li><span class='ee-k'>max:</span><span class='ee-v'>255</span></li><li><span class='ee-k'>min:</span><span class='ee-v'>0</span></li><li><span class='ee-k'>precision:</span><span class='ee-v'>int</span></li></ul></li><li><label class='ee-shut'>dimensions: [5490, 5490]<input type='checkbox' class='ee-toggle'></label><ul><li><span class='ee-k'>0:</span><span class='ee-v'>5490</span></li><li><span class='ee-k'>1:</span><span class='ee-v'>5490</span></li></ul></li></ul></li><li><label class='ee-shut'>20: \"QA10\", unsigned int16, EPSG:4326<input type='checkbox' class='ee-toggle'></label><ul><li><span class='ee-k'>id:</span><span class='ee-v'>QA10</span></li><li><span class='ee-k'>crs:</span><span class='ee-v'>EPSG:4326</span></li><li><label class='ee-shut'>crs_transform: [1, 0, 0, 0, 1, 0]<input type='checkbox' class='ee-toggle'></label><ul><li><span class='ee-k'>0:</span><span class='ee-v'>1</span></li><li><span class='ee-k'>1:</span><span class='ee-v'>0</span></li><li><span class='ee-k'>2:</span><span class='ee-v'>0</span></li><li><span class='ee-k'>3:</span><span class='ee-v'>0</span></li><li><span class='ee-k'>4:</span><span class='ee-v'>1</span></li><li><span class='ee-k'>5:</span><span class='ee-v'>0</span></li></ul></li><li><label class='ee-shut'>data_type: unsigned int16<input type='checkbox' class='ee-toggle'></label><ul><li><span class='ee-k'>type:</span><span class='ee-v'>PixelType</span></li><li><span class='ee-k'>max:</span><span class='ee-v'>65535</span></li><li><span class='ee-k'>min:</span><span class='ee-v'>0</span></li><li><span class='ee-k'>precision:</span><span class='ee-v'>int</span></li></ul></li></ul></li><li><label class='ee-shut'>21: \"QA20\", unsigned int32, EPSG:4326<input type='checkbox' class='ee-toggle'></label><ul><li><span class='ee-k'>id:</span><span class='ee-v'>QA20</span></li><li><span class='ee-k'>crs:</span><span class='ee-v'>EPSG:4326</span></li><li><label class='ee-shut'>crs_transform: [1, 0, 0, 0, 1, 0]<input type='checkbox' class='ee-toggle'></label><ul><li><span class='ee-k'>0:</span><span class='ee-v'>1</span></li><li><span class='ee-k'>1:</span><span class='ee-v'>0</span></li><li><span class='ee-k'>2:</span><span class='ee-v'>0</span></li><li><span class='ee-k'>3:</span><span class='ee-v'>0</span></li><li><span class='ee-k'>4:</span><span class='ee-v'>1</span></li><li><span class='ee-k'>5:</span><span class='ee-v'>0</span></li></ul></li><li><label class='ee-shut'>data_type: unsigned int32<input type='checkbox' class='ee-toggle'></label><ul><li><span class='ee-k'>type:</span><span class='ee-v'>PixelType</span></li><li><span class='ee-k'>max:</span><span class='ee-v'>4294967295</span></li><li><span class='ee-k'>min:</span><span class='ee-v'>0</span></li><li><span class='ee-k'>precision:</span><span class='ee-v'>int</span></li></ul></li></ul></li><li><label class='ee-shut'>22: \"QA60\", unsigned int16, EPSG:32734, 1830x1830 px<input type='checkbox' class='ee-toggle'></label><ul><li><span class='ee-k'>id:</span><span class='ee-v'>QA60</span></li><li><span class='ee-k'>crs:</span><span class='ee-v'>EPSG:32734</span></li><li><label class='ee-shut'>crs_transform: [60, 0, 300000, 0, -60, 6400000]<input type='checkbox' class='ee-toggle'></label><ul><li><span class='ee-k'>0:</span><span class='ee-v'>60</span></li><li><span class='ee-k'>1:</span><span class='ee-v'>0</span></li><li><span class='ee-k'>2:</span><span class='ee-v'>300000</span></li><li><span class='ee-k'>3:</span><span class='ee-v'>0</span></li><li><span class='ee-k'>4:</span><span class='ee-v'>-60</span></li><li><span class='ee-k'>5:</span><span class='ee-v'>6400000</span></li></ul></li><li><label class='ee-shut'>data_type: unsigned int16<input type='checkbox' class='ee-toggle'></label><ul><li><span class='ee-k'>type:</span><span class='ee-v'>PixelType</span></li><li><span class='ee-k'>max:</span><span class='ee-v'>65535</span></li><li><span class='ee-k'>min:</span><span class='ee-v'>0</span></li><li><span class='ee-k'>precision:</span><span class='ee-v'>int</span></li></ul></li><li><label class='ee-shut'>dimensions: [1830, 1830]<input type='checkbox' class='ee-toggle'></label><ul><li><span class='ee-k'>0:</span><span class='ee-v'>1830</span></li><li><span class='ee-k'>1:</span><span class='ee-v'>1830</span></li></ul></li></ul></li><li><label class='ee-shut'>23: \"MSK_CLASSI_OPAQUE\", unsigned int8, EPSG:32734, 1830x1830 px<input type='checkbox' class='ee-toggle'></label><ul><li><span class='ee-k'>id:</span><span class='ee-v'>MSK_CLASSI_OPAQUE</span></li><li><span class='ee-k'>crs:</span><span class='ee-v'>EPSG:32734</span></li><li><label class='ee-shut'>crs_transform: [60, 0, 300000, 0, -60, 6400000]<input type='checkbox' class='ee-toggle'></label><ul><li><span class='ee-k'>0:</span><span class='ee-v'>60</span></li><li><span class='ee-k'>1:</span><span class='ee-v'>0</span></li><li><span class='ee-k'>2:</span><span class='ee-v'>300000</span></li><li><span class='ee-k'>3:</span><span class='ee-v'>0</span></li><li><span class='ee-k'>4:</span><span class='ee-v'>-60</span></li><li><span class='ee-k'>5:</span><span class='ee-v'>6400000</span></li></ul></li><li><label class='ee-shut'>data_type: unsigned int8<input type='checkbox' class='ee-toggle'></label><ul><li><span class='ee-k'>type:</span><span class='ee-v'>PixelType</span></li><li><span class='ee-k'>max:</span><span class='ee-v'>255</span></li><li><span class='ee-k'>min:</span><span class='ee-v'>0</span></li><li><span class='ee-k'>precision:</span><span class='ee-v'>int</span></li></ul></li><li><label class='ee-shut'>dimensions: [1830, 1830]<input type='checkbox' class='ee-toggle'></label><ul><li><span class='ee-k'>0:</span><span class='ee-v'>1830</span></li><li><span class='ee-k'>1:</span><span class='ee-v'>1830</span></li></ul></li></ul></li><li><label class='ee-shut'>24: \"MSK_CLASSI_CIRRUS\", unsigned int8, EPSG:32734, 1830x1830 px<input type='checkbox' class='ee-toggle'></label><ul><li><span class='ee-k'>id:</span><span class='ee-v'>MSK_CLASSI_CIRRUS</span></li><li><span class='ee-k'>crs:</span><span class='ee-v'>EPSG:32734</span></li><li><label class='ee-shut'>crs_transform: [60, 0, 300000, 0, -60, 6400000]<input type='checkbox' class='ee-toggle'></label><ul><li><span class='ee-k'>0:</span><span class='ee-v'>60</span></li><li><span class='ee-k'>1:</span><span class='ee-v'>0</span></li><li><span class='ee-k'>2:</span><span class='ee-v'>300000</span></li><li><span class='ee-k'>3:</span><span class='ee-v'>0</span></li><li><span class='ee-k'>4:</span><span class='ee-v'>-60</span></li><li><span class='ee-k'>5:</span><span class='ee-v'>6400000</span></li></ul></li><li><label class='ee-shut'>data_type: unsigned int8<input type='checkbox' class='ee-toggle'></label><ul><li><span class='ee-k'>type:</span><span class='ee-v'>PixelType</span></li><li><span class='ee-k'>max:</span><span class='ee-v'>255</span></li><li><span class='ee-k'>min:</span><span class='ee-v'>0</span></li><li><span class='ee-k'>precision:</span><span class='ee-v'>int</span></li></ul></li><li><label class='ee-shut'>dimensions: [1830, 1830]<input type='checkbox' class='ee-toggle'></label><ul><li><span class='ee-k'>0:</span><span class='ee-v'>1830</span></li><li><span class='ee-k'>1:</span><span class='ee-v'>1830</span></li></ul></li></ul></li><li><label class='ee-shut'>25: \"MSK_CLASSI_SNOW_ICE\", unsigned int8, EPSG:32734, 1830x1830 px<input type='checkbox' class='ee-toggle'></label><ul><li><span class='ee-k'>id:</span><span class='ee-v'>MSK_CLASSI_SNOW_ICE</span></li><li><span class='ee-k'>crs:</span><span class='ee-v'>EPSG:32734</span></li><li><label class='ee-shut'>crs_transform: [60, 0, 300000, 0, -60, 6400000]<input type='checkbox' class='ee-toggle'></label><ul><li><span class='ee-k'>0:</span><span class='ee-v'>60</span></li><li><span class='ee-k'>1:</span><span class='ee-v'>0</span></li><li><span class='ee-k'>2:</span><span class='ee-v'>300000</span></li><li><span class='ee-k'>3:</span><span class='ee-v'>0</span></li><li><span class='ee-k'>4:</span><span class='ee-v'>-60</span></li><li><span class='ee-k'>5:</span><span class='ee-v'>6400000</span></li></ul></li><li><label class='ee-shut'>data_type: unsigned int8<input type='checkbox' class='ee-toggle'></label><ul><li><span class='ee-k'>type:</span><span class='ee-v'>PixelType</span></li><li><span class='ee-k'>max:</span><span class='ee-v'>255</span></li><li><span class='ee-k'>min:</span><span class='ee-v'>0</span></li><li><span class='ee-k'>precision:</span><span class='ee-v'>int</span></li></ul></li><li><label class='ee-shut'>dimensions: [1830, 1830]<input type='checkbox' class='ee-toggle'></label><ul><li><span class='ee-k'>0:</span><span class='ee-v'>1830</span></li><li><span class='ee-k'>1:</span><span class='ee-v'>1830</span></li></ul></li></ul></li></ul></li><li><label class='ee-shut'>properties: Object (101 properties)<input type='checkbox' class='ee-toggle'></label><ul><li><span class='ee-k'>AOT_RETRIEVAL_ACCURACY:</span><span class='ee-v'>0</span></li><li><span class='ee-k'>AOT_RETRIEVAL_METHOD:</span><span class='ee-v'>SEN2COR_DDV</span></li><li><span class='ee-k'>BOA_ADD_OFFSET_B1:</span><span class='ee-v'>-1000</span></li><li><span class='ee-k'>BOA_ADD_OFFSET_B10:</span><span class='ee-v'>-1000</span></li><li><span class='ee-k'>BOA_ADD_OFFSET_B11:</span><span class='ee-v'>-1000</span></li><li><span class='ee-k'>BOA_ADD_OFFSET_B12:</span><span class='ee-v'>-1000</span></li><li><span class='ee-k'>BOA_ADD_OFFSET_B2:</span><span class='ee-v'>-1000</span></li><li><span class='ee-k'>BOA_ADD_OFFSET_B3:</span><span class='ee-v'>-1000</span></li><li><span class='ee-k'>BOA_ADD_OFFSET_B4:</span><span class='ee-v'>-1000</span></li><li><span class='ee-k'>BOA_ADD_OFFSET_B5:</span><span class='ee-v'>-1000</span></li><li><span class='ee-k'>BOA_ADD_OFFSET_B6:</span><span class='ee-v'>-1000</span></li><li><span class='ee-k'>BOA_ADD_OFFSET_B7:</span><span class='ee-v'>-1000</span></li><li><span class='ee-k'>BOA_ADD_OFFSET_B8:</span><span class='ee-v'>-1000</span></li><li><span class='ee-k'>BOA_ADD_OFFSET_B8A:</span><span class='ee-v'>-1000</span></li><li><span class='ee-k'>BOA_ADD_OFFSET_B9:</span><span class='ee-v'>-1000</span></li><li><span class='ee-k'>CLOUDY_PIXEL_OVER_LAND_PERCENTAGE:</span><span class='ee-v'>0.001412</span></li><li><span class='ee-k'>CLOUDY_PIXEL_PERCENTAGE:</span><span class='ee-v'>0.001473</span></li><li><span class='ee-k'>CLOUD_COVERAGE_ASSESSMENT:</span><span class='ee-v'>0.001473</span></li><li><span class='ee-k'>CLOUD_SHADOW_PERCENTAGE:</span><span class='ee-v'>0</span></li><li><span class='ee-k'>DARK_FEATURES_PERCENTAGE:</span><span class='ee-v'>1.422835</span></li><li><span class='ee-k'>DATASTRIP_ID:</span><span class='ee-v'>S2B_OPER_MSI_L2A_DS_2BPS_20240219T114838_S20240219T084413_N05.10</span></li><li><span class='ee-k'>DATATAKE_IDENTIFIER:</span><span class='ee-v'>GS2B_20240219T082009_036326_N05.10</span></li><li><span class='ee-k'>DATATAKE_TYPE:</span><span class='ee-v'>INS-NOBS</span></li><li><span class='ee-k'>DEGRADED_MSI_DATA_PERCENTAGE:</span><span class='ee-v'>0.0103</span></li><li><span class='ee-k'>FORMAT_CORRECTNESS:</span><span class='ee-v'>PASSED</span></li><li><span class='ee-k'>GENERAL_QUALITY:</span><span class='ee-v'>PASSED</span></li><li><span class='ee-k'>GENERATION_TIME:</span><span class='ee-v'>1708343318000</span></li><li><span class='ee-k'>GEOMETRIC_QUALITY:</span><span class='ee-v'>PASSED</span></li><li><span class='ee-k'>GRANULE_ID:</span><span class='ee-v'>L2A_T34HCJ_A036326_20240219T084413</span></li><li><span class='ee-k'>GRANULE_MEAN_AOT:</span><span class='ee-v'>0.102522</span></li><li><span class='ee-k'>GRANULE_MEAN_WV:</span><span class='ee-v'>0.936254</span></li><li><span class='ee-k'>HIGH_PROBA_CLOUDS_PERCENTAGE:</span><span class='ee-v'>6.3e-05</span></li><li><span class='ee-k'>L2A_QUALITY:</span><span class='ee-v'>PASSED</span></li><li><span class='ee-k'>MEAN_INCIDENCE_AZIMUTH_ANGLE_B1:</span><span class='ee-v'>163.397481179242</span></li><li><span class='ee-k'>MEAN_INCIDENCE_AZIMUTH_ANGLE_B10:</span><span class='ee-v'>164.822120028928</span></li><li><span class='ee-k'>MEAN_INCIDENCE_AZIMUTH_ANGLE_B11:</span><span class='ee-v'>163.624931470109</span></li><li><span class='ee-k'>MEAN_INCIDENCE_AZIMUTH_ANGLE_B12:</span><span class='ee-v'>163.078234297832</span></li><li><span class='ee-k'>MEAN_INCIDENCE_AZIMUTH_ANGLE_B2:</span><span class='ee-v'>168.006507080664</span></li><li><span class='ee-k'>MEAN_INCIDENCE_AZIMUTH_ANGLE_B3:</span><span class='ee-v'>165.659942734514</span></li><li><span class='ee-k'>MEAN_INCIDENCE_AZIMUTH_ANGLE_B4:</span><span class='ee-v'>164.379557150155</span></li><li><span class='ee-k'>MEAN_INCIDENCE_AZIMUTH_ANGLE_B5:</span><span class='ee-v'>163.921271568354</span></li><li><span class='ee-k'>MEAN_INCIDENCE_AZIMUTH_ANGLE_B6:</span><span class='ee-v'>163.571520599763</span></li><li><span class='ee-k'>MEAN_INCIDENCE_AZIMUTH_ANGLE_B7:</span><span class='ee-v'>163.456160268128</span></li><li><span class='ee-k'>MEAN_INCIDENCE_AZIMUTH_ANGLE_B8:</span><span class='ee-v'>166.771505908316</span></li><li><span class='ee-k'>MEAN_INCIDENCE_AZIMUTH_ANGLE_B8A:</span><span class='ee-v'>163.260686102472</span></li><li><span class='ee-k'>MEAN_INCIDENCE_AZIMUTH_ANGLE_B9:</span><span class='ee-v'>163.293083909034</span></li><li><span class='ee-k'>MEAN_INCIDENCE_ZENITH_ANGLE_B1:</span><span class='ee-v'>3.0934160927012</span></li><li><span class='ee-k'>MEAN_INCIDENCE_ZENITH_ANGLE_B10:</span><span class='ee-v'>2.63585189404207</span></li><li><span class='ee-k'>MEAN_INCIDENCE_ZENITH_ANGLE_B11:</span><span class='ee-v'>2.81802501067046</span></li><li><span class='ee-k'>MEAN_INCIDENCE_ZENITH_ANGLE_B12:</span><span class='ee-v'>3.02184152262025</span></li><li><span class='ee-k'>MEAN_INCIDENCE_ZENITH_ANGLE_B2:</span><span class='ee-v'>2.44135926383701</span></li><li><span class='ee-k'>MEAN_INCIDENCE_ZENITH_ANGLE_B3:</span><span class='ee-v'>2.54976422435807</span></li><li><span class='ee-k'>MEAN_INCIDENCE_ZENITH_ANGLE_B4:</span><span class='ee-v'>2.67660720942501</span></li><li><span class='ee-k'>MEAN_INCIDENCE_ZENITH_ANGLE_B5:</span><span class='ee-v'>2.75123829215733</span></li><li><span class='ee-k'>MEAN_INCIDENCE_ZENITH_ANGLE_B6:</span><span class='ee-v'>2.83064341996157</span></li><li><span class='ee-k'>MEAN_INCIDENCE_ZENITH_ANGLE_B7:</span><span class='ee-v'>2.91204252768451</span></li><li><span class='ee-k'>MEAN_INCIDENCE_ZENITH_ANGLE_B8:</span><span class='ee-v'>2.49288408030237</span></li><li><span class='ee-k'>MEAN_INCIDENCE_ZENITH_ANGLE_B8A:</span><span class='ee-v'>2.99950623119974</span></li><li><span class='ee-k'>MEAN_INCIDENCE_ZENITH_ANGLE_B9:</span><span class='ee-v'>3.19012570550966</span></li><li><span class='ee-k'>MEAN_SOLAR_AZIMUTH_ANGLE:</span><span class='ee-v'>60.6238205509821</span></li><li><span class='ee-k'>MEAN_SOLAR_ZENITH_ANGLE:</span><span class='ee-v'>36.1317649928301</span></li><li><span class='ee-k'>MEDIUM_PROBA_CLOUDS_PERCENTAGE:</span><span class='ee-v'>0.00071</span></li><li><span class='ee-k'>MGRS_TILE:</span><span class='ee-v'>34HCJ</span></li><li><span class='ee-k'>NODATA_PIXEL_PERCENTAGE:</span><span class='ee-v'>0</span></li><li><span class='ee-k'>NOT_VEGETATED_PERCENTAGE:</span><span class='ee-v'>91.980076</span></li><li><span class='ee-k'>OZONE_SOURCE:</span><span class='ee-v'>AUX_ECMWFT</span></li><li><span class='ee-k'>OZONE_VALUE:</span><span class='ee-v'>263.680022</span></li><li><span class='ee-k'>PROCESSING_BASELINE:</span><span class='ee-v'>05.10</span></li><li><span class='ee-k'>PRODUCT_ID:</span><span class='ee-v'>S2B_MSIL2A_20240219T082009_N0510_R121_T34HCJ_20240219T114838</span></li><li><span class='ee-k'>RADIATIVE_TRANSFER_ACCURACY:</span><span class='ee-v'>0</span></li><li><span class='ee-k'>RADIOMETRIC_QUALITY:</span><span class='ee-v'>PASSED</span></li><li><span class='ee-k'>REFLECTANCE_CONVERSION_CORRECTION:</span><span class='ee-v'>1.02536914397984</span></li><li><span class='ee-k'>SATURATED_DEFECTIVE_PIXEL_PERCENTAGE:</span><span class='ee-v'>0</span></li><li><span class='ee-k'>SENSING_ORBIT_DIRECTION:</span><span class='ee-v'>DESCENDING</span></li><li><span class='ee-k'>SENSING_ORBIT_NUMBER:</span><span class='ee-v'>121</span></li><li><span class='ee-k'>SENSOR_QUALITY:</span><span class='ee-v'>PASSED</span></li><li><span class='ee-k'>SNOW_ICE_PERCENTAGE:</span><span class='ee-v'>0</span></li><li><span class='ee-k'>SOLAR_IRRADIANCE_B1:</span><span class='ee-v'>1874.3</span></li><li><span class='ee-k'>SOLAR_IRRADIANCE_B10:</span><span class='ee-v'>365.41</span></li><li><span class='ee-k'>SOLAR_IRRADIANCE_B11:</span><span class='ee-v'>247.08</span></li><li><span class='ee-k'>SOLAR_IRRADIANCE_B12:</span><span class='ee-v'>87.75</span></li><li><span class='ee-k'>SOLAR_IRRADIANCE_B2:</span><span class='ee-v'>1959.75</span></li><li><span class='ee-k'>SOLAR_IRRADIANCE_B3:</span><span class='ee-v'>1824.93</span></li><li><span class='ee-k'>SOLAR_IRRADIANCE_B4:</span><span class='ee-v'>1512.79</span></li><li><span class='ee-k'>SOLAR_IRRADIANCE_B5:</span><span class='ee-v'>1425.78</span></li><li><span class='ee-k'>SOLAR_IRRADIANCE_B6:</span><span class='ee-v'>1291.13</span></li><li><span class='ee-k'>SOLAR_IRRADIANCE_B7:</span><span class='ee-v'>1175.57</span></li><li><span class='ee-k'>SOLAR_IRRADIANCE_B8:</span><span class='ee-v'>1041.28</span></li><li><span class='ee-k'>SOLAR_IRRADIANCE_B8A:</span><span class='ee-v'>953.93</span></li><li><span class='ee-k'>SOLAR_IRRADIANCE_B9:</span><span class='ee-v'>817.58</span></li><li><span class='ee-k'>SPACECRAFT_NAME:</span><span class='ee-v'>Sentinel-2B</span></li><li><span class='ee-k'>THIN_CIRRUS_PERCENTAGE:</span><span class='ee-v'>0.0007</span></li><li><span class='ee-k'>UNCLASSIFIED_PERCENTAGE:</span><span class='ee-v'>0.093686</span></li><li><span class='ee-k'>VEGETATION_PERCENTAGE:</span><span class='ee-v'>6.137355</span></li><li><span class='ee-k'>WATER_PERCENTAGE:</span><span class='ee-v'>0.364577</span></li><li><span class='ee-k'>WATER_VAPOUR_RETRIEVAL_ACCURACY:</span><span class='ee-v'>0</span></li><li><span class='ee-k'>system:asset_size:</span><span class='ee-v'>1791681347</span></li><li><label class='ee-shut'>system:footprint: LinearRing (20 vertices)<input type='checkbox' class='ee-toggle'></label><ul><li><span class='ee-k'>type:</span><span class='ee-v'>LinearRing</span></li><li><label class='ee-shut'>coordinates: List (20 elements)<input type='checkbox' class='ee-toggle'></label><ul><li><label class='ee-shut'>0: [20.028554639997406, -33.52380862154717]<input type='checkbox' class='ee-toggle'></label><ul><li><span class='ee-k'>0:</span><span class='ee-v'>20.028554639997406</span></li><li><span class='ee-k'>1:</span><span class='ee-v'>-33.52380862154717</span></li></ul></li><li><label class='ee-shut'>1: [20.02855563957251, -33.52379738417345]<input type='checkbox' class='ee-toggle'></label><ul><li><span class='ee-k'>0:</span><span class='ee-v'>20.02855563957251</span></li><li><span class='ee-k'>1:</span><span class='ee-v'>-33.52379738417345</span></li></ul></li><li><label class='ee-shut'>2: [20.0340233369012, -33.02876178587056]<input type='checkbox' class='ee-toggle'></label><ul><li><span class='ee-k'>0:</span><span class='ee-v'>20.0340233369012</span></li><li><span class='ee-k'>1:</span><span class='ee-v'>-33.02876178587056</span></li></ul></li><li><label class='ee-shut'>3: [20.039358858594024, -32.53368614131963]<input type='checkbox' class='ee-toggle'></label><ul><li><span class='ee-k'>0:</span><span class='ee-v'>20.039358858594024</span></li><li><span class='ee-k'>1:</span><span class='ee-v'>-32.53368614131963</span></li></ul></li><li><label class='ee-shut'>4: [20.039315876198817, -32.53364431879226]<input type='checkbox' class='ee-toggle'></label><ul><li><span class='ee-k'>0:</span><span class='ee-v'>20.039315876198817</span></li><li><span class='ee-k'>1:</span><span class='ee-v'>-32.53364431879226</span></li></ul></li><li><label class='ee-shut'>5: [20.039279527452287, -32.53359833580958]<input type='checkbox' class='ee-toggle'></label><ul><li><span class='ee-k'>0:</span><span class='ee-v'>20.039279527452287</span></li><li><span class='ee-k'>1:</span><span class='ee-v'>-32.53359833580958</span></li></ul></li><li><label class='ee-shut'>6: [20.039261989182773, -32.53359535789928]<input type='checkbox' class='ee-toggle'></label><ul><li><span class='ee-k'>0:</span><span class='ee-v'>20.039261989182773</span></li><li><span class='ee-k'>1:</span><span class='ee-v'>-32.53359535789928</span></li></ul></li><li><label class='ee-shut'>7: [18.870717644543436, -32.51923770344186]<input type='checkbox' class='ee-toggle'></label><ul><li><span class='ee-k'>0:</span><span class='ee-v'>18.870717644543436</span></li><li><span class='ee-k'>1:</span><span class='ee-v'>-32.51923770344186</span></li></ul></li><li><label class='ee-shut'>8: [18.870667689103218, -32.51927339942682]<input type='checkbox' class='ee-toggle'></label><ul><li><span class='ee-k'>0:</span><span class='ee-v'>18.870667689103218</span></li><li><span class='ee-k'>1:</span><span class='ee-v'>-32.51927339942682</span></li></ul></li><li><label class='ee-shut'>9: [18.870612747192514, -32.519303627820065]<input type='checkbox' class='ee-toggle'></label><ul><li><span class='ee-k'>0:</span><span class='ee-v'>18.870612747192514</span></li><li><span class='ee-k'>1:</span><span class='ee-v'>-32.519303627820065</span></li></ul></li><li><label class='ee-shut'>10: [18.87060903000081, -32.51931834813026]<input type='checkbox' class='ee-toggle'></label><ul><li><span class='ee-k'>0:</span><span class='ee-v'>18.87060903000081</span></li><li><span class='ee-k'>1:</span><span class='ee-v'>-32.51931834813026</span></li></ul></li><li><label class='ee-shut'>11: [18.858790711523074, -33.01412792871691]<input type='checkbox' class='ee-toggle'></label><ul><li><span class='ee-k'>0:</span><span class='ee-v'>18.858790711523074</span></li><li><span class='ee-k'>1:</span><span class='ee-v'>-33.01412792871691</span></li></ul></li><li><label class='ee-shut'>12: [18.846680010397726, -33.5088868729059]<input type='checkbox' class='ee-toggle'></label><ul><li><span class='ee-k'>0:</span><span class='ee-v'>18.846680010397726</span></li><li><span class='ee-k'>1:</span><span class='ee-v'>-33.5088868729059</span></li></ul></li><li><label class='ee-shut'>13: [18.84672280086004, -33.50892909823239]<input type='checkbox' class='ee-toggle'></label><ul><li><span class='ee-k'>0:</span><span class='ee-v'>18.84672280086004</span></li><li><span class='ee-k'>1:</span><span class='ee-v'>-33.50892909823239</span></li></ul></li><li><label class='ee-shut'>14: [18.84675897330954, -33.50897541233762]<input type='checkbox' class='ee-toggle'></label><ul><li><span class='ee-k'>0:</span><span class='ee-v'>18.84675897330954</span></li><li><span class='ee-k'>1:</span><span class='ee-v'>-33.50897541233762</span></li></ul></li><li><label class='ee-shut'>15: [18.846776560917768, -33.508978582085845]<input type='checkbox' class='ee-toggle'></label><ul><li><span class='ee-k'>0:</span><span class='ee-v'>18.846776560917768</span></li><li><span class='ee-k'>1:</span><span class='ee-v'>-33.508978582085845</span></li></ul></li><li><label class='ee-shut'>16: [20.028446685895062, -33.52388651607974]<input type='checkbox' class='ee-toggle'></label><ul><li><span class='ee-k'>0:</span><span class='ee-v'>20.028446685895062</span></li><li><span class='ee-k'>1:</span><span class='ee-v'>-33.52388651607974</span></li></ul></li><li><label class='ee-shut'>17: [20.02849684638497, -33.523850300311246]<input type='checkbox' class='ee-toggle'></label><ul><li><span class='ee-k'>0:</span><span class='ee-v'>20.02849684638497</span></li><li><span class='ee-k'>1:</span><span class='ee-v'>-33.523850300311246</span></li></ul></li><li><label class='ee-shut'>18: [20.02855200475397, -33.52381964146308]<input type='checkbox' class='ee-toggle'></label><ul><li><span class='ee-k'>0:</span><span class='ee-v'>20.02855200475397</span></li><li><span class='ee-k'>1:</span><span class='ee-v'>-33.52381964146308</span></li></ul></li><li><label class='ee-shut'>19: [20.028554639997406, -33.52380862154717]<input type='checkbox' class='ee-toggle'></label><ul><li><span class='ee-k'>0:</span><span class='ee-v'>20.028554639997406</span></li><li><span class='ee-k'>1:</span><span class='ee-v'>-33.52380862154717</span></li></ul></li></ul></li></ul></li><li><span class='ee-k'>system:index:</span><span class='ee-v'>20240219T082009_20240219T084413_T34HCJ</span></li><li><span class='ee-k'>system:time_end:</span><span class='ee-v'>1708332576694</span></li><li><span class='ee-k'>system:time_start:</span><span class='ee-v'>1708332576694</span></li></ul></li></ul></li></ul></div><script>function toggleHeader() {\n",
       "    const parent = this.parentElement;\n",
       "    parent.className = parent.className === \"ee-open\" ? \"ee-shut\" : \"ee-open\";\n",
       "}\n",
       "\n",
       "for (let c of document.getElementsByClassName(\"ee-toggle\")) {\n",
       "    c.onclick = toggleHeader;\n",
       "}</script></div>"
      ],
      "text/plain": [
       "<ee.image.Image at 0x2f3a9e726c0>"
      ]
     },
     "execution_count": 40,
     "metadata": {},
     "output_type": "execute_result"
    }
   ],
   "source": [
    "fires = ee.FeatureCollection(\"projects/ee-geethensingh/assets/postdoc/All_fires_23_24_gw\").filter(ee.Filter.gte('YEAR', 2024))\\\n",
    ".map(lambda ft: ft.set('area', ft.area())).sort('area', False)\n",
    "eeprint(fires.first())\n",
    "img = ee.ImageCollection(supportedSensors.get('Sentinel-2')).filterBounds(fires.first().geometry()).filterDate('2024-01-22', '2024-02-28').sort('CLOUD_COVERAGE_ASSESSMENT', True).first()\n",
    "img"
   ]
  },
  {
   "cell_type": "code",
   "execution_count": 41,
   "metadata": {},
   "outputs": [
    {
     "data": {
      "text/html": [
       "\n",
       "            <style>\n",
       "                .geemap-dark {\n",
       "                    --jp-widgets-color: white;\n",
       "                    --jp-widgets-label-color: white;\n",
       "                    --jp-ui-font-color1: white;\n",
       "                    --jp-layout-color2: #454545;\n",
       "                    background-color: #383838;\n",
       "                }\n",
       "\n",
       "                .geemap-dark .jupyter-button {\n",
       "                    --jp-layout-color3: #383838;\n",
       "                }\n",
       "\n",
       "                .geemap-colab {\n",
       "                    background-color: var(--colab-primary-surface-color, white);\n",
       "                }\n",
       "\n",
       "                .geemap-colab .jupyter-button {\n",
       "                    --jp-layout-color3: var(--colab-primary-surface-color, white);\n",
       "                }\n",
       "            </style>\n",
       "            "
      ],
      "text/plain": [
       "<IPython.core.display.HTML object>"
      ]
     },
     "metadata": {},
     "output_type": "display_data"
    },
    {
     "data": {
      "application/vnd.jupyter.widget-view+json": {
       "model_id": "6f087f7e0e4d428c9f12015e7afe28b1",
       "version_major": 2,
       "version_minor": 0
      },
      "text/plain": [
       "Map(center=[-33.02279784038606, 19.44636817305158], controls=(WidgetControl(options=['position', 'transparent_…"
      ]
     },
     "execution_count": 41,
     "metadata": {},
     "output_type": "execute_result"
    }
   ],
   "source": [
    "Map = geemap.Map()\n",
    "Map.addLayer(img, vis_params = {'bands': ['B12', 'B8', 'B4'], 'gamma': 1.0, 'min': 1221.8729292334365, 'max': 2294.690588294787})\n",
    "Map.addLayer(fires.first().geometry())\n",
    "Map.centerObject(img, zoom=10)\n",
    "Map"
   ]
  },
  {
   "cell_type": "code",
   "execution_count": 51,
   "metadata": {},
   "outputs": [
    {
     "data": {
      "text/html": [
       "\n",
       "            <style>\n",
       "                .geemap-dark {\n",
       "                    --jp-widgets-color: white;\n",
       "                    --jp-widgets-label-color: white;\n",
       "                    --jp-ui-font-color1: white;\n",
       "                    --jp-layout-color2: #454545;\n",
       "                    background-color: #383838;\n",
       "                }\n",
       "\n",
       "                .geemap-dark .jupyter-button {\n",
       "                    --jp-layout-color3: #383838;\n",
       "                }\n",
       "\n",
       "                .geemap-colab {\n",
       "                    background-color: var(--colab-primary-surface-color, white);\n",
       "                }\n",
       "\n",
       "                .geemap-colab .jupyter-button {\n",
       "                    --jp-layout-color3: var(--colab-primary-surface-color, white);\n",
       "                }\n",
       "            </style>\n",
       "            "
      ],
      "text/plain": [
       "<IPython.core.display.HTML object>"
      ]
     },
     "metadata": {},
     "output_type": "display_data"
    }
   ],
   "source": [
    "# check which scenes need to be downloaded\n",
    "from src.utils import load_object\n",
    "import ee\n",
    "from geeml.utils import eeprint\n",
    "from geedim.download import BaseImage\n",
    "import torch\n",
    "import segmentation_models_pytorch as smp\n",
    "# ee.Authenticate()\n",
    "ee.Initialize()\n",
    "\n",
    "# supportedSensors = {'Sentinel-1': ee.ImageCollection('COPERNICUS/S1_GRD'),\n",
    "#                     'Sentinel-2': ee.ImageCollection(\"COPERNICUS/S2_SR_HARMONIZED\"),\n",
    "#                     'LANDSAT_8': ee.ImageCollection(\"LANDSAT/LC08/C02/T1_L2\"),\n",
    "#                     'LANDSAT_9': ee.ImageCollection(\"LANDSAT/LC09/C02/T1_L2\")}\n",
    "\n",
    "supportedSensors = {'Sentinel-1': 'COPERNICUS/S1_GRD',\n",
    "                    'Sentinel-2': \"COPERNICUS/S2_SR_HARMONIZED\",\n",
    "                    'LANDSAT_8': \"LANDSAT/LC08/C02/T1_L2\",\n",
    "                    'LANDSAT_9': \"LANDSAT/LC09/C02/T1_L2\"}\n",
    "\n",
    "def preprocessOptical(image, sensor):\n",
    "    # Step 1) select bands\n",
    "    bandSelect = {'Sentinel-2': 'B.*',\n",
    "                    'LANDSAT_8': 'SR_B.',\n",
    "                    'LANDSAT_9': 'SR_B.'}\n",
    "    # Step 2) radiometric correction\n",
    "    radiometricMultiplySelect = {'Sentinel-2': 0.0001,\n",
    "                    'LANDSAT_8': 0.0000275,\n",
    "                    'LANDSAT_9': 0.0000275}\n",
    "    radiometricAddSelect = {'Sentinel-2': 0,\n",
    "                    'LANDSAT_8': -0.2,\n",
    "                    'LANDSAT_9': -0.2}\n",
    "    processed = image.select(bandSelect.get(sensor)).multiply(radiometricMultiplySelect.get(sensor)).add(radiometricAddSelect.get(sensor))\n",
    "\n",
    "    # Step 3) Cloud mask\n",
    "\n",
    "    # Step 4) Compute NBR\n",
    "    if sensor == 'Sentinel-2':\n",
    "        wIndices = processed.addBands([processed.normalizedDifference(['B8A', 'B12']).rename('nbr'), processed.normalizedDifference(['B8', 'B4']).rename('ndvi')])\n",
    "    if sensor == 'LANDSAT_8' or sensor == 'LANDSAT_9':\n",
    "        wIndices = processed.addBands([processed.normalizedDifference(['B5', 'B7']).rename('nbr'), processed.normalizedDifference(['B5', 'B4']).rename('ndvi')])\n",
    "    return wIndices\n",
    "\n",
    "def qualityMosaicPercentile(collection, QAband, percentile):\n",
    "    # Compute percentile image\n",
    "    percentileImage = collection.select(QAband).reduce(ee.Reducer.percentile([percentile]))\n",
    "    #  Compute distance of every pixel from the computed percentile in that location\n",
    "    withDist = ee.ImageCollection(collection.map(lambda image: image.addBands([\n",
    "        image.select(QAband).subtract(percentileImage).abs().multiply(-1).rename('quality')])))\n",
    "    return withDist.qualityMosaic('quality')\n",
    "\n",
    "def prepareInferenceImage(imageID: str, sensor:str)-> ee.Image:\n",
    "    \"\"\"Given an Image ID that is predicted (by the scene classification model) to contain a burn area,\n",
    "    download the required input data for the semantic segmentation model\n",
    "    \n",
    "    Args:\n",
    "        imageID (str): earth engine image ID\n",
    "        sensor (str): An optical sensor. Either 'Sentinel-2', 'LANDSAT_8' or 'LANDSAT_9'.\n",
    "        \n",
    "    Returns:\n",
    "        ee.Image with 16 bands for the before and after image\n",
    "        \n",
    "        \"\"\"\n",
    "    eventImage = ee.Image.load(f'{supportedSensors.get(sensor)}/{imageID}')\n",
    "    # radiometric calibration, compute NBR\n",
    "    postImg = preprocessOptical(eventImage, sensor)# mask clouds\n",
    "    eventDate = eventImage.date()\n",
    "    startDate = eventDate.advance(15*-1, 'week')\n",
    "    endDate = eventDate\n",
    "    # Filter to relevant pre-fire images\n",
    "    images = ee.ImageCollection(supportedSensors.get(sensor)).filterBounds(postImg.geometry()).filterDate(startDate, endDate)\n",
    "    # filter images, mask clouds, compute nbr and ndvi, compute compsoite based on 95th percentile NDVI. subtract from postNBR.\n",
    "    if sensor == 'LANDSAT_8' or sensor == 'LANDSAT_9':\n",
    "        preImg = ee.Image(qualityMosaicPercentile(images.map(lambda img: preprocessOptical(\n",
    "            img, sensor)),'ndvi', 95))\n",
    "    else:\n",
    "        preImg = ee.Image(qualityMosaicPercentile(ee.ImageCollection(images.map(lambda img: preprocessOptical(\n",
    "            img, sensor))),'ndvi', 95))\n",
    "\n",
    "    dnbr = preImg.select('nbr').subtract(postImg.select('nbr')).rename('dnbr')\n",
    "    bands = ['B2', 'B3', 'B4', 'B5', 'B6', 'B7', 'B8A', 'B11', 'B12', 'nbr', 'dnbr']\n",
    "    return postImg.addBands(dnbr).select(bands)\n",
    "\n",
    "# downloadList = load_object(r\"C:\\Users\\coach\\myfiles\\postdoc\\Fire\\code\\Burn_Area_Mapping\\src\\components\\artifacts\\downloadList.pkl\")\n",
    "# downloadList\n",
    "# load image\n",
    "# for img in downloadList[20:21]:\n",
    "#     print(img[2:])\n",
    "#     # download scenes\n",
    "#     eeImg = prepareInferenceImage(img[2:])\n",
    "#     filename = f'C:/Users/coach/myfiles/postdoc/Fire/code/Burn_Area_Mapping/src/components/artifacts/segScenes/{img[2:]}.tif'\n",
    "#     BaseImage(eeImg).download(filename, crs='EPSG:4326', region= eeImg.geometry(), scale=30, overwrite=True, num_threads=20, dtype= 'float64')\n",
    "#     #load model\n",
    "#     device = 'cuda' if torch.cuda.is_available() else 'cpu'\n",
    "#     model = smp.Unet(\n",
    "#         encoder_name=\"resnet34\",        \n",
    "#         encoder_weights= None,     \n",
    "#         in_channels=16,                  \n",
    "#         classes=2,  \n",
    "#     ).to(device)\n",
    "#     # r\"C:\\Users\\coach\\myfiles\\postdoc\\Fire\\code\\Burn_Area_Mapping\\src\\components\\artifacts\\segModel_22042024.pth\"\n",
    "#     checkpoint = torch.load(r\"C:\\Users\\coach\\myfiles\\postdoc\\Fire\\models\\UNet_05072024.pth\")\n",
    "#     model.load_state_dict(checkpoint)\n",
    "    \n",
    "    # run inference\n",
    "    # 5min13s to download and 1min to run inference\n",
    "    # upload to gee imagecollection"
   ]
  },
  {
   "cell_type": "code",
   "execution_count": 54,
   "metadata": {},
   "outputs": [
    {
     "data": {
      "text/html": [
       "\n",
       "            <style>\n",
       "                .geemap-dark {\n",
       "                    --jp-widgets-color: white;\n",
       "                    --jp-widgets-label-color: white;\n",
       "                    --jp-ui-font-color1: white;\n",
       "                    --jp-layout-color2: #454545;\n",
       "                    background-color: #383838;\n",
       "                }\n",
       "\n",
       "                .geemap-dark .jupyter-button {\n",
       "                    --jp-layout-color3: #383838;\n",
       "                }\n",
       "\n",
       "                .geemap-colab {\n",
       "                    background-color: var(--colab-primary-surface-color, white);\n",
       "                }\n",
       "\n",
       "                .geemap-colab .jupyter-button {\n",
       "                    --jp-layout-color3: var(--colab-primary-surface-color, white);\n",
       "                }\n",
       "            </style>\n",
       "            "
      ],
      "text/plain": [
       "<IPython.core.display.HTML object>"
      ]
     },
     "metadata": {},
     "output_type": "display_data"
    },
    {
     "name": "stderr",
     "output_type": "stream",
     "text": [
      "Consider adjusting `region`, `scale` and/or `dtype` to reduce the 20240219T082009_20240219T084413_T34HCJ.tif download size (raw: 1.45 GB).\n"
     ]
    },
    {
     "data": {
      "application/vnd.jupyter.widget-view+json": {
       "model_id": "55fa5be767f5408a82840d1c98f12c8b",
       "version_major": 2,
       "version_minor": 0
      },
      "text/plain": [
       "20240219T082009_20240219T084413_T34HCJ.tif: |          | 0.00/1.45G (raw) [  0.0%] in 00:00 (eta:     ?)"
      ]
     },
     "metadata": {},
     "output_type": "display_data"
    },
    {
     "name": "stderr",
     "output_type": "stream",
     "text": [
      "There is no STAC entry for: None\n"
     ]
    }
   ],
   "source": [
    "# Download image\n",
    "imgID = '20240219T082009_20240219T084413_T34HCJ'\n",
    "eeImg = prepareInferenceImage(imgID, 'Sentinel-2')\n",
    "filename = f'C:/Users/coach/myfiles/postdoc/Fire/code/Burn_Area_Mapping/src/components/artifacts/segScenes/{imgID}.tif'\n",
    "BaseImage(eeImg).download(filename, crs='EPSG:4326', region= eeImg.geometry(), scale=30, overwrite=True, num_threads=20, dtype= 'float64')"
   ]
  },
  {
   "cell_type": "code",
   "execution_count": 59,
   "metadata": {},
   "outputs": [
    {
     "data": {
      "text/html": [
       "\n",
       "            <style>\n",
       "                .geemap-dark {\n",
       "                    --jp-widgets-color: white;\n",
       "                    --jp-widgets-label-color: white;\n",
       "                    --jp-ui-font-color1: white;\n",
       "                    --jp-layout-color2: #454545;\n",
       "                    background-color: #383838;\n",
       "                }\n",
       "\n",
       "                .geemap-dark .jupyter-button {\n",
       "                    --jp-layout-color3: #383838;\n",
       "                }\n",
       "\n",
       "                .geemap-colab {\n",
       "                    background-color: var(--colab-primary-surface-color, white);\n",
       "                }\n",
       "\n",
       "                .geemap-colab .jupyter-button {\n",
       "                    --jp-layout-color3: var(--colab-primary-surface-color, white);\n",
       "                }\n",
       "            </style>\n",
       "            "
      ],
      "text/plain": [
       "<IPython.core.display.HTML object>"
      ]
     },
     "metadata": {},
     "output_type": "display_data"
    },
    {
     "name": "stdout",
     "output_type": "stream",
     "text": [
      "False\n",
      "0\n",
      "None\n",
      "True\n"
     ]
    }
   ],
   "source": [
    "import torch\n",
    "\n",
    "# Check if CUDA is available\n",
    "print(torch.cuda.is_available())\n",
    "\n",
    "# Check if CUDA devices are available\n",
    "print(torch.cuda.device_count())\n",
    "\n",
    "# Check if CUDA drivers are installed\n",
    "print(torch.version.cuda)\n",
    "\n",
    "# Check if CUDA is enabled\n",
    "print(torch.backends.cudnn.enabled)\n"
   ]
  },
  {
   "cell_type": "code",
   "execution_count": 2,
   "metadata": {},
   "outputs": [
    {
     "name": "stderr",
     "output_type": "stream",
     "text": [
      "C:\\Users\\coach\\AppData\\Local\\Temp\\ipykernel_9984\\1178009166.py:15: FutureWarning: You are using `torch.load` with `weights_only=False` (the current default value), which uses the default pickle module implicitly. It is possible to construct malicious pickle data which will execute arbitrary code during unpickling (See https://github.com/pytorch/pytorch/blob/main/SECURITY.md#untrusted-models for more details). In a future release, the default value for `weights_only` will be flipped to `True`. This limits the functions that could be executed during unpickling. Arbitrary objects will no longer be allowed to be loaded via this mode unless they are explicitly allowlisted by the user via `torch.serialization.add_safe_globals`. We recommend you start setting `weights_only=True` for any use case where you don't have full control of the loaded file. Please open an issue on GitHub for any issues related to this experimental feature.\n",
      "  checkpoint = torch.load(r\"C:\\Users\\coach\\myfiles\\postdoc\\Fire\\models\\FTUnet_imgnet_convnextT_29092024.pth\")\n"
     ]
    }
   ],
   "source": [
    "import torchseg\n",
    "import torch\n",
    "# load model\n",
    "device = 'cuda' if torch.cuda.is_available() else 'cpu'\n",
    "model = torchseg.Unet(\n",
    "    encoder_name=\"convnextv2_tiny\",        \n",
    "    encoder_weights= None,     # use `imagenet` pre-trained weights for encoder initialization\n",
    "    in_channels=14,\n",
    "    classes=2,\n",
    "    encoder_depth= 4,\n",
    "    decoder_channels=(256, 128, 64, 32),\n",
    "    head_upsampling=2                      \n",
    ")\n",
    "    # r\"C:\\Users\\coach\\myfiles\\postdoc\\Fire\\code\\Burn_Area_Mapping\\src\\components\\artifacts\\segModel_22042024.pth\"\n",
    "checkpoint = torch.load(r\"C:\\Users\\coach\\myfiles\\postdoc\\Fire\\models\\FTUnet_imgnet_convnextT_29092024.pth\")\n",
    "model.load_state_dict(checkpoint)\n",
    "model = model.to(device)\n"
   ]
  },
  {
   "cell_type": "code",
   "execution_count": 14,
   "metadata": {},
   "outputs": [
    {
     "data": {
      "application/vnd.jupyter.widget-view+json": {
       "model_id": "9c12e2f8b880488c809842476e0e8320",
       "version_major": 2,
       "version_minor": 0
      },
      "text/plain": [
       "Map(center=[-25.995204899918985, 23.860780416242243], controls=(WidgetControl(options=['position', 'transparen…"
      ]
     },
     "metadata": {},
     "output_type": "display_data"
    }
   ],
   "source": [
    "import geemap\n",
    "Map = geemap.Map()\n",
    "img = \"2_LC08_173078_20240305\"\n",
    "eeimg = ee.Image.load(f'LANDSAT/LC08/C02/T1_TOA/{img[2:]}').select([\"B7\",\"B5\",\"B4\"])\n",
    "Map.addLayer(eeimg, {'bands': ['B7', 'B5', 'B4'], 'min':0, 'max':0.7})\n",
    "Map.centerObject(eeimg.geometry(), 9)\n",
    "Map"
   ]
  },
  {
   "cell_type": "code",
   "execution_count": 17,
   "metadata": {},
   "outputs": [
    {
     "data": {
      "text/html": [
       "\n",
       "            <style>\n",
       "                .geemap-dark {\n",
       "                    --jp-widgets-color: white;\n",
       "                    --jp-widgets-label-color: white;\n",
       "                    --jp-ui-font-color1: white;\n",
       "                    --jp-layout-color2: #454545;\n",
       "                    background-color: #383838;\n",
       "                }\n",
       "\n",
       "                .geemap-dark .jupyter-button {\n",
       "                    --jp-layout-color3: #383838;\n",
       "                }\n",
       "\n",
       "                .geemap-colab {\n",
       "                    background-color: var(--colab-primary-surface-color, white);\n",
       "                }\n",
       "\n",
       "                .geemap-colab .jupyter-button {\n",
       "                    --jp-layout-color3: var(--colab-primary-surface-color, white);\n",
       "                }\n",
       "            </style>\n",
       "            "
      ],
      "text/plain": [
       "<IPython.core.display.HTML object>"
      ]
     },
     "metadata": {},
     "output_type": "display_data"
    },
    {
     "data": {
      "text/plain": [
       "'c:\\\\Users\\\\coach\\\\myfiles\\\\postdoc\\\\Fire\\\\code\\\\Burn_Area_Mapping\\\\src'"
      ]
     },
     "execution_count": 17,
     "metadata": {},
     "output_type": "execute_result"
    }
   ],
   "source": [
    "import os\n",
    "os.chdir('c:\\\\Users\\\\coach\\\\myfiles\\\\postdoc\\\\Fire\\\\code\\\\Burn_Area_Mapping\\\\src')\n",
    "os.getcwd()"
   ]
  },
  {
   "cell_type": "code",
   "execution_count": 3,
   "metadata": {},
   "outputs": [
    {
     "name": "stderr",
     "output_type": "stream",
     "text": [
      "c:\\ProgramData\\Anaconda3\\envs\\erthy\\Lib\\site-packages\\kornia\\feature\\lightglue.py:44: FutureWarning: `torch.cuda.amp.custom_fwd(args...)` is deprecated. Please use `torch.amp.custom_fwd(args..., device_type='cuda')` instead.\n",
      "  @torch.cuda.amp.custom_fwd(cast_inputs=torch.float32)\n"
     ]
    }
   ],
   "source": [
    "# from src.utils import load_object\n",
    "# from utils import MyNormalize\n",
    "from torchgeo.transforms import indices, AugmentationSequential\n",
    "\n",
    "# mean, std = load_object(r\"components\\artifacts\\norm_vals.pkl\")\n",
    "# normalize = MyNormalize(mean=mean, stdev=std)\n",
    "\n",
    "# Create transforms\n",
    "data_transform = AugmentationSequential(\n",
    "    indices.AppendNDBI(index_swir=8, index_nir=9),\n",
    "    indices.AppendNDWI(index_green=1, index_nir=6),\n",
    "    indices.AppendNDVI(index_nir=6, index_red=2),\n",
    "    data_keys = ['image']\n",
    ")"
   ]
  },
  {
   "cell_type": "code",
   "execution_count": null,
   "metadata": {},
   "outputs": [],
   "source": [
    "import logging\n",
    "import os\n",
    "import math\n",
    "from pathlib import Path\n",
    "from typing import Callable, Optional\n",
    "\n",
    "import rasterio as rio\n",
    "import torch\n",
    "# import torch.nn.functional as F\n",
    "import torchvision.transforms.functional as F\n",
    "\n",
    "import torchvision.transforms as transforms\n",
    "from concurrent.futures import ThreadPoolExecutor, as_completed\n",
    "from tqdm.auto import tqdm\n",
    "from rasterio.windows import Window\n",
    "\n",
    "import os\n",
    "import ee\n",
    "import threading\n",
    "\n",
    "def inference(\n",
    "    infile: str,\n",
    "    imgTransforms: Callable[[dict], dict],\n",
    "    model: torch.nn.Module,\n",
    "    outfile: str,\n",
    "    patchSize: int,\n",
    "    overlap: int = 16,\n",
    "    num_workers: int = 4,\n",
    "    device: Optional[str] = None\n",
    ") -> None:\n",
    "    \"\"\"\n",
    "    Run inference using model on infile block-by-block and write to a new file (outfile).\n",
    "    If the infile image width/height is not exactly divisible by 32, padding\n",
    "    is added for inference and removed prior to saving the outfile.\n",
    "    \n",
    "    Args:\n",
    "        infile (str): Path to input image/covariates.\n",
    "        imgTransforms (Callable): Function to transform input images.\n",
    "        model (torch.nn.Module): Loaded trained model/checkpoint.\n",
    "        outfile (str): Path to save the predicted image.\n",
    "        patchSize (int): Must be a multiple of 32. Size independent of model input size.\n",
    "        overlap (int): Number of overlapping pixels between patches.\n",
    "        num_workers (int): Number of workers to parallelize across.\n",
    "        device (str, optional): Device to run the model on.\n",
    "        \n",
    "    Returns:\n",
    "        None: A TIFF file is saved to the outfile destination.\n",
    "\n",
    "    # Example usage:\n",
    "        # infile = 'path/to/input.tif'\n",
    "        # imgTransforms = some_torchgeo_transforms_function\n",
    "        # model = some_loaded_pytorch_model\n",
    "        # outfile = 'path/to/output.tif'\n",
    "        # inference(infile, imgTransforms, model, outfile, patchSize=256, overlap=16, num_workers=4, device='cuda')\n",
    "    \"\"\"\n",
    "    \n",
    "    # Open the input file using rasterio\n",
    "    with rio.open(infile) as src:\n",
    "        # Set up logging\n",
    "        logger = logging.getLogger(__name__)\n",
    "        \n",
    "        # Create a destination dataset based on source parameters\n",
    "        profile = src.profile\n",
    "        profile.update(blockxsize=patchSize, blockysize=patchSize, tiled=True, count=1)\n",
    "        \n",
    "        # Open the output file with the updated profile\n",
    "        with rio.open(Path(outfile), \"w\", **profile) as dst:\n",
    "            # Get all windows (patches) in the destination dataset\n",
    "            windows = [window for ij, window in dst.block_windows()]\n",
    "            \n",
    "            # Create locks for reading and writing to ensure thread safety\n",
    "            read_lock = threading.Lock()\n",
    "            write_lock = threading.Lock()\n",
    "            \n",
    "            def process(window: Window) -> None:\n",
    "                \"\"\"\n",
    "                Process a single window (patch) by reading it, transforming it, running the model on it,\n",
    "                and writing the result to the output file.\n",
    "                \"\"\"\n",
    "                # Acquire the read lock to safely read from the input file\n",
    "                with read_lock:\n",
    "                    # edge case- border patches cannot have overlap on atleast one edge\n",
    "                    # so if left and top start is negative, take 0\n",
    "                    # col_off = max(window.col_off - overlap, 0)\n",
    "                    # row_off = max(window.row_off - overlap, 0)\n",
    "\n",
    "                    col_off = window.col_off - overlap\n",
    "                    row_off = window.row_off - overlap\n",
    "                    \n",
    "                    # If top or left point is 0, width is going to include patchsize + overlap on one side.\n",
    "                    # If patch is on right or bottom edge, there may be insufficient pixels for overlap and a patch.\n",
    "                    # In this case, the width will be less than patchsize + overlap\n",
    "                    # Case only relevant for small images< patchSize (i.e., col_off, row_off ==0 and min is not src width/height).\n",
    "                    # Adjust width and height based on overlap and boundaries\n",
    "                    # if col_off == 0:\n",
    "                    #     width = min(patchSize + overlap, src.width - col_off)\n",
    "                    # else:\n",
    "                    #     width = min(patchSize + overlap * 2, src.width - col_off)\n",
    "                    # if row_off == 0:\n",
    "                    #     height = min(patchSize + overlap, src.height - row_off)\n",
    "                    # else:\n",
    "                    #     height = min(patchSize + overlap * 2, src.height - row_off)\n",
    "                    width = patchSize + overlap * 2\n",
    "                    height = patchSize + overlap * 2\n",
    "                    # If patch starts in the middle of the image, it will have overlaps on both sides (overlap*2).\n",
    "                    # Except for right and bottom edge.\n",
    "                    \n",
    "                    # Create a window with overlap\n",
    "                    overlap_window = Window(\n",
    "                        col_off=col_off,\n",
    "                        row_off=row_off,\n",
    "                        width=width,\n",
    "                        height=height\n",
    "                    )\n",
    "                    \n",
    "                    # Read the data from the input file within the overlap window\n",
    "                    src_array = src.read(boundless=True, window=overlap_window, fill_value = 0.0)\n",
    "                    src_array = torch.from_numpy(src_array)\n",
    "\n",
    "                    # Add padding if the patch is on the boundary of the large image\n",
    "                    # pad_left = overlap if col_off == 0 else 0\n",
    "                    # pad_top = overlap if row_off == 0 else 0\n",
    "\n",
    "                    # right and bottom padding is required when width and height are less than patchSize + overlap*2\n",
    "                    # The amount of padding required is equal to patchSize + overlap*2 - width and height\n",
    "                    # pad_right = patchSize+overlap*2 - width if width < patchSize + overlap * 2 else 0\n",
    "                    # pad_bottom = patchSize+overlap*2 - height if height < patchSize + overlap * 2 else 0\n",
    "                    # transform = transforms.Pad((pad_left, pad_top, pad_right, pad_bottom))\n",
    "                    # src_array = transform(src_array)\n",
    "                    \n",
    "                    # Apply the image transformations\n",
    "                    image = imgTransforms({\"image\": src_array})['image']#.squeeze()\n",
    "\n",
    "                    def d4_transformations(image):\n",
    "                        # Generate the eight \\(\\text{D}_4\\) transformations\n",
    "                        transformations = [\n",
    "                            image,                                # Original\n",
    "                            F.rotate(image, 90),                  # Rotate 90 degrees\n",
    "                            F.rotate(image, 180),                 # Rotate 180 degrees\n",
    "                            F.rotate(image, 270),                 # Rotate 270 degrees\n",
    "                            F.hflip(image),                       # Horizontal flip\n",
    "                            F.vflip(image),                       # Vertical flip\n",
    "                            F.vflip(F.rotate(image, 90)),         # Vertical flip + Rotate 90 degrees\n",
    "                            F.hflip(F.rotate(image, 90))          # Horizontal flip + Rotate 90 degrees\n",
    "                        ]\n",
    "                        return torch.stack(transformations)\n",
    "                    \n",
    "                    def inverse_d4_transformations(outputs):\n",
    "                        # Define the inverse transformations for D4\n",
    "                        inverses = [\n",
    "                            lambda x: x,                          # Original\n",
    "                            lambda x: F.rotate(x, -90),           # Rotate -90 degrees\n",
    "                            lambda x: F.rotate(x, -180),          # Rotate -180 degrees\n",
    "                            lambda x: F.rotate(x, -270),          # Rotate -270 degrees\n",
    "                            lambda x: F.hflip(x),                 # Horizontal flip\n",
    "                            lambda x: F.vflip(x),                 # Vertical flip\n",
    "                            lambda x: F.rotate(F.vflip(x), -90),  # Rotate -90 degrees after vertical flip\n",
    "                            lambda x: F.rotate(F.hflip(x), -90)   # Rotate -90 degrees after horizontal flip\n",
    "                        ]\n",
    "                        # Apply each inverse transformation to the corresponding output\n",
    "                        return torch.stack([inverses[i](output) for i, output in enumerate(outputs)])\n",
    "\n",
    "\n",
    "                    # Apply D4 transformations to create a batch\n",
    "                    # d4_batch = d4_transformations(image)\n",
    "\n",
    "                    # Move batch to the device\n",
    "                    # d4_batch = d4_batch.to(device, dtype=torch.float)\n",
    "                    image = image.to(device, dtype=torch.float)\n",
    "\n",
    "                    # Set the model to evaluation mode\n",
    "                    model.eval()\n",
    "                    with torch.no_grad():\n",
    "                            # Run the model on the padded image\n",
    "                            output = model(torch.nan_to_num(image, nan=0.0, neginf=0.0, posinf=0.0))\n",
    "\n",
    "                            # Apply the inverse transformations\n",
    "                            # outputs = inverse_d4_transformations(output)\n",
    "                            \n",
    "                            # Take the mean of the batch along the batch dimension\n",
    "                            # output = outputs.mean(dim=0)\n",
    "\n",
    "                    # Remove overlap and/or padding from the output\n",
    "                    # ws = max(window.col_off - overlap, 0)\n",
    "                    # rs = max(window.row_off - overlap, 0)\n",
    "                    result = output[:, 1, overlap:patchSize + overlap, overlap:patchSize + overlap].squeeze().detach().cpu()\n",
    "                    # overlap:patchSize + overlap, overlap:\n",
    "                # Acquire the write lock to safely write to the output file\n",
    "                with write_lock:\n",
    "                    dst.write(result.numpy(), 1, window=window)\n",
    "            \n",
    "            # Use a ThreadPoolExecutor to process the windows in parallel\n",
    "            with tqdm(total=len(windows), desc=os.path.basename(outfile)) as pbar:\n",
    "                with ThreadPoolExecutor(max_workers=num_workers) as executor:\n",
    "                    futures = {executor.submit(process, window): window for window in windows}\n",
    "                    \n",
    "                    try:\n",
    "                        for future in as_completed(futures):\n",
    "                            future.result()  # Wait for the future to complete\n",
    "                            pbar.update(1)  # Update the progress bar\n",
    "                    except Exception as ex:\n",
    "                        logger.error('Error during inference: %s', ex)\n",
    "                        executor.shutdown(wait=False, cancel_futures=True)\n",
    "                        raise ex"
   ]
  },
  {
   "cell_type": "code",
   "execution_count": 37,
   "metadata": {},
   "outputs": [],
   "source": [
    "import logging\n",
    "import os\n",
    "import math\n",
    "from pathlib import Path\n",
    "from typing import Callable, Optional\n",
    "\n",
    "import rasterio as rio\n",
    "import torch\n",
    "# import torch.nn.functional as F\n",
    "import torchvision.transforms.functional as F\n",
    "\n",
    "import torchvision.transforms as transforms\n",
    "from concurrent.futures import ThreadPoolExecutor, as_completed\n",
    "from tqdm.auto import tqdm\n",
    "from rasterio.windows import Window\n",
    "\n",
    "import os\n",
    "import ee\n",
    "import threading\n",
    "\n",
    "def inference(\n",
    "    infile: str,\n",
    "    imgTransforms: Callable[[dict], dict],\n",
    "    model: torch.nn.Module,\n",
    "    outfile: str,\n",
    "    patchSize: int = 256,\n",
    "    overlap: int = 128,\n",
    "    num_workers: int = 1,\n",
    "    device: Optional[str] = None\n",
    ") -> None:\n",
    "    \"\"\"\n",
    "    Run inference using model on infile block-by-block and write to a new file (outfile).\n",
    "    If the infile image width/height is not exactly divisible by 32, padding\n",
    "    is added for inference and removed prior to saving the outfile.\n",
    "    \n",
    "    Args:\n",
    "        infile (str): Path to input image/covariates.\n",
    "        imgTransforms (Callable): Function to transform input images.\n",
    "        model (torch.nn.Module): Loaded trained model/checkpoint.\n",
    "        outfile (str): Path to save the predicted image.\n",
    "        patchSize (int): Must be a multiple of 32. Size independent of model input size.\n",
    "        overlap (int): Number of overlapping pixels between patches.\n",
    "        num_workers (int): Number of workers to parallelize across.\n",
    "        device (str, optional): Device to run the model on.\n",
    "        \n",
    "    Returns:\n",
    "        None: A TIFF file is saved to the outfile destination.\n",
    "\n",
    "    # Example usage:\n",
    "        # infile = 'path/to/input.tif'\n",
    "        # imgTransforms = some_torchgeo_transforms_function\n",
    "        # model = some_loaded_pytorch_model\n",
    "        # outfile = 'path/to/output.tif'\n",
    "        # inference(infile, imgTransforms, model, outfile, patchSize=256, overlap=16, num_workers=4, device='cuda')\n",
    "    \"\"\"\n",
    "    \n",
    "    # Open the input file using rasterio\n",
    "    with rio.open(infile) as src:\n",
    "        # Set up logging\n",
    "        logger = logging.getLogger(__name__)\n",
    "        \n",
    "        # Create a destination dataset based on source parameters\n",
    "        profile = src.profile\n",
    "        profile.update(blockxsize=patchSize, blockysize=patchSize, tiled=True, count=1, compress = 'lzw')\n",
    "        \n",
    "        # Open the output file with the updated profile\n",
    "        with rio.open(Path(outfile), \"w\", **profile) as dst:\n",
    "            # Get all windows (patches) in the destination dataset\n",
    "            windows = [window for ij, window in dst.block_windows()]\n",
    "            \n",
    "            # Create locks for reading and writing to ensure thread safety\n",
    "            read_lock = threading.Lock()\n",
    "            write_lock = threading.Lock()\n",
    "            \n",
    "            def process(window: Window) -> None:\n",
    "                \"\"\"\n",
    "                Process a single window (patch) by reading it, transforming it, running the model on it,\n",
    "                and writing the result to the output file.\n",
    "                \"\"\"\n",
    "                # Acquire the read lock to safely read from the input file\n",
    "                with read_lock:\n",
    "\n",
    "                    col_off = window.col_off - overlap\n",
    "                    row_off = window.row_off - overlap\n",
    "                    width = patchSize + overlap * 2\n",
    "                    height = patchSize + overlap * 2\n",
    "                    \n",
    "                    # Create a window with overlap\n",
    "                    overlap_window = Window(\n",
    "                        col_off=col_off,\n",
    "                        row_off=row_off,\n",
    "                        width=width,\n",
    "                        height=height\n",
    "                    )\n",
    "                    \n",
    "                    # Read the data from the input file within the overlap window\n",
    "                    src_array = src.read(boundless=True, window=overlap_window, fill_value = 0.0)\n",
    "                    src_array = torch.from_numpy(src_array)\n",
    "\n",
    "                    # Apply the image transformations\n",
    "                    image = imgTransforms({\"image\": src_array})['image']#.squeeze()\n",
    "\n",
    "                    def d4_transformations(image):\n",
    "                        # Generate the eight \\(\\text{D}_4\\) transformations\n",
    "                        transformations = [\n",
    "                            image,                                # Original\n",
    "                            F.rotate(image, 90),                  # Rotate 90 degrees\n",
    "                            F.rotate(image, 180),                 # Rotate 180 degrees\n",
    "                            F.rotate(image, 270),                 # Rotate 270 degrees\n",
    "                            F.hflip(image),                       # Horizontal flip\n",
    "                            F.vflip(image),                       # Vertical flip\n",
    "                            F.vflip(F.rotate(image, 90)),         # Vertical flip + Rotate 90 degrees\n",
    "                            F.hflip(F.rotate(image, 90))          # Horizontal flip + Rotate 90 degrees\n",
    "                        ]\n",
    "                        return torch.stack(transformations)\n",
    "                    \n",
    "                    def inverse_d4_transformations(outputs):\n",
    "                        # Define the inverse transformations for D4\n",
    "                        inverses = [\n",
    "                            lambda x: x,                          # Original\n",
    "                            lambda x: F.rotate(x, -90),           # Rotate -90 degrees\n",
    "                            lambda x: F.rotate(x, -180),          # Rotate -180 degrees\n",
    "                            lambda x: F.rotate(x, -270),          # Rotate -270 degrees\n",
    "                            lambda x: F.hflip(x),                 # Horizontal flip\n",
    "                            lambda x: F.vflip(x),                 # Vertical flip\n",
    "                            lambda x: F.rotate(F.vflip(x), -90),  # Rotate -90 degrees after vertical flip\n",
    "                            lambda x: F.rotate(F.hflip(x), -90)   # Rotate -90 degrees after horizontal flip\n",
    "                        ]\n",
    "                        # Apply each inverse transformation to the corresponding output\n",
    "                        return torch.stack([inverses[i](output) for i, output in enumerate(outputs)])\n",
    "\n",
    "\n",
    "                    # Apply D4 transformations to create a batch\n",
    "                    # d4_batch = d4_transformations(image)\n",
    "\n",
    "                    # Move batch to the device\n",
    "                    # d4_batch = d4_batch.to(device, dtype=torch.float)\n",
    "                    image = image.to(device, dtype=torch.float)\n",
    "\n",
    "                    patches, grid_size = split_tensor_to_patches(image, patchSize, overlap)\n",
    "\n",
    "                    # Set the model to evaluation mode\n",
    "                    model.eval()\n",
    "                    with torch.no_grad():\n",
    "                        # Run the model on the padded image\n",
    "                        # softmax = torch.nn.Softmax2d()\n",
    "                        output = model(torch.nan_to_num(patches, nan=0.0, neginf=0.0, posinf=0.0))\n",
    "\n",
    "                        # Apply the inverse transformations\n",
    "                        # outputs = inverse_d4_transformations(output)\n",
    "                        \n",
    "                        # Take the mean of the batch along the batch dimension\n",
    "                        # output = outputs.mean(dim=0)\n",
    "                        # Split into patches\n",
    "    \n",
    "                    # Reconstruct\n",
    "                    output_tensor = reconstruct_from_patches(\n",
    "                        output,\n",
    "                        grid_size,\n",
    "                        (1, 2, 512, 512),\n",
    "                        patchSize,\n",
    "                        overlap\n",
    "                    )\n",
    "\n",
    "                    # Remove overlap and/or padding from the output (assuming padding in the original code)\n",
    "                    # Adjust final output extraction for your specific dimensions and padding\n",
    "                    result = torch.argmax(output_tensor[:, :, overlap:patchSize + overlap, overlap:patchSize + overlap], dim=1).squeeze().detach().cpu()\n",
    "                    \n",
    "                # Acquire the write lock to safely write to the output file\n",
    "                with write_lock:\n",
    "                    dst.write(result.numpy(), 1, window=window)\n",
    "            \n",
    "            # Use a ThreadPoolExecutor to process the windows in parallel\n",
    "            with tqdm(total=len(windows), desc=os.path.basename(outfile)) as pbar:\n",
    "                with ThreadPoolExecutor(max_workers=num_workers) as executor:\n",
    "                    futures = {executor.submit(process, window): window for window in windows}\n",
    "                    \n",
    "                    try:\n",
    "                        for future in as_completed(futures):\n",
    "                            future.result()  # Wait for the future to complete\n",
    "                            pbar.update(1)  # Update the progress bar\n",
    "                    except Exception as ex:\n",
    "                        logger.error('Error during inference: %s', ex)\n",
    "                        executor.shutdown(wait=False, cancel_futures=True)\n",
    "                        raise ex"
   ]
  },
  {
   "cell_type": "code",
   "execution_count": 36,
   "metadata": {},
   "outputs": [
    {
     "data": {
      "text/plain": [
       "0"
      ]
     },
     "execution_count": 36,
     "metadata": {},
     "output_type": "execute_result"
    }
   ],
   "source": [
    "import gc\n",
    "import numpy as np\n",
    "torch.cuda.empty_cache()\n",
    "gc.collect()"
   ]
  },
  {
   "cell_type": "code",
   "execution_count": 38,
   "metadata": {},
   "outputs": [
    {
     "data": {
      "application/vnd.jupyter.widget-view+json": {
       "model_id": "61c46883bc1647ed93b7a2ada9071a0c",
       "version_major": 2,
       "version_minor": 0
      },
      "text/plain": [
       "predScene4.tif:   0%|          | 0/270 [00:00<?, ?it/s]"
      ]
     },
     "metadata": {},
     "output_type": "display_data"
    }
   ],
   "source": [
    "dd = r\"C:\\Users\\coach\\myfiles\\postdoc\\Fire\\code\\Burn_Area_Mapping\\src\\components\\artifacts\\segScenes\\predictions\\predScene4.tif\"\n",
    "# filename2 = r\"C:\\Users\\coach\\myfiles\\postdoc\\Fire\\data\\indonesia\\fire_data\\images\\L8_100066_010919_001.tif\"\n",
    "filename = r\"C:\\Users\\coach\\myfiles\\postdoc\\Fire\\code\\Burn_Area_Mapping\\src\\components\\artifacts\\segScenes\\20240219T082009_20240219T084413_T34HCJ.tif\"\n",
    "inference(infile = filename, imgTransforms= data_transform, model = model, outfile = dd, patchSize = 256, overlap = 128, num_workers=1, device = device)"
   ]
  },
  {
   "cell_type": "code",
   "execution_count": 19,
   "metadata": {},
   "outputs": [
    {
     "name": "stdout",
     "output_type": "stream",
     "text": [
      "Patches shape: torch.Size([9, 14, 256, 256])\n",
      "Grid size: (3, 3)\n",
      "Modified patches shape: torch.Size([9, 2, 256, 256])\n",
      "Reconstructed shape: torch.Size([1, 2, 512, 512])\n"
     ]
    }
   ],
   "source": [
    "import numpy as np\n",
    "import torch\n",
    "from scipy.signal.windows import triang  # Import the correct function\n",
    "import matplotlib.pyplot as plt  # for optional visualization\n",
    "\n",
    "# Spline window function\n",
    "def _spline_window(window_size, power=2):\n",
    "    \"\"\"\n",
    "    Squared spline window function for smooth transition.\n",
    "    \"\"\"\n",
    "    intersection = int(window_size / 4)\n",
    "    wind_outer = (abs(2 * triang(window_size)) ** power) / 2  # Use correct function\n",
    "    wind_outer[intersection:-intersection] = 0\n",
    "\n",
    "    wind_inner = 1 - (abs(2 * (triang(window_size) - 1)) ** power) / 2\n",
    "    wind_inner[:intersection] = 0\n",
    "    wind_inner[-intersection:] = 0\n",
    "\n",
    "    wind = wind_inner + wind_outer\n",
    "    wind = wind / np.average(wind)\n",
    "    return wind\n",
    "\n",
    "cached_2d_windows = dict()\n",
    "\n",
    "def _window_2D(window_size, power=2):\n",
    "    \"\"\"\n",
    "    Generate and return a 2D spline window.\n",
    "    \"\"\"\n",
    "    global cached_2d_windows\n",
    "    key = \"{}_{}\".format(window_size, power)\n",
    "    if key in cached_2d_windows:\n",
    "        wind = cached_2d_windows[key]\n",
    "    else:\n",
    "        wind = _spline_window(window_size, power)\n",
    "        wind = np.outer(wind, wind)  # Create a 2D window by outer product\n",
    "        cached_2d_windows[key] = wind\n",
    "    return torch.tensor(wind, dtype=torch.float32).unsqueeze(0).unsqueeze(0)\n",
    "\n",
    "def split_tensor_to_patches(tensor, patch_size=256, overlap=128):\n",
    "    \"\"\"\n",
    "    Efficiently split a tensor into overlapping patches using unfold.\n",
    "    \"\"\"\n",
    "    stride = patch_size - overlap\n",
    "    patches = tensor.unfold(2, patch_size, stride).unfold(3, patch_size, stride)\n",
    "    batch, channels, h_steps, w_steps, h_patch, w_patch = patches.shape\n",
    "    patches = patches.permute(0, 2, 3, 1, 4, 5).contiguous()\n",
    "    patches = patches.view(-1, channels, patch_size, patch_size)\n",
    "    return patches, (h_steps, w_steps)\n",
    "\n",
    "# def reconstruct_from_patches(patches, grid_size, output_size, patch_size=256, overlap=128, power=2):\n",
    "#     \"\"\"\n",
    "#     Reconstruct tensor from patches with smooth blending using a spline window.\n",
    "#     \"\"\"\n",
    "#     batch_size, out_channels, height, width = output_size\n",
    "#     h_steps, w_steps = grid_size\n",
    "#     stride = patch_size - overlap\n",
    "    \n",
    "#     # Create reconstruction tensor\n",
    "#     reconstructed = torch.zeros(output_size, device=patches.device)\n",
    "#     counter = torch.zeros_like(reconstructed)\n",
    "    \n",
    "#     # Create spline weight matrix\n",
    "#     weight = _window_2D(patch_size, power=power).to(patches.device)\n",
    "    \n",
    "#     # Calculate number of patches per batch\n",
    "#     patches_per_batch = h_steps * w_steps\n",
    "    \n",
    "#     # Process each batch\n",
    "#     for b in range(batch_size):\n",
    "#         batch_patches = patches[b * patches_per_batch:(b + 1) * patches_per_batch]\n",
    "        \n",
    "#         # Process each patch\n",
    "#         for idx in range(patches_per_batch):\n",
    "#             # Calculate grid position\n",
    "#             i = idx // w_steps\n",
    "#             j = idx % w_steps\n",
    "            \n",
    "#             y_start = i * stride\n",
    "#             x_start = j * stride\n",
    "            \n",
    "#             # Apply weight and add to reconstruction\n",
    "#             current_patch = batch_patches[idx].unsqueeze(0)  # Add batch dimension [1, C, H, W]\n",
    "#             weighted_patch = current_patch * weight  # Apply spline-based weight\n",
    "            \n",
    "#             reconstructed[b:b+1, :, y_start:y_start + patch_size, \n",
    "#                           x_start:x_start + patch_size] += weighted_patch\n",
    "#             counter[b:b+1, :, y_start:y_start + patch_size, \n",
    "#                     x_start:x_start + patch_size] += weight\n",
    "    \n",
    "#     # Normalize by counter to blend overlapping regions\n",
    "#     reconstructed = reconstructed / (counter + 1e-8)\n",
    "    \n",
    "#     return reconstructed\n",
    "\n",
    "def reconstruct_from_patches(patches, grid_size, output_size, patch_size=256, overlap=128, power=2):\n",
    "    \"\"\"\n",
    "    Reconstruct tensor from patches with smooth blending using a spline window.\n",
    "    \"\"\"\n",
    "    batch_size, out_channels, height, width = output_size\n",
    "    h_steps, w_steps = grid_size\n",
    "    stride = patch_size - overlap\n",
    "    \n",
    "    # Create reconstruction tensor\n",
    "    reconstructed = torch.zeros(output_size, device=patches.device)\n",
    "    counter = torch.zeros_like(reconstructed)\n",
    "    \n",
    "    # Create spline weight matrix\n",
    "    window_2d = _window_2D(patch_size, power=power).to(patches.device)\n",
    "    \n",
    "    # Calculate number of patches per batch\n",
    "    patches_per_batch = h_steps * w_steps\n",
    "    \n",
    "    # Process each batch\n",
    "    for b in range(batch_size):\n",
    "        batch_patches = patches[b * patches_per_batch:(b + 1) * patches_per_batch]\n",
    "        \n",
    "        # Process each patch\n",
    "        for idx in range(patches_per_batch):\n",
    "            # Calculate grid position\n",
    "            i = idx // w_steps\n",
    "            j = idx % w_steps\n",
    "            \n",
    "            y_start = i * stride\n",
    "            x_start = j * stride\n",
    "            \n",
    "            # Apply weight and add to reconstruction\n",
    "            current_patch = batch_patches[idx].unsqueeze(0)  # Add batch dimension [1, C, H, W]\n",
    "            \n",
    "            # Create a 2D window map the same size as the patch\n",
    "            patch_window = window_2d.repeat(1, out_channels, 1, 1)\n",
    "            \n",
    "            # Apply the 2D window to the patch\n",
    "            weighted_patch = current_patch * patch_window\n",
    "            \n",
    "            # Add the weighted patch to the reconstruction tensor, with proper positioning\n",
    "            reconstructed[b:b+1, :, y_start:y_start + patch_size, \n",
    "                          x_start:x_start + patch_size] += weighted_patch\n",
    "            \n",
    "            # Keep track of the total window weights at each pixel\n",
    "            counter[b:b+1, :, y_start:y_start + patch_size, \n",
    "                    x_start:x_start + patch_size] += patch_window\n",
    "    \n",
    "    # Normalize by counter to blend overlapping regions\n",
    "    reconstructed = reconstructed / (counter + 1e-8)\n",
    "    \n",
    "    return reconstructed\n",
    "\n",
    "# Example usage and testing\n",
    "if __name__ == \"__main__\":\n",
    "    # Create sample tensor\n",
    "    device = torch.device(\"cuda\" if torch.cuda.is_available() else \"cpu\")\n",
    "    sample_tensor = torch.randn(1, 14, 512, 512, device=device)\n",
    "    \n",
    "    # Parameters\n",
    "    patch_size = 256\n",
    "    overlap = 128\n",
    "    \n",
    "    # Split into patches\n",
    "    patches, grid_size = split_tensor_to_patches(sample_tensor, patch_size, overlap)\n",
    "    print(f\"Patches shape: {patches.shape}\")\n",
    "    print(f\"Grid size: {grid_size}\")\n",
    "    \n",
    "    # Simulate channel dimension change (14 -> 3)\n",
    "    modified_patches = patches[:, :2]\n",
    "    print(f\"Modified patches shape: {modified_patches.shape}\")\n",
    "    \n",
    "    # Reconstruct\n",
    "    reconstructed = reconstruct_from_patches(\n",
    "        modified_patches,\n",
    "        grid_size,\n",
    "        (1, 2, 512, 512),\n",
    "        patch_size,\n",
    "        overlap\n",
    "    )\n",
    "    print(f\"Reconstructed shape: {reconstructed.shape}\")"
   ]
  },
  {
   "cell_type": "code",
   "execution_count": null,
   "metadata": {},
   "outputs": [
    {
     "ename": "TypeError",
     "evalue": "Softmax2d.__init__() takes 1 positional argument but 2 were given",
     "output_type": "error",
     "traceback": [
      "\u001b[1;31m---------------------------------------------------------------------------\u001b[0m",
      "\u001b[1;31mTypeError\u001b[0m                                 Traceback (most recent call last)",
      "Cell \u001b[1;32mIn[28], line 1\u001b[0m\n\u001b[1;32m----> 1\u001b[0m m \u001b[38;5;241m=\u001b[39m \u001b[43mtorch\u001b[49m\u001b[38;5;241;43m.\u001b[39;49m\u001b[43mnn\u001b[49m\u001b[38;5;241;43m.\u001b[39;49m\u001b[43mSoftmax2d\u001b[49m\u001b[43m(\u001b[49m\u001b[43mtorch\u001b[49m\u001b[38;5;241;43m.\u001b[39;49m\u001b[43mrandn\u001b[49m\u001b[43m(\u001b[49m\u001b[38;5;241;43m1\u001b[39;49m\u001b[43m,\u001b[49m\u001b[43m \u001b[49m\u001b[38;5;241;43m2\u001b[39;49m\u001b[43m,\u001b[49m\u001b[43m \u001b[49m\u001b[38;5;241;43m1\u001b[39;49m\u001b[43m,\u001b[49m\u001b[43m \u001b[49m\u001b[38;5;241;43m1\u001b[39;49m\u001b[43m)\u001b[49m\u001b[43m)\u001b[49m\n\u001b[0;32m      2\u001b[0m \u001b[38;5;28mprint\u001b[39m(m)\n\u001b[0;32m      3\u001b[0m \u001b[38;5;66;03m# you softmax over the 2nd dimension\u001b[39;00m\n\u001b[0;32m      4\u001b[0m \u001b[38;5;66;03m# input = \u001b[39;00m\n\u001b[0;32m      5\u001b[0m \u001b[38;5;66;03m# print(input)\u001b[39;00m\n",
      "File \u001b[1;32mc:\\ProgramData\\Anaconda3\\envs\\erthy\\Lib\\site-packages\\torch\\nn\\modules\\module.py:485\u001b[0m, in \u001b[0;36mModule.__init__\u001b[1;34m(self, *args, **kwargs)\u001b[0m\n\u001b[0;32m    479\u001b[0m     \u001b[38;5;28;01mraise\u001b[39;00m \u001b[38;5;167;01mTypeError\u001b[39;00m(\n\u001b[0;32m    480\u001b[0m         \u001b[38;5;124mf\u001b[39m\u001b[38;5;124m\"\u001b[39m\u001b[38;5;132;01m{\u001b[39;00m\u001b[38;5;28mtype\u001b[39m(\u001b[38;5;28mself\u001b[39m)\u001b[38;5;241m.\u001b[39m\u001b[38;5;18m__name__\u001b[39m\u001b[38;5;132;01m}\u001b[39;00m\u001b[38;5;124m.__init__() got an unexpected keyword argument \u001b[39m\u001b[38;5;124m'\u001b[39m\u001b[38;5;132;01m{\u001b[39;00m\u001b[38;5;28mnext\u001b[39m(\u001b[38;5;28miter\u001b[39m(kwargs))\u001b[38;5;132;01m}\u001b[39;00m\u001b[38;5;124m'\u001b[39m\u001b[38;5;124m\"\u001b[39m\n\u001b[0;32m    481\u001b[0m         \u001b[38;5;124m\"\u001b[39m\u001b[38;5;124m\"\u001b[39m\n\u001b[0;32m    482\u001b[0m     )\n\u001b[0;32m    484\u001b[0m \u001b[38;5;28;01mif\u001b[39;00m \u001b[38;5;28mself\u001b[39m\u001b[38;5;241m.\u001b[39mcall_super_init \u001b[38;5;129;01mis\u001b[39;00m \u001b[38;5;28;01mFalse\u001b[39;00m \u001b[38;5;129;01mand\u001b[39;00m \u001b[38;5;28mbool\u001b[39m(args):\n\u001b[1;32m--> 485\u001b[0m     \u001b[38;5;28;01mraise\u001b[39;00m \u001b[38;5;167;01mTypeError\u001b[39;00m(\n\u001b[0;32m    486\u001b[0m         \u001b[38;5;124mf\u001b[39m\u001b[38;5;124m\"\u001b[39m\u001b[38;5;132;01m{\u001b[39;00m\u001b[38;5;28mtype\u001b[39m(\u001b[38;5;28mself\u001b[39m)\u001b[38;5;241m.\u001b[39m\u001b[38;5;18m__name__\u001b[39m\u001b[38;5;132;01m}\u001b[39;00m\u001b[38;5;124m.__init__() takes 1 positional argument but \u001b[39m\u001b[38;5;132;01m{\u001b[39;00m\u001b[38;5;28mlen\u001b[39m(args)\u001b[38;5;250m \u001b[39m\u001b[38;5;241m+\u001b[39m\u001b[38;5;250m \u001b[39m\u001b[38;5;241m1\u001b[39m\u001b[38;5;132;01m}\u001b[39;00m\u001b[38;5;124m were\u001b[39m\u001b[38;5;124m\"\u001b[39m\n\u001b[0;32m    487\u001b[0m         \u001b[38;5;124m\"\u001b[39m\u001b[38;5;124m given\u001b[39m\u001b[38;5;124m\"\u001b[39m\n\u001b[0;32m    488\u001b[0m     )\n\u001b[0;32m    490\u001b[0m \u001b[38;5;250m\u001b[39m\u001b[38;5;124;03m\"\"\"\u001b[39;00m\n\u001b[0;32m    491\u001b[0m \u001b[38;5;124;03mCalls super().__setattr__('a', a) instead of the typical self.a = a\u001b[39;00m\n\u001b[0;32m    492\u001b[0m \u001b[38;5;124;03mto avoid Module.__setattr__ overhead. Module's __setattr__ has special\u001b[39;00m\n\u001b[0;32m    493\u001b[0m \u001b[38;5;124;03mhandling for parameters, submodules, and buffers but simply calls into\u001b[39;00m\n\u001b[0;32m    494\u001b[0m \u001b[38;5;124;03msuper().__setattr__ for all other attributes.\u001b[39;00m\n\u001b[0;32m    495\u001b[0m \u001b[38;5;124;03m\"\"\"\u001b[39;00m\n\u001b[0;32m    496\u001b[0m \u001b[38;5;28msuper\u001b[39m()\u001b[38;5;241m.\u001b[39m\u001b[38;5;21m__setattr__\u001b[39m(\u001b[38;5;124m\"\u001b[39m\u001b[38;5;124mtraining\u001b[39m\u001b[38;5;124m\"\u001b[39m, \u001b[38;5;28;01mTrue\u001b[39;00m)\n",
      "\u001b[1;31mTypeError\u001b[0m: Softmax2d.__init__() takes 1 positional argument but 2 were given"
     ]
    }
   ],
   "source": [
    "m = torch.nn.Softmax2d(torch.randn(1, 2, 1, 1))\n",
    "print(m)\n",
    "# you softmax over the 2nd dimension\n",
    "input = \n",
    "print(input)\n",
    "output = m(input)\n",
    "print(output)"
   ]
  },
  {
   "cell_type": "code",
   "execution_count": null,
   "metadata": {},
   "outputs": [],
   "source": [
    "import numpy as np\n",
    "import torch\n",
    "from scipy.signal.windows import triang  # Import the correct function\n",
    "import matplotlib.pyplot as plt  # for optional visualization\n",
    "\n",
    "# Spline window function\n",
    "def _spline_window(window_size, power=2):\n",
    "    \"\"\"\n",
    "    Squared spline window function for smooth transition.\n",
    "    \"\"\"\n",
    "    intersection = int(window_size / 4)\n",
    "    wind_outer = (abs(2 * triang(window_size)) ** power) / 2  # Use correct function\n",
    "    wind_outer[intersection:-intersection] = 0\n",
    "\n",
    "    wind_inner = 1 - (abs(2 * (triang(window_size) - 1)) ** power) / 2\n",
    "    wind_inner[:intersection] = 0\n",
    "    wind_inner[-intersection:] = 0\n",
    "\n",
    "    wind = wind_inner + wind_outer\n",
    "    wind = wind / np.average(wind)\n",
    "    return wind\n",
    "\n",
    "cached_2d_windows = dict()\n",
    "\n",
    "def _window_2D(window_size, power=2):\n",
    "    \"\"\"\n",
    "    Generate and return a 2D spline window.\n",
    "    \"\"\"\n",
    "    global cached_2d_windows\n",
    "    key = \"{}_{}\".format(window_size, power)\n",
    "    if key in cached_2d_windows:\n",
    "        wind = cached_2d_windows[key]\n",
    "    else:\n",
    "        wind = _spline_window(window_size, power)\n",
    "        wind = np.outer(wind, wind)  # Create a 2D window by outer product\n",
    "        cached_2d_windows[key] = wind\n",
    "    return torch.tensor(wind, dtype=torch.float32).unsqueeze(0).unsqueeze(0)\n",
    "\n",
    "def _rotate_mirror_do(tensor):\n",
    "    \"\"\"\n",
    "    Apply all possible rotations and reflections to a tensor.\n",
    "    Returns a list of 8 transformed tensors.\n",
    "    \"\"\"\n",
    "    transforms = []\n",
    "    transforms.append(tensor)\n",
    "    transforms.append(torch.rot90(tensor, 1, (2, 3)))\n",
    "    transforms.append(torch.rot90(tensor, 2, (2, 3)))\n",
    "    transforms.append(torch.rot90(tensor, 3, (2, 3)))\n",
    "    transforms.append(tensor.flip(2))\n",
    "    transforms.append(transforms[-1].rot90(1, (2, 3)))\n",
    "    transforms.append(transforms[-1].rot90(2, (2, 3)))\n",
    "    transforms.append(transforms[-1].rot90(3, (2, 3)))\n",
    "    return transforms\n",
    "\n",
    "def _rotate_mirror_undo(transformed_tensors):\n",
    "    \"\"\"\n",
    "    Undo the transformations applied by `_rotate_mirror_do`.\n",
    "    Returns the average of the transformed tensors.\n",
    "    \"\"\"\n",
    "    untransformed = []\n",
    "    for t in range(len(transformed_tensors)):\n",
    "        patch = transformed_tensors[t]\n",
    "        patch = patch.reshape(patch.shape[1], patch.shape[2], patch.shape[3])\n",
    "        untransformed.append(patch)\n",
    "\n",
    "    untransformed[1] = untransformed[1].rot90(1, (0, 1))\n",
    "    untransformed[2] = untransformed[2].rot90(2, (0, 1))\n",
    "    untransformed[3] = untransformed[3].rot90(3, (0, 1))\n",
    "    untransformed[4] = untransformed[4].flip(1)\n",
    "    untransformed[5] = untransformed[5].rot90(1, (0, 1))\n",
    "    untransformed[6] = untransformed[6].rot90(2, (0, 1))\n",
    "    untransformed[7] = untransformed[7].rot90(3, (0, 1))\n",
    "\n",
    "    return torch.mean(torch.stack(untransformed, dim=0), dim=0)\n",
    "\n",
    "def split_tensor_to_patches(tensor, patch_size=256, overlap=128):\n",
    "    \"\"\"\n",
    "    Efficiently split a tensor into overlapping patches using unfold.\n",
    "    \"\"\"\n",
    "    stride = patch_size - overlap\n",
    "    patches = tensor.unfold(2, patch_size, stride).unfold(3, patch_size, stride)\n",
    "    batch, channels, h_steps, w_steps, h_patch, w_patch = patches.shape\n",
    "    patches = patches.permute(0, 2, 3, 1, 4, 5).contiguous()\n",
    "    patches = patches.view(-1, channels, patch_size, patch_size)\n",
    "    return patches, (h_steps, w_steps)\n",
    "\n",
    "def reconstruct_from_patches(patches, grid_size, output_size, patch_size=256, overlap=128, power=2):\n",
    "    \"\"\"\n",
    "    Reconstruct tensor from patches with smooth blending using a spline window.\n",
    "    \"\"\"\n",
    "    batch_size, out_channels, height, width = output_size\n",
    "    h_steps, w_steps = grid_size\n",
    "    stride = patch_size - overlap\n",
    "    \n",
    "    # Create reconstruction tensor\n",
    "    reconstructed = torch.zeros(batch_size, out_channels, height, width, device=patches.device)\n",
    "    counter = torch.zeros_like(reconstructed)\n",
    "    \n",
    "    # Create spline weight matrix\n",
    "    window_2d = _window_2D(patch_size, power=power).to(patches.device)\n",
    "    \n",
    "    # Calculate number of patches per batch\n",
    "    patches_per_batch = h_steps * w_steps\n",
    "    \n",
    "    # Process each batch\n",
    "    for b in range(batch_size):\n",
    "        batch_patches = patches[b * patches_per_batch:(b + 1) * patches_per_batch]\n",
    "        \n",
    "        # Apply D4 transformations to each patch\n",
    "        transformed_patches = _rotate_mirror_do(batch_patches)\n",
    "        \n",
    "        # Process each patch\n",
    "        for idx in range(patches_per_batch):\n",
    "            # Calculate grid position\n",
    "            i = idx // w_steps\n",
    "            j = idx % w_steps\n",
    "            \n",
    "            y_start = i * stride\n",
    "            x_start = j * stride\n",
    "            \n",
    "            # Undo the transformations and compute the mean\n",
    "            untransformed_patches = _rotate_mirror_undo([transformed_patches[t][idx] for t in range(len(transformed_patches))])\n",
    "            patch_mean = untransformed_patches.unsqueeze(0)\n",
    "            \n",
    "            # Create a 2D window map the same size as the patch\n",
    "            patch_window = window_2d.repeat(1, out_channels, 1, 1)\n",
    "            \n",
    "            # Apply the 2D window to the patch\n",
    "            weighted_patch = patch_mean * patch_window\n",
    "            \n",
    "            # Add the weighted patch to the reconstruction tensor, with proper positioning\n",
    "            reconstructed[b:b+1, :, y_start:y_start + patch_size, \n",
    "                          x_start:x_start + patch_size] += weighted_patch\n",
    "            \n",
    "            # Keep track of the total window weights at each pixel\n",
    "            counter[b:b+1, :, y_start:y_start + patch_size, \n",
    "                    x_start:x_start + patch_size] += patch_window\n",
    "    \n",
    "    # Normalize by counter to blend overlapping regions\n",
    "    reconstructed = reconstructed / (counter + 1e-8)\n",
    "    \n",
    "    return reconstructed\n",
    "# Example usage and testing\n",
    "if __name__ == \"__main__\":\n",
    "    # Create sample tensor\n",
    "    device = torch.device(\"cuda\" if torch.cuda.is_available() else \"cpu\")\n",
    "    sample_tensor = torch.randn(1, 14, 512, 512, device=device)\n",
    "    \n",
    "    # Parameters\n",
    "    patch_size = 256\n",
    "    overlap = 128\n",
    "    \n",
    "    # Split into patches\n",
    "    patches, grid_size = split_tensor_to_patches(sample_tensor, patch_size, overlap)\n",
    "    print(f\"Patches shape: {patches.shape}\")\n",
    "    print(f\"Grid size: {grid_size}\")\n",
    "    \n",
    "    # Simulate channel dimension change (14 -> 3)\n",
    "    modified_patches = patches[:, :2]\n",
    "    print(f\"Modified patches shape: {modified_patches.shape}\")\n",
    "    \n",
    "    # Reconstruct\n",
    "    reconstructed = reconstruct_from_patches(\n",
    "        modified_patches,\n",
    "        grid_size,\n",
    "        (1, 2, 512, 512),\n",
    "        patch_size,\n",
    "        overlap\n",
    "    )\n",
    "    print(f\"Reconstructed shape: {reconstructed.shape}\")"
   ]
  },
  {
   "cell_type": "code",
   "execution_count": null,
   "metadata": {},
   "outputs": [],
   "source": []
  }
 ],
 "metadata": {
  "kernelspec": {
   "display_name": "erthy",
   "language": "python",
   "name": "python3"
  },
  "language_info": {
   "codemirror_mode": {
    "name": "ipython",
    "version": 3
   },
   "file_extension": ".py",
   "mimetype": "text/x-python",
   "name": "python",
   "nbconvert_exporter": "python",
   "pygments_lexer": "ipython3",
   "version": "3.12.7"
  }
 },
 "nbformat": 4,
 "nbformat_minor": 2
}
