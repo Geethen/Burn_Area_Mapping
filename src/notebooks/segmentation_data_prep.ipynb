{
 "cells": [
  {
   "cell_type": "code",
   "execution_count": 1,
   "metadata": {},
   "outputs": [],
   "source": [
    "import ee \n",
    "\n",
    "try:\n",
    "    ee.Initialize()\n",
    "except Exception as e:\n",
    "    ee.Authenticate()\n",
    "    ee.Initialize()\n",
    "\n",
    "from geeml.utils import eeprint\n",
    "import geemap\n",
    "import os"
   ]
  },
  {
   "cell_type": "code",
   "execution_count": null,
   "metadata": {},
   "outputs": [],
   "source": [
    "startDate = ee.Date('2017-03-28')\n",
    "mtbs = ee.FeatureCollection(\"USFS/GTAC/MTBS/burned_area_boundaries/v1\")\\\n",
    "    .filter(ee.Filter.gte('Ig_Date', startDate.millis()))\n",
    "mtbs_sz = 5613#mtbs.size().getInfo()#7583 L8\n",
    "print(mtbs_sz)\n",
    "mtbs_list = mtbs.toList(mtbs_sz)"
   ]
  },
  {
   "cell_type": "code",
   "execution_count": null,
   "metadata": {},
   "outputs": [],
   "source": [
    "eeprint(mtbs.first())"
   ]
  },
  {
   "cell_type": "code",
   "execution_count": null,
   "metadata": {},
   "outputs": [],
   "source": [
    "Map =geemap.Map()\n",
    "Map.addLayer(test)\n",
    "Map.addLayer(fired)\n",
    "Map.centerObject(test, 13)\n",
    "Map"
   ]
  },
  {
   "cell_type": "code",
   "execution_count": null,
   "metadata": {},
   "outputs": [],
   "source": [
    "# Landsat data exploration\n",
    "def cloudMask1(image):\n",
    "    clouds = image.select('QA_PIXEL').bitwiseAnd(0b1000).eq(0)\n",
    "    cirrus = image.select('QA_PIXEL').bitwiseAnd(0b1100).eq(0)\n",
    "    saturationMask = image.select('QA_RADSAT').eq(0)\n",
    "\n",
    "    #  Replace the original bands with the scaled ones and apply the masks.\n",
    "    return image\\\n",
    "        .updateMask(clouds)\\\n",
    "        .updateMask(cirrus)\\\n",
    "        .updateMask(saturationMask)\n",
    "\n",
    "def cloudMask2(image):\n",
    "    clouds = image.select('QA_PIXEL').bitwiseAnd(0b1000).eq(0)\n",
    "    cirrus = image.select('QA_PIXEL').bitwiseAnd(0b1100).eq(0)\n",
    "    saturationMask = image.select('QA_RADSAT').eq(0)\n",
    "\n",
    "    #   Apply the scaling factors to the appropriate bands.\n",
    "    opticalBands = image.select('SR_B.').multiply(0.0000275).add(-0.2)\n",
    "\n",
    "    # Compute normalised burn ratio (NBR)\n",
    "    nbr = image.normalizedDifference(['SR_B5', 'SR_B7']).multiply(-1).rename('nbr')\n",
    "\n",
    "    #  Replace the original bands with the scaled ones and apply the masks.\n",
    "    return opticalBands.addBands([nbr], None, True)\\\n",
    "        .updateMask(clouds)\\\n",
    "        .updateMask(cirrus)\\\n",
    "        .updateMask(saturationMask)\n",
    "def qualityMosaicPercentile(collection, QAband, percentile):\n",
    "    # Compute percentile image\n",
    "    percentileImage = collection.select(QAband).reduce(ee.Reducer.percentile([percentile]))\n",
    "    #  Compute distance of every pixel from the computed percentile in that location\n",
    "    withDist = ee.ImageCollection(collection.map(lambda image: image.addBands([\n",
    "        image.select(QAband).subtract(percentileImage).abs().multiply(-1).rename('quality')])))\n",
    "    return withDist.qualityMosaic('quality')\n",
    "\n",
    "# Given a fire event get pre and post fire image from single sensor \n",
    "eventDate = ee.Date(event.getNumber('Ig_Date'))\n",
    "print('event Date:', eventDate.format().getInfo())\n",
    "dateBuffer = 10\n",
    "# get first image after fire\n",
    "startDate = eventDate#.advance(1, 'week')\n",
    "endDate = eventDate.advance(dateBuffer, 'week')\n",
    "sat_data = ee.ImageCollection(\"LANDSAT/LC08/C02/T1_L2\").filterBounds(event.geometry()).filterDate(startDate, endDate)\n",
    "postFireImg2 = qualityMosaicPercentile(sat_data.map(cloudMask2), 'nbr', 75)\n",
    "postFireImg1 = sat_data.map(cloudMask1).sort('system:time_start', False).reduce(ee.Reducer.firstNonNull())#.first()\n",
    "\n",
    "# get first image before fire\n",
    "startDate = eventDate.advance(dateBuffer*-1, 'week')\n",
    "endDate = eventDate\n",
    "preFireImg = sat_data.filterBounds(event.geometry()).filterDate(startDate, endDate).sort('system:time_start', False).first()\n",
    "# print('preFire Date:', ee.Date(preFireImg.date()).format().getInfo())\n",
    "\n",
    "# Visualise images\n",
    "Map.addLayer(postFireImg2.select('SR_B.*'), {'min':0, 'max':0.7, 'bands': ['SR_B7', 'SR_B5', 'SR_B4']}, 'Post2')\n",
    "\n",
    "Map.addLayer(postFireImg1.select('SR_B.*').multiply(0.0000275).add(-0.2), {'min':0, 'max':0.7, 'bands': ['SR_B7_first', 'SR_B5_first', 'SR_B4_first']}, 'Post1')\n",
    "# Map.addLayer(preFireImg.select('SR_B.').multiply(0.0000275).add(-0.2), {'min':0, 'max':0.7, 'bands': ['SR_B7', 'SR_B5', 'SR_B4']}, 'Pre')\n",
    "\n",
    "Map.addLayer(event.geometry())\n",
    "Map.centerObject(event.geometry(), 8)"
   ]
  },
  {
   "cell_type": "code",
   "execution_count": 5,
   "metadata": {},
   "outputs": [
    {
     "data": {
      "text/html": [
       "\n",
       "            <style>\n",
       "                .geemap-dark {\n",
       "                    --jp-widgets-color: white;\n",
       "                    --jp-widgets-label-color: white;\n",
       "                    --jp-ui-font-color1: white;\n",
       "                    --jp-layout-color2: #454545;\n",
       "                    background-color: #383838;\n",
       "                }\n",
       "\n",
       "                .geemap-dark .jupyter-button {\n",
       "                    --jp-layout-color3: #383838;\n",
       "                }\n",
       "\n",
       "                .geemap-colab {\n",
       "                    background-color: var(--colab-primary-surface-color, white);\n",
       "                }\n",
       "\n",
       "                .geemap-colab .jupyter-button {\n",
       "                    --jp-layout-color3: var(--colab-primary-surface-color, white);\n",
       "                }\n",
       "            </style>\n",
       "            "
      ],
      "text/plain": [
       "<IPython.core.display.HTML object>"
      ]
     },
     "metadata": {},
     "output_type": "display_data"
    }
   ],
   "source": [
    "def preprocessOptical(image, sensor):\n",
    "    \"\"\"Select Bands and scale between 0 and 1\n",
    "    \"\"\"\n",
    "    bandSelect = {'Sentinel-2': 'B.*',\n",
    "                    'LANDSAT_8': 'SR_B.',\n",
    "                    'LANDSAT_9': 'SR_B.'}\n",
    "    # Step 2) radiometric correction\n",
    "    radiometricMultiplySelect = {'Sentinel-2': 0.0001,\n",
    "                    'LANDSAT_8': 0.0000275,\n",
    "                    'LANDSAT_9': 0.0000275}\n",
    "    radiometricAddSelect = {'Sentinel-2': 0,\n",
    "                    'LANDSAT_8': -0.2,\n",
    "                    'LANDSAT_9': -0.2}\n",
    "    \n",
    "    # Step 3) depending on image selected, select cloud band\n",
    "    return image.select(bandSelect.get(sensor)).multiply(radiometricMultiplySelect.get(sensor)).add(radiometricAddSelect.get(sensor)).copyProperties(image)\n",
    "\n",
    "# Sentinel-2 data exploration\n",
    "def cloudMask1(imageCollection):\n",
    "    #  Cloud Score+ image collection. Note Cloud Score+ is produced from Sentinel-2\n",
    "        # Level 1C data and can be applied to either L1C or L2A collections.\n",
    "        csPlus = ee.ImageCollection('GOOGLE/CLOUD_SCORE_PLUS/V1/S2_HARMONIZED')\n",
    "\n",
    "        #  Use 'cs' or 'cs_cdf', depending on your use-case; see docs for guidance.\n",
    "        QA_BAND = 'cs'\n",
    "\n",
    "        # The threshold for masking; values between 0.50 and 0.65 generally work well.\n",
    "        # Higher values will remove thin clouds, haze & cirrus shadows.\n",
    "        CLEAR_THRESHOLD = 0.6\n",
    "\n",
    "        # link Sentinel-2 image with corresponding Cloud Score+\n",
    "        cloudMask = imageCollection.linkCollection(csPlus, [QA_BAND]).map(lambda img:\n",
    "            img.updateMask(img.select(QA_BAND).gte(CLEAR_THRESHOLD)).select('B.*').divide(10000))\n",
    "\n",
    "        # scale and mask out clouds\n",
    "        return cloudMask\n",
    "\n",
    "def cloudMask2(imageCollection):\n",
    "        #  Cloud Score+ image collection. Note Cloud Score+ is produced from Sentinel-2\n",
    "        # Level 1C data and can be applied to either L1C or L2A collections.\n",
    "        csPlus = ee.ImageCollection('GOOGLE/CLOUD_SCORE_PLUS/V1/S2_HARMONIZED')\n",
    "\n",
    "        #  Use 'cs' or 'cs_cdf', depending on your use-case; see docs for guidance.\n",
    "        QA_BAND = 'cs'\n",
    "\n",
    "        # The threshold for masking; values between 0.50 and 0.65 generally work well.\n",
    "        # Higher values will remove thin clouds, haze & cirrus shadows.\n",
    "        CLEAR_THRESHOLD = 0.6\n",
    "        \n",
    "        # radiometric correction and band selection\n",
    "        # preProcessCollection = imageCollection.map(lambda image: preprocessOptical(image, 'Sentinel-2'))\n",
    "        # link Sentinel-2 image with corresponding Cloud Score+\n",
    "        # cloudMask = imageCollection.linkCollection(csPlus, [QA_BAND]).map(lambda img:\n",
    "        #     img.addBands(img.normalizedDifference(['B8', 'B12']).multiply(10000).rename('nbr'))\\\n",
    "        #         .updateMask(img.select(QA_BAND).gte(CLEAR_THRESHOLD)).select(['B.*', 'nbr']).divide(10000)\n",
    "        #     )\n",
    "        cloudMask = imageCollection.linkCollection(csPlus, [QA_BAND]).map(lambda img:\n",
    "            img.select(['B.*'])\\\n",
    "                .updateMask(img.select(QA_BAND).gte(CLEAR_THRESHOLD)).divide(10000)\\\n",
    "                    .addBands(img.normalizedDifference(['B8A', 'B12']).rename('nbr'))\n",
    "            )\n",
    "            \n",
    "        # scale and mask out clouds\n",
    "        return cloudMask\n",
    "\n",
    "def qualityMosaicPercentile(collection, QAband, percentile):\n",
    "    # Compute percentile image\n",
    "    percentileImage = collection.select(QAband).reduce(ee.Reducer.percentile([percentile]))\n",
    "    #  Compute distance of every pixel from the computed percentile in that location\n",
    "    withDist = ee.ImageCollection(collection.map(lambda image: image.addBands([\n",
    "        image.select(QAband).subtract(percentileImage).abs().multiply(-1).rename('quality')])))\n",
    "    return withDist.qualityMosaic('quality')"
   ]
  },
  {
   "cell_type": "code",
   "execution_count": null,
   "metadata": {},
   "outputs": [],
   "source": [
    "event = ee.Feature(mtbs_list.get(5))\n",
    "# Given a fire event get pre and post fire image from single sensor \n",
    "eventDate = ee.Date(event.getNumber('Ig_Date'))\n",
    "# print('event Date:', eventDate.format().getInfo())\n",
    "\n",
    "dateBuffer = 15\n",
    "# get first image before fire\n",
    "startDate = eventDate.advance(dateBuffer*-1, 'week')\n",
    "endDate = eventDate\n",
    "\n",
    "sat_data = ee.ImageCollection(\"COPERNICUS/S2_SR_HARMONIZED\").filterBounds(event.geometry())\n",
    "\n",
    "preFireImg = sat_data.filterDate(startDate, endDate).sort('system:time_start', False).first()\n",
    "prenbr = preFireImg.normalizedDifference(['B8A', 'B12']).rename('nbr')\n",
    "# print('preFire Date:', ee.Date(preFireImg.date()).format().getInfo())\n",
    "\n",
    "# get first image after fire\n",
    "startDate = eventDate#.advance(1, 'week')\n",
    "endDate = eventDate.advance(dateBuffer, 'week')\n",
    "postFireImg2 = qualityMosaicPercentile(cloudMask2(sat_data.filterDate(startDate, endDate)).map(lambda img: img.addBands(prenbr.subtract(img.normalizedDifference(['B8A', 'B12'])).rename('dnbr'))), 'dnbr', 90)\n",
    "postFireImg1 = cloudMask1(sat_data.filterDate(startDate, endDate)).sort('system:time_start', False).reduce(ee.Reducer.firstNonNull())#.first()\n",
    "\n",
    "# Visualise images\n",
    "Map = geemap.Map()\n",
    "Map.addLayer(postFireImg2, {'min':0, 'max':0.7, 'bands': ['B12', 'B8A', 'B4']}, 'Post2')\n",
    "\n",
    "Map.addLayer(postFireImg1, {'min':0, 'max':0.7, 'bands': ['B12_first', 'B8A_first', 'B4_first']}, 'Post1')\n",
    "# Map.addLayer(preFireImg.select('SR_B.').multiply(0.0000275).add(-0.2), {'min':0, 'max':0.7, 'bands': ['SR_B7', 'SR_B5', 'SR_B4']}, 'Pre')\n",
    "\n",
    "Map.addLayer(event.geometry())\n",
    "Map.centerObject(event.geometry(), 8)\n",
    "Map"
   ]
  },
  {
   "cell_type": "code",
   "execution_count": 10,
   "metadata": {},
   "outputs": [
    {
     "data": {
      "text/html": [
       "\n",
       "            <style>\n",
       "                .geemap-dark {\n",
       "                    --jp-widgets-color: white;\n",
       "                    --jp-widgets-label-color: white;\n",
       "                    --jp-ui-font-color1: white;\n",
       "                    --jp-layout-color2: #454545;\n",
       "                    background-color: #383838;\n",
       "                }\n",
       "\n",
       "                .geemap-dark .jupyter-button {\n",
       "                    --jp-layout-color3: #383838;\n",
       "                }\n",
       "\n",
       "                .geemap-colab {\n",
       "                    background-color: var(--colab-primary-surface-color, white);\n",
       "                }\n",
       "\n",
       "                .geemap-colab .jupyter-button {\n",
       "                    --jp-layout-color3: var(--colab-primary-surface-color, white);\n",
       "                }\n",
       "            </style>\n",
       "            "
      ],
      "text/plain": [
       "<IPython.core.display.HTML object>"
      ]
     },
     "metadata": {},
     "output_type": "display_data"
    }
   ],
   "source": [
    "supportedSensors = {'Sentinel-1': ee.ImageCollection('COPERNICUS/S1_GRD'),\n",
    "                    'Sentinel-2': ee.ImageCollection(\"COPERNICUS/S2_SR_HARMONIZED\"),\n",
    "                    'LANDSAT_8': ee.ImageCollection(\"LANDSAT/LC08/C02/T1_L2\"),\n",
    "                    'LANDSAT_9': ee.ImageCollection(\"LANDSAT/LC09/C02/T1_L2\")}"
   ]
  },
  {
   "cell_type": "code",
   "execution_count": 11,
   "metadata": {},
   "outputs": [
    {
     "data": {
      "text/html": [
       "\n",
       "            <style>\n",
       "                .geemap-dark {\n",
       "                    --jp-widgets-color: white;\n",
       "                    --jp-widgets-label-color: white;\n",
       "                    --jp-ui-font-color1: white;\n",
       "                    --jp-layout-color2: #454545;\n",
       "                    background-color: #383838;\n",
       "                }\n",
       "\n",
       "                .geemap-dark .jupyter-button {\n",
       "                    --jp-layout-color3: #383838;\n",
       "                }\n",
       "\n",
       "                .geemap-colab {\n",
       "                    background-color: var(--colab-primary-surface-color, white);\n",
       "                }\n",
       "\n",
       "                .geemap-colab .jupyter-button {\n",
       "                    --jp-layout-color3: var(--colab-primary-surface-color, white);\n",
       "                }\n",
       "            </style>\n",
       "            "
      ],
      "text/plain": [
       "<IPython.core.display.HTML object>"
      ]
     },
     "metadata": {},
     "output_type": "display_data"
    }
   ],
   "source": [
    "import sys\n",
    "from typing import Union\n",
    "from geedim.download import BaseImage\n",
    "from pathlib import Path\n",
    "from tqdm.auto import tqdm\n",
    "\n",
    "MODULE_FULL_PATH = r'C:\\Users\\coach\\myfiles\\python_modules'\n",
    "\n",
    "sys.path.insert(1, MODULE_FULL_PATH)\n",
    "import wrapper as wp #https://github.com/adugnag/gee_s1_ard\n",
    "\n",
    "### Citation\n",
    "# Mullissa, A.; Vollrath, A.; Odongo-Braun, C.; Slagter, B.; Balling, J.; Gou, Y.; Gorelick, N.;\n",
    "# Reiche, J. Sentinel-1 SAR Backscatter Analysis Ready Data Preparation in Google Earth Engine.\n",
    "# Remote Sens. 2021, 13, 1954. https://doi.org/10.3390/rs13101954\n",
    "\n",
    "parameters = {#1. Data Selection\n",
    "              'START_DATE': \"2020-01-01\",\n",
    "              'STOP_DATE': \"2020-03-31\",\n",
    "              'POLARIZATION':'VVVH',\n",
    "              'PLATFORM_NUMBER': ['A','B'],\n",
    "              'ORBIT' : 'BOTH',\n",
    "              'ORBIT_NUM': None,\n",
    "              'ROI': None, \n",
    "              #2. Additional Border noise correction\n",
    "              'APPLY_BORDER_NOISE_CORRECTION': True,\n",
    "              #3.Speckle filter\n",
    "              'APPLY_SPECKLE_FILTERING': True,\n",
    "              'SPECKLE_FILTER_FRAMEWORK': 'MONO',\n",
    "              'SPECKLE_FILTER': 'REFINED LEE',\n",
    "              'SPECKLE_FILTER_KERNEL_SIZE': 9,\n",
    "              'SPECKLE_FILTER_NR_OF_IMAGES': 10,\n",
    "              #4. Radiometric terrain normalization\n",
    "              'APPLY_TERRAIN_FLATTENING': True,\n",
    "              'DEM': ee.ImageCollection(\"projects/sat-io/open-datasets/GLO-30\").mosaic(),\n",
    "              'TERRAIN_FLATTENING_MODEL': 'VOLUME',\n",
    "              'TERRAIN_FLATTENING_ADDITIONAL_LAYOVER_SHADOW_BUFFER': 0,\n",
    "              #5. Output\n",
    "              'FORMAT' : 'DB',\n",
    "              'CLIP_TO_ROI': False,\n",
    "              'SAVE_ASSET': False,\n",
    "              'ASSET_ID':None}"
   ]
  },
  {
   "cell_type": "code",
   "execution_count": 6,
   "metadata": {},
   "outputs": [
    {
     "data": {
      "text/html": [
       "\n",
       "            <style>\n",
       "                .geemap-dark {\n",
       "                    --jp-widgets-color: white;\n",
       "                    --jp-widgets-label-color: white;\n",
       "                    --jp-ui-font-color1: white;\n",
       "                    --jp-layout-color2: #454545;\n",
       "                    background-color: #383838;\n",
       "                }\n",
       "\n",
       "                .geemap-dark .jupyter-button {\n",
       "                    --jp-layout-color3: #383838;\n",
       "                }\n",
       "\n",
       "                .geemap-colab {\n",
       "                    background-color: var(--colab-primary-surface-color, white);\n",
       "                }\n",
       "\n",
       "                .geemap-colab .jupyter-button {\n",
       "                    --jp-layout-color3: var(--colab-primary-surface-color, white);\n",
       "                }\n",
       "            </style>\n",
       "            "
      ],
      "text/plain": [
       "<IPython.core.display.HTML object>"
      ]
     },
     "metadata": {},
     "output_type": "display_data"
    }
   ],
   "source": [
    "def getImage(sensor, pre, event, dateBuffer):\n",
    "    \"\"\"\n",
    "    Get the temporally closest pre-fire and post-fire optical or radar images after preprocessing both\n",
    "     the optical images.\n",
    "\n",
    "    Args:\n",
    "        event (ee.Feature): A fire event delineating the boundary of burnt area\n",
    "        dateBuffer (int): The temporal window to locate a relevant image. In units of weeks.\n",
    "\n",
    "    Returns:\n",
    "        A pre-fire and post-fire optical or radar image\n",
    "    \"\"\"\n",
    "    # Filter images that intersect the geometry using the optimised filterBounds. Thereafter, use the\n",
    "    # ee.filter.contains that is not as optimised as filterBounds\n",
    "    images = supportedSensors.get(sensor).filterBounds(event.geometry())\n",
    "    eventDate = ee.Date(event.get('Ig_Date'))\n",
    "    if pre:\n",
    "        startDate = eventDate.advance(dateBuffer*-1, 'week')\n",
    "        endDate = eventDate\n",
    "        outImage = cloudMask1(images.filterDate(startDate, endDate).sort('system:time_start', False)).reduce(ee.Reducer.firstNonNull()).regexpRename('.{6}$','')\n",
    "        # .filter(ee.Filter.contains('.geo', event.geometry())).sort('system:time_start', False).first()\n",
    "  \n",
    "    else:\n",
    "        # postfire\n",
    "        startDate = eventDate\n",
    "        endDate = eventDate.advance(dateBuffer, 'week')\n",
    "        outImage = cloudMask2(images.filterDate(startDate, endDate))#.reduce(ee.Reducer.firstNonNull()).regexpRename('.{6}$','')#.qualityMosaic('nbr')\n",
    "        # .filter(ee.Filter.contains('.geo', event.geometry())).sort('system:time_start', True).first()\n",
    "    \n",
    "    return outImage\n",
    "\n",
    "    # Given a fire event get pre and post fire image from multi-sensors\n",
    "def getOpticalRadarPairs(sensor:str, dnbr:bool, event: ee.Feature, dateBuffer: int = 4)-> ee.Image:\n",
    "    \"\"\"\n",
    "     Get optical-radar pairs for a given fire event. First image after fire event and image before fire event\n",
    "\n",
    "     Args:\n",
    "        sensor(str): The name of the sensor. One of ['Sentinel-1', 'Sentinel-2', 'Landsat_8', 'Landsat_9']\n",
    "        event(ee.Feature): A fire event\n",
    "        dateBuffer(int): The temporal-search window. \n",
    "    \n",
    "    Returns:\n",
    "        An image with optical-radar pairs\n",
    "\n",
    "    \"\"\"\n",
    "    # Post-fire image\n",
    "    if sensor != 'any':\n",
    "        postOpticalImage = getImage(sensor, False, event, dateBuffer= dateBuffer)\n",
    "    else:\n",
    "        s2post = getImage('Sentinel-2', False, event, dateBuffer= dateBuffer)\n",
    "        l8post = getImage('LANDSAT_8', False, event, dateBuffer= dateBuffer)\n",
    "        l9post = getImage('LANDSAT_9', False, event, dateBuffer= dateBuffer)\n",
    "        # get the earliest optical image (between L8, L9 and S2) that was captured after the fire event\n",
    "        postOpticalImage = ee.ImageCollection.fromImages([s2post, l8post, l9post]).sort('system:time_start', True).first()\n",
    "    # pre-process post-fire image\n",
    "    # postOpticalImage = ee.Image(preprocessOptical(postOpticalImage, sensor).copyProperties(postOpticalImage))\n",
    "\n",
    "    # if sensor == 'Sentinel-1':\n",
    "    #     # RADAR\n",
    "    #     s1post = getImage('Sentinel-1', False, event, dateBuffer= dateBuffer)\n",
    "    #     # preprocess pre-fire radar image\n",
    "    #     parameters.update({'STOP_DATE': s1post.date().advance(1, 'day'), 'START_DATE': s1post.date(), 'ROI': event.geometry()})\n",
    "    #     s1post = wp.s1_preproc(parameters).select('V.')\n",
    "    \n",
    "    # pre-fire\n",
    "    if sensor != 'any':\n",
    "        # If only one sensor is to be used\n",
    "        preOpticalImage = getImage(sensor, True, event, dateBuffer= dateBuffer)\n",
    "    else:\n",
    "        # If any optical sensor is to be used\n",
    "        s2pre = getImage('Sentinel-2', True, event, dateBuffer= dateBuffer)\n",
    "        l8pre = getImage('LANDSAT_8', True, event, dateBuffer= dateBuffer)\n",
    "        l9pre = getImage('LANDSAT_9', True, event, dateBuffer= dateBuffer)\n",
    "        # get the earliest optical image (between L8, L9 and S2) that was captured after the fire event\n",
    "        preOpticalImage = ee.ImageCollection.fromImages([s2pre, l8pre, l9pre]).sort('system:time_start', True).first()\n",
    "    \n",
    "    # elif multisensor:\n",
    "    #     # if multisensor data is to be used, add radar to optical\n",
    "    #     # RADAR\n",
    "    #     s1pre = getImage('Sentinel-1', True, event, dateBuffer= dateBuffer)\n",
    "    #     # preprocess pre-fire radar image\n",
    "    #     parameters.update({'STOP_DATE': s1pre.date().advance(1, 'day'), 'START_DATE': s1pre.date(), 'ROI': event.geometry()})\n",
    "    #     s1pre = wp.s1_preproc(parameters).select('V.')\n",
    "\n",
    "    # pre-process pre-fire image\n",
    "    # preOpticalImage = ee.Image(preprocessOptical(preOpticalImage, sensor).copyProperties(preOpticalImage))\n",
    "\n",
    "    if dnbr:\n",
    "        postOpticalImage = qualityMosaicPercentile(postOpticalImage.map(lambda img: img.addBands(\n",
    "            preOpticalImage.normalizedDifference(['B8A', 'B12']).subtract(img.normalizedDifference(['B8A', 'B12'])).rename('dnbr'))), 'dnbr', 95) \n",
    "    \n",
    "    return postOpticalImage\n",
    "    # return preOpticalImage.regexpRename('$', '_pre'), s1pre, postOpticalImage.regexpRename('$', '_post'), s1post\n",
    "    "
   ]
  },
  {
   "cell_type": "code",
   "execution_count": null,
   "metadata": {},
   "outputs": [],
   "source": [
    "# Given a fire event get pre and post fire image from multi-sensors\n",
    "def getOpticalRadarPairs(event: ee.Feature, dateBuffer: int = 4)-> Union[ee.Image, ee.Image, ee.Image, ee.Image]:\n",
    "    \"\"\"\n",
    "    Get the temporally closest pre-fire and post-fire radar and optical image pairs after preprocessing both\n",
    "     the radar and optical images.\n",
    "\n",
    "    Args:\n",
    "        event (ee.Feature): A fire event delineating the boundary of burnt area\n",
    "        dateBuffer (int): The temporal window to locate a relevant image. In units of weeks.\n",
    "\n",
    "    Returns:\n",
    "        Four images, a pre-fire and post-fire optical-radar image pair\n",
    "    \"\"\"\n",
    "    eventDate = ee.Date(event.getNumber('Ig_Date'))\n",
    "    # postfire\n",
    "    startDate = eventDate\n",
    "    endDate = eventDate.advance(dateBuffer, 'week')\n",
    "    s1 = ee.ImageCollection('COPERNICUS/S1_GRD').filterBounds(event.geometry())\n",
    "    s2 = ee.ImageCollection(\"COPERNICUS/S2_SR_HARMONIZED\").filterBounds(event.geometry())\n",
    "    l8 = ee.ImageCollection(\"LANDSAT/LC08/C02/T1_L2\").filterBounds(event.geometry())\n",
    "    l9 = ee.ImageCollection(\"LANDSAT/LC09/C02/T1_L2\").filterBounds(event.geometry())\n",
    "    s2post = s2.filterDate(startDate, endDate).sort('system:time_start', True).first()\n",
    "    l8post = l8.filterDate(startDate, endDate).sort('system:time_start', True).first()\n",
    "    l9post = l9.filterDate(startDate, endDate).sort('system:time_start', True).first()\n",
    "    # get the earliest optical image (between L8, L9 and S2) that was captured after the fire event\n",
    "    postOpticalImage = ee.ImageCollection.fromImages([s2post, l8post, l9post]).sort('system:time_start', True).first()\n",
    "    # pre-process post-fire image\n",
    "    postOpticalImage = preprocessOptical(postOpticalImage)\n",
    "    \n",
    "    # RADAR\n",
    "    s1post = s1.filterDate(startDate, endDate).sort('system:time_start', True).first()\n",
    "    # preprocess pre-fire radar image\n",
    "    parameters.update({'STOP_DATE': s1post.date().advance(1, 'day'), 'START_DATE': s1post.date(), 'ROI': event.geometry()})\n",
    "    s1post = wp.s1_preproc(parameters).select('V.')\n",
    "    \n",
    "    # pre-fire\n",
    "    startDate = eventDate.advance(dateBuffer*-1, 'week')\n",
    "    endDate = eventDate\n",
    "    s2pre = s2.filterDate(startDate, endDate).sort('system:time_start', False).first()\n",
    "    l8pre = l8.filterDate(startDate, endDate).sort('system:time_start', False).first()\n",
    "    l9pre = l9.filterDate(startDate, endDate).sort('system:time_start', False).first()\n",
    "    # get the optical image (between L8, L9 and S2) that was captured before the fire event\n",
    "    preOpticalImage = ee.ImageCollection.fromImages([s2pre, l8pre, l9pre]).sort('system:time_start', True).first()\n",
    "    # pre-process post-fire image\n",
    "    preOpticalImage = preprocessOptical(preOpticalImage)\n",
    "\n",
    "    #RADAR\n",
    "    s1pre = s1.filterDate(startDate, endDate).sort('system:time_start', False).first()\n",
    "    # preprocess post-fire radar image\n",
    "    parameters.update({'STOP_DATE': s1pre.date().advance(1, 'day'), 'START_DATE': s1pre.date(), 'ROI': event.geometry()})\n",
    "    s1pre = wp.s1_preproc(parameters).select('V.')\n",
    "    return preOpticalImage.regexpRename('$', '_pre'), s1pre, postOpticalImage.regexpRename('$', '_post'), s1post\n",
    "\n",
    "def preprocessOptical(image):\n",
    "    # Get optical sensor name\n",
    "    sensor = image.get('SPACECRAFT_ID').getInfo()\n",
    "    if sensor is None:\n",
    "        sensor = 'Sentinel-2'\n",
    "    # Step 1) select useful bands\n",
    "    bandSelect = {'Sentinel-2': 'B.*',\n",
    "                    'LANDSAT_8': 'SR_B.',\n",
    "                    'LANDSAT_9': 'SR_B.'}\n",
    "    # Step 2) radiometric correction\n",
    "    radiometricMultiplySelect = {'Sentinel-2': 0.0001,\n",
    "                    'LANDSAT_8': 0.0000275,\n",
    "                    'LANDSAT_9': 0.0000275}\n",
    "    radiometricAddSelect = {'Sentinel-2': 0,\n",
    "                    'LANDSAT_8': -0.2,\n",
    "                    'LANDSAT_9': -0.2}\n",
    "    \n",
    "    # Step 3) depending on image selected, select cloud band\n",
    "    return image.select(bandSelect.get(sensor)).multiply(radiometricMultiplySelect.get(sensor)).add(radiometricAddSelect.get(sensor))"
   ]
  },
  {
   "cell_type": "code",
   "execution_count": 7,
   "metadata": {},
   "outputs": [
    {
     "data": {
      "text/html": [
       "\n",
       "            <style>\n",
       "                .geemap-dark {\n",
       "                    --jp-widgets-color: white;\n",
       "                    --jp-widgets-label-color: white;\n",
       "                    --jp-ui-font-color1: white;\n",
       "                    --jp-layout-color2: #454545;\n",
       "                    background-color: #383838;\n",
       "                }\n",
       "\n",
       "                .geemap-dark .jupyter-button {\n",
       "                    --jp-layout-color3: #383838;\n",
       "                }\n",
       "\n",
       "                .geemap-colab {\n",
       "                    background-color: var(--colab-primary-surface-color, white);\n",
       "                }\n",
       "\n",
       "                .geemap-colab .jupyter-button {\n",
       "                    --jp-layout-color3: var(--colab-primary-surface-color, white);\n",
       "                }\n",
       "            </style>\n",
       "            "
      ],
      "text/plain": [
       "<IPython.core.display.HTML object>"
      ]
     },
     "metadata": {},
     "output_type": "display_data"
    }
   ],
   "source": [
    "def prepareLabel(event: ee.Feature, patchSize: int, scale: int)-> ee.Image:\n",
    "    \"\"\"\n",
    "    Converts a burn area polygon (ee.Feature) to a raster label. Burnt pixels are assigned a value of 1.\n",
    "    Unburnt pixels are assigned a value of 0. the returned ee.Image dimensions should closely approximate\n",
    "    the number of pixels divisible by the patchSize.\n",
    "\n",
    "    Args:\n",
    "        event(ee.Feature): The delineated burn area polygon to rasterize.\n",
    "        patchSize (int): The desirable patch dimension when training the DNN model.\n",
    "        scale (int): The desired output scale for the label.\n",
    "\n",
    "    Returns:\n",
    "        The rasterised label (ee.Image)\n",
    "    \"\"\"\n",
    "    # Define the WKT string for EPSG:102005\n",
    "    wkt = ('PROJCS[\"USA_Contiguous_Equidistant_Conic\",'\n",
    "        'GEOGCS[\"GCS_North_American_1983\",'\n",
    "        'DATUM[\"D_North_American_1983\",'\n",
    "        'SPHEROID[\"GRS_1980\",6378137.0,298.257222101]],'\n",
    "        'PRIMEM[\"Greenwich\",0.0],'\n",
    "        'UNIT[\"Degree\",0.0174532925199433]],'\n",
    "        'PROJECTION[\"Equidistant_Conic\"],'\n",
    "        'PARAMETER[\"False_Easting\",0.0],'\n",
    "        'PARAMETER[\"False_Northing\",0.0],'\n",
    "        'PARAMETER[\"longitude_of_center\",-96.0],'\n",
    "        'PARAMETER[\"Standard_Parallel_1\",33.0],'\n",
    "        'PARAMETER[\"Standard_Parallel_2\",45.0],'\n",
    "        'PARAMETER[\"latitude_of_center\",39.0],'\n",
    "        'UNIT[\"Meter\",1.0]]')\n",
    "\n",
    "    # Create the ee.Projection object\n",
    "    projection = ee.Projection(wkt)\n",
    "    \n",
    "    # Create a covering grid using the equal-distance projection. each cell is 1 patch\n",
    "    covering_grid = event.geometry().coveringGrid(projection, patchSize*scale).geometry().bounds(scale*0.9)\n",
    "    \n",
    "    # Return binary label, 1= burn pixels, 0 = unburnt pixels\n",
    "    extent = ee.Image.constant(1).clip(covering_grid)\n",
    "    burnt = ee.Image.constant(1).clip(event.geometry())\n",
    "        \n",
    "    label = extent.updateMask(burnt).unmask(0)\n",
    "    return label.rename('label')\n",
    "\n",
    "def downloadInstance(event, dateBuffer, patchSize, scale, id, rootdir):\n",
    "    # preOpt, s1pre, postOpt, s1post = getOpticalRadarPairs('LANDSAT_8', event, dateBuffer)\n",
    "    bands = ['B2', 'B3', 'B4', 'B5', 'B6', 'B7', 'B8A', 'B11', 'B12', 'nbr', 'dnbr']\n",
    "    postOpt = getOpticalRadarPairs('Sentinel-2', True, event, dateBuffer).select(bands)\n",
    "    label = prepareLabel(event, patchSize, scale).where(postOpt.select('dnbr').lt(0.1), 0).toInt()\n",
    "    # eventInstance =  preOpt.addBands([s1pre.mosaic().regexpRename('$', '_pre'), postOpt, ee.Image(s1post.mosaic().regexpRename('$', '_post'))])\n",
    "    xfilename = Path(f\"{rootdir}/X/image_{id}.tif\")\n",
    "    if not os.path.exists(xfilename.parent):\n",
    "        os.makedirs(xfilename.parent)\n",
    "    BaseImage(postOpt).download(xfilename, crs='EPSG:4326', region= label.geometry(), scale= scale, overwrite=True, num_threads=20)\n",
    "    yfilename = Path(f\"C:/Users/coach/myfiles/postdoc/Fire/data/DNN/Y/label_{id}.tif\")\n",
    "    if not os.path.exists(yfilename.parent):\n",
    "        os.makedirs(yfilename.parent)\n",
    "    BaseImage(label).download(yfilename, crs='EPSG:4326', region= label.geometry(), scale= scale, overwrite=True, num_threads=20)\n"
   ]
  },
  {
   "cell_type": "code",
   "execution_count": null,
   "metadata": {},
   "outputs": [],
   "source": [
    "rootdir = \"C:/Users/coach/myfiles/postdoc/Fire/data/DNN\"\n",
    "\n",
    "for id in tqdm(range(34, mtbs_sz)):#mtbs_sz, 1616\n",
    "    fire = ee.Feature(mtbs_list.get(id))\n",
    "    try:\n",
    "        downloadInstance(fire, 15, 64, 30, id, rootdir)\n",
    "    except Exception as e:\n",
    "        print(f\"Fire event {id} failed with error: {e}\")"
   ]
  },
  {
   "cell_type": "markdown",
   "metadata": {},
   "source": [
    "# Flipnslide"
   ]
  },
  {
   "cell_type": "code",
   "execution_count": null,
   "metadata": {},
   "outputs": [],
   "source": [
    "import torch\n",
    "from flipnslide.tiling import FlipnSlide\n",
    "\n",
    "class FlipnSlideAug(torch.nn.Module):\n",
    "    def __init__(self, tilesize: int, viz: bool = False):\n",
    "        super().__init__()\n",
    "        self.tilesize = tilesize\n",
    "        self.viz = viz\n",
    "    \n",
    "    def forward(self, inputs):\n",
    "        if isinstance(inputs, dict):\n",
    "            # If input is a dictionary, process each item\n",
    "            return {key: self.process_tensor(value) for key, value in inputs.items()}\n",
    "        else:\n",
    "            # If input is a single tensor, process it directly\n",
    "            return self.process_tensor(inputs)\n",
    "    \n",
    "    def process_tensor(self, tensor):\n",
    "        # Ensure input is on CPU and convert to numpy\n",
    "        np_array = tensor.squeeze(0).cpu().numpy()\n",
    "        \n",
    "        sample_tiled = FlipnSlide(\n",
    "            tile_size=self.tilesize, \n",
    "            data_type='tensor',\n",
    "            save=False, \n",
    "            image=np_array,\n",
    "            viz=self.viz\n",
    "        )\n",
    "        \n",
    "        # Convert back to tensor and add batch dimension\n",
    "        return sample_tiled.tiles\n",
    "\n",
    "# Usage with AugmentationSequential\n",
    "flipnslide = FlipnSlideAug(tilesize=64, viz=False)\n",
    "tfms = AugmentationSequential(\n",
    "    flipnslide,\n",
    "    data_keys=None\n",
    ")\n",
    "\n",
    "# Example usage\n",
    "train_batch = {\n",
    "    'image': torch.rand(1, 3, 256, 256),\n",
    "    'mask': torch.rand(1, 1, 256, 256)\n",
    "}\n",
    "\n",
    "transformed = tfms(train_batch)\n",
    "\n",
    "print(\"Transformed image shape:\", transformed['image'].shape)\n",
    "print(\"Transformed mask shape:\", transformed['mask'].shape)"
   ]
  },
  {
   "cell_type": "code",
   "execution_count": null,
   "metadata": {},
   "outputs": [],
   "source": [
    "import torch\n",
    "from flipnslide.tiling import FlipnSlide\n",
    "from kornia.augmentation.container import AugmentationSequential\n",
    "from kornia.constants import DataKey\n",
    "\n",
    "\n",
    "class FlipnSlideAug(torch.nn.Module):\n",
    "    def __init__(self, tilesize: int, viz: bool = False):\n",
    "        super().__init__()\n",
    "        self.tilesize = tilesize\n",
    "        self.viz = viz\n",
    "    \n",
    "    def forward(self, tensor):\n",
    "        # Process the input tensor directly\n",
    "        return self.process_tensor(tensor)\n",
    "    \n",
    "    def process_tensor(self, tensor):\n",
    "        # Ensure input is on CPU and convert to numpy\n",
    "        np_array = tensor.squeeze(0).cpu().numpy()\n",
    "        \n",
    "        sample_tiled = FlipnSlide(\n",
    "            tile_size=self.tilesize, \n",
    "            data_type='tensor',\n",
    "            save=False, \n",
    "            image=np_array,\n",
    "            viz=self.viz\n",
    "        )\n",
    "        \n",
    "        # Return the tiles directly\n",
    "        return sample_tiled.tiles\n",
    "\n",
    "# Usage with AugmentationSequential\n",
    "flipnslide = FlipnSlideAug(tilesize=64, viz=False)\n",
    "tfms = AugmentationSequential(\n",
    "    flipnslide,\n",
    "    data_keys=[DataKey.INPUT, DataKey.MASK]# Specify both keys\n",
    ")\n",
    "\n",
    "# Example usage\n",
    "train_batch = {\n",
    "    'image': torch.rand(1, 3, 256, 256),\n",
    "    'mask': torch.rand(1, 1, 256, 256)\n",
    "}\n",
    "\n",
    "transformed = tfms(train_batch['image'], train_batch['mask'])\n",
    "\n",
    "print(\"Transformed image shape:\", transformed[0].shape)\n",
    "print(\"Transformed mask shape:\", transformed[1].shape)"
   ]
  },
  {
   "cell_type": "code",
   "execution_count": null,
   "metadata": {},
   "outputs": [],
   "source": [
    "from pathlib import Path\n",
    "from torchgeo.datasets import RasterDataset, stack_samples\n",
    "from torchgeo.samplers import RandomGeoSampler, Units\n",
    "from torch.utils.data import DataLoader\n",
    "# from torchgeo.transforms import AugmentationSequential\n",
    "from kornia.augmentation.container import AugmentationSequential\n",
    "from flipnslide.tiling import FlipnSlide\n",
    "\n",
    "import torch \n",
    "class FlipnSlideAug(torch.nn.Module):\n",
    "    def __init__(self, tilesize: int, viz: bool = False):\n",
    "        super().__init__()\n",
    "\n",
    "        self.tilesize = tilesize\n",
    "        self.viz = viz\n",
    "\n",
    "    def forward(self, inputs: dict):\n",
    "\n",
    "        sample_tiled = FlipnSlide(tile_size=self.tilesize, data_type='tensor',\n",
    "                          save=False, image= inputs.squeeze(0).numpy(), viz = self.viz)\n",
    "\n",
    "        return sample_tiled.tiles\n",
    "\n",
    "root = Path(r\"C:\\Users\\coach\\myfiles\\postdoc\\Fire\\data\\DNN\")\n",
    "assert root.exists()\n",
    "\n",
    "train_imgs = RasterDataset(paths=(root/'X').as_posix(), crs='epsg:4326', res= 0.00025)\n",
    "train_msks = RasterDataset(paths=(root/'Y').as_posix(), crs='epsg:4326', res= 0.00025)\n",
    "\n",
    "# IMPORTANT\n",
    "train_msks.is_image = False\n",
    "\n",
    "flipnslide = FlipnSlideAug(tilesize=64, viz= False)\n",
    "tfms = AugmentationSequential(flipnslide,\n",
    "    data_keys = ['image', 'mask']\n",
    ")\n",
    "\n",
    "train_dset = train_imgs & train_msks\n",
    "\n",
    "train_sampler = RandomGeoSampler(train_imgs, size= 64*3, length=3, units=Units.PIXELS)\n",
    "\n",
    "train_dataloader = DataLoader(train_dset, sampler=train_sampler, batch_size=1, collate_fn=stack_samples)\n",
    "\n",
    "train_batch = next(iter(train_dataloader))\n",
    "del train_batch['crs']\n",
    "del train_batch['bbox']\n",
    "\n",
    "train_batch.keys()"
   ]
  },
  {
   "cell_type": "code",
   "execution_count": null,
   "metadata": {},
   "outputs": [],
   "source": [
    "print(train_batch['mask'].shape)\n",
    "flipnslide(train_batch['mask']).shape"
   ]
  },
  {
   "cell_type": "code",
   "execution_count": null,
   "metadata": {},
   "outputs": [],
   "source": [
    "print(train_batch['image'].shape)\n",
    "print(train_batch['mask'].shape)\n",
    "\n",
    "print(tfms(train_batch['image'], train_batch['mask'])[1].shape)\n",
    "# print(tfms(train_batch)['mask'].shape)\n"
   ]
  },
  {
   "cell_type": "code",
   "execution_count": 1,
   "metadata": {},
   "outputs": [],
   "source": [
    "#Once data is extracted, perform flipnslide\n",
    "from flipnslide.tiling import FlipnSlide\n",
    "import rasterio as rio"
   ]
  },
  {
   "cell_type": "code",
   "execution_count": null,
   "metadata": {},
   "outputs": [],
   "source": [
    "timg = rio.open(r\"C:\\Users\\coach\\myfiles\\postdoc\\Fire\\data\\DNN\\X\\image_0.tif\")\n",
    "timg.shape"
   ]
  },
  {
   "cell_type": "code",
   "execution_count": null,
   "metadata": {},
   "outputs": [],
   "source": [
    "import numpy as np\n",
    "sample_image = np.random.rand(114, 313, 763)\n",
    "sample_tiled = FlipnSlide(tile_size=64, data_type='tensor',\n",
    "                          save=False, image=sample_image, viz = True)"
   ]
  },
  {
   "cell_type": "code",
   "execution_count": null,
   "metadata": {},
   "outputs": [],
   "source": [
    "tiles = sample_tiled.tiles"
   ]
  },
  {
   "cell_type": "code",
   "execution_count": null,
   "metadata": {},
   "outputs": [],
   "source": [
    "tiles.shape"
   ]
  },
  {
   "cell_type": "code",
   "execution_count": null,
   "metadata": {},
   "outputs": [],
   "source": [
    "year = startDate.get('year').getInfo()\n",
    "timelapse = geemap.landsat_timelapse(\n",
    "    event.geometry().bounds(),\n",
    "    out_gif='landsat.gif',\n",
    "    start_year= year,\n",
    "    end_year= year,\n",
    "    start_date='10-07',\n",
    "    end_date='12-30',\n",
    "    frequency='month',\n",
    "    bands=['SWIR2','NIR', 'Red'],#nir, swir2, gr\n",
    "    frames_per_second=1,\n",
    "    title='Landsat-8 Timelapse',\n",
    ")\n",
    "geemap.show_image(timelapse)"
   ]
  },
  {
   "cell_type": "code",
   "execution_count": null,
   "metadata": {},
   "outputs": [],
   "source": [
    "timelapse = geemap.sentinel2_timelapse(\n",
    "    event.geometry().bounds(),\n",
    "    out_gif='sentinel2.gif',\n",
    "    start_year= year,\n",
    "    end_year= year,\n",
    "    start_date='05-01',\n",
    "    end_date='06-30',\n",
    "    frequency='week',\n",
    "    bands=['SWIR2','NIR', 'Red'],#nir, swir2, gr\n",
    "    frames_per_second=1,\n",
    "    title='Sentinel-2 Timelapse',\n",
    ")\n",
    "geemap.show_image(timelapse)"
   ]
  },
  {
   "cell_type": "markdown",
   "metadata": {},
   "source": [
    "# SA data"
   ]
  },
  {
   "cell_type": "code",
   "execution_count": 14,
   "metadata": {},
   "outputs": [
    {
     "data": {
      "text/html": [
       "\n",
       "            <style>\n",
       "                .geemap-dark {\n",
       "                    --jp-widgets-color: white;\n",
       "                    --jp-widgets-label-color: white;\n",
       "                    --jp-ui-font-color1: white;\n",
       "                    --jp-layout-color2: #454545;\n",
       "                    background-color: #383838;\n",
       "                }\n",
       "\n",
       "                .geemap-dark .jupyter-button {\n",
       "                    --jp-layout-color3: #383838;\n",
       "                }\n",
       "\n",
       "                .geemap-colab {\n",
       "                    background-color: var(--colab-primary-surface-color, white);\n",
       "                }\n",
       "\n",
       "                .geemap-colab .jupyter-button {\n",
       "                    --jp-layout-color3: var(--colab-primary-surface-color, white);\n",
       "                }\n",
       "            </style>\n",
       "            "
      ],
      "text/plain": [
       "<IPython.core.display.HTML object>"
      ]
     },
     "metadata": {},
     "output_type": "display_data"
    }
   ],
   "source": [
    "import geopandas as gpd\n",
    "import ee\n",
    "import geemap\n",
    "from geeml.utils import eeprint\n",
    "from tqdm.auto import tqdm\n",
    "\n",
    "try:\n",
    "    ee.Initialize()\n",
    "except:\n",
    "    ee.Authenticate()\n",
    "    ee.Initialize()\n",
    "import os"
   ]
  },
  {
   "cell_type": "code",
   "execution_count": 2,
   "metadata": {},
   "outputs": [
    {
     "data": {
      "text/html": [
       "\n",
       "            <style>\n",
       "                .geemap-dark {\n",
       "                    --jp-widgets-color: white;\n",
       "                    --jp-widgets-label-color: white;\n",
       "                    --jp-ui-font-color1: white;\n",
       "                    --jp-layout-color2: #454545;\n",
       "                    background-color: #383838;\n",
       "                }\n",
       "\n",
       "                .geemap-dark .jupyter-button {\n",
       "                    --jp-layout-color3: #383838;\n",
       "                }\n",
       "\n",
       "                .geemap-colab {\n",
       "                    background-color: var(--colab-primary-surface-color, white);\n",
       "                }\n",
       "\n",
       "                .geemap-colab .jupyter-button {\n",
       "                    --jp-layout-color3: var(--colab-primary-surface-color, white);\n",
       "                }\n",
       "            </style>\n",
       "            "
      ],
      "text/plain": [
       "<IPython.core.display.HTML object>"
      ]
     },
     "metadata": {},
     "output_type": "display_data"
    },
    {
     "data": {
      "text/html": [
       "<div id=\"d3b7909d-c39f-4071-9762-fde7b46d050f\" style=\"height: auto; width:100%;\"></div>"
      ],
      "text/plain": [
       "<IPython.core.display.HTML object>"
      ]
     },
     "metadata": {},
     "output_type": "display_data"
    },
    {
     "data": {
      "text/html": [
       " \n",
       "        <script src=\"/static/components/requirejs/require.js\"></script> <!-- Needed in Colab -->\n",
       "        <script>\n",
       "            require([\"https://rawgit.com/caldwell/renderjson/master/renderjson.js\"], function() {\n",
       "              renderjson.set_show_to_level(1)\n",
       "              document.getElementById('d3b7909d-c39f-4071-9762-fde7b46d050f').appendChild(renderjson({\"type\": \"FeatureCollection\", \"columns\": {\"DATE_BURNE\": \"Long\", \"FIRE_ID\": \"String\", \"HECTARES\": \"Float\", \"Ig_Date\": \"String\", \"YEAR_\": \"Long\", \"system:index\": \"String\"}, \"version\": 1724525335751979, \"id\": \"projects/ee-geethensingh/assets/postdoc/FireRecords_GRNP\", \"properties\": {\"system:asset_size\": 3948355}, \"features\": [{\"type\": \"Feature\", \"geometry\": {\"type\": \"Polygon\", \"coordinates\": [[[22.984481870796337, -33.88651066953683], [22.98501845117632, -33.88652413494705], [22.985603298849764, -33.886618233739156], [22.985737466519854, -33.88667192999791], [22.986274046082283, -33.886730121737685], [22.986778446914077, -33.886734660903564], [22.987030601764406, -33.88665412081169], [22.987524366914492, -33.88629618579298], [22.988018040869004, -33.88608141436344], [22.988350732042985, -33.885911388627264], [22.988672696979922, -33.88588008715546], [22.988881946851563, -33.88603679416437], [22.98912873800878, -33.88638134313437], [22.98932189862341, -33.886493249626554], [22.989890654108272, -33.88644854341107], [22.990475589216906, -33.88631433412944], [22.99102825479525, -33.88607273234161], [22.991446844183802, -33.88560735611394], [22.99167763637423, -33.88541493680604], [22.99180644002218, -33.88537465007231], [22.991870796389165, -33.885356772388775], [22.99197269395989, -33.88538367046029], [22.992074682416757, -33.885526856547266], [22.992144401791293, -33.88573271881898], [22.99236973985958, -33.885813313628674], [22.992605894815863, -33.88580876568461], [22.992713155320114, -33.88592520315733], [22.992756059517884, -33.88609522407847], [22.992648708120512, -33.8867754468229], [22.992766785566978, -33.88698131814853], [22.993051116715453, -33.88708876792262], [22.993839935158775, -33.887057477211165], [22.99435505737126, -33.88704407234702], [22.994907720333934, -33.887070924275626], [22.995084790559496, -33.88715147921781], [22.99521895668024, -33.88726335064994], [22.995337033756098, -33.88724990980026], [22.995438930895638, -33.88715147345031], [22.995471199835485, -33.88703068665521], [22.995471199835485, -33.88701722687342], [22.995551644933503, -33.886592069931915], [22.995589276874945, -33.88651600872514], [22.995621454910463, -33.886431024608434], [22.995637543927742, -33.886390708672764], [22.995685810977683, -33.88626097559741], [22.99573953192823, -33.8861267053796], [22.99578779897216, -33.88599245851886], [22.995819976999858, -33.88587160778139], [22.99587369794159, -33.885768689912986], [22.995975595014272, -33.88571498458831], [22.996099034983608, -33.88572845773443], [22.9961097609889, -33.885728446411534], [22.99623856393977, -33.885759725918334], [22.99629219395567, -33.88578215611467], [22.99637809287212, -33.88576423524924], [22.996501441882383, -33.88572396669953], [22.996624881772327, -33.88565684097284], [22.9967590476404, -33.88557624383514], [22.996909302478702, -33.8855046564533], [22.997064920285737, -33.8854465230859], [22.997220538063143, -33.885397255323795], [22.997354612935204, -33.88533013530508], [22.99746732670893, -33.88524512738274], [22.99759076645296, -33.88514664798411], [22.99770348019409, -33.88503480059199], [22.997816103021517, -33.884918457409164], [22.99793417972221, -33.88480660399867], [22.998068345375255, -33.88469916613105], [22.998229325950188, -33.88461418633003], [22.998411758443652, -33.8845559419782], [22.998583464923676, -33.88451568232938], [22.998744445397023, -33.884453027627664], [22.99888388300327, -33.884359060916275], [22.99901804850022, -33.8842471891116], [22.999168302922847, -33.884126353340626], [22.999329283280808, -33.884014532810525], [22.999495626587404, -33.88391600502004], [22.999645880922067, -33.88382208854215], [22.999865853945266, -33.883683364081975], [23.00003219714242, -33.88355356329054], [23.000139547570207, -33.88346855859564], [23.00022535518395, -33.88339246082086], [23.000295073863473, -33.88332089399073], [23.000348794510767, -33.88322683967759], [23.000386335333253, -33.88311049475039], [23.00042387615401, -33.88300309619373], [23.000488231842724, -33.88290912843762], [23.000547315450763, -33.88285988104895], [23.000579493290875, -33.882837520128334], [23.000670663830977, -33.88274803660834], [23.000697569591605, -33.882703257081424], [23.000724384453513, -33.882654062443514], [23.000751199314543, -33.88260478718648], [23.000761925258704, -33.88257350303544], [23.000745836342404, -33.88252427441941], [23.000724384453513, -33.88233634012664], [23.000810192005694, -33.882291594796854], [23.000847732806925, -33.88210359600737], [23.000772651202727, -33.88205435060928], [23.000745836342404, -33.88196040049812], [23.000912179359975, -33.881924577079644], [23.000949720156516, -33.881915670323366], [23.00148092678699, -33.881987255388665], [23.00172771414376, -33.88244372285298], [23.00187260510218, -33.88305682076228], [23.001942414538433, -33.88305680666258], [23.001985318251503, -33.88306127285697], [23.002055036780398, -33.88307022294168], [23.00216774990446, -33.88307918831348], [23.00228573507729, -33.88310154476444], [23.002419900014207, -33.88312837885373], [23.002570153809586, -33.88314632908945], [23.00272040757722, -33.88312841298322], [23.002849209484197, -33.88307022156026], [23.002967194558234, -33.88297619370557], [23.003122811209067, -33.88294489188191], [23.003230161229464, -33.8829761876501], [23.003348146248257, -33.88301200261809], [23.003482311009993, -33.88304778153881], [23.003621838702827, -33.883065742130654], [23.00376672932398, -33.88306572322039], [23.00388471426492, -33.88307018492211], [23.004024241888704, -33.88308363142536], [23.00413695473994, -33.88309251383053], [23.00426030257617, -33.88309704961645], [23.00440519308354, -33.88310597603773], [23.004550083565082, -33.88312384852407], [23.004673522236004, -33.88315520475527], [23.00477005526309, -33.88319990752417], [23.004866679176075, -33.88324467286992], [23.0049901177989, -33.88328940763014], [23.005118828448975, -33.88331182860128], [23.005263718803267, -33.88331180729479], [23.005419335014462, -33.883298394494176], [23.005558862374738, -33.88328491922003], [23.005676937952753, -33.883271468258485], [23.005773470860586, -33.88324911331786], [23.005902272283773, -33.88321332459334], [23.006020256914596, -33.88317305246247], [23.006132969488906, -33.88312825509023], [23.006245682047552, -33.88308353821248], [23.006385118368613, -33.883043241130515], [23.00652464556291, -33.88300292602392], [23.00666953566632, -33.882976064207234], [23.006819788675955, -33.882944763220884], [23.006970041657777, -33.8829000024281], [23.007120203714653, -33.882864205517976], [23.00727045664083, -33.88287312155401], [23.007420709539172, -33.88290887591377], [23.007570962409677, -33.882967116314326], [23.007721215252346, -33.883020762386295], [23.007871468067172, -33.88306102918543], [23.008021720854153, -33.883096862903024], [23.008155793946667, -33.88312370622521], [23.008273869146727, -33.883141604116915], [23.008332861291812, -33.88314153521038], [23.00833822421388, -33.88314160954011], [23.00839194432959, -33.88314152899928], [23.008520654440034, -33.883123647408546], [23.00864945542699, -33.8831012344461], [23.008767530555126, -33.883069887799046], [23.008869426013682, -33.88302068555118], [23.008971412356342, -33.882944627006474], [23.009051856120234, -33.88285958471317], [23.00911084820868, -33.882756675286174], [23.009148388626368, -33.88265371036977], [23.009148388626368, -33.88254184329212], [23.00911084820868, -33.88242993952467], [23.009046493202895, -33.88235385167774], [23.008960595623638, -33.8822554009063], [23.008890786790612, -33.88217933684693], [23.008804980091785, -33.88209884075224], [23.008708356647794, -33.8820137808236], [23.008633275769906, -33.88195116423951], [23.008488386017373, -33.88184375415036], [23.008370310848562, -33.881754285530114], [23.00830059286167, -33.88165136359445], [23.00826296150772, -33.88154390853575], [23.008220058126202, -33.88142757595822], [23.008182517665503, -33.88132461611969], [23.008144886306066, -33.88120829480654], [23.008101982918294, -33.881096394496076], [23.008053716604344, -33.881002473462175], [23.007994633541916, -33.880868203024356], [23.007946367221574, -33.88077871449362], [23.007908826748203, -33.880689213456094], [23.00786046952571, -33.88060417539281], [23.00778002564356, -33.880510209937], [23.007704853782624, -33.88043858167526], [23.00757605264557, -33.88035806836355], [23.00746879409665, -33.880317811518026], [23.007356081707908, -33.88028201141613], [23.00724346020061, -33.8802417603445], [23.007120021920407, -33.880201458591785], [23.00699658362143, -33.88016123721622], [23.006878599132527, -33.88012542458683], [23.006755160796818, -33.88008963572251], [23.006637085375644, -33.880053840553465], [23.00651910083447, -33.8800224602746], [23.006406388313792, -33.879991172190174], [23.006304401648524, -33.87995535823168], [23.006197142931477, -33.87991066639686], [23.006089793303016, -33.87987034460524], [23.00598789749522, -33.879821132783015], [23.005869821962428, -33.8797495500928], [23.005735657594855, -33.87966895805863], [23.005649850562236, -33.87961078092408], [23.005558589682852, -33.87955262751143], [23.00542987910246, -33.87947660495899], [23.00531716643056, -33.87940944794391], [23.005199090800247, -33.879337863662464], [23.005081106050117, -33.87924385435753], [23.00500057099511, -33.87917674126218], [23.004920126829504, -33.87910961013979], [23.00483422881335, -33.879047016311134], [23.004716244010233, -33.87895751958318], [23.004630345972537, -33.8788992777916], [23.004501544347672, -33.87881875695078], [23.004372833599813, -33.87873821791084], [23.004303024372113, -33.87867109158965], [23.004297661423387, -33.87867109751758], [23.004201128340192, -33.87857262892452], [23.004115230248054, -33.87848762649977], [23.004024060093773, -33.87839809821808], [23.00393279903178, -33.878308587547274], [23.003836265905264, -33.87822809204494], [23.00376645663149, -33.87816096463188], [23.003745004822203, -33.8781430139787], [23.003643108720347, -33.878093797397455], [23.003546484661918, -33.87803564581044], [23.003503581031165, -33.87795065766413], [23.003466040352397, -33.87786558292456], [23.00342304581987, -33.87777158493479], [23.00340159400152, -33.877722360391736], [23.00336941627294, -33.87766871438327], [23.00326215716846, -33.877521006501865], [23.003262157168464, -33.87751205962601], [23.00327824603503, -33.87748068773157], [23.00331042376723, -33.87741359138069], [23.00332651263284, -33.87736883943279], [23.00333723854308, -33.87733755394467], [23.003347964453173, -33.87729724095346], [23.003390868092133, -33.877239079718336], [23.00349821807716, -33.87718534422443], [23.003594751243806, -33.87714953198945], [23.00376645663149, -33.87715851548958], [23.0039971544431, -33.87713616032409], [23.00427611873068, -33.8771898403575], [23.004587351501577, -33.87714505079112], [23.004860952641568, -33.87717640809482], [23.00516145930245, -33.8772747778368], [23.005413608483856, -33.877328483745586], [23.00554777290463, -33.877306151456615], [23.005628217008088, -33.87724794814117], [23.005714024042998, -33.87710027076279], [23.005746201678747, -33.876925731776495], [23.005746201678747, -33.8767735550592], [23.00561203729075, -33.87659454293572], [23.005488689659735, -33.87650504971217], [23.005241812546846, -33.87641113377026], [23.005037929808303, -33.87630820486617], [23.00492530797939, -33.876191857650205], [23.0048340470186, -33.87602625583906], [23.00486622468921, -33.875838334453746], [23.005118373962254, -33.87567715558538], [23.005483235821526, -33.87552050925942], [23.005628126110807, -33.87541312932175], [23.00579437723271, -33.87526995547348], [23.00603043740583, -33.87506849073699], [23.006169964661087, -33.87496554920929], [23.006336215672043, -33.87479101971622], [23.006400661790146, -33.87461650430795], [23.00656691275384, -33.87444197426118], [23.00672789164795, -33.87433900819264], [23.006942499824714, -33.87428982568158], [23.007098024816955, -33.874249512092035], [23.007366353079465, -33.874276341100405], [23.00758096108731, -33.87441504411432], [23.007854561218252, -33.87463879693712], [23.00815506677063, -33.87480438516659], [23.00835358580402, -33.87487144695974], [23.008670089034144, -33.874858013916786], [23.008777438321058, -33.87480878764421], [23.00892760004315, -33.874665547838845], [23.008943688797437, -33.87449997158153], [23.00891151128855, -33.87434339661445], [23.00882561369498, -33.87416884470492], [23.00872362733397, -33.87398987722], [23.008584191414986, -33.87380633911479], [23.00837485569756, -33.873654269082934], [23.008219330950222, -33.873515482506775], [23.008106618665813, -33.873381259581606], [23.00800999513857, -33.873161980715956], [23.007913462496816, -33.872991932536486], [23.007897373722084, -33.87296059531767], [23.00791346249682, -33.87290689476496], [23.007908099571946, -33.872857651341704], [23.0078920107971, -33.8728487221525], [23.007892010797097, -33.87284428889849], [23.007773935541426, -33.87277713318498], [23.00762368270852, -33.87271896007752], [23.007494972455657, -33.87254894586682], [23.007446615208487, -33.87240126805071], [23.007350082499677, -33.87230730855423], [23.007178377869646, -33.87219096060232], [23.007103205952948, -33.87207015297631], [23.007103205952948, -33.871958272359905], [23.00715683525336, -33.87189106873797], [23.007054939579547, -33.87178816673211], [23.006899323681896, -33.87155097089042], [23.006861783160065, -33.87147491987451], [23.006808153840147, -33.871618135181215], [23.00671162105537, -33.87190455351742], [23.00662581412591, -33.87223126221975], [23.006470198145962, -33.87239233954069], [23.006191234611904, -33.872477379470965], [23.005762017804326, -33.87257138653041], [23.00538115814298, -33.87274149408617], [23.005139734837954, -33.87290701584648], [23.004898311461176, -33.873014501060275], [23.004619347387155, -33.87314427358422], [23.004372560907534, -33.873341155216146], [23.004066691004677, -33.87347992054893], [23.003557028774207, -33.87366339837451], [23.003122447618793, -33.87383349386568], [23.003004462567276, -33.87388270887347], [23.002628873676098, -33.87399905619049], [23.00250552559247, -33.8742183543461], [23.00238744955385, -33.87455397781739], [23.002290916243968, -33.87484490438915], [23.00207630683888, -33.87517603453971], [23.002022677203186, -33.87526999639421], [23.001974410528046, -33.875368466331054], [23.001926143850053, -33.87546242232284], [23.001877786271475, -33.87555647670416], [23.001824156622714, -33.875650438264564], [23.001765164004993, -33.87575335257152], [23.00171153434881, -33.8758383668783], [23.001663176757496, -33.87592339326988], [23.00160418412812, -33.87600841316613], [23.00152910259363, -33.876089016886425], [23.001437841251846, -33.87616506106718], [23.001341307829374, -33.87623665977722], [23.001255500333134, -33.87631276084792], [23.001169601930073, -33.876393312936955], [23.001089157385657, -33.876482788466646], [23.0010140758037, -33.87656339176481], [23.00093354034612, -33.87664837116625], [23.000842369835425, -33.876719963730054], [23.00075110841671, -33.87679157407497], [23.000670663830974, -33.87685872190238], [23.00058485626411, -33.876943769441375], [23.000515046711516, -33.87704219798502], [23.000445328050816, -33.87713174215723], [23.000375609384147, -33.877225719468846], [23.000295073863473, -33.877324159113876], [23.000219992208354, -33.87739130087725], [23.00013409369615, -33.8774807990157], [23.00004292309604, -33.877561337867284], [22.99996784141771, -33.87762847943857], [22.99988730585675, -33.877704510872086], [22.999796135229044, -33.877789563302485], [22.999720962630043, -33.87786115574021], [22.999645880922067, -33.877946191054875], [22.999597614106143, -33.87803571183214], [22.999560073247345, -33.878129654425535], [22.999506352548085, -33.878241525706564], [22.999441996781876, -33.87832654944083], [22.999366915048224, -33.87841609819321], [22.999281016446155, -33.87849213468103], [22.99917911978584, -33.878563736997606], [22.999093221163992, -33.878635340159015], [22.9989966874639, -33.87871588362031], [22.998889336885693, -33.87881435000819], [22.998792803161475, -33.87888594633902], [22.99868008957073, -33.87896652426415], [22.998567466862486, -33.87904257045413], [22.998449390253377, -33.87911864001035], [22.998336676615203, -33.87919027067154], [22.99823477983698, -33.87925292522127], [22.998138155137227, -33.87931107816783], [22.998036258334224, -33.87936035245827], [22.997918181648288, -33.879418527639], [22.99779483285191, -33.87949007053746], [22.997682119123375, -33.87956170059519], [22.99756940537929, -33.87963776370836], [22.99745141952406, -33.87970938127861], [22.997344068742667, -33.879785438599086], [22.9972368088454, -33.87985261165027], [22.997145547023404, -33.879901811322114], [22.997038287100075, -33.8799823642711], [22.996936299261602, -33.88008082323545], [22.996861217297518, -33.880152395728615], [22.996786044428262, -33.88022398601662], [22.99670559945169, -33.880304591447064], [22.996630426568117, -33.880389561652485], [22.996555344575935, -33.88047910828127], [22.99648026257686, -33.88057308797441], [22.99641045267322, -33.88066699929073], [22.996324644658504, -33.880752043037326], [22.996233382734655, -33.88081921635689], [22.99612612269162, -33.880859467144276], [22.996013408732924, -33.88088628061048], [22.995900694758696, -33.8808952808144], [22.995782708662578, -33.88088178044718], [22.995675357662027, -33.880859420461874], [22.99555200852715, -33.880823598337436], [22.995423205468157, -33.880787799349235], [22.995310491412585, -33.88075206427204], [22.99518177921402, -33.88072068016045], [22.99503688706796, -33.8806938438678], [22.994902720917363, -33.88068932344356], [22.994741830585813, -33.880684892859584], [22.99459157534932, -33.88069828226982], [22.99444132008524, -33.880734079164945], [22.99432860589445, -33.88076540465299], [22.99421598258669, -33.880805659144045], [22.99410863138062, -33.88085938670287], [22.994001371059056, -33.88091309631749], [22.99388865680771, -33.880957801544156], [22.99378666857658, -33.88098911570622], [22.993631141044588, -33.88102046597582], [22.993475522584433, -33.88102047918461], [22.99332526711558, -33.88099807900633], [22.993175011619183, -33.880948837584455], [22.993062388152815, -33.88090405421224], [22.99296039981882, -33.88085484456408], [22.992853139346927, -33.88081900246638], [22.992729698888162, -33.880810115776924], [22.99260625841082, -33.880814528559974], [22.992488271839974, -33.88083689267827], [22.992370194353402, -33.88088168241445], [22.992273659859812, -33.88094432695234], [22.992193123541036, -33.881033814379094], [22.992166308399277, -33.88108300933994], [22.992150219313793, -33.881118813403134], [22.992107224185535, -33.881248645887496], [22.99208577206994, -33.88136497827005], [22.992075046011944, -33.88148581366851], [22.992091135098896, -33.8815931614906], [22.99214476538645, -33.8816916860452], [22.99221984778313, -33.88179462221312], [22.992284295016447, -33.88189747038737], [22.992337925291363, -33.88198704741794], [22.99236474042751, -33.882022808343464], [22.99239691858973, -33.88207202456073], [22.992450548857274, -33.88216603442427], [22.99247200096331, -33.88227345639941], [22.992439822804045, -33.88240317828988], [22.992375466481718, -33.882492711618205], [22.992305656228062, -33.88256429373957], [22.99219294174346, -33.88265381249606], [22.992107133286734, -33.88271644585295], [22.992010507863384, -33.88277910771634], [22.99190324726721, -33.88283724862628], [22.991801258789025, -33.88289540194289], [22.991699270298163, -33.88295363577752], [22.99158128359683, -33.88302516710324], [22.991506110242835, -33.88309232092339], [22.99148465811153, -33.88325346631615], [22.990572487517905, -33.88366504845465], [22.990041182903312, -33.88380822914715], [22.989327534367717, -33.88396931845029], [22.988404635272445, -33.884067673388934], [22.987755342005396, -33.88418838907131], [22.987379746114208, -33.88442108319151], [22.986880617814425, -33.88501623904464], [22.986478115297256, -33.88539655683454], [22.985818094370703, -33.88582162828489], [22.985324419097033, -33.88601849712999], [22.985050720525656, -33.886246654156096], [22.98483601570429, -33.88631830595048], [22.984481870796337, -33.88651066953683]]]}, \"id\": \"000000000000000001d6\", \"properties\": {\"DATE_BURNE\": 20180227, \"FIRE_ID\": \"20180227_01\", \"HECTARES\": 118.5426864, \"Ig_Date\": \"2018-02-27T00:00:00\", \"YEAR_\": 2018}}, {\"type\": \"Feature\", \"geometry\": {\"type\": \"Polygon\", \"coordinates\": [[[22.974331591464694, -33.8976207659923], [22.974395949194125, -33.89782211981402], [22.974594476395854, -33.898126498588404], [22.974733918092515, -33.89827870036038], [22.974916355791965, -33.89838611429978], [22.97509879345134, -33.898350389399994], [22.975291957346947, -33.89848463099506], [22.975334953351485, -33.89851592605969], [22.975345679627107, -33.898529375825305], [22.97535640590259, -33.89854282558644], [22.97536176904028, -33.89855628019889], [22.97536713217794, -33.898565221455], [22.97536713217794, -33.89857416756609], [22.975372495315565, -33.89857859546684], [22.975372495315565, -33.898592054928685], [22.97537249531557, -33.89860543379307], [22.97537785845315, -33.898618888393116], [22.97537785845315, -33.8986367806034], [22.975377767552516, -33.89865469065102], [22.975377767552516, -33.89867258285459], [22.975383130690066, -33.89869498354175], [22.975383130690066, -33.898712875737274], [22.975383130690066, -33.89873076792943], [22.975388493827584, -33.89874865525622], [22.975388493827584, -33.89876211469297], [22.975393856965066, -33.898780002012295], [22.975393856965066, -33.89879346144425], [22.97539922010252, -33.898811348756105], [22.97540458323993, -33.89882480331842], [22.975409946377315, -33.89883817728249], [22.975415309514656, -33.89885163183902], [22.975420672651968, -33.89886508639265], [22.975431398926485, -33.89887845548035], [22.97543676206369, -33.89889634276868], [22.975442125200864, -33.89890979731224], [22.9754528514751, -33.89892767972215], [22.975463577749203, -33.898941129387396], [22.975468940886206, -33.898959016657734], [22.975479667160098, -33.89897697964575], [22.97548503029699, -33.89899486690613], [22.975495756570673, -33.89901718202139], [22.975501119707463, -33.89903958259908], [22.975511845980947, -33.89906197829311], [22.975517209117633, -33.89908437885645], [22.975527935390904, -33.89911120726323], [22.975533298527484, -33.89913804053883], [22.97554938793703, -33.89916494463717], [22.97556011420988, -33.89919620573378], [22.975570840482593, -33.899227547410625], [22.975586929891406, -33.89925888418654], [22.97560301929991, -33.89929473425844], [22.975619108708102, -33.89932599040189], [22.975635198115974, -33.899352894406995], [22.97564592438772, -33.89937972269567], [22.975662013795077, -33.899402113366186], [22.975672740066468, -33.89942450892075], [22.975688829473317, -33.8994513322797], [22.97569955574437, -33.89947372781425], [22.975710282015278, -33.899505069348606], [22.975721008286055, -33.89953641086819], [22.97571564515068, -33.899536415768935], [22.97570491887984, -33.899536344974905], [22.975699555744367, -33.899531917169135], [22.975688829473317, -33.899531926967754], [22.975683466337735, -33.89952741856577], [22.975678103202124, -33.89952742346423], [22.975667376930794, -33.899522919958834], [22.97566201379508, -33.89952292485629], [22.975656650659328, -33.89952292975345], [22.975651287523544, -33.899522934650314], [22.97564056125187, -33.89951843114095], [22.975635198115974, -33.89951843603681], [22.975629834980055, -33.899518440932376], [22.97562447184409, -33.899518445827646], [22.97561365467146, -33.89951847345843], [22.975608291535394, -33.8995184783528], [22.975602928399297, -33.89951396994365], [22.97559756526317, -33.899513974837326], [22.97559220212699, -33.899513979730706], [22.97558683899079, -33.899513984623795], [22.975581475854558, -33.89951398951659], [22.975576112718283, -33.899518427118224], [22.975565386445638, -33.89951843690257], [22.97556002330926, -33.89951844179431], [22.97555466017285, -33.89951844668573], [22.97554929703641, -33.899518451576874], [22.97554393389993, -33.89951845646772], [22.975538570763415, -33.89951846135828], [22.975533207626867, -33.89951846624854], [22.975527844490276, -33.89951847113851], [22.975522481353668, -33.89952290873825], [22.97551711821701, -33.899522913627735], [22.975511755080323, -33.89952291851693], [22.975506391943604, -33.89952292340583], [22.975501028806843, -33.899522928294445], [22.975495665670056, -33.89952736589319], [22.97561365467146, -33.899661690123146], [22.975683375437132, -33.899782518163256], [22.975699464843764, -33.8999257196536], [22.975726280520792, -33.90005101916322], [22.97582818008559, -33.900122654508046], [22.97600525441106, -33.9001271485325], [22.97601607157859, -33.90013163409163], [22.976069702911317, -33.900189773598655], [22.976493481218466, -33.90091486726445], [22.976514751938605, -33.901402631573056], [22.976455757504073, -33.90146530703895], [22.976450303472927, -33.90156824671652], [22.976466392864687, -33.90168460741087], [22.976509297907853, -33.901760646716795], [22.97649848074676, -33.90200680357989], [22.976637922123533, -33.90248571201467], [22.97620314492413, -33.902763022625706], [22.975698646738355, -33.90275848646586], [22.9753014110141, -33.90292849136878], [22.975269141284443, -33.903331175478186], [22.975333408040576, -33.90390405736715], [22.975451397065044, -33.90402934702255], [22.975472849613144, -33.90405173128331], [22.975837815547806, -33.90402941606395], [22.975843178682386, -33.904029411039616], [22.97619741818969, -33.90411904495963], [22.976299317696625, -33.90414586625934], [22.976353039911572, -33.90416828261805], [22.976433486876687, -33.904199637006755], [22.976819904902044, -33.90432501960106], [22.97737803365396, -33.904428056299174], [22.978424660401252, -33.90438788656113], [22.9789183397985, -33.90440145874096], [22.97953555225635, -33.904432843629394], [22.980378196503448, -33.904437453347654], [22.981043766681662, -33.90438833569849], [22.98156435090404, -33.90441079515706], [22.981821961344334, -33.90442428294861], [22.98228346015739, -33.904451166964215], [22.98316364321371, -33.90460794451756], [22.98401164684239, -33.90472888428628], [22.984752206271136, -33.90486769104878], [22.98526742508119, -33.90495283071945], [22.9859544435932, -33.90496627243484], [22.98658773998606, -33.90500669912501], [22.986866801109787, -33.90510065487332], [22.987596722754745, -33.90519921770626], [22.988412452603907, -33.90538277983538], [22.98934098743462, -33.90556182421422], [22.990103085135303, -33.9056380084179], [22.991004711976398, -33.90573206553267], [22.991273136430888, -33.90575887306917], [22.991278499465146, -33.905758867151704], [22.99171317782039, -33.90580370156352], [22.99210495171569, -33.90584398833644], [22.99243773213264, -33.90587982658178], [22.992689976144533, -33.90591117823422], [22.993103292561273, -33.90592015272349], [22.993677590240463, -33.90569636561718], [22.994826184390707, -33.90542791773793], [22.9952179567973, -33.90534739982371], [22.996184024936937, -33.905141552822265], [22.996516803695915, -33.905092364103474], [22.997010563134545, -33.905020810286686], [22.997622399020585, -33.904984957824695], [22.99804098503723, -33.9049939247422], [22.998352311088528, -33.90502976855107], [22.998926605081255, -33.90510136642106], [22.999087585486908, -33.90514161033911], [22.999135943231014, -33.90515056052829], [22.996983839048855, -33.90184786777872], [22.9962646517615, -33.901342237298635], [22.996243199754844, -33.901328803895964], [22.99609839869515, -33.90058137659347], [22.995889059766924, -33.90030394870629], [22.995304128521894, -33.900415804009484], [22.99529340250604, -33.9002815592661], [22.9952825855916, -33.90021889292082], [22.995266496567336, -33.90015629524612], [22.99525040754276, -33.90008910408642], [22.99522895550949, -33.90002651228667], [22.995202140467125, -33.89995933297182], [22.995169962415115, -33.899887727294086], [22.99513778436184, -33.89982063438967], [22.995094789390386, -33.89974897775533], [22.995051885315135, -33.899677383747466], [22.99500361822779, -33.899605795599264], [22.99494989722892, -33.89952971827668], [22.994890904114424, -33.89944919662279], [22.994762100951366, -33.899283589122774], [22.99456894161802, -33.89905084199748], [22.994429412377105, -33.89888524469415], [22.99431133517029, -33.89875105240867], [22.9941986209616, -33.89863015079293], [22.994096723667646, -33.89851832561557], [22.99399473546243, -33.8984153826732], [22.993892747244512, -33.89832138473978], [22.993790849912507, -33.898236313998986], [22.993694224687662, -33.898155767966095], [22.993592236432317, -33.898084172903026], [22.993490339062927, -33.89801707273458], [22.993393713802625, -33.897954416769146], [22.99329708853094, -33.897905138404845], [22.993195191124833, -33.897860360830784], [22.993098565829733, -33.89782010812945], [22.992996577500247, -33.897788806500266], [22.992899952181727, -33.89776193134241], [22.992787328677554, -33.89773956858791], [22.992663888208888, -33.89772609994724], [22.992540447721627, -33.89771271172192], [22.99240628116211, -33.897708199724555], [22.992266751552872, -33.89770820632252], [22.992121858891178, -33.89771265091228], [22.991976966203886, -33.89772160832215], [22.99183207349099, -33.89773499797053], [22.99178371531512, -33.897744012941196], [22.991719358941303, -33.89775737909228], [22.99167109165763, -33.897743972169486], [22.991349036997253, -33.8976186485045], [22.991145150789304, -33.89766780136324], [22.991145150789304, -33.897681259921924], [22.99112906168381, -33.8976902225296], [22.991129061683807, -33.897685709480264], [22.99112369864856, -33.89766782415986], [22.99111833561329, -33.89764993883487], [22.991112972577987, -33.897632053505276], [22.991112972577987, -33.89761416247468], [22.991107609542638, -33.897596196546424], [22.991107609542638, -33.89757830550861], [22.991107609542638, -33.89756041446742], [22.991107609542638, -33.89754252342287], [22.991107609542638, -33.8975201193173], [22.991107609542638, -33.897502228265175], [22.99110760954264, -33.89748433720968], [22.991102246507264, -33.89746645184312], [22.991102246507264, -33.897444047719034], [22.991102246507264, -33.897426156652145], [22.991102246507264, -33.897403833108996], [22.991102246507264, -33.89738594203453], [22.99109688347185, -33.89736797605568], [22.99109688347185, -33.89735008497401], [22.99109688347185, -33.89733219388897], [22.99109688347185, -33.89730978973268], [22.99109688347185, -33.897296411708794], [22.991091520436402, -33.89727852630047], [22.991091520436402, -33.89726063520151], [22.991091520436402, -33.89724717657979], [22.99108615740092, -33.897229291160166], [22.99108615740092, -33.89721140005148], [22.99108615740092, -33.897193508939424], [22.991091520436402, -33.89717109906559], [22.991091520436402, -33.89715320794642], [22.99109688347185, -33.89713079806442], [22.99109688347185, -33.89710847445137], [22.991102246507264, -33.89708163207239], [22.99110760954264, -33.897059222176], [22.991112972577987, -33.897036892865906], [22.991118335613294, -33.89701448296071], [22.991123698648558, -33.89698764055928], [22.99112369864856, -33.896983127476496], [22.990882271127663, -33.89664298426208], [22.99063548049731, -33.89643710947189], [22.990302790248386, -33.89594483685307], [22.990023730290815, -33.895537608804766], [22.989353077014833, -33.89482599649625], [22.98784524138373, -33.89344751855007], [22.986605828967306, -33.8923420423188], [22.986337493888172, -33.892292776329974], [22.986316132521395, -33.892042123834], [22.98579564219657, -33.89154089044377], [22.98566674670731, -33.892060017947394], [22.985393048249634, -33.89246717485749], [22.985231974255953, -33.89271778211077], [22.985194432739362, -33.89283863320673], [22.985205158887137, -33.89298627556169], [22.985430498857642, -33.89311611936177], [22.9855002187957, -33.89312951043372], [22.98562366034039, -33.89305344962574], [22.9858330018868, -33.89290128403067], [22.985993984863505, -33.89281632025828], [22.986364309220125, -33.89279397880999], [22.9864930228014, -33.89282536436063], [22.986536018223426, -33.89292822510366], [22.98653592732402, -33.893053569648], [22.98635349218802, -33.89320117832902], [22.98612269850266, -33.89331306782099], [22.985934900206033, -33.893496546274626], [22.985891904752624, -33.893612906177786], [22.985854363266096, -33.893679998896936], [22.985757737107676, -33.89378738496488], [22.98576846324811, -33.89397089029906], [22.98589181385314, -33.89416331027396], [22.9862084166848, -33.894391608159786], [22.98654110859037, -33.894458778996714], [22.986669913043396, -33.89443638821793], [22.986857711172394, -33.894436424029834], [22.987426559261014, -33.89450807381101], [22.98746410067585, -33.894543900366706], [22.987512368206694, -33.89458414872424], [22.9876197202755, -33.89473183201317], [22.987710892258587, -33.89497795405094], [22.987807427288484, -33.89520625851845], [22.987726981431024, -33.89531812353082], [22.98756054483541, -33.895371761588066], [22.98729230096682, -33.89535383705963], [22.987131318243964, -33.89527326267975], [22.986921977027613, -33.89513456549632], [22.986814715767164, -33.89496897202248], [22.986750359004187, -33.894843632063996], [22.9866537329509, -33.894704882659546], [22.986530382459993, -33.89463770979873], [22.986460571709713, -33.894691473373804], [22.986530291560577, -33.89479883602306], [22.986637643757483, -33.89499133104462], [22.986857620273017, -33.89525979270233], [22.98684144018421, -33.89543882564786], [22.986664368180268, -33.89545223909717], [22.98651411146534, -33.89542984163029], [22.98632631325797, -33.89525080670638], [22.98615460421094, -33.89506732199605], [22.985977532059305, -33.8948838416668], [22.98579509679962, -33.894771933820074], [22.98565556606801, -33.89480328033601], [22.985607298428313, -33.89481662637329], [22.985607298428313, -33.894906167113135], [22.98566629220978, -33.895044892446265], [22.98605797808774, -33.89542084191342], [22.986261865557378, -33.89565361705885], [22.986315496225362, -33.895819183320846], [22.986331585425074, -33.8958728425032], [22.986353037690865, -33.89605189970453], [22.98626177465794, -33.89614581995754], [22.986122244005376, -33.89616822168036], [22.985998802535395, -33.89614136448625], [22.985837819559627, -33.89608762642011], [22.985569575129787, -33.8959175370153], [22.985419318215136, -33.89577876049626], [22.985295876639835, -33.89561319944215], [22.985161799797396, -33.89530884686021], [22.9851617997974, -33.89503587282643], [22.985215521436544, -33.89485244874848], [22.985199432215037, -33.89470473409618], [22.985188706067188, -33.89468685259096], [22.985086807655676, -33.894642061672656], [22.984882919895277, -33.894476415201964], [22.984501868716137, -33.894382465000106], [22.984217443711206, -33.89443613281344], [22.98399737559119, -33.89460611732282], [22.98385248147268, -33.89465535892647], [22.983584236396915, -33.894413608266916], [22.98342870693487, -33.894042210840176], [22.983262360370844, -33.89398395680665], [22.9829295762424, -33.89401527942486], [22.98270423558868, -33.893889943896646], [22.982645241595364, -33.89388991979659], [22.982425173056118, -33.89385405838086], [22.98212465805404, -33.89391668182508], [22.981952948132328, -33.89398827180579], [22.981786510371077, -33.894189635226205], [22.981813325850986, -33.89433283011937], [22.98206548221952, -33.89450738601736], [22.982081662402035, -33.89452081241375], [22.982242646110848, -33.89454772120297], [22.982355271058438, -33.89463272303815], [22.98238744961207, -33.89462382662555], [22.982704053789014, -33.894838678447286], [22.982768410867845, -33.89505348479008], [22.98277913704717, -33.89525931556716], [22.9827736830577, -33.89541593551536], [22.98282731395255, -33.895702399708476], [22.982805861595033, -33.89580977309927], [22.982848766309516, -33.895966408100726], [22.982880944843917, -33.89602907967606], [22.98296139117444, -33.896172298995694], [22.983106194549617, -33.89640056299411], [22.983213547192406, -33.896579521084995], [22.983336898179633, -33.896830209281234], [22.983374439780775, -33.89688392866915], [22.983368985795245, -33.89725532768377], [22.983390438138137, -33.897546248962385], [22.98342252575167, -33.89790422997656], [22.98340107340961, -33.8981414360389], [22.98340634559542, -33.89845471233169], [22.98333126239432, -33.89847702998065], [22.9833098100499, -33.89819957054737], [22.983266905359372, -33.89782815979657], [22.98320800230604, -33.89747012386499], [22.983143645261475, -33.89721051439709], [22.98303102042142, -33.896928626614354], [22.98274659490949, -33.89666902302203], [22.9826500592868, -33.89653025262498], [22.982532071288205, -33.896252799108915], [22.982365724543513, -33.89602900443495], [22.982285278154958, -33.89585443241557], [22.982194105571804, -33.89567987018597], [22.98210284207867, -33.895469540809444], [22.98201166947537, -33.895389032591275], [22.98180778095521, -33.89535313858152], [22.981609164582025, -33.89544266393834], [22.981533990317565, -33.89551424187874], [22.981469542242596, -33.89599305889942], [22.98146408824448, -33.89622576047561], [22.981506993028663, -33.89641818050968], [22.9814587251463, -33.89649874113977], [22.981426455656518, -33.896574871429756], [22.981383459968182, -33.896861203120295], [22.981463906444546, -33.897098396318455], [22.981469269542686, -33.89714320166983], [22.981506811228734, -33.89739824651198], [22.981506720328774, -33.89765334460423], [22.98144763534996, -33.89779204086125], [22.98134037337762, -33.897778604427046], [22.981265199088718, -33.89766674946897], [22.98125456378973, -33.89749668833045], [22.98117948039302, -33.897178896263014], [22.981141938692105, -33.89705812098254], [22.981002498073792, -33.89675828054503], [22.980991771871405, -33.89667318250126], [22.980825424816633, -33.89651208794108], [22.9807288889695, -33.89630617808931], [22.980685984144934, -33.89627043443852], [22.980675257938444, -33.89627036401993], [22.980557178757813, -33.89626589978794], [22.98040155782579, -33.89628822865346], [22.98026193528242, -33.89644491270259], [22.980208213320978, -33.896646227980554], [22.980138402035923, -33.89685207146061], [22.980036503001198, -33.896950493928635], [22.97983252309379, -33.896946047569294], [22.97951055470625, -33.896896739544296], [22.97910804859558, -33.89686533503277], [22.9787807168107, -33.89687873274191], [22.978592825944325, -33.89696372994938], [22.978555284126045, -33.89698157653413], [22.978388845681184, -33.89712482413475], [22.978351303853664, -33.89729483509617], [22.978281492412005, -33.897370919304585], [22.978163412889874, -33.89743802160145], [22.97805605959147, -33.89746481610238], [22.977948706279165, -33.897455826097904], [22.977771632368707, -33.897433440992764], [22.9775945584204, -33.89750051671251], [22.9774388460311, -33.89764818584613], [22.97742811978254, -33.897679547409005], [22.97740130416054, -33.897791358103326], [22.977352945138332, -33.8978629892206], [22.977320766388896, -33.89792112818399], [22.977272407361987, -33.89793013662397], [22.97724559173494, -33.89789429638164], [22.977288587638217, -33.89775110142966], [22.977293950763418, -33.8976839603852], [22.977326220414312, -33.89750499055037], [22.97728867853865, -33.89720512785763], [22.97713851101899, -33.8968560423222], [22.97699370659927, -33.896650170111926], [22.97676845522945, -33.89626077035943], [22.97673091332853, -33.895987821974856], [22.97679008954446, -33.89566107165322], [22.976800815801273, -33.89558054500016], [22.97684381172762, -33.8953478834783], [22.976918986418003, -33.89524044143739], [22.976913623290383, -33.89504354563763], [22.976822450115446, -33.89496302999035], [22.976661465352375, -33.89489137999847], [22.976516569948853, -33.89487347417632], [22.976452212383826, -33.89486893793148], [22.976242868461945, -33.8948062945917], [22.976226779065858, -33.89480179549678], [22.97588871987463, -33.894837516111814], [22.97565792326782, -33.8949717122492], [22.97553448023554, -33.895061223702214], [22.975427126596824, -33.89513726076635], [22.975303683530225, -33.89517301278824], [22.97527686783955, -33.89518641595836], [22.975196329861657, -33.895329648094375], [22.975169423266856, -33.895548917187995], [22.975239053169194, -33.89599643381358], [22.975260414822127, -33.89626047060555], [22.975249688545397, -33.896434973825336], [22.975153061147967, -33.896533406799804], [22.97508861257654, -33.89653340151997], [22.974997348300402, -33.89654236643459], [22.97487935921141, -33.89652441775222], [22.974782731770883, -33.896524440920025], [22.974712920028868, -33.89657360467397], [22.974686104319108, -33.89664076625078], [22.97462165571145, -33.89673917021933], [22.97455720709878, -33.897016661315526], [22.974444399289403, -33.89736118865149], [22.974363861230778, -33.897459606374554], [22.974331591464694, -33.8976207659923]]]}, \"id\": \"000000000000000001d7\", \"properties\": {\"DATE_BURNE\": 20180411, \"FIRE_ID\": \"20180411_01\", \"HECTARES\": 193.321599902, \"Ig_Date\": \"2018-04-11T00:00:00\", \"YEAR_\": 2018}}, {\"type\": \"Feature\", \"geometry\": {\"type\": \"Polygon\", \"coordinates\": [[[22.999135943231014, -33.90515056052829], [22.999318375521817, -33.90517297031063], [22.99957061741124, -33.90529382910235], [23.00035424838339, -33.90531614042056], [23.001395482896495, -33.905334070693264], [23.002275645436836, -33.905356410992084], [23.002323912094102, -33.90538777829137], [23.00253861233155, -33.905432525475085], [23.00287138849788, -33.9055354493883], [23.003204164528114, -33.90561597084156], [23.003536940422215, -33.90564725734482], [23.003880442083233, -33.90554436626167], [23.00426148424289, -33.90571885904014], [23.004572807916805, -33.90604105453436], [23.004411737698067, -33.906224523722386], [23.004116593709906, -33.90626481085846], [23.004127319609715, -33.90629171056765], [23.004132682559575, -33.90629170393001], [23.00430447873109, -33.90644825973091], [23.00461034854446, -33.906792876441756], [23.00490558325068, -33.90717777382557], [23.005045201596555, -33.90737908573865], [23.005125645749793, -33.907504442437414], [23.005206180792392, -33.90783557238667], [23.005297441711374, -33.90798772848828], [23.005227723460443, -33.908135350537336], [23.005351162028415, -33.90834572160148], [23.00570538880154, -33.908708212885855], [23.006231411184142, -33.90907511957669], [23.006483741827648, -33.909419683633416], [23.006703803899033, -33.90963893107921], [23.0066769892343, -33.90995223637604], [23.00671462066185, -33.91072639954834], [23.00706348390951, -33.91092330045772], [23.007396349119556, -33.91104414162184], [23.007836472707467, -33.91113809182907], [23.00855028684957, -33.9107889839185], [23.009060127738444, -33.910421965163835], [23.009661319631196, -33.910318985368434], [23.010691816398662, -33.9103905447588], [23.0115023420423, -33.91051574203431], [23.01209280632628, -33.9107752515683], [23.01273153621676, -33.91091391515326], [23.013423985383834, -33.91115545143556], [23.01442230006481, -33.91138363602237], [23.01508793339558, -33.9113834852478], [23.015576318664987, -33.91127155639081], [23.015941266705003, -33.91098957146275], [23.01606461274244, -33.910609194565424], [23.0161396929299, -33.91017957437067], [23.016247041224517, -33.910085625246566], [23.01638656671732, -33.909920004960426], [23.016633440429104, -33.90985283585002], [23.016901765526374, -33.90978563650964], [23.017116461898226, -33.90977668234127], [23.017341883937497, -33.909776656041316], [23.01753512874833, -33.909866106191885], [23.017728373512785, -33.91004063689079], [23.01778745586331, -33.91017935739234], [23.017798272477787, -33.91038074712456], [23.01779827247778, -33.91063131623163], [23.017819814810377, -33.910966997648224], [23.017868171436703, -33.91115044685084], [23.017889713767435, -33.91136076239315], [23.017980973254897, -33.91140106168627], [23.018136587018407, -33.91145923701075], [23.018233209334245, -33.91149050479334], [23.018329831638475, -33.911517341212765], [23.018437179641136, -33.91153521936655], [23.018549981379568, -33.91155307193289], [23.01866805505982, -33.91156650343447], [23.018802217280555, -33.911575480817774], [23.01894174233054, -33.91158436984733], [23.019333593986463, -33.9115977622347], [23.01945703039988, -33.91160216155302], [23.019564378252113, -33.911611095347304], [23.019682451783435, -33.91162903727363], [23.019795253347205, -33.91164688822231], [23.01989723830904, -33.91166920337457], [23.019993860413354, -33.911696037793476], [23.0200796659224, -33.911722905277045], [23.02017628800478, -33.911758682371676], [23.020460791340756, -33.911888418003855], [23.02055741337731, -33.9119241945143], [23.020643309721777, -33.91195555511025], [23.020718480377596, -33.91198233870194], [23.020788288187106, -33.912000267606395], [23.020863458829368, -33.91201810817294], [23.02093853856903, -33.912031535400246], [23.021126419678563, -33.91206289211104], [23.02122840447143, -33.91208077428346], [23.02128212372877, -33.91209413365216], [23.02132502641564, -33.91210760689975], [23.021373382831147, -33.91212548563512], [23.02141092267802, -33.9121388859991], [23.02145391625351, -33.91216128411003], [23.021491456096623, -33.912188138944], [23.021625708741496, -33.91227757928114], [23.02166861141001, -33.91230893789944], [23.021716967804828, -33.91233124746612], [23.021759870468458, -33.912349151525845], [23.02181358969024, -33.912367022138106], [23.02188330650909, -33.91238496784322], [23.02194775138579, -33.91239388002675], [23.022098092446175, -33.9124161847823], [23.02216780924031, -33.91242961856535], [23.022253705412503, -33.91244752268952], [23.022339601575496, -33.91246985781666], [23.022425497729305, -33.91249670450343], [23.022511393873906, -33.91252355108451], [23.022602652836518, -33.91255933248413], [23.02269391178875, -33.912590602104416], [23.022785170730586, -33.912630894891336], [23.022881792487382, -33.91267561078169], [23.023048221845496, -33.912751707548644], [23.023225376815176, -33.912841161880785], [23.02339716892387, -33.91293505457429], [23.023810469682182, -33.91315874788986], [23.02402525510318, -33.91327060388367], [23.02413796516142, -33.91332431707974], [23.024239949571424, -33.913373534333545], [23.024341933968447, -33.91341823983318], [23.02443855553761, -33.91345852209574], [23.024540539909353, -33.913498715697294], [23.024642615163263, -33.91353454081533], [23.024739236696163, -33.91356579950237], [23.02484122102962, -33.91359261909788], [23.024937842538566, -33.91361501553712], [23.02502910122493, -33.913632908283816], [23.025125722711213, -33.9136507929431], [23.025222344185828, -33.9136597349653], [23.025533659770275, -33.91369095935048], [23.02564100680943, -33.91369988490369], [23.025742991028046, -33.9137043873813], [23.02583961242817, -33.91370430568174], [23.02593087101174, -33.91370431247814], [23.0260167667806, -33.91369530417643], [23.026102571645257, -33.91368639425601], [23.02617774178926, -33.913672970941924], [23.026258274728924, -33.913655028012876], [23.02634407956769, -33.91362815239096], [23.026526596609365, -33.91356548716428], [23.02660712951392, -33.91354303248209], [23.026687662410367, -33.91352065830849], [23.02676274160449, -33.91350274099094], [23.026907718963034, -33.9134803324917], [23.02705796819779, -33.91346687606774], [23.027208217404322, -33.91345793093856], [23.027363920272766, -33.913453390543964], [23.027514169421806, -33.91345781834618], [23.027664509437408, -33.91346673951961], [23.027814758529946, -33.913480189830246], [23.027959735697735, -33.913502491988815], [23.028067082411287, -33.91352486878003], [23.0281529779507, -33.91354268596727], [23.028233510691436, -33.913560591774214], [23.028303317846138, -33.91358294472541], [23.028346220156948, -33.913596413901445], [23.02838921336016, -33.9136142960748], [23.028432115666348, -33.91363662701875], [23.028475108864942, -33.91366345151072], [23.02855027878589, -33.91371713461704], [23.028732795323883, -33.913846928061325], [23.02878106039742, -33.91387819287057], [23.028824053577242, -33.913905017044314], [23.02886695586007, -33.913931859070075], [23.028909949035267, -33.9139497408351], [23.028952851313484, -33.91396320957579], [23.02899584448405, -33.91397657983867], [23.029060288788237, -33.91398999780725], [23.029124642192595, -33.91399892217246], [23.029189086486387, -33.91400790916014], [23.02925353077498, -33.91401230410038], [23.02931252138156, -33.91401237479489], [23.029366240096547, -33.9140123552276], [23.029419867913322, -33.914007842087464], [23.029468223839935, -33.9140033192605], [23.029495037745342, -33.91399441636114], [23.02952185164985, -33.913989944326936], [23.02954866555346, -33.91397644942217], [23.029575570350755, -33.913967528614776], [23.029602384252563, -33.91394960282751], [23.02962919815347, -33.913936188466714], [23.02967746317283, -33.91389591423011], [23.02972045630437, -33.91385563032185], [23.02976872131822, -33.91380190229782], [23.02981162355029, -33.913748182487836], [23.029929695571155, -33.913600475262385], [23.030004774460625, -33.91352439033591], [23.03004231390272, -33.91348413240739], [23.03007994423757, -33.91345271833976], [23.03012284645291, -33.91342139445963], [23.03016038588945, -33.913399021147725], [23.030208741771194, -33.91337661342399], [23.03026236953136, -33.91335429587663], [23.03043943200882, -33.91328713928721], [23.030503876196452, -33.913264706651795], [23.030557503936777, -33.913237877532076], [23.030600497020906, -33.913215477927295], [23.030643399208262, -33.91318415386897], [23.03069166416627, -33.91314831007251], [23.030729294470504, -33.91311246491851], [23.030825824373213, -33.913022973118075], [23.03086872654845, -33.91298270663285], [23.030906356844312, -33.91295137286059], [23.030949259015216, -33.91292447957245], [23.03099752395472, -33.91290208943489], [23.031056605326793, -33.912879664810504], [23.03112095857015, -33.912861761208625], [23.031271297906585, -33.912821454036354], [23.03134101390122, -33.91279911112947], [23.031373281406452, -33.91278567019702], [23.03140009524784, -33.912772174891195], [23.031426909088317, -33.91275876014117], [23.031453722927896, -33.91274091449798], [23.031480536766576, -33.91271404594959], [23.031507441498714, -33.91268264805098], [23.031534255335583, -33.912642406254186], [23.031587883006626, -33.91255733060243], [23.031614696840784, -33.912517088762584], [23.031641510674046, -33.912481277804496], [23.031673687272775, -33.91245440087817], [23.03170050110405, -33.91243204371294], [23.031732768594726, -33.912409660335655], [23.031770307955483, -33.91239171742338], [23.031813210079896, -33.91237384674466], [23.031904467980926, -33.91234251002638], [23.032076167330125, -33.912293244184646], [23.032145974148655, -33.91227080239139], [23.032210418198357, -33.91224393799969], [23.032269408586252, -33.91221709980515], [23.032333761731696, -33.91218123032975], [23.032398205766206, -33.91214099259527], [23.032462558901244, -33.91210069215704], [23.03252164016472, -33.91205587068211], [23.03258063052957, -33.91201114763024], [23.032639711784288, -33.911966326093086], [23.03269333938092, -33.91192161133297], [23.03274160421481, -33.911876824339174], [23.032784506286923, -33.91183204567798], [23.03282213649234, -33.911787338022236], [23.032865038560114, -33.91173804785412], [23.03290257786752, -33.91168884658337], [23.032934754415315, -33.91163514218151], [23.032972293719443, -33.91158142939549], [23.033004470264423, -33.91152321347228], [23.0330366468081, -33.91146056660808], [23.03306882335048, -33.91139340823415], [23.033095637134807, -33.91132633874576], [23.03315462745714, -33.91118308776438], [23.033208255019105, -33.9110174486384], [23.03327797084426, -33.910798210146055], [23.033299421866154, -33.91072212567398], [23.033315419238043, -33.91064606739967], [23.03333150750376, -33.910565479670026], [23.033347595769158, -33.91048489188202], [23.033363684034228, -33.91040438459847], [23.0333744095441, -33.9103192935217], [23.033379681404824, -33.91023430917967], [23.033390406914474, -33.91014478699772], [23.033395678775094, -33.9099657853233], [23.03339567877509, -33.90977783123448], [23.03338486237136, -33.909585399772574], [23.033368683212572, -33.909384033655954], [23.03336322956347, -33.9093213813033], [23.03336322956347, -33.909254271683565], [23.033357775914315, -33.90898126678726], [23.03335232226514, -33.908864877893585], [23.033341596754983, -33.908748559829704], [23.033330780350514, -33.908694857972066], [23.033320054840065, -33.90864564978764], [23.033309329329466, -33.908591929966235], [23.03328778741367, -33.908542756205094], [23.033266336391467, -33.90849348394684], [23.033244794474513, -33.90844874115373], [23.033217980695206, -33.90840850034052], [23.03318580415885, -33.90837269883466], [23.033153536727028, -33.90833691518544], [23.033115997431448, -33.908305552950196], [23.033094455510426, -33.90829214966365], [23.03307300448301, -33.90827872847575], [23.03298174671584, -33.90823401248978], [23.03294957016994, -33.908216096167855], [23.032922665486492, -33.90819375838116], [23.032895851696342, -33.90817583375358], [23.032879763421825, -33.90815346150877], [23.032863675146977, -33.90812665818043], [23.03285285873602, -33.90809535282773], [23.0328314077021, -33.908023763574604], [23.032815319426273, -33.907987936895985], [23.03279377749712, -33.907961079071605], [23.03278305197943, -33.90794764120689], [23.0327723264616, -33.9079387149859], [23.03275087542551, -33.90792972470319], [23.032729333494604, -33.907920832869706], [23.032643529342135, -33.90789848715931], [23.032616624648345, -33.907889522970635], [23.032562997046547, -33.90786269659709], [23.032509278546883, -33.90783137640488], [23.032460922804663, -33.90779561682668], [23.032418020715124, -33.90775531940847], [23.032380390490616, -33.90771060049987], [23.03233748839674, -33.90766136020092], [23.03230522093054, -33.907603178505795], [23.032273044357314, -33.907545059420755], [23.032246139651026, -33.907482357701866], [23.032219325838103, -33.907415287473405], [23.032192421129995, -33.90733921168543], [23.032170970078283, -33.90725867858727], [23.03215479089483, -33.90718258622138], [23.03213333984211, -33.907093110113045], [23.03207953041918, -33.90678433679422], [23.032068713997578, -33.906717178655775], [23.032063351233866, -33.906636620346845], [23.032063351233873, -33.906564996677574], [23.03206862310328, -33.90638606783391], [23.032068623103285, -33.90630098932152], [23.03205780668153, -33.90622496845519], [23.03204708115393, -33.90615779199207], [23.03203099286227, -33.90609513539089], [23.032009450911907, -33.906032504789245], [23.031987999855275, -33.905965344479135], [23.031961095139355, -33.9058982907171], [23.031934281316847, -33.90583565019165], [23.031902013834323, -33.90576852387154], [23.031864383585443, -33.90569689384418], [23.031826844229126, -33.90562975761049], [23.031767762914136, -33.905526899731505], [23.03170868159477, -33.90543741588243], [23.031654963037514, -33.905356866759604], [23.031601244476644, -33.905280829296885], [23.031552979573682, -33.90520919693482], [23.03149926100593, -33.905142102271455], [23.03144554243456, -33.90507943874102], [23.03139191475395, -33.90502578085111], [23.031338196175355, -33.904972060194744], [23.031284477593132, -33.90492736309823], [23.03123084990168, -33.904882567469905], [23.03117176854253, -33.90484682140325], [23.0311180499491, -33.90481106718498], [23.031059059475997, -33.90478416562801], [23.031005340874973, -33.90475735439586], [23.030946259499103, -33.90473949429511], [23.030838913172683, -33.9047081712046], [23.030736929604473, -33.904685863590416], [23.030645762464275, -33.90466795313099], [23.03055986719305, -33.9046589955454], [23.030479334686962, -33.9046545416878], [23.030409527722515, -33.90465909539478], [23.030371988297702, -33.90466350237972], [23.030345174421758, -33.90466805441844], [23.03031299776942, -33.90467696520435], [23.030286183891494, -33.90468594851764], [23.030253916342282, -33.904699389033695], [23.03022173968628, -33.90471281165283], [23.030152023593814, -33.904753119896164], [23.030087579377756, -33.904797869251155], [23.03003395160584, -33.90484258463633], [23.03002858882845, -33.90484710451466], [23.029626107737815, -33.904918820909366], [23.029041110018426, -33.90507560154564], [23.02789256446151, -33.90511164171771], [23.026953348195203, -33.90500439566998], [23.02626636438043, -33.90496433504122], [23.025493484160048, -33.904906283248074], [23.023910090857942, -33.904651568264924], [23.023239192901464, -33.90444580577472], [23.022745358564006, -33.90434298107755], [23.0224179534114, -33.90435647050146], [23.021757870768084, -33.90444160916461], [23.020904543627243, -33.904531240046204], [23.020029764202683, -33.90468801124668], [23.017078012890877, -33.90536867906792], [23.016552088459537, -33.90558355106566], [23.01598316981932, -33.90572235490441], [23.015940266847583, -33.90570001361631], [23.01576320116888, -33.90578503479361], [23.015215733477902, -33.90598206067972], [23.015253364508236, -33.906071509439954], [23.015178193342027, -33.90624155832838], [23.014888416156893, -33.90648773395997], [23.014437661539368, -33.90658629102971], [23.013750667024187, -33.906590783633725], [23.01314956906795, -33.90678779153436], [23.012693359689894, -33.90698474744878], [23.011442804748356, -33.90708328560325], [23.01143207894532, -33.90704301259233], [23.01141599024049, -33.90698937127781], [23.011453530551254, -33.90691777185896], [23.01153942786593, -33.906814828130415], [23.01163596007535, -33.90664025731425], [23.011727220270256, -33.906443356251245], [23.011609054677272, -33.90614799870479], [23.011233378873452, -33.905960079362195], [23.01062682524146, -33.90585719658306], [23.010240423162664, -33.90564245358547], [23.01003108787333, -33.90552608626733], [23.010020362051577, -33.90543214835121], [23.01002036205157, -33.90539629193673], [23.010020271154776, -33.905315733546736], [23.01002563406567, -33.90513676649386], [23.01002563406567, -33.905060702298954], [23.010020271154776, -33.9049801326822], [23.01001490824385, -33.90491301929237], [23.01050865948771, -33.904989018194755], [23.010267146812726, -33.90485029148089], [23.010680363411897, -33.90461313011882], [23.011582058381677, -33.90463985527371], [23.012569558654633, -33.90455921243231], [23.013170657042533, -33.90436229002858], [23.013218923051248, -33.90420115499992], [23.01317056614609, -33.90397296451002], [23.01302567720615, -33.903780515254354], [23.01285924577568, -33.90362839950072], [23.012606917118816, -33.90335095514341], [23.01244593939345, -33.90305111443312], [23.01218288481444, -33.90276924826419], [23.01193055594639, -33.90250525419638], [23.011522702886857, -33.90229488283758], [23.011141664139462, -33.90220099048578], [23.01094841779772, -33.90226364282277], [23.010841068798666, -33.90231287111455], [23.010293688668376, -33.90255908765709], [23.0101487992129, -33.90255010519887], [23.010014635553464, -33.90251878849727], [23.009885834783606, -33.90250535318505], [23.00975703399326, -33.90250537434139], [23.009617507355326, -33.90249646475827], [23.00948861562545, -33.90247410249017], [23.009316911448476, -33.90245620858374], [23.009182747651195, -33.90244729149897], [23.009048583831692, -33.9024472379195], [23.008919782908187, -33.902438313646975], [23.008807070721208, -33.90242493695435], [23.00864609223987, -33.90241597247171], [23.00849038575064, -33.90240701880221], [23.00837767350393, -33.9023936415639], [23.00824350955113, -33.902384723099836], [23.008103982652532, -33.90236235440899], [23.008023447897518, -33.902353368057504], [23.007969818654413, -33.90234441061645], [23.00784101755946, -33.90233097233657], [23.00772294229635, -33.90232654533548], [23.007615592869787, -33.90231316037954], [23.00752969513888, -33.902304180300334], [23.007465340007546, -33.90229523598315], [23.007341901761116, -33.902281790256815], [23.007223826425342, -33.90226841823343], [23.007116476932705, -33.90225946455863], [23.00697158690911, -33.90225942139218], [23.006966223978, -33.90225942808086], [23.00683205979167, -33.90224156311762], [23.006719347314462, -33.90222810316097], [23.006611997755076, -33.90220577256056], [23.006595908954512, -33.90220128006673], [23.006472470575794, -33.902174456776486], [23.00633830630783, -33.90213862158504], [23.006214867889934, -33.90211179787988], [23.006091429453267, -33.902080461466426], [23.00597871687319, -33.90204024771998], [23.005866004277472, -33.90199995320144], [23.00575329166611, -33.90195071402065], [23.0056352160992, -33.901914938247224], [23.005501051692864, -33.90188361402579], [23.00548496287029, -33.90187912128399], [23.005361524322662, -33.901847783619154], [23.005221906031156, -33.90180310689089], [23.005082378612993, -33.9017672759513], [23.004953577059783, -33.901726999649455], [23.00483550137662, -33.90168227802015], [23.004722788622257, -33.90164198160846], [23.004577898171505, -33.901583835139604], [23.004454459486062, -33.90153911935612], [23.004341746678843, -33.90150776686493], [23.004229033856003, -33.90145409303179], [23.00412704691735, -33.90140935055278], [23.003998245212735, -33.90136012782368], [23.00386944348771, -33.901306392239505], [23.00374600469468, -33.901257162505395], [23.003638654742357, -33.90121693831178], [23.00352066976572, -33.90116317118227], [23.003413319783647, -33.90111400195643], [23.003316695697922, -33.90107368370004], [23.003203982732998, -33.901028952600925], [23.003107358622405, -33.90097976992552], [23.002973193798837, -33.90092603891333], [23.002844391911477, -33.90088124588912], [23.002699501126035, -33.90084098451587], [23.0025546103148, -33.900814180222], [23.002415082438944, -33.90079180133887], [23.00227019157707, -33.90077386068762], [23.002130572754783, -33.90076495659683], [23.00202331348703, -33.90076049096886], [23.001910600342967, -33.900751536786316], [23.001797887183308, -33.90074701454955], [23.00169053697399, -33.90073813431262], [23.001577823783872, -33.90073361180877], [23.00154028301628, -33.900729143594354], [23.001454384643242, -33.90072466976686], [23.001406117934422, -33.90072021418671], [23.001314856578848, -33.90070680179105], [23.00091772412665, -33.90069781466946], [23.000885546299887, -33.900697852557386], [23.000853277574034, -33.90069782771364], [23.00083182568797, -33.90069785295928], [23.000810373801343, -33.90069779761638], [23.00078892191415, -33.900697822852585], [23.00077819597034, -33.900697835468925], [23.000762107054367, -33.90069785439121], [23.00075138111021, -33.90069778642076], [23.000740655165902, -33.90069779903297], [23.000724475351348, -33.90069783581169], [23.0007137494067, -33.90069784842095], [23.00070302346189, -33.90069786102902], [23.000692297516963, -33.90069787363592], [23.000676208599288, -33.90069781196018], [23.000660119681296, -33.90069783086566], [23.000638667790152, -33.90069785606884], [23.000617215898433, -33.90069780068342], [23.00059567310831, -33.90069784373969], [23.00056885824217, -33.900697875225234], [23.00054204337514, -33.90069782611948], [23.000515228507233, -33.90069785759029], [23.000483050664585, -33.900697814761585], [23.000445418948683, -33.90069779607439], [23.000407878128915, -33.90069784009428], [23.000375700282024, -33.90070230993357], [23.000338068561167, -33.900702291205775], [23.000305890711523, -33.90070676102405], [23.000268349885324, -33.90070680499191], [23.000236172032924, -33.90071127478919], [23.000203903281363, -33.90071576243924], [23.00017172542642, -33.900720232217644], [23.000139547570203, -33.9007291341099], [23.000107369712726, -33.90073360386994], [23.000080463932612, -33.90074259792021], [23.000053649049523, -33.90075157410248], [23.000032197142417, -33.900760463426444], [23.000005382257736, -33.9007694395982], [22.99998393034936, -33.900782841622025], [22.99996784141771, -33.90079180525243], [22.99995166158781, -33.90080521886652], [22.99993557265552, -33.90081869520023], [22.99992484670049, -33.90083659739003], [22.999908757767674, -33.90084999313503], [22.999898031812283, -33.90086789531997], [22.999887305856742, -33.90088128479678], [22.999876579901073, -33.90089918697697], [22.999865853945263, -33.90091708915448], [22.999855127989314, -33.900934991329294], [22.99984440203321, -33.90095289350145], [22.999833585179044, -33.900975326235226], [22.99982822220088, -33.90099765425565], [22.999817496244425, -33.901024501235696], [22.999806770287837, -33.90104691609436], [22.99980140730949, -33.901078188913985], [22.99979068135269, -33.901109548573004], [22.999785318374236, -33.90114090195907], [22.999774592417218, -33.90118112582173], [22.999769229438662, -33.90122142398827], [22.999758503481438, -33.901261728406205], [22.999753140502776, -33.90131089075216], [22.99975314050278, -33.90136012738998], [22.999753140502776, -33.90141387668565], [22.999758503481438, -33.9014675390956], [22.999763866460068, -33.90152571414998], [22.999774592417218, -33.90158839556435], [22.999774592417218, -33.90164206414196], [22.999779955395745, -33.9016958069938], [22.999779955395745, -33.9017450434259], [22.999774592417218, -33.901789773449124], [22.999769229438662, -33.90183007137361], [22.999677967899807, -33.901915050168355], [22.99946335780654, -33.9019553688591], [22.999205662003668, -33.90198666700064], [22.998883701207188, -33.901977729809644], [22.998534834452588, -33.90193298075559], [22.998191330537853, -33.90185687696578], [22.997864006350188, -33.90175398135296], [22.99757422298319, -33.9016420156735], [22.997316617482166, -33.90152122814564], [22.997037469015854, -33.90143174868631], [22.99690866619088, -33.901391459833256], [22.99645790159275, -33.90135560149091], [22.9962646517615, -33.901342237298635], [22.996983839048855, -33.90184786777872], [22.999135943231014, -33.90515056052829]]]}, \"id\": \"000000000000000001d8\", \"properties\": {\"DATE_BURNE\": 20180507, \"FIRE_ID\": \"20180507_01\", \"HECTARES\": 236.062316487, \"Ig_Date\": \"2018-05-07T00:00:00\", \"YEAR_\": 2018}}]}))\n",
       "            });\n",
       "        </script>\n",
       "    "
      ],
      "text/plain": [
       "<IPython.core.display.HTML object>"
      ]
     },
     "metadata": {},
     "output_type": "display_data"
    }
   ],
   "source": [
    "fc = ee.FeatureCollection(\"projects/ee-geethensingh/assets/postdoc/FireRecords_GRNP\")\\\n",
    "    .filter(ee.Filter.stringContains('FIRE_ID', '99').Not()).filter(ee.Filter.gt('YEAR_', 2017)).map(\n",
    "    lambda ft: ft.set('Ig_Date', ee.Date.parse('YYYYMMdd',ft.get('DATE_BURNE')).format())\n",
    ")\n",
    "\n",
    "eeprint(fc.limit(3))"
   ]
  },
  {
   "cell_type": "code",
   "execution_count": 3,
   "metadata": {},
   "outputs": [
    {
     "data": {
      "text/html": [
       "\n",
       "            <style>\n",
       "                .geemap-dark {\n",
       "                    --jp-widgets-color: white;\n",
       "                    --jp-widgets-label-color: white;\n",
       "                    --jp-ui-font-color1: white;\n",
       "                    --jp-layout-color2: #454545;\n",
       "                    background-color: #383838;\n",
       "                }\n",
       "\n",
       "                .geemap-dark .jupyter-button {\n",
       "                    --jp-layout-color3: #383838;\n",
       "                }\n",
       "\n",
       "                .geemap-colab {\n",
       "                    background-color: var(--colab-primary-surface-color, white);\n",
       "                }\n",
       "\n",
       "                .geemap-colab .jupyter-button {\n",
       "                    --jp-layout-color3: var(--colab-primary-surface-color, white);\n",
       "                }\n",
       "            </style>\n",
       "            "
      ],
      "text/plain": [
       "<IPython.core.display.HTML object>"
      ]
     },
     "metadata": {},
     "output_type": "display_data"
    },
    {
     "name": "stdout",
     "output_type": "stream",
     "text": [
      "event Date: 2018-02-27T00:00:00\n"
     ]
    }
   ],
   "source": [
    "event = fc.first()\n",
    "eventDate = ee.Date(event.get('Ig_Date'))\n",
    "print('event Date:', eventDate.format().getInfo())"
   ]
  },
  {
   "cell_type": "code",
   "execution_count": 12,
   "metadata": {},
   "outputs": [
    {
     "data": {
      "text/html": [
       "\n",
       "            <style>\n",
       "                .geemap-dark {\n",
       "                    --jp-widgets-color: white;\n",
       "                    --jp-widgets-label-color: white;\n",
       "                    --jp-ui-font-color1: white;\n",
       "                    --jp-layout-color2: #454545;\n",
       "                    background-color: #383838;\n",
       "                }\n",
       "\n",
       "                .geemap-dark .jupyter-button {\n",
       "                    --jp-layout-color3: #383838;\n",
       "                }\n",
       "\n",
       "                .geemap-colab {\n",
       "                    background-color: var(--colab-primary-surface-color, white);\n",
       "                }\n",
       "\n",
       "                .geemap-colab .jupyter-button {\n",
       "                    --jp-layout-color3: var(--colab-primary-surface-color, white);\n",
       "                }\n",
       "            </style>\n",
       "            "
      ],
      "text/plain": [
       "<IPython.core.display.HTML object>"
      ]
     },
     "metadata": {},
     "output_type": "display_data"
    },
    {
     "data": {
      "text/html": [
       "<div><style>:root {\n",
       "  --font-color-primary: var(--jp-content-font-color0, rgba(0, 0, 0, 1));\n",
       "  --font-color-secondary: var(--jp-content-font-color2, rgba(0, 0, 0, 0.6));\n",
       "  --font-color-accent: rgba(123, 31, 162, 1);\n",
       "  --border-color: var(--jp-border-color2, #e0e0e0);\n",
       "  --background-color: var(--jp-layout-color0, white);\n",
       "  --background-color-row-even: var(--jp-layout-color1, white);\n",
       "  --background-color-row-odd: var(--jp-layout-color2, #eeeeee);\n",
       "}\n",
       "\n",
       "html[theme=\"dark\"],\n",
       "body[data-theme=\"dark\"],\n",
       "body.vscode-dark {\n",
       "  --font-color-primary: rgba(255, 255, 255, 1);\n",
       "  --font-color-secondary: rgba(255, 255, 255, 0.6);\n",
       "  --font-color-accent: rgb(173, 132, 190);\n",
       "  --border-color: #2e2e2e;\n",
       "  --background-color: #111111;\n",
       "  --background-color-row-even: #111111;\n",
       "  --background-color-row-odd: #313131;\n",
       "}\n",
       "\n",
       ".ee {\n",
       "  padding: 1em;\n",
       "  line-height: 1.5em;\n",
       "  min-width: 300px;\n",
       "  max-width: 1200px;\n",
       "  overflow-y: scroll;\n",
       "  max-height: 600px;\n",
       "  border: 1px solid var(--border-color);\n",
       "  font-family: monospace;\n",
       "}\n",
       "\n",
       ".ee li {\n",
       "  list-style-type: none;\n",
       "}\n",
       "\n",
       ".ee ul {\n",
       "  padding-left: 1.5em !important;\n",
       "  margin: 0;\n",
       "}\n",
       "\n",
       ".ee > ul {\n",
       "  padding-left: 0 !important;\n",
       "}\n",
       "\n",
       ".ee-open,\n",
       ".ee-shut {\n",
       "  color: var(--font-color-secondary);\n",
       "  cursor: pointer;\n",
       "  margin: 0;\n",
       "}\n",
       "\n",
       ".ee-open:hover,\n",
       ".ee-shut:hover {\n",
       "  color: var(--font-color-primary);\n",
       "}\n",
       "\n",
       ".ee-k {\n",
       "  color: var(--font-color-accent);\n",
       "  margin-right: 6px;\n",
       "}\n",
       "\n",
       ".ee-v {\n",
       "  color: var(--font-color-primary);\n",
       "}\n",
       "\n",
       ".ee-toggle {\n",
       "  display: none;\n",
       "}\n",
       "\n",
       ".ee-shut + ul {\n",
       "  display: none;\n",
       "}\n",
       "\n",
       ".ee-open + ul {\n",
       "  display: block;\n",
       "}\n",
       "\n",
       ".ee-shut::before {\n",
       "  display: inline-block;\n",
       "  content: \"▼\";\n",
       "  margin-right: 6px;\n",
       "  transform: rotate(-90deg);\n",
       "  transition: transform 0.2s;\n",
       "}\n",
       "\n",
       ".ee-open::before {\n",
       "  transform: rotate(0deg);\n",
       "  display: inline-block;\n",
       "  content: \"▼\";\n",
       "  margin-right: 6px;\n",
       "  transition: transform 0.2s;\n",
       "}\n",
       "</style><div class='ee'><ul><li><span class='ee-v'>2018</span></li></ul></div><script>function toggleHeader() {\n",
       "    const parent = this.parentElement;\n",
       "    parent.className = parent.className === \"ee-open\" ? \"ee-shut\" : \"ee-open\";\n",
       "}\n",
       "\n",
       "for (let c of document.getElementsByClassName(\"ee-toggle\")) {\n",
       "    c.onclick = toggleHeader;\n",
       "}</script></div>"
      ],
      "text/plain": [
       "<ee.computedobject.ComputedObject at 0x238e9672340>"
      ]
     },
     "execution_count": 12,
     "metadata": {},
     "output_type": "execute_result"
    }
   ],
   "source": [
    "event.get('YEAR_')"
   ]
  },
  {
   "cell_type": "code",
   "execution_count": null,
   "metadata": {},
   "outputs": [],
   "source": [
    "print(ee.Date.parse('YYYYMMdd', '20180712').format().getInfo())"
   ]
  },
  {
   "cell_type": "code",
   "execution_count": null,
   "metadata": {},
   "outputs": [],
   "source": [
    "def downloadInstance(event, dateBuffer, patchSize, scale, id, rootdir):\n",
    "    # preOpt, s1pre, postOpt, s1post = getOpticalRadarPairs('LANDSAT_8', event, dateBuffer)\n",
    "    bands = ['B2', 'B3', 'B4', 'B5', 'B6', 'B7', 'B8A', 'B11', 'B12', 'nbr', 'dnbr']\n",
    "    postOpt = getOpticalRadarPairs('Sentinel-2', True, event, dateBuffer).select(bands)\n",
    "    eventYear = event.get('YEAR_').getInfo()\n",
    "    print(eventYear)\n",
    "    gabam = ee.ImageCollection(\"projects/sat-io/open-datasets/GABAM\").filterDate(f\"{eventYear}-01-01\", f\"{eventYear+1}-01-01\")\n",
    "    label = ee.Image(gabam.mosaic())\n",
    "    xfilename = Path(f\"{rootdir}/X_test/image_{id}.tif\")\n",
    "    if not os.path.exists(xfilename.parent):\n",
    "        os.makedirs(xfilename.parent)\n",
    "    BaseImage(postOpt).download(xfilename, crs='EPSG:4326', region= event.geometry(), scale= scale, overwrite=True, num_threads=20)\n",
    "    yfilename = Path(f\"{rootdir}/Y_test/label_{id}.tif\")\n",
    "    if not os.path.exists(yfilename.parent):\n",
    "        os.makedirs(yfilename.parent)\n",
    "    BaseImage(label).download(yfilename, crs='EPSG:4326', region= event.geometry(), scale= scale, overwrite=True, num_threads=20)\n",
    "\n",
    "fcSize = fc.size().getInfo()\n",
    "print(f\"There are {fcSize} fire events for GRNP\")\n",
    "fcList = fc.toList(fcSize)\n",
    "\n",
    "rootdir = \"C:/Users/coach/myfiles/postdoc/Fire/data/DNN\"\n",
    "\n",
    "for id in tqdm(range(fcSize)):\n",
    "    fire = ee.Feature(fcList.get(id))\n",
    "    try:\n",
    "        downloadInstance(fire, 15, 64, 30, id, rootdir)\n",
    "    except Exception as e:\n",
    "        print(f\"Fire event {id} failed with error: {e}\")\n"
   ]
  },
  {
   "cell_type": "markdown",
   "metadata": {},
   "source": [
    "# Ranking burn areas to label"
   ]
  },
  {
   "cell_type": "code",
   "execution_count": 1,
   "metadata": {},
   "outputs": [],
   "source": [
    "import ee \n",
    "\n",
    "try:\n",
    "    ee.Initialize()\n",
    "except Exception as e:\n",
    "    ee.Authenticate()\n",
    "    ee.Initialize()\n",
    "\n",
    "from geeml.utils import eeprint\n",
    "import geemap\n",
    "import os\n",
    "from tqdm.auto import tqdm\n",
    "import geopandas as gpd\n",
    "import pandas as pd\n"
   ]
  },
  {
   "cell_type": "code",
   "execution_count": null,
   "metadata": {},
   "outputs": [],
   "source": [
    "# format ecosystem function types so that they can automatically be uploaded to GEE\n",
    "\n",
    "import os\n",
    "\n",
    "# Path to the folder containing .tif files\n",
    "folder_path = r\"C:\\Users\\coach\\myfiles\\data\\all-maps-raster-geotiff\\terrestrial\"\n",
    "\n",
    "# Iterate through all files in the folder\n",
    "for filename in os.listdir(folder_path):\n",
    "    if filename.endswith('.tif'):\n",
    "        # Replace all full stops except the last one before the extension\n",
    "        new_filename = filename.replace('.', '_').replace('.tif', '_tif')\n",
    "        \n",
    "        # Rename the file\n",
    "        os.rename(os.path.join(folder_path, filename), os.path.join(folder_path, new_filename))\n",
    "\n",
    "print(\"Renaming complete!\")\n"
   ]
  },
  {
   "cell_type": "code",
   "execution_count": null,
   "metadata": {},
   "outputs": [],
   "source": [
    "td = ee.Image(\"CSP/ERGo/1_0/Global/SRTM_topoDiversity\").rename(\"topDiversity\")\n",
    "glo30 = ee.ImageCollection(\"projects/sat-io/open-datasets/GLO-30\")\n",
    "aspect = glo30.map(lambda img: ee.Terrain.aspect(img).rename('aspect')).mosaic()\n",
    "# chili = ee.Image(\"CSP/ERGo/1_0/Global/SRTM_CHILI\")\n",
    "# biome = ee.FeatureCollection(\"RESOLVE/ECOREGIONS/2017\").reduceToImage(['BIOME_NUM'], ee.Reducer.first()).rename(\"biome\")\n",
    "cropland = ee.ImageCollection(\"users/potapovpeter/Global_cropland_2019\").mosaic().rename(\"cropland\")\n",
    "water = ee.Image(ee.ImageCollection(\"JRC/GSW1_4/YearlyHistory\").filterDate(\"2021-01-01\", \"2022-01-01\").first()).gte(2).unmask(0).rename('water')\n",
    "treeCov =  ee.Image(ee.ImageCollection(\"projects/sat-io/open-datasets/GFCC30TC\").filter(ee.Filter.eq('system:index', 'GFCC30TC_2015_V4')).first()).rename('treeCov')\n",
    "EFT = ee.ImageCollection(\"projects/ee-gsingh/assets/terrestrial/realm_T\").map(lambda img: img.gte(1).unmask(0).rename([img.get('id_no')])).toBands()\n",
    "\n",
    "meanBands = cropland.addBands([water, td, aspect, treeCov, EFT])"
   ]
  },
  {
   "cell_type": "code",
   "execution_count": null,
   "metadata": {},
   "outputs": [],
   "source": [
    "eeprint(meanBands.bandNames())"
   ]
  },
  {
   "cell_type": "code",
   "execution_count": null,
   "metadata": {},
   "outputs": [],
   "source": [
    "# Burn areas from MODIS \n",
    "fc = ee.FeatureCollection(\"projects/ee-geethensingh/assets/postdoc/FireRecords_GRNP\")\\\n",
    "    .filter(ee.Filter.stringContains('FIRE_ID', '99').Not()).filter(ee.Filter.gt('YEAR_', 2017)).map(\n",
    "    lambda ft: ft.set('Ig_Date', ee.Date.parse('YYYYMMdd',ft.get('DATE_BURNE')).format())\n",
    ")\n",
    "\n",
    "eeprint(fc.limit(3))"
   ]
  },
  {
   "cell_type": "code",
   "execution_count": null,
   "metadata": {},
   "outputs": [],
   "source": [
    "fc = ee.FeatureCollection(\"projects/ee-geethensingh/assets/postdoc/proj_fired_south_africa_to2021182_events\").map(\n",
    "    lambda ft: ft.set('Ig_Date', ee.Date(ft.get('ig_date')).format())\n",
    ").filter(ee.Filter.gte('ig_year', 2017))\n",
    "eeprint(fc.size())"
   ]
  },
  {
   "cell_type": "code",
   "execution_count": null,
   "metadata": {},
   "outputs": [],
   "source": [
    "# Functions to create batches for large featureCollection\n",
    "def kfolds_random(table, k, percent=None, replacement=False, seed=0xbeef):\n",
    "    if percent is None:\n",
    "        percent = 1.0 / k\n",
    "    \n",
    "    folds = ee.List.sequence(0, k - 1).map(lambda n: get_fold(n, table, k, percent, replacement, seed))\n",
    "    return folds\n",
    "\n",
    "def get_fold(n, table, k, percent, replacement, seed):\n",
    "    n = ee.Number(n)\n",
    "    offset = ee.Algorithms.If(replacement, n, 0)\n",
    "    repl_seed = ee.Number(seed).add(offset)\n",
    "    \n",
    "    t = table.randomColumn('random', repl_seed)\n",
    "    slice_filter = ee.Filter.And(\n",
    "        ee.Filter.gte('random', ee.Number(percent).multiply(n)),\n",
    "        ee.Filter.lt('random', ee.Number(percent).multiply(n.add(1)))\n",
    "    )\n",
    "    return t.filter(slice_filter)\n",
    "\n",
    "# Example usage:\n",
    "# k = 92\n",
    "# folds = kfolds_random(pas, k)\n",
    "# eeprint(ee.FeatureCollection(folds.get(0)).limit(5))"
   ]
  },
  {
   "cell_type": "code",
   "execution_count": null,
   "metadata": {},
   "outputs": [],
   "source": [
    "k =200\n",
    "folds = kfolds_random(fc, k)\n",
    "eeprint(ee.FeatureCollection(folds.get(0)).size())"
   ]
  },
  {
   "cell_type": "code",
   "execution_count": null,
   "metadata": {},
   "outputs": [],
   "source": [
    "def getMetadata(feature, meanLayers, properties):\n",
    "    meanResult = meanLayers.reduceRegion(reducer = ee.Reducer.mean(), geometry = feature.geometry(), scale = 30, maxPixels =1e9)\n",
    "    return feature.set(meanResult).select(properties)\n",
    "\n",
    "test = fc.map(lambda ft: getMetadata(ft.bounds(), meanLayers= meanBands, properties = meanBands.bandNames().cat(['ig_date', 'last_date'])))\n",
    "eeprint(test.limit(3))"
   ]
  },
  {
   "cell_type": "code",
   "execution_count": null,
   "metadata": {},
   "outputs": [],
   "source": [
    "GRNPFireRecords = ee.data.computeFeatures({\n",
    "    'expression': test,\n",
    "    'fileFormat': 'GEOPANDAS_GEODATAFRAME'\n",
    "})\n",
    "\n",
    "# Need to set the CRS.\n",
    "# Make sure it matches the CRS of FeatureCollection geometries.\n",
    "GRNPFireRecords.crs = 'EPSG:4326'\n",
    "\n",
    "display(type(GRNPFireRecords))\n",
    "GRNPFireRecords.head()"
   ]
  },
  {
   "cell_type": "code",
   "execution_count": null,
   "metadata": {},
   "outputs": [],
   "source": [
    "k = 200\n",
    "folds = kfolds_random(fc, k)\n",
    "csv_file_path = r\"C:\\Users\\coach\\myfiles\\data\\fired_metadata.csv\"\n",
    "\n",
    "for i in tqdm(range(0, k)):\n",
    "    fts = ee.FeatureCollection(folds.get(i))\n",
    "    data = fts.map(lambda ft: getMetadata(ft.bounds(), meanLayers=meanBands, properties=meanBands.bandNames().cat(['ig_date', 'last_date'])))\n",
    "\n",
    "    # Conversion to GeoDataFrame\n",
    "    gdf = ee.data.computeFeatures({\n",
    "        'expression': data,\n",
    "        'fileFormat': 'GEOPANDAS_GEODATAFRAME'\n",
    "    })\n",
    "    gdf.crs = 'EPSG:4326'\n",
    "\n",
    "    # Convert the geometry column to WKT\n",
    "    gdf['geometry'] = gdf['geometry'].apply(lambda geom: geom.wkt)\n",
    "\n",
    "    # Determine if it's the first iteration (i == 0)\n",
    "    write_header = i == 0\n",
    "\n",
    "    # Write the GeoDataFrame to CSV\n",
    "    gdf.to_csv(csv_file_path, mode='a', header=write_header, index=False)"
   ]
  },
  {
   "cell_type": "code",
   "execution_count": null,
   "metadata": {},
   "outputs": [],
   "source": [
    "import pandas as pd\n",
    "import geopandas as gpd\n",
    "import numpy as np\n",
    "import matplotlib.pyplot as plt"
   ]
  },
  {
   "cell_type": "code",
   "execution_count": null,
   "metadata": {},
   "outputs": [],
   "source": [
    "csv_file_path = r\"C:\\Users\\coach\\myfiles\\data\\fired_metadata.csv\"\n",
    "df = pd.read_csv(csv_file_path)\n",
    "\n",
    "# clip tree cover values greater than 100 to 100\n",
    "df['treeCov'] = df['treeCov'].clip(upper=100)\n",
    "\n",
    "# Check for columns with only zeros and drop them\n",
    "zero_columns = df.columns[df.eq(0).all()]\n",
    "df = df.drop(zero_columns, axis=1)\n",
    "\n",
    "# Perform exploratory data analysis\n",
    "eda_columns = ['aspect', 'cropland', 'topDiversity', 'treeCov', 'water']\n",
    "eda_columns = [col for col in eda_columns if col in df.columns]\n",
    "\n",
    "if eda_columns:\n",
    "    print(df[eda_columns].describe())\n",
    "    print(df[eda_columns].corr())\n",
    "else:\n",
    "    print(\"All specified columns have been dropped due to containing only zeros.\")\n"
   ]
  },
  {
   "cell_type": "code",
   "execution_count": null,
   "metadata": {},
   "outputs": [],
   "source": [
    "import matplotlib.pyplot as plt\n",
    "import seaborn as sns\n",
    "\n",
    "# Create histograms for each column\n",
    "eda_columns = ['aspect', 'cropland', 'topDiversity', 'treeCov', 'water']\n",
    "eda_columns = [col for col in eda_columns if col in df.columns]\n",
    "\n",
    "fig, axes = plt.subplots(nrows=len(eda_columns), figsize=(10, 20))\n",
    "for ax, col in zip(axes, eda_columns):\n",
    "    sns.histplot(df[col], ax=ax)\n",
    "    ax.set_title(col)\n",
    "\n",
    "plt.tight_layout()\n",
    "plt.show()\n",
    "\n",
    "# Create box plots for each column\n",
    "fig, axes = plt.subplots(nrows=len(eda_columns), figsize=(10, 20))\n",
    "for ax, col in zip(axes, eda_columns):\n",
    "    sns.boxplot(df[col], ax=ax)\n",
    "    ax.set_title(col)\n",
    "\n",
    "plt.tight_layout()\n",
    "plt.show()\n",
    "\n",
    "# Create scatter plots to visualize relationships between columns\n",
    "fig, axes = plt.subplots(nrows=len(eda_columns), ncols=len(eda_columns), figsize=(20, 20))\n",
    "for i, col1 in enumerate(eda_columns):\n",
    "    for j, col2 in enumerate(eda_columns):\n",
    "        if i == j:\n",
    "            sns.histplot(df[col1], ax=axes[i, j])\n",
    "        elif i > j:\n",
    "            axes[i, j].axis('off')\n",
    "        else:\n",
    "            sns.scatterplot(x=col1, y=col2, data=df, ax=axes[i, j])\n",
    "\n",
    "plt.tight_layout()\n",
    "plt.show()\n"
   ]
  },
  {
   "cell_type": "markdown",
   "metadata": {},
   "source": [
    "# Ranking instances to label"
   ]
  },
  {
   "cell_type": "code",
   "execution_count": 5,
   "metadata": {},
   "outputs": [],
   "source": [
    "import pandas as pd\n",
    "import numpy as np\n",
    "import matplotlib.pyplot as plt\n",
    "\n",
    "csv_file_path = r\"C:\\Users\\coach\\myfiles\\data\\fired_metadata.csv\"\n",
    "df = pd.read_csv(csv_file_path)"
   ]
  },
  {
   "cell_type": "code",
   "execution_count": 6,
   "metadata": {},
   "outputs": [],
   "source": [
    "# Aspect\n",
    "\n",
    "# Define a function to map aspect to cardinal points\n",
    "def map_aspect_to_cardinal(aspect):\n",
    "    if 337.5 <= aspect <= 360 or 0 <= aspect <= 22.5:\n",
    "        return 'N'\n",
    "    elif 22.5 < aspect <= 67.5:\n",
    "        return 'NE'\n",
    "    elif 67.5 < aspect <= 112.5:\n",
    "        return 'E'\n",
    "    elif 112.5 < aspect <= 157.5:\n",
    "        return 'SE'\n",
    "    elif 157.5 < aspect <= 202.5:\n",
    "        return 'S'\n",
    "    elif 202.5 < aspect <= 247.5:\n",
    "        return 'SW'\n",
    "    elif 247.5 < aspect <= 292.5:\n",
    "        return 'W'\n",
    "    elif 292.5 < aspect <= 337.5:\n",
    "        return 'NW'\n",
    "\n",
    "# Apply the function to the 'aspect' column\n",
    "df['cardinal'] = df['aspect'].apply(map_aspect_to_cardinal)\n",
    "\n",
    "# Create a dictionary to map cardinal directions to unique integers\n",
    "cardinal_map = {'N': 1, 'NE': 2, 'E': 3, 'SE': 4, 'S': 5, 'SW': 6, 'W': 7, 'NW': 8}\n",
    "\n",
    "# Map cardinal directions to unique integers\n",
    "df['cardinal_id'] = df['cardinal'].map(cardinal_map)\n",
    "\n",
    "# Normalize topDiversity and treeCov\n",
    "df[['topDiversity', 'treeCov']] = df[['topDiversity', 'treeCov']].apply(lambda x: (x - x.min()) / (x.max() - x.min()))\n",
    "\n",
    "# Compute the row-wise mean for the specified variables\n",
    "eda_columns = ['cropland', 'topDiversity', 'treeCov', 'water']\n",
    "\n",
    "df['priority_score'] = df[eda_columns].mean(axis=1)"
   ]
  },
  {
   "cell_type": "code",
   "execution_count": null,
   "metadata": {},
   "outputs": [],
   "source": [
    "# Get all columns that start with 'T'\n",
    "t_columns = [col for col in df.columns if col.startswith('T')]\n",
    "df['counts'] = df[t_columns].ne(0).sum(axis=1)\n",
    "\n",
    "# Create a new column 'dominant' based on the index of column in t_columns that has the highest value\n",
    "df['dominant'] = df[t_columns].idxmax(axis=1)\n",
    "df['dominant_idx'] = np.argmax(df[t_columns].values, axis=1)\n",
    "\n",
    "# Create a new column 'unique_id' based on unique combinations of 'counts' and 'dominant_idx'\n",
    "df['unique_id'] = df.groupby(['counts', 'dominant_idx', 'cardinal_id']).ngroup()\n",
    "# Double check the unique id\n",
    "print('Each combination has a unique code:', df.groupby(['counts', 'dominant_idx', 'cardinal_id'])['unique_id'].nunique().max() == 1)\n",
    "print('Total number of unque combinations:', df['unique_id'].nunique())\n",
    "\n",
    "# assuming df is a pandas DataFrame\n",
    "df['counts'].value_counts().sort_index().plot(kind='bar')\n",
    "plt.title('Value Counts of Counts Column')\n",
    "plt.xlabel('Number of mixed ecosystems')\n",
    "plt.ylabel('Counts')\n",
    "plt.show()\n",
    "\n",
    "df['dominant'].value_counts().plot(kind='bar')\n",
    "plt.title('Value Counts of Counts Column')\n",
    "plt.xlabel('Dominant ecosystem index')\n",
    "plt.ylabel('Counts')\n",
    "plt.show()\n",
    "\n",
    "df['unique_id'].value_counts().plot(kind='bar')\n",
    "plt.title('Value Counts of unique ID Column')\n",
    "plt.xlabel('unique combinations of count and dominant columns')\n",
    "plt.ylabel('Counts')\n",
    "plt.show()"
   ]
  },
  {
   "cell_type": "code",
   "execution_count": null,
   "metadata": {},
   "outputs": [],
   "source": [
    "# Compute summary statistics\n",
    "summary_stats = df['unique_id'].value_counts().describe()\n",
    "\n",
    "# Print summary statistics\n",
    "print(summary_stats)"
   ]
  },
  {
   "cell_type": "code",
   "execution_count": null,
   "metadata": {},
   "outputs": [],
   "source": [
    "# Create a dictionary to store the indices for each unique id\n",
    "unique_id_indices = {}\n",
    "\n",
    "top_k = 5\n",
    "\n",
    "# Iterate over each unique id\n",
    "for unique_id in df['unique_id'].unique():\n",
    "    # Get the rows for the current unique id\n",
    "    unique_id_df = df[df['unique_id'] == unique_id]\n",
    "    \n",
    "    # If there are 5 or fewer rows, include all indices\n",
    "    if len(unique_id_df) <= top_k:\n",
    "        unique_id_indices[unique_id] = unique_id_df.index.tolist()\n",
    "    # If there are more than 5 rows, select the 5 rows with the highest priority_score\n",
    "    else:\n",
    "        unique_id_indices[unique_id] = unique_id_df.nlargest(top_k, 'priority_score').index.tolist()\n",
    "\n",
    "# Create a list of indices\n",
    "indices = [index for indices in unique_id_indices.values() for index in indices]\n",
    "\n",
    "# Print the list of indices\n",
    "print(len(indices))\n",
    "\n",
    "print(unique_id_indices)\n"
   ]
  },
  {
   "cell_type": "code",
   "execution_count": null,
   "metadata": {},
   "outputs": [],
   "source": [
    "# Get the first unique id\n",
    "first_unique_id = df['unique_id'].unique()[0]\n",
    "print(first_unique_id)\n",
    "\n",
    "# Get the indices for the first unique id\n",
    "first_unique_id_indices = unique_id_indices[first_unique_id]\n",
    "print(first_unique_id_indices)\n",
    "\n",
    "# Verify the indices by checking the corresponding rows in the DataFrame\n",
    "display(df.loc[first_unique_id_indices])\n",
    "\n",
    "# Check if the length of the indices is correct\n",
    "print(len(first_unique_id_indices))\n",
    "\n",
    "# Check if the indices correspond to the correct unique id\n",
    "print(df.loc[first_unique_id_indices, 'unique_id'].unique())\n",
    "\n",
    "# Check if the indices correspond to the top 5 priority scores (if applicable)\n",
    "if len(df[df['unique_id'] == first_unique_id]) > 3:\n",
    "    print(df.loc[first_unique_id_indices, 'priority_score'].tolist())\n",
    "    print(df.loc[first_unique_id_indices, 'priority_score'].tolist() == df[df['unique_id'] == first_unique_id].nlargest(3, 'priority_score')['priority_score'].tolist())\n"
   ]
  },
  {
   "cell_type": "code",
   "execution_count": null,
   "metadata": {},
   "outputs": [],
   "source": [
    "labelFires = df.loc[indices]\n",
    "\n",
    "# Step 2: Convert the WKT strings back to Shapely geometry objects\n",
    "labelFires['geometry'] = gpd.GeoSeries.from_wkt(labelFires['geometry'])\n",
    "\n",
    "# Step 3: Create a GeoDataFrame\n",
    "gdf = gpd.GeoDataFrame(labelFires, geometry='geometry')\n",
    "gdf.crs = 'EPSG:4326'\n",
    "\n",
    "# Save as shapefile\n",
    "gdf.to_file(r\"C:\\Users\\coach\\myfiles\\data\\firesToLabelv2.shp\")\n",
    "# Upload shp to GEE\n",
    "# gdf.explore()"
   ]
  },
  {
   "cell_type": "markdown",
   "metadata": {},
   "source": [
    "# Download site data for labelling"
   ]
  },
  {
   "cell_type": "code",
   "execution_count": 3,
   "metadata": {},
   "outputs": [],
   "source": [
    "import geopandas as gpd\n",
    "import ee\n",
    "import geemap\n",
    "from geeml.utils import eeprint\n",
    "from tqdm.auto import tqdm\n",
    "\n",
    "try:\n",
    "    ee.Initialize()\n",
    "except:\n",
    "    ee.Authenticate()\n",
    "    ee.Initialize()\n",
    "\n",
    "import os"
   ]
  },
  {
   "cell_type": "code",
   "execution_count": 4,
   "metadata": {},
   "outputs": [
    {
     "data": {
      "text/html": [
       "\n",
       "            <style>\n",
       "                .geemap-dark {\n",
       "                    --jp-widgets-color: white;\n",
       "                    --jp-widgets-label-color: white;\n",
       "                    --jp-ui-font-color1: white;\n",
       "                    --jp-layout-color2: #454545;\n",
       "                    background-color: #383838;\n",
       "                }\n",
       "\n",
       "                .geemap-dark .jupyter-button {\n",
       "                    --jp-layout-color3: #383838;\n",
       "                }\n",
       "\n",
       "                .geemap-colab {\n",
       "                    background-color: var(--colab-primary-surface-color, white);\n",
       "                }\n",
       "\n",
       "                .geemap-colab .jupyter-button {\n",
       "                    --jp-layout-color3: var(--colab-primary-surface-color, white);\n",
       "                }\n",
       "            </style>\n",
       "            "
      ],
      "text/plain": [
       "<IPython.core.display.HTML object>"
      ]
     },
     "metadata": {},
     "output_type": "display_data"
    },
    {
     "data": {
      "text/html": [
       "<div id=\"9e0cdb7d-3d64-4305-a115-37b05fbc2d5b\" style=\"height: auto; width:100%;\"></div>"
      ],
      "text/plain": [
       "<IPython.core.display.HTML object>"
      ]
     },
     "metadata": {},
     "output_type": "display_data"
    },
    {
     "data": {
      "text/html": [
       " \n",
       "        <script src=\"/static/components/requirejs/require.js\"></script> <!-- Needed in Colab -->\n",
       "        <script>\n",
       "            require([\"https://rawgit.com/caldwell/renderjson/master/renderjson.js\"], function() {\n",
       "              renderjson.set_show_to_level(1)\n",
       "              document.getElementById('9e0cdb7d-3d64-4305-a115-37b05fbc2d5b').appendChild(renderjson(1552))\n",
       "            });\n",
       "        </script>\n",
       "    "
      ],
      "text/plain": [
       "<IPython.core.display.HTML object>"
      ]
     },
     "metadata": {},
     "output_type": "display_data"
    }
   ],
   "source": [
    "fc = ee.FeatureCollection(\"projects/ee-geethensingh/assets/postdoc/firesToLabelv2\").map(\n",
    "    lambda ft: ft.set('Ig_Date', ee.Date(ft.get('ig_date')).format())\n",
    ")\n",
    "\n",
    "fcList = fc.toList(1552)\n",
    "eeprint(fc.size())"
   ]
  },
  {
   "cell_type": "code",
   "execution_count": 5,
   "metadata": {},
   "outputs": [
    {
     "data": {
      "text/html": [
       "\n",
       "            <style>\n",
       "                .geemap-dark {\n",
       "                    --jp-widgets-color: white;\n",
       "                    --jp-widgets-label-color: white;\n",
       "                    --jp-ui-font-color1: white;\n",
       "                    --jp-layout-color2: #454545;\n",
       "                    background-color: #383838;\n",
       "                }\n",
       "\n",
       "                .geemap-dark .jupyter-button {\n",
       "                    --jp-layout-color3: #383838;\n",
       "                }\n",
       "\n",
       "                .geemap-colab {\n",
       "                    background-color: var(--colab-primary-surface-color, white);\n",
       "                }\n",
       "\n",
       "                .geemap-colab .jupyter-button {\n",
       "                    --jp-layout-color3: var(--colab-primary-surface-color, white);\n",
       "                }\n",
       "            </style>\n",
       "            "
      ],
      "text/plain": [
       "<IPython.core.display.HTML object>"
      ]
     },
     "metadata": {},
     "output_type": "display_data"
    },
    {
     "name": "stdout",
     "output_type": "stream",
     "text": [
      "event Date: 2020-09-07T00:00:00\n"
     ]
    }
   ],
   "source": [
    "event = fc.first()\n",
    "eventDate = ee.Date(event.get('Ig_Date'))\n",
    "print('event Date:', eventDate.format().getInfo())"
   ]
  },
  {
   "cell_type": "code",
   "execution_count": 6,
   "metadata": {},
   "outputs": [
    {
     "data": {
      "text/html": [
       "\n",
       "            <style>\n",
       "                .geemap-dark {\n",
       "                    --jp-widgets-color: white;\n",
       "                    --jp-widgets-label-color: white;\n",
       "                    --jp-ui-font-color1: white;\n",
       "                    --jp-layout-color2: #454545;\n",
       "                    background-color: #383838;\n",
       "                }\n",
       "\n",
       "                .geemap-dark .jupyter-button {\n",
       "                    --jp-layout-color3: #383838;\n",
       "                }\n",
       "\n",
       "                .geemap-colab {\n",
       "                    background-color: var(--colab-primary-surface-color, white);\n",
       "                }\n",
       "\n",
       "                .geemap-colab .jupyter-button {\n",
       "                    --jp-layout-color3: var(--colab-primary-surface-color, white);\n",
       "                }\n",
       "            </style>\n",
       "            "
      ],
      "text/plain": [
       "<IPython.core.display.HTML object>"
      ]
     },
     "metadata": {},
     "output_type": "display_data"
    }
   ],
   "source": [
    "def preprocessOptical(image, sensor):\n",
    "    \"\"\"Select Bands and scale between 0 and 1\n",
    "    \"\"\"\n",
    "    bandSelect = {'Sentinel-2': 'B.*',\n",
    "                    'LANDSAT_8': 'SR_B.',\n",
    "                    'LANDSAT_9': 'SR_B.'}\n",
    "    # Step 2) radiometric correction\n",
    "    radiometricMultiplySelect = {'Sentinel-2': 0.0001,\n",
    "                    'LANDSAT_8': 0.0000275,\n",
    "                    'LANDSAT_9': 0.0000275}\n",
    "    radiometricAddSelect = {'Sentinel-2': 0,\n",
    "                    'LANDSAT_8': -0.2,\n",
    "                    'LANDSAT_9': -0.2}\n",
    "    \n",
    "    # Step 3) depending on image selected, select cloud band\n",
    "    return image.select(bandSelect.get(sensor)).multiply(radiometricMultiplySelect.get(sensor)).add(radiometricAddSelect.get(sensor)).copyProperties(image)\n",
    "\n",
    "# Sentinel-2 data exploration\n",
    "def cloudMask1(imageCollection):\n",
    "    #  Cloud Score+ image collection. Note Cloud Score+ is produced from Sentinel-2\n",
    "        # Level 1C data and can be applied to either L1C or L2A collections.\n",
    "        csPlus = ee.ImageCollection('GOOGLE/CLOUD_SCORE_PLUS/V1/S2_HARMONIZED')\n",
    "\n",
    "        #  Use 'cs' or 'cs_cdf', depending on your use-case; see docs for guidance.\n",
    "        QA_BAND = 'cs'\n",
    "\n",
    "        # The threshold for masking; values between 0.50 and 0.65 generally work well.\n",
    "        # Higher values will remove thin clouds, haze & cirrus shadows.\n",
    "        CLEAR_THRESHOLD = 0.6\n",
    "\n",
    "        # link Sentinel-2 image with corresponding Cloud Score+\n",
    "        cloudMask = imageCollection.linkCollection(csPlus, [QA_BAND]).map(lambda img:\n",
    "            img.updateMask(img.select(QA_BAND).gte(CLEAR_THRESHOLD)).select('B.*').divide(10000))\n",
    "\n",
    "        # scale and mask out clouds\n",
    "        return cloudMask\n",
    "\n",
    "def cloudMask2(imageCollection):\n",
    "        #  Cloud Score+ image collection. Note Cloud Score+ is produced from Sentinel-2\n",
    "        # Level 1C data and can be applied to either L1C or L2A collections.\n",
    "        csPlus = ee.ImageCollection('GOOGLE/CLOUD_SCORE_PLUS/V1/S2_HARMONIZED')\n",
    "\n",
    "        #  Use 'cs' or 'cs_cdf', depending on your use-case; see docs for guidance.\n",
    "        QA_BAND = 'cs'\n",
    "\n",
    "        # The threshold for masking; values between 0.50 and 0.65 generally work well.\n",
    "        # Higher values will remove thin clouds, haze & cirrus shadows.\n",
    "        CLEAR_THRESHOLD = 0.6\n",
    "        \n",
    "        # radiometric correction and band selection\n",
    "        # preProcessCollection = imageCollection.map(lambda image: preprocessOptical(image, 'Sentinel-2'))\n",
    "        # link Sentinel-2 image with corresponding Cloud Score+\n",
    "        # cloudMask = imageCollection.linkCollection(csPlus, [QA_BAND]).map(lambda img:\n",
    "        #     img.addBands(img.normalizedDifference(['B8', 'B12']).multiply(10000).rename('nbr'))\\\n",
    "        #         .updateMask(img.select(QA_BAND).gte(CLEAR_THRESHOLD)).select(['B.*', 'nbr']).divide(10000)\n",
    "        #     )\n",
    "        cloudMask = imageCollection.linkCollection(csPlus, [QA_BAND]).map(lambda img:\n",
    "            img.select(['B.*'])\\\n",
    "                .updateMask(img.select(QA_BAND).gte(CLEAR_THRESHOLD)).divide(10000)\\\n",
    "                    .addBands(img.normalizedDifference(['B8A', 'B12']).rename('nbr'))\n",
    "            )\n",
    "            \n",
    "        # scale and mask out clouds\n",
    "        return cloudMask\n",
    "\n",
    "def qualityMosaicPercentile(collection, QAband, percentile):\n",
    "    # Compute percentile image\n",
    "    percentileImage = collection.select(QAband).reduce(ee.Reducer.percentile([percentile]))\n",
    "    #  Compute distance of every pixel from the computed percentile in that location\n",
    "    withDist = ee.ImageCollection(collection.map(lambda image: image.addBands([\n",
    "        image.select(QAband).subtract(percentileImage).abs().multiply(-1).rename('quality')])))\n",
    "    return withDist.qualityMosaic('quality')"
   ]
  },
  {
   "cell_type": "code",
   "execution_count": 7,
   "metadata": {},
   "outputs": [
    {
     "data": {
      "text/html": [
       "\n",
       "            <style>\n",
       "                .geemap-dark {\n",
       "                    --jp-widgets-color: white;\n",
       "                    --jp-widgets-label-color: white;\n",
       "                    --jp-ui-font-color1: white;\n",
       "                    --jp-layout-color2: #454545;\n",
       "                    background-color: #383838;\n",
       "                }\n",
       "\n",
       "                .geemap-dark .jupyter-button {\n",
       "                    --jp-layout-color3: #383838;\n",
       "                }\n",
       "\n",
       "                .geemap-colab {\n",
       "                    background-color: var(--colab-primary-surface-color, white);\n",
       "                }\n",
       "\n",
       "                .geemap-colab .jupyter-button {\n",
       "                    --jp-layout-color3: var(--colab-primary-surface-color, white);\n",
       "                }\n",
       "            </style>\n",
       "            "
      ],
      "text/plain": [
       "<IPython.core.display.HTML object>"
      ]
     },
     "metadata": {},
     "output_type": "display_data"
    }
   ],
   "source": [
    "def getImage(sensor: str, pre: bool, event: ee.Feature, dateBuffer: int)->ee.Image:\n",
    "    \"\"\"\n",
    "    Get the temporally closest pre-fire and post-fire optical or radar images after preprocessing both\n",
    "     the optical images.\n",
    "\n",
    "    Args:\n",
    "        event (ee.Feature): A fire event delineating the boundary of burnt area\n",
    "        dateBuffer (int): The temporal window to locate a relevant image. In units of weeks.\n",
    "\n",
    "    Returns:\n",
    "        A pre-fire and post-fire optical or radar image\n",
    "    \"\"\"\n",
    "    # Filter images that intersect the geometry using the optimised filterBounds. Thereafter, use the\n",
    "    # ee.filter.contains that is not as optimised as filterBounds\n",
    "    images = supportedSensors.get(sensor).filterBounds(event.geometry())\n",
    "    eventDate = ee.Date(event.get('Ig_Date'))\n",
    "    if pre:\n",
    "        startDate = eventDate.advance(dateBuffer*-1, 'week')\n",
    "        endDate = eventDate\n",
    "        outImage = cloudMask1(images.filterDate(startDate, endDate).sort('system:time_start', False)).reduce(ee.Reducer.firstNonNull()).regexpRename('.{6}$','')\n",
    "        # .filter(ee.Filter.contains('.geo', event.geometry())).sort('system:time_start', False).first()\n",
    "  \n",
    "    else:\n",
    "        # postfire\n",
    "        startDate = eventDate\n",
    "        endDate = eventDate.advance(dateBuffer, 'week')\n",
    "        outImage = cloudMask2(images.filterDate(startDate, endDate))#.reduce(ee.Reducer.firstNonNull()).regexpRename('.{6}$','')#.qualityMosaic('nbr')\n",
    "        # .filter(ee.Filter.contains('.geo', event.geometry())).sort('system:time_start', True).first()\n",
    "    \n",
    "    return outImage\n",
    "\n",
    "    # Given a fire event get pre and post fire image from multi-sensors\n",
    "def getOpticalRadarPairs(sensor:str, dnbr:bool, event: ee.Feature, dateBuffer: int = 4)-> ee.Image:\n",
    "    \"\"\"\n",
    "     Get optical-radar pairs for a given fire event. First image after fire event and image before fire event\n",
    "\n",
    "     Args:\n",
    "        sensor(str): The name of the sensor. One of ['Sentinel-1', 'Sentinel-2', 'Landsat_8', 'Landsat_9']\n",
    "        event(ee.Feature): A fire event\n",
    "        dateBuffer(int): The temporal-search window. \n",
    "    \n",
    "    Returns:\n",
    "        An image with optical-radar pairs\n",
    "\n",
    "    \"\"\"\n",
    "    # Post-fire image\n",
    "    if sensor != 'any':\n",
    "        postOpticalImage = getImage(sensor, False, event, dateBuffer= dateBuffer)\n",
    "    else:\n",
    "        s2post = getImage('Sentinel-2', False, event, dateBuffer= dateBuffer)\n",
    "        l8post = getImage('LANDSAT_8', False, event, dateBuffer= dateBuffer)\n",
    "        l9post = getImage('LANDSAT_9', False, event, dateBuffer= dateBuffer)\n",
    "        # get the earliest optical image (between L8, L9 and S2) that was captured after the fire event\n",
    "        postOpticalImage = ee.ImageCollection.fromImages([s2post, l8post, l9post]).sort('system:time_start', True).first()\n",
    "    # pre-process post-fire image\n",
    "    # postOpticalImage = ee.Image(preprocessOptical(postOpticalImage, sensor).copyProperties(postOpticalImage))\n",
    "\n",
    "    # if sensor == 'Sentinel-1':\n",
    "    #     # RADAR\n",
    "    #     s1post = getImage('Sentinel-1', False, event, dateBuffer= dateBuffer)\n",
    "    #     # preprocess pre-fire radar image\n",
    "    #     parameters.update({'STOP_DATE': s1post.date().advance(1, 'day'), 'START_DATE': s1post.date(), 'ROI': event.geometry()})\n",
    "    #     s1post = wp.s1_preproc(parameters).select('V.')\n",
    "    \n",
    "    # pre-fire\n",
    "    if sensor != 'any':\n",
    "        # If only one sensor is to be used\n",
    "        preOpticalImage = getImage(sensor, True, event, dateBuffer= dateBuffer)\n",
    "    else:\n",
    "        # If any optical sensor is to be used\n",
    "        s2pre = getImage('Sentinel-2', True, event, dateBuffer= dateBuffer)\n",
    "        l8pre = getImage('LANDSAT_8', True, event, dateBuffer= dateBuffer)\n",
    "        l9pre = getImage('LANDSAT_9', True, event, dateBuffer= dateBuffer)\n",
    "        # get the earliest optical image (between L8, L9 and S2) that was captured after the fire event\n",
    "        preOpticalImage = ee.ImageCollection.fromImages([s2pre, l8pre, l9pre]).sort('system:time_start', True).first()\n",
    "    \n",
    "    # elif multisensor:\n",
    "    #     # if multisensor data is to be used, add radar to optical\n",
    "    #     # RADAR\n",
    "    #     s1pre = getImage('Sentinel-1', True, event, dateBuffer= dateBuffer)\n",
    "    #     # preprocess pre-fire radar image\n",
    "    #     parameters.update({'STOP_DATE': s1pre.date().advance(1, 'day'), 'START_DATE': s1pre.date(), 'ROI': event.geometry()})\n",
    "    #     s1pre = wp.s1_preproc(parameters).select('V.')\n",
    "\n",
    "    # pre-process pre-fire image\n",
    "    # preOpticalImage = ee.Image(preprocessOptical(preOpticalImage, sensor).copyProperties(preOpticalImage))\n",
    "\n",
    "    if dnbr:\n",
    "        postOpticalImage = qualityMosaicPercentile(postOpticalImage.map(lambda img: img.addBands(\n",
    "            preOpticalImage.normalizedDifference(['B8A', 'B12']).subtract(img.normalizedDifference(['B8A', 'B12'])).rename('dnbr'))), 'dnbr', 95) \n",
    "    \n",
    "    return postOpticalImage\n",
    "    # return preOpticalImage.regexpRename('$', '_pre'), s1pre, postOpticalImage.regexpRename('$', '_post'), s1post\n",
    "    "
   ]
  },
  {
   "cell_type": "code",
   "execution_count": 12,
   "metadata": {},
   "outputs": [
    {
     "data": {
      "text/html": [
       "\n",
       "            <style>\n",
       "                .geemap-dark {\n",
       "                    --jp-widgets-color: white;\n",
       "                    --jp-widgets-label-color: white;\n",
       "                    --jp-ui-font-color1: white;\n",
       "                    --jp-layout-color2: #454545;\n",
       "                    background-color: #383838;\n",
       "                }\n",
       "\n",
       "                .geemap-dark .jupyter-button {\n",
       "                    --jp-layout-color3: #383838;\n",
       "                }\n",
       "\n",
       "                .geemap-colab {\n",
       "                    background-color: var(--colab-primary-surface-color, white);\n",
       "                }\n",
       "\n",
       "                .geemap-colab .jupyter-button {\n",
       "                    --jp-layout-color3: var(--colab-primary-surface-color, white);\n",
       "                }\n",
       "            </style>\n",
       "            "
      ],
      "text/plain": [
       "<IPython.core.display.HTML object>"
      ]
     },
     "metadata": {},
     "output_type": "display_data"
    }
   ],
   "source": [
    "supportedSensors = {'Sentinel-1': ee.ImageCollection('COPERNICUS/S1_GRD'),\n",
    "                    'Sentinel-2': ee.ImageCollection(\"COPERNICUS/S2_SR_HARMONIZED\"),\n",
    "                    'LANDSAT_8': ee.ImageCollection(\"LANDSAT/LC08/C02/T1_L2\"),\n",
    "                    'LANDSAT_9': ee.ImageCollection(\"LANDSAT/LC09/C02/T1_L2\")}"
   ]
  },
  {
   "cell_type": "code",
   "execution_count": 13,
   "metadata": {},
   "outputs": [
    {
     "data": {
      "text/html": [
       "\n",
       "            <style>\n",
       "                .geemap-dark {\n",
       "                    --jp-widgets-color: white;\n",
       "                    --jp-widgets-label-color: white;\n",
       "                    --jp-ui-font-color1: white;\n",
       "                    --jp-layout-color2: #454545;\n",
       "                    background-color: #383838;\n",
       "                }\n",
       "\n",
       "                .geemap-dark .jupyter-button {\n",
       "                    --jp-layout-color3: #383838;\n",
       "                }\n",
       "\n",
       "                .geemap-colab {\n",
       "                    background-color: var(--colab-primary-surface-color, white);\n",
       "                }\n",
       "\n",
       "                .geemap-colab .jupyter-button {\n",
       "                    --jp-layout-color3: var(--colab-primary-surface-color, white);\n",
       "                }\n",
       "            </style>\n",
       "            "
      ],
      "text/plain": [
       "<IPython.core.display.HTML object>"
      ]
     },
     "metadata": {},
     "output_type": "display_data"
    }
   ],
   "source": [
    "def prepareLabel(event: ee.Feature, patchSize: int, scale: int)-> ee.Image:\n",
    "    \"\"\"\n",
    "    Converts a burn area polygon (ee.Feature) to a raster label. Burnt pixels are assigned a value of 1.\n",
    "    Unburnt pixels are assigned a value of 0. the returned ee.Image dimensions should closely approximate\n",
    "    the number of pixels divisible by the patchSize.\n",
    "\n",
    "    Args:\n",
    "        event(ee.Feature): The delineated burn area polygon to rasterize.\n",
    "        patchSize (int): The desirable patch dimension when training the DNN model.\n",
    "        scale (int): The desired output scale for the label.\n",
    "\n",
    "    Returns:\n",
    "        The rasterised label (ee.Image)\n",
    "    \"\"\"\n",
    "    # Define the WKT string for EPSG:102005\n",
    "    wkt = ('PROJCS[\"USA_Contiguous_Equidistant_Conic\",'\n",
    "        'GEOGCS[\"GCS_North_American_1983\",'\n",
    "        'DATUM[\"D_North_American_1983\",'\n",
    "        'SPHEROID[\"GRS_1980\",6378137.0,298.257222101]],'\n",
    "        'PRIMEM[\"Greenwich\",0.0],'\n",
    "        'UNIT[\"Degree\",0.0174532925199433]],'\n",
    "        'PROJECTION[\"Equidistant_Conic\"],'\n",
    "        'PARAMETER[\"False_Easting\",0.0],'\n",
    "        'PARAMETER[\"False_Northing\",0.0],'\n",
    "        'PARAMETER[\"longitude_of_center\",-96.0],'\n",
    "        'PARAMETER[\"Standard_Parallel_1\",33.0],'\n",
    "        'PARAMETER[\"Standard_Parallel_2\",45.0],'\n",
    "        'PARAMETER[\"latitude_of_center\",39.0],'\n",
    "        'UNIT[\"Meter\",1.0]]')\n",
    "\n",
    "    # Create the ee.Projection object\n",
    "    projection = ee.Projection(wkt)\n",
    "    \n",
    "    # Create a covering grid using the equal-distance projection. each cell is 1 patch\n",
    "    covering_grid = event.geometry().coveringGrid(projection, patchSize*scale).geometry().bounds(scale*0.9)\n",
    "    \n",
    "    # Return binary label, 1= burn pixels, 0 = unburnt pixels\n",
    "    extent = ee.Image.constant(1).clip(covering_grid)\n",
    "    burnt = ee.Image.constant(1).clip(event.geometry())\n",
    "        \n",
    "    label = extent.updateMask(burnt).unmask(0)\n",
    "    return label.rename('label')"
   ]
  },
  {
   "cell_type": "code",
   "execution_count": null,
   "metadata": {},
   "outputs": [],
   "source": [
    "from datetime import datetime\n",
    "def downloadInstance(event, dateBuffer, patchSize, scale, id, rootdir):\n",
    "    bands = ['B2', 'B3', 'B4', 'B5', 'B6', 'B7', 'B8A', 'B11', 'B12', 'nbr', 'dnbr']\n",
    "    postOpt = getOpticalRadarPairs('Sentinel-2', True, event, dateBuffer).select(bands)\n",
    "    label = prepareLabel(event, patchSize, scale).where(postOpt.select('dnbr').lt(0.1), 0).toInt()\n",
    "    xfilename = Path(f\"{rootdir}/X/image_{id}.tif\")\n",
    "    if not os.path.exists(xfilename.parent):\n",
    "        os.makedirs(xfilename.parent)\n",
    "    # BaseImage(postOpt).download(xfilename, crs='EPSG:4326', region= label.geometry(), scale= scale, overwrite=True, num_threads=20)\n",
    "    yfilename = Path(f\"{rootdir}/Y/label_{id}.tif\")\n",
    "    if not os.path.exists(yfilename.parent):\n",
    "        os.makedirs(yfilename.parent)\n",
    "    # BaseImage(label).download(yfilename, crs='EPSG:4326', region= label.geometry(), scale= scale, overwrite=True, num_threads=20)\n",
    "    eventYear = datetime.strptime(event.get('ig_date').getInfo(), \"%Y-%m-%d\").year\n",
    "    gabam = ee.ImageCollection(\"projects/sat-io/open-datasets/GABAM\").filterDate(f\"{eventYear}-01-01\", f\"{eventYear+1}-01-01\")\n",
    "    altlabel = ee.Image(gabam.mosaic())\n",
    "    yfilename = Path(f\"{rootdir}/altY/label_{id}.tif\")\n",
    "    if not os.path.exists(yfilename.parent):\n",
    "        os.makedirs(yfilename.parent)\n",
    "    BaseImage(altlabel).download(yfilename, crs='EPSG:4326', region= label.geometry(), scale= scale, overwrite=True, num_threads=20)\n",
    "    \n",
    "\n",
    "fcSize = fc.size().getInfo()\n",
    "print(f\"There are {fcSize} fire events for labelling\")\n",
    "fcList = fc.toList(fcSize)\n",
    "\n",
    "rootdir = \"C:/Users/coach/myfiles/postdoc/Fire/data/toLabel\"\n",
    "\n",
    "for id in tqdm(range(fcSize)):\n",
    "    fire = ee.Feature(fcList.get(id))\n",
    "    try:\n",
    "        downloadInstance(fire, 15, 256, 30, id, rootdir)\n",
    "    except Exception as e:\n",
    "        print(f\"Fire event {id} failed with error: {e}\")\n"
   ]
  },
  {
   "cell_type": "code",
   "execution_count": 17,
   "metadata": {},
   "outputs": [
    {
     "data": {
      "text/html": [
       "\n",
       "            <style>\n",
       "                .geemap-dark {\n",
       "                    --jp-widgets-color: white;\n",
       "                    --jp-widgets-label-color: white;\n",
       "                    --jp-ui-font-color1: white;\n",
       "                    --jp-layout-color2: #454545;\n",
       "                    background-color: #383838;\n",
       "                }\n",
       "\n",
       "                .geemap-dark .jupyter-button {\n",
       "                    --jp-layout-color3: #383838;\n",
       "                }\n",
       "\n",
       "                .geemap-colab {\n",
       "                    background-color: var(--colab-primary-surface-color, white);\n",
       "                }\n",
       "\n",
       "                .geemap-colab .jupyter-button {\n",
       "                    --jp-layout-color3: var(--colab-primary-surface-color, white);\n",
       "                }\n",
       "            </style>\n",
       "            "
      ],
      "text/plain": [
       "<IPython.core.display.HTML object>"
      ]
     },
     "metadata": {},
     "output_type": "display_data"
    },
    {
     "data": {
      "application/vnd.jupyter.widget-view+json": {
       "model_id": "8894e0ce5cb947d18377d2e71ad6d6e5",
       "version_major": 2,
       "version_minor": 0
      },
      "text/plain": [
       "  0%|          | 0/973 [00:00<?, ?it/s]"
      ]
     },
     "metadata": {},
     "output_type": "display_data"
    }
   ],
   "source": [
    "import os\n",
    "import rasterio\n",
    "from rasterio.windows import Window\n",
    "from tqdm.auto import tqdm\n",
    "\n",
    "def create_chips(input_folder, output_folder, chip_size=256):\n",
    "    if not os.path.exists(output_folder):\n",
    "        os.makedirs(output_folder)\n",
    "    \n",
    "    for filename in tqdm(os.listdir(input_folder)):\n",
    "        if filename.endswith('.tif'):\n",
    "            filepath = os.path.join(input_folder, filename)\n",
    "            \n",
    "            with rasterio.open(filepath) as src:\n",
    "                width, height = src.width, src.height\n",
    "                meta = src.meta.copy()\n",
    "                \n",
    "                for i in range(0, width, chip_size):\n",
    "                    for j in range(0, height, chip_size):\n",
    "                        # Ensure that only 256x256 chips are saved\n",
    "                        if (i + chip_size <= width) and (j + chip_size <= height):\n",
    "                            window = Window(i, j, chip_size, chip_size)\n",
    "                            transform = src.window_transform(window)\n",
    "                            \n",
    "                            chip = src.read(window=window)\n",
    "                            chip_meta = meta.copy()\n",
    "                            chip_meta.update({\n",
    "                                \"height\": chip.shape[1],\n",
    "                                \"width\": chip.shape[2],\n",
    "                                \"transform\": transform\n",
    "                            })\n",
    "                            \n",
    "                            chip_filename = f\"{os.path.splitext(filename)[0]}_{i}_{j}.tif\"\n",
    "                            chip_filepath = os.path.join(output_folder, chip_filename)\n",
    "                            \n",
    "                            with rasterio.open(chip_filepath, 'w', **chip_meta) as dst:\n",
    "                                dst.write(chip)\n",
    "\n",
    "# Usage\n",
    "input_folder = r'C:\\Users\\coach\\myfiles\\postdoc\\Fire\\data\\toLabel\\X'\n",
    "output_folder = r'C:\\Users\\coach\\myfiles\\postdoc\\Fire\\data\\toLabel\\X_chips'\n",
    "\n",
    "# create_chips(input_folder, output_folder, chip_size=256)\n",
    "\n",
    "input_folder = r'C:\\Users\\coach\\myfiles\\postdoc\\Fire\\data\\toLabel\\Y'\n",
    "output_folder = r'C:\\Users\\coach\\myfiles\\postdoc\\Fire\\data\\toLabel\\Y_chips'\n",
    "\n",
    "# create_chips(input_folder, output_folder, chip_size=256)\n",
    "\n",
    "input_folder = r'C:\\Users\\coach\\myfiles\\postdoc\\Fire\\data\\toLabel\\altY'\n",
    "output_folder = r'C:\\Users\\coach\\myfiles\\postdoc\\Fire\\data\\toLabel\\altY_chips'\n",
    "\n",
    "create_chips(input_folder, output_folder, chip_size=256)\n"
   ]
  },
  {
   "cell_type": "code",
   "execution_count": 18,
   "metadata": {},
   "outputs": [
    {
     "data": {
      "text/html": [
       "\n",
       "            <style>\n",
       "                .geemap-dark {\n",
       "                    --jp-widgets-color: white;\n",
       "                    --jp-widgets-label-color: white;\n",
       "                    --jp-ui-font-color1: white;\n",
       "                    --jp-layout-color2: #454545;\n",
       "                    background-color: #383838;\n",
       "                }\n",
       "\n",
       "                .geemap-dark .jupyter-button {\n",
       "                    --jp-layout-color3: #383838;\n",
       "                }\n",
       "\n",
       "                .geemap-colab {\n",
       "                    background-color: var(--colab-primary-surface-color, white);\n",
       "                }\n",
       "\n",
       "                .geemap-colab .jupyter-button {\n",
       "                    --jp-layout-color3: var(--colab-primary-surface-color, white);\n",
       "                }\n",
       "            </style>\n",
       "            "
      ],
      "text/plain": [
       "<IPython.core.display.HTML object>"
      ]
     },
     "metadata": {},
     "output_type": "display_data"
    },
    {
     "data": {
      "application/vnd.jupyter.widget-view+json": {
       "model_id": "db051f0a2c7747f389a4ca144b143389",
       "version_major": 2,
       "version_minor": 0
      },
      "text/plain": [
       "  0%|          | 0/370 [00:00<?, ?it/s]"
      ]
     },
     "metadata": {},
     "output_type": "display_data"
    },
    {
     "data": {
      "application/vnd.jupyter.widget-view+json": {
       "model_id": "555bb2e872bd47129dd97b18cd80974b",
       "version_major": 2,
       "version_minor": 0
      },
      "text/plain": [
       "  0%|          | 0/364 [00:00<?, ?it/s]"
      ]
     },
     "metadata": {},
     "output_type": "display_data"
    },
    {
     "data": {
      "application/vnd.jupyter.widget-view+json": {
       "model_id": "d8deae16cd854ef0bd3da456af92a4bd",
       "version_major": 2,
       "version_minor": 0
      },
      "text/plain": [
       "  0%|          | 0/370 [00:00<?, ?it/s]"
      ]
     },
     "metadata": {},
     "output_type": "display_data"
    }
   ],
   "source": [
    "import os\n",
    "import rasterio\n",
    "\n",
    "def check_chip_sizes(output_folder, expected_size=(256, 256)):\n",
    "    for filename in tqdm(os.listdir(output_folder)):\n",
    "        if filename.endswith('.tif'):\n",
    "            filepath = os.path.join(output_folder, filename)\n",
    "            \n",
    "            with rasterio.open(filepath) as src:\n",
    "                width, height = src.width, src.height\n",
    "                \n",
    "                if (width, height) != expected_size:\n",
    "                    print(f\"{filename} is {width}x{height} pixels\")\n",
    "\n",
    "output_folder = r'C:\\Users\\coach\\myfiles\\postdoc\\Fire\\data\\toLabel\\X_chips'\n",
    "check_chip_sizes(output_folder)\n",
    "output_folder = r'C:\\Users\\coach\\myfiles\\postdoc\\Fire\\data\\toLabel\\Y_chips'\n",
    "check_chip_sizes(output_folder)\n",
    "output_folder = r'C:\\Users\\coach\\myfiles\\postdoc\\Fire\\data\\toLabel\\altY_chips'\n",
    "check_chip_sizes(output_folder)\n"
   ]
  },
  {
   "cell_type": "markdown",
   "metadata": {},
   "source": [
    "# Visualise gif for fire event"
   ]
  },
  {
   "cell_type": "code",
   "execution_count": 1,
   "metadata": {},
   "outputs": [
    {
     "data": {
      "text/html": [
       "<div id=\"fa47cd1a-72e6-4e53-90b1-67abf7811e35\" style=\"height: auto; width:100%;\"></div>"
      ],
      "text/plain": [
       "<IPython.core.display.HTML object>"
      ]
     },
     "metadata": {},
     "output_type": "display_data"
    },
    {
     "data": {
      "text/html": [
       " \n",
       "        <script src=\"/static/components/requirejs/require.js\"></script> <!-- Needed in Colab -->\n",
       "        <script>\n",
       "            require([\"https://rawgit.com/caldwell/renderjson/master/renderjson.js\"], function() {\n",
       "              renderjson.set_show_to_level(1)\n",
       "              document.getElementById('fa47cd1a-72e6-4e53-90b1-67abf7811e35').appendChild(renderjson(1552))\n",
       "            });\n",
       "        </script>\n",
       "    "
      ],
      "text/plain": [
       "<IPython.core.display.HTML object>"
      ]
     },
     "metadata": {},
     "output_type": "display_data"
    }
   ],
   "source": [
    "import geemap\n",
    "import ee\n",
    "ee.Initialize()\n",
    "from geeml.utils import eeprint\n",
    "\n",
    "fc = ee.FeatureCollection(\"projects/ee-geethensingh/assets/postdoc/firesToLabelv2\").map(\n",
    "    lambda ft: ft.set('Ig_Date', ee.Date(ft.get('ig_date')).format())\n",
    ")\n",
    "\n",
    "fcList = fc.toList(1552)\n",
    "eeprint(fc.size())"
   ]
  },
  {
   "cell_type": "code",
   "execution_count": 146,
   "metadata": {},
   "outputs": [
    {
     "data": {
      "text/html": [
       "\n",
       "            <style>\n",
       "                .geemap-dark {\n",
       "                    --jp-widgets-color: white;\n",
       "                    --jp-widgets-label-color: white;\n",
       "                    --jp-ui-font-color1: white;\n",
       "                    --jp-layout-color2: #454545;\n",
       "                    background-color: #383838;\n",
       "                }\n",
       "\n",
       "                .geemap-dark .jupyter-button {\n",
       "                    --jp-layout-color3: #383838;\n",
       "                }\n",
       "\n",
       "                .geemap-colab {\n",
       "                    background-color: var(--colab-primary-surface-color, white);\n",
       "                }\n",
       "\n",
       "                .geemap-colab .jupyter-button {\n",
       "                    --jp-layout-color3: var(--colab-primary-surface-color, white);\n",
       "                }\n",
       "            </style>\n",
       "            "
      ],
      "text/plain": [
       "<IPython.core.display.HTML object>"
      ]
     },
     "metadata": {},
     "output_type": "display_data"
    },
    {
     "name": "stdout",
     "output_type": "stream",
     "text": [
      "2020-08-31\n",
      "Year: 2020\n",
      "Start Date: 06-17\n",
      "End Date: 10-15\n"
     ]
    }
   ],
   "source": [
    "from datetime import datetime, timedelta\n",
    "\n",
    "def get_dates(date_str):\n",
    "    date = datetime.strptime(date_str, '%Y-%m-%d')\n",
    "    year = date.year\n",
    "    \n",
    "    start_date = date - timedelta(days=75)\n",
    "    end_date = date + timedelta(days=45)\n",
    "    \n",
    "    start_date_str = start_date.strftime('%m-%d')\n",
    "    end_date_str = end_date.strftime('%m-%d')\n",
    "    \n",
    "    return year, str(start_date_str), str(end_date_str)\n",
    "\n",
    "idx = 1115\n",
    "event = ee.Feature(fcList.get(idx))\n",
    "date_str = event.get('ig_date').getInfo()\n",
    "print(date_str)\n",
    "year, start_date, end_date = get_dates(date_str)\n",
    "\n",
    "print(f\"Year: {year}\")\n",
    "print(f\"Start Date: {start_date}\")\n",
    "print(f\"End Date: {end_date}\")"
   ]
  },
  {
   "cell_type": "code",
   "execution_count": 147,
   "metadata": {},
   "outputs": [
    {
     "data": {
      "text/html": [
       "\n",
       "            <style>\n",
       "                .geemap-dark {\n",
       "                    --jp-widgets-color: white;\n",
       "                    --jp-widgets-label-color: white;\n",
       "                    --jp-ui-font-color1: white;\n",
       "                    --jp-layout-color2: #454545;\n",
       "                    background-color: #383838;\n",
       "                }\n",
       "\n",
       "                .geemap-dark .jupyter-button {\n",
       "                    --jp-layout-color3: #383838;\n",
       "                }\n",
       "\n",
       "                .geemap-colab {\n",
       "                    background-color: var(--colab-primary-surface-color, white);\n",
       "                }\n",
       "\n",
       "                .geemap-colab .jupyter-button {\n",
       "                    --jp-layout-color3: var(--colab-primary-surface-color, white);\n",
       "                }\n",
       "            </style>\n",
       "            "
      ],
      "text/plain": [
       "<IPython.core.display.HTML object>"
      ]
     },
     "metadata": {},
     "output_type": "display_data"
    },
    {
     "name": "stdout",
     "output_type": "stream",
     "text": [
      "Generating URL...\n",
      "Downloading GIF image from https://earthengine.googleapis.com/v1/projects/earthengine-legacy/videoThumbnails/1a21bd6e5bf7e1e3589f18da006f7576-816addc528a3ade22e05f3b788b6a3b5:getPixels\n",
      "Please wait ...\n",
      "The GIF image has been saved to: c:\\Users\\coach\\myfiles\\postdoc\\Fire\\code\\Burn_Area_Mapping\\src\\notebooks\\sentinel2.gif\n"
     ]
    },
    {
     "data": {
      "application/vnd.jupyter.widget-view+json": {
       "model_id": "fecebd42d48841f6bfe1c35df86704f3",
       "version_major": 2,
       "version_minor": 0
      },
      "text/plain": [
       "Output()"
      ]
     },
     "metadata": {},
     "output_type": "display_data"
    }
   ],
   "source": [
    "timelapse = geemap.sentinel2_timelapse(\n",
    "    event.geometry().bounds().buffer(8000),\n",
    "    out_gif='sentinel2.gif',\n",
    "    start_year= year,\n",
    "    end_year= year,\n",
    "    start_date= start_date,\n",
    "    end_date= end_date,\n",
    "    frequency='month',\n",
    "    bands=['SWIR2','NIR', 'Red'],#nir, swir2, gr\n",
    "    frames_per_second=1,\n",
    "    title='Sentinel-2 Timelapse',\n",
    "    cloud_pct = 30\n",
    ")\n",
    "geemap.show_image(timelapse)"
   ]
  },
  {
   "cell_type": "code",
   "execution_count": 148,
   "metadata": {},
   "outputs": [
    {
     "data": {
      "text/html": [
       "\n",
       "            <style>\n",
       "                .geemap-dark {\n",
       "                    --jp-widgets-color: white;\n",
       "                    --jp-widgets-label-color: white;\n",
       "                    --jp-ui-font-color1: white;\n",
       "                    --jp-layout-color2: #454545;\n",
       "                    background-color: #383838;\n",
       "                }\n",
       "\n",
       "                .geemap-dark .jupyter-button {\n",
       "                    --jp-layout-color3: #383838;\n",
       "                }\n",
       "\n",
       "                .geemap-colab {\n",
       "                    background-color: var(--colab-primary-surface-color, white);\n",
       "                }\n",
       "\n",
       "                .geemap-colab .jupyter-button {\n",
       "                    --jp-layout-color3: var(--colab-primary-surface-color, white);\n",
       "                }\n",
       "            </style>\n",
       "            "
      ],
      "text/plain": [
       "<IPython.core.display.HTML object>"
      ]
     },
     "metadata": {},
     "output_type": "display_data"
    },
    {
     "name": "stdout",
     "output_type": "stream",
     "text": [
      "Generating URL...\n",
      "Downloading GIF image from https://earthengine.googleapis.com/v1/projects/earthengine-legacy/videoThumbnails/a969e2e3adefce9a87778827c45b4d87-0619eb9d0794243b09cc48bb3efd938f:getPixels\n",
      "Please wait ...\n",
      "The GIF image has been saved to: c:\\Users\\coach\\myfiles\\postdoc\\Fire\\code\\Burn_Area_Mapping\\src\\notebooks\\landsat.gif\n"
     ]
    },
    {
     "data": {
      "application/vnd.jupyter.widget-view+json": {
       "model_id": "7c7c6a1a35f94dd5a2923fbb29149db2",
       "version_major": 2,
       "version_minor": 0
      },
      "text/plain": [
       "Output()"
      ]
     },
     "metadata": {},
     "output_type": "display_data"
    }
   ],
   "source": [
    "timelapse = geemap.landsat_timelapse(\n",
    "    event.geometry().bounds().buffer(8000),\n",
    "    out_gif='landsat.gif',\n",
    "    start_year= year,\n",
    "    end_year= year,\n",
    "    start_date= start_date,\n",
    "    end_date= end_date,\n",
    "    frequency='month',\n",
    "    bands=['SWIR2','NIR', 'Red'],#nir, swir2, gr\n",
    "    frames_per_second=1,\n",
    "    title='Landsat-8 Timelapse',\n",
    ")\n",
    "geemap.show_image(timelapse)"
   ]
  },
  {
   "cell_type": "code",
   "execution_count": null,
   "metadata": {},
   "outputs": [],
   "source": []
  }
 ],
 "metadata": {
  "kernelspec": {
   "display_name": "erthy",
   "language": "python",
   "name": "python3"
  },
  "language_info": {
   "codemirror_mode": {
    "name": "ipython",
    "version": 3
   },
   "file_extension": ".py",
   "mimetype": "text/x-python",
   "name": "python",
   "nbconvert_exporter": "python",
   "pygments_lexer": "ipython3",
   "version": "3.9.13"
  }
 },
 "nbformat": 4,
 "nbformat_minor": 2
}
