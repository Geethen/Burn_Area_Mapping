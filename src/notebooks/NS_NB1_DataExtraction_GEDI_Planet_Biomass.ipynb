{
 "cells": [
  {
   "cell_type": "markdown",
   "id": "2397465d-4b6a-4783-844c-84b0ac7afa20",
   "metadata": {},
   "source": [
    "# Notebook for extracting tabular datasets to estimate AGBD for Kenya\n",
    "1. Planet + GEDI (biomass) for Kenya\n",
    "2. Sentinel + GEDI (biomass) for Kenya\n",
    "3. Download GEDI Image data for Netherlands/Kenya\n",
    "4. Additional covariates for Kenya\n",
    "5. Extract image data used for biomass inference - 61 variables\n",
    "6. Extract image data for exploring enviromental conditions for field sites\n",
    "7. Extract image data for exploring enviromental conditions for SOC field sites"
   ]
  },
  {
   "cell_type": "markdown",
   "id": "c82bf15b-767a-4637-810b-0547bf4a5428",
   "metadata": {},
   "source": [
    "#### Import Libraries"
   ]
  },
  {
   "cell_type": "code",
   "execution_count": 2,
   "id": "dc883aeb-d99c-4653-a813-9e18eff96b66",
   "metadata": {},
   "outputs": [],
   "source": [
    "%load_ext watermark"
   ]
  },
  {
   "cell_type": "code",
   "execution_count": 1,
   "id": "fe944fc0-e54a-4da1-a161-b43c7b904465",
   "metadata": {},
   "outputs": [],
   "source": [
    "import os\n",
    "\n",
    "import ee, eemont, geemap\n",
    "from geeml.utils import eeprint, getCountry, createGrid\n",
    "from geeml.extract import extractor\n",
    "import geedim\n",
    "from tqdm.auto import tqdm\n",
    "\n",
    "import pandas as pd\n",
    "import fnmatch\n",
    "import warnings\n",
    "warnings.filterwarnings(\"ignore\")"
   ]
  },
  {
   "cell_type": "markdown",
   "id": "ed75b93c-a75f-4bac-86b7-d15a8a0eaa25",
   "metadata": {
    "tags": []
   },
   "source": [
    "#### Authenticate (once per week if local) and alqays if on colab"
   ]
  },
  {
   "cell_type": "code",
   "execution_count": 4,
   "id": "6f40ded6-46e6-459c-8af8-ac68237dc34b",
   "metadata": {},
   "outputs": [],
   "source": [
    "# ee.Authenticate()\n",
    "ee.Initialize()"
   ]
  },
  {
   "cell_type": "markdown",
   "id": "1bd374b5-b882-4fb2-966a-5938ebaa55c6",
   "metadata": {},
   "source": [
    "#### Print python and package versions"
   ]
  },
  {
   "cell_type": "code",
   "execution_count": 5,
   "id": "caf210c9-a43d-492f-85f2-e289d0d5ea76",
   "metadata": {},
   "outputs": [
    {
     "name": "stdout",
     "output_type": "stream",
     "text": [
      "Python implementation: CPython\n",
      "Python version       : 3.9.12\n",
      "IPython version      : 8.5.0\n",
      "\n",
      "Compiler    : MSC v.1916 64 bit (AMD64)\n",
      "OS          : Windows\n",
      "Release     : 10\n",
      "Machine     : AMD64\n",
      "Processor   : Intel64 Family 6 Model 165 Stepping 2, GenuineIntel\n",
      "CPU cores   : 12\n",
      "Architecture: 64bit\n",
      "\n",
      "ee    : 0.1.327\n",
      "geedim: 1.5.3\n",
      "pandas: 1.5.0\n",
      "eemont: 0.3.5\n",
      "geemap: 0.17.1\n",
      "\n"
     ]
    }
   ],
   "source": [
    "# Print 1) Venv version and 2)imported package versions \n",
    "%watermark -v -m --iversions"
   ]
  },
  {
   "cell_type": "markdown",
   "id": "ddea5306-ddca-4ff6-8040-b171d8b723cf",
   "metadata": {},
   "source": [
    "#### Define the area of interest (kenya) and a vegetation mask (removes buildings and open water)"
   ]
  },
  {
   "cell_type": "code",
   "execution_count": 6,
   "id": "50eab5ea-8a06-449a-ad5c-cc24279dde8d",
   "metadata": {},
   "outputs": [],
   "source": [
    "# Create a point within Kenya\n",
    "aoi = ee.Geometry.Point([37.857884,-0.002197])\n",
    "# Load simplified country boundaries from GEE\n",
    "countries = ee.FeatureCollection('USDOS/LSIB_SIMPLE/2017')\n",
    "# use defined point to select Kenya boundary\n",
    "kenya = countries.filterBounds(aoi)\n",
    "\n",
    "# Create a mask to remove building and water pixels as based on the worldcover dataset\n",
    "landcover = ee.ImageCollection(\"ESA/WorldCover/v100\")\n",
    "lcmask = landcover.filterBounds(kenya).mosaic().neq([50, 70, 80]).reduce(ee.Reducer.max())# buildings, snow/ice/ and open water\n",
    "# eeprint(lcmask)"
   ]
  },
  {
   "cell_type": "code",
   "execution_count": 7,
   "id": "bd914b77-4983-4db0-8bf6-9e9f60f423c8",
   "metadata": {},
   "outputs": [],
   "source": [
    "# Load GEDI biomass data\n",
    "l4b = ee.Image('LARSE/GEDI/GEDI04_B_002')\n",
    "# Select mean biomass band/update to extent of vegetation and kenya boundary. Rename to 'biomass'.\n",
    "target = l4b.select('MU').updateMask(lcmask).rename('biomass').clip(kenya)"
   ]
  },
  {
   "cell_type": "markdown",
   "id": "7d29b7c3-76be-4e75-8c8c-f0697ca3e255",
   "metadata": {},
   "source": [
    "## 1. Extract Planet data at GEDI Biomass points within Kenya"
   ]
  },
  {
   "cell_type": "code",
   "execution_count": null,
   "id": "6c079ea1-ea28-418d-a705-026fec145d0e",
   "metadata": {},
   "outputs": [],
   "source": [
    "# Planet data\n",
    "planet = ee.ImageCollection(\"projects/planet-nicfi/assets/basemaps/africa\")\n",
    "# Compute percentile RGB NIR bands for planet data\n",
    "monthlyPlanet = planet.filterBounds(kenya).filter(ee.Filter.eq('cadence','monthly'))\\\n",
    "                        .reduce(ee.Reducer.percentile([5,25,50,75,95]))"
   ]
  },
  {
   "cell_type": "code",
   "execution_count": null,
   "id": "65946e52-7563-4fc8-afa4-07768f1afd36",
   "metadata": {
    "tags": []
   },
   "outputs": [],
   "source": [
    "# Extract Planet data\n",
    "dd = r'C:\\Users\\coach\\myfiles\\conservation\\Handover\\AGBD\\Data\\inputs'\n",
    "biomassextractor = extractor(monthlyPlanet.addBands(target), kenya.geometry(), 1000, dd, target, 50000, 25)\n",
    "\n",
    "# For GEDI pixels, extract planet data at pixels\n",
    "biomassextractor.extractPoints(gridSize = 20000, batchSize = 10000, filename = 'biomassPlanet.csv')"
   ]
  },
  {
   "cell_type": "markdown",
   "id": "aa565984-b2de-46c8-8f40-305097461eb5",
   "metadata": {},
   "source": [
    "## 2. Extract Sentinel-2 data at GEDI Biomass points within Kenya"
   ]
  },
  {
   "cell_type": "code",
   "execution_count": 17,
   "id": "b5b9bea3-0b2e-46bd-a268-db838eb8588b",
   "metadata": {},
   "outputs": [],
   "source": [
    "# Sentinel\n",
    "s2 = ee.ImageCollection('COPERNICUS/S2_SR_HARMONIZED')\n",
    "# Compute percentile RGB NIR bands for sentinel data\n",
    "covariates = s2.filterBounds(kenya).filterDate('2019-04-18', '2021-08-04').select(['B4', 'B3', 'B2', 'B8'])\\\n",
    "    .reduce(ee.Reducer.percentile([5,25,50,75,95]))"
   ]
  },
  {
   "cell_type": "code",
   "execution_count": 18,
   "id": "3a6d4a22-246b-437a-be27-1a0093dcdcb9",
   "metadata": {},
   "outputs": [
    {
     "data": {
      "application/vnd.jupyter.widget-view+json": {
       "model_id": "bec6a390e1aa4e06a1b593114c704347",
       "version_major": 2,
       "version_minor": 0
      },
      "text/plain": [
       "Points: |                                                                              | [  0.0%] in 00:00 (et…"
      ]
     },
     "metadata": {},
     "output_type": "display_data"
    }
   ],
   "source": [
    "#  Extract Sentinel data\n",
    "dd = r'C:\\Users\\coach\\myfiles\\conservation\\Handover\\AGBD\\Data\\inputs'\n",
    "biomassextractor = extractor(covariates.addBands(target), kenya.geometry(), 1000, dd, target, 50000, 25)\n",
    "\n",
    "# For GEDI pixels, extract sentinel data at pixels\n",
    "biomassextractor.extractPoints(gridSize = 30000, batchSize = 15000, filename = 'biomassS2.csv')"
   ]
  },
  {
   "cell_type": "markdown",
   "id": "dc7db1d8-b8c1-4448-9192-94370f8b9e5e",
   "metadata": {},
   "source": [
    "## 3. (Optional) Download Image (biomass) GEDI data (1km spatial resolution) for Kenya"
   ]
  },
  {
   "cell_type": "code",
   "execution_count": 6,
   "id": "33201310-8492-4cff-8b93-cb5e40b1af77",
   "metadata": {},
   "outputs": [],
   "source": [
    "# poi = ee.Geometry.Point([5.627073,51.900901]) # Netherlands\n",
    "poi = ee.Geometry.Point([37.857884,-0.002197])# Kenya\n",
    "aoi = getCountry(poi)"
   ]
  },
  {
   "cell_type": "code",
   "execution_count": 7,
   "id": "9cc21aa9-6b61-4534-96e7-6e2ac8bbcb75",
   "metadata": {
    "tags": []
   },
   "outputs": [
    {
     "data": {
      "application/vnd.jupyter.widget-view+json": {
       "model_id": "abd5ac85e55243debbd8c25b68c3f065",
       "version_major": 2,
       "version_minor": 0
      },
      "text/plain": [
       "Y_GEDI_biomass.tif: |                                                 | 0.00/3.86M (raw) [  0.0%] in 00:00 (et…"
      ]
     },
     "metadata": {},
     "output_type": "display_data"
    }
   ],
   "source": [
    "landcover = ee.ImageCollection(\"ESA/WorldCover/v100\")\n",
    "lcmask = landcover.filterBounds(aoi).mosaic().neq([50, 70, 80]).reduce(ee.Reducer.max())# buildings, snow/ice/ and open water\n",
    "# eeprint(lcmask)\n",
    "l4b = ee.Image('LARSE/GEDI/GEDI04_B_002')\n",
    "target = l4b.select('MU').updateMask(lcmask).rename('biomass').clip(aoi)\n",
    "\n",
    "filename = Path(r'C:\\Users\\coach\\myfiles\\conservation\\Handover\\TCH\\Data\\inputs\\DNN\\Y_GEDI_biomass.tif')\n",
    "BaseImage(target.unmask(0).clip(aoi)).download(filename, crs='EPSG:4326', region= aoi.geometry(), scale=1000, overwrite=True, num_threads=20)"
   ]
  },
  {
   "cell_type": "markdown",
   "id": "52d373dc-55bf-4a8b-a3d1-5f15e96aea4d",
   "metadata": {},
   "source": [
    "## 4. Additional covaraiates to extract from GEE"
   ]
  },
  {
   "cell_type": "markdown",
   "id": "d720a005-bf4a-491c-a477-1288be194e2f",
   "metadata": {},
   "source": [
    "#### Define spatio-temporal parameters for computing covariates"
   ]
  },
  {
   "cell_type": "code",
   "execution_count": 8,
   "id": "c1ac5f2f-7153-477d-bcd2-a901437aa76f",
   "metadata": {},
   "outputs": [],
   "source": [
    "# period of GEDI biomass data\n",
    "startDate = '2019-04-18'\n",
    "endDate = '2021-08-04'\n",
    "\n",
    "# Kenya extent\n",
    "poi = ee.Geometry.Point([37.857884,-0.002197])\n",
    "countries = ee.FeatureCollection('USDOS/LSIB_SIMPLE/2017')\n",
    "kenya = countries.filterBounds(poi)"
   ]
  },
  {
   "cell_type": "markdown",
   "id": "db74bb15-b54c-4de0-86fa-73af1cd826bc",
   "metadata": {},
   "source": [
    "### Optical"
   ]
  },
  {
   "cell_type": "code",
   "execution_count": 9,
   "id": "2b469c8c-1553-46e0-9b3c-9590c1498d51",
   "metadata": {},
   "outputs": [],
   "source": [
    "# PlanetScope data - VNIR percetile data (Not currently included in final covariates list)\n",
    "planet = ee.ImageCollection(\"projects/planet-nicfi/assets/basemaps/africa\")\n",
    "monthlyPlanet = planet.filterBounds(kenya).filter(ee.Filter.eq('cadence','monthly'))\\\n",
    "                    .filterDate(startDate, endDate)\\\n",
    "                    .reduce(ee.Reducer.percentile([5,25,50,75,95]))"
   ]
  },
  {
   "cell_type": "code",
   "execution_count": 10,
   "id": "d7c61215-708d-4247-b16b-b10271d41db1",
   "metadata": {},
   "outputs": [],
   "source": [
    "# Sentinel-2 data filtered for scenes with less tha 35% cover and scaling factors applied.\n",
    "s2 = ee.ImageCollection('COPERNICUS/S2_SR_HARMONIZED')\n",
    "s2_filtered = s2.filterDate(startDate, endDate).filterBounds(kenya).filter(ee.Filter.lte('CLOUDY_PIXEL_PERCENTAGE', 35))\\\n",
    ".map(lambda i: i.divide(10000))"
   ]
  },
  {
   "cell_type": "code",
   "execution_count": 11,
   "id": "9d96f2b5-5989-4f9d-8263-051e5e62693d",
   "metadata": {},
   "outputs": [],
   "source": [
    "# Landsat- 8 and Landsat-9\n",
    "\n",
    "# Apply scaling factors.\n",
    "def landsatScale(image):\n",
    "    opticalBands = image.select('SR_B.').multiply(0.0000275).add(-0.2)\n",
    "    thermalBands = image.select('ST_B.*').multiply(0.00341802).add(149.0)\n",
    "    return image.addBands(opticalBands, None, True)\\\n",
    "              .addBands(thermalBands, None, True)\n",
    "\n",
    "l8 = ee.ImageCollection(\"LANDSAT/LC08/C02/T1_L2\")\n",
    "l8_filtered = l8.filterDate(startDate, endDate).filterBounds(kenya)\\\n",
    ".filter(ee.Filter.lte('CLOUDY_PIXEL_PERCENTAGE', 35)).map(landsatScale)\n",
    "\n",
    "l9 = ee.ImageCollection('LANDSAT/LC09/C02/T1_L2')\n",
    "l9_filtered = l9.filterDate(startDate, endDate).filterBounds(kenya)\\\n",
    ".filter(ee.Filter.lte('CLOUDY_PIXEL_PERCENTAGE', 35)).map(landsatScale)"
   ]
  },
  {
   "cell_type": "code",
   "execution_count": 12,
   "id": "d41c248c-a4ea-4efc-8c6b-ec240083e09d",
   "metadata": {
    "tags": []
   },
   "outputs": [],
   "source": [
    "# Compute median s2, l8 and l9 images\n",
    "S2 = s2.select('B.*').median().regexpRename('$', '_s2')\n",
    "L8 = l8.select([\"SR_B1\",\"SR_B2\",\"SR_B3\",\"SR_B4\",\"SR_B5\",\"SR_B6\",\"SR_B7\",\"ST_B10\"])\\\n",
    ".median().regexpRename('$', '_l8')\n",
    "L9 = l9.select([\"SR_B1\",\"SR_B2\",\"SR_B3\",\"SR_B4\",\"SR_B5\",\"SR_B6\",\"SR_B7\",\"ST_B10\"])\\\n",
    ".median().regexpRename('$', '_l9')"
   ]
  },
  {
   "cell_type": "code",
   "execution_count": 13,
   "id": "ef145aea-8ca3-42f2-b568-717095a6723e",
   "metadata": {
    "tags": []
   },
   "outputs": [],
   "source": [
    "# Compute NDVI - uses eemont\n",
    "S2VI = s2_filtered.spectralIndices('NDVI', drop=True).median().regexpRename('$', '_s2')"
   ]
  },
  {
   "cell_type": "code",
   "execution_count": 10,
   "id": "3bc4f9bf-0abf-4aad-a389-1f0beed4f514",
   "metadata": {},
   "outputs": [
    {
     "data": {
      "text/html": [
       "<div id=\"11a85a99-2422-4c19-8c58-17c62505f93e\" style=\"height: auto; width:100%;\"></div>"
      ],
      "text/plain": [
       "<IPython.core.display.HTML object>"
      ]
     },
     "metadata": {},
     "output_type": "display_data"
    },
    {
     "data": {
      "text/html": [
       "\n",
       "        <script src=\"/static/components/requirejs/require.js\"></script> <!-- Needed in Colab -->\n",
       "        <script>\n",
       "            require([\"https://rawgit.com/caldwell/renderjson/master/renderjson.js\"], function() {\n",
       "              renderjson.set_show_to_level(1)\n",
       "              document.getElementById('11a85a99-2422-4c19-8c58-17c62505f93e').appendChild(renderjson(['NDVI_s2']))\n",
       "            });\n",
       "        </script>\n",
       "    "
      ],
      "text/plain": [
       "<IPython.core.display.HTML object>"
      ]
     },
     "metadata": {},
     "output_type": "display_data"
    }
   ],
   "source": [
    "eeprint(S2VI.bandNames())"
   ]
  },
  {
   "cell_type": "markdown",
   "id": "4b3c9844-e5ca-41ea-a09f-4308c3dd377d",
   "metadata": {},
   "source": [
    "### Radar"
   ]
  },
  {
   "cell_type": "code",
   "execution_count": 14,
   "id": "19e9c997-8e25-436d-910b-65d22a750b44",
   "metadata": {},
   "outputs": [],
   "source": [
    "# Sentinel-1\n",
    "# Global normalised backscatter\n",
    "VH = ee.ImageCollection(\"projects/sat-io/open-datasets/S1GBM/normalized_s1_backscatter_VH\")\\\n",
    ".filterBounds(kenya).mosaic().clip(kenya).rename('normalized_VH')\n",
    "VV = ee.ImageCollection(\"projects/sat-io/open-datasets/S1GBM/normalized_s1_backscatter_VV\")\\\n",
    ".filterBounds(kenya).mosaic().clip(kenya).rename('normalized_VV')"
   ]
  },
  {
   "cell_type": "code",
   "execution_count": 15,
   "id": "7cab7ab2-4f48-4c80-b5d1-3270dac644e7",
   "metadata": {},
   "outputs": [],
   "source": [
    "# Alos palsar-2\n",
    "def scaleAlos(image):\n",
    "    return image.pow(2).log10().multiply(10).subtract(83)\n",
    "\n",
    "Palsar = ee.ImageCollection(\"JAXA/ALOS/PALSAR/YEARLY/SAR_EPOCH\").filterBounds(aoi)\\\n",
    ".select(['HH', 'HV']).map(scaleAlos).mosaic()"
   ]
  },
  {
   "cell_type": "markdown",
   "id": "9e8ed9cd-383f-4953-a8b2-57ea49a9d6d2",
   "metadata": {},
   "source": [
    "### Tree related variables"
   ]
  },
  {
   "cell_type": "code",
   "execution_count": 16,
   "id": "9b415691-8749-4e4d-97de-73fed9f2c454",
   "metadata": {},
   "outputs": [],
   "source": [
    "# tree canopy layer (brandt)\n",
    "tree_canopy = ee.ImageCollection('projects/wri-datalab/TML').filterBounds(kenya).mosaic().rename('tree_canopy')\n",
    "\n",
    "# tree canopy height (lang)\n",
    "canopy_height = ee.Image(\"users/nlang/ETH_GlobalCanopyHeight_2020_10m_v1\").clip(kenya).rename('lang_CHM')\n",
    "ch_standard_deviation = ee.Image(\"users/nlang/ETH_GlobalCanopyHeightSD_2020_10m_v1\").clip(kenya).rename('lang_CHM_sd')\n",
    "\n",
    "# tree type (decidous, broad leaf, needleaf)\n",
    "tree_type = ee.ImageCollection(\"MODIS/006/MCD12Q1\").filterBounds(kenya).select('LC_Type1').mosaic()\n",
    "\n",
    "# Global consensus landcover\n",
    "barren = ee.Image(\"projects/sat-io/open-datasets/global_consensus_landcover/barren\")\n",
    "cultivated_and_managed_vegetation = ee.Image(\"projects/sat-io/open-datasets/global_consensus_landcover/cultivated_and_managed_vegetation\");\n",
    "deciduous_broadleaf_trees = ee.Image(\"projects/sat-io/open-datasets/global_consensus_landcover/deciduous_broadleaf_trees\");\n",
    "evergreen_deciduous_needleleaf_trees = ee.Image(\"projects/sat-io/open-datasets/global_consensus_landcover/evergreen-deciduous_needleleaf_trees\");\n",
    "evergreen_broadleaf_trees = ee.Image(\"projects/sat-io/open-datasets/global_consensus_landcover/evergreen_broadleaf_trees\");\n",
    "herbaceous_vegetation = ee.Image(\"projects/sat-io/open-datasets/global_consensus_landcover/herbaceous_vegetation\");\n",
    "mixed_other_trees = ee.Image(\"projects/sat-io/open-datasets/global_consensus_landcover/mixed-other_trees\");\n",
    "regularly_flooded_vegetation = ee.Image(\"projects/sat-io/open-datasets/global_consensus_landcover/regularly_flooded_vegetation\");\n",
    "shrubs = ee.Image(\"projects/sat-io/open-datasets/global_consensus_landcover/shrubs\");\n",
    "consensus_LC = barren.rename('gcl_barren').addBands([cultivated_and_managed_vegetation.rename('gcl_cultivated_managed_veg')\\\n",
    "                                , deciduous_broadleaf_trees.rename('gcl_dec_BL'),\\\n",
    "                                evergreen_deciduous_needleleaf_trees.rename('gcl_dec_NL'), evergreen_broadleaf_trees.rename('gcl_EG_BL'),\\\n",
    "                                herbaceous_vegetation.rename('gcl_HerbV'), mixed_other_trees.rename('gcl_mixed_other')\\\n",
    "                                , regularly_flooded_vegetation.rename('gcl_flood_veg'),shrubs.rename('gcl_shrubs')]).clip(kenya)\n",
    "\n",
    "# fapar\n",
    "fapar = ee.ImageCollection(\"NOAA/CDR/AVHRR/LAI_FAPAR/V5\")\\\n",
    ".filterDate(startDate, endDate).filterBounds(kenya).mosaic().divide(1000).select(['FAPAR','LAI'])"
   ]
  },
  {
   "cell_type": "markdown",
   "id": "c2869cbb-41e9-4134-ab11-6d94c6500325",
   "metadata": {},
   "source": [
    "### Topographic related variables"
   ]
  },
  {
   "cell_type": "code",
   "execution_count": 17,
   "id": "7adc2591-1cfc-4796-856b-1b75ac5ddb6b",
   "metadata": {},
   "outputs": [],
   "source": [
    "# elevation\n",
    "dsm = ee.ImageCollection(\"projects/sat-io/open-datasets/GLO-30\").filterBounds(kenya).mosaic().clip(kenya).rename('dsm')\n",
    "dtm = ee.ImageCollection(\"projects/sat-io/open-datasets/FABDEM\").filterBounds(kenya).mosaic().clip(kenya).rename('dtm')\n",
    "\n",
    "# Height above nearest drainage\n",
    "hand = ee.ImageCollection(\"users/gena/global-hand/hand-100\").filterBounds(kenya).mosaic().clip(kenya).rename('hand')\n",
    "\n",
    "# Geomorphology\n",
    "cti = ee.ImageCollection(\"projects/sat-io/open-datasets/Geomorpho90m/cti\")\\\n",
    ".filterBounds(kenya).mosaic().clip(kenya).rename('compound_terrain_index')\n",
    "tri = ee.ImageCollection(\"projects/sat-io/open-datasets/Geomorpho90m/tri\")\\\n",
    ".filterBounds(kenya).mosaic().clip(kenya).rename('terrain_ruggedness_index')\n",
    "slope = ee.ImageCollection(\"projects/sat-io/open-datasets/Geomorpho90m/slope\")\\\n",
    ".filterBounds(kenya).mosaic().clip(kenya).rename('slope')\n",
    "vrm = ee.ImageCollection(\"projects/sat-io/open-datasets/Geomorpho90m/vrm\")\\\n",
    ".filterBounds(kenya).mosaic().clip(kenya).rename('vector_ruggedness_measure')\n",
    "roughness = ee.ImageCollection(\"projects/sat-io/open-datasets/Geomorpho90m/roughness\")\\\n",
    ".filterBounds(kenya).mosaic().clip(kenya).rename('roughness')\n",
    "tpi = ee.ImageCollection(\"projects/sat-io/open-datasets/Geomorpho90m/tpi\")\\\n",
    ".filterBounds(kenya).mosaic().clip(kenya).rename('topo_pos_ind')\n",
    "spi = ee.ImageCollection(\"projects/sat-io/open-datasets/Geomorpho90m/spi\")\\\n",
    ".filterBounds(kenya).mosaic().clip(kenya).rename('stream_power_index')\n",
    "\n",
    "geomorph = cti.addBands([tri,slope,vrm,roughness,tpi,spi])"
   ]
  },
  {
   "cell_type": "markdown",
   "id": "c9de6592-3e97-4aea-9156-6a3525b58495",
   "metadata": {},
   "source": [
    "## Habitat, ecoregions"
   ]
  },
  {
   "cell_type": "code",
   "execution_count": 18,
   "id": "4201e42f-bc9a-4ad0-8ea4-5dee89db207d",
   "metadata": {},
   "outputs": [],
   "source": [
    "# ecoregions\n",
    "ecoregions = ee.FeatureCollection(\"RESOLVE/ECOREGIONS/2017\").filterBounds(kenya)\\\n",
    ".reduceToImage(ee.List(['BIOME_NUM']), ee.Reducer.first())\\\n",
    ".rename('ecoregion_number')\n",
    "\n",
    "# IUCN habitat classification\n",
    "# Level 1 and level 2 for the year 2015\n",
    "lvl1 = ee.Image(\"users/Uploads/habitattypes/iucn_habitatclassification_composite_lvl1_ver004\").clip(kenya)\n",
    "lvl2 = ee.Image(\"users/Uploads/habitattypes/iucn_habitatclassification_composite_lvl2_ver004\").clip(kenya)\n",
    "\n",
    "# # Changemask for 2019\n",
    "change2019_lvl1 = ee.Image(\"users/Uploads/habitattypes/changemasks2019/iucn_habitatclassification_2019changemask_lvl1_ver004\")\\\n",
    ".select('comp2019').unmask(0).clip(kenya)\n",
    "change2019_lvl2 = ee.Image(\"users/Uploads/habitattypes/changemasks2019/iucn_habitatclassification_2019changemask_lvl2_ver004\")\\\n",
    ".select('comp2019').unmask(0).clip(kenya)\n",
    "\n",
    "# Level 1 and level 2 for the year 2019\n",
    "lvl12019 = change2019_lvl1.firstNonZero(lvl1).rename('hab2019_l1')\n",
    "lvl22019 = change2019_lvl2.firstNonZero(lvl2).rename('hab2019_l2')\n",
    "# eeprint(lvl22019)"
   ]
  },
  {
   "cell_type": "code",
   "execution_count": 19,
   "id": "74ca9f72-0112-4e23-8668-fa45b9962da5",
   "metadata": {},
   "outputs": [],
   "source": [
    "# Bare Surface\n",
    "bare_surface = ee.Image('users/geocis/BareSurfaces/BS_1980_2019').clip(kenya).regexpRename('$', '_bare_spectra')\n",
    "bare_frequency = ee.Image('users/geocis/BareSurfaces/BF_1980_2019').clip(kenya).rename('bare_freq')"
   ]
  },
  {
   "cell_type": "code",
   "execution_count": 20,
   "id": "18775e2c-ed05-45a1-9b55-c916b83c98c2",
   "metadata": {},
   "outputs": [],
   "source": [
    "# Net Primary Productivity\n",
    "NPP = ee.ImageCollection('FAO/WAPOR/2/L1_NPP_D').filterBounds(kenya).mosaic().clip(kenya).divide(1000).rename('NPP')\n",
    "\n",
    "# Actual evapotranspiration\n",
    "AET = ee.ImageCollection('FAO/WAPOR/2/L1_AETI_D').filterBounds(kenya).mosaic().clip(kenya).divide(10).rename('AET')"
   ]
  },
  {
   "cell_type": "code",
   "execution_count": 21,
   "id": "99d94ea2-f6cf-4357-a760-a69ed7cd887a",
   "metadata": {},
   "outputs": [],
   "source": [
    "# LULC- wordcover 2020\n",
    "worldcover = ee.ImageCollection(\"ESA/WorldCover/v100\").filterBounds(kenya).mosaic().clip(kenya).rename('worldcover')"
   ]
  },
  {
   "cell_type": "markdown",
   "id": "cd47f06a-55a7-4073-8879-57eff0a852b1",
   "metadata": {},
   "source": [
    "### Irrecoverable carbon"
   ]
  },
  {
   "cell_type": "code",
   "execution_count": 22,
   "id": "663e881f-224f-4f3f-b028-fd45180c1760",
   "metadata": {},
   "outputs": [],
   "source": [
    "irrecoverable_carbon_total = ee.ImageCollection(\"projects/sat-io/open-datasets/irrecoverable_carbon/carbon_total\")\\\n",
    ".filterBounds(kenya).mosaic().clip(kenya).rename('irrecoverable_C_total')\n",
    "irrecoverable_carbon_soil = ee.ImageCollection(\"projects/sat-io/open-datasets/irrecoverable_carbon/carbon_soil\")\\\n",
    ".filterBounds(kenya).mosaic().clip(kenya).rename('irrecoverable_C_soil')\n",
    "irrecoverable_carbon_biomass = ee.ImageCollection(\"projects/sat-io/open-datasets/irrecoverable_carbon/carbon_biomass\")\\\n",
    ".filterBounds(kenya).mosaic().clip(kenya).rename('irrecoverable_C_soil')\n",
    "vulnerable_carbon_total = ee.ImageCollection(\"projects/sat-io/open-datasets/vulnerable_carbon/carbon_total\")\\\n",
    ".filterBounds(kenya).mosaic().clip(kenya).rename('vulnerable_C_total')\n",
    "vulnerable_carbon_soil = ee.ImageCollection(\"projects/sat-io/open-datasets/vulnerable_carbon/carbon_soil\")\\\n",
    ".filterBounds(kenya).mosaic().clip(kenya).rename('vulnerable_C_soil')\n",
    "vulnerable_carbon_biomass = ee.ImageCollection(\"projects/sat-io/open-datasets/vulnerable_carbon/carbon_biomass\")\\\n",
    ".filterBounds(kenya).mosaic().clip(kenya).rename('vulnerable_C_biomass')\n",
    "manageable_carbon_total = ee.ImageCollection(\"projects/sat-io/open-datasets/manageable_carbon/carbon_total\")\\\n",
    ".filterBounds(kenya).mosaic().clip(kenya).rename('manageable_C_total')\n",
    "manageable_carbon_soil = ee.ImageCollection(\"projects/sat-io/open-datasets/manageable_carbon/carbon_soil\")\\\n",
    ".filterBounds(kenya).mosaic().clip(kenya).rename('manageable_C_soil')\n",
    "manageable_carbon_biomass = ee.ImageCollection(\"projects/sat-io/open-datasets/manageable_carbon/carbon_biomass\")\\\n",
    ".filterBounds(kenya).mosaic().clip(kenya).rename('manageable_C_biomass')\n",
    "\n",
    "IC = irrecoverable_carbon_total.addBands([irrecoverable_carbon_soil, irrecoverable_carbon_biomass, vulnerable_carbon_total,\\\n",
    "                                         vulnerable_carbon_soil, vulnerable_carbon_biomass, manageable_carbon_total,\\\n",
    "                                         manageable_carbon_soil, manageable_carbon_biomass])"
   ]
  },
  {
   "cell_type": "markdown",
   "id": "dc75196a-73ec-475c-8847-33fe855e91f6",
   "metadata": {},
   "source": [
    "### Soil"
   ]
  },
  {
   "cell_type": "code",
   "execution_count": 23,
   "id": "5db24dce-b560-44e7-b409-eb56ab81a3a8",
   "metadata": {},
   "outputs": [],
   "source": [
    "# Soil grids\n",
    "isric_bdod_mean = ee.Image(\"projects/soilgrids-isric/bdod_mean\").clip(kenya)\n",
    "isric_cec = ee.Image(\"projects/soilgrids-isric/cec_mean\").clip(kenya)\n",
    "isric_cfvo = ee.Image(\"projects/soilgrids-isric/cfvo_mean\").clip(kenya)\n",
    "isric_clay = ee.Image(\"projects/soilgrids-isric/clay_mean\").clip(kenya)\n",
    "isric_sand = ee.Image(\"projects/soilgrids-isric/sand_mean\").clip(kenya)\n",
    "isric_silt = ee.Image(\"projects/soilgrids-isric/silt_mean\").clip(kenya)\n",
    "isric_nitrogen = ee.Image(\"projects/soilgrids-isric/nitrogen_mean\").clip(kenya)\n",
    "isric_phh20 = ee.Image(\"projects/soilgrids-isric/phh2o_mean\").clip(kenya)\n",
    "isric_soc = ee.Image(\"projects/soilgrids-isric/soc_mean\").clip(kenya)\n",
    "isric_ocd = ee.Image(\"projects/soilgrids-isric/ocd_mean\").clip(kenya)\n",
    "isric_ocs = ee.Image(\"projects/soilgrids-isric/ocs_mean\").clip(kenya)\n",
    "\n",
    "isric = isric_bdod_mean.addBands([isric_cec, isric_cfvo, isric_clay, isric_sand, isric_silt, isric_nitrogen, isric_phh20,\n",
    "                                  isric_soc, isric_ocd, isric_ocs])"
   ]
  },
  {
   "cell_type": "code",
   "execution_count": 24,
   "id": "09e0e62d-b6f5-47fb-8d41-cbcd899f40cb",
   "metadata": {},
   "outputs": [],
   "source": [
    "# iSDAsoil\n",
    "bedrock_depth = ee.Image(\"projects/sat-io/open-datasets/iSDAsoil_Africa_30m/bedrock_depth\")\\\n",
    ".clip(kenya).regexpRename('$', '_bedrock_depth')\n",
    "bulk_density = ee.Image(\"projects/sat-io/open-datasets/iSDAsoil_Africa_30m/bulk_density\")\\\n",
    ".clip(kenya).regexpRename('$', '_bulk_density')\n",
    "carbon_organic = ee.Image(\"projects/sat-io/open-datasets/iSDAsoil_Africa_30m/carbon_organic\")\\\n",
    ".clip(kenya).regexpRename('$', '_carbon_organic')\n",
    "carbon_total = ee.Image(\"projects/sat-io/open-datasets/iSDAsoil_Africa_30m/carbon_total\")\\\n",
    ".clip(kenya).regexpRename('$', 'carbon_total')\n",
    "cation_exchange_capacity = ee.Image(\"projects/sat-io/open-datasets/iSDAsoil_Africa_30m/cation_exchange_capacity\")\\\n",
    ".clip(kenya).regexpRename('$', '_cat_ex_cap')\n",
    "clay_content = ee.Image(\"projects/sat-io/open-datasets/iSDAsoil_Africa_30m/clay_content\")\\\n",
    ".clip(kenya).regexpRename('$', '_clay_content')\n",
    "fertility_capability_classification = ee.Image(\"projects/sat-io/open-datasets/iSDAsoil_Africa_30m/fcc\")\\\n",
    ".clip(kenya).regexpRename('$', '_fertility_capability')\n",
    "nitrogen_total = ee.Image(\"projects/sat-io/open-datasets/iSDAsoil_Africa_30m/nitrogen_total\")\\\n",
    ".clip(kenya).regexpRename('$', '_nitrogen_total')\n",
    "ph = ee.Image(\"projects/sat-io/open-datasets/iSDAsoil_Africa_30m/ph\")\\\n",
    ".clip(kenya).regexpRename('$', '_ph')\n",
    "sand_content = ee.Image(\"projects/sat-io/open-datasets/iSDAsoil_Africa_30m/sand_content\")\\\n",
    ".clip(kenya).regexpRename('$', '_sand_content')\n",
    "silt_content = ee.Image(\"projects/sat-io/open-datasets/iSDAsoil_Africa_30m/silt_content\")\\\n",
    ".clip(kenya).regexpRename('$', '_silt_content')\n",
    "stone_content = ee.Image(\"projects/sat-io/open-datasets/iSDAsoil_Africa_30m/stone_content\")\\\n",
    ".clip(kenya).regexpRename('$', '_stone_content')\n",
    "texture_class = ee.Image(\"projects/sat-io/open-datasets/iSDAsoil_Africa_30m/texture_class\")\\\n",
    ".clip(kenya).regexpRename('$', '_texture_class')\n",
    "\n",
    "isda = bedrock_depth.addBands([bulk_density, carbon_organic, carbon_total, cation_exchange_capacity, clay_content,\\\n",
    "                               fertility_capability_classification, nitrogen_total, ph, sand_content, silt_content,\n",
    "                               stone_content, texture_class])"
   ]
  },
  {
   "cell_type": "code",
   "execution_count": 25,
   "id": "9a69217c-b6fc-4ec4-b798-3b718e094106",
   "metadata": {},
   "outputs": [],
   "source": [
    "# HiHydroSoil V2\n",
    "ksat = ee.ImageCollection(\"projects/sat-io/open-datasets/HiHydroSoilv2_0/ksat\")\\\n",
    ".filterBounds(kenya).mosaic().clip(kenya).rename('ksat')\n",
    "satfield = ee.ImageCollection(\"projects/sat-io/open-datasets/HiHydroSoilv2_0/sat-field\")\\\n",
    ".filterBounds(kenya).mosaic().clip(kenya).rename('satfield')\n",
    "N = ee.ImageCollection(\"projects/sat-io/open-datasets/HiHydroSoilv2_0/N\")\\\n",
    ".filterBounds(kenya).mosaic().clip(kenya).rename('N')\n",
    "alpha = ee.ImageCollection(\"projects/sat-io/open-datasets/HiHydroSoilv2_0/alpha\")\\\n",
    ".filterBounds(kenya).mosaic().clip(kenya).rename('alpha')\n",
    "crit_wilt = ee.ImageCollection(\"projects/sat-io/open-datasets/HiHydroSoilv2_0/crit-wilt\")\\\n",
    ".filterBounds(kenya).mosaic().clip(kenya).rename('crit_wilt')\n",
    "field_cirt = ee.ImageCollection(\"projects/sat-io/open-datasets/HiHydroSoilv2_0/field-crit\")\\\n",
    ".filterBounds(kenya).mosaic().clip(kenya).rename('field_cirt')\n",
    "ormc = ee.ImageCollection(\"projects/sat-io/open-datasets/HiHydroSoilv2_0/ormc\")\\\n",
    ".filterBounds(kenya).mosaic().clip(kenya).rename('ormc')\n",
    "stc = ee.ImageCollection(\"projects/sat-io/open-datasets/HiHydroSoilv2_0/stc\")\\\n",
    ".filterBounds(kenya).mosaic().clip(kenya).rename('stc')\n",
    "wcavail = ee.ImageCollection(\"projects/sat-io/open-datasets/HiHydroSoilv2_0/wcavail\")\\\n",
    ".filterBounds(kenya).mosaic().clip(kenya).rename('wcavail')\n",
    "wcpf2 = ee.ImageCollection(\"projects/sat-io/open-datasets/HiHydroSoilv2_0/wcpf2\")\\\n",
    ".filterBounds(kenya).mosaic().clip(kenya).rename('wcpf2')\n",
    "wcpf3 = ee.ImageCollection(\"projects/sat-io/open-datasets/HiHydroSoilv2_0/wcpf3\")\\\n",
    ".filterBounds(kenya).mosaic().clip(kenya).rename('wcpf3')\n",
    "wcpf4_2 = ee.ImageCollection(\"projects/sat-io/open-datasets/HiHydroSoilv2_0/wcpf4-2\")\\\n",
    ".filterBounds(kenya).mosaic().clip(kenya).rename('wcpf4_2s')\n",
    "wcres = ee.ImageCollection(\"projects/sat-io/open-datasets/HiHydroSoilv2_0/wcres\")\\\n",
    ".filterBounds(kenya).mosaic().clip(kenya).rename('wcres')\n",
    "wcsat = ee.ImageCollection(\"projects/sat-io/open-datasets/HiHydroSoilv2_0/wcsat\")\\\n",
    ".filterBounds(kenya).mosaic().clip(kenya).rename('wcsat')\n",
    "\n",
    "hihydro = ksat.addBands([satfield, N, alpha, crit_wilt, field_cirt, ormc, stc\\\n",
    "                         , wcavail, wcpf2, wcpf3, wcpf4_2, wcres, wcsat])"
   ]
  },
  {
   "cell_type": "code",
   "execution_count": 26,
   "id": "ab71c748-7e78-4bc7-9b55-f66cb3d2301c",
   "metadata": {},
   "outputs": [],
   "source": [
    "# Soil salinity\n",
    "soil_salinity = ee.ImageCollection(\"projects/sat-io/open-datasets/global_soil_salinity\").filterBounds(kenya).mosaic().clip(kenya).rename('soil_salinity')"
   ]
  },
  {
   "cell_type": "code",
   "execution_count": 27,
   "id": "e8400a89-5b6b-4775-80b6-2f7d1a86eab2",
   "metadata": {},
   "outputs": [],
   "source": [
    "# Soil moisture\n",
    "soil_moisture = ee.ImageCollection('NASA_USDA/HSL/SMAP10KM_soil_moisture')\\\n",
    ".filterDate(startDate,endDate).filterBounds(kenya)\\\n",
    ".select(['ssm', 'susm']).median().clip(kenya)"
   ]
  },
  {
   "cell_type": "code",
   "execution_count": 28,
   "id": "4c2d0fb1-d900-4ef6-9dc7-52542b3faea7",
   "metadata": {},
   "outputs": [],
   "source": [
    "# night time lights\n",
    "viirs_ntl = ee.ImageCollection(\"projects/sat-io/open-datasets/npp-viirs-ntl\").filterBounds(kenya).mosaic().clip(kenya).rename('viirs_ntl')"
   ]
  },
  {
   "cell_type": "markdown",
   "id": "2ba2d515-09c4-4af8-82ed-e443f631d3fa",
   "metadata": {},
   "source": [
    "### Socio-economic variables"
   ]
  },
  {
   "cell_type": "code",
   "execution_count": 29,
   "id": "ce63f70e-688b-47cc-91a9-4acc4e06680e",
   "metadata": {},
   "outputs": [],
   "source": [
    "# social data - rwi, gdp, hdi\n",
    "rwi = ee.FeatureCollection(\"projects/sat-io/open-datasets/facebook/relative_wealth_index\")\\\n",
    ".filterBounds(kenya)\\\n",
    ".reduceToImage(['rwi'], ee.Reducer.first())\\\n",
    ".unmask()\\\n",
    ".rename('rwi')\n",
    "\n",
    "gdp_ppp = ee.Image(\"projects/sat-io/open-datasets/GRIDDED_HDI_GDP/GDP_PPP_1990_2015_5arcmin_v2\")\\\n",
    ".clip(kenya).select('b26').rename('GDP')\n",
    "\n",
    "hdi = ee.Image(\"projects/sat-io/open-datasets/GRIDDED_HDI_GDP/HDI_1990_2015_v2\")\\\n",
    ".clip(kenya).select('b26').rename('HDI')\n",
    "\n",
    "global_CISI = ee.Image(\"projects/sat-io/open-datasets/CISI/global_CISI\")\\\n",
    ".clip(kenya).rename('CISI')\n",
    "\n",
    "infrastructure = ee.ImageCollection(\"projects/sat-io/open-datasets/CISI/amount_infrastructure\")\\\n",
    ".filterBounds(kenya).mosaic().clip(kenya).rename('amt_infra')"
   ]
  },
  {
   "cell_type": "markdown",
   "id": "8ac63a5d-80bd-48ef-a96f-50546b7eb65b",
   "metadata": {},
   "source": [
    "#### Habitat Heterogeneity"
   ]
  },
  {
   "cell_type": "code",
   "execution_count": 30,
   "id": "28bcb976-4a25-4796-8134-c30ee6e5d618",
   "metadata": {},
   "outputs": [],
   "source": [
    "cov = ee.Image(\"projects/sat-io/open-datasets/global_habitat_heterogeneity/coefficient_of_variation_1km\")\\\n",
    ".clip(kenya).rename('cov')\n",
    "contrast = ee.Image(\"projects/sat-io/open-datasets/global_habitat_heterogeneity/contrast_1km\")\\\n",
    ".clip(kenya).rename('contrast')\n",
    "corr = ee.Image(\"projects/sat-io/open-datasets/global_habitat_heterogeneity/correlation_1km\")\\\n",
    ".clip(kenya).rename('corr')\n",
    "dissimilarity = ee.Image(\"projects/sat-io/open-datasets/global_habitat_heterogeneity/dissimilarity_1km\")\\\n",
    ".clip(kenya).rename('dissimilarity')\n",
    "entropy = ee.Image(\"projects/sat-io/open-datasets/global_habitat_heterogeneity/entropy_1km\")\\\n",
    ".clip(kenya).rename('entropy')\n",
    "homogeneity = ee.Image(\"projects/sat-io/open-datasets/global_habitat_heterogeneity/homogeneity_1km\")\\\n",
    ".clip(kenya).rename('homogeneity')\n",
    "maximum = ee.Image(\"projects/sat-io/open-datasets/global_habitat_heterogeneity/maximum_1km\")\\\n",
    ".clip(kenya).rename('maximum')\n",
    "mean = ee.Image(\"projects/sat-io/open-datasets/global_habitat_heterogeneity/mean_1km\")\\\n",
    ".clip(kenya).rename('mean')\n",
    "pielou = ee.Image(\"projects/sat-io/open-datasets/global_habitat_heterogeneity/pielou_1km\")\\\n",
    ".clip(kenya).rename('pielou')\n",
    "hrange = ee.Image(\"projects/sat-io/open-datasets/global_habitat_heterogeneity/range_1km\")\\\n",
    ".clip(kenya).rename('range')\n",
    "shannon = ee.Image(\"projects/sat-io/open-datasets/global_habitat_heterogeneity/shannon_1km\")\\\n",
    ".clip(kenya).rename('shannon')\n",
    "simpson = ee.Image(\"projects/sat-io/open-datasets/global_habitat_heterogeneity/simpson_1km\")\\\n",
    ".clip(kenya).rename('simpson')\n",
    "sd = ee.Image(\"projects/sat-io/open-datasets/global_habitat_heterogeneity/standard_deviation_1km\")\\\n",
    ".clip(kenya).rename('sd')\n",
    "uniformity = ee.Image(\"projects/sat-io/open-datasets/global_habitat_heterogeneity/uniformity_1km\")\\\n",
    ".clip(kenya).rename('uniformity')\n",
    "variance = ee.Image(\"projects/sat-io/open-datasets/global_habitat_heterogeneity/variance_1km\")\\\n",
    ".clip(kenya).rename('variance')\n",
    "\n",
    "heterogeneity = cov.addBands([contrast, corr, dissimilarity, entropy, homogeneity, maximum,\\\n",
    "                              mean, pielou, hrange, shannon, simpson,sd, uniformity, variance])"
   ]
  },
  {
   "cell_type": "markdown",
   "id": "4bf482ab-5a48-4924-a82d-1e7699f835a9",
   "metadata": {},
   "source": [
    "#### Cloud frequency"
   ]
  },
  {
   "cell_type": "code",
   "execution_count": 31,
   "id": "1d4453fd-90ba-4f71-92d3-98feee460cc9",
   "metadata": {},
   "outputs": [],
   "source": [
    "# EarthEnv Cloud Frequency v1.0\n",
    "cloud_forest_prediction = ee.Image(\"projects/sat-io/open-datasets/gcc/MODCF_CloudForestPrediction\")\\\n",
    ".clip(kenya).rename('cloud_forest_prediction')\n",
    "interannual_sd = ee.Image(\"projects/sat-io/open-datasets/gcc/MODCF_interannualSD\")\\\n",
    ".clip(kenya).rename('interannual_sd')\n",
    "intrannual_sd = ee.Image(\"projects/sat-io/open-datasets/gcc/MODCF_intraannualSD\")\\\n",
    ".clip(kenya).rename('intrannual_sd')\n",
    "mean_annual = ee.Image(\"projects/sat-io/open-datasets/gcc/MODCF_meanannual\")\\\n",
    ".clip(kenya).rename('mean_annual')\n",
    "monthly_mean = ee.ImageCollection(\"projects/sat-io/open-datasets/gcc/MODCF_monthlymean\")\\\n",
    ".filterBounds(kenya).mosaic().clip(kenya).rename('monthly_mean')\n",
    "seasonality_concentration = ee.Image(\"projects/sat-io/open-datasets/gcc/MODCF_seasonality_concentration\")\\\n",
    ".clip(kenya).rename('seasonality_concentration')\n",
    "seasonality_theta = ee.Image(\"projects/sat-io/open-datasets/gcc/MODCF_seasonality_theta\")\\\n",
    ".clip(kenya).rename('seasonality_theta')\n",
    "seasonality_visct = ee.Image(\"projects/sat-io/open-datasets/gcc/MODCF_seasonality_visct\")\\\n",
    ".clip(kenya).rename('seasonality_visct')\n",
    "spatial_sd_1deg = ee.Image(\"projects/sat-io/open-datasets/gcc/MODCF_spatialSD_1deg\")\\\n",
    ".clip(kenya).rename('spatial_sd_1deg')\n",
    "\n",
    "cloud = cloud_forest_prediction.addBands([interannual_sd, intrannual_sd, mean_annual, monthly_mean,\\\n",
    "                                          seasonality_concentration, seasonality_theta,\\\n",
    "                                          seasonality_visct, spatial_sd_1deg])"
   ]
  },
  {
   "cell_type": "markdown",
   "id": "84106f71-93ce-4e5d-bb6d-aaa80affacc5",
   "metadata": {},
   "source": [
    "#### Evapotranspiration"
   ]
  },
  {
   "cell_type": "code",
   "execution_count": 32,
   "id": "ebc3180d-7653-48e9-b77a-221c18f21d26",
   "metadata": {},
   "outputs": [],
   "source": [
    "et_monthly = ee.ImageCollection(\"projects/sat-io/open-datasets/global_et0/global_et0_monthly\")\\\n",
    ".filterBounds(kenya).mosaic().clip(kenya).rename('et_monthly')\n",
    "et_yearly = ee.Image(\"projects/sat-io/open-datasets/global_et0/global_et0_yearly\")\\\n",
    ".clip(kenya).rename('et_yearly')\n",
    "et_yearly_sd = ee.Image(\"projects/sat-io/open-datasets/global_et0/global_et0_yearly_sd\")\\\n",
    ".clip(kenya).rename('et_yearly_sd')\n",
    "et = et_monthly.addBands([et_yearly, et_yearly_sd])"
   ]
  },
  {
   "cell_type": "markdown",
   "id": "50a99730-218a-48c9-b9d1-321c48c52e89",
   "metadata": {},
   "source": [
    "#### Aridity Index"
   ]
  },
  {
   "cell_type": "code",
   "execution_count": 33,
   "id": "57006375-b43c-484a-b59a-6ee9b2fdb93b",
   "metadata": {},
   "outputs": [],
   "source": [
    "aridity_index_yearly = ee.Image(\"projects/sat-io/open-datasets/global_ai/global_ai_yearly\")\\\n",
    ".clip(kenya).rename('aridity_index_yearly')\n",
    "aridity_index_monthly = ee.ImageCollection(\"projects/sat-io/open-datasets/global_ai/global_ai_monthly\")\\\n",
    ".filterBounds(kenya).mosaic().clip(kenya).rename('aridity_index_monthly')\n",
    "aridity = aridity_index_yearly.addBands(aridity_index_monthly)\n",
    "# eeprint(aridity)"
   ]
  },
  {
   "cell_type": "markdown",
   "id": "12878492-6848-4d94-a7c0-43fe8a28b024",
   "metadata": {},
   "source": [
    "#### Burn probability"
   ]
  },
  {
   "cell_type": "code",
   "execution_count": 34,
   "id": "b63191ef-4a4b-439e-8024-b660857d5601",
   "metadata": {},
   "outputs": [],
   "source": [
    "burn_probability = ee.Image(\"users/keikonomura/fire/LBA_CU_2019_20200415_C01_V01_BP_L8\").clip(kenya).rename('burn_probability')"
   ]
  },
  {
   "cell_type": "markdown",
   "id": "d1a0ead4-a14d-4bc7-a3c6-23c59dd4f334",
   "metadata": {},
   "source": [
    "#### Cattle grazing"
   ]
  },
  {
   "cell_type": "code",
   "execution_count": 35,
   "id": "a955961c-4720-49b0-bd7e-05f2471782fc",
   "metadata": {},
   "outputs": [],
   "source": [
    "cattle_grazing = ee.Image('projects/ee-geethensingh/assets/GrazingDensity/5_Ct_2010_Da').rename('cattle_grazing')"
   ]
  },
  {
   "cell_type": "markdown",
   "id": "889c61e5-3b44-4aab-9366-da730bdc5e4c",
   "metadata": {},
   "source": [
    "#### Exclosures"
   ]
  },
  {
   "cell_type": "code",
   "execution_count": 36,
   "id": "85d02731-5ca2-4842-8c74-1ac95c0957f3",
   "metadata": {},
   "outputs": [],
   "source": [
    "exclosures = ee.FeatureCollection('users/geethensingh/NS/Exclosures').map(lambda ft: ft.set('presence', 1))\\\n",
    "                .reduceToImage(['presence'], ee.Reducer.first()).rename('exclosures').unmask(0)"
   ]
  },
  {
   "cell_type": "markdown",
   "id": "402fa31c-6f6f-41ce-bee9-3b523a8078d9",
   "metadata": {},
   "source": [
    "#### Compile covariates into a single image"
   ]
  },
  {
   "cell_type": "code",
   "execution_count": 37,
   "id": "6bb5cbac-f703-4c14-b2c1-d1b248923071",
   "metadata": {},
   "outputs": [],
   "source": [
    "# All covariates\n",
    "coords = ee.Image.pixelCoordinates('EPSG:4326')\n",
    "covariates = tree_canopy.addBands([burn_probability, aridity, et, cloud,heterogeneity, soil_moisture, rwi, gdp_ppp, hdi, global_CISI,\\\n",
    "                                   infrastructure, soil_salinity, viirs_ntl, hihydro,isda, isric,\\\n",
    "                                   IC, bare_surface, bare_frequency, NPP, AET,worldcover, ecoregions,\\\n",
    "                                   lvl12019, lvl22019, VH, VV, dsm, dtm,hand, geomorph, canopy_height,\\\n",
    "                                   ch_standard_deviation, tree_type, consensus_LC,fapar, S2, L8, L9, S2VI,\\\n",
    "                                   Palsar, cattle_grazing, exclosures, coords])\n",
    "\n",
    "# eeprint(covariates.bandNames())"
   ]
  },
  {
   "cell_type": "code",
   "execution_count": 38,
   "id": "94236756-e460-4fc5-a1fb-f7b2863f7048",
   "metadata": {},
   "outputs": [
    {
     "data": {
      "text/html": [
       "<div id=\"02ea7149-0be1-4ca3-8974-dcc8f4e497af\" style=\"height: auto; width:100%;\"></div>"
      ],
      "text/plain": [
       "<IPython.core.display.HTML object>"
      ]
     },
     "metadata": {},
     "output_type": "display_data"
    },
    {
     "data": {
      "text/html": [
       "\n",
       "        <script src=\"/static/components/requirejs/require.js\"></script> <!-- Needed in Colab -->\n",
       "        <script>\n",
       "            require([\"https://rawgit.com/caldwell/renderjson/master/renderjson.js\"], function() {\n",
       "              renderjson.set_show_to_level(1)\n",
       "              document.getElementById('02ea7149-0be1-4ca3-8974-dcc8f4e497af').appendChild(renderjson(243))\n",
       "            });\n",
       "        </script>\n",
       "    "
      ],
      "text/plain": [
       "<IPython.core.display.HTML object>"
      ]
     },
     "metadata": {},
     "output_type": "display_data"
    }
   ],
   "source": [
    "# print the number of bands\n",
    "eeprint(covariates.bandNames().size())"
   ]
  },
  {
   "cell_type": "markdown",
   "id": "bb78026c-6135-4a96-b79c-91129b49905f",
   "metadata": {},
   "source": [
    "#### Variables by spatial resolution (m).  \n",
    "\n",
    "- <10 - monthlyPlanet, exclosures\n",
    "- 10 - S2, S2VI, VH, VV, tree_canopy, canopy_height, ch_standard_deviation, worldcover\n",
    "- 25 - Palsar\n",
    "- 30 - L8, L9, dsm, dtm, hand, bare_surface, bare_frequency, isda\n",
    "- 90 - geomorph\n",
    "- 250 - NPP, AET, isric, hihydro\n",
    "- 300 - IC\n",
    "- 500 - tree_type, viirs_ntl\n",
    "- 1000 - consensus_LC, soil_salinity, heterogeneity, cloud, et, aridity\n",
    "- 2400 - rwi\n",
    "- 5000 - fapar, ecoregions, lvl12019, lvl22019\n",
    "- 11000 - global_CISI, gdp_ppp, hdi, infrastructure, soil_moisture, cattle_grazing"
   ]
  },
  {
   "cell_type": "code",
   "execution_count": 38,
   "id": "7fdeb56b-61c1-477d-bbae-439db981cee7",
   "metadata": {},
   "outputs": [],
   "source": [
    "# Covariates with a spatial resolution less than 30 metres\n",
    "ftslt30m = VH.addBands([VV, dsm, dtm, hand, exclosures, S2, L8, L9, S2VI, canopy_height,\\\n",
    "ch_standard_deviation, worldcover, bare_surface, bare_frequency,isda])"
   ]
  },
  {
   "cell_type": "code",
   "execution_count": 41,
   "id": "df672883-f66c-4a11-93a4-41a15c4587ed",
   "metadata": {},
   "outputs": [
    {
     "data": {
      "text/html": [
       "<div id=\"a92e146e-a418-4da9-ae5b-91f9047e104b\" style=\"height: auto; width:100%;\"></div>"
      ],
      "text/plain": [
       "<IPython.core.display.HTML object>"
      ]
     },
     "metadata": {},
     "output_type": "display_data"
    },
    {
     "data": {
      "text/html": [
       "\n",
       "        <script src=\"/static/components/requirejs/require.js\"></script> <!-- Needed in Colab -->\n",
       "        <script>\n",
       "            require([\"https://rawgit.com/caldwell/renderjson/master/renderjson.js\"], function() {\n",
       "              renderjson.set_show_to_level(1)\n",
       "              document.getElementById('a92e146e-a418-4da9-ae5b-91f9047e104b').appendChild(renderjson(['normalized_VH', 'normalized_VV', 'dsm', 'dtm', 'hand', 'exclosures', 'B1_s2', 'B2_s2', 'B3_s2', 'B4_s2', 'B5_s2', 'B6_s2', 'B7_s2', 'B8_s2', 'B8A_s2', 'B9_s2', 'B11_s2', 'B12_s2', 'SR_B1_l8', 'SR_B2_l8', 'SR_B3_l8', 'SR_B4_l8', 'SR_B5_l8', 'SR_B6_l8', 'SR_B7_l8', 'ST_B10_l8', 'SR_B1_l9', 'SR_B2_l9', 'SR_B3_l9', 'SR_B4_l9', 'SR_B5_l9', 'SR_B6_l9', 'SR_B7_l9', 'ST_B10_l9', 'NDVI_s2', 'lang_CHM', 'lang_CHM_sd', 'worldcover', 'blue_bare_spectra', 'green_bare_spectra', 'red_bare_spectra', 'nir_bare_spectra', 'swir1_bare_spectra', 'swir2_bare_spectra', 'bare_freq', 'b1_bedrock_depth', 'b2_bedrock_depth', 'b1_bulk_density', 'b2_bulk_density', 'b3_bulk_density', 'b4_bulk_density', 'b1_carbon_organic', 'b2_carbon_organic', 'b3_carbon_organic', 'b4_carbon_organic', 'b1carbon_total', 'b2carbon_total', 'b3carbon_total', 'b4carbon_total', 'b1_cat_ex_cap', 'b2_cat_ex_cap', 'b3_cat_ex_cap', 'b4_cat_ex_cap', 'b1_clay_content', 'b2_clay_content', 'b3_clay_content', 'b4_clay_content', 'b1_fertility_capability', 'b1_nitrogen_total', 'b2_nitrogen_total', 'b3_nitrogen_total', 'b4_nitrogen_total', 'b1_ph', 'b2_ph', 'b3_ph', 'b4_ph', 'b1_sand_content', 'b2_sand_content', 'b3_sand_content', 'b4_sand_content', 'b1_silt_content', 'b2_silt_content', 'b3_silt_content', 'b4_silt_content', 'b1_stone_content', 'b2_stone_content', 'b3_stone_content', 'b4_stone_content', 'b1_texture_class', 'b2_texture_class']))\n",
       "            });\n",
       "        </script>\n",
       "    "
      ],
      "text/plain": [
       "<IPython.core.display.HTML object>"
      ]
     },
     "metadata": {},
     "output_type": "display_data"
    }
   ],
   "source": [
    "eeprint(ftslt30m.bandNames())"
   ]
  },
  {
   "cell_type": "markdown",
   "id": "deb146d0-1226-4178-b3eb-2b36ecd7c577",
   "metadata": {},
   "source": [
    "## Extract covariataes"
   ]
  },
  {
   "cell_type": "code",
   "execution_count": 39,
   "id": "4853c22f-3c7e-486c-922c-ac04593860ba",
   "metadata": {},
   "outputs": [],
   "source": [
    "projection = target.projection()\n",
    "# Extract data\n",
    "fc = target.sample(**{'dropNulls': True, 'factor': None,\\\n",
    "                    'numPixels': None,  'region': kenya,\\\n",
    "                'scale': 1000,'projection': projection,'geometries':True})\n",
    "spcvGrid, _ = createGrid(50000, aoi = kenya, vect= False)\n",
    "spcvGrid = spcvGrid.rename('id')"
   ]
  },
  {
   "cell_type": "code",
   "execution_count": 41,
   "id": "fc9de02f-001f-44a5-bc11-7644dbb3dcb8",
   "metadata": {
    "tags": []
   },
   "outputs": [
    {
     "name": "stdout",
     "output_type": "stream",
     "text": [
      "Column Count: 243\n"
     ]
    },
    {
     "data": {
      "application/vnd.jupyter.widget-view+json": {
       "model_id": "8ca259caed03450f8e0cdad9b9669fc4",
       "version_major": 2,
       "version_minor": 0
      },
      "text/plain": [
       "  0%|          | 0/2 [00:00<?, ?it/s]"
      ]
     },
     "metadata": {},
     "output_type": "display_data"
    },
    {
     "name": "stdout",
     "output_type": "stream",
     "text": [
      "x\n",
      "(411520, 243)\n",
      "y\n",
      "(411520, 244)\n",
      "(411520, 244)\n"
     ]
    }
   ],
   "source": [
    "filename = r'C:\\Users\\coach\\myfiles\\conservation\\Handover\\AGBD\\Data\\inputs\\biomass.parquet'\n",
    "covs = target.addBands([spcvGrid, covariates])\n",
    "properties = covs.bandNames().getInfo()\n",
    "\n",
    "nvars = len(list(properties))\n",
    "if os.path.exists(filename):\n",
    "    df = pd.read_parquet(filename)\n",
    "    resume_from = df.shape[1]+1\n",
    "else:\n",
    "    resume_from = 0\n",
    "    df = pd.DataFrame()\n",
    "\n",
    "print('Column Count:', resume_from)\n",
    "    \n",
    "for covariate in tqdm(range(resume_from,nvars)):\n",
    "    covariate = str(properties[covariate])\n",
    "    var = covs.select(covariate)\n",
    "    # scale = var.projection().nominalScale()\n",
    "    print(covariate)\n",
    "    data = var.reduceRegions(fc, ee.Reducer.first(), 1000, tileScale = 4)\n",
    "    result = pd.DataFrame(data.aggregate_array('first').getInfo(), columns = [covariate])\n",
    "    df = pd.concat([df, result], axis=1)\n",
    "    print(df.shape)\n",
    "    df.to_parquet(filename)\n",
    "print(df.shape)"
   ]
  },
  {
   "cell_type": "code",
   "execution_count": 39,
   "id": "6e1d0a5c-1e16-4caa-b6a7-708e86114faa",
   "metadata": {
    "tags": []
   },
   "outputs": [],
   "source": [
    "def extract_eemont_indices(indices, imageCollection, platform, append, filename, batch = 5):\n",
    "    \"\"\"\n",
    "    Compute and extract optical indices based on the eemont package.  \n",
    "    \n",
    "    Args:\n",
    "        indices (string): Supported strings 'all', 'vegetation'\n",
    "        imageCollection (ee.ImageCollection): the imagecollection to compute the spectral index on.\n",
    "        platform (string): one of 'Sentinel-2', 'Landsat-OLI', 'Landsat-TM', 'Landsat-ETM+', 'MODIS', 'Planet-Fusion'\n",
    "        append (string): append to output band name\n",
    "        batch (integer): The number of indices to compute and extract at any one time\n",
    "    \n",
    "    Returns:\n",
    "        A parquet file\n",
    "        \n",
    "    \"\"\"\n",
    "    if os.path.exists(filename):\n",
    "        df = pd.read_parquet(filename)\n",
    "        resume_from = df.shape[1]+1\n",
    "    else:\n",
    "        resume_from = 0\n",
    "        df = pd.DataFrame()\n",
    "    if indices == 'all':\n",
    "        filteredindices = list()\n",
    "        platform = platform\n",
    "        for index in eemont.listIndices():\n",
    "            indices = eemont.indices()\n",
    "            if platform in list(indices[index].platforms):\n",
    "                filteredindices.append(index)\n",
    "        filteredindices.remove('NIRv')\n",
    "        filteredindices.remove('NIRvP')\n",
    "        nindices = len(filteredindices)\n",
    "        for subset in tqdm(range(resume_from, nindices, batch)):\n",
    "            if subset+batch>nindices:\n",
    "                indicesSubset = filteredindices[subset:nindices]\n",
    "            else:\n",
    "                indicesSubset = filteredindices[subset:subset+batch]\n",
    "                \n",
    "            indicesSubset = [sub + append for sub in indicesSubset]\n",
    "            finalIndices = list(set(indicesSubset)-set(properties))\n",
    "            finalIndices = [i.removesuffix(append) for i in finalIndices]\n",
    "            if len(finalIndices)>0:\n",
    "                print(f'Extracting: Variable {subset}-{finalIndices}')\n",
    "                output = imageCollection.spectralIndices(finalIndices, drop=True).median().regexpRename('$', append)\n",
    "                data = output.reduceRegions(fc, ee.Reducer.first(), 1000, tileScale = 4)\n",
    "                result = pd.DataFrame(data.aggregate_array('first').getInfo(), columns = finalIndices)\n",
    "                df = pd.concat([df, result], axis=1)\n",
    "                print(df.shape)\n",
    "                df.to_parquet(filename)"
   ]
  },
  {
   "cell_type": "code",
   "execution_count": 51,
   "id": "a77b6a2e-0d1a-4815-82e2-a4498cbe4265",
   "metadata": {
    "collapsed": true,
    "jupyter": {
     "outputs_hidden": true
    },
    "tags": []
   },
   "outputs": [
    {
     "name": "stderr",
     "output_type": "stream",
     "text": [
      "  0%|                                                                                           | 0/25 [00:00<?, ?it/s]"
     ]
    },
    {
     "name": "stdout",
     "output_type": "stream",
     "text": [
      "Extracting: Variable 144-['TGI']\n",
      "(411520, 144)\n"
     ]
    },
    {
     "name": "stderr",
     "output_type": "stream",
     "text": [
      "  4%|███▎                                                                               | 1/25 [00:20<08:16, 20.69s/it]"
     ]
    },
    {
     "name": "stdout",
     "output_type": "stream",
     "text": [
      "Extracting: Variable 145-['TRRVI']\n",
      "(411520, 145)\n"
     ]
    },
    {
     "name": "stderr",
     "output_type": "stream",
     "text": [
      "  8%|██████▌                                                                           | 2/25 [03:16<42:58, 112.09s/it]"
     ]
    },
    {
     "name": "stdout",
     "output_type": "stream",
     "text": [
      "Extracting: Variable 146-['TSAVI']\n",
      "(411520, 146)\n"
     ]
    },
    {
     "name": "stderr",
     "output_type": "stream",
     "text": [
      " 12%|█████████▊                                                                        | 3/25 [05:42<46:41, 127.36s/it]"
     ]
    },
    {
     "name": "stdout",
     "output_type": "stream",
     "text": [
      "Extracting: Variable 147-['TTVI']\n",
      "(411520, 147)\n"
     ]
    },
    {
     "name": "stderr",
     "output_type": "stream",
     "text": [
      " 16%|█████████████                                                                     | 4/25 [08:02<46:20, 132.40s/it]"
     ]
    },
    {
     "name": "stdout",
     "output_type": "stream",
     "text": [
      "Extracting: Variable 148-['TVI']\n",
      "(411520, 148)\n"
     ]
    },
    {
     "name": "stderr",
     "output_type": "stream",
     "text": [
      " 20%|████████████████▍                                                                 | 5/25 [10:37<46:51, 140.59s/it]"
     ]
    },
    {
     "name": "stdout",
     "output_type": "stream",
     "text": [
      "Extracting: Variable 149-['TriVI']\n",
      "(411520, 149)\n"
     ]
    },
    {
     "name": "stderr",
     "output_type": "stream",
     "text": [
      " 24%|███████████████████▋                                                              | 6/25 [13:21<47:00, 148.43s/it]"
     ]
    },
    {
     "name": "stdout",
     "output_type": "stream",
     "text": [
      "Extracting: Variable 150-['UI']\n",
      "(411520, 150)\n"
     ]
    },
    {
     "name": "stderr",
     "output_type": "stream",
     "text": [
      " 28%|██████████████████████▉                                                           | 7/25 [15:43<43:57, 146.52s/it]"
     ]
    },
    {
     "name": "stdout",
     "output_type": "stream",
     "text": [
      "Extracting: Variable 151-['VARI']\n",
      "(411520, 151)\n"
     ]
    },
    {
     "name": "stderr",
     "output_type": "stream",
     "text": [
      " 32%|██████████████████████████▏                                                       | 8/25 [18:10<41:30, 146.52s/it]"
     ]
    },
    {
     "name": "stdout",
     "output_type": "stream",
     "text": [
      "Extracting: Variable 152-['VARI700']\n",
      "(411520, 152)\n"
     ]
    },
    {
     "name": "stderr",
     "output_type": "stream",
     "text": [
      " 36%|█████████████████████████████▌                                                    | 9/25 [20:37<39:08, 146.80s/it]"
     ]
    },
    {
     "name": "stdout",
     "output_type": "stream",
     "text": [
      "Extracting: Variable 153-['VI700']\n",
      "(411520, 153)\n"
     ]
    },
    {
     "name": "stderr",
     "output_type": "stream",
     "text": [
      " 40%|████████████████████████████████▍                                                | 10/25 [22:51<35:43, 142.87s/it]"
     ]
    },
    {
     "name": "stdout",
     "output_type": "stream",
     "text": [
      "Extracting: Variable 154-['VIG']\n",
      "(411520, 154)\n"
     ]
    },
    {
     "name": "stderr",
     "output_type": "stream",
     "text": [
      " 44%|███████████████████████████████████▋                                             | 11/25 [25:24<34:02, 145.86s/it]"
     ]
    },
    {
     "name": "stdout",
     "output_type": "stream",
     "text": [
      "Extracting: Variable 155-['VgNIRBI']\n",
      "(411520, 155)\n"
     ]
    },
    {
     "name": "stderr",
     "output_type": "stream",
     "text": [
      " 48%|██████████████████████████████████████▉                                          | 12/25 [27:45<31:15, 144.28s/it]"
     ]
    },
    {
     "name": "stdout",
     "output_type": "stream",
     "text": [
      "Extracting: Variable 156-['VrNIRBI']\n",
      "(411520, 156)\n"
     ]
    },
    {
     "name": "stderr",
     "output_type": "stream",
     "text": [
      " 52%|██████████████████████████████████████████                                       | 13/25 [29:52<27:49, 139.10s/it]"
     ]
    },
    {
     "name": "stdout",
     "output_type": "stream",
     "text": [
      "Extracting: Variable 157-['WDRVI']\n",
      "(411520, 157)\n"
     ]
    },
    {
     "name": "stderr",
     "output_type": "stream",
     "text": [
      " 56%|█████████████████████████████████████████████▎                                   | 14/25 [33:03<28:23, 154.82s/it]"
     ]
    },
    {
     "name": "stdout",
     "output_type": "stream",
     "text": [
      "Extracting: Variable 158-['WDVI']\n",
      "(411520, 158)\n"
     ]
    },
    {
     "name": "stderr",
     "output_type": "stream",
     "text": [
      " 60%|████████████████████████████████████████████████▌                                | 15/25 [35:52<26:31, 159.14s/it]"
     ]
    },
    {
     "name": "stdout",
     "output_type": "stream",
     "text": [
      "Extracting: Variable 159-['WI1']\n",
      "(411520, 159)\n"
     ]
    },
    {
     "name": "stderr",
     "output_type": "stream",
     "text": [
      " 64%|███████████████████████████████████████████████████▊                             | 16/25 [38:20<23:22, 155.83s/it]"
     ]
    },
    {
     "name": "stdout",
     "output_type": "stream",
     "text": [
      "Extracting: Variable 160-['WI2']\n",
      "(411520, 160)\n"
     ]
    },
    {
     "name": "stderr",
     "output_type": "stream",
     "text": [
      " 68%|███████████████████████████████████████████████████████                          | 17/25 [40:37<20:01, 150.24s/it]"
     ]
    },
    {
     "name": "stdout",
     "output_type": "stream",
     "text": [
      "Extracting: Variable 161-['WRI']\n",
      "(411520, 161)\n"
     ]
    },
    {
     "name": "stderr",
     "output_type": "stream",
     "text": [
      " 72%|██████████████████████████████████████████████████████████▎                      | 18/25 [43:00<17:15, 147.87s/it]"
     ]
    },
    {
     "name": "stdout",
     "output_type": "stream",
     "text": [
      "Extracting: Variable 162-['kEVI']\n",
      "(411520, 162)\n"
     ]
    },
    {
     "name": "stderr",
     "output_type": "stream",
     "text": [
      " 76%|█████████████████████████████████████████████████████████████▌                   | 19/25 [45:53<15:32, 155.34s/it]"
     ]
    },
    {
     "name": "stdout",
     "output_type": "stream",
     "text": [
      "Extracting: Variable 163-['kIPVI']\n",
      "(411520, 163)\n"
     ]
    },
    {
     "name": "stderr",
     "output_type": "stream",
     "text": [
      " 80%|████████████████████████████████████████████████████████████████▊                | 20/25 [48:22<12:47, 153.59s/it]"
     ]
    },
    {
     "name": "stdout",
     "output_type": "stream",
     "text": [
      "Extracting: Variable 164-['kNDVI']\n",
      "(411520, 164)\n"
     ]
    },
    {
     "name": "stderr",
     "output_type": "stream",
     "text": [
      " 84%|████████████████████████████████████████████████████████████████████             | 21/25 [50:48<10:05, 151.30s/it]"
     ]
    },
    {
     "name": "stdout",
     "output_type": "stream",
     "text": [
      "Extracting: Variable 165-['kRVI']\n",
      "(411520, 165)\n"
     ]
    },
    {
     "name": "stderr",
     "output_type": "stream",
     "text": [
      " 88%|███████████████████████████████████████████████████████████████████████▎         | 22/25 [53:19<07:33, 151.26s/it]"
     ]
    },
    {
     "name": "stdout",
     "output_type": "stream",
     "text": [
      "Extracting: Variable 166-['kVARI']\n",
      "(411520, 166)\n"
     ]
    },
    {
     "name": "stderr",
     "output_type": "stream",
     "text": [
      " 92%|██████████████████████████████████████████████████████████████████████████▌      | 23/25 [55:38<04:55, 147.62s/it]"
     ]
    },
    {
     "name": "stdout",
     "output_type": "stream",
     "text": [
      "Extracting: Variable 167-['mND705']\n",
      "(411520, 167)\n"
     ]
    },
    {
     "name": "stderr",
     "output_type": "stream",
     "text": [
      " 96%|█████████████████████████████████████████████████████████████████████████████▊   | 24/25 [58:22<02:32, 152.40s/it]"
     ]
    },
    {
     "name": "stdout",
     "output_type": "stream",
     "text": [
      "Extracting: Variable 168-['mSR705']\n",
      "(411520, 168)\n"
     ]
    },
    {
     "name": "stderr",
     "output_type": "stream",
     "text": [
      "100%|███████████████████████████████████████████████████████████████████████████████| 25/25 [1:00:51<00:00, 146.04s/it]\n"
     ]
    }
   ],
   "source": [
    "fn2 = r'C:\\Users\\coach\\myfiles\\conservation\\Handover\\AGBD\\Data\\scratch\\biomass_indicess2.parquet'  \n",
    "covs = target.addBands(covariates)\n",
    "properties = covs.bandNames().getInfo()\n",
    "extract_eemont_indices(indices= 'all', imageCollection = s2, platform = 'Sentinel-2', append = '_s2', filename = fn2, batch = 1)"
   ]
  },
  {
   "cell_type": "code",
   "execution_count": 52,
   "id": "fd2fbcc8-73bc-4dac-8fde-5f1cd0d52f4f",
   "metadata": {
    "collapsed": true,
    "jupyter": {
     "outputs_hidden": true
    },
    "tags": []
   },
   "outputs": [
    {
     "name": "stderr",
     "output_type": "stream",
     "text": [
      "  0%|                                                                                          | 0/148 [00:00<?, ?it/s]"
     ]
    },
    {
     "name": "stdout",
     "output_type": "stream",
     "text": [
      "Extracting: Variable 1-['AFRI2100']\n"
     ]
    },
    {
     "name": "stderr",
     "output_type": "stream",
     "text": [
      "  1%|▌                                                                               | 1/148 [01:14<3:02:56, 74.67s/it]"
     ]
    },
    {
     "name": "stdout",
     "output_type": "stream",
     "text": [
      "(411520, 1)\n",
      "Extracting: Variable 2-['ARVI']\n"
     ]
    },
    {
     "name": "stderr",
     "output_type": "stream",
     "text": [
      "  1%|█                                                                               | 2/148 [02:19<2:47:11, 68.71s/it]"
     ]
    },
    {
     "name": "stdout",
     "output_type": "stream",
     "text": [
      "(411520, 2)\n",
      "Extracting: Variable 3-['ATSAVI']\n"
     ]
    },
    {
     "name": "stderr",
     "output_type": "stream",
     "text": [
      "  2%|█▌                                                                              | 3/148 [03:31<2:49:38, 70.20s/it]"
     ]
    },
    {
     "name": "stdout",
     "output_type": "stream",
     "text": [
      "(411520, 3)\n",
      "Extracting: Variable 4-['AVI']\n"
     ]
    },
    {
     "name": "stderr",
     "output_type": "stream",
     "text": [
      "  3%|██▏                                                                             | 4/148 [04:34<2:42:21, 67.65s/it]"
     ]
    },
    {
     "name": "stdout",
     "output_type": "stream",
     "text": [
      "(411520, 4)\n",
      "Extracting: Variable 5-['AWEInsh']\n",
      "(411520, 5)\n"
     ]
    },
    {
     "name": "stderr",
     "output_type": "stream",
     "text": [
      "  3%|██▋                                                                             | 5/148 [05:37<2:37:17, 65.99s/it]"
     ]
    },
    {
     "name": "stdout",
     "output_type": "stream",
     "text": [
      "Extracting: Variable 6-['AWEIsh']\n",
      "(411520, 6)\n"
     ]
    },
    {
     "name": "stderr",
     "output_type": "stream",
     "text": [
      "  4%|███▏                                                                            | 6/148 [06:47<2:39:10, 67.26s/it]"
     ]
    },
    {
     "name": "stdout",
     "output_type": "stream",
     "text": [
      "Extracting: Variable 7-['BAI']\n",
      "(411520, 7)\n"
     ]
    },
    {
     "name": "stderr",
     "output_type": "stream",
     "text": [
      "  5%|███▊                                                                            | 7/148 [07:52<2:36:31, 66.61s/it]"
     ]
    },
    {
     "name": "stdout",
     "output_type": "stream",
     "text": [
      "Extracting: Variable 8-['BAIM']\n",
      "(411520, 8)\n"
     ]
    },
    {
     "name": "stderr",
     "output_type": "stream",
     "text": [
      "  5%|████▎                                                                           | 8/148 [09:05<2:39:29, 68.35s/it]"
     ]
    },
    {
     "name": "stdout",
     "output_type": "stream",
     "text": [
      "Extracting: Variable 9-['BCC']\n",
      "(411520, 9)\n"
     ]
    },
    {
     "name": "stderr",
     "output_type": "stream",
     "text": [
      "  6%|████▊                                                                           | 9/148 [10:19<2:43:01, 70.37s/it]"
     ]
    },
    {
     "name": "stdout",
     "output_type": "stream",
     "text": [
      "Extracting: Variable 10-['BI']\n",
      "(411520, 10)\n"
     ]
    },
    {
     "name": "stderr",
     "output_type": "stream",
     "text": [
      "  7%|█████▎                                                                         | 10/148 [11:21<2:35:48, 67.74s/it]"
     ]
    },
    {
     "name": "stdout",
     "output_type": "stream",
     "text": [
      "Extracting: Variable 11-['BLFEI']\n",
      "(411520, 11)\n"
     ]
    },
    {
     "name": "stderr",
     "output_type": "stream",
     "text": [
      "  7%|█████▊                                                                         | 11/148 [12:23<2:30:26, 65.89s/it]"
     ]
    },
    {
     "name": "stdout",
     "output_type": "stream",
     "text": [
      "Extracting: Variable 12-['BNDVI']\n",
      "(411520, 12)\n"
     ]
    },
    {
     "name": "stderr",
     "output_type": "stream",
     "text": [
      "  8%|██████▍                                                                        | 12/148 [13:33<2:32:13, 67.16s/it]"
     ]
    },
    {
     "name": "stdout",
     "output_type": "stream",
     "text": [
      "Extracting: Variable 13-['BWDRVI']\n",
      "(411520, 13)\n"
     ]
    },
    {
     "name": "stderr",
     "output_type": "stream",
     "text": [
      "  9%|██████▉                                                                        | 13/148 [14:38<2:29:29, 66.44s/it]"
     ]
    },
    {
     "name": "stdout",
     "output_type": "stream",
     "text": [
      "Extracting: Variable 14-['BaI']\n",
      "(411520, 14)\n"
     ]
    },
    {
     "name": "stderr",
     "output_type": "stream",
     "text": [
      "  9%|███████▍                                                                       | 14/148 [15:35<2:21:56, 63.55s/it]"
     ]
    },
    {
     "name": "stdout",
     "output_type": "stream",
     "text": [
      "Extracting: Variable 15-['CIG']\n",
      "(411520, 15)\n"
     ]
    },
    {
     "name": "stderr",
     "output_type": "stream",
     "text": [
      " 10%|████████                                                                       | 15/148 [16:41<2:22:27, 64.27s/it]"
     ]
    },
    {
     "name": "stdout",
     "output_type": "stream",
     "text": [
      "Extracting: Variable 16-['CSI']\n",
      "(411520, 16)\n"
     ]
    },
    {
     "name": "stderr",
     "output_type": "stream",
     "text": [
      " 11%|████████▌                                                                      | 16/148 [17:37<2:16:29, 62.04s/it]"
     ]
    },
    {
     "name": "stdout",
     "output_type": "stream",
     "text": [
      "Extracting: Variable 17-['CSIT']\n",
      "(411520, 17)\n"
     ]
    },
    {
     "name": "stderr",
     "output_type": "stream",
     "text": [
      " 11%|█████████                                                                      | 17/148 [18:37<2:13:53, 61.32s/it]"
     ]
    },
    {
     "name": "stdout",
     "output_type": "stream",
     "text": [
      "Extracting: Variable 18-['CVI']\n",
      "(411520, 18)\n"
     ]
    },
    {
     "name": "stderr",
     "output_type": "stream",
     "text": [
      " 12%|█████████▌                                                                     | 18/148 [19:40<2:13:43, 61.72s/it]"
     ]
    },
    {
     "name": "stdout",
     "output_type": "stream",
     "text": [
      "Extracting: Variable 19-['DBI']\n",
      "(411520, 19)\n"
     ]
    },
    {
     "name": "stderr",
     "output_type": "stream",
     "text": [
      " 13%|██████████▏                                                                    | 19/148 [20:50<2:18:22, 64.36s/it]"
     ]
    },
    {
     "name": "stdout",
     "output_type": "stream",
     "text": [
      "Extracting: Variable 20-['DBSI']\n",
      "(411520, 20)\n"
     ]
    },
    {
     "name": "stderr",
     "output_type": "stream",
     "text": [
      " 14%|██████████▋                                                                    | 20/148 [22:00<2:20:51, 66.03s/it]"
     ]
    },
    {
     "name": "stdout",
     "output_type": "stream",
     "text": [
      "Extracting: Variable 21-['DVI']\n",
      "(411520, 21)\n"
     ]
    },
    {
     "name": "stderr",
     "output_type": "stream",
     "text": [
      " 14%|███████████▏                                                                   | 21/148 [22:53<2:11:42, 62.22s/it]"
     ]
    },
    {
     "name": "stdout",
     "output_type": "stream",
     "text": [
      "Extracting: Variable 22-['DVIplus']\n",
      "(411520, 22)\n"
     ]
    },
    {
     "name": "stderr",
     "output_type": "stream",
     "text": [
      " 15%|███████████▋                                                                   | 22/148 [23:59<2:12:40, 63.18s/it]"
     ]
    },
    {
     "name": "stdout",
     "output_type": "stream",
     "text": [
      "Extracting: Variable 23-['EBBI']\n",
      "(411520, 23)\n"
     ]
    },
    {
     "name": "stderr",
     "output_type": "stream",
     "text": [
      " 16%|████████████▎                                                                  | 23/148 [25:03<2:12:28, 63.59s/it]"
     ]
    },
    {
     "name": "stdout",
     "output_type": "stream",
     "text": [
      "Extracting: Variable 24-['EMBI']\n",
      "(411520, 24)\n"
     ]
    },
    {
     "name": "stderr",
     "output_type": "stream",
     "text": [
      " 16%|████████████▊                                                                  | 24/148 [26:16<2:16:55, 66.26s/it]"
     ]
    },
    {
     "name": "stdout",
     "output_type": "stream",
     "text": [
      "Extracting: Variable 25-['EVI']\n",
      "(411520, 25)\n"
     ]
    },
    {
     "name": "stderr",
     "output_type": "stream",
     "text": [
      " 17%|█████████████▎                                                                 | 25/148 [27:30<2:20:31, 68.55s/it]"
     ]
    },
    {
     "name": "stdout",
     "output_type": "stream",
     "text": [
      "Extracting: Variable 26-['EVI2']\n",
      "(411520, 26)\n"
     ]
    },
    {
     "name": "stderr",
     "output_type": "stream",
     "text": [
      " 18%|█████████████▉                                                                 | 26/148 [28:30<2:14:03, 65.93s/it]"
     ]
    },
    {
     "name": "stdout",
     "output_type": "stream",
     "text": [
      "Extracting: Variable 27-['ExG']\n",
      "(411520, 27)\n"
     ]
    },
    {
     "name": "stderr",
     "output_type": "stream",
     "text": [
      " 18%|██████████████▍                                                                | 27/148 [29:32<2:10:30, 64.72s/it]"
     ]
    },
    {
     "name": "stdout",
     "output_type": "stream",
     "text": [
      "Extracting: Variable 28-['ExGR']\n",
      "(411520, 28)\n"
     ]
    },
    {
     "name": "stderr",
     "output_type": "stream",
     "text": [
      " 19%|██████████████▉                                                                | 28/148 [30:38<2:10:13, 65.11s/it]"
     ]
    },
    {
     "name": "stdout",
     "output_type": "stream",
     "text": [
      "Extracting: Variable 29-['ExR']\n",
      "(411520, 29)\n"
     ]
    },
    {
     "name": "stderr",
     "output_type": "stream",
     "text": [
      " 20%|███████████████▍                                                               | 29/148 [31:35<2:04:42, 62.88s/it]"
     ]
    },
    {
     "name": "stdout",
     "output_type": "stream",
     "text": [
      "Extracting: Variable 30-['FCVI']\n",
      "(411520, 30)\n"
     ]
    },
    {
     "name": "stderr",
     "output_type": "stream",
     "text": [
      " 20%|████████████████                                                               | 30/148 [32:56<2:14:21, 68.32s/it]"
     ]
    },
    {
     "name": "stdout",
     "output_type": "stream",
     "text": [
      "Extracting: Variable 31-['GARI']\n",
      "(411520, 31)\n"
     ]
    },
    {
     "name": "stderr",
     "output_type": "stream",
     "text": [
      " 21%|████████████████▌                                                              | 31/148 [34:01<2:10:53, 67.12s/it]"
     ]
    },
    {
     "name": "stdout",
     "output_type": "stream",
     "text": [
      "Extracting: Variable 32-['GBNDVI']\n",
      "(411520, 32)\n"
     ]
    },
    {
     "name": "stderr",
     "output_type": "stream",
     "text": [
      " 22%|█████████████████                                                              | 32/148 [35:05<2:08:03, 66.24s/it]"
     ]
    },
    {
     "name": "stdout",
     "output_type": "stream",
     "text": [
      "Extracting: Variable 33-['GCC']\n",
      "(411520, 33)\n"
     ]
    },
    {
     "name": "stderr",
     "output_type": "stream",
     "text": [
      " 22%|█████████████████▌                                                             | 33/148 [36:12<2:07:18, 66.43s/it]"
     ]
    },
    {
     "name": "stdout",
     "output_type": "stream",
     "text": [
      "Extracting: Variable 34-['GDVI']\n",
      "(411520, 34)\n"
     ]
    },
    {
     "name": "stderr",
     "output_type": "stream",
     "text": [
      " 23%|██████████████████▏                                                            | 34/148 [37:24<2:09:26, 68.13s/it]"
     ]
    },
    {
     "name": "stdout",
     "output_type": "stream",
     "text": [
      "Extracting: Variable 35-['GEMI']\n",
      "(411520, 35)\n"
     ]
    },
    {
     "name": "stderr",
     "output_type": "stream",
     "text": [
      " 24%|██████████████████▋                                                            | 35/148 [39:06<2:27:41, 78.42s/it]"
     ]
    },
    {
     "name": "stdout",
     "output_type": "stream",
     "text": [
      "Extracting: Variable 36-['GLI']\n",
      "(411520, 36)\n"
     ]
    },
    {
     "name": "stderr",
     "output_type": "stream",
     "text": [
      " 24%|███████████████████▏                                                           | 36/148 [40:18<2:22:41, 76.44s/it]"
     ]
    },
    {
     "name": "stdout",
     "output_type": "stream",
     "text": [
      "Extracting: Variable 37-['GNDVI']\n",
      "(411520, 37)\n"
     ]
    },
    {
     "name": "stderr",
     "output_type": "stream",
     "text": [
      " 25%|███████████████████▊                                                           | 37/148 [41:23<2:15:05, 73.02s/it]"
     ]
    },
    {
     "name": "stdout",
     "output_type": "stream",
     "text": [
      "Extracting: Variable 38-['GOSAVI']\n",
      "(411520, 38)\n"
     ]
    },
    {
     "name": "stderr",
     "output_type": "stream",
     "text": [
      " 26%|████████████████████▎                                                          | 38/148 [42:27<2:09:04, 70.41s/it]"
     ]
    },
    {
     "name": "stdout",
     "output_type": "stream",
     "text": [
      "Extracting: Variable 39-['GRNDVI']\n",
      "(411520, 39)\n"
     ]
    },
    {
     "name": "stderr",
     "output_type": "stream",
     "text": [
      " 26%|████████████████████▊                                                          | 39/148 [43:29<2:03:01, 67.72s/it]"
     ]
    },
    {
     "name": "stdout",
     "output_type": "stream",
     "text": [
      "Extracting: Variable 40-['GRVI']\n",
      "(411520, 40)\n"
     ]
    },
    {
     "name": "stderr",
     "output_type": "stream",
     "text": [
      " 27%|█████████████████████▎                                                         | 40/148 [44:27<1:56:43, 64.84s/it]"
     ]
    },
    {
     "name": "stdout",
     "output_type": "stream",
     "text": [
      "Extracting: Variable 41-['GSAVI']\n",
      "(411520, 41)\n"
     ]
    },
    {
     "name": "stderr",
     "output_type": "stream",
     "text": [
      " 28%|█████████████████████▉                                                         | 41/148 [45:38<1:59:01, 66.74s/it]"
     ]
    },
    {
     "name": "stdout",
     "output_type": "stream",
     "text": [
      "Extracting: Variable 42-['GVMI']\n",
      "(411520, 42)\n"
     ]
    },
    {
     "name": "stderr",
     "output_type": "stream",
     "text": [
      " 28%|██████████████████████▍                                                        | 42/148 [46:39<1:55:04, 65.14s/it]"
     ]
    },
    {
     "name": "stdout",
     "output_type": "stream",
     "text": [
      "Extracting: Variable 43-['IAVI']\n",
      "(411520, 43)\n"
     ]
    },
    {
     "name": "stderr",
     "output_type": "stream",
     "text": [
      " 29%|██████████████████████▉                                                        | 43/148 [47:48<1:55:33, 66.03s/it]"
     ]
    },
    {
     "name": "stdout",
     "output_type": "stream",
     "text": [
      "Extracting: Variable 44-['IBI']\n",
      "(411520, 44)\n"
     ]
    },
    {
     "name": "stderr",
     "output_type": "stream",
     "text": [
      " 30%|███████████████████████▍                                                       | 44/148 [48:50<1:52:48, 65.08s/it]"
     ]
    },
    {
     "name": "stdout",
     "output_type": "stream",
     "text": [
      "Extracting: Variable 45-['IKAW']\n",
      "(411520, 45)\n"
     ]
    },
    {
     "name": "stderr",
     "output_type": "stream",
     "text": [
      " 30%|████████████████████████                                                       | 45/148 [49:56<1:51:59, 65.24s/it]"
     ]
    },
    {
     "name": "stdout",
     "output_type": "stream",
     "text": [
      "Extracting: Variable 46-['IPVI']\n",
      "(411520, 46)\n"
     ]
    },
    {
     "name": "stderr",
     "output_type": "stream",
     "text": [
      " 31%|████████████████████████▌                                                      | 46/148 [51:02<1:51:01, 65.31s/it]"
     ]
    },
    {
     "name": "stdout",
     "output_type": "stream",
     "text": [
      "Extracting: Variable 47-['LSWI']\n",
      "(411520, 47)\n"
     ]
    },
    {
     "name": "stderr",
     "output_type": "stream",
     "text": [
      " 32%|█████████████████████████                                                      | 47/148 [52:08<1:50:25, 65.60s/it]"
     ]
    },
    {
     "name": "stdout",
     "output_type": "stream",
     "text": [
      "Extracting: Variable 48-['MBI']\n",
      "(411520, 48)\n"
     ]
    },
    {
     "name": "stderr",
     "output_type": "stream",
     "text": [
      " 32%|█████████████████████████▌                                                     | 48/148 [53:17<1:51:11, 66.72s/it]"
     ]
    },
    {
     "name": "stdout",
     "output_type": "stream",
     "text": [
      "Extracting: Variable 49-['MBWI']\n",
      "(411520, 49)\n"
     ]
    },
    {
     "name": "stderr",
     "output_type": "stream",
     "text": [
      " 33%|██████████████████████████▏                                                    | 49/148 [54:32<1:54:04, 69.14s/it]"
     ]
    },
    {
     "name": "stdout",
     "output_type": "stream",
     "text": [
      "Extracting: Variable 50-['MCARI1']\n",
      "(411520, 50)\n"
     ]
    },
    {
     "name": "stderr",
     "output_type": "stream",
     "text": [
      " 34%|██████████████████████████▋                                                    | 50/148 [55:41<1:52:44, 69.03s/it]"
     ]
    },
    {
     "name": "stdout",
     "output_type": "stream",
     "text": [
      "Extracting: Variable 51-['MCARI2']\n",
      "(411520, 51)\n"
     ]
    },
    {
     "name": "stderr",
     "output_type": "stream",
     "text": [
      " 34%|███████████████████████████▏                                                   | 51/148 [57:05<1:59:01, 73.62s/it]"
     ]
    },
    {
     "name": "stdout",
     "output_type": "stream",
     "text": [
      "Extracting: Variable 52-['MGRVI']\n",
      "(411520, 52)\n"
     ]
    },
    {
     "name": "stderr",
     "output_type": "stream",
     "text": [
      " 35%|███████████████████████████▊                                                   | 52/148 [58:19<1:57:57, 73.72s/it]"
     ]
    },
    {
     "name": "stdout",
     "output_type": "stream",
     "text": [
      "Extracting: Variable 53-['MIRBI']\n",
      "(411520, 53)\n"
     ]
    },
    {
     "name": "stderr",
     "output_type": "stream",
     "text": [
      " 36%|████████████████████████████▎                                                  | 53/148 [59:27<1:53:58, 71.98s/it]"
     ]
    },
    {
     "name": "stdout",
     "output_type": "stream",
     "text": [
      "Extracting: Variable 54-['MLSWI26']\n",
      "(411520, 54)\n"
     ]
    },
    {
     "name": "stderr",
     "output_type": "stream",
     "text": [
      " 36%|████████████████████████████                                                 | 54/148 [1:00:42<1:54:06, 72.84s/it]"
     ]
    },
    {
     "name": "stdout",
     "output_type": "stream",
     "text": [
      "Extracting: Variable 55-['MLSWI27']\n",
      "(411520, 55)\n"
     ]
    },
    {
     "name": "stderr",
     "output_type": "stream",
     "text": [
      " 37%|████████████████████████████▌                                                | 55/148 [1:01:53<1:52:21, 72.49s/it]"
     ]
    },
    {
     "name": "stdout",
     "output_type": "stream",
     "text": [
      "Extracting: Variable 56-['MNDVI']\n",
      "(411520, 56)\n"
     ]
    },
    {
     "name": "stderr",
     "output_type": "stream",
     "text": [
      " 38%|█████████████████████████████▏                                               | 56/148 [1:03:00<1:48:33, 70.80s/it]"
     ]
    },
    {
     "name": "stdout",
     "output_type": "stream",
     "text": [
      "Extracting: Variable 57-['MNDWI']\n",
      "(411520, 57)\n"
     ]
    },
    {
     "name": "stderr",
     "output_type": "stream",
     "text": [
      " 39%|█████████████████████████████▋                                               | 57/148 [1:04:04<1:44:11, 68.70s/it]"
     ]
    },
    {
     "name": "stdout",
     "output_type": "stream",
     "text": [
      "Extracting: Variable 58-['MNLI']\n",
      "(411520, 58)\n"
     ]
    },
    {
     "name": "stderr",
     "output_type": "stream",
     "text": [
      " 39%|██████████████████████████████▏                                              | 58/148 [1:05:16<1:44:21, 69.57s/it]"
     ]
    },
    {
     "name": "stdout",
     "output_type": "stream",
     "text": [
      "Extracting: Variable 59-['MRBVI']\n",
      "(411520, 59)\n"
     ]
    },
    {
     "name": "stderr",
     "output_type": "stream",
     "text": [
      " 40%|██████████████████████████████▋                                              | 59/148 [1:06:24<1:42:40, 69.22s/it]"
     ]
    },
    {
     "name": "stdout",
     "output_type": "stream",
     "text": [
      "Extracting: Variable 60-['MSAVI']\n",
      "(411520, 60)\n"
     ]
    },
    {
     "name": "stderr",
     "output_type": "stream",
     "text": [
      " 41%|███████████████████████████████▏                                             | 60/148 [1:07:41<1:44:52, 71.51s/it]"
     ]
    },
    {
     "name": "stdout",
     "output_type": "stream",
     "text": [
      "Extracting: Variable 61-['MSI']\n",
      "(411520, 61)\n"
     ]
    },
    {
     "name": "stderr",
     "output_type": "stream",
     "text": [
      " 41%|███████████████████████████████▋                                             | 61/148 [1:08:50<1:42:38, 70.79s/it]"
     ]
    },
    {
     "name": "stdout",
     "output_type": "stream",
     "text": [
      "Extracting: Variable 62-['MSR']\n",
      "(411520, 62)\n"
     ]
    },
    {
     "name": "stderr",
     "output_type": "stream",
     "text": [
      " 42%|████████████████████████████████▎                                            | 62/148 [1:09:49<1:36:20, 67.22s/it]"
     ]
    },
    {
     "name": "stdout",
     "output_type": "stream",
     "text": [
      "Extracting: Variable 63-['MTVI1']\n",
      "(411520, 63)\n"
     ]
    },
    {
     "name": "stderr",
     "output_type": "stream",
     "text": [
      " 43%|████████████████████████████████▊                                            | 63/148 [1:11:03<1:38:18, 69.39s/it]"
     ]
    },
    {
     "name": "stdout",
     "output_type": "stream",
     "text": [
      "Extracting: Variable 64-['MTVI2']\n",
      "(411520, 64)\n"
     ]
    },
    {
     "name": "stderr",
     "output_type": "stream",
     "text": [
      " 43%|█████████████████████████████████▎                                           | 64/148 [1:12:22<1:41:07, 72.23s/it]"
     ]
    },
    {
     "name": "stdout",
     "output_type": "stream",
     "text": [
      "Extracting: Variable 65-['MuWIR']\n",
      "(411520, 65)\n"
     ]
    },
    {
     "name": "stderr",
     "output_type": "stream",
     "text": [
      " 44%|█████████████████████████████████▊                                           | 65/148 [1:13:53<1:47:43, 77.87s/it]"
     ]
    },
    {
     "name": "stdout",
     "output_type": "stream",
     "text": [
      "Extracting: Variable 66-['NBLI']\n",
      "(411520, 66)\n"
     ]
    },
    {
     "name": "stderr",
     "output_type": "stream",
     "text": [
      " 45%|██████████████████████████████████▎                                          | 66/148 [1:15:00<1:41:48, 74.50s/it]"
     ]
    },
    {
     "name": "stdout",
     "output_type": "stream",
     "text": [
      "Extracting: Variable 67-['NBR']\n",
      "(411520, 67)\n"
     ]
    },
    {
     "name": "stderr",
     "output_type": "stream",
     "text": [
      " 45%|██████████████████████████████████▊                                          | 67/148 [1:16:03<1:35:48, 70.96s/it]"
     ]
    },
    {
     "name": "stdout",
     "output_type": "stream",
     "text": [
      "Extracting: Variable 68-['NBR2']\n",
      "(411520, 68)\n"
     ]
    },
    {
     "name": "stderr",
     "output_type": "stream",
     "text": [
      " 46%|███████████████████████████████████▍                                         | 68/148 [1:17:10<1:33:19, 70.00s/it]"
     ]
    },
    {
     "name": "stdout",
     "output_type": "stream",
     "text": [
      "Extracting: Variable 69-['NBRT1']\n",
      "(411520, 69)\n"
     ]
    },
    {
     "name": "stderr",
     "output_type": "stream",
     "text": [
      " 47%|███████████████████████████████████▉                                         | 69/148 [1:18:15<1:30:07, 68.45s/it]"
     ]
    },
    {
     "name": "stdout",
     "output_type": "stream",
     "text": [
      "Extracting: Variable 70-['NBRT2']\n",
      "(411520, 70)\n"
     ]
    },
    {
     "name": "stderr",
     "output_type": "stream",
     "text": [
      " 47%|████████████████████████████████████▍                                        | 70/148 [1:19:13<1:24:47, 65.22s/it]"
     ]
    },
    {
     "name": "stdout",
     "output_type": "stream",
     "text": [
      "Extracting: Variable 71-['NBRT3']\n",
      "(411520, 71)\n"
     ]
    },
    {
     "name": "stderr",
     "output_type": "stream",
     "text": [
      " 48%|████████████████████████████████████▉                                        | 71/148 [1:20:19<1:24:08, 65.56s/it]"
     ]
    },
    {
     "name": "stdout",
     "output_type": "stream",
     "text": [
      "Extracting: Variable 72-['NBSIMS']\n",
      "(411520, 72)\n"
     ]
    },
    {
     "name": "stderr",
     "output_type": "stream",
     "text": [
      " 49%|█████████████████████████████████████▍                                       | 72/148 [1:21:41<1:29:20, 70.53s/it]"
     ]
    },
    {
     "name": "stdout",
     "output_type": "stream",
     "text": [
      "Extracting: Variable 73-['NBUI']\n",
      "(411520, 73)\n"
     ]
    },
    {
     "name": "stderr",
     "output_type": "stream",
     "text": [
      " 49%|█████████████████████████████████████▉                                       | 73/148 [1:23:06<1:33:17, 74.63s/it]"
     ]
    },
    {
     "name": "stdout",
     "output_type": "stream",
     "text": [
      "Extracting: Variable 74-['NDBI']\n",
      "(411520, 74)\n"
     ]
    },
    {
     "name": "stderr",
     "output_type": "stream",
     "text": [
      " 50%|██████████████████████████████████████▌                                      | 74/148 [1:24:14<1:29:35, 72.64s/it]"
     ]
    },
    {
     "name": "stdout",
     "output_type": "stream",
     "text": [
      "Extracting: Variable 75-['NDBaI']\n",
      "(411520, 75)\n"
     ]
    },
    {
     "name": "stderr",
     "output_type": "stream",
     "text": [
      " 51%|███████████████████████████████████████                                      | 75/148 [1:25:23<1:27:04, 71.56s/it]"
     ]
    },
    {
     "name": "stdout",
     "output_type": "stream",
     "text": [
      "Extracting: Variable 76-['NDDI']\n",
      "(411520, 76)\n"
     ]
    },
    {
     "name": "stderr",
     "output_type": "stream",
     "text": [
      " 51%|███████████████████████████████████████▌                                     | 76/148 [1:26:23<1:21:44, 68.12s/it]"
     ]
    },
    {
     "name": "stdout",
     "output_type": "stream",
     "text": [
      "Extracting: Variable 77-['NDGI']\n",
      "(411520, 77)\n"
     ]
    },
    {
     "name": "stderr",
     "output_type": "stream",
     "text": [
      " 52%|████████████████████████████████████████                                     | 77/148 [1:27:33<1:21:24, 68.79s/it]"
     ]
    },
    {
     "name": "stdout",
     "output_type": "stream",
     "text": [
      "Extracting: Variable 78-['NDGlaI']\n",
      "(411520, 78)\n"
     ]
    },
    {
     "name": "stderr",
     "output_type": "stream",
     "text": [
      " 53%|████████████████████████████████████████▌                                    | 78/148 [1:28:53<1:24:07, 72.11s/it]"
     ]
    },
    {
     "name": "stdout",
     "output_type": "stream",
     "text": [
      "Extracting: Variable 79-['NDII']\n",
      "(411520, 79)\n"
     ]
    },
    {
     "name": "stderr",
     "output_type": "stream",
     "text": [
      " 53%|█████████████████████████████████████████                                    | 79/148 [1:30:20<1:28:05, 76.60s/it]"
     ]
    },
    {
     "name": "stdout",
     "output_type": "stream",
     "text": [
      "Extracting: Variable 80-['NDISIb']\n",
      "(411520, 80)\n"
     ]
    },
    {
     "name": "stderr",
     "output_type": "stream",
     "text": [
      " 54%|█████████████████████████████████████████▌                                   | 80/148 [1:31:41<1:28:19, 77.93s/it]"
     ]
    },
    {
     "name": "stdout",
     "output_type": "stream",
     "text": [
      "Extracting: Variable 81-['NDISIg']\n",
      "(411520, 81)\n"
     ]
    },
    {
     "name": "stderr",
     "output_type": "stream",
     "text": [
      " 55%|██████████████████████████████████████████▏                                  | 81/148 [1:32:51<1:24:28, 75.65s/it]"
     ]
    },
    {
     "name": "stdout",
     "output_type": "stream",
     "text": [
      "Extracting: Variable 82-['NDISImndwi']\n",
      "(411520, 82)\n"
     ]
    },
    {
     "name": "stderr",
     "output_type": "stream",
     "text": [
      " 55%|██████████████████████████████████████████▋                                  | 82/148 [1:34:05<1:22:33, 75.05s/it]"
     ]
    },
    {
     "name": "stdout",
     "output_type": "stream",
     "text": [
      "Extracting: Variable 83-['NDISIndwi']\n",
      "(411520, 83)\n"
     ]
    },
    {
     "name": "stderr",
     "output_type": "stream",
     "text": [
      " 56%|███████████████████████████████████████████▏                                 | 83/148 [1:35:17<1:20:22, 74.20s/it]"
     ]
    },
    {
     "name": "stdout",
     "output_type": "stream",
     "text": [
      "Extracting: Variable 84-['NDISIr']\n",
      "(411520, 84)\n"
     ]
    },
    {
     "name": "stderr",
     "output_type": "stream",
     "text": [
      " 57%|███████████████████████████████████████████▋                                 | 84/148 [1:36:26<1:17:16, 72.44s/it]"
     ]
    },
    {
     "name": "stdout",
     "output_type": "stream",
     "text": [
      "Extracting: Variable 85-['NDMI']\n",
      "(411520, 85)\n"
     ]
    },
    {
     "name": "stderr",
     "output_type": "stream",
     "text": [
      " 57%|████████████████████████████████████████████▏                                | 85/148 [1:37:30<1:13:41, 70.18s/it]"
     ]
    },
    {
     "name": "stdout",
     "output_type": "stream",
     "text": [
      "Extracting: Variable 86-['NDPI']\n",
      "(411520, 86)\n"
     ]
    },
    {
     "name": "stderr",
     "output_type": "stream",
     "text": [
      " 58%|████████████████████████████████████████████▋                                | 86/148 [1:38:34<1:10:22, 68.10s/it]"
     ]
    },
    {
     "name": "stdout",
     "output_type": "stream",
     "text": [
      "Extracting: Variable 87-['NDSI']\n",
      "(411520, 87)\n"
     ]
    },
    {
     "name": "stderr",
     "output_type": "stream",
     "text": [
      " 59%|█████████████████████████████████████████████▎                               | 87/148 [1:39:42<1:09:17, 68.15s/it]"
     ]
    },
    {
     "name": "stdout",
     "output_type": "stream",
     "text": [
      "Extracting: Variable 88-['NDSII']\n",
      "(411520, 88)\n"
     ]
    },
    {
     "name": "stderr",
     "output_type": "stream",
     "text": [
      " 59%|█████████████████████████████████████████████▊                               | 88/148 [1:40:44<1:06:27, 66.46s/it]"
     ]
    },
    {
     "name": "stdout",
     "output_type": "stream",
     "text": [
      "Extracting: Variable 89-['NDSInw']\n",
      "(411520, 89)\n"
     ]
    },
    {
     "name": "stderr",
     "output_type": "stream",
     "text": [
      " 60%|██████████████████████████████████████████████▎                              | 89/148 [1:41:52<1:05:38, 66.76s/it]"
     ]
    },
    {
     "name": "stdout",
     "output_type": "stream",
     "text": [
      "Extracting: Variable 90-['NDSaII']\n",
      "(411520, 90)\n"
     ]
    },
    {
     "name": "stderr",
     "output_type": "stream",
     "text": [
      " 61%|██████████████████████████████████████████████▊                              | 90/148 [1:43:05<1:06:23, 68.68s/it]"
     ]
    },
    {
     "name": "stdout",
     "output_type": "stream",
     "text": [
      "Extracting: Variable 91-['NDSoI']\n",
      "(411520, 91)\n"
     ]
    },
    {
     "name": "stderr",
     "output_type": "stream",
     "text": [
      " 61%|███████████████████████████████████████████████▎                             | 91/148 [1:44:07<1:03:21, 66.69s/it]"
     ]
    },
    {
     "name": "stdout",
     "output_type": "stream",
     "text": [
      "Extracting: Variable 92-['NDVI']\n",
      "(411520, 92)\n"
     ]
    },
    {
     "name": "stderr",
     "output_type": "stream",
     "text": [
      " 62%|███████████████████████████████████████████████▊                             | 92/148 [1:45:10<1:01:17, 65.67s/it]"
     ]
    },
    {
     "name": "stdout",
     "output_type": "stream",
     "text": [
      "Extracting: Variable 93-['NDVIMNDWI']\n",
      "(411520, 93)\n"
     ]
    },
    {
     "name": "stderr",
     "output_type": "stream",
     "text": [
      " 63%|████████████████████████████████████████████████▍                            | 93/148 [1:46:30<1:03:53, 69.70s/it]"
     ]
    },
    {
     "name": "stdout",
     "output_type": "stream",
     "text": [
      "Extracting: Variable 94-['NDVIT']\n",
      "(411520, 94)\n"
     ]
    },
    {
     "name": "stderr",
     "output_type": "stream",
     "text": [
      " 64%|████████████████████████████████████████████████▉                            | 94/148 [1:47:44<1:04:06, 71.24s/it]"
     ]
    },
    {
     "name": "stdout",
     "output_type": "stream",
     "text": [
      "Extracting: Variable 95-['NDWI']\n",
      "(411520, 95)\n"
     ]
    },
    {
     "name": "stderr",
     "output_type": "stream",
     "text": [
      " 64%|█████████████████████████████████████████████████▍                           | 95/148 [1:48:57<1:03:15, 71.62s/it]"
     ]
    },
    {
     "name": "stdout",
     "output_type": "stream",
     "text": [
      "Extracting: Variable 96-['NDWIns']\n",
      "(411520, 96)\n"
     ]
    },
    {
     "name": "stderr",
     "output_type": "stream",
     "text": [
      " 65%|█████████████████████████████████████████████████▉                           | 96/148 [1:50:06<1:01:28, 70.94s/it]"
     ]
    },
    {
     "name": "stdout",
     "output_type": "stream",
     "text": [
      "Extracting: Variable 97-['NDYI']\n",
      "(411520, 97)\n"
     ]
    },
    {
     "name": "stderr",
     "output_type": "stream",
     "text": [
      " 66%|██████████████████████████████████████████████████▍                          | 97/148 [1:51:23<1:01:40, 72.55s/it]"
     ]
    },
    {
     "name": "stdout",
     "output_type": "stream",
     "text": [
      "Extracting: Variable 98-['NGRDI']\n",
      "(411520, 98)\n"
     ]
    },
    {
     "name": "stderr",
     "output_type": "stream",
     "text": [
      " 66%|████████████████████████████████████████████████████▎                          | 98/148 [1:52:26<58:11, 69.84s/it]"
     ]
    },
    {
     "name": "stdout",
     "output_type": "stream",
     "text": [
      "Extracting: Variable 99-['NIRvH2']\n",
      "(411520, 99)\n"
     ]
    },
    {
     "name": "stderr",
     "output_type": "stream",
     "text": [
      " 67%|████████████████████████████████████████████████████▊                          | 99/148 [1:53:28<55:07, 67.49s/it]"
     ]
    },
    {
     "name": "stdout",
     "output_type": "stream",
     "text": [
      "Extracting: Variable 100-['NLI']\n",
      "(411520, 100)\n"
     ]
    },
    {
     "name": "stderr",
     "output_type": "stream",
     "text": [
      " 68%|████████████████████████████████████████████████████▋                         | 100/148 [1:54:49<57:17, 71.62s/it]"
     ]
    },
    {
     "name": "stdout",
     "output_type": "stream",
     "text": [
      "Extracting: Variable 101-['NMDI']\n",
      "(411520, 101)\n"
     ]
    },
    {
     "name": "stderr",
     "output_type": "stream",
     "text": [
      " 68%|█████████████████████████████████████████████████████▏                        | 101/148 [1:55:53<54:13, 69.22s/it]"
     ]
    },
    {
     "name": "stdout",
     "output_type": "stream",
     "text": [
      "Extracting: Variable 102-['NRFIg']\n",
      "(411520, 102)\n"
     ]
    },
    {
     "name": "stderr",
     "output_type": "stream",
     "text": [
      " 69%|█████████████████████████████████████████████████████▊                        | 102/148 [1:56:57<51:52, 67.67s/it]"
     ]
    },
    {
     "name": "stdout",
     "output_type": "stream",
     "text": [
      "Extracting: Variable 103-['NRFIr']\n",
      "(411520, 103)\n"
     ]
    },
    {
     "name": "stderr",
     "output_type": "stream",
     "text": [
      " 70%|██████████████████████████████████████████████████████▎                       | 103/148 [1:58:02<50:13, 66.96s/it]"
     ]
    },
    {
     "name": "stdout",
     "output_type": "stream",
     "text": [
      "Extracting: Variable 104-['NSDS']\n",
      "(411520, 104)\n"
     ]
    },
    {
     "name": "stderr",
     "output_type": "stream",
     "text": [
      " 70%|██████████████████████████████████████████████████████▊                       | 104/148 [1:59:20<51:32, 70.29s/it]"
     ]
    },
    {
     "name": "stdout",
     "output_type": "stream",
     "text": [
      "Extracting: Variable 105-['NWI']\n",
      "(411520, 105)\n"
     ]
    },
    {
     "name": "stderr",
     "output_type": "stream",
     "text": [
      " 71%|███████████████████████████████████████████████████████▎                      | 105/148 [2:00:28<49:52, 69.59s/it]"
     ]
    },
    {
     "name": "stdout",
     "output_type": "stream",
     "text": [
      "Extracting: Variable 106-['NormG']\n",
      "(411520, 106)\n"
     ]
    },
    {
     "name": "stderr",
     "output_type": "stream",
     "text": [
      " 72%|███████████████████████████████████████████████████████▊                      | 106/148 [2:01:30<47:06, 67.29s/it]"
     ]
    },
    {
     "name": "stdout",
     "output_type": "stream",
     "text": [
      "Extracting: Variable 107-['NormNIR']\n",
      "(411520, 107)\n"
     ]
    },
    {
     "name": "stderr",
     "output_type": "stream",
     "text": [
      " 72%|████████████████████████████████████████████████████████▍                     | 107/148 [2:02:37<45:55, 67.20s/it]"
     ]
    },
    {
     "name": "stdout",
     "output_type": "stream",
     "text": [
      "Extracting: Variable 108-['NormR']\n",
      "(411520, 108)\n"
     ]
    },
    {
     "name": "stderr",
     "output_type": "stream",
     "text": [
      " 73%|████████████████████████████████████████████████████████▉                     | 108/148 [2:03:43<44:31, 66.79s/it]"
     ]
    },
    {
     "name": "stdout",
     "output_type": "stream",
     "text": [
      "Extracting: Variable 109-['OCVI']\n",
      "(411520, 109)\n"
     ]
    },
    {
     "name": "stderr",
     "output_type": "stream",
     "text": [
      " 74%|█████████████████████████████████████████████████████████▍                    | 109/148 [2:04:47<42:52, 65.95s/it]"
     ]
    },
    {
     "name": "stdout",
     "output_type": "stream",
     "text": [
      "Extracting: Variable 110-['OSAVI']\n",
      "(411520, 110)\n"
     ]
    },
    {
     "name": "stderr",
     "output_type": "stream",
     "text": [
      " 74%|█████████████████████████████████████████████████████████▉                    | 110/148 [2:05:56<42:25, 67.00s/it]"
     ]
    },
    {
     "name": "stdout",
     "output_type": "stream",
     "text": [
      "Extracting: Variable 111-['PISI']\n",
      "(411520, 111)\n"
     ]
    },
    {
     "name": "stderr",
     "output_type": "stream",
     "text": [
      " 75%|██████████████████████████████████████████████████████████▌                   | 111/148 [2:07:01<40:55, 66.37s/it]"
     ]
    },
    {
     "name": "stdout",
     "output_type": "stream",
     "text": [
      "Extracting: Variable 112-['RCC']\n",
      "(411520, 112)\n"
     ]
    },
    {
     "name": "stderr",
     "output_type": "stream",
     "text": [
      " 76%|███████████████████████████████████████████████████████████                   | 112/148 [2:08:01<38:31, 64.20s/it]"
     ]
    },
    {
     "name": "stdout",
     "output_type": "stream",
     "text": [
      "Extracting: Variable 113-['RDVI']\n",
      "(411520, 113)\n"
     ]
    },
    {
     "name": "stderr",
     "output_type": "stream",
     "text": [
      " 76%|███████████████████████████████████████████████████████████▌                  | 113/148 [2:09:19<40:00, 68.58s/it]"
     ]
    },
    {
     "name": "stdout",
     "output_type": "stream",
     "text": [
      "Extracting: Variable 114-['RGBVI']\n",
      "(411520, 114)\n"
     ]
    },
    {
     "name": "stderr",
     "output_type": "stream",
     "text": [
      " 77%|████████████████████████████████████████████████████████████                  | 114/148 [2:10:32<39:31, 69.76s/it]"
     ]
    },
    {
     "name": "stdout",
     "output_type": "stream",
     "text": [
      "Extracting: Variable 115-['RGRI']\n",
      "(411520, 115)\n"
     ]
    },
    {
     "name": "stderr",
     "output_type": "stream",
     "text": [
      " 78%|████████████████████████████████████████████████████████████▌                 | 115/148 [2:11:39<37:53, 68.90s/it]"
     ]
    },
    {
     "name": "stdout",
     "output_type": "stream",
     "text": [
      "Extracting: Variable 116-['RI']\n",
      "(411520, 116)\n"
     ]
    },
    {
     "name": "stderr",
     "output_type": "stream",
     "text": [
      " 78%|█████████████████████████████████████████████████████████████▏                | 116/148 [2:12:41<35:37, 66.81s/it]"
     ]
    },
    {
     "name": "stdout",
     "output_type": "stream",
     "text": [
      "Extracting: Variable 117-['S3']\n",
      "(411520, 117)\n"
     ]
    },
    {
     "name": "stderr",
     "output_type": "stream",
     "text": [
      " 79%|█████████████████████████████████████████████████████████████▋                | 117/148 [2:13:52<35:15, 68.26s/it]"
     ]
    },
    {
     "name": "stdout",
     "output_type": "stream",
     "text": [
      "Extracting: Variable 118-['SARVI']\n",
      "(411520, 118)\n"
     ]
    },
    {
     "name": "stderr",
     "output_type": "stream",
     "text": [
      " 80%|██████████████████████████████████████████████████████████████▏               | 118/148 [2:14:57<33:36, 67.20s/it]"
     ]
    },
    {
     "name": "stdout",
     "output_type": "stream",
     "text": [
      "Extracting: Variable 119-['SAVI']\n",
      "(411520, 119)\n"
     ]
    },
    {
     "name": "stderr",
     "output_type": "stream",
     "text": [
      " 80%|██████████████████████████████████████████████████████████████▋               | 119/148 [2:16:00<31:50, 65.88s/it]"
     ]
    },
    {
     "name": "stdout",
     "output_type": "stream",
     "text": [
      "Extracting: Variable 120-['SAVI2']\n",
      "(411520, 120)\n"
     ]
    },
    {
     "name": "stderr",
     "output_type": "stream",
     "text": [
      " 81%|███████████████████████████████████████████████████████████████▏              | 120/148 [2:16:56<29:26, 63.09s/it]"
     ]
    },
    {
     "name": "stdout",
     "output_type": "stream",
     "text": [
      "Extracting: Variable 121-['SAVIT']\n",
      "(411520, 121)\n"
     ]
    },
    {
     "name": "stderr",
     "output_type": "stream",
     "text": [
      " 82%|███████████████████████████████████████████████████████████████▊              | 121/148 [2:17:59<28:23, 63.09s/it]"
     ]
    },
    {
     "name": "stdout",
     "output_type": "stream",
     "text": [
      "Extracting: Variable 122-['SI']\n",
      "(411520, 122)\n"
     ]
    },
    {
     "name": "stderr",
     "output_type": "stream",
     "text": [
      " 82%|████████████████████████████████████████████████████████████████▎             | 122/148 [2:19:01<27:09, 62.67s/it]"
     ]
    },
    {
     "name": "stdout",
     "output_type": "stream",
     "text": [
      "Extracting: Variable 123-['SIPI']\n",
      "(411520, 123)\n"
     ]
    },
    {
     "name": "stderr",
     "output_type": "stream",
     "text": [
      " 83%|████████████████████████████████████████████████████████████████▊             | 123/148 [2:20:12<27:07, 65.12s/it]"
     ]
    },
    {
     "name": "stdout",
     "output_type": "stream",
     "text": [
      "Extracting: Variable 124-['SR']\n",
      "(411520, 124)\n"
     ]
    },
    {
     "name": "stderr",
     "output_type": "stream",
     "text": [
      " 84%|█████████████████████████████████████████████████████████████████▎            | 124/148 [2:21:32<27:49, 69.56s/it]"
     ]
    },
    {
     "name": "stdout",
     "output_type": "stream",
     "text": [
      "Extracting: Variable 125-['SR2']\n",
      "(411520, 125)\n"
     ]
    },
    {
     "name": "stderr",
     "output_type": "stream",
     "text": [
      " 84%|█████████████████████████████████████████████████████████████████▉            | 125/148 [2:22:37<26:10, 68.30s/it]"
     ]
    },
    {
     "name": "stdout",
     "output_type": "stream",
     "text": [
      "Extracting: Variable 126-['SWI']\n",
      "(411520, 126)\n"
     ]
    },
    {
     "name": "stderr",
     "output_type": "stream",
     "text": [
      " 85%|██████████████████████████████████████████████████████████████████▍           | 126/148 [2:23:51<25:40, 70.02s/it]"
     ]
    },
    {
     "name": "stdout",
     "output_type": "stream",
     "text": [
      "Extracting: Variable 127-['SWM']\n",
      "(411520, 127)\n"
     ]
    },
    {
     "name": "stderr",
     "output_type": "stream",
     "text": [
      " 86%|██████████████████████████████████████████████████████████████████▉           | 127/148 [2:25:04<24:47, 70.82s/it]"
     ]
    },
    {
     "name": "stdout",
     "output_type": "stream",
     "text": [
      "Extracting: Variable 128-['TDVI']\n",
      "(411520, 128)\n"
     ]
    },
    {
     "name": "stderr",
     "output_type": "stream",
     "text": [
      " 86%|███████████████████████████████████████████████████████████████████▍          | 128/148 [2:26:12<23:20, 70.05s/it]"
     ]
    },
    {
     "name": "stdout",
     "output_type": "stream",
     "text": [
      "Extracting: Variable 129-['TGI']\n",
      "(411520, 129)\n"
     ]
    },
    {
     "name": "stderr",
     "output_type": "stream",
     "text": [
      " 87%|███████████████████████████████████████████████████████████████████▉          | 129/148 [2:27:12<21:14, 67.06s/it]"
     ]
    },
    {
     "name": "stdout",
     "output_type": "stream",
     "text": [
      "Extracting: Variable 130-['TSAVI']\n",
      "(411520, 130)\n"
     ]
    },
    {
     "name": "stderr",
     "output_type": "stream",
     "text": [
      " 88%|████████████████████████████████████████████████████████████████████▌         | 130/148 [2:28:21<20:14, 67.46s/it]"
     ]
    },
    {
     "name": "stdout",
     "output_type": "stream",
     "text": [
      "Extracting: Variable 131-['TVI']\n",
      "(411520, 131)\n"
     ]
    },
    {
     "name": "stderr",
     "output_type": "stream",
     "text": [
      " 89%|█████████████████████████████████████████████████████████████████████         | 131/148 [2:29:43<20:20, 71.80s/it]"
     ]
    },
    {
     "name": "stdout",
     "output_type": "stream",
     "text": [
      "Extracting: Variable 132-['TriVI']\n",
      "(411520, 132)\n"
     ]
    },
    {
     "name": "stderr",
     "output_type": "stream",
     "text": [
      " 89%|█████████████████████████████████████████████████████████████████████▌        | 132/148 [2:30:47<18:33, 69.61s/it]"
     ]
    },
    {
     "name": "stdout",
     "output_type": "stream",
     "text": [
      "Extracting: Variable 133-['UI']\n",
      "(411520, 133)\n"
     ]
    },
    {
     "name": "stderr",
     "output_type": "stream",
     "text": [
      " 90%|██████████████████████████████████████████████████████████████████████        | 133/148 [2:31:49<16:50, 67.35s/it]"
     ]
    },
    {
     "name": "stdout",
     "output_type": "stream",
     "text": [
      "Extracting: Variable 134-['VARI']\n",
      "(411520, 134)\n"
     ]
    },
    {
     "name": "stderr",
     "output_type": "stream",
     "text": [
      " 91%|██████████████████████████████████████████████████████████████████████▌       | 134/148 [2:33:03<16:08, 69.15s/it]"
     ]
    },
    {
     "name": "stdout",
     "output_type": "stream",
     "text": [
      "Extracting: Variable 135-['VI6T']\n",
      "(411520, 135)\n"
     ]
    },
    {
     "name": "stderr",
     "output_type": "stream",
     "text": [
      " 91%|███████████████████████████████████████████████████████████████████████▏      | 135/148 [2:34:14<15:08, 69.90s/it]"
     ]
    },
    {
     "name": "stdout",
     "output_type": "stream",
     "text": [
      "Extracting: Variable 136-['VIG']\n",
      "(411520, 136)\n"
     ]
    },
    {
     "name": "stderr",
     "output_type": "stream",
     "text": [
      " 92%|███████████████████████████████████████████████████████████████████████▋      | 136/148 [2:35:17<13:31, 67.63s/it]"
     ]
    },
    {
     "name": "stdout",
     "output_type": "stream",
     "text": [
      "Extracting: Variable 137-['VgNIRBI']\n",
      "(411520, 137)\n"
     ]
    },
    {
     "name": "stderr",
     "output_type": "stream",
     "text": [
      " 93%|████████████████████████████████████████████████████████████████████████▏     | 137/148 [2:36:22<12:18, 67.12s/it]"
     ]
    },
    {
     "name": "stdout",
     "output_type": "stream",
     "text": [
      "Extracting: Variable 138-['VrNIRBI']\n",
      "(411520, 138)\n"
     ]
    },
    {
     "name": "stderr",
     "output_type": "stream",
     "text": [
      " 93%|████████████████████████████████████████████████████████████████████████▋     | 138/148 [2:37:29<11:08, 66.90s/it]"
     ]
    },
    {
     "name": "stdout",
     "output_type": "stream",
     "text": [
      "Extracting: Variable 139-['WDRVI']\n",
      "(411520, 139)\n"
     ]
    },
    {
     "name": "stderr",
     "output_type": "stream",
     "text": [
      " 94%|█████████████████████████████████████████████████████████████████████████▎    | 139/148 [2:38:39<10:09, 67.74s/it]"
     ]
    },
    {
     "name": "stdout",
     "output_type": "stream",
     "text": [
      "Extracting: Variable 140-['WDVI']\n",
      "(411520, 140)\n"
     ]
    },
    {
     "name": "stderr",
     "output_type": "stream",
     "text": [
      " 95%|█████████████████████████████████████████████████████████████████████████▊    | 140/148 [2:39:41<08:49, 66.18s/it]"
     ]
    },
    {
     "name": "stdout",
     "output_type": "stream",
     "text": [
      "Extracting: Variable 141-['WI1']\n",
      "(411520, 141)\n"
     ]
    },
    {
     "name": "stderr",
     "output_type": "stream",
     "text": [
      " 95%|██████████████████████████████████████████████████████████████████████████▎   | 141/148 [2:40:52<07:53, 67.68s/it]"
     ]
    },
    {
     "name": "stdout",
     "output_type": "stream",
     "text": [
      "Extracting: Variable 142-['WI2']\n",
      "(411520, 142)\n"
     ]
    },
    {
     "name": "stderr",
     "output_type": "stream",
     "text": [
      " 96%|██████████████████████████████████████████████████████████████████████████▊   | 142/148 [2:41:56<06:39, 66.64s/it]"
     ]
    },
    {
     "name": "stdout",
     "output_type": "stream",
     "text": [
      "Extracting: Variable 143-['WRI']\n",
      "(411520, 143)\n"
     ]
    },
    {
     "name": "stderr",
     "output_type": "stream",
     "text": [
      " 97%|███████████████████████████████████████████████████████████████████████████▎  | 143/148 [2:43:06<05:37, 67.58s/it]"
     ]
    },
    {
     "name": "stdout",
     "output_type": "stream",
     "text": [
      "Extracting: Variable 144-['kEVI']\n",
      "(411520, 144)\n"
     ]
    },
    {
     "name": "stderr",
     "output_type": "stream",
     "text": [
      " 97%|███████████████████████████████████████████████████████████████████████████▉  | 144/148 [2:44:18<04:34, 68.68s/it]"
     ]
    },
    {
     "name": "stdout",
     "output_type": "stream",
     "text": [
      "Extracting: Variable 145-['kIPVI']\n",
      "(411520, 145)\n"
     ]
    },
    {
     "name": "stderr",
     "output_type": "stream",
     "text": [
      " 98%|████████████████████████████████████████████████████████████████████████████▍ | 145/148 [2:45:25<03:25, 68.34s/it]"
     ]
    },
    {
     "name": "stdout",
     "output_type": "stream",
     "text": [
      "Extracting: Variable 146-['kNDVI']\n",
      "(411520, 146)\n"
     ]
    },
    {
     "name": "stderr",
     "output_type": "stream",
     "text": [
      " 99%|████████████████████████████████████████████████████████████████████████████▉ | 146/148 [2:46:31<02:15, 67.51s/it]"
     ]
    },
    {
     "name": "stdout",
     "output_type": "stream",
     "text": [
      "Extracting: Variable 147-['kRVI']\n",
      "(411520, 147)\n"
     ]
    },
    {
     "name": "stderr",
     "output_type": "stream",
     "text": [
      " 99%|█████████████████████████████████████████████████████████████████████████████▍| 147/148 [2:47:41<01:08, 68.22s/it]"
     ]
    },
    {
     "name": "stdout",
     "output_type": "stream",
     "text": [
      "Extracting: Variable 148-['kVARI']\n",
      "(411520, 148)\n"
     ]
    },
    {
     "name": "stderr",
     "output_type": "stream",
     "text": [
      "100%|██████████████████████████████████████████████████████████████████████████████| 148/148 [2:48:48<00:00, 68.43s/it]\n"
     ]
    }
   ],
   "source": [
    "fn3 = r'C:\\Users\\coach\\myfiles\\conservation\\Handover\\AGBD\\Data\\scratch\\biomass_indicesl8.parquet'  \n",
    "covs = target.addBands(covariates)\n",
    "properties = covs.bandNames().getInfo()\n",
    "extract_eemont_indices(indices= 'all', imageCollection = l8, platform = 'Landsat-OLI', append = '_l9', filename = fn3, batch = 1)"
   ]
  },
  {
   "cell_type": "code",
   "execution_count": 53,
   "id": "7e6ba5c8-2e97-4afc-83df-f2c572b9b8ec",
   "metadata": {
    "collapsed": true,
    "jupyter": {
     "outputs_hidden": true
    },
    "tags": []
   },
   "outputs": [
    {
     "name": "stderr",
     "output_type": "stream",
     "text": [
      "  0%|                                                                                          | 0/148 [00:00<?, ?it/s]"
     ]
    },
    {
     "name": "stdout",
     "output_type": "stream",
     "text": [
      "Extracting: Variable 1-['AFRI2100']\n"
     ]
    },
    {
     "name": "stderr",
     "output_type": "stream",
     "text": [
      "  1%|▌                                                                               | 1/148 [00:50<2:04:37, 50.87s/it]"
     ]
    },
    {
     "name": "stdout",
     "output_type": "stream",
     "text": [
      "(411520, 1)\n",
      "Extracting: Variable 2-['ARVI']\n"
     ]
    },
    {
     "name": "stderr",
     "output_type": "stream",
     "text": [
      "  1%|█                                                                               | 2/148 [01:42<2:04:43, 51.26s/it]"
     ]
    },
    {
     "name": "stdout",
     "output_type": "stream",
     "text": [
      "(411520, 2)\n",
      "Extracting: Variable 3-['ATSAVI']\n"
     ]
    },
    {
     "name": "stderr",
     "output_type": "stream",
     "text": [
      "  2%|█▌                                                                              | 3/148 [02:28<1:58:17, 48.95s/it]"
     ]
    },
    {
     "name": "stdout",
     "output_type": "stream",
     "text": [
      "(411520, 3)\n",
      "Extracting: Variable 4-['AVI']\n"
     ]
    },
    {
     "name": "stderr",
     "output_type": "stream",
     "text": [
      "  3%|██▏                                                                             | 4/148 [03:13<1:53:54, 47.46s/it]"
     ]
    },
    {
     "name": "stdout",
     "output_type": "stream",
     "text": [
      "(411520, 4)\n",
      "Extracting: Variable 5-['AWEInsh']\n",
      "(411520, 5)\n"
     ]
    },
    {
     "name": "stderr",
     "output_type": "stream",
     "text": [
      "  3%|██▋                                                                             | 5/148 [04:03<1:55:06, 48.30s/it]"
     ]
    },
    {
     "name": "stdout",
     "output_type": "stream",
     "text": [
      "Extracting: Variable 6-['AWEIsh']\n",
      "(411520, 6)\n"
     ]
    },
    {
     "name": "stderr",
     "output_type": "stream",
     "text": [
      "  4%|███▏                                                                            | 6/148 [04:50<1:53:18, 47.88s/it]"
     ]
    },
    {
     "name": "stdout",
     "output_type": "stream",
     "text": [
      "Extracting: Variable 7-['BAI']\n",
      "(411520, 7)\n"
     ]
    },
    {
     "name": "stderr",
     "output_type": "stream",
     "text": [
      "  5%|███▊                                                                            | 7/148 [05:38<1:52:45, 47.98s/it]"
     ]
    },
    {
     "name": "stdout",
     "output_type": "stream",
     "text": [
      "Extracting: Variable 8-['BAIM']\n",
      "(411520, 8)\n"
     ]
    },
    {
     "name": "stderr",
     "output_type": "stream",
     "text": [
      "  5%|████▎                                                                           | 8/148 [06:26<1:51:27, 47.77s/it]"
     ]
    },
    {
     "name": "stdout",
     "output_type": "stream",
     "text": [
      "Extracting: Variable 9-['BCC']\n",
      "(411520, 9)\n"
     ]
    },
    {
     "name": "stderr",
     "output_type": "stream",
     "text": [
      "  6%|████▊                                                                           | 9/148 [07:12<1:49:37, 47.32s/it]"
     ]
    },
    {
     "name": "stdout",
     "output_type": "stream",
     "text": [
      "Extracting: Variable 10-['BI']\n",
      "(411520, 10)\n"
     ]
    },
    {
     "name": "stderr",
     "output_type": "stream",
     "text": [
      "  7%|█████▎                                                                         | 10/148 [08:02<1:50:52, 48.21s/it]"
     ]
    },
    {
     "name": "stdout",
     "output_type": "stream",
     "text": [
      "Extracting: Variable 11-['BLFEI']\n",
      "(411520, 11)\n"
     ]
    },
    {
     "name": "stderr",
     "output_type": "stream",
     "text": [
      "  7%|█████▊                                                                         | 11/148 [08:52<1:50:52, 48.56s/it]"
     ]
    },
    {
     "name": "stdout",
     "output_type": "stream",
     "text": [
      "Extracting: Variable 12-['BNDVI']\n",
      "(411520, 12)\n"
     ]
    },
    {
     "name": "stderr",
     "output_type": "stream",
     "text": [
      "  8%|██████▍                                                                        | 12/148 [09:36<1:47:01, 47.21s/it]"
     ]
    },
    {
     "name": "stdout",
     "output_type": "stream",
     "text": [
      "Extracting: Variable 13-['BWDRVI']\n",
      "(411520, 13)\n"
     ]
    },
    {
     "name": "stderr",
     "output_type": "stream",
     "text": [
      "  9%|██████▉                                                                        | 13/148 [10:19<1:43:55, 46.19s/it]"
     ]
    },
    {
     "name": "stdout",
     "output_type": "stream",
     "text": [
      "Extracting: Variable 14-['BaI']\n",
      "(411520, 14)\n"
     ]
    },
    {
     "name": "stderr",
     "output_type": "stream",
     "text": [
      "  9%|███████▍                                                                       | 14/148 [11:06<1:43:06, 46.17s/it]"
     ]
    },
    {
     "name": "stdout",
     "output_type": "stream",
     "text": [
      "Extracting: Variable 15-['CIG']\n",
      "(411520, 15)\n"
     ]
    },
    {
     "name": "stderr",
     "output_type": "stream",
     "text": [
      " 10%|████████                                                                       | 15/148 [11:50<1:41:09, 45.63s/it]"
     ]
    },
    {
     "name": "stdout",
     "output_type": "stream",
     "text": [
      "Extracting: Variable 16-['CSI']\n",
      "(411520, 16)\n"
     ]
    },
    {
     "name": "stderr",
     "output_type": "stream",
     "text": [
      " 11%|████████▌                                                                      | 16/148 [12:42<1:44:25, 47.47s/it]"
     ]
    },
    {
     "name": "stdout",
     "output_type": "stream",
     "text": [
      "Extracting: Variable 17-['CSIT']\n",
      "(411520, 17)\n"
     ]
    },
    {
     "name": "stderr",
     "output_type": "stream",
     "text": [
      " 11%|█████████                                                                      | 17/148 [13:37<1:48:58, 49.91s/it]"
     ]
    },
    {
     "name": "stdout",
     "output_type": "stream",
     "text": [
      "Extracting: Variable 18-['CVI']\n",
      "(411520, 18)\n"
     ]
    },
    {
     "name": "stderr",
     "output_type": "stream",
     "text": [
      " 12%|█████████▌                                                                     | 18/148 [14:26<1:47:33, 49.64s/it]"
     ]
    },
    {
     "name": "stdout",
     "output_type": "stream",
     "text": [
      "Extracting: Variable 19-['DBI']\n",
      "(411520, 19)\n"
     ]
    },
    {
     "name": "stderr",
     "output_type": "stream",
     "text": [
      " 13%|██████████▏                                                                    | 19/148 [15:19<1:48:39, 50.54s/it]"
     ]
    },
    {
     "name": "stdout",
     "output_type": "stream",
     "text": [
      "Extracting: Variable 20-['DBSI']\n",
      "(411520, 20)\n"
     ]
    },
    {
     "name": "stderr",
     "output_type": "stream",
     "text": [
      " 14%|██████████▋                                                                    | 20/148 [16:07<1:46:17, 49.82s/it]"
     ]
    },
    {
     "name": "stdout",
     "output_type": "stream",
     "text": [
      "Extracting: Variable 21-['DVI']\n",
      "(411520, 21)\n"
     ]
    },
    {
     "name": "stderr",
     "output_type": "stream",
     "text": [
      " 14%|███████████▏                                                                   | 21/148 [16:53<1:43:14, 48.78s/it]"
     ]
    },
    {
     "name": "stdout",
     "output_type": "stream",
     "text": [
      "Extracting: Variable 22-['DVIplus']\n",
      "(411520, 22)\n"
     ]
    },
    {
     "name": "stderr",
     "output_type": "stream",
     "text": [
      " 15%|███████████▋                                                                   | 22/148 [17:39<1:40:17, 47.76s/it]"
     ]
    },
    {
     "name": "stdout",
     "output_type": "stream",
     "text": [
      "Extracting: Variable 23-['EBBI']\n",
      "(411520, 23)\n"
     ]
    },
    {
     "name": "stderr",
     "output_type": "stream",
     "text": [
      " 16%|████████████▎                                                                  | 23/148 [18:30<1:41:37, 48.78s/it]"
     ]
    },
    {
     "name": "stdout",
     "output_type": "stream",
     "text": [
      "Extracting: Variable 24-['EMBI']\n",
      "(411520, 24)\n"
     ]
    },
    {
     "name": "stderr",
     "output_type": "stream",
     "text": [
      " 16%|████████████▊                                                                  | 24/148 [19:19<1:41:13, 48.98s/it]"
     ]
    },
    {
     "name": "stdout",
     "output_type": "stream",
     "text": [
      "Extracting: Variable 25-['EVI']\n",
      "(411520, 25)\n"
     ]
    },
    {
     "name": "stderr",
     "output_type": "stream",
     "text": [
      " 17%|█████████████▎                                                                 | 25/148 [20:09<1:40:48, 49.18s/it]"
     ]
    },
    {
     "name": "stdout",
     "output_type": "stream",
     "text": [
      "Extracting: Variable 26-['EVI2']\n",
      "(411520, 26)\n"
     ]
    },
    {
     "name": "stderr",
     "output_type": "stream",
     "text": [
      " 18%|█████████████▉                                                                 | 26/148 [20:59<1:40:26, 49.40s/it]"
     ]
    },
    {
     "name": "stdout",
     "output_type": "stream",
     "text": [
      "Extracting: Variable 27-['ExG']\n",
      "(411520, 27)\n"
     ]
    },
    {
     "name": "stderr",
     "output_type": "stream",
     "text": [
      " 18%|██████████████▍                                                                | 27/148 [21:49<1:40:11, 49.68s/it]"
     ]
    },
    {
     "name": "stdout",
     "output_type": "stream",
     "text": [
      "Extracting: Variable 28-['ExGR']\n",
      "(411520, 28)\n"
     ]
    },
    {
     "name": "stderr",
     "output_type": "stream",
     "text": [
      " 19%|██████████████▉                                                                | 28/148 [22:41<1:40:16, 50.14s/it]"
     ]
    },
    {
     "name": "stdout",
     "output_type": "stream",
     "text": [
      "Extracting: Variable 29-['ExR']\n",
      "(411520, 29)\n"
     ]
    },
    {
     "name": "stderr",
     "output_type": "stream",
     "text": [
      " 20%|███████████████▍                                                               | 29/148 [23:29<1:38:38, 49.73s/it]"
     ]
    },
    {
     "name": "stdout",
     "output_type": "stream",
     "text": [
      "Extracting: Variable 30-['FCVI']\n",
      "(411520, 30)\n"
     ]
    },
    {
     "name": "stderr",
     "output_type": "stream",
     "text": [
      " 20%|████████████████                                                               | 30/148 [24:19<1:37:40, 49.67s/it]"
     ]
    },
    {
     "name": "stdout",
     "output_type": "stream",
     "text": [
      "Extracting: Variable 31-['GARI']\n",
      "(411520, 31)\n"
     ]
    },
    {
     "name": "stderr",
     "output_type": "stream",
     "text": [
      " 21%|████████████████▌                                                              | 31/148 [25:06<1:35:10, 48.81s/it]"
     ]
    },
    {
     "name": "stdout",
     "output_type": "stream",
     "text": [
      "Extracting: Variable 32-['GBNDVI']\n",
      "(411520, 32)\n"
     ]
    },
    {
     "name": "stderr",
     "output_type": "stream",
     "text": [
      " 22%|█████████████████                                                              | 32/148 [26:00<1:37:50, 50.61s/it]"
     ]
    },
    {
     "name": "stdout",
     "output_type": "stream",
     "text": [
      "Extracting: Variable 33-['GCC']\n",
      "(411520, 33)\n"
     ]
    },
    {
     "name": "stderr",
     "output_type": "stream",
     "text": [
      " 22%|█████████████████▌                                                             | 33/148 [26:51<1:37:05, 50.66s/it]"
     ]
    },
    {
     "name": "stdout",
     "output_type": "stream",
     "text": [
      "Extracting: Variable 34-['GDVI']\n",
      "(411520, 34)\n"
     ]
    },
    {
     "name": "stderr",
     "output_type": "stream",
     "text": [
      " 23%|██████████████████▏                                                            | 34/148 [27:38<1:34:05, 49.52s/it]"
     ]
    },
    {
     "name": "stdout",
     "output_type": "stream",
     "text": [
      "Extracting: Variable 35-['GEMI']\n",
      "(411520, 35)\n"
     ]
    },
    {
     "name": "stderr",
     "output_type": "stream",
     "text": [
      " 24%|██████████████████▋                                                            | 35/148 [28:35<1:37:12, 51.61s/it]"
     ]
    },
    {
     "name": "stdout",
     "output_type": "stream",
     "text": [
      "Extracting: Variable 36-['GLI']\n",
      "(411520, 36)\n"
     ]
    },
    {
     "name": "stderr",
     "output_type": "stream",
     "text": [
      " 24%|███████████████████▏                                                           | 36/148 [29:31<1:39:13, 53.16s/it]"
     ]
    },
    {
     "name": "stdout",
     "output_type": "stream",
     "text": [
      "Extracting: Variable 37-['GNDVI']\n",
      "(411520, 37)\n"
     ]
    },
    {
     "name": "stderr",
     "output_type": "stream",
     "text": [
      " 25%|███████████████████▊                                                           | 37/148 [30:28<1:40:08, 54.13s/it]"
     ]
    },
    {
     "name": "stdout",
     "output_type": "stream",
     "text": [
      "Extracting: Variable 38-['GOSAVI']\n",
      "(411520, 38)\n"
     ]
    },
    {
     "name": "stderr",
     "output_type": "stream",
     "text": [
      " 26%|████████████████████▎                                                          | 38/148 [31:18<1:37:17, 53.07s/it]"
     ]
    },
    {
     "name": "stdout",
     "output_type": "stream",
     "text": [
      "Extracting: Variable 39-['GRNDVI']\n",
      "(411520, 39)\n"
     ]
    },
    {
     "name": "stderr",
     "output_type": "stream",
     "text": [
      " 26%|████████████████████▊                                                          | 39/148 [32:08<1:34:17, 51.91s/it]"
     ]
    },
    {
     "name": "stdout",
     "output_type": "stream",
     "text": [
      "Extracting: Variable 40-['GRVI']\n",
      "(411520, 40)\n"
     ]
    },
    {
     "name": "stderr",
     "output_type": "stream",
     "text": [
      " 27%|█████████████████████▎                                                         | 40/148 [32:54<1:30:44, 50.41s/it]"
     ]
    },
    {
     "name": "stdout",
     "output_type": "stream",
     "text": [
      "Extracting: Variable 41-['GSAVI']\n",
      "(411520, 41)\n"
     ]
    },
    {
     "name": "stderr",
     "output_type": "stream",
     "text": [
      " 28%|█████████████████████▉                                                         | 41/148 [33:48<1:31:20, 51.22s/it]"
     ]
    },
    {
     "name": "stdout",
     "output_type": "stream",
     "text": [
      "Extracting: Variable 42-['GVMI']\n",
      "(411520, 42)\n"
     ]
    },
    {
     "name": "stderr",
     "output_type": "stream",
     "text": [
      " 28%|██████████████████████▍                                                        | 42/148 [34:31<1:26:29, 48.95s/it]"
     ]
    },
    {
     "name": "stdout",
     "output_type": "stream",
     "text": [
      "Extracting: Variable 43-['IAVI']\n",
      "(411520, 43)\n"
     ]
    },
    {
     "name": "stderr",
     "output_type": "stream",
     "text": [
      " 29%|██████████████████████▉                                                        | 43/148 [35:19<1:24:47, 48.46s/it]"
     ]
    },
    {
     "name": "stdout",
     "output_type": "stream",
     "text": [
      "Extracting: Variable 44-['IBI']\n",
      "(411520, 44)\n"
     ]
    },
    {
     "name": "stderr",
     "output_type": "stream",
     "text": [
      " 30%|███████████████████████▍                                                       | 44/148 [36:10<1:25:40, 49.43s/it]"
     ]
    },
    {
     "name": "stdout",
     "output_type": "stream",
     "text": [
      "Extracting: Variable 45-['IKAW']\n",
      "(411520, 45)\n"
     ]
    },
    {
     "name": "stderr",
     "output_type": "stream",
     "text": [
      " 30%|████████████████████████                                                       | 45/148 [36:56<1:23:04, 48.39s/it]"
     ]
    },
    {
     "name": "stdout",
     "output_type": "stream",
     "text": [
      "Extracting: Variable 46-['IPVI']\n",
      "(411520, 46)\n"
     ]
    },
    {
     "name": "stderr",
     "output_type": "stream",
     "text": [
      " 31%|████████████████████████▌                                                      | 46/148 [37:44<1:21:51, 48.15s/it]"
     ]
    },
    {
     "name": "stdout",
     "output_type": "stream",
     "text": [
      "Extracting: Variable 47-['LSWI']\n",
      "(411520, 47)\n"
     ]
    },
    {
     "name": "stderr",
     "output_type": "stream",
     "text": [
      " 32%|█████████████████████████                                                      | 47/148 [38:34<1:21:52, 48.64s/it]"
     ]
    },
    {
     "name": "stdout",
     "output_type": "stream",
     "text": [
      "Extracting: Variable 48-['MBI']\n",
      "(411520, 48)\n"
     ]
    },
    {
     "name": "stderr",
     "output_type": "stream",
     "text": [
      " 32%|█████████████████████████▌                                                     | 48/148 [39:24<1:21:44, 49.04s/it]"
     ]
    },
    {
     "name": "stdout",
     "output_type": "stream",
     "text": [
      "Extracting: Variable 49-['MBWI']\n",
      "(411520, 49)\n"
     ]
    },
    {
     "name": "stderr",
     "output_type": "stream",
     "text": [
      " 33%|██████████████████████████▏                                                    | 49/148 [40:04<1:16:30, 46.37s/it]"
     ]
    },
    {
     "name": "stdout",
     "output_type": "stream",
     "text": [
      "Extracting: Variable 50-['MCARI1']\n",
      "(411520, 50)\n"
     ]
    },
    {
     "name": "stderr",
     "output_type": "stream",
     "text": [
      " 34%|██████████████████████████▋                                                    | 50/148 [40:57<1:19:18, 48.56s/it]"
     ]
    },
    {
     "name": "stdout",
     "output_type": "stream",
     "text": [
      "Extracting: Variable 51-['MCARI2']\n",
      "(411520, 51)\n"
     ]
    },
    {
     "name": "stderr",
     "output_type": "stream",
     "text": [
      " 34%|███████████████████████████▏                                                   | 51/148 [41:43<1:17:00, 47.64s/it]"
     ]
    },
    {
     "name": "stdout",
     "output_type": "stream",
     "text": [
      "Extracting: Variable 52-['MGRVI']\n",
      "(411520, 52)\n"
     ]
    },
    {
     "name": "stderr",
     "output_type": "stream",
     "text": [
      " 35%|███████████████████████████▊                                                   | 52/148 [42:31<1:16:36, 47.88s/it]"
     ]
    },
    {
     "name": "stdout",
     "output_type": "stream",
     "text": [
      "Extracting: Variable 53-['MIRBI']\n",
      "(411520, 53)\n"
     ]
    },
    {
     "name": "stderr",
     "output_type": "stream",
     "text": [
      " 36%|████████████████████████████▎                                                  | 53/148 [43:19<1:15:33, 47.72s/it]"
     ]
    },
    {
     "name": "stdout",
     "output_type": "stream",
     "text": [
      "Extracting: Variable 54-['MLSWI26']\n",
      "(411520, 54)\n"
     ]
    },
    {
     "name": "stderr",
     "output_type": "stream",
     "text": [
      " 36%|████████████████████████████▊                                                  | 54/148 [44:08<1:15:24, 48.13s/it]"
     ]
    },
    {
     "name": "stdout",
     "output_type": "stream",
     "text": [
      "Extracting: Variable 55-['MLSWI27']\n",
      "(411520, 55)\n"
     ]
    },
    {
     "name": "stderr",
     "output_type": "stream",
     "text": [
      " 37%|█████████████████████████████▎                                                 | 55/148 [45:06<1:19:05, 51.03s/it]"
     ]
    },
    {
     "name": "stdout",
     "output_type": "stream",
     "text": [
      "Extracting: Variable 56-['MNDVI']\n",
      "(411520, 56)\n"
     ]
    },
    {
     "name": "stderr",
     "output_type": "stream",
     "text": [
      " 38%|█████████████████████████████▉                                                 | 56/148 [46:01<1:20:21, 52.41s/it]"
     ]
    },
    {
     "name": "stdout",
     "output_type": "stream",
     "text": [
      "Extracting: Variable 57-['MNDWI']\n",
      "(411520, 57)\n"
     ]
    },
    {
     "name": "stderr",
     "output_type": "stream",
     "text": [
      " 39%|██████████████████████████████▍                                                | 57/148 [46:57<1:20:59, 53.40s/it]"
     ]
    },
    {
     "name": "stdout",
     "output_type": "stream",
     "text": [
      "Extracting: Variable 58-['MNLI']\n",
      "(411520, 58)\n"
     ]
    },
    {
     "name": "stderr",
     "output_type": "stream",
     "text": [
      " 39%|██████████████████████████████▉                                                | 58/148 [47:46<1:18:03, 52.04s/it]"
     ]
    },
    {
     "name": "stdout",
     "output_type": "stream",
     "text": [
      "Extracting: Variable 59-['MRBVI']\n",
      "(411520, 59)\n"
     ]
    },
    {
     "name": "stderr",
     "output_type": "stream",
     "text": [
      " 40%|███████████████████████████████▍                                               | 59/148 [48:36<1:16:31, 51.59s/it]"
     ]
    },
    {
     "name": "stdout",
     "output_type": "stream",
     "text": [
      "Extracting: Variable 60-['MSAVI']\n",
      "(411520, 60)\n"
     ]
    },
    {
     "name": "stderr",
     "output_type": "stream",
     "text": [
      " 41%|████████████████████████████████                                               | 60/148 [49:25<1:14:19, 50.68s/it]"
     ]
    },
    {
     "name": "stdout",
     "output_type": "stream",
     "text": [
      "Extracting: Variable 61-['MSI']\n",
      "(411520, 61)\n"
     ]
    },
    {
     "name": "stderr",
     "output_type": "stream",
     "text": [
      " 41%|████████████████████████████████▌                                              | 61/148 [50:15<1:13:16, 50.54s/it]"
     ]
    },
    {
     "name": "stdout",
     "output_type": "stream",
     "text": [
      "Extracting: Variable 62-['MSR']\n",
      "(411520, 62)\n"
     ]
    },
    {
     "name": "stderr",
     "output_type": "stream",
     "text": [
      " 42%|█████████████████████████████████                                              | 62/148 [51:07<1:13:08, 51.03s/it]"
     ]
    },
    {
     "name": "stdout",
     "output_type": "stream",
     "text": [
      "Extracting: Variable 63-['MTVI1']\n",
      "(411520, 63)\n"
     ]
    },
    {
     "name": "stderr",
     "output_type": "stream",
     "text": [
      " 43%|█████████████████████████████████▋                                             | 63/148 [51:53<1:10:15, 49.59s/it]"
     ]
    },
    {
     "name": "stdout",
     "output_type": "stream",
     "text": [
      "Extracting: Variable 64-['MTVI2']\n",
      "(411520, 64)\n"
     ]
    },
    {
     "name": "stderr",
     "output_type": "stream",
     "text": [
      " 43%|██████████████████████████████████▏                                            | 64/148 [52:41<1:08:40, 49.05s/it]"
     ]
    },
    {
     "name": "stdout",
     "output_type": "stream",
     "text": [
      "Extracting: Variable 65-['MuWIR']\n",
      "(411520, 65)\n"
     ]
    },
    {
     "name": "stderr",
     "output_type": "stream",
     "text": [
      " 44%|██████████████████████████████████▋                                            | 65/148 [53:32<1:08:22, 49.43s/it]"
     ]
    },
    {
     "name": "stdout",
     "output_type": "stream",
     "text": [
      "Extracting: Variable 66-['NBLI']\n",
      "(411520, 66)\n"
     ]
    },
    {
     "name": "stderr",
     "output_type": "stream",
     "text": [
      " 45%|███████████████████████████████████▏                                           | 66/148 [54:25<1:09:13, 50.65s/it]"
     ]
    },
    {
     "name": "stdout",
     "output_type": "stream",
     "text": [
      "Extracting: Variable 67-['NBR']\n",
      "(411520, 67)\n"
     ]
    },
    {
     "name": "stderr",
     "output_type": "stream",
     "text": [
      " 45%|███████████████████████████████████▊                                           | 67/148 [55:20<1:09:56, 51.80s/it]"
     ]
    },
    {
     "name": "stdout",
     "output_type": "stream",
     "text": [
      "Extracting: Variable 68-['NBR2']\n",
      "(411520, 68)\n"
     ]
    },
    {
     "name": "stderr",
     "output_type": "stream",
     "text": [
      " 46%|████████████████████████████████████▎                                          | 68/148 [56:07<1:07:26, 50.59s/it]"
     ]
    },
    {
     "name": "stdout",
     "output_type": "stream",
     "text": [
      "Extracting: Variable 69-['NBRT1']\n",
      "(411520, 69)\n"
     ]
    },
    {
     "name": "stderr",
     "output_type": "stream",
     "text": [
      " 47%|████████████████████████████████████▊                                          | 69/148 [56:58<1:06:37, 50.61s/it]"
     ]
    },
    {
     "name": "stdout",
     "output_type": "stream",
     "text": [
      "Extracting: Variable 70-['NBRT2']\n",
      "(411520, 70)\n"
     ]
    },
    {
     "name": "stderr",
     "output_type": "stream",
     "text": [
      " 47%|█████████████████████████████████████▎                                         | 70/148 [57:47<1:05:07, 50.10s/it]"
     ]
    },
    {
     "name": "stdout",
     "output_type": "stream",
     "text": [
      "Extracting: Variable 71-['NBRT3']\n",
      "(411520, 71)\n"
     ]
    },
    {
     "name": "stderr",
     "output_type": "stream",
     "text": [
      " 48%|█████████████████████████████████████▉                                         | 71/148 [58:33<1:02:38, 48.81s/it]"
     ]
    },
    {
     "name": "stdout",
     "output_type": "stream",
     "text": [
      "Extracting: Variable 72-['NBSIMS']\n",
      "(411520, 72)\n"
     ]
    },
    {
     "name": "stderr",
     "output_type": "stream",
     "text": [
      " 49%|██████████████████████████████████████▍                                        | 72/148 [59:23<1:02:28, 49.32s/it]"
     ]
    },
    {
     "name": "stdout",
     "output_type": "stream",
     "text": [
      "Extracting: Variable 73-['NBUI']\n",
      "(411520, 73)\n"
     ]
    },
    {
     "name": "stderr",
     "output_type": "stream",
     "text": [
      " 49%|█████████████████████████████████████▉                                       | 73/148 [1:00:14<1:02:14, 49.79s/it]"
     ]
    },
    {
     "name": "stdout",
     "output_type": "stream",
     "text": [
      "Extracting: Variable 74-['NDBI']\n",
      "(411520, 74)\n"
     ]
    },
    {
     "name": "stderr",
     "output_type": "stream",
     "text": [
      " 50%|██████████████████████████████████████▌                                      | 74/148 [1:01:14<1:05:00, 52.71s/it]"
     ]
    },
    {
     "name": "stdout",
     "output_type": "stream",
     "text": [
      "Extracting: Variable 75-['NDBaI']\n",
      "(411520, 75)\n"
     ]
    },
    {
     "name": "stderr",
     "output_type": "stream",
     "text": [
      " 51%|███████████████████████████████████████                                      | 75/148 [1:02:08<1:04:50, 53.30s/it]"
     ]
    },
    {
     "name": "stdout",
     "output_type": "stream",
     "text": [
      "Extracting: Variable 76-['NDDI']\n",
      "(411520, 76)\n"
     ]
    },
    {
     "name": "stderr",
     "output_type": "stream",
     "text": [
      " 51%|███████████████████████████████████████▌                                     | 76/148 [1:03:02<1:04:03, 53.38s/it]"
     ]
    },
    {
     "name": "stdout",
     "output_type": "stream",
     "text": [
      "Extracting: Variable 77-['NDGI']\n",
      "(411520, 77)\n"
     ]
    },
    {
     "name": "stderr",
     "output_type": "stream",
     "text": [
      " 52%|████████████████████████████████████████                                     | 77/148 [1:03:55<1:03:16, 53.47s/it]"
     ]
    },
    {
     "name": "stdout",
     "output_type": "stream",
     "text": [
      "Extracting: Variable 78-['NDGlaI']\n",
      "(411520, 78)\n"
     ]
    },
    {
     "name": "stderr",
     "output_type": "stream",
     "text": [
      " 53%|████████████████████████████████████████▌                                    | 78/148 [1:04:47<1:01:37, 52.82s/it]"
     ]
    },
    {
     "name": "stdout",
     "output_type": "stream",
     "text": [
      "Extracting: Variable 79-['NDII']\n",
      "(411520, 79)\n"
     ]
    },
    {
     "name": "stderr",
     "output_type": "stream",
     "text": [
      " 53%|██████████████████████████████████████████▏                                    | 79/148 [1:05:36<59:30, 51.75s/it]"
     ]
    },
    {
     "name": "stdout",
     "output_type": "stream",
     "text": [
      "Extracting: Variable 80-['NDISIb']\n",
      "(411520, 80)\n"
     ]
    },
    {
     "name": "stderr",
     "output_type": "stream",
     "text": [
      " 54%|██████████████████████████████████████████▋                                    | 80/148 [1:06:28<58:39, 51.76s/it]"
     ]
    },
    {
     "name": "stdout",
     "output_type": "stream",
     "text": [
      "Extracting: Variable 81-['NDISIg']\n",
      "(411520, 81)\n"
     ]
    },
    {
     "name": "stderr",
     "output_type": "stream",
     "text": [
      " 55%|███████████████████████████████████████████▏                                   | 81/148 [1:07:13<55:36, 49.80s/it]"
     ]
    },
    {
     "name": "stdout",
     "output_type": "stream",
     "text": [
      "Extracting: Variable 82-['NDISImndwi']\n",
      "(411520, 82)\n"
     ]
    },
    {
     "name": "stderr",
     "output_type": "stream",
     "text": [
      " 55%|███████████████████████████████████████████▊                                   | 82/148 [1:08:11<57:30, 52.28s/it]"
     ]
    },
    {
     "name": "stdout",
     "output_type": "stream",
     "text": [
      "Extracting: Variable 83-['NDISIndwi']\n",
      "(411520, 83)\n"
     ]
    },
    {
     "name": "stderr",
     "output_type": "stream",
     "text": [
      " 56%|████████████████████████████████████████████▎                                  | 83/148 [1:09:04<56:42, 52.35s/it]"
     ]
    },
    {
     "name": "stdout",
     "output_type": "stream",
     "text": [
      "Extracting: Variable 84-['NDISIr']\n",
      "(411520, 84)\n"
     ]
    },
    {
     "name": "stderr",
     "output_type": "stream",
     "text": [
      " 57%|████████████████████████████████████████████▊                                  | 84/148 [1:09:53<55:01, 51.58s/it]"
     ]
    },
    {
     "name": "stdout",
     "output_type": "stream",
     "text": [
      "Extracting: Variable 85-['NDMI']\n",
      "(411520, 85)\n"
     ]
    },
    {
     "name": "stderr",
     "output_type": "stream",
     "text": [
      " 57%|█████████████████████████████████████████████▎                                 | 85/148 [1:10:39<52:25, 49.92s/it]"
     ]
    },
    {
     "name": "stdout",
     "output_type": "stream",
     "text": [
      "Extracting: Variable 86-['NDPI']\n",
      "(411520, 86)\n"
     ]
    },
    {
     "name": "stderr",
     "output_type": "stream",
     "text": [
      " 58%|█████████████████████████████████████████████▉                                 | 86/148 [1:11:29<51:26, 49.78s/it]"
     ]
    },
    {
     "name": "stdout",
     "output_type": "stream",
     "text": [
      "Extracting: Variable 87-['NDSI']\n",
      "(411520, 87)\n"
     ]
    },
    {
     "name": "stderr",
     "output_type": "stream",
     "text": [
      " 59%|██████████████████████████████████████████████▍                                | 87/148 [1:12:17<50:11, 49.37s/it]"
     ]
    },
    {
     "name": "stdout",
     "output_type": "stream",
     "text": [
      "Extracting: Variable 88-['NDSII']\n",
      "(411520, 88)\n"
     ]
    },
    {
     "name": "stderr",
     "output_type": "stream",
     "text": [
      " 59%|██████████████████████████████████████████████▉                                | 88/148 [1:13:05<48:56, 48.94s/it]"
     ]
    },
    {
     "name": "stdout",
     "output_type": "stream",
     "text": [
      "Extracting: Variable 89-['NDSInw']\n",
      "(411520, 89)\n"
     ]
    },
    {
     "name": "stderr",
     "output_type": "stream",
     "text": [
      " 60%|███████████████████████████████████████████████▌                               | 89/148 [1:13:59<49:24, 50.24s/it]"
     ]
    },
    {
     "name": "stdout",
     "output_type": "stream",
     "text": [
      "Extracting: Variable 90-['NDSaII']\n",
      "(411520, 90)\n"
     ]
    },
    {
     "name": "stderr",
     "output_type": "stream",
     "text": [
      " 61%|████████████████████████████████████████████████                               | 90/148 [1:14:49<48:33, 50.24s/it]"
     ]
    },
    {
     "name": "stdout",
     "output_type": "stream",
     "text": [
      "Extracting: Variable 91-['NDSoI']\n",
      "(411520, 91)\n"
     ]
    },
    {
     "name": "stderr",
     "output_type": "stream",
     "text": [
      " 61%|████████████████████████████████████████████████▌                              | 91/148 [1:15:39<47:38, 50.15s/it]"
     ]
    },
    {
     "name": "stdout",
     "output_type": "stream",
     "text": [
      "Extracting: Variable 92-['NDVI']\n",
      "(411520, 92)\n"
     ]
    },
    {
     "name": "stderr",
     "output_type": "stream",
     "text": [
      " 62%|█████████████████████████████████████████████████                              | 92/148 [1:16:27<46:10, 49.47s/it]"
     ]
    },
    {
     "name": "stdout",
     "output_type": "stream",
     "text": [
      "Extracting: Variable 93-['NDVIMNDWI']\n",
      "(411520, 93)\n"
     ]
    },
    {
     "name": "stderr",
     "output_type": "stream",
     "text": [
      " 63%|█████████████████████████████████████████████████▋                             | 93/148 [1:17:19<46:03, 50.25s/it]"
     ]
    },
    {
     "name": "stdout",
     "output_type": "stream",
     "text": [
      "Extracting: Variable 94-['NDVIT']\n",
      "(411520, 94)\n"
     ]
    },
    {
     "name": "stderr",
     "output_type": "stream",
     "text": [
      " 64%|██████████████████████████████████████████████████▏                            | 94/148 [1:18:20<48:18, 53.68s/it]"
     ]
    },
    {
     "name": "stdout",
     "output_type": "stream",
     "text": [
      "Extracting: Variable 95-['NDWI']\n",
      "(411520, 95)\n"
     ]
    },
    {
     "name": "stderr",
     "output_type": "stream",
     "text": [
      " 64%|██████████████████████████████████████████████████▋                            | 95/148 [1:19:18<48:30, 54.91s/it]"
     ]
    },
    {
     "name": "stdout",
     "output_type": "stream",
     "text": [
      "Extracting: Variable 96-['NDWIns']\n",
      "(411520, 96)\n"
     ]
    },
    {
     "name": "stderr",
     "output_type": "stream",
     "text": [
      " 65%|███████████████████████████████████████████████████▏                           | 96/148 [1:20:07<45:54, 52.97s/it]"
     ]
    },
    {
     "name": "stdout",
     "output_type": "stream",
     "text": [
      "Extracting: Variable 97-['NDYI']\n",
      "(411520, 97)\n"
     ]
    },
    {
     "name": "stderr",
     "output_type": "stream",
     "text": [
      " 66%|███████████████████████████████████████████████████▊                           | 97/148 [1:20:54<43:35, 51.29s/it]"
     ]
    },
    {
     "name": "stdout",
     "output_type": "stream",
     "text": [
      "Extracting: Variable 98-['NGRDI']\n",
      "(411520, 98)\n"
     ]
    },
    {
     "name": "stderr",
     "output_type": "stream",
     "text": [
      " 66%|████████████████████████████████████████████████████▎                          | 98/148 [1:21:50<44:02, 52.85s/it]"
     ]
    },
    {
     "name": "stdout",
     "output_type": "stream",
     "text": [
      "Extracting: Variable 99-['NIRvH2']\n",
      "(411520, 99)\n"
     ]
    },
    {
     "name": "stderr",
     "output_type": "stream",
     "text": [
      " 67%|████████████████████████████████████████████████████▊                          | 99/148 [1:22:49<44:30, 54.49s/it]"
     ]
    },
    {
     "name": "stdout",
     "output_type": "stream",
     "text": [
      "Extracting: Variable 100-['NLI']\n",
      "(411520, 100)\n"
     ]
    },
    {
     "name": "stderr",
     "output_type": "stream",
     "text": [
      " 68%|████████████████████████████████████████████████████▋                         | 100/148 [1:23:45<43:55, 54.90s/it]"
     ]
    },
    {
     "name": "stdout",
     "output_type": "stream",
     "text": [
      "Extracting: Variable 101-['NMDI']\n",
      "(411520, 101)\n"
     ]
    },
    {
     "name": "stderr",
     "output_type": "stream",
     "text": [
      " 68%|█████████████████████████████████████████████████████▏                        | 101/148 [1:24:40<43:11, 55.14s/it]"
     ]
    },
    {
     "name": "stdout",
     "output_type": "stream",
     "text": [
      "Extracting: Variable 102-['NRFIg']\n",
      "(411520, 102)\n"
     ]
    },
    {
     "name": "stderr",
     "output_type": "stream",
     "text": [
      " 69%|█████████████████████████████████████████████████████▊                        | 102/148 [1:25:35<42:12, 55.06s/it]"
     ]
    },
    {
     "name": "stdout",
     "output_type": "stream",
     "text": [
      "Extracting: Variable 103-['NRFIr']\n",
      "(411520, 103)\n"
     ]
    },
    {
     "name": "stderr",
     "output_type": "stream",
     "text": [
      " 70%|██████████████████████████████████████████████████████▎                       | 103/148 [1:26:29<41:06, 54.81s/it]"
     ]
    },
    {
     "name": "stdout",
     "output_type": "stream",
     "text": [
      "Extracting: Variable 104-['NSDS']\n",
      "(411520, 104)\n"
     ]
    },
    {
     "name": "stderr",
     "output_type": "stream",
     "text": [
      " 70%|██████████████████████████████████████████████████████▊                       | 104/148 [1:27:25<40:16, 54.92s/it]"
     ]
    },
    {
     "name": "stdout",
     "output_type": "stream",
     "text": [
      "Extracting: Variable 105-['NWI']\n",
      "(411520, 105)\n"
     ]
    },
    {
     "name": "stderr",
     "output_type": "stream",
     "text": [
      " 71%|███████████████████████████████████████████████████████▎                      | 105/148 [1:28:17<38:55, 54.31s/it]"
     ]
    },
    {
     "name": "stdout",
     "output_type": "stream",
     "text": [
      "Extracting: Variable 106-['NormG']\n",
      "(411520, 106)\n"
     ]
    },
    {
     "name": "stderr",
     "output_type": "stream",
     "text": [
      " 72%|███████████████████████████████████████████████████████▊                      | 106/148 [1:29:09<37:26, 53.50s/it]"
     ]
    },
    {
     "name": "stdout",
     "output_type": "stream",
     "text": [
      "Extracting: Variable 107-['NormNIR']\n",
      "(411520, 107)\n"
     ]
    },
    {
     "name": "stderr",
     "output_type": "stream",
     "text": [
      " 72%|████████████████████████████████████████████████████████▍                     | 107/148 [1:30:04<36:48, 53.87s/it]"
     ]
    },
    {
     "name": "stdout",
     "output_type": "stream",
     "text": [
      "Extracting: Variable 108-['NormR']\n",
      "(411520, 108)\n"
     ]
    },
    {
     "name": "stderr",
     "output_type": "stream",
     "text": [
      " 73%|████████████████████████████████████████████████████████▉                     | 108/148 [1:30:53<34:52, 52.32s/it]"
     ]
    },
    {
     "name": "stdout",
     "output_type": "stream",
     "text": [
      "Extracting: Variable 109-['OCVI']\n",
      "(411520, 109)\n"
     ]
    },
    {
     "name": "stderr",
     "output_type": "stream",
     "text": [
      " 74%|█████████████████████████████████████████████████████████▍                    | 109/148 [1:31:45<33:57, 52.23s/it]"
     ]
    },
    {
     "name": "stdout",
     "output_type": "stream",
     "text": [
      "Extracting: Variable 110-['OSAVI']\n",
      "(411520, 110)\n"
     ]
    },
    {
     "name": "stderr",
     "output_type": "stream",
     "text": [
      " 74%|█████████████████████████████████████████████████████████▉                    | 110/148 [1:32:34<32:36, 51.48s/it]"
     ]
    },
    {
     "name": "stdout",
     "output_type": "stream",
     "text": [
      "Extracting: Variable 111-['PISI']\n",
      "(411520, 111)\n"
     ]
    },
    {
     "name": "stderr",
     "output_type": "stream",
     "text": [
      " 75%|██████████████████████████████████████████████████████████▌                   | 111/148 [1:33:23<31:18, 50.77s/it]"
     ]
    },
    {
     "name": "stdout",
     "output_type": "stream",
     "text": [
      "Extracting: Variable 112-['RCC']\n",
      "(411520, 112)\n"
     ]
    },
    {
     "name": "stderr",
     "output_type": "stream",
     "text": [
      " 76%|███████████████████████████████████████████████████████████                   | 112/148 [1:34:21<31:43, 52.88s/it]"
     ]
    },
    {
     "name": "stdout",
     "output_type": "stream",
     "text": [
      "Extracting: Variable 113-['RDVI']\n",
      "(411520, 113)\n"
     ]
    },
    {
     "name": "stderr",
     "output_type": "stream",
     "text": [
      " 76%|███████████████████████████████████████████████████████████▌                  | 113/148 [1:35:11<30:20, 52.02s/it]"
     ]
    },
    {
     "name": "stdout",
     "output_type": "stream",
     "text": [
      "Extracting: Variable 114-['RGBVI']\n",
      "(411520, 114)\n"
     ]
    },
    {
     "name": "stderr",
     "output_type": "stream",
     "text": [
      " 77%|████████████████████████████████████████████████████████████                  | 114/148 [1:36:01<29:03, 51.29s/it]"
     ]
    },
    {
     "name": "stdout",
     "output_type": "stream",
     "text": [
      "Extracting: Variable 115-['RGRI']\n",
      "(411520, 115)\n"
     ]
    },
    {
     "name": "stderr",
     "output_type": "stream",
     "text": [
      " 78%|████████████████████████████████████████████████████████████▌                 | 115/148 [1:36:47<27:21, 49.73s/it]"
     ]
    },
    {
     "name": "stdout",
     "output_type": "stream",
     "text": [
      "Extracting: Variable 116-['RI']\n",
      "(411520, 116)\n"
     ]
    },
    {
     "name": "stderr",
     "output_type": "stream",
     "text": [
      " 78%|█████████████████████████████████████████████████████████████▏                | 116/148 [1:37:33<25:53, 48.53s/it]"
     ]
    },
    {
     "name": "stdout",
     "output_type": "stream",
     "text": [
      "Extracting: Variable 117-['S3']\n",
      "(411520, 117)\n"
     ]
    },
    {
     "name": "stderr",
     "output_type": "stream",
     "text": [
      " 79%|█████████████████████████████████████████████████████████████▋                | 117/148 [1:38:27<25:56, 50.21s/it]"
     ]
    },
    {
     "name": "stdout",
     "output_type": "stream",
     "text": [
      "Extracting: Variable 118-['SARVI']\n",
      "(411520, 118)\n"
     ]
    },
    {
     "name": "stderr",
     "output_type": "stream",
     "text": [
      " 80%|██████████████████████████████████████████████████████████████▏               | 118/148 [1:39:21<25:46, 51.55s/it]"
     ]
    },
    {
     "name": "stdout",
     "output_type": "stream",
     "text": [
      "Extracting: Variable 119-['SAVI']\n",
      "(411520, 119)\n"
     ]
    },
    {
     "name": "stderr",
     "output_type": "stream",
     "text": [
      " 80%|██████████████████████████████████████████████████████████████▋               | 119/148 [1:40:08<24:15, 50.17s/it]"
     ]
    },
    {
     "name": "stdout",
     "output_type": "stream",
     "text": [
      "Extracting: Variable 120-['SAVI2']\n",
      "(411520, 120)\n"
     ]
    },
    {
     "name": "stderr",
     "output_type": "stream",
     "text": [
      " 81%|███████████████████████████████████████████████████████████████▏              | 120/148 [1:41:05<24:16, 52.01s/it]"
     ]
    },
    {
     "name": "stdout",
     "output_type": "stream",
     "text": [
      "Extracting: Variable 121-['SAVIT']\n",
      "(411520, 121)\n"
     ]
    },
    {
     "name": "stderr",
     "output_type": "stream",
     "text": [
      " 82%|███████████████████████████████████████████████████████████████▊              | 121/148 [1:41:57<23:29, 52.19s/it]"
     ]
    },
    {
     "name": "stdout",
     "output_type": "stream",
     "text": [
      "Extracting: Variable 122-['SI']\n",
      "(411520, 122)\n"
     ]
    },
    {
     "name": "stderr",
     "output_type": "stream",
     "text": [
      " 82%|████████████████████████████████████████████████████████████████▎             | 122/148 [1:42:43<21:45, 50.22s/it]"
     ]
    },
    {
     "name": "stdout",
     "output_type": "stream",
     "text": [
      "Extracting: Variable 123-['SIPI']\n",
      "(411520, 123)\n"
     ]
    },
    {
     "name": "stderr",
     "output_type": "stream",
     "text": [
      " 83%|████████████████████████████████████████████████████████████████▊             | 123/148 [1:43:34<21:05, 50.64s/it]"
     ]
    },
    {
     "name": "stdout",
     "output_type": "stream",
     "text": [
      "Extracting: Variable 124-['SR']\n",
      "(411520, 124)\n"
     ]
    },
    {
     "name": "stderr",
     "output_type": "stream",
     "text": [
      " 84%|█████████████████████████████████████████████████████████████████▎            | 124/148 [1:44:21<19:42, 49.26s/it]"
     ]
    },
    {
     "name": "stdout",
     "output_type": "stream",
     "text": [
      "Extracting: Variable 125-['SR2']\n",
      "(411520, 125)\n"
     ]
    },
    {
     "name": "stderr",
     "output_type": "stream",
     "text": [
      " 84%|█████████████████████████████████████████████████████████████████▉            | 125/148 [1:45:15<19:30, 50.90s/it]"
     ]
    },
    {
     "name": "stdout",
     "output_type": "stream",
     "text": [
      "Extracting: Variable 126-['SWI']\n",
      "(411520, 126)\n"
     ]
    },
    {
     "name": "stderr",
     "output_type": "stream",
     "text": [
      " 85%|██████████████████████████████████████████████████████████████████▍           | 126/148 [1:46:07<18:45, 51.16s/it]"
     ]
    },
    {
     "name": "stdout",
     "output_type": "stream",
     "text": [
      "Extracting: Variable 127-['SWM']\n",
      "(411520, 127)\n"
     ]
    },
    {
     "name": "stderr",
     "output_type": "stream",
     "text": [
      " 86%|██████████████████████████████████████████████████████████████████▉           | 127/148 [1:46:56<17:38, 50.40s/it]"
     ]
    },
    {
     "name": "stdout",
     "output_type": "stream",
     "text": [
      "Extracting: Variable 128-['TDVI']\n",
      "(411520, 128)\n"
     ]
    },
    {
     "name": "stderr",
     "output_type": "stream",
     "text": [
      " 86%|███████████████████████████████████████████████████████████████████▍          | 128/148 [1:47:47<16:56, 50.81s/it]"
     ]
    },
    {
     "name": "stdout",
     "output_type": "stream",
     "text": [
      "Extracting: Variable 129-['TGI']\n",
      "(411520, 129)\n"
     ]
    },
    {
     "name": "stderr",
     "output_type": "stream",
     "text": [
      " 87%|███████████████████████████████████████████████████████████████████▉          | 129/148 [1:48:41<16:18, 51.52s/it]"
     ]
    },
    {
     "name": "stdout",
     "output_type": "stream",
     "text": [
      "Extracting: Variable 130-['TSAVI']\n",
      "(411520, 130)\n"
     ]
    },
    {
     "name": "stderr",
     "output_type": "stream",
     "text": [
      " 88%|████████████████████████████████████████████████████████████████████▌         | 130/148 [1:49:35<15:41, 52.31s/it]"
     ]
    },
    {
     "name": "stdout",
     "output_type": "stream",
     "text": [
      "Extracting: Variable 131-['TVI']\n",
      "(411520, 131)\n"
     ]
    },
    {
     "name": "stderr",
     "output_type": "stream",
     "text": [
      " 89%|█████████████████████████████████████████████████████████████████████         | 131/148 [1:50:25<14:40, 51.78s/it]"
     ]
    },
    {
     "name": "stdout",
     "output_type": "stream",
     "text": [
      "Extracting: Variable 132-['TriVI']\n",
      "(411520, 132)\n"
     ]
    },
    {
     "name": "stderr",
     "output_type": "stream",
     "text": [
      " 89%|█████████████████████████████████████████████████████████████████████▌        | 132/148 [1:51:17<13:46, 51.66s/it]"
     ]
    },
    {
     "name": "stdout",
     "output_type": "stream",
     "text": [
      "Extracting: Variable 133-['UI']\n",
      "(411520, 133)\n"
     ]
    },
    {
     "name": "stderr",
     "output_type": "stream",
     "text": [
      " 90%|██████████████████████████████████████████████████████████████████████        | 133/148 [1:52:08<12:54, 51.66s/it]"
     ]
    },
    {
     "name": "stdout",
     "output_type": "stream",
     "text": [
      "Extracting: Variable 134-['VARI']\n",
      "(411520, 134)\n"
     ]
    },
    {
     "name": "stderr",
     "output_type": "stream",
     "text": [
      " 91%|██████████████████████████████████████████████████████████████████████▌       | 134/148 [1:52:57<11:48, 50.63s/it]"
     ]
    },
    {
     "name": "stdout",
     "output_type": "stream",
     "text": [
      "Extracting: Variable 135-['VI6T']\n",
      "(411520, 135)\n"
     ]
    },
    {
     "name": "stderr",
     "output_type": "stream",
     "text": [
      " 91%|███████████████████████████████████████████████████████████████████████▏      | 135/148 [1:53:43<10:42, 49.39s/it]"
     ]
    },
    {
     "name": "stdout",
     "output_type": "stream",
     "text": [
      "Extracting: Variable 136-['VIG']\n",
      "(411520, 136)\n"
     ]
    },
    {
     "name": "stderr",
     "output_type": "stream",
     "text": [
      " 92%|███████████████████████████████████████████████████████████████████████▋      | 136/148 [1:54:35<10:00, 50.05s/it]"
     ]
    },
    {
     "name": "stdout",
     "output_type": "stream",
     "text": [
      "Extracting: Variable 137-['VgNIRBI']\n",
      "(411520, 137)\n"
     ]
    },
    {
     "name": "stderr",
     "output_type": "stream",
     "text": [
      " 93%|████████████████████████████████████████████████████████████████████████▏     | 137/148 [1:55:31<09:31, 52.00s/it]"
     ]
    },
    {
     "name": "stdout",
     "output_type": "stream",
     "text": [
      "Extracting: Variable 138-['VrNIRBI']\n",
      "(411520, 138)\n"
     ]
    },
    {
     "name": "stderr",
     "output_type": "stream",
     "text": [
      " 93%|████████████████████████████████████████████████████████████████████████▋     | 138/148 [1:56:23<08:39, 51.91s/it]"
     ]
    },
    {
     "name": "stdout",
     "output_type": "stream",
     "text": [
      "Extracting: Variable 139-['WDRVI']\n",
      "(411520, 139)\n"
     ]
    },
    {
     "name": "stderr",
     "output_type": "stream",
     "text": [
      " 94%|█████████████████████████████████████████████████████████████████████████▎    | 139/148 [1:57:13<07:41, 51.25s/it]"
     ]
    },
    {
     "name": "stdout",
     "output_type": "stream",
     "text": [
      "Extracting: Variable 140-['WDVI']\n",
      "(411520, 140)\n"
     ]
    },
    {
     "name": "stderr",
     "output_type": "stream",
     "text": [
      " 95%|█████████████████████████████████████████████████████████████████████████▊    | 140/148 [1:58:03<06:48, 51.08s/it]"
     ]
    },
    {
     "name": "stdout",
     "output_type": "stream",
     "text": [
      "Extracting: Variable 141-['WI1']\n",
      "(411520, 141)\n"
     ]
    },
    {
     "name": "stderr",
     "output_type": "stream",
     "text": [
      " 95%|██████████████████████████████████████████████████████████████████████████▎   | 141/148 [1:58:53<05:55, 50.79s/it]"
     ]
    },
    {
     "name": "stdout",
     "output_type": "stream",
     "text": [
      "Extracting: Variable 142-['WI2']\n",
      "(411520, 142)\n"
     ]
    },
    {
     "name": "stderr",
     "output_type": "stream",
     "text": [
      " 96%|██████████████████████████████████████████████████████████████████████████▊   | 142/148 [1:59:44<05:05, 50.86s/it]"
     ]
    },
    {
     "name": "stdout",
     "output_type": "stream",
     "text": [
      "Extracting: Variable 143-['WRI']\n",
      "(411520, 143)\n"
     ]
    },
    {
     "name": "stderr",
     "output_type": "stream",
     "text": [
      " 97%|███████████████████████████████████████████████████████████████████████████▎  | 143/148 [2:00:33<04:10, 50.09s/it]"
     ]
    },
    {
     "name": "stdout",
     "output_type": "stream",
     "text": [
      "Extracting: Variable 144-['kEVI']\n",
      "(411520, 144)\n"
     ]
    },
    {
     "name": "stderr",
     "output_type": "stream",
     "text": [
      " 97%|███████████████████████████████████████████████████████████████████████████▉  | 144/148 [2:01:28<03:26, 51.69s/it]"
     ]
    },
    {
     "name": "stdout",
     "output_type": "stream",
     "text": [
      "Extracting: Variable 145-['kIPVI']\n",
      "(411520, 145)\n"
     ]
    },
    {
     "name": "stderr",
     "output_type": "stream",
     "text": [
      " 98%|████████████████████████████████████████████████████████████████████████████▍ | 145/148 [2:02:18<02:33, 51.14s/it]"
     ]
    },
    {
     "name": "stdout",
     "output_type": "stream",
     "text": [
      "Extracting: Variable 146-['kNDVI']\n",
      "(411520, 146)\n"
     ]
    },
    {
     "name": "stderr",
     "output_type": "stream",
     "text": [
      " 99%|████████████████████████████████████████████████████████████████████████████▉ | 146/148 [2:03:07<01:40, 50.46s/it]"
     ]
    },
    {
     "name": "stdout",
     "output_type": "stream",
     "text": [
      "Extracting: Variable 147-['kRVI']\n",
      "(411520, 147)\n"
     ]
    },
    {
     "name": "stderr",
     "output_type": "stream",
     "text": [
      " 99%|█████████████████████████████████████████████████████████████████████████████▍| 147/148 [2:03:57<00:50, 50.31s/it]"
     ]
    },
    {
     "name": "stdout",
     "output_type": "stream",
     "text": [
      "Extracting: Variable 148-['kVARI']\n",
      "(411520, 148)\n"
     ]
    },
    {
     "name": "stderr",
     "output_type": "stream",
     "text": [
      "100%|██████████████████████████████████████████████████████████████████████████████| 148/148 [2:04:47<00:00, 50.59s/it]\n"
     ]
    }
   ],
   "source": [
    "fn4 = r'C:\\Users\\coach\\myfiles\\conservation\\Handover\\AGBD\\Data\\scratch\\biomass_indicesl9.parquet'  \n",
    "covs = target.addBands(covariates)\n",
    "properties = covs.bandNames().getInfo()\n",
    "extract_eemont_indices(indices= 'all', imageCollection = l9, platform = 'Landsat-OLI', append = '_l9a', filename = fn4, batch = 1)"
   ]
  },
  {
   "cell_type": "markdown",
   "id": "640aff0e-a5f8-4d52-a40e-9dd276063710",
   "metadata": {},
   "source": [
    "### Read in extracted data, merge into a single dataframe and save as feather"
   ]
  },
  {
   "cell_type": "code",
   "execution_count": 42,
   "id": "cbf12373-ce96-47c5-865f-53ba2319cef1",
   "metadata": {},
   "outputs": [
    {
     "name": "stdout",
     "output_type": "stream",
     "text": [
      "(411520, 244)\n",
      "(411520, 168)\n",
      "(411520, 148)\n",
      "(411520, 148)\n",
      "(411520, 708)\n"
     ]
    }
   ],
   "source": [
    "import pandas as pd\n",
    "\n",
    "df1 = pd.read_parquet(r'C:\\Users\\coach\\myfiles\\conservation\\Handover\\AGBD\\Data\\scratch\\biomass.parquet')\n",
    "print(df1.shape)\n",
    "df2 = pd.read_parquet(r'C:\\Users\\coach\\myfiles\\conservation\\Handover\\AGBD\\Data\\scratch\\biomass_indicess2.parquet').add_suffix('_s2')\n",
    "print(df2.shape)\n",
    "df3 = pd.read_parquet(r'C:\\Users\\coach\\myfiles\\conservation\\Handover\\AGBD\\Data\\scratch\\biomass_indicesl8.parquet').add_suffix('_l8')\n",
    "print(df3.shape)\n",
    "df4 = pd.read_parquet(r'C:\\Users\\coach\\myfiles\\conservation\\Handover\\AGBD\\Data\\scratch\\biomass_indicesl9.parquet').add_suffix('_l9')\n",
    "print(df4.shape)\n",
    "\n",
    "df = pd.concat([df1, df2, df3, df4], axis = 1)\n",
    "print(df.shape)"
   ]
  },
  {
   "cell_type": "code",
   "execution_count": 44,
   "id": "fe10673a-dc99-4016-9569-16b3b8c8fca4",
   "metadata": {},
   "outputs": [],
   "source": [
    "df.to_feather(r'C:\\Users\\coach\\myfiles\\conservation\\Handover\\AGBD\\Data\\inputs\\biomass_708.feather')"
   ]
  },
  {
   "cell_type": "markdown",
   "id": "44ef00a1-ba0b-43fa-b117-863938e83faa",
   "metadata": {},
   "source": [
    "Wishlist\n",
    "\n",
    "Variables to add:\n",
    "- Texture metrics\n",
    "- Radar derived indices\n",
    "- VODCA\n",
    "- Phenology\n",
    "- Deforestation occurence"
   ]
  },
  {
   "cell_type": "markdown",
   "id": "6d7133a7-e7d1-4f9f-91a1-fcc74e815879",
   "metadata": {},
   "source": [
    "## 5. Extracting Image Data for inference"
   ]
  },
  {
   "cell_type": "code",
   "execution_count": 5,
   "id": "8159e933-0c40-4108-9bf9-038322d46529",
   "metadata": {
    "tags": []
   },
   "outputs": [],
   "source": [
    "from pathlib import Path\n",
    "import ee\n",
    "from tqdm.auto import tqdm\n",
    "import geedim as gd\n",
    "from geedim.download import BaseImage\n",
    "\n",
    "ee.Initialize(opt_url=\"https://earthengine-highvolume.googleapis.com\")"
   ]
  },
  {
   "cell_type": "code",
   "execution_count": 36,
   "id": "4a52ba5a-882c-4683-b7d2-edd7327bc397",
   "metadata": {
    "jupyter": {
     "source_hidden": true
    },
    "tags": []
   },
   "outputs": [],
   "source": [
    "# Top 82 features (use for model with artefacts/ model with covariates > 30m resolution)\n",
    "\n",
    "features = ['hand',\n",
    " 'normalized_VH',\n",
    " 'aridity_index_yearly',\n",
    " 'gcl_dec_BL',\n",
    " 'GDP',\n",
    " 'gcl_EG_BL',\n",
    " 'mean_annual',\n",
    " 'NDYI_s2',\n",
    " 'b1_cat_ex_cap',\n",
    " 'aridity_index_monthly',\n",
    " 'WDVI_l8',\n",
    " 'B8_s2',\n",
    " 'gcl_mixed_other',\n",
    " 'NBR2_l8',\n",
    " 'EMBI_l8',\n",
    " 'ssm',\n",
    " 'LC_Type1',\n",
    " 'NDWI_l8',\n",
    " 'vector_ruggedness_measure',\n",
    " 'S2REP_s2',\n",
    " 'seasonality_visct',\n",
    " 'NDDI_l8',\n",
    " 'intrannual_sd',\n",
    " 'soc_5-15cm_mean',\n",
    " 'phh2o_0-5cm_mean',\n",
    " 'swir1_bare_spectra',\n",
    " 'CISI',\n",
    " 'NMDI_l9',\n",
    " 'cfvo_60-100cm_mean',\n",
    " 'ST_B10_l9',\n",
    " 'NDYI_l9',\n",
    " 'OSAVI_l8',\n",
    " 'NIRvH2_s2',\n",
    " 'gcl_HerbV',\n",
    " 'ormc',\n",
    " 'clay_15-30cm_mean',\n",
    " 'NDBaI_l8',\n",
    " 'susm',\n",
    " 'cloud_forest_prediction',\n",
    " 'SAVI2_s2',\n",
    " 'interannual_sd',\n",
    " 'B5_s2',\n",
    " 'MLSWI27_l8',\n",
    " 'MLSWI26_l9',\n",
    " 'kVARI_l9',\n",
    " 'b1_texture_class',\n",
    " 'VIG_l8',\n",
    " 'b2_ph',\n",
    " 'hab2019_l1',\n",
    " 'VIG_s2',\n",
    " 'MCARIOSAVI_s2',\n",
    " 'MNDWI_l8',\n",
    " 'soc_60-100cm_mean',\n",
    " 'UI_l9',\n",
    " 'NormG_l8',\n",
    " 'TCARIOSAVI705_s2',\n",
    " 'b1_fertility_capability',\n",
    " 'cfvo_5-15cm_mean',\n",
    " 'vulnerable_C_total',\n",
    " 'silt_30-60cm_mean',\n",
    " 'NDISIg_l9',\n",
    " 'bare_freq',\n",
    " 'AET',\n",
    " 'FCVI_s2',\n",
    " 'NDDI_l9',\n",
    " 'NDSaII_l9',\n",
    " 'CVI_l9',\n",
    " 'MCARIOSAVI705_s2',\n",
    " 'b2_silt_content',\n",
    " 'alpha',\n",
    " 'NDSaII_s2',\n",
    " 'EVI_s2',\n",
    " 'cec_15-30cm_mean',\n",
    " 'NBRT2_l9',\n",
    " 'GNDVI_l9',\n",
    " 'NBRT1_l8',\n",
    " 'wcpf2',\n",
    " 'kEVI_l8',\n",
    " 'nitrogen_0-5cm_mean',\n",
    " 'corr',\n",
    " 'bdod_15-30cm_mean',\n",
    " 'worldcover']"
   ]
  },
  {
   "cell_type": "code",
   "execution_count": 41,
   "id": "0057021e-919f-4cfb-8b56-2e4546489caf",
   "metadata": {
    "tags": []
   },
   "outputs": [],
   "source": [
    "# Top 61 high res features\n",
    "features = ['NDMI_s2',\n",
    " 'MRBVI_l9',\n",
    " 'NDYI_l9',\n",
    " 'worldcover',\n",
    " 'ND705_s2',\n",
    " 'hand',\n",
    " 'kEVI_s2',\n",
    " 'b2_carbon_organic',\n",
    " 'b2_texture_class',\n",
    " 'MNDWI_l9',\n",
    " 'bare_freq',\n",
    " 'MLSWI27_l8',\n",
    " 'b1_silt_content',\n",
    " 'b1_cat_ex_cap',\n",
    " 'PISI_s2',\n",
    " 'NDVIT_l8',\n",
    " 'kEVI_l9',\n",
    " 'MLSWI27_s2',\n",
    " 'b1_texture_class',\n",
    " 'NDBaI_l8',\n",
    " 'kEVI_l8',\n",
    " 'BCC_s2',\n",
    " 'normalized_VV',\n",
    " 'NDWIns_l9',\n",
    " 'NMDI_l9',\n",
    " 'NDDI_l9',\n",
    " 'b3_ph',\n",
    " 'TGI_l9',\n",
    " 'NDVIMNDWI_l8',\n",
    " 'AVI_l8',\n",
    " 'b1_fertility_capability',\n",
    " 'NGRDI_l8',\n",
    " 'NIRvH2_l8',\n",
    " 'NDDI_l8',\n",
    " 'TCARIOSAVI_s2',\n",
    " 'MLSWI26_l8',\n",
    " 'kVARI_s2',\n",
    " 'MLSWI26_s2',\n",
    " 'TCARIOSAVI705_s2',\n",
    " 'SR_B2_l9',\n",
    " 'AVI_s2',\n",
    " 'SR_B5_l8',\n",
    " 'SR_l8',\n",
    " 'b3_sand_content',\n",
    " 'kIPVI_s2',\n",
    " 'DBI_l8',\n",
    " 'NDSII_s2',\n",
    " 'NBRT1_l9',\n",
    " 'b3_carbon_organic',\n",
    " 'BAI_s2',\n",
    " 'NWI_l9',\n",
    " 'b3_bulk_density',\n",
    " 'SR_B4_l8',\n",
    " 'nir_bare_spectra',\n",
    " 'SIPI_s2',\n",
    " 'b2_stone_content',\n",
    " 'NBLI_l9',\n",
    " 'MCARIOSAVI705_s2',\n",
    " 'VIG_s2',\n",
    " 'NDDI_s2',\n",
    " 'NSDS_s2']"
   ]
  },
  {
   "cell_type": "code",
   "execution_count": 42,
   "id": "97a87c73-d9f4-41a0-ba51-4720b4429522",
   "metadata": {
    "tags": []
   },
   "outputs": [],
   "source": [
    "aoi = aoi = ee.FeatureCollection(\"users/geethensingh/NS/Boundary\").geometry().buffer(10000).bounds()\n",
    "\n",
    "with_s2 = [x.removesuffix('_s2') for x in features if x.endswith('_s2')]\n",
    "S2VI = s2.filterBounds(aoi).spectralIndices(with_s2, drop=True).median().regexpRename('$', '_s2')\n",
    "\n",
    "with_l8 = [x.removesuffix('_l8') for x in features if x.endswith('_l8')]\n",
    "L8VI = l8.filterBounds(aoi).spectralIndices(with_l8, drop=True).median().regexpRename('$', '_l8')\n",
    "\n",
    "with_l9 = [x.removesuffix('_l9') for x in features if x.endswith('_l9')]\n",
    "L9VI = l9.filterBounds(aoi).spectralIndices(with_l9, drop=True).median().regexpRename('$', '_l9')"
   ]
  },
  {
   "cell_type": "code",
   "execution_count": 43,
   "id": "0cbb9383-c9ce-4229-aede-90ba461674b6",
   "metadata": {},
   "outputs": [
    {
     "data": {
      "text/html": [
       "<div id=\"b2f7e964-3449-4e1e-9b2d-8fde2251c86b\" style=\"height: auto; width:100%;\"></div>"
      ],
      "text/plain": [
       "<IPython.core.display.HTML object>"
      ]
     },
     "metadata": {},
     "output_type": "display_data"
    },
    {
     "data": {
      "text/html": [
       "\n",
       "        <script src=\"/static/components/requirejs/require.js\"></script> <!-- Needed in Colab -->\n",
       "        <script>\n",
       "            require([\"https://rawgit.com/caldwell/renderjson/master/renderjson.js\"], function() {\n",
       "              renderjson.set_show_to_level(1)\n",
       "              document.getElementById('b2f7e964-3449-4e1e-9b2d-8fde2251c86b').appendChild(renderjson(61))\n",
       "            });\n",
       "        </script>\n",
       "    "
      ],
      "text/plain": [
       "<IPython.core.display.HTML object>"
      ]
     },
     "metadata": {},
     "output_type": "display_data"
    }
   ],
   "source": [
    "covs = covariates.addBands([S2VI, L8VI, L9VI]).select(features)\n",
    "eeprint(covs.bandNames().size())"
   ]
  },
  {
   "cell_type": "code",
   "execution_count": 44,
   "id": "69a04db9-248f-4341-8c33-b6421fc8ce15",
   "metadata": {
    "collapsed": true,
    "jupyter": {
     "outputs_hidden": true
    },
    "tags": []
   },
   "outputs": [
    {
     "name": "stderr",
     "output_type": "stream",
     "text": [
      "Consider adjusting `region`, `scale` and/or `dtype` to reduce the conservancy2_10m_61fts.tif download size (raw: 16.50 GB).\n"
     ]
    },
    {
     "data": {
      "application/vnd.jupyter.widget-view+json": {
       "model_id": "c418ba5a69144412bb3277ea1485eded",
       "version_major": 2,
       "version_minor": 0
      },
      "text/plain": [
       "conservancy2_10m_61fts.tif: |                                         | 0.00/16.5G (raw) [  0.0%] in 00:00 (et…"
      ]
     },
     "metadata": {},
     "output_type": "display_data"
    },
    {
     "ename": "OSError",
     "evalue": "Error downloading tile: User memory limit exceeded.\nThe `max_tile_size` or `max_tile_dim` parameters can be decreased to work around this error.",
     "output_type": "error",
     "traceback": [
      "\u001b[1;31m---------------------------------------------------------------------------\u001b[0m",
      "\u001b[1;31mOSError\u001b[0m                                   Traceback (most recent call last)",
      "Input \u001b[1;32mIn [44]\u001b[0m, in \u001b[0;36m<cell line: 6>\u001b[1;34m()\u001b[0m\n\u001b[0;32m      4\u001b[0m aoi \u001b[38;5;241m=\u001b[39m ee\u001b[38;5;241m.\u001b[39mFeatureCollection(\u001b[38;5;124m\"\u001b[39m\u001b[38;5;124musers/geethensingh/NS/Boundary\u001b[39m\u001b[38;5;124m\"\u001b[39m)\u001b[38;5;241m.\u001b[39mgeometry()\u001b[38;5;241m.\u001b[39mbuffer(\u001b[38;5;241m10000\u001b[39m)\u001b[38;5;241m.\u001b[39mbounds()\n\u001b[0;32m      5\u001b[0m filename \u001b[38;5;241m=\u001b[39m Path(\u001b[38;5;124m'\u001b[39m\u001b[38;5;124mC:/Users/coach/myfiles/conservation/data/biomass_results/added_covs/conservancy2_10m_61fts.tif\u001b[39m\u001b[38;5;124m'\u001b[39m)\n\u001b[1;32m----> 6\u001b[0m \u001b[43mBaseImage\u001b[49m\u001b[43m(\u001b[49m\u001b[43mcovs\u001b[49m\u001b[43m)\u001b[49m\u001b[38;5;241;43m.\u001b[39;49m\u001b[43mdownload\u001b[49m\u001b[43m(\u001b[49m\u001b[43mfilename\u001b[49m\u001b[43m,\u001b[49m\u001b[43m \u001b[49m\u001b[43mcrs\u001b[49m\u001b[38;5;241;43m=\u001b[39;49m\u001b[38;5;124;43m'\u001b[39;49m\u001b[38;5;124;43mEPSG:4326\u001b[39;49m\u001b[38;5;124;43m'\u001b[39;49m\u001b[43m,\u001b[49m\u001b[43m \u001b[49m\u001b[43mregion\u001b[49m\u001b[38;5;241;43m=\u001b[39;49m\u001b[43m \u001b[49m\u001b[43maoi\u001b[49m\u001b[43m,\u001b[49m\u001b[43m \u001b[49m\u001b[43mscale\u001b[49m\u001b[38;5;241;43m=\u001b[39;49m\u001b[38;5;241;43m10\u001b[39;49m\u001b[43m,\u001b[49m\u001b[43m \u001b[49m\u001b[43moverwrite\u001b[49m\u001b[38;5;241;43m=\u001b[39;49m\u001b[38;5;28;43;01mTrue\u001b[39;49;00m\u001b[43m,\u001b[49m\u001b[43m \u001b[49m\u001b[43mnum_threads\u001b[49m\u001b[38;5;241;43m=\u001b[39;49m\u001b[38;5;241;43m20\u001b[39;49m\u001b[43m,\u001b[49m\u001b[43m \u001b[49m\u001b[43mdtype\u001b[49m\u001b[38;5;241;43m=\u001b[39;49m\u001b[43m \u001b[49m\u001b[38;5;124;43m'\u001b[39;49m\u001b[38;5;124;43mfloat64\u001b[39;49m\u001b[38;5;124;43m'\u001b[39;49m\u001b[43m)\u001b[49m\n",
      "File \u001b[1;32mC:\\ProgramData\\Anaconda3\\envs\\erthy\\lib\\site-packages\\geedim\\download.py:896\u001b[0m, in \u001b[0;36mBaseImage.download\u001b[1;34m(self, filename, overwrite, num_threads, max_tile_size, max_tile_dim, **kwargs)\u001b[0m\n\u001b[0;32m    894\u001b[0m         logger\u001b[38;5;241m.\u001b[39minfo(\u001b[38;5;124mf\u001b[39m\u001b[38;5;124m'\u001b[39m\u001b[38;5;124mException: \u001b[39m\u001b[38;5;132;01m{\u001b[39;00m\u001b[38;5;28mstr\u001b[39m(ex)\u001b[38;5;132;01m}\u001b[39;00m\u001b[38;5;130;01m\\n\u001b[39;00m\u001b[38;5;124mCancelling...\u001b[39m\u001b[38;5;124m'\u001b[39m)\n\u001b[0;32m    895\u001b[0m         executor\u001b[38;5;241m.\u001b[39mshutdown(wait\u001b[38;5;241m=\u001b[39m\u001b[38;5;28;01mFalse\u001b[39;00m)\n\u001b[1;32m--> 896\u001b[0m         \u001b[38;5;28;01mraise\u001b[39;00m ex\n\u001b[0;32m    898\u001b[0m bar\u001b[38;5;241m.\u001b[39mupdate(bar\u001b[38;5;241m.\u001b[39mtotal \u001b[38;5;241m-\u001b[39m bar\u001b[38;5;241m.\u001b[39mn)   \u001b[38;5;66;03m# ensure the bar reaches 100%\u001b[39;00m\n\u001b[0;32m    899\u001b[0m \u001b[38;5;66;03m# populate GeoTIFF metadata and build overviews\u001b[39;00m\n",
      "File \u001b[1;32mC:\\ProgramData\\Anaconda3\\envs\\erthy\\lib\\site-packages\\geedim\\download.py:892\u001b[0m, in \u001b[0;36mBaseImage.download\u001b[1;34m(self, filename, overwrite, num_threads, max_tile_size, max_tile_dim, **kwargs)\u001b[0m\n\u001b[0;32m    890\u001b[0m \u001b[38;5;28;01mtry\u001b[39;00m:\n\u001b[0;32m    891\u001b[0m     \u001b[38;5;28;01mfor\u001b[39;00m future \u001b[38;5;129;01min\u001b[39;00m as_completed(futures):\n\u001b[1;32m--> 892\u001b[0m         \u001b[43mfuture\u001b[49m\u001b[38;5;241;43m.\u001b[39;49m\u001b[43mresult\u001b[49m\u001b[43m(\u001b[49m\u001b[43m)\u001b[49m\n\u001b[0;32m    893\u001b[0m \u001b[38;5;28;01mexcept\u001b[39;00m \u001b[38;5;167;01mException\u001b[39;00m \u001b[38;5;28;01mas\u001b[39;00m ex:\n\u001b[0;32m    894\u001b[0m     logger\u001b[38;5;241m.\u001b[39minfo(\u001b[38;5;124mf\u001b[39m\u001b[38;5;124m'\u001b[39m\u001b[38;5;124mException: \u001b[39m\u001b[38;5;132;01m{\u001b[39;00m\u001b[38;5;28mstr\u001b[39m(ex)\u001b[38;5;132;01m}\u001b[39;00m\u001b[38;5;130;01m\\n\u001b[39;00m\u001b[38;5;124mCancelling...\u001b[39m\u001b[38;5;124m'\u001b[39m)\n",
      "File \u001b[1;32mC:\\ProgramData\\Anaconda3\\envs\\erthy\\lib\\concurrent\\futures\\_base.py:439\u001b[0m, in \u001b[0;36mFuture.result\u001b[1;34m(self, timeout)\u001b[0m\n\u001b[0;32m    437\u001b[0m     \u001b[38;5;28;01mraise\u001b[39;00m CancelledError()\n\u001b[0;32m    438\u001b[0m \u001b[38;5;28;01melif\u001b[39;00m \u001b[38;5;28mself\u001b[39m\u001b[38;5;241m.\u001b[39m_state \u001b[38;5;241m==\u001b[39m FINISHED:\n\u001b[1;32m--> 439\u001b[0m     \u001b[38;5;28;01mreturn\u001b[39;00m \u001b[38;5;28;43mself\u001b[39;49m\u001b[38;5;241;43m.\u001b[39;49m\u001b[43m__get_result\u001b[49m\u001b[43m(\u001b[49m\u001b[43m)\u001b[49m\n\u001b[0;32m    441\u001b[0m \u001b[38;5;28mself\u001b[39m\u001b[38;5;241m.\u001b[39m_condition\u001b[38;5;241m.\u001b[39mwait(timeout)\n\u001b[0;32m    443\u001b[0m \u001b[38;5;28;01mif\u001b[39;00m \u001b[38;5;28mself\u001b[39m\u001b[38;5;241m.\u001b[39m_state \u001b[38;5;129;01min\u001b[39;00m [CANCELLED, CANCELLED_AND_NOTIFIED]:\n",
      "File \u001b[1;32mC:\\ProgramData\\Anaconda3\\envs\\erthy\\lib\\concurrent\\futures\\_base.py:391\u001b[0m, in \u001b[0;36mFuture.__get_result\u001b[1;34m(self)\u001b[0m\n\u001b[0;32m    389\u001b[0m \u001b[38;5;28;01mif\u001b[39;00m \u001b[38;5;28mself\u001b[39m\u001b[38;5;241m.\u001b[39m_exception:\n\u001b[0;32m    390\u001b[0m     \u001b[38;5;28;01mtry\u001b[39;00m:\n\u001b[1;32m--> 391\u001b[0m         \u001b[38;5;28;01mraise\u001b[39;00m \u001b[38;5;28mself\u001b[39m\u001b[38;5;241m.\u001b[39m_exception\n\u001b[0;32m    392\u001b[0m     \u001b[38;5;28;01mfinally\u001b[39;00m:\n\u001b[0;32m    393\u001b[0m         \u001b[38;5;66;03m# Break a reference cycle with the exception in self._exception\u001b[39;00m\n\u001b[0;32m    394\u001b[0m         \u001b[38;5;28mself\u001b[39m \u001b[38;5;241m=\u001b[39m \u001b[38;5;28;01mNone\u001b[39;00m\n",
      "File \u001b[1;32mC:\\ProgramData\\Anaconda3\\envs\\erthy\\lib\\concurrent\\futures\\thread.py:58\u001b[0m, in \u001b[0;36m_WorkItem.run\u001b[1;34m(self)\u001b[0m\n\u001b[0;32m     55\u001b[0m     \u001b[38;5;28;01mreturn\u001b[39;00m\n\u001b[0;32m     57\u001b[0m \u001b[38;5;28;01mtry\u001b[39;00m:\n\u001b[1;32m---> 58\u001b[0m     result \u001b[38;5;241m=\u001b[39m \u001b[38;5;28mself\u001b[39m\u001b[38;5;241m.\u001b[39mfn(\u001b[38;5;241m*\u001b[39m\u001b[38;5;28mself\u001b[39m\u001b[38;5;241m.\u001b[39margs, \u001b[38;5;241m*\u001b[39m\u001b[38;5;241m*\u001b[39m\u001b[38;5;28mself\u001b[39m\u001b[38;5;241m.\u001b[39mkwargs)\n\u001b[0;32m     59\u001b[0m \u001b[38;5;28;01mexcept\u001b[39;00m \u001b[38;5;167;01mBaseException\u001b[39;00m \u001b[38;5;28;01mas\u001b[39;00m exc:\n\u001b[0;32m     60\u001b[0m     \u001b[38;5;28mself\u001b[39m\u001b[38;5;241m.\u001b[39mfuture\u001b[38;5;241m.\u001b[39mset_exception(exc)\n",
      "File \u001b[1;32mC:\\ProgramData\\Anaconda3\\envs\\erthy\\lib\\site-packages\\geedim\\download.py:882\u001b[0m, in \u001b[0;36mBaseImage.download.<locals>.download_tile\u001b[1;34m(tile)\u001b[0m\n\u001b[0;32m    880\u001b[0m \u001b[38;5;28;01mdef\u001b[39;00m \u001b[38;5;21mdownload_tile\u001b[39m(tile):\n\u001b[0;32m    881\u001b[0m     \u001b[38;5;124;03m\"\"\"Download a tile and write into the destination GeoTIFF. \"\"\"\u001b[39;00m\n\u001b[1;32m--> 882\u001b[0m     tile_array \u001b[38;5;241m=\u001b[39m \u001b[43mtile\u001b[49m\u001b[38;5;241;43m.\u001b[39;49m\u001b[43mdownload\u001b[49m\u001b[43m(\u001b[49m\u001b[43msession\u001b[49m\u001b[38;5;241;43m=\u001b[39;49m\u001b[43msession\u001b[49m\u001b[43m,\u001b[49m\u001b[43m \u001b[49m\u001b[43mbar\u001b[49m\u001b[38;5;241;43m=\u001b[39;49m\u001b[43mbar\u001b[49m\u001b[43m)\u001b[49m\n\u001b[0;32m    883\u001b[0m     \u001b[38;5;28;01mwith\u001b[39;00m out_lock:\n\u001b[0;32m    884\u001b[0m         out_ds\u001b[38;5;241m.\u001b[39mwrite(tile_array, window\u001b[38;5;241m=\u001b[39mtile\u001b[38;5;241m.\u001b[39mwindow)\n",
      "File \u001b[1;32mC:\\ProgramData\\Anaconda3\\envs\\erthy\\lib\\site-packages\\geedim\\tile.py:107\u001b[0m, in \u001b[0;36mTile.download\u001b[1;34m(self, session, response, bar)\u001b[0m\n\u001b[0;32m    105\u001b[0m     \u001b[38;5;28;01melse\u001b[39;00m:\n\u001b[0;32m    106\u001b[0m         ex_msg \u001b[38;5;241m=\u001b[39m \u001b[38;5;28mstr\u001b[39m(response\u001b[38;5;241m.\u001b[39mjson())\n\u001b[1;32m--> 107\u001b[0m     \u001b[38;5;28;01mraise\u001b[39;00m \u001b[38;5;167;01mIOError\u001b[39;00m(ex_msg)\n\u001b[0;32m    109\u001b[0m \u001b[38;5;66;03m# download zip into buffer\u001b[39;00m\n\u001b[0;32m    110\u001b[0m zip_buffer \u001b[38;5;241m=\u001b[39m BytesIO()\n",
      "\u001b[1;31mOSError\u001b[0m: Error downloading tile: User memory limit exceeded.\nThe `max_tile_size` or `max_tile_dim` parameters can be decreased to work around this error."
     ]
    }
   ],
   "source": [
    "# download from gee directly to local drive\n",
    "# If this fails, export to asset first\n",
    "\n",
    "aoi = ee.FeatureCollection(\"users/geethensingh/NS/Boundary\").geometry().buffer(10000).bounds()\n",
    "filename = Path('C:/Users/coach/myfiles/conservation/data/biomass_results/added_covs/conservancy2_10m_61fts.tif')\n",
    "BaseImage(covs).download(filename, crs='EPSG:4326', region= aoi, scale=10, overwrite=True, num_threads=20, dtype= 'float64')"
   ]
  },
  {
   "cell_type": "code",
   "execution_count": 48,
   "id": "d4056281-b545-4042-9165-4f7f8a385dca",
   "metadata": {},
   "outputs": [],
   "source": [
    "#Alternatively export image to assets first then export to drive/download via geedim\n",
    "task = ee.batch.Export.image.toAsset(**{'image':covs, 'description': 'conservancy_61', 'assetId':'users/geethensingh/conservancy_10m_61v', 'region': aoi, 'scale': 10, 'maxPixels': 1e13})\n",
    "task.start()"
   ]
  },
  {
   "cell_type": "code",
   "execution_count": 50,
   "id": "56b9c0da-9464-4b58-a7f0-df9e860804b8",
   "metadata": {},
   "outputs": [
    {
     "data": {
      "text/plain": [
       "{'state': 'COMPLETED',\n",
       " 'description': 'conservancy_61',\n",
       " 'creation_timestamp_ms': 1668059736384,\n",
       " 'update_timestamp_ms': 1668062132534,\n",
       " 'start_timestamp_ms': 1668059760642,\n",
       " 'task_type': 'EXPORT_IMAGE',\n",
       " 'destination_uris': ['https://code.earthengine.google.com/?asset=projects/earthengine-legacy/assets/users/geethensingh/conservancy_10m_61v'],\n",
       " 'attempt': 1,\n",
       " 'batch_eecu_usage_seconds': 433049,\n",
       " 'id': 'KNVSRUK4MCDSD736JC3WNVPA',\n",
       " 'name': 'projects/earthengine-legacy/operations/KNVSRUK4MCDSD736JC3WNVPA'}"
      ]
     },
     "execution_count": 50,
     "metadata": {},
     "output_type": "execute_result"
    }
   ],
   "source": [
    "task.status()"
   ]
  },
  {
   "cell_type": "code",
   "execution_count": 6,
   "id": "e37d8b19-e840-459e-81c6-60e8fdb6dfb7",
   "metadata": {
    "tags": []
   },
   "outputs": [
    {
     "name": "stderr",
     "output_type": "stream",
     "text": [
      "Consider adjusting `region`, `scale` and/or `dtype` to reduce the conservancy2_10m_61fts.tif download size (raw: 16.50 GB).\n"
     ]
    },
    {
     "data": {
      "application/vnd.jupyter.widget-view+json": {
       "model_id": "1f4a2962de2e4a23a2a576ad6b5f0c7c",
       "version_major": 2,
       "version_minor": 0
      },
      "text/plain": [
       "conservancy2_10m_61fts.tif: |                                         | 0.00/16.5G (raw) [  0.0%] in 00:00 (et…"
      ]
     },
     "metadata": {},
     "output_type": "display_data"
    },
    {
     "name": "stderr",
     "output_type": "stream",
     "text": [
      "There is no STAC entry for: users/geethensingh/conservancy_10m_61v\n"
     ]
    }
   ],
   "source": [
    "img = ee.Image('users/geethensingh/conservancy_10m_61v')\n",
    "aoi = ee.FeatureCollection(\"users/geethensingh/NS/Boundary\").geometry().buffer(10000).bounds()\n",
    "filename = Path('C:/Users/coach/myfiles/conservation/data/biomass_results/added_covs/conservancy2_10m_61fts.tif')\n",
    "BaseImage(img).download(filename, crs='EPSG:4326', region= aoi, scale=10, overwrite=True, num_threads=20)"
   ]
  },
  {
   "cell_type": "markdown",
   "id": "b3e73d24-7dbe-4fed-8c1c-576ca7b8f570",
   "metadata": {},
   "source": [
    "## 6. Extract variables for field site exploration"
   ]
  },
  {
   "cell_type": "code",
   "execution_count": 5,
   "id": "31a84617-91a7-4ad7-965a-0fec45fb540b",
   "metadata": {
    "tags": []
   },
   "outputs": [
    {
     "data": {
      "application/vnd.jupyter.widget-view+json": {
       "model_id": "ec5c002d55714e92948ba6b2043104cc",
       "version_major": 2,
       "version_minor": 0
      },
      "text/plain": [
       "Map(center=[20, 0], controls=(WidgetControl(options=['position', 'transparent_bg'], widget=HBox(children=(Togg…"
      ]
     },
     "execution_count": 5,
     "metadata": {},
     "output_type": "execute_result"
    }
   ],
   "source": [
    "from geedim.download import BaseImage\n",
    "from pathlib import Path\n",
    "from tqdm import tqdm\n",
    "import ee\n",
    "import geemap\n",
    "\n",
    "aoi = ee.FeatureCollection(\"users/geethensingh/NS/Boundary\").geometry().buffer(10000).bounds()\n",
    "Map = geemap.Map()\n",
    "Map.addLayer(aoi)\n",
    "Map"
   ]
  },
  {
   "cell_type": "code",
   "execution_count": 8,
   "id": "8e967510-0167-462d-aeb7-7fd976106197",
   "metadata": {
    "tags": []
   },
   "outputs": [
    {
     "name": "stderr",
     "output_type": "stream",
     "text": [
      "Consider adjusting `region`, `scale` and/or `dtype` to reduce the Conservancy_4covs_Nicky.tif download size (raw: 1.08 GB).\n"
     ]
    },
    {
     "data": {
      "application/vnd.jupyter.widget-view+json": {
       "model_id": "234dbc94841e4260ba6055962ae4cc61",
       "version_major": 2,
       "version_minor": 0
      },
      "text/plain": [
       "Conservancy_4covs_Nicky.tif: |                                        | 0.00/1.08G (raw) [  0.0%] in 00:00 (et…"
      ]
     },
     "metadata": {},
     "output_type": "display_data"
    },
    {
     "name": "stderr",
     "output_type": "stream",
     "text": [
      "There is no STAC entry for: None\n"
     ]
    }
   ],
   "source": [
    "# worldcover\n",
    "lc = ee.ImageCollection(\"ESA/WorldCover/v100\").filterBounds(aoi).mosaic().rename('worldcover')\n",
    "\n",
    "# brandt\n",
    "\n",
    "tree_canopy = ee.ImageCollection('projects/wri-datalab/TML').filterBounds(aoi).mosaic().rename('tree_canopy')\n",
    "# rainfall\n",
    "years = list(range(2016,2021))\n",
    "\n",
    "precipitation = ee.ImageCollection(\"UCSB-CHG/CHIRPS/DAILY\").filterBounds(aoi)  \n",
    "precipitation = ee.Image(ee.ImageCollection(ee.List(years).map(lambda year: precipitation\\\n",
    ".filterDate(ee.Number(year).format(), ee.Number(year).add(1).format()).sum())).mean().rename('mm_precipitation')) \n",
    "\n",
    "# height\n",
    "dsm = ee.ImageCollection(\"projects/sat-io/open-datasets/GLO-30\").filterBounds(aoi).mosaic().rename('dsm')\n",
    "\n",
    "data = lc.addBands([tree_canopy, precipitation, dsm])\n",
    "filename = Path('C:/Users/coach/myfiles/conservation/data/Conservancy_4covs_Nicky.tif')\n",
    "BaseImage(data).download(filename, crs='EPSG:4326', region= aoi, scale=10, overwrite=True, num_threads=20, dtype= 'float64')"
   ]
  },
  {
   "cell_type": "markdown",
   "id": "c6c130fe-1903-462e-9d72-88e35221b569",
   "metadata": {},
   "source": [
    "## 7. Extract variables for SOC field site exploration"
   ]
  },
  {
   "cell_type": "code",
   "execution_count": 4,
   "id": "6cef175a-bf0a-49fd-9f26-9d36717e7fec",
   "metadata": {
    "tags": []
   },
   "outputs": [
    {
     "data": {
      "text/html": [
       "<p>To authorize access needed by Earth Engine, open the following\n",
       "        URL in a web browser and follow the instructions:</p>\n",
       "        <p><a href=https://code.earthengine.google.com/client-auth?scopes=https%3A//www.googleapis.com/auth/earthengine%20https%3A//www.googleapis.com/auth/devstorage.full_control&request_id=EPBSTIuMEGIJGQqDnDlIVUMaTdD49R1LK3yDHVYDqXM&tc=fSRrCbuqLoC12keNAFDr8Y3f4X6kD7yqc6VdT23ckkk&cc=AYSvYNE-uArfSSliI-dYDcWEM5XgGupAO3H_e9Aa4KI>https://code.earthengine.google.com/client-auth?scopes=https%3A//www.googleapis.com/auth/earthengine%20https%3A//www.googleapis.com/auth/devstorage.full_control&request_id=EPBSTIuMEGIJGQqDnDlIVUMaTdD49R1LK3yDHVYDqXM&tc=fSRrCbuqLoC12keNAFDr8Y3f4X6kD7yqc6VdT23ckkk&cc=AYSvYNE-uArfSSliI-dYDcWEM5XgGupAO3H_e9Aa4KI</a></p>\n",
       "        <p>The authorization workflow will generate a code, which you should paste in the box below.</p>\n",
       "        "
      ],
      "text/plain": [
       "<IPython.core.display.HTML object>"
      ]
     },
     "metadata": {},
     "output_type": "display_data"
    },
    {
     "name": "stdin",
     "output_type": "stream",
     "text": [
      "Enter verification code:  4/1AfgeXvvP045z3j6AlyIb42yMbjDsvhcmuofeCiCR4bGXmllfdkjd_9PSSyM\n"
     ]
    },
    {
     "name": "stdout",
     "output_type": "stream",
     "text": [
      "\n",
      "Successfully saved authorization token.\n"
     ]
    },
    {
     "data": {
      "application/vnd.jupyter.widget-view+json": {
       "model_id": "7e605c114c9e4255960056f482dd064a",
       "version_major": 2,
       "version_minor": 0
      },
      "text/plain": [
       "Map(center=[20, 0], controls=(WidgetControl(options=['position', 'transparent_bg'], widget=HBox(children=(Togg…"
      ]
     },
     "execution_count": 4,
     "metadata": {},
     "output_type": "execute_result"
    }
   ],
   "source": [
    "from geedim.download import BaseImage\n",
    "from pathlib import Path\n",
    "from tqdm import tqdm\n",
    "import ee\n",
    "import geemap, eerepr\n",
    "ee.Authenticate()\n",
    "ee.Initialize()\n",
    "\n",
    "\n",
    "aoi = ee.FeatureCollection(\"users/geethensingh/NS/Boundary\").geometry().buffer(10000).bounds()\n",
    "Map = geemap.Map()\n",
    "Map.addLayer(aoi)\n",
    "Map"
   ]
  },
  {
   "cell_type": "code",
   "execution_count": 11,
   "id": "b5213afd-879b-4d16-902a-be623022432a",
   "metadata": {
    "tags": []
   },
   "outputs": [
    {
     "name": "stderr",
     "output_type": "stream",
     "text": [
      "Consider adjusting `region`, `scale` and/or `dtype` to reduce the Conservancy_SOCcovs.tif download size (raw: 3.79 GB).\n"
     ]
    },
    {
     "data": {
      "application/vnd.jupyter.widget-view+json": {
       "model_id": "82c322cc4a5a4ee488c375f041c8b787",
       "version_major": 2,
       "version_minor": 0
      },
      "text/plain": [
       "Conservancy_SOCcovs.tif: |                                            | 0.00/3.79G (raw) [  0.0%] in 00:00 (et…"
      ]
     },
     "metadata": {},
     "output_type": "display_data"
    },
    {
     "name": "stderr",
     "output_type": "stream",
     "text": [
      "There is no STAC entry for: None\n"
     ]
    }
   ],
   "source": [
    "# worldcover\n",
    "lc = ee.ImageCollection(\"ESA/WorldCover/v100\").filterBounds(aoi).mosaic().rename('worldcover')\n",
    "\n",
    "# tree canopy height (lang)\n",
    "canopy_height = ee.Image(\"users/nlang/ETH_GlobalCanopyHeight_2020_10m_v1\").rename('lang_CHM')\n",
    "\n",
    "# rainfall\n",
    "years = list(range(2016,2021))\n",
    "precipitation = ee.ImageCollection(\"UCSB-CHG/CHIRPS/DAILY\").filterBounds(aoi)  \n",
    "precipitation = ee.Image(ee.ImageCollection(ee.List(years).map(lambda year: precipitation\\\n",
    ".filterDate(ee.Number(year).format(), ee.Number(year).add(1).format()).sum())).mean().rename('mm_precipitation')) \n",
    "\n",
    "# height\n",
    "dtm = ee.ImageCollection(\"projects/sat-io/open-datasets/FABDEM\").filterBounds(aoi).mosaic().rename('dtm')\n",
    "\n",
    "# Net Primary Productivity\n",
    "NPP = ee.ImageCollection('FAO/WAPOR/2/L1_NPP_D').filterBounds(aoi).mosaic().divide(1000).rename('NPP')\n",
    "\n",
    "# bare surface frequency\n",
    "bare_frequency = ee.Image('users/geocis/BareSurfaces/BF_1980_2019').rename('bare_freq')\n",
    "\n",
    "# Catttle grazing density\n",
    "cattle_grazing = ee.Image('projects/ee-geethensingh/assets/GrazingDensity/5_Ct_2010_Da').rename('cattle_grazing')\n",
    "\n",
    "# Topographic diversity\n",
    "TD = ee.Image(\"CSP/ERGo/1_0/Global/SRTM_topoDiversity\").rename('topo_diversity')\n",
    "\n",
    "# MODIS NIght temperature\n",
    "startDate = '2016-01-01'\n",
    "endDate = '2021-01-01'\n",
    "temp = ee.ImageCollection(\"MODIS/061/MOD11A1\").filterBounds(aoi).filterDate(startDate, endDate)\\\n",
    ".select('LST_Night_1km').mean().rename('night_temp')\n",
    "\n",
    "# NDVI\n",
    "ndvi = ee.ImageCollection(\"MODIS/061/MOD13Q1\").filterBounds(aoi).filterDate(startDate, endDate)\\\n",
    ".select('NDVI').mean().rename('ndvi')\n",
    "\n",
    "# sand content\n",
    "sand_content = ee.Image(\"projects/sat-io/open-datasets/iSDAsoil_Africa_30m/sand_content\")\\\n",
    ".regexpRename('$', '_sand_content')\n",
    "\n",
    "data = lc.addBands([canopy_height, precipitation, dtm, NPP, bare_frequency, cattle_grazing, TD, temp, ndvi, sand_content])\n",
    "data.bandNames()\n",
    "\n",
    "filename = Path('C:/Users/coach/myfiles/conservation/data/Conservancy_SOCcovs.tif')\n",
    "BaseImage(data).download(filename, crs='EPSG:4326', region= aoi, scale=10, overwrite=True, num_threads=20, dtype= 'float64')"
   ]
  },
  {
   "cell_type": "code",
   "execution_count": null,
   "id": "cdaf3397-a4a5-4534-8806-65bb30754670",
   "metadata": {},
   "outputs": [],
   "source": []
  }
 ],
 "metadata": {
  "kernelspec": {
   "display_name": "erty",
   "language": "python",
   "name": "erty"
  },
  "language_info": {
   "codemirror_mode": {
    "name": "ipython",
    "version": 3
   },
   "file_extension": ".py",
   "mimetype": "text/x-python",
   "name": "python",
   "nbconvert_exporter": "python",
   "pygments_lexer": "ipython3",
   "version": "3.9.12"
  }
 },
 "nbformat": 4,
 "nbformat_minor": 5
}
